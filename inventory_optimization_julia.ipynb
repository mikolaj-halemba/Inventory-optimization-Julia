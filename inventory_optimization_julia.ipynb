{
 "cells": [
  {
   "cell_type": "code",
   "execution_count": 1,
   "metadata": {},
   "outputs": [
    {
     "data": {
      "text/html": [
       "<style>.container { width:100% !important; }</style>"
      ]
     },
     "metadata": {},
     "output_type": "display_data"
    }
   ],
   "source": [
    "display(\"text/html\", \"<style>.container { width:100% !important; }</style>\")"
   ]
  },
  {
   "cell_type": "code",
   "execution_count": 2,
   "metadata": {},
   "outputs": [
    {
     "data": {
      "text/plain": [
       "TaskLocalRNG()"
      ]
     },
     "execution_count": 2,
     "metadata": {},
     "output_type": "execute_result"
    }
   ],
   "source": [
    "using Random, Distributions, Statistics, DataFrames, VegaLite, Plots\n",
    "Random.seed!(10)"
   ]
  },
  {
   "cell_type": "code",
   "execution_count": 3,
   "metadata": {},
   "outputs": [
    {
     "data": {
      "text/plain": [
       "simulateOneRun (generic function with 1 method)"
      ]
     },
     "execution_count": 3,
     "metadata": {},
     "output_type": "execute_result"
    }
   ],
   "source": [
    "using Random\n",
    "using Distributions\n",
    "using Statistics\n",
    "# m - number of days\n",
    "# s - reorder point\n",
    "# S - target warehouse volume\n",
    "function simulateOneRun(m, s, S;\n",
    "    h = 0.1, #storage cost\n",
    "    c = 4.0, #unit profit\n",
    "    p = 0.75, #probability of delivery\n",
    "    K = 100, # fixed order cost\n",
    "    k = 1.0, # variable order cost\n",
    "    init_S = 100, #initial warehouse level\n",
    "    average_demand = 20)\n",
    "    Xⱼ = init_S\n",
    "    local Yj\n",
    "    profit = 0.0\n",
    "    lost_orders = 0.0\n",
    "    warehouse_levels = Int[]\n",
    "    #pois = Distributions.Poisson(average_demand)\n",
    "    normal=Distributions.Normal(average_demand,5)\n",
    "    for day in 1:m\n",
    "        if Xⱼ < s\n",
    "            if rand() < p\n",
    "                profit -= K + (S-Xⱼ)*k\n",
    "                Xⱼ = S\n",
    "            end\n",
    "        end\n",
    "        push!(warehouse_levels, Xⱼ)\n",
    "        demand = round.(Int, rand(normal))\n",
    "        sales = min(Xⱼ, demand)\n",
    "        Xⱼ -= sales\n",
    "        @assert Xⱼ >= 0\n",
    "        lost_order = demand - sales # failed to provide  \n",
    "        @assert lost_order >= 0 \n",
    "        profit += sales*c - (Xⱼ-sales)*h  # storage costs\n",
    "        lost_orders += lost_order\n",
    "    end\n",
    "    \n",
    "    (profit=profit, lost_orders=lost_orders,\n",
    "        warehouse_levels=warehouse_levels)\n",
    "end"
   ]
  },
  {
   "cell_type": "code",
   "execution_count": 5,
   "metadata": {},
   "outputs": [
    {
     "data": {
      "text/plain": [
       "run_sims (generic function with 2 methods)"
      ]
     },
     "execution_count": 5,
     "metadata": {},
     "output_type": "execute_result"
    }
   ],
   "source": [
    "function run_sims(m,s,S,N=100)\n",
    "    df = DataFrame(simulateOneRun(m,s,S) for n in 1:N)\n",
    "    (\n",
    "        m=m,\n",
    "        s=s,\n",
    "        S=S,\n",
    "        N=N,\n",
    "        profit_mean = mean(df.profit),\n",
    "        profit_std = std(df.profit),\n",
    "        lost_mean = mean(df.lost_orders),\n",
    "        lost_std = std(df.lost_orders)\n",
    "    )\n",
    "end"
   ]
  },
  {
   "cell_type": "code",
   "execution_count": 6,
   "metadata": {},
   "outputs": [
    {
     "data": {
      "text/html": [
       "<div><div style = \"float: left;\"><span>DataFrameRow (8 columns)</span></div><div style = \"clear: both;\"></div></div><div class = \"data-frame\" style = \"overflow-x: scroll;\"><table class = \"data-frame\" style = \"margin-bottom: 6px;\"><thead><tr class = \"header\"><th class = \"rowLabel\" style = \"font-weight: bold; text-align: right;\">Row</th><th style = \"text-align: left;\">m</th><th style = \"text-align: left;\">s</th><th style = \"text-align: left;\">S</th><th style = \"text-align: left;\">N</th><th style = \"text-align: left;\">profit_mean</th><th style = \"text-align: left;\">profit_std</th><th style = \"text-align: left;\">lost_mean</th><th style = \"text-align: left;\">lost_std</th></tr><tr class = \"subheader headerLastRow\"><th class = \"rowLabel\" style = \"font-weight: bold; text-align: right;\"></th><th title = \"Int64\" style = \"text-align: left;\">Int64</th><th title = \"Int64\" style = \"text-align: left;\">Int64</th><th title = \"Int64\" style = \"text-align: left;\">Int64</th><th title = \"Int64\" style = \"text-align: left;\">Int64</th><th title = \"Float64\" style = \"text-align: left;\">Float64</th><th title = \"Float64\" style = \"text-align: left;\">Float64</th><th title = \"Float64\" style = \"text-align: left;\">Float64</th><th title = \"Float64\" style = \"text-align: left;\">Float64</th></tr></thead><tbody><tr><td class = \"rowLabel\" style = \"font-weight: bold; text-align: right;\">12</td><td style = \"text-align: right;\">30</td><td style = \"text-align: right;\">30</td><td style = \"text-align: right;\">200</td><td style = \"text-align: right;\">1000</td><td style = \"text-align: right;\">1275.55</td><td style = \"text-align: right;\">115.325</td><td style = \"text-align: right;\">7.246</td><td style = \"text-align: right;\">13.9784</td></tr></tbody></table></div>"
      ],
      "text/latex": [
       "\\begin{tabular}{r|cccccccc}\n",
       "\t& m & s & S & N & profit\\_mean & profit\\_std & lost\\_mean & lost\\_std\\\\\n",
       "\t\\hline\n",
       "\t& Int64 & Int64 & Int64 & Int64 & Float64 & Float64 & Float64 & Float64\\\\\n",
       "\t\\hline\n",
       "\t12 & 30 & 30 & 200 & 1000 & 1275.55 & 115.325 & 7.246 & 13.9784 \\\\\n",
       "\\end{tabular}\n"
      ],
      "text/plain": [
       "\u001b[1mDataFrameRow\u001b[0m\n",
       "\u001b[1m Row \u001b[0m│\u001b[1m m     \u001b[0m\u001b[1m s     \u001b[0m\u001b[1m S     \u001b[0m\u001b[1m N     \u001b[0m\u001b[1m profit_mean \u001b[0m\u001b[1m profit_std \u001b[0m\u001b[1m lost_mean \u001b[0m\u001b[1m lost_st\u001b[0m ⋯\n",
       "     │\u001b[90m Int64 \u001b[0m\u001b[90m Int64 \u001b[0m\u001b[90m Int64 \u001b[0m\u001b[90m Int64 \u001b[0m\u001b[90m Float64     \u001b[0m\u001b[90m Float64    \u001b[0m\u001b[90m Float64   \u001b[0m\u001b[90m Float64\u001b[0m ⋯\n",
       "─────┼──────────────────────────────────────────────────────────────────────────\n",
       "  12 │    30     30    200   1000      1275.55     115.325      7.246   13.978 ⋯\n",
       "\u001b[36m                                                                1 column omitted\u001b[0m"
      ]
     },
     "execution_count": 6,
     "metadata": {},
     "output_type": "execute_result"
    }
   ],
   "source": [
    "using Random\n",
    "Random.seed!(10)\n",
    "df = DataFrame(run_sims(30,s,S,1000)\n",
    "    for S in 100:100:1000, s in 20:10:50 if S > s )\n",
    "best_row = argmax(df.profit_mean)\n",
    "df[best_row,:]"
   ]
  },
  {
   "cell_type": "code",
   "execution_count": 7,
   "metadata": {},
   "outputs": [
    {
     "data": {
      "application/vnd.vegalite.v4+json": {
       "data": {
        "values": [
         {
          "N": 1000,
          "S": 100,
          "lost_mean": 25.674,
          "lost_std": 24.226817014677405,
          "m": 30,
          "profit_mean": 1152.4156,
          "profit_std": 84.37052175719657,
          "s": 20
         },
         {
          "N": 1000,
          "S": 200,
          "lost_mean": 13.773,
          "lost_std": 18.94741342440903,
          "m": 30,
          "profit_mean": 1257.8688,
          "profit_std": 130.53373595658246,
          "s": 20
         },
         {
          "N": 1000,
          "S": 300,
          "lost_mean": 8.647,
          "lost_std": 14.303740349572484,
          "m": 30,
          "profit_mean": 1209.0417999999995,
          "profit_std": 133.11743493714204,
          "s": 20
         },
         {
          "N": 1000,
          "S": 400,
          "lost_mean": 8.831,
          "lost_std": 15.532987887483616,
          "m": 30,
          "profit_mean": 868.2480000000002,
          "profit_std": 104.3348470853162,
          "s": 20
         },
         {
          "N": 1000,
          "S": 500,
          "lost_mean": 6.311,
          "lost_std": 11.716806841565774,
          "m": 30,
          "profit_mean": 894.7227000000001,
          "profit_std": 242.58731628164475,
          "s": 20
         },
         {
          "N": 1000,
          "S": 600,
          "lost_mean": 5.119,
          "lost_std": 11.223225908792879,
          "m": 30,
          "profit_mean": 873.6416000000002,
          "profit_std": 148.76447922713174,
          "s": 20
         },
         {
          "N": 1000,
          "S": 700,
          "lost_mean": 4.432,
          "lost_std": 10.41680785489902,
          "m": 30,
          "profit_mean": 522.3597,
          "profit_std": 145.451646217213,
          "s": 20
         },
         {
          "N": 1000,
          "S": 800,
          "lost_mean": 4.529,
          "lost_std": 10.734355378195064,
          "m": 30,
          "profit_mean": 167.56319999999997,
          "profit_std": 139.32307621254034,
          "s": 20
         },
         {
          "N": 1000,
          "S": 900,
          "lost_mean": 4.482,
          "lost_std": 11.061013607351818,
          "m": 30,
          "profit_mean": -171.27740000000014,
          "profit_std": 143.70375136856168,
          "s": 20
         },
         {
          "N": 1000,
          "S": 1000,
          "lost_mean": 4.879,
          "lost_std": 11.897390760452767,
          "m": 30,
          "profit_mean": -532.6375,
          "profit_std": 139.7926638010829,
          "s": 20
         },
         {
          "N": 1000,
          "S": 100,
          "lost_mean": 15.098,
          "lost_std": 19.621656540807287,
          "m": 30,
          "profit_mean": 1100.8507000000002,
          "profit_std": 87.9031012804709,
          "s": 30
         },
         {
          "N": 1000,
          "S": 200,
          "lost_mean": 7.246,
          "lost_std": 13.978443435550359,
          "m": 30,
          "profit_mean": 1275.5529,
          "profit_std": 115.32461071873352,
          "s": 30
         },
         {
          "N": 1000,
          "S": 300,
          "lost_mean": 5,
          "lost_std": 11.378817050883518,
          "m": 30,
          "profit_mean": 1232.3284,
          "profit_std": 120.59050519582121,
          "s": 30
         },
         {
          "N": 1000,
          "S": 400,
          "lost_mean": 5.009,
          "lost_std": 11.002998908705981,
          "m": 30,
          "profit_mean": 863.6781999999998,
          "profit_std": 107.77515320521891,
          "s": 30
         },
         {
          "N": 1000,
          "S": 500,
          "lost_mean": 3.874,
          "lost_std": 9.059812592112719,
          "m": 30,
          "profit_mean": 774.0006,
          "profit_std": 232.98199769701284,
          "s": 30
         },
         {
          "N": 1000,
          "S": 600,
          "lost_mean": 2.66,
          "lost_std": 9.013303480946352,
          "m": 30,
          "profit_mean": 891.4326,
          "profit_std": 145.45994600965977,
          "s": 30
         },
         {
          "N": 1000,
          "S": 700,
          "lost_mean": 2.354,
          "lost_std": 7.957638343629851,
          "m": 30,
          "profit_mean": 539.4743,
          "profit_std": 145.12638015097642,
          "s": 30
         },
         {
          "N": 1000,
          "S": 800,
          "lost_mean": 2.847,
          "lost_std": 9.365751881632795,
          "m": 30,
          "profit_mean": 176.33979999999997,
          "profit_std": 145.43708564819994,
          "s": 30
         },
         {
          "N": 1000,
          "S": 900,
          "lost_mean": 2.423,
          "lost_std": 8.268520994678518,
          "m": 30,
          "profit_mean": -178.28880000000007,
          "profit_std": 147.16804247963375,
          "s": 30
         },
         {
          "N": 1000,
          "S": 1000,
          "lost_mean": 2.58,
          "lost_std": 8.434378384844893,
          "m": 30,
          "profit_mean": -537.619,
          "profit_std": 135.06689196211005,
          "s": 30
         },
         {
          "N": 1000,
          "S": 100,
          "lost_mean": 8.692,
          "lost_std": 15.020277785205732,
          "m": 30,
          "profit_mean": 1017.1856000000001,
          "profit_std": 91.48823426894658,
          "s": 40
         },
         {
          "N": 1000,
          "S": 200,
          "lost_mean": 3.588,
          "lost_std": 9.45344506640958,
          "m": 30,
          "profit_mean": 1233.8609000000004,
          "profit_std": 110.23141969092603,
          "s": 40
         },
         {
          "N": 1000,
          "S": 300,
          "lost_mean": 2.51,
          "lost_std": 8.275771165781977,
          "m": 30,
          "profit_mean": 1220.7637,
          "profit_std": 123.61025842663018,
          "s": 40
         },
         {
          "N": 1000,
          "S": 400,
          "lost_mean": 2.404,
          "lost_std": 7.313157065608961,
          "m": 30,
          "profit_mean": 865.0230000000003,
          "profit_std": 115.2119324565836,
          "s": 40
         },
         {
          "N": 1000,
          "S": 500,
          "lost_mean": 2.114,
          "lost_std": 6.862951559212997,
          "m": 30,
          "profit_mean": 667.3463,
          "profit_std": 192.66376720469134,
          "s": 40
         },
         {
          "N": 1000,
          "S": 600,
          "lost_mean": 1.302,
          "lost_std": 6.057349873293393,
          "m": 30,
          "profit_mean": 882.5074999999999,
          "profit_std": 148.6639010965313,
          "s": 40
         },
         {
          "N": 1000,
          "S": 700,
          "lost_mean": 1.016,
          "lost_std": 5.195838790873013,
          "m": 30,
          "profit_mean": 536.3671999999999,
          "profit_std": 145.2963321226255,
          "s": 40
         },
         {
          "N": 1000,
          "S": 800,
          "lost_mean": 1.277,
          "lost_std": 5.875780441421871,
          "m": 30,
          "profit_mean": 176.52659999999995,
          "profit_std": 142.86536341781553,
          "s": 40
         },
         {
          "N": 1000,
          "S": 900,
          "lost_mean": 1.158,
          "lost_std": 5.425907894212402,
          "m": 30,
          "profit_mean": -178.7720000000001,
          "profit_std": 139.94222494416158,
          "s": 40
         },
         {
          "N": 1000,
          "S": 1000,
          "lost_mean": 1.199,
          "lost_std": 5.605070545123927,
          "m": 30,
          "profit_mean": -547.1473000000001,
          "profit_std": 143.98390075416899,
          "s": 40
         },
         {
          "N": 1000,
          "S": 100,
          "lost_mean": 5.959,
          "lost_std": 13.413770843735481,
          "m": 30,
          "profit_mean": 905.9940000000001,
          "profit_std": 95.91926881565628,
          "s": 50
         },
         {
          "N": 1000,
          "S": 200,
          "lost_mean": 2.056,
          "lost_std": 7.718707303845796,
          "m": 30,
          "profit_mean": 1151.7005000000001,
          "profit_std": 110.85177700973593,
          "s": 50
         },
         {
          "N": 1000,
          "S": 300,
          "lost_mean": 1.182,
          "lost_std": 6.000740361395823,
          "m": 30,
          "profit_mean": 1128.5233,
          "profit_std": 145.73656738850474,
          "s": 50
         },
         {
          "N": 1000,
          "S": 400,
          "lost_mean": 1.209,
          "lost_std": 5.932833852175327,
          "m": 30,
          "profit_mean": 870.3723,
          "profit_std": 116.60976829052862,
          "s": 50
         },
         {
          "N": 1000,
          "S": 500,
          "lost_mean": 1.151,
          "lost_std": 5.359937306343044,
          "m": 30,
          "profit_mean": 580.0821000000001,
          "profit_std": 135.9271839218297,
          "s": 50
         },
         {
          "N": 1000,
          "S": 600,
          "lost_mean": 0.657,
          "lost_std": 4.820019043902586,
          "m": 30,
          "profit_mean": 855.2013999999999,
          "profit_std": 175.76591118181472,
          "s": 50
         },
         {
          "N": 1000,
          "S": 700,
          "lost_mean": 0.519,
          "lost_std": 3.7552284538681193,
          "m": 30,
          "profit_mean": 545.6914999999999,
          "profit_std": 145.23859820363924,
          "s": 50
         },
         {
          "N": 1000,
          "S": 800,
          "lost_mean": 0.523,
          "lost_std": 3.5886417137058073,
          "m": 30,
          "profit_mean": 177.64889999999997,
          "profit_std": 147.83226189315528,
          "s": 50
         },
         {
          "N": 1000,
          "S": 900,
          "lost_mean": 0.541,
          "lost_std": 3.8326241673307853,
          "m": 30,
          "profit_mean": -184.6724000000001,
          "profit_std": 146.936454359903,
          "s": 50
         },
         {
          "N": 1000,
          "S": 1000,
          "lost_mean": 0.796,
          "lost_std": 5.042202674209736,
          "m": 30,
          "profit_mean": -560.0185,
          "profit_std": 138.600157616943,
          "s": 50
         }
        ]
       },
       "encoding": {
        "color": {
         "field": "profit_mean",
         "scale": {
          "scheme": "plasma"
         },
         "type": "quantitative"
        },
        "x": {
         "field": "S",
         "type": "quantitative"
        },
        "y": {
         "field": "s",
         "type": "quantitative"
        }
       },
       "mark": "point"
      },
      "image/png": "[encoded data removed]",
      "image/svg+xml": [
       "<?xml version=\"1.0\" encoding=\"utf-8\"?>\n",
       "<!DOCTYPE svg PUBLIC \"-//W3C//DTD SVG 1.1//EN\" \"http://www.w3.org/Graphics/SVG/1.1/DTD/svg11.dtd\">\n",
       "<svg xmlns=\"http://www.w3.org/2000/svg\" xmlns:xlink=\"http://www.w3.org/1999/xlink\" version=\"1.1\" class=\"marks\" width=\"329\" height=\"247\" viewBox=\"0 0 329 247\"><rect width=\"329\" height=\"247\" fill=\"white\"/><g fill=\"none\" stroke-miterlimit=\"10\" transform=\"translate(37,10)\"><g class=\"mark-group role-frame root\" role=\"graphics-object\" aria-roledescription=\"group mark container\"><g transform=\"translate(0,0)\"><path class=\"background\" aria-hidden=\"true\" d=\"M0.5,0.5h200v200h-200Z\" stroke=\"#ddd\"/><g><g class=\"mark-group role-axis\" aria-hidden=\"true\"><g transform=\"translate(0.5,200.5)\"><path class=\"background\" aria-hidden=\"true\" d=\"M0,0h0v0h0Z\" pointer-events=\"none\"/><g><g class=\"mark-rule role-axis-grid\" pointer-events=\"none\"><line transform=\"translate(0,-200)\" x2=\"0\" y2=\"200\" stroke=\"#ddd\" stroke-width=\"1\" opacity=\"1\"/><line transform=\"translate(40,-200)\" x2=\"0\" y2=\"200\" stroke=\"#ddd\" stroke-width=\"1\" opacity=\"1\"/><line transform=\"translate(80,-200)\" x2=\"0\" y2=\"200\" stroke=\"#ddd\" stroke-width=\"1\" opacity=\"1\"/><line transform=\"translate(120,-200)\" x2=\"0\" y2=\"200\" stroke=\"#ddd\" stroke-width=\"1\" opacity=\"1\"/><line transform=\"translate(160,-200)\" x2=\"0\" y2=\"200\" stroke=\"#ddd\" stroke-width=\"1\" opacity=\"1\"/><line transform=\"translate(200,-200)\" x2=\"0\" y2=\"200\" stroke=\"#ddd\" stroke-width=\"1\" opacity=\"1\"/></g></g><path class=\"foreground\" aria-hidden=\"true\" d=\"\" pointer-events=\"none\" display=\"none\"/></g></g><g class=\"mark-group role-axis\" aria-hidden=\"true\"><g transform=\"translate(0.5,0.5)\"><path class=\"background\" aria-hidden=\"true\" d=\"M0,0h0v0h0Z\" pointer-events=\"none\"/><g><g class=\"mark-rule role-axis-grid\" pointer-events=\"none\"><line transform=\"translate(0,200)\" x2=\"200\" y2=\"0\" stroke=\"#ddd\" stroke-width=\"1\" opacity=\"1\"/><line transform=\"translate(0,160)\" x2=\"200\" y2=\"0\" stroke=\"#ddd\" stroke-width=\"1\" opacity=\"1\"/><line transform=\"translate(0,120)\" x2=\"200\" y2=\"0\" stroke=\"#ddd\" stroke-width=\"1\" opacity=\"1\"/><line transform=\"translate(0,80)\" x2=\"200\" y2=\"0\" stroke=\"#ddd\" stroke-width=\"1\" opacity=\"1\"/><line transform=\"translate(0,40)\" x2=\"200\" y2=\"0\" stroke=\"#ddd\" stroke-width=\"1\" opacity=\"1\"/><line transform=\"translate(0,0)\" x2=\"200\" y2=\"0\" stroke=\"#ddd\" stroke-width=\"1\" opacity=\"1\"/></g></g><path class=\"foreground\" aria-hidden=\"true\" d=\"\" pointer-events=\"none\" display=\"none\"/></g></g><g class=\"mark-group role-axis\" role=\"graphics-symbol\" aria-roledescription=\"axis\" aria-label=\"X-axis titled 'S' for a linear scale with values from 0 to 1,000\"><g transform=\"translate(0.5,200.5)\"><path class=\"background\" aria-hidden=\"true\" d=\"M0,0h0v0h0Z\" pointer-events=\"none\"/><g><g class=\"mark-rule role-axis-tick\" pointer-events=\"none\"><line transform=\"translate(0,0)\" x2=\"0\" y2=\"5\" stroke=\"#888\" stroke-width=\"1\" opacity=\"1\"/><line transform=\"translate(40,0)\" x2=\"0\" y2=\"5\" stroke=\"#888\" stroke-width=\"1\" opacity=\"1\"/><line transform=\"translate(80,0)\" x2=\"0\" y2=\"5\" stroke=\"#888\" stroke-width=\"1\" opacity=\"1\"/><line transform=\"translate(120,0)\" x2=\"0\" y2=\"5\" stroke=\"#888\" stroke-width=\"1\" opacity=\"1\"/><line transform=\"translate(160,0)\" x2=\"0\" y2=\"5\" stroke=\"#888\" stroke-width=\"1\" opacity=\"1\"/><line transform=\"translate(200,0)\" x2=\"0\" y2=\"5\" stroke=\"#888\" stroke-width=\"1\" opacity=\"1\"/></g><g class=\"mark-text role-axis-label\" pointer-events=\"none\"><text text-anchor=\"start\" transform=\"translate(0,15)\" font-family=\"sans-serif\" font-size=\"10px\" fill=\"#000\" opacity=\"1\">0</text><text text-anchor=\"middle\" transform=\"translate(40,15)\" font-family=\"sans-serif\" font-size=\"10px\" fill=\"#000\" opacity=\"1\">200</text><text text-anchor=\"middle\" transform=\"translate(80,15)\" font-family=\"sans-serif\" font-size=\"10px\" fill=\"#000\" opacity=\"1\">400</text><text text-anchor=\"middle\" transform=\"translate(120,15)\" font-family=\"sans-serif\" font-size=\"10px\" fill=\"#000\" opacity=\"1\">600</text><text text-anchor=\"middle\" transform=\"translate(160,15)\" font-family=\"sans-serif\" font-size=\"10px\" fill=\"#000\" opacity=\"1\">800</text><text text-anchor=\"end\" transform=\"translate(200,15)\" font-family=\"sans-serif\" font-size=\"10px\" fill=\"#000\" opacity=\"1\">1,000</text></g><g class=\"mark-rule role-axis-domain\" pointer-events=\"none\"><line transform=\"translate(0,0)\" x2=\"200\" y2=\"0\" stroke=\"#888\" stroke-width=\"1\" opacity=\"1\"/></g><g class=\"mark-text role-axis-title\" pointer-events=\"none\"><text text-anchor=\"middle\" transform=\"translate(100,30)\" font-family=\"sans-serif\" font-size=\"11px\" font-weight=\"bold\" fill=\"#000\" opacity=\"1\">S</text></g></g><path class=\"foreground\" aria-hidden=\"true\" d=\"\" pointer-events=\"none\" display=\"none\"/></g></g><g class=\"mark-group role-axis\" role=\"graphics-symbol\" aria-roledescription=\"axis\" aria-label=\"Y-axis titled 's' for a linear scale with values from 0 to 50\"><g transform=\"translate(0.5,0.5)\"><path class=\"background\" aria-hidden=\"true\" d=\"M0,0h0v0h0Z\" pointer-events=\"none\"/><g><g class=\"mark-rule role-axis-tick\" pointer-events=\"none\"><line transform=\"translate(0,200)\" x2=\"-5\" y2=\"0\" stroke=\"#888\" stroke-width=\"1\" opacity=\"1\"/><line transform=\"translate(0,160)\" x2=\"-5\" y2=\"0\" stroke=\"#888\" stroke-width=\"1\" opacity=\"1\"/><line transform=\"translate(0,120)\" x2=\"-5\" y2=\"0\" stroke=\"#888\" stroke-width=\"1\" opacity=\"1\"/><line transform=\"translate(0,80)\" x2=\"-5\" y2=\"0\" stroke=\"#888\" stroke-width=\"1\" opacity=\"1\"/><line transform=\"translate(0,40)\" x2=\"-5\" y2=\"0\" stroke=\"#888\" stroke-width=\"1\" opacity=\"1\"/><line transform=\"translate(0,0)\" x2=\"-5\" y2=\"0\" stroke=\"#888\" stroke-width=\"1\" opacity=\"1\"/></g><g class=\"mark-text role-axis-label\" pointer-events=\"none\"><text text-anchor=\"end\" transform=\"translate(-7,203)\" font-family=\"sans-serif\" font-size=\"10px\" fill=\"#000\" opacity=\"1\">0</text><text text-anchor=\"end\" transform=\"translate(-7,163)\" font-family=\"sans-serif\" font-size=\"10px\" fill=\"#000\" opacity=\"1\">10</text><text text-anchor=\"end\" transform=\"translate(-7,123)\" font-family=\"sans-serif\" font-size=\"10px\" fill=\"#000\" opacity=\"1\">20</text><text text-anchor=\"end\" transform=\"translate(-7,83)\" font-family=\"sans-serif\" font-size=\"10px\" fill=\"#000\" opacity=\"1\">30</text><text text-anchor=\"end\" transform=\"translate(-7,42.99999999999999)\" font-family=\"sans-serif\" font-size=\"10px\" fill=\"#000\" opacity=\"1\">40</text><text text-anchor=\"end\" transform=\"translate(-7,3)\" font-family=\"sans-serif\" font-size=\"10px\" fill=\"#000\" opacity=\"1\">50</text></g><g class=\"mark-rule role-axis-domain\" pointer-events=\"none\"><line transform=\"translate(0,200)\" x2=\"0\" y2=\"-200\" stroke=\"#888\" stroke-width=\"1\" opacity=\"1\"/></g><g class=\"mark-text role-axis-title\" pointer-events=\"none\"><text text-anchor=\"middle\" transform=\"translate(-21,100) rotate(-90) translate(0,-2)\" font-family=\"sans-serif\" font-size=\"11px\" font-weight=\"bold\" fill=\"#000\" opacity=\"1\">s</text></g></g><path class=\"foreground\" aria-hidden=\"true\" d=\"\" pointer-events=\"none\" display=\"none\"/></g></g><g class=\"mark-symbol role-mark marks\" role=\"graphics-object\" aria-roledescription=\"symbol mark container\"><path aria-label=\"S: 100; s: 20; profit_mean: 1152.4156\" role=\"graphics-symbol\" aria-roledescription=\"point\" transform=\"translate(20,120)\" d=\"M2.7386127875258306,0A2.7386127875258306,2.7386127875258306,0,1,1,-2.7386127875258306,0A2.7386127875258306,2.7386127875258306,0,1,1,2.7386127875258306,0\" stroke=\"rgb(249, 220, 36)\" stroke-width=\"2\" opacity=\"0.7\"/><path aria-label=\"S: 200; s: 20; profit_mean: 1257.8688\" role=\"graphics-symbol\" aria-roledescription=\"point\" transform=\"translate(40,120)\" d=\"M2.7386127875258306,0A2.7386127875258306,2.7386127875258306,0,1,1,-2.7386127875258306,0A2.7386127875258306,2.7386127875258306,0,1,1,2.7386127875258306,0\" stroke=\"rgb(241, 245, 35)\" stroke-width=\"2\" opacity=\"0.7\"/><path aria-label=\"S: 300; s: 20; profit_mean: 1209.0418\" role=\"graphics-symbol\" aria-roledescription=\"point\" transform=\"translate(60,120)\" d=\"M2.7386127875258306,0A2.7386127875258306,2.7386127875258306,0,1,1,-2.7386127875258306,0A2.7386127875258306,2.7386127875258306,0,1,1,2.7386127875258306,0\" stroke=\"rgb(245, 233, 39)\" stroke-width=\"2\" opacity=\"0.7\"/><path aria-label=\"S: 400; s: 20; profit_mean: 868.248\" role=\"graphics-symbol\" aria-roledescription=\"point\" transform=\"translate(80,120)\" d=\"M2.7386127875258306,0A2.7386127875258306,2.7386127875258306,0,1,1,-2.7386127875258306,0A2.7386127875258306,2.7386127875258306,0,1,1,2.7386127875258306,0\" stroke=\"rgb(251, 158, 59)\" stroke-width=\"2\" opacity=\"0.7\"/><path aria-label=\"S: 500; s: 20; profit_mean: 894.7227\" role=\"graphics-symbol\" aria-roledescription=\"point\" transform=\"translate(100,120)\" d=\"M2.7386127875258306,0A2.7386127875258306,2.7386127875258306,0,1,1,-2.7386127875258306,0A2.7386127875258306,2.7386127875258306,0,1,1,2.7386127875258306,0\" stroke=\"rgb(252, 163, 56)\" stroke-width=\"2\" opacity=\"0.7\"/><path aria-label=\"S: 600; s: 20; profit_mean: 873.6416\" role=\"graphics-symbol\" aria-roledescription=\"point\" transform=\"translate(120,120)\" d=\"M2.7386127875258306,0A2.7386127875258306,2.7386127875258306,0,1,1,-2.7386127875258306,0A2.7386127875258306,2.7386127875258306,0,1,1,2.7386127875258306,0\" stroke=\"rgb(251, 159, 58)\" stroke-width=\"2\" opacity=\"0.7\"/><path aria-label=\"S: 700; s: 20; profit_mean: 522.3597\" role=\"graphics-symbol\" aria-roledescription=\"point\" transform=\"translate(140,120)\" d=\"M2.7386127875258306,0A2.7386127875258306,2.7386127875258306,0,1,1,-2.7386127875258306,0A2.7386127875258306,2.7386127875258306,0,1,1,2.7386127875258306,0\" stroke=\"rgb(223, 97, 100)\" stroke-width=\"2\" opacity=\"0.7\"/><path aria-label=\"S: 800; s: 20; profit_mean: 167.5632\" role=\"graphics-symbol\" aria-roledescription=\"point\" transform=\"translate(160,120)\" d=\"M2.7386127875258306,0A2.7386127875258306,2.7386127875258306,0,1,1,-2.7386127875258306,0A2.7386127875258306,2.7386127875258306,0,1,1,2.7386127875258306,0\" stroke=\"rgb(176, 41, 145)\" stroke-width=\"2\" opacity=\"0.7\"/><path aria-label=\"S: 900; s: 20; profit_mean: −171.2774\" role=\"graphics-symbol\" aria-roledescription=\"point\" transform=\"translate(180,120)\" d=\"M2.7386127875258306,0A2.7386127875258306,2.7386127875258306,0,1,1,-2.7386127875258306,0A2.7386127875258306,2.7386127875258306,0,1,1,2.7386127875258306,0\" stroke=\"rgb(111, 0, 168)\" stroke-width=\"2\" opacity=\"0.7\"/><path aria-label=\"S: 1000; s: 20; profit_mean: −532.6375\" role=\"graphics-symbol\" aria-roledescription=\"point\" transform=\"translate(200,120)\" d=\"M2.7386127875258306,0A2.7386127875258306,2.7386127875258306,0,1,1,-2.7386127875258306,0A2.7386127875258306,2.7386127875258306,0,1,1,2.7386127875258306,0\" stroke=\"rgb(23, 7, 139)\" stroke-width=\"2\" opacity=\"0.7\"/><path aria-label=\"S: 100; s: 30; profit_mean: 1100.8507\" role=\"graphics-symbol\" aria-roledescription=\"point\" transform=\"translate(20,80)\" d=\"M2.7386127875258306,0A2.7386127875258306,2.7386127875258306,0,1,1,-2.7386127875258306,0A2.7386127875258306,2.7386127875258306,0,1,1,2.7386127875258306,0\" stroke=\"rgb(252, 208, 37)\" stroke-width=\"2\" opacity=\"0.7\"/><path aria-label=\"S: 200; s: 30; profit_mean: 1275.5529\" role=\"graphics-symbol\" aria-roledescription=\"point\" transform=\"translate(40,80)\" d=\"M2.7386127875258306,0A2.7386127875258306,2.7386127875258306,0,1,1,-2.7386127875258306,0A2.7386127875258306,2.7386127875258306,0,1,1,2.7386127875258306,0\" stroke=\"rgb(240, 249, 33)\" stroke-width=\"2\" opacity=\"0.7\"/><path aria-label=\"S: 300; s: 30; profit_mean: 1232.3284\" role=\"graphics-symbol\" aria-roledescription=\"point\" transform=\"translate(60,80)\" d=\"M2.7386127875258306,0A2.7386127875258306,2.7386127875258306,0,1,1,-2.7386127875258306,0A2.7386127875258306,2.7386127875258306,0,1,1,2.7386127875258306,0\" stroke=\"rgb(244, 238, 37)\" stroke-width=\"2\" opacity=\"0.7\"/><path aria-label=\"S: 400; s: 30; profit_mean: 863.6782\" role=\"graphics-symbol\" aria-roledescription=\"point\" transform=\"translate(80,80)\" d=\"M2.7386127875258306,0A2.7386127875258306,2.7386127875258306,0,1,1,-2.7386127875258306,0A2.7386127875258306,2.7386127875258306,0,1,1,2.7386127875258306,0\" stroke=\"rgb(251, 157, 59)\" stroke-width=\"2\" opacity=\"0.7\"/><path aria-label=\"S: 500; s: 30; profit_mean: 774.0006\" role=\"graphics-symbol\" aria-roledescription=\"point\" transform=\"translate(100,80)\" d=\"M2.7386127875258306,0A2.7386127875258306,2.7386127875258306,0,1,1,-2.7386127875258306,0A2.7386127875258306,2.7386127875258306,0,1,1,2.7386127875258306,0\" stroke=\"rgb(245, 141, 70)\" stroke-width=\"2\" opacity=\"0.7\"/><path aria-label=\"S: 600; s: 30; profit_mean: 891.4326\" role=\"graphics-symbol\" aria-roledescription=\"point\" transform=\"translate(120,80)\" d=\"M2.7386127875258306,0A2.7386127875258306,2.7386127875258306,0,1,1,-2.7386127875258306,0A2.7386127875258306,2.7386127875258306,0,1,1,2.7386127875258306,0\" stroke=\"rgb(251, 163, 56)\" stroke-width=\"2\" opacity=\"0.7\"/><path aria-label=\"S: 700; s: 30; profit_mean: 539.4743\" role=\"graphics-symbol\" aria-roledescription=\"point\" transform=\"translate(140,80)\" d=\"M2.7386127875258306,0A2.7386127875258306,2.7386127875258306,0,1,1,-2.7386127875258306,0A2.7386127875258306,2.7386127875258306,0,1,1,2.7386127875258306,0\" stroke=\"rgb(225, 100, 98)\" stroke-width=\"2\" opacity=\"0.7\"/><path aria-label=\"S: 800; s: 30; profit_mean: 176.3398\" role=\"graphics-symbol\" aria-roledescription=\"point\" transform=\"translate(160,80)\" d=\"M2.7386127875258306,0A2.7386127875258306,2.7386127875258306,0,1,1,-2.7386127875258306,0A2.7386127875258306,2.7386127875258306,0,1,1,2.7386127875258306,0\" stroke=\"rgb(177, 42, 144)\" stroke-width=\"2\" opacity=\"0.7\"/><path aria-label=\"S: 900; s: 30; profit_mean: −178.2888\" role=\"graphics-symbol\" aria-roledescription=\"point\" transform=\"translate(180,80)\" d=\"M2.7386127875258306,0A2.7386127875258306,2.7386127875258306,0,1,1,-2.7386127875258306,0A2.7386127875258306,2.7386127875258306,0,1,1,2.7386127875258306,0\" stroke=\"rgb(109, 0, 168)\" stroke-width=\"2\" opacity=\"0.7\"/><path aria-label=\"S: 1000; s: 30; profit_mean: −537.619\" role=\"graphics-symbol\" aria-roledescription=\"point\" transform=\"translate(200,80)\" d=\"M2.7386127875258306,0A2.7386127875258306,2.7386127875258306,0,1,1,-2.7386127875258306,0A2.7386127875258306,2.7386127875258306,0,1,1,2.7386127875258306,0\" stroke=\"rgb(21, 7, 138)\" stroke-width=\"2\" opacity=\"0.7\"/><path aria-label=\"S: 100; s: 40; profit_mean: 1017.1856\" role=\"graphics-symbol\" aria-roledescription=\"point\" transform=\"translate(20,39.99999999999999)\" d=\"M2.7386127875258306,0A2.7386127875258306,2.7386127875258306,0,1,1,-2.7386127875258306,0A2.7386127875258306,2.7386127875258306,0,1,1,2.7386127875258306,0\" stroke=\"rgb(254, 189, 42)\" stroke-width=\"2\" opacity=\"0.7\"/><path aria-label=\"S: 200; s: 40; profit_mean: 1233.8609\" role=\"graphics-symbol\" aria-roledescription=\"point\" transform=\"translate(40,39.99999999999999)\" d=\"M2.7386127875258306,0A2.7386127875258306,2.7386127875258306,0,1,1,-2.7386127875258306,0A2.7386127875258306,2.7386127875258306,0,1,1,2.7386127875258306,0\" stroke=\"rgb(243, 239, 37)\" stroke-width=\"2\" opacity=\"0.7\"/><path aria-label=\"S: 300; s: 40; profit_mean: 1220.7637\" role=\"graphics-symbol\" aria-roledescription=\"point\" transform=\"translate(60,39.99999999999999)\" d=\"M2.7386127875258306,0A2.7386127875258306,2.7386127875258306,0,1,1,-2.7386127875258306,0A2.7386127875258306,2.7386127875258306,0,1,1,2.7386127875258306,0\" stroke=\"rgb(244, 236, 38)\" stroke-width=\"2\" opacity=\"0.7\"/><path aria-label=\"S: 400; s: 40; profit_mean: 865.023\" role=\"graphics-symbol\" aria-roledescription=\"point\" transform=\"translate(80,39.99999999999999)\" d=\"M2.7386127875258306,0A2.7386127875258306,2.7386127875258306,0,1,1,-2.7386127875258306,0A2.7386127875258306,2.7386127875258306,0,1,1,2.7386127875258306,0\" stroke=\"rgb(251, 157, 59)\" stroke-width=\"2\" opacity=\"0.7\"/><path aria-label=\"S: 500; s: 40; profit_mean: 667.3463\" role=\"graphics-symbol\" aria-roledescription=\"point\" transform=\"translate(100,39.99999999999999)\" d=\"M2.7386127875258306,0A2.7386127875258306,2.7386127875258306,0,1,1,-2.7386127875258306,0A2.7386127875258306,2.7386127875258306,0,1,1,2.7386127875258306,0\" stroke=\"rgb(237, 122, 83)\" stroke-width=\"2\" opacity=\"0.7\"/><path aria-label=\"S: 600; s: 40; profit_mean: 882.5075\" role=\"graphics-symbol\" aria-roledescription=\"point\" transform=\"translate(120,39.99999999999999)\" d=\"M2.7386127875258306,0A2.7386127875258306,2.7386127875258306,0,1,1,-2.7386127875258306,0A2.7386127875258306,2.7386127875258306,0,1,1,2.7386127875258306,0\" stroke=\"rgb(251, 161, 57)\" stroke-width=\"2\" opacity=\"0.7\"/><path aria-label=\"S: 700; s: 40; profit_mean: 536.3672\" role=\"graphics-symbol\" aria-roledescription=\"point\" transform=\"translate(140,39.99999999999999)\" d=\"M2.7386127875258306,0A2.7386127875258306,2.7386127875258306,0,1,1,-2.7386127875258306,0A2.7386127875258306,2.7386127875258306,0,1,1,2.7386127875258306,0\" stroke=\"rgb(224, 99, 99)\" stroke-width=\"2\" opacity=\"0.7\"/><path aria-label=\"S: 800; s: 40; profit_mean: 176.5266\" role=\"graphics-symbol\" aria-roledescription=\"point\" transform=\"translate(160,39.99999999999999)\" d=\"M2.7386127875258306,0A2.7386127875258306,2.7386127875258306,0,1,1,-2.7386127875258306,0A2.7386127875258306,2.7386127875258306,0,1,1,2.7386127875258306,0\" stroke=\"rgb(177, 42, 144)\" stroke-width=\"2\" opacity=\"0.7\"/><path aria-label=\"S: 900; s: 40; profit_mean: −178.772\" role=\"graphics-symbol\" aria-roledescription=\"point\" transform=\"translate(180,39.99999999999999)\" d=\"M2.7386127875258306,0A2.7386127875258306,2.7386127875258306,0,1,1,-2.7386127875258306,0A2.7386127875258306,2.7386127875258306,0,1,1,2.7386127875258306,0\" stroke=\"rgb(109, 0, 168)\" stroke-width=\"2\" opacity=\"0.7\"/><path aria-label=\"S: 1000; s: 40; profit_mean: −547.1473\" role=\"graphics-symbol\" aria-roledescription=\"point\" transform=\"translate(200,39.99999999999999)\" d=\"M2.7386127875258306,0A2.7386127875258306,2.7386127875258306,0,1,1,-2.7386127875258306,0A2.7386127875258306,2.7386127875258306,0,1,1,2.7386127875258306,0\" stroke=\"rgb(18, 8, 137)\" stroke-width=\"2\" opacity=\"0.7\"/><path aria-label=\"S: 100; s: 50; profit_mean: 905.994\" role=\"graphics-symbol\" aria-roledescription=\"point\" transform=\"translate(20,0)\" d=\"M2.7386127875258306,0A2.7386127875258306,2.7386127875258306,0,1,1,-2.7386127875258306,0A2.7386127875258306,2.7386127875258306,0,1,1,2.7386127875258306,0\" stroke=\"rgb(252, 166, 54)\" stroke-width=\"2\" opacity=\"0.7\"/><path aria-label=\"S: 200; s: 50; profit_mean: 1151.7005\" role=\"graphics-symbol\" aria-roledescription=\"point\" transform=\"translate(40,0)\" d=\"M2.7386127875258306,0A2.7386127875258306,2.7386127875258306,0,1,1,-2.7386127875258306,0A2.7386127875258306,2.7386127875258306,0,1,1,2.7386127875258306,0\" stroke=\"rgb(249, 220, 36)\" stroke-width=\"2\" opacity=\"0.7\"/><path aria-label=\"S: 300; s: 50; profit_mean: 1128.5233\" role=\"graphics-symbol\" aria-roledescription=\"point\" transform=\"translate(60,0)\" d=\"M2.7386127875258306,0A2.7386127875258306,2.7386127875258306,0,1,1,-2.7386127875258306,0A2.7386127875258306,2.7386127875258306,0,1,1,2.7386127875258306,0\" stroke=\"rgb(250, 214, 36)\" stroke-width=\"2\" opacity=\"0.7\"/><path aria-label=\"S: 400; s: 50; profit_mean: 870.3723\" role=\"graphics-symbol\" aria-roledescription=\"point\" transform=\"translate(80,0)\" d=\"M2.7386127875258306,0A2.7386127875258306,2.7386127875258306,0,1,1,-2.7386127875258306,0A2.7386127875258306,2.7386127875258306,0,1,1,2.7386127875258306,0\" stroke=\"rgb(251, 159, 58)\" stroke-width=\"2\" opacity=\"0.7\"/><path aria-label=\"S: 500; s: 50; profit_mean: 580.0821\" role=\"graphics-symbol\" aria-roledescription=\"point\" transform=\"translate(100,0)\" d=\"M2.7386127875258306,0A2.7386127875258306,2.7386127875258306,0,1,1,-2.7386127875258306,0A2.7386127875258306,2.7386127875258306,0,1,1,2.7386127875258306,0\" stroke=\"rgb(229, 106, 94)\" stroke-width=\"2\" opacity=\"0.7\"/><path aria-label=\"S: 600; s: 50; profit_mean: 855.2014\" role=\"graphics-symbol\" aria-roledescription=\"point\" transform=\"translate(120,0)\" d=\"M2.7386127875258306,0A2.7386127875258306,2.7386127875258306,0,1,1,-2.7386127875258306,0A2.7386127875258306,2.7386127875258306,0,1,1,2.7386127875258306,0\" stroke=\"rgb(250, 156, 60)\" stroke-width=\"2\" opacity=\"0.7\"/><path aria-label=\"S: 700; s: 50; profit_mean: 545.6915\" role=\"graphics-symbol\" aria-roledescription=\"point\" transform=\"translate(140,0)\" d=\"M2.7386127875258306,0A2.7386127875258306,2.7386127875258306,0,1,1,-2.7386127875258306,0A2.7386127875258306,2.7386127875258306,0,1,1,2.7386127875258306,0\" stroke=\"rgb(225, 101, 98)\" stroke-width=\"2\" opacity=\"0.7\"/><path aria-label=\"S: 800; s: 50; profit_mean: 177.6489\" role=\"graphics-symbol\" aria-roledescription=\"point\" transform=\"translate(160,0)\" d=\"M2.7386127875258306,0A2.7386127875258306,2.7386127875258306,0,1,1,-2.7386127875258306,0A2.7386127875258306,2.7386127875258306,0,1,1,2.7386127875258306,0\" stroke=\"rgb(178, 43, 144)\" stroke-width=\"2\" opacity=\"0.7\"/><path aria-label=\"S: 900; s: 50; profit_mean: −184.6724\" role=\"graphics-symbol\" aria-roledescription=\"point\" transform=\"translate(180,0)\" d=\"M2.7386127875258306,0A2.7386127875258306,2.7386127875258306,0,1,1,-2.7386127875258306,0A2.7386127875258306,2.7386127875258306,0,1,1,2.7386127875258306,0\" stroke=\"rgb(108, 0, 168)\" stroke-width=\"2\" opacity=\"0.7\"/><path aria-label=\"S: 1000; s: 50; profit_mean: −560.0185\" role=\"graphics-symbol\" aria-roledescription=\"point\" transform=\"translate(200,0)\" d=\"M2.7386127875258306,0A2.7386127875258306,2.7386127875258306,0,1,1,-2.7386127875258306,0A2.7386127875258306,2.7386127875258306,0,1,1,2.7386127875258306,0\" stroke=\"rgb(13, 8, 135)\" stroke-width=\"2\" opacity=\"0.7\"/></g><g class=\"mark-group role-legend\" role=\"graphics-symbol\" aria-roledescription=\"legend\" aria-label=\"Gradient legend titled 'profit_mean' for stroke color with values from −560 to 1,276\"><g transform=\"translate(218,0)\"><path class=\"background\" aria-hidden=\"true\" d=\"M0,0h69v216h-69Z\" pointer-events=\"none\"/><g><g class=\"mark-group role-legend-entry\"><g transform=\"translate(0,16)\"><path class=\"background\" aria-hidden=\"true\" d=\"M0,0h0v0h0Z\" pointer-events=\"none\"/><g><g class=\"mark-rect role-legend-gradient\" pointer-events=\"none\"><path d=\"M0,0h16v200h-16Z\" fill=\"url(#gradient_0)\" stroke=\"#ddd\" stroke-width=\"0\" opacity=\"0.7\"/></g><g class=\"mark-text role-legend-label\" pointer-events=\"none\"><text text-anchor=\"start\" transform=\"translate(18,196.46051044377788)\" font-family=\"sans-serif\" font-size=\"10px\" fill=\"#000\" opacity=\"1\">−500</text><text text-anchor=\"start\" transform=\"translate(18,141.98156181775332)\" font-family=\"sans-serif\" font-size=\"10px\" fill=\"#000\" opacity=\"1\">0</text><text text-anchor=\"start\" transform=\"translate(18,87.50261319172871)\" font-family=\"sans-serif\" font-size=\"10px\" fill=\"#000\" opacity=\"1\">500</text><text text-anchor=\"start\" transform=\"translate(18,33.02366456570414)\" font-family=\"sans-serif\" font-size=\"10px\" fill=\"#000\" opacity=\"1\">1,000</text></g></g><path class=\"foreground\" aria-hidden=\"true\" d=\"\" pointer-events=\"none\" display=\"none\"/></g></g><g class=\"mark-text role-legend-title\" pointer-events=\"none\"><text text-anchor=\"start\" transform=\"translate(0,9)\" font-family=\"sans-serif\" font-size=\"11px\" font-weight=\"bold\" fill=\"#000\" opacity=\"1\">profit_mean</text></g></g><path class=\"foreground\" aria-hidden=\"true\" d=\"\" pointer-events=\"none\" display=\"none\"/></g></g></g><path class=\"foreground\" aria-hidden=\"true\" d=\"\" display=\"none\"/></g></g></g><defs><linearGradient id=\"gradient_0\" x1=\"0\" x2=\"0\" y1=\"1\" y2=\"0\"><stop offset=\"0\" stop-color=\"rgb(13, 8, 135)\"/><stop offset=\"0.03269744778111057\" stop-color=\"rgb(35, 6, 144)\"/><stop offset=\"0.08717639640713515\" stop-color=\"rgb(60, 4, 155)\"/><stop offset=\"0.1416553450331597\" stop-color=\"rgb(83, 2, 163)\"/><stop offset=\"0.1961342936591843\" stop-color=\"rgb(104, 0, 168)\"/><stop offset=\"0.25061324228520887\" stop-color=\"rgb(126, 3, 167)\"/><stop offset=\"0.30509219091123346\" stop-color=\"rgb(146, 15, 163)\"/><stop offset=\"0.35957113953725806\" stop-color=\"rgb(165, 31, 153)\"/><stop offset=\"0.4140500881632826\" stop-color=\"rgb(181, 46, 141)\"/><stop offset=\"0.4685290367893072\" stop-color=\"rgb(195, 62, 128)\"/><stop offset=\"0.5230079854153318\" stop-color=\"rgb(209, 78, 115)\"/><stop offset=\"0.5774869340413564\" stop-color=\"rgb(220, 93, 103)\"/><stop offset=\"0.631965882667381\" stop-color=\"rgb(231, 110, 91)\"/><stop offset=\"0.6864448312934056\" stop-color=\"rgb(240, 127, 79)\"/><stop offset=\"0.7409237799194301\" stop-color=\"rgb(247, 146, 66)\"/><stop offset=\"0.7954027285454547\" stop-color=\"rgb(252, 164, 55)\"/><stop offset=\"0.8498816771714793\" stop-color=\"rgb(253, 185, 44)\"/><stop offset=\"0.9043606257975039\" stop-color=\"rgb(252, 208, 37)\"/><stop offset=\"0.9588395744235284\" stop-color=\"rgb(246, 231, 38)\"/><stop offset=\"1\" stop-color=\"rgb(240, 249, 33)\"/></linearGradient></defs></svg>\n"
      ],
      "text/plain": [
       "@vlplot(\n",
       "    mark=\"point\",\n",
       "    encoding={\n",
       "        x={\n",
       "            field=\"S\"\n",
       "        },\n",
       "        y={\n",
       "            field=\"s\"\n",
       "        },\n",
       "        color={\n",
       "            scale={\n",
       "                scheme=\"plasma\"\n",
       "            },\n",
       "            field=\"profit_mean\"\n",
       "        }\n",
       "    },\n",
       "    data={\n",
       "        values=...\n",
       "    }\n",
       ")"
      ]
     },
     "execution_count": 7,
     "metadata": {},
     "output_type": "execute_result"
    }
   ],
   "source": [
    "#using VegaLite\n",
    "df |> @vlplot(:point, x=:S, y=:s, color={:profit_mean, scale={scheme=:plasma}})"
   ]
  },
  {
   "cell_type": "code",
   "execution_count": 8,
   "metadata": {},
   "outputs": [
    {
     "data": {
      "text/html": [
       "<div><div style = \"float: left;\"><span>DataFrameRow (8 columns)</span></div><div style = \"clear: both;\"></div></div><div class = \"data-frame\" style = \"overflow-x: scroll;\"><table class = \"data-frame\" style = \"margin-bottom: 6px;\"><thead><tr class = \"header\"><th class = \"rowLabel\" style = \"font-weight: bold; text-align: right;\">Row</th><th style = \"text-align: left;\">m</th><th style = \"text-align: left;\">s</th><th style = \"text-align: left;\">S</th><th style = \"text-align: left;\">N</th><th style = \"text-align: left;\">profit_mean</th><th style = \"text-align: left;\">profit_std</th><th style = \"text-align: left;\">lost_mean</th><th style = \"text-align: left;\">lost_std</th></tr><tr class = \"subheader headerLastRow\"><th class = \"rowLabel\" style = \"font-weight: bold; text-align: right;\"></th><th title = \"Int64\" style = \"text-align: left;\">Int64</th><th title = \"Int64\" style = \"text-align: left;\">Int64</th><th title = \"Int64\" style = \"text-align: left;\">Int64</th><th title = \"Int64\" style = \"text-align: left;\">Int64</th><th title = \"Float64\" style = \"text-align: left;\">Float64</th><th title = \"Float64\" style = \"text-align: left;\">Float64</th><th title = \"Float64\" style = \"text-align: left;\">Float64</th><th title = \"Float64\" style = \"text-align: left;\">Float64</th></tr></thead><tbody><tr><td class = \"rowLabel\" style = \"font-weight: bold; text-align: right;\">61</td><td style = \"text-align: right;\">30</td><td style = \"text-align: right;\">20</td><td style = \"text-align: right;\">180</td><td style = \"text-align: right;\">1000</td><td style = \"text-align: right;\">1308.8</td><td style = \"text-align: right;\">106.534</td><td style = \"text-align: right;\">14.089</td><td style = \"text-align: right;\">18.2738</td></tr></tbody></table></div>"
      ],
      "text/latex": [
       "\\begin{tabular}{r|cccccccc}\n",
       "\t& m & s & S & N & profit\\_mean & profit\\_std & lost\\_mean & lost\\_std\\\\\n",
       "\t\\hline\n",
       "\t& Int64 & Int64 & Int64 & Int64 & Float64 & Float64 & Float64 & Float64\\\\\n",
       "\t\\hline\n",
       "\t61 & 30 & 20 & 180 & 1000 & 1308.8 & 106.534 & 14.089 & 18.2738 \\\\\n",
       "\\end{tabular}\n"
      ],
      "text/plain": [
       "\u001b[1mDataFrameRow\u001b[0m\n",
       "\u001b[1m Row \u001b[0m│\u001b[1m m     \u001b[0m\u001b[1m s     \u001b[0m\u001b[1m S     \u001b[0m\u001b[1m N     \u001b[0m\u001b[1m profit_mean \u001b[0m\u001b[1m profit_std \u001b[0m\u001b[1m lost_mean \u001b[0m\u001b[1m lost_st\u001b[0m ⋯\n",
       "     │\u001b[90m Int64 \u001b[0m\u001b[90m Int64 \u001b[0m\u001b[90m Int64 \u001b[0m\u001b[90m Int64 \u001b[0m\u001b[90m Float64     \u001b[0m\u001b[90m Float64    \u001b[0m\u001b[90m Float64   \u001b[0m\u001b[90m Float64\u001b[0m ⋯\n",
       "─────┼──────────────────────────────────────────────────────────────────────────\n",
       "  61 │    30     20    180   1000       1308.8     106.534     14.089   18.273 ⋯\n",
       "\u001b[36m                                                                1 column omitted\u001b[0m"
      ]
     },
     "execution_count": 8,
     "metadata": {},
     "output_type": "execute_result"
    }
   ],
   "source": [
    "# using Random\n",
    "Random.seed!(10)\n",
    "df = DataFrame(run_sims(30,s,S,1000)\n",
    "    for S in 100:10:350, s in 10:5:50 if S > s )\n",
    "best_row = argmax(df.profit_mean)\n",
    "df[best_row,:]"
   ]
  },
  {
   "cell_type": "code",
   "execution_count": 9,
   "metadata": {},
   "outputs": [
    {
     "data": {
      "application/vnd.vegalite.v4+json": {
       "data": {
        "values": [
         {
          "N": 1000,
          "S": 100,
          "lost_mean": 49.444,
          "lost_std": 28.077913619662578,
          "m": 30,
          "profit_mean": 1154.4868000000004,
          "profit_std": 95.5768005876456,
          "s": 10
         },
         {
          "N": 1000,
          "S": 110,
          "lost_mean": 45.376,
          "lost_std": 27.0838357356959,
          "m": 30,
          "profit_mean": 1179.084,
          "profit_std": 91.71567733746215,
          "s": 10
         },
         {
          "N": 1000,
          "S": 120,
          "lost_mean": 41.755,
          "lost_std": 25.85949900304893,
          "m": 30,
          "profit_mean": 1221.9755,
          "profit_std": 98.72465399816328,
          "s": 10
         },
         {
          "N": 1000,
          "S": 130,
          "lost_mean": 38.67,
          "lost_std": 26.374964241468437,
          "m": 30,
          "profit_mean": 1237.17,
          "profit_std": 118.01406636439515,
          "s": 10
         },
         {
          "N": 1000,
          "S": 140,
          "lost_mean": 35.878,
          "lost_std": 24.62351383197438,
          "m": 30,
          "profit_mean": 1223.1476,
          "profit_std": 107.96257672088146,
          "s": 10
         },
         {
          "N": 1000,
          "S": 150,
          "lost_mean": 34.555,
          "lost_std": 24.222338794936725,
          "m": 30,
          "profit_mean": 1229.5750999999998,
          "profit_std": 86.6381838734798,
          "s": 10
         },
         {
          "N": 1000,
          "S": 160,
          "lost_mean": 33.068,
          "lost_std": 24.39168568037745,
          "m": 30,
          "profit_mean": 1280.3911,
          "profit_std": 99.09514902026913,
          "s": 10
         },
         {
          "N": 1000,
          "S": 170,
          "lost_mean": 29.252,
          "lost_std": 23.009953367053004,
          "m": 30,
          "profit_mean": 1295.8973,
          "profit_std": 120.65359353265174,
          "s": 10
         },
         {
          "N": 1000,
          "S": 180,
          "lost_mean": 28.374,
          "lost_std": 23.01029329664438,
          "m": 30,
          "profit_mean": 1274.1175000000003,
          "profit_std": 136.4624032151026,
          "s": 10
         },
         {
          "N": 1000,
          "S": 190,
          "lost_mean": 27.625,
          "lost_std": 23.21726548102546,
          "m": 30,
          "profit_mean": 1241.0229000000002,
          "profit_std": 130.9587565667585,
          "s": 10
         },
         {
          "N": 1000,
          "S": 200,
          "lost_mean": 28.884,
          "lost_std": 23.281378107117426,
          "m": 30,
          "profit_mean": 1204.2041000000004,
          "profit_std": 117.80163249211704,
          "s": 10
         },
         {
          "N": 1000,
          "S": 210,
          "lost_mean": 28.085,
          "lost_std": 22.832369392861793,
          "m": 30,
          "profit_mean": 1174.4432999999997,
          "profit_std": 105.01923306911179,
          "s": 10
         },
         {
          "N": 1000,
          "S": 220,
          "lost_mean": 26.413,
          "lost_std": 21.892320678829478,
          "m": 30,
          "profit_mean": 1182.6988000000001,
          "profit_std": 101.58605970351486,
          "s": 10
         },
         {
          "N": 1000,
          "S": 230,
          "lost_mean": 23.733,
          "lost_std": 19.267458211864533,
          "m": 30,
          "profit_mean": 1217.7190999999996,
          "profit_std": 106.66704825940563,
          "s": 10
         },
         {
          "N": 1000,
          "S": 240,
          "lost_mean": 23.413,
          "lost_std": 20.641329789901995,
          "m": 30,
          "profit_mean": 1253.3675,
          "profit_std": 118.15921129121912,
          "s": 10
         },
         {
          "N": 1000,
          "S": 250,
          "lost_mean": 21.379,
          "lost_std": 19.567325807049855,
          "m": 30,
          "profit_mean": 1306.9865999999997,
          "profit_std": 120.282067309122,
          "s": 10
         },
         {
          "N": 1000,
          "S": 260,
          "lost_mean": 20.225,
          "lost_std": 19.709155888211594,
          "m": 30,
          "profit_mean": 1307.8205999999996,
          "profit_std": 126.70780277048024,
          "s": 10
         },
         {
          "N": 1000,
          "S": 270,
          "lost_mean": 18.865,
          "lost_std": 18.857263093338105,
          "m": 30,
          "profit_mean": 1286.4594,
          "profit_std": 139.30093898909382,
          "s": 10
         },
         {
          "N": 1000,
          "S": 280,
          "lost_mean": 19.89,
          "lost_std": 20.009954979916827,
          "m": 30,
          "profit_mean": 1250.5556,
          "profit_std": 134.97709807832456,
          "s": 10
         },
         {
          "N": 1000,
          "S": 290,
          "lost_mean": 17.893,
          "lost_std": 18.206730514730978,
          "m": 30,
          "profit_mean": 1220.7917999999997,
          "profit_std": 140.82819438270553,
          "s": 10
         },
         {
          "N": 1000,
          "S": 300,
          "lost_mean": 19.205,
          "lost_std": 18.781312859135078,
          "m": 30,
          "profit_mean": 1174.6918,
          "profit_std": 135.16037873852213,
          "s": 10
         },
         {
          "N": 1000,
          "S": 310,
          "lost_mean": 18.366,
          "lost_std": 18.684784322147397,
          "m": 30,
          "profit_mean": 1137.8114,
          "profit_std": 132.28892519697095,
          "s": 10
         },
         {
          "N": 1000,
          "S": 320,
          "lost_mean": 18.808,
          "lost_std": 19.337400835455398,
          "m": 30,
          "profit_mean": 1093.2912,
          "profit_std": 130.00179217429476,
          "s": 10
         },
         {
          "N": 1000,
          "S": 330,
          "lost_mean": 18.942,
          "lost_std": 19.848995405778563,
          "m": 30,
          "profit_mean": 1069.8595999999998,
          "profit_std": 130.22499136577514,
          "s": 10
         },
         {
          "N": 1000,
          "S": 340,
          "lost_mean": 18.386,
          "lost_std": 18.749574676524016,
          "m": 30,
          "profit_mean": 1030.8736,
          "profit_std": 118.30610101164088,
          "s": 10
         },
         {
          "N": 1000,
          "S": 350,
          "lost_mean": 19.856,
          "lost_std": 19.75301104757058,
          "m": 30,
          "profit_mean": 984.1202000000004,
          "profit_std": 115.52823128648765,
          "s": 10
         },
         {
          "N": 1000,
          "S": 100,
          "lost_mean": 36.793,
          "lost_std": 27.718413761639773,
          "m": 30,
          "profit_mean": 1161.8948000000003,
          "profit_std": 92.66522636424698,
          "s": 15
         },
         {
          "N": 1000,
          "S": 110,
          "lost_mean": 32.48,
          "lost_std": 25.672098797267367,
          "m": 30,
          "profit_mean": 1191.3926,
          "profit_std": 98.27006681218482,
          "s": 15
         },
         {
          "N": 1000,
          "S": 120,
          "lost_mean": 29.72,
          "lost_std": 22.456533479054507,
          "m": 30,
          "profit_mean": 1220.8081000000002,
          "profit_std": 89.9745928123142,
          "s": 15
         },
         {
          "N": 1000,
          "S": 130,
          "lost_mean": 28.356,
          "lost_std": 24.180197392617494,
          "m": 30,
          "profit_mean": 1253.3124999999998,
          "profit_std": 108.8652347312175,
          "s": 15
         },
         {
          "N": 1000,
          "S": 140,
          "lost_mean": 25.706,
          "lost_std": 23.688662197699482,
          "m": 30,
          "profit_mean": 1245.5914000000002,
          "profit_std": 118.49800995967996,
          "s": 15
         },
         {
          "N": 1000,
          "S": 150,
          "lost_mean": 24.575,
          "lost_std": 22.726215167859692,
          "m": 30,
          "profit_mean": 1237.5475,
          "profit_std": 99.65764586889522,
          "s": 15
         },
         {
          "N": 1000,
          "S": 160,
          "lost_mean": 23.675,
          "lost_std": 21.794319612398258,
          "m": 30,
          "profit_mean": 1259.4145,
          "profit_std": 94.76311924223748,
          "s": 15
         },
         {
          "N": 1000,
          "S": 170,
          "lost_mean": 21.344,
          "lost_std": 21.488914291732783,
          "m": 30,
          "profit_mean": 1305.4484999999997,
          "profit_std": 108.11265542948252,
          "s": 15
         },
         {
          "N": 1000,
          "S": 180,
          "lost_mean": 20.943,
          "lost_std": 21.10756452744561,
          "m": 30,
          "profit_mean": 1305.6570000000004,
          "profit_std": 125.59585737750429,
          "s": 15
         },
         {
          "N": 1000,
          "S": 190,
          "lost_mean": 20.574,
          "lost_std": 21.622813648322232,
          "m": 30,
          "profit_mean": 1267.6961,
          "profit_std": 127.28981401330408,
          "s": 15
         },
         {
          "N": 1000,
          "S": 200,
          "lost_mean": 19.998,
          "lost_std": 22.09584174052263,
          "m": 30,
          "profit_mean": 1227.8697,
          "profit_std": 123.59999162556541,
          "s": 15
         },
         {
          "N": 1000,
          "S": 210,
          "lost_mean": 19.245,
          "lost_std": 21.04157129880567,
          "m": 30,
          "profit_mean": 1197.6106999999997,
          "profit_std": 108.35511850954352,
          "s": 15
         },
         {
          "N": 1000,
          "S": 220,
          "lost_mean": 19.09,
          "lost_std": 19.919706189969133,
          "m": 30,
          "profit_mean": 1177.707,
          "profit_std": 104.85741446539852,
          "s": 15
         },
         {
          "N": 1000,
          "S": 230,
          "lost_mean": 18.473,
          "lost_std": 18.95591194318009,
          "m": 30,
          "profit_mean": 1189.2739,
          "profit_std": 103.37681013488309,
          "s": 15
         },
         {
          "N": 1000,
          "S": 240,
          "lost_mean": 16.778,
          "lost_std": 17.4504221505737,
          "m": 30,
          "profit_mean": 1225.8602,
          "profit_std": 115.7142529003419,
          "s": 15
         },
         {
          "N": 1000,
          "S": 250,
          "lost_mean": 16.507,
          "lost_std": 18.922791100232097,
          "m": 30,
          "profit_mean": 1274.5508,
          "profit_std": 118.55153219231353,
          "s": 15
         },
         {
          "N": 1000,
          "S": 260,
          "lost_mean": 14.833,
          "lost_std": 17.499238107252967,
          "m": 30,
          "profit_mean": 1301.7349999999997,
          "profit_std": 122.84143728283918,
          "s": 15
         },
         {
          "N": 1000,
          "S": 270,
          "lost_mean": 13.069,
          "lost_std": 16.76147923621857,
          "m": 30,
          "profit_mean": 1305.8228000000004,
          "profit_std": 126.716882728895,
          "s": 15
         },
         {
          "N": 1000,
          "S": 280,
          "lost_mean": 13.095,
          "lost_std": 17.96805013978495,
          "m": 30,
          "profit_mean": 1269.2469,
          "profit_std": 138.84348787218838,
          "s": 15
         },
         {
          "N": 1000,
          "S": 290,
          "lost_mean": 13.659,
          "lost_std": 17.766101242347837,
          "m": 30,
          "profit_mean": 1235.7539000000002,
          "profit_std": 134.33806780377353,
          "s": 15
         },
         {
          "N": 1000,
          "S": 300,
          "lost_mean": 12.951,
          "lost_std": 16.971347195365063,
          "m": 30,
          "profit_mean": 1192.0913999999998,
          "profit_std": 137.27133949476374,
          "s": 15
         },
         {
          "N": 1000,
          "S": 310,
          "lost_mean": 13.127,
          "lost_std": 16.48364588255831,
          "m": 30,
          "profit_mean": 1154.4955,
          "profit_std": 129.98821156126,
          "s": 15
         },
         {
          "N": 1000,
          "S": 320,
          "lost_mean": 13.031,
          "lost_std": 17.726146091445123,
          "m": 30,
          "profit_mean": 1124.2578999999998,
          "profit_std": 124.54431694972868,
          "s": 15
         },
         {
          "N": 1000,
          "S": 330,
          "lost_mean": 13.876,
          "lost_std": 19.082210426330455,
          "m": 30,
          "profit_mean": 1083.9723999999999,
          "profit_std": 126.87309628444008,
          "s": 15
         },
         {
          "N": 1000,
          "S": 340,
          "lost_mean": 13.625,
          "lost_std": 18.307034782359555,
          "m": 30,
          "profit_mean": 1044.0282,
          "profit_std": 119.54976784482584,
          "s": 15
         },
         {
          "N": 1000,
          "S": 350,
          "lost_mean": 14.308,
          "lost_std": 18.84181918367094,
          "m": 30,
          "profit_mean": 1009.1302000000002,
          "profit_std": 119.02507667225774,
          "s": 15
         },
         {
          "N": 1000,
          "S": 100,
          "lost_mean": 25.918,
          "lost_std": 23.718681494801768,
          "m": 30,
          "profit_mean": 1147.1941000000002,
          "profit_std": 88.38367863944022,
          "s": 20
         },
         {
          "N": 1000,
          "S": 110,
          "lost_mean": 23.278,
          "lost_std": 22.60486000168317,
          "m": 30,
          "profit_mean": 1194.7183,
          "profit_std": 97.12779933939878,
          "s": 20
         },
         {
          "N": 1000,
          "S": 120,
          "lost_mean": 21.971,
          "lost_std": 23.289451637115835,
          "m": 30,
          "profit_mean": 1205.3444999999997,
          "profit_std": 90.91498338532519,
          "s": 20
         },
         {
          "N": 1000,
          "S": 130,
          "lost_mean": 20.817,
          "lost_std": 21.991524234080234,
          "m": 30,
          "profit_mean": 1237.1716999999999,
          "profit_std": 92.27099493131965,
          "s": 20
         },
         {
          "N": 1000,
          "S": 140,
          "lost_mean": 18.236,
          "lost_std": 21.096952040173605,
          "m": 30,
          "profit_mean": 1257.9718999999998,
          "profit_std": 111.07161015746992,
          "s": 20
         },
         {
          "N": 1000,
          "S": 150,
          "lost_mean": 19.472,
          "lost_std": 21.948233207730887,
          "m": 30,
          "profit_mean": 1234.4948,
          "profit_std": 106.87750527634006,
          "s": 20
         },
         {
          "N": 1000,
          "S": 160,
          "lost_mean": 18.192,
          "lost_std": 18.99926598866672,
          "m": 30,
          "profit_mean": 1236.3881999999999,
          "profit_std": 93.91827566167974,
          "s": 20
         },
         {
          "N": 1000,
          "S": 170,
          "lost_mean": 15.47,
          "lost_std": 17.796792571298507,
          "m": 30,
          "profit_mean": 1273.3798000000002,
          "profit_std": 96.3173382190434,
          "s": 20
         },
         {
          "N": 1000,
          "S": 180,
          "lost_mean": 14.089,
          "lost_std": 18.273834080783704,
          "m": 30,
          "profit_mean": 1308.7955,
          "profit_std": 106.53378580181626,
          "s": 20
         },
         {
          "N": 1000,
          "S": 190,
          "lost_mean": 14.625,
          "lost_std": 19.337639962501093,
          "m": 30,
          "profit_mean": 1289.8327,
          "profit_std": 126.79617577395976,
          "s": 20
         },
         {
          "N": 1000,
          "S": 200,
          "lost_mean": 15.117,
          "lost_std": 19.898675038008644,
          "m": 30,
          "profit_mean": 1247.7578000000003,
          "profit_std": 128.4671357356586,
          "s": 20
         },
         {
          "N": 1000,
          "S": 210,
          "lost_mean": 15.026,
          "lost_std": 19.86237241212232,
          "m": 30,
          "profit_mean": 1211.2131999999997,
          "profit_std": 122.21156169353033,
          "s": 20
         },
         {
          "N": 1000,
          "S": 220,
          "lost_mean": 13.916,
          "lost_std": 18.62153875773175,
          "m": 30,
          "profit_mean": 1184.7586000000001,
          "profit_std": 107.37593332352041,
          "s": 20
         },
         {
          "N": 1000,
          "S": 230,
          "lost_mean": 13.018,
          "lost_std": 16.58881746433015,
          "m": 30,
          "profit_mean": 1176.4448000000002,
          "profit_std": 104.54276475501602,
          "s": 20
         },
         {
          "N": 1000,
          "S": 240,
          "lost_mean": 13.689,
          "lost_std": 16.74439170748384,
          "m": 30,
          "profit_mean": 1195.0647000000004,
          "profit_std": 113.07643097990471,
          "s": 20
         },
         {
          "N": 1000,
          "S": 250,
          "lost_mean": 11.776,
          "lost_std": 16.75358190079085,
          "m": 30,
          "profit_mean": 1231.1456,
          "profit_std": 119.87073602007285,
          "s": 20
         },
         {
          "N": 1000,
          "S": 260,
          "lost_mean": 11.19,
          "lost_std": 15.694400728100902,
          "m": 30,
          "profit_mean": 1275.1824000000001,
          "profit_std": 126.80720222754218,
          "s": 20
         },
         {
          "N": 1000,
          "S": 270,
          "lost_mean": 9.54,
          "lost_std": 14.915927221761471,
          "m": 30,
          "profit_mean": 1300.4864999999998,
          "profit_std": 123.03880084861143,
          "s": 20
         },
         {
          "N": 1000,
          "S": 280,
          "lost_mean": 9.808,
          "lost_std": 15.266440325111814,
          "m": 30,
          "profit_mean": 1276.2403999999997,
          "profit_std": 128.0450192502418,
          "s": 20
         },
         {
          "N": 1000,
          "S": 290,
          "lost_mean": 9.308,
          "lost_std": 15.153638796301331,
          "m": 30,
          "profit_mean": 1244.5542,
          "profit_std": 126.72986633537249,
          "s": 20
         },
         {
          "N": 1000,
          "S": 300,
          "lost_mean": 9.594,
          "lost_std": 15.835400971365512,
          "m": 30,
          "profit_mean": 1217.9494999999997,
          "profit_std": 136.1850192172737,
          "s": 20
         },
         {
          "N": 1000,
          "S": 310,
          "lost_mean": 9.951,
          "lost_std": 16.421579317083584,
          "m": 30,
          "profit_mean": 1171.2522999999999,
          "profit_std": 127.74019810898574,
          "s": 20
         },
         {
          "N": 1000,
          "S": 320,
          "lost_mean": 9.172,
          "lost_std": 15.698434853731657,
          "m": 30,
          "profit_mean": 1133.0195,
          "profit_std": 128.37437006131185,
          "s": 20
         },
         {
          "N": 1000,
          "S": 330,
          "lost_mean": 9.966,
          "lost_std": 15.578238845438388,
          "m": 30,
          "profit_mean": 1095.7121000000002,
          "profit_std": 131.96033545624127,
          "s": 20
         },
         {
          "N": 1000,
          "S": 340,
          "lost_mean": 9.957,
          "lost_std": 17.033122974906224,
          "m": 30,
          "profit_mean": 1058.6271,
          "profit_std": 126.23920394315786,
          "s": 20
         },
         {
          "N": 1000,
          "S": 350,
          "lost_mean": 10.056,
          "lost_std": 16.540327882071942,
          "m": 30,
          "profit_mean": 1028.3720999999998,
          "profit_std": 121.3324520295601,
          "s": 20
         },
         {
          "N": 1000,
          "S": 100,
          "lost_mean": 19.312,
          "lost_std": 21.26906272098113,
          "m": 30,
          "profit_mean": 1131.5505999999998,
          "profit_std": 86.1490057448769,
          "s": 25
         },
         {
          "N": 1000,
          "S": 110,
          "lost_mean": 17.565,
          "lost_std": 20.348361870942604,
          "m": 30,
          "profit_mean": 1173.5402000000001,
          "profit_std": 91.73663463466539,
          "s": 25
         },
         {
          "N": 1000,
          "S": 120,
          "lost_mean": 16.558,
          "lost_std": 21.10872365194576,
          "m": 30,
          "profit_mean": 1194.4519999999998,
          "profit_std": 100.29524710868702,
          "s": 25
         },
         {
          "N": 1000,
          "S": 130,
          "lost_mean": 15.22,
          "lost_std": 18.20849112774447,
          "m": 30,
          "profit_mean": 1211.2060999999999,
          "profit_std": 89.7361093546634,
          "s": 25
         },
         {
          "N": 1000,
          "S": 140,
          "lost_mean": 13.209,
          "lost_std": 17.60543297593872,
          "m": 30,
          "profit_mean": 1254.1981,
          "profit_std": 96.1903448836672,
          "s": 25
         },
         {
          "N": 1000,
          "S": 150,
          "lost_mean": 13.907,
          "lost_std": 20.021368739579373,
          "m": 30,
          "profit_mean": 1246.9987,
          "profit_std": 108.41314679829522,
          "s": 25
         },
         {
          "N": 1000,
          "S": 160,
          "lost_mean": 13.013,
          "lost_std": 17.35084674829684,
          "m": 30,
          "profit_mean": 1229.3961000000004,
          "profit_std": 102.40191769462882,
          "s": 25
         },
         {
          "N": 1000,
          "S": 170,
          "lost_mean": 11.746,
          "lost_std": 16.900743152865182,
          "m": 30,
          "profit_mean": 1242.3199000000002,
          "profit_std": 96.06047120495566,
          "s": 25
         },
         {
          "N": 1000,
          "S": 180,
          "lost_mean": 10.496,
          "lost_std": 15.295749211592868,
          "m": 30,
          "profit_mean": 1279.2454,
          "profit_std": 104.1101210072111,
          "s": 25
         },
         {
          "N": 1000,
          "S": 190,
          "lost_mean": 10.275,
          "lost_std": 15.950730415902616,
          "m": 30,
          "profit_mean": 1298.2658000000001,
          "profit_std": 112.11519284569253,
          "s": 25
         },
         {
          "N": 1000,
          "S": 200,
          "lost_mean": 9.857,
          "lost_std": 14.966848618114556,
          "m": 30,
          "profit_mean": 1270.9656,
          "profit_std": 125.313000861143,
          "s": 25
         },
         {
          "N": 1000,
          "S": 210,
          "lost_mean": 9.563,
          "lost_std": 15.494841758505348,
          "m": 30,
          "profit_mean": 1234.9551999999999,
          "profit_std": 121.11939622166676,
          "s": 25
         },
         {
          "N": 1000,
          "S": 220,
          "lost_mean": 10.068,
          "lost_std": 15.467275539428808,
          "m": 30,
          "profit_mean": 1187.5917,
          "profit_std": 111.50632314452491,
          "s": 25
         },
         {
          "N": 1000,
          "S": 230,
          "lost_mean": 10.474,
          "lost_std": 16.075688220158778,
          "m": 30,
          "profit_mean": 1163.8123999999998,
          "profit_std": 109.21766342604225,
          "s": 25
         },
         {
          "N": 1000,
          "S": 240,
          "lost_mean": 9.374,
          "lost_std": 14.475208311304385,
          "m": 30,
          "profit_mean": 1164.4014000000002,
          "profit_std": 110.6556448165649,
          "s": 25
         },
         {
          "N": 1000,
          "S": 250,
          "lost_mean": 8.381,
          "lost_std": 14.211537805839551,
          "m": 30,
          "profit_mean": 1179.8042,
          "profit_std": 122.23629548662824,
          "s": 25
         },
         {
          "N": 1000,
          "S": 260,
          "lost_mean": 8.421,
          "lost_std": 13.531698558047541,
          "m": 30,
          "profit_mean": 1226.7263,
          "profit_std": 130.35608596247994,
          "s": 25
         },
         {
          "N": 1000,
          "S": 270,
          "lost_mean": 7.097,
          "lost_std": 12.757442664709233,
          "m": 30,
          "profit_mean": 1268.3445,
          "profit_std": 122.40158854618116,
          "s": 25
         },
         {
          "N": 1000,
          "S": 280,
          "lost_mean": 6.838,
          "lost_std": 12.655430293590019,
          "m": 30,
          "profit_mean": 1283.186,
          "profit_std": 120.7157829127751,
          "s": 25
         },
         {
          "N": 1000,
          "S": 290,
          "lost_mean": 6.787,
          "lost_std": 13.239067335122364,
          "m": 30,
          "profit_mean": 1258.1580999999999,
          "profit_std": 129.19212592023473,
          "s": 25
         },
         {
          "N": 1000,
          "S": 300,
          "lost_mean": 6.525,
          "lost_std": 13.784243917617697,
          "m": 30,
          "profit_mean": 1232.1326000000001,
          "profit_std": 127.93300735780277,
          "s": 25
         },
         {
          "N": 1000,
          "S": 310,
          "lost_mean": 7.132,
          "lost_std": 14.402361056576932,
          "m": 30,
          "profit_mean": 1186.056,
          "profit_std": 126.52310168210096,
          "s": 25
         },
         {
          "N": 1000,
          "S": 320,
          "lost_mean": 6.893,
          "lost_std": 13.935557066394967,
          "m": 30,
          "profit_mean": 1144.8724999999997,
          "profit_std": 124.39465681609639,
          "s": 25
         },
         {
          "N": 1000,
          "S": 330,
          "lost_mean": 6.786,
          "lost_std": 12.444962076321529,
          "m": 30,
          "profit_mean": 1109.8701999999998,
          "profit_std": 128.0685201672051,
          "s": 25
         },
         {
          "N": 1000,
          "S": 340,
          "lost_mean": 7.435,
          "lost_std": 14.191094466677411,
          "m": 30,
          "profit_mean": 1068.2060000000001,
          "profit_std": 118.80377822999453,
          "s": 25
         },
         {
          "N": 1000,
          "S": 350,
          "lost_mean": 6.376,
          "lost_std": 13.233811157703503,
          "m": 30,
          "profit_mean": 1031.7739000000004,
          "profit_std": 117.28273346216979,
          "s": 25
         },
         {
          "N": 1000,
          "S": 100,
          "lost_mean": 14.493,
          "lost_std": 16.93004954445136,
          "m": 30,
          "profit_mean": 1098.7679999999996,
          "profit_std": 87.74148120201485,
          "s": 30
         },
         {
          "N": 1000,
          "S": 110,
          "lost_mean": 13.032,
          "lost_std": 17.604115452952495,
          "m": 30,
          "profit_mean": 1146.1675,
          "profit_std": 89.27774823594108,
          "s": 30
         },
         {
          "N": 1000,
          "S": 120,
          "lost_mean": 12.086,
          "lost_std": 17.191513957535914,
          "m": 30,
          "profit_mean": 1186.2892,
          "profit_std": 92.6146289354595,
          "s": 30
         },
         {
          "N": 1000,
          "S": 130,
          "lost_mean": 12.39,
          "lost_std": 17.933474552063508,
          "m": 30,
          "profit_mean": 1191.3265999999999,
          "profit_std": 97.20116109470173,
          "s": 30
         },
         {
          "N": 1000,
          "S": 140,
          "lost_mean": 10.577,
          "lost_std": 16.186849140122515,
          "m": 30,
          "profit_mean": 1228.0586000000003,
          "profit_std": 98.98152134417617,
          "s": 30
         },
         {
          "N": 1000,
          "S": 150,
          "lost_mean": 10.287,
          "lost_std": 15.857682589114248,
          "m": 30,
          "profit_mean": 1249.7449999999997,
          "profit_std": 107.04220994406697,
          "s": 30
         },
         {
          "N": 1000,
          "S": 160,
          "lost_mean": 9.837,
          "lost_std": 15.58709044011705,
          "m": 30,
          "profit_mean": 1225.9841000000001,
          "profit_std": 103.69674813012585,
          "s": 30
         },
         {
          "N": 1000,
          "S": 170,
          "lost_mean": 9.303,
          "lost_std": 14.403702914794431,
          "m": 30,
          "profit_mean": 1210.3669,
          "profit_std": 101.65758200138525,
          "s": 30
         },
         {
          "N": 1000,
          "S": 180,
          "lost_mean": 8.719,
          "lost_std": 15.456096853019844,
          "m": 30,
          "profit_mean": 1242.0267999999999,
          "profit_std": 105.60051908675162,
          "s": 30
         },
         {
          "N": 1000,
          "S": 190,
          "lost_mean": 8.022,
          "lost_std": 14.57394647704992,
          "m": 30,
          "profit_mean": 1280.9768000000001,
          "profit_std": 109.10577350246672,
          "s": 30
         },
         {
          "N": 1000,
          "S": 200,
          "lost_mean": 7.489,
          "lost_std": 14.325260629115693,
          "m": 30,
          "profit_mean": 1280.1108999999997,
          "profit_std": 118.02020191157634,
          "s": 30
         },
         {
          "N": 1000,
          "S": 210,
          "lost_mean": 7.238,
          "lost_std": 13.643148151782691,
          "m": 30,
          "profit_mean": 1245.2436,
          "profit_std": 118.61010992835821,
          "s": 30
         },
         {
          "N": 1000,
          "S": 220,
          "lost_mean": 6.689,
          "lost_std": 12.819228198749393,
          "m": 30,
          "profit_mean": 1197.9664999999998,
          "profit_std": 121.33480268287452,
          "s": 30
         },
         {
          "N": 1000,
          "S": 230,
          "lost_mean": 7.387,
          "lost_std": 14.129291131117222,
          "m": 30,
          "profit_mean": 1162.3125999999995,
          "profit_std": 106.92020403680155,
          "s": 30
         },
         {
          "N": 1000,
          "S": 240,
          "lost_mean": 7.41,
          "lost_std": 13.328899412913266,
          "m": 30,
          "profit_mean": 1141.4990999999998,
          "profit_std": 108.8291590293936,
          "s": 30
         },
         {
          "N": 1000,
          "S": 250,
          "lost_mean": 6.79,
          "lost_std": 12.804212113513577,
          "m": 30,
          "profit_mean": 1143.9334000000001,
          "profit_std": 111.14024689066926,
          "s": 30
         },
         {
          "N": 1000,
          "S": 260,
          "lost_mean": 5.064,
          "lost_std": 10.579689685138872,
          "m": 30,
          "profit_mean": 1170.6026000000002,
          "profit_std": 129.45030581236537,
          "s": 30
         },
         {
          "N": 1000,
          "S": 270,
          "lost_mean": 5.663,
          "lost_std": 12.0167313705863,
          "m": 30,
          "profit_mean": 1217.8612000000003,
          "profit_std": 132.81120921011095,
          "s": 30
         },
         {
          "N": 1000,
          "S": 280,
          "lost_mean": 4.551,
          "lost_std": 10.914509861900605,
          "m": 30,
          "profit_mean": 1252.7332000000001,
          "profit_std": 127.5637649643969,
          "s": 30
         },
         {
          "N": 1000,
          "S": 290,
          "lost_mean": 5.559,
          "lost_std": 12.501792424041193,
          "m": 30,
          "profit_mean": 1258.1283999999998,
          "profit_std": 123.57190793165681,
          "s": 30
         },
         {
          "N": 1000,
          "S": 300,
          "lost_mean": 5.366,
          "lost_std": 12.10043240816065,
          "m": 30,
          "profit_mean": 1239.6995000000004,
          "profit_std": 122.46052682550561,
          "s": 30
         },
         {
          "N": 1000,
          "S": 310,
          "lost_mean": 5.09,
          "lost_std": 11.500180613979683,
          "m": 30,
          "profit_mean": 1200.8056999999994,
          "profit_std": 132.66096362072295,
          "s": 30
         },
         {
          "N": 1000,
          "S": 320,
          "lost_mean": 5.144,
          "lost_std": 11.38256679430553,
          "m": 30,
          "profit_mean": 1154.1499999999999,
          "profit_std": 129.7827008867108,
          "s": 30
         },
         {
          "N": 1000,
          "S": 330,
          "lost_mean": 4.451,
          "lost_std": 10.832125088547212,
          "m": 30,
          "profit_mean": 1121.1037,
          "profit_std": 127.44165367493237,
          "s": 30
         },
         {
          "N": 1000,
          "S": 340,
          "lost_mean": 4.842,
          "lost_std": 11.936226770194573,
          "m": 30,
          "profit_mean": 1087.1087000000002,
          "profit_std": 123.52747212940399,
          "s": 30
         },
         {
          "N": 1000,
          "S": 350,
          "lost_mean": 4.549,
          "lost_std": 10.585066964485522,
          "m": 30,
          "profit_mean": 1043.6373999999998,
          "profit_std": 118.40139395856508,
          "s": 30
         },
         {
          "N": 1000,
          "S": 100,
          "lost_mean": 10.456,
          "lost_std": 15.771455316577562,
          "m": 30,
          "profit_mean": 1064.4193,
          "profit_std": 87.93451208669964,
          "s": 35
         },
         {
          "N": 1000,
          "S": 110,
          "lost_mean": 9.359,
          "lost_std": 14.919742548640636,
          "m": 30,
          "profit_mean": 1113.2359,
          "profit_std": 88.40497520406208,
          "s": 35
         },
         {
          "N": 1000,
          "S": 120,
          "lost_mean": 10.399,
          "lost_std": 16.970851740817515,
          "m": 30,
          "profit_mean": 1151.6631,
          "profit_std": 88.54828845199538,
          "s": 35
         },
         {
          "N": 1000,
          "S": 130,
          "lost_mean": 8.532,
          "lost_std": 14.988583443195473,
          "m": 30,
          "profit_mean": 1186.5961999999997,
          "profit_std": 96.49156983181797,
          "s": 35
         },
         {
          "N": 1000,
          "S": 140,
          "lost_mean": 8.368,
          "lost_std": 14.457856189823087,
          "m": 30,
          "profit_mean": 1193.4414000000004,
          "profit_std": 97.66394397110936,
          "s": 35
         },
         {
          "N": 1000,
          "S": 150,
          "lost_mean": 7.459,
          "lost_std": 14.88441684665089,
          "m": 30,
          "profit_mean": 1222.4188000000001,
          "profit_std": 100.9965856694021,
          "s": 35
         },
         {
          "N": 1000,
          "S": 160,
          "lost_mean": 7.356,
          "lost_std": 14.461064496999743,
          "m": 30,
          "profit_mean": 1225.6929000000005,
          "profit_std": 106.17102168405196,
          "s": 35
         },
         {
          "N": 1000,
          "S": 170,
          "lost_mean": 6.987,
          "lost_std": 13.114298144232343,
          "m": 30,
          "profit_mean": 1209.6692999999998,
          "profit_std": 104.92211653435156,
          "s": 35
         },
         {
          "N": 1000,
          "S": 180,
          "lost_mean": 6.658,
          "lost_std": 12.651604605705122,
          "m": 30,
          "profit_mean": 1207.3799999999994,
          "profit_std": 105.86222901267256,
          "s": 35
         },
         {
          "N": 1000,
          "S": 190,
          "lost_mean": 5.475,
          "lost_std": 11.459786285166997,
          "m": 30,
          "profit_mean": 1243.3835000000001,
          "profit_std": 105.09118704889265,
          "s": 35
         },
         {
          "N": 1000,
          "S": 200,
          "lost_mean": 5.839,
          "lost_std": 12.754519071950797,
          "m": 30,
          "profit_mean": 1266.5751,
          "profit_std": 108.86528611320742,
          "s": 35
         },
         {
          "N": 1000,
          "S": 210,
          "lost_mean": 5.49,
          "lost_std": 12.524726295163848,
          "m": 30,
          "profit_mean": 1241.7917000000002,
          "profit_std": 115.37176120868745,
          "s": 35
         },
         {
          "N": 1000,
          "S": 220,
          "lost_mean": 4.829,
          "lost_std": 11.013221601786194,
          "m": 30,
          "profit_mean": 1211.6935000000003,
          "profit_std": 119.633824814681,
          "s": 35
         },
         {
          "N": 1000,
          "S": 230,
          "lost_mean": 5.09,
          "lost_std": 11.348069381118476,
          "m": 30,
          "profit_mean": 1174.4196000000002,
          "profit_std": 110.27423081491806,
          "s": 35
         },
         {
          "N": 1000,
          "S": 240,
          "lost_mean": 5.173,
          "lost_std": 11.86236851504735,
          "m": 30,
          "profit_mean": 1141.8590000000002,
          "profit_std": 111.34839398861506,
          "s": 35
         },
         {
          "N": 1000,
          "S": 250,
          "lost_mean": 4.685,
          "lost_std": 10.541389656771821,
          "m": 30,
          "profit_mean": 1123.8239,
          "profit_std": 111.03969440034732,
          "s": 35
         },
         {
          "N": 1000,
          "S": 260,
          "lost_mean": 4.678,
          "lost_std": 11.884087998140522,
          "m": 30,
          "profit_mean": 1133.1587000000002,
          "profit_std": 126.83201813869844,
          "s": 35
         },
         {
          "N": 1000,
          "S": 270,
          "lost_mean": 4.311,
          "lost_std": 10.422807391193313,
          "m": 30,
          "profit_mean": 1162.6994000000002,
          "profit_std": 135.33182124497358,
          "s": 35
         },
         {
          "N": 1000,
          "S": 280,
          "lost_mean": 4.032,
          "lost_std": 10.166628562917811,
          "m": 30,
          "profit_mean": 1210.8788999999997,
          "profit_std": 136.2093480319221,
          "s": 35
         },
         {
          "N": 1000,
          "S": 290,
          "lost_mean": 3.827,
          "lost_std": 10.693616059332994,
          "m": 30,
          "profit_mean": 1237.1174,
          "profit_std": 120.85840985414491,
          "s": 35
         },
         {
          "N": 1000,
          "S": 300,
          "lost_mean": 3.148,
          "lost_std": 8.21885914501798,
          "m": 30,
          "profit_mean": 1230.8906,
          "profit_std": 120.89053359445789,
          "s": 35
         },
         {
          "N": 1000,
          "S": 310,
          "lost_mean": 3.259,
          "lost_std": 10.018797098219691,
          "m": 30,
          "profit_mean": 1207.9512000000002,
          "profit_std": 128.7103369173952,
          "s": 35
         },
         {
          "N": 1000,
          "S": 320,
          "lost_mean": 3.665,
          "lost_std": 10.155782338890239,
          "m": 30,
          "profit_mean": 1166.9792999999997,
          "profit_std": 127.60502679900338,
          "s": 35
         },
         {
          "N": 1000,
          "S": 330,
          "lost_mean": 3.559,
          "lost_std": 10.160499729578008,
          "m": 30,
          "profit_mean": 1125.2972000000004,
          "profit_std": 126.2919595667563,
          "s": 35
         },
         {
          "N": 1000,
          "S": 340,
          "lost_mean": 3.205,
          "lost_std": 9.189527867220518,
          "m": 30,
          "profit_mean": 1090.5718,
          "profit_std": 125.370040487398,
          "s": 35
         },
         {
          "N": 1000,
          "S": 350,
          "lost_mean": 4.121,
          "lost_std": 11.053530636839051,
          "m": 30,
          "profit_mean": 1041.8184,
          "profit_std": 120.40641879537455,
          "s": 35
         },
         {
          "N": 1000,
          "S": 100,
          "lost_mean": 8.256,
          "lost_std": 15.043961738344878,
          "m": 30,
          "profit_mean": 1011.5521,
          "profit_std": 88.1933669022538,
          "s": 40
         },
         {
          "N": 1000,
          "S": 110,
          "lost_mean": 8.22,
          "lost_std": 14.402952650239639,
          "m": 30,
          "profit_mean": 1074.2235000000003,
          "profit_std": 90.945487185398,
          "s": 40
         },
         {
          "N": 1000,
          "S": 120,
          "lost_mean": 6.566,
          "lost_std": 13.79245720949954,
          "m": 30,
          "profit_mean": 1112.0640000000005,
          "profit_std": 95.07072865739197,
          "s": 40
         },
         {
          "N": 1000,
          "S": 130,
          "lost_mean": 6.12,
          "lost_std": 13.451339655905594,
          "m": 30,
          "profit_mean": 1158.4193,
          "profit_std": 97.6712174810688,
          "s": 40
         },
         {
          "N": 1000,
          "S": 140,
          "lost_mean": 5.547,
          "lost_std": 12.030399890341197,
          "m": 30,
          "profit_mean": 1171.3737,
          "profit_std": 99.34421952112898,
          "s": 40
         },
         {
          "N": 1000,
          "S": 150,
          "lost_mean": 5.603,
          "lost_std": 11.564044193884683,
          "m": 30,
          "profit_mean": 1187.8304,
          "profit_std": 99.42343987328258,
          "s": 40
         },
         {
          "N": 1000,
          "S": 160,
          "lost_mean": 5.383,
          "lost_std": 12.598215192082804,
          "m": 30,
          "profit_mean": 1213.8401999999999,
          "profit_std": 100.57412947413205,
          "s": 40
         },
         {
          "N": 1000,
          "S": 170,
          "lost_mean": 5.486,
          "lost_std": 12.83052712971788,
          "m": 30,
          "profit_mean": 1204.2852,
          "profit_std": 109.32361397947624,
          "s": 40
         },
         {
          "N": 1000,
          "S": 180,
          "lost_mean": 5.06,
          "lost_std": 11.827437942694452,
          "m": 30,
          "profit_mean": 1183.0405999999996,
          "profit_std": 102.69867501331015,
          "s": 40
         },
         {
          "N": 1000,
          "S": 190,
          "lost_mean": 4.751,
          "lost_std": 12.041677665549809,
          "m": 30,
          "profit_mean": 1195.6945999999998,
          "profit_std": 109.05479190974818,
          "s": 40
         },
         {
          "N": 1000,
          "S": 200,
          "lost_mean": 3.749,
          "lost_std": 9.807149391091134,
          "m": 30,
          "profit_mean": 1231.1434999999997,
          "profit_std": 113.41306627259203,
          "s": 40
         },
         {
          "N": 1000,
          "S": 210,
          "lost_mean": 3.504,
          "lost_std": 10.19440581446069,
          "m": 30,
          "profit_mean": 1246.4604999999997,
          "profit_std": 112.43129032789224,
          "s": 40
         },
         {
          "N": 1000,
          "S": 220,
          "lost_mean": 4.041,
          "lost_std": 10.112149849293898,
          "m": 30,
          "profit_mean": 1223.9846000000005,
          "profit_std": 115.28553490094669,
          "s": 40
         },
         {
          "N": 1000,
          "S": 230,
          "lost_mean": 3.575,
          "lost_std": 9.693210682396899,
          "m": 30,
          "profit_mean": 1191.8185999999998,
          "profit_std": 115.86032707285712,
          "s": 40
         },
         {
          "N": 1000,
          "S": 240,
          "lost_mean": 4.076,
          "lost_std": 10.562660355885434,
          "m": 30,
          "profit_mean": 1141.2654999999997,
          "profit_std": 110.45498623300684,
          "s": 40
         },
         {
          "N": 1000,
          "S": 250,
          "lost_mean": 3.568,
          "lost_std": 10.033845427056072,
          "m": 30,
          "profit_mean": 1121.5017999999998,
          "profit_std": 113.43667253333656,
          "s": 40
         },
         {
          "N": 1000,
          "S": 260,
          "lost_mean": 2.853,
          "lost_std": 7.995080506931263,
          "m": 30,
          "profit_mean": 1096.5067,
          "profit_std": 116.24106085776808,
          "s": 40
         },
         {
          "N": 1000,
          "S": 270,
          "lost_mean": 3.373,
          "lost_std": 9.24853536547309,
          "m": 30,
          "profit_mean": 1117.9872,
          "profit_std": 132.21272541219668,
          "s": 40
         },
         {
          "N": 1000,
          "S": 280,
          "lost_mean": 2.89,
          "lost_std": 9.187181521244932,
          "m": 30,
          "profit_mean": 1151.5143000000003,
          "profit_std": 138.4628465162239,
          "s": 40
         },
         {
          "N": 1000,
          "S": 290,
          "lost_mean": 2.354,
          "lost_std": 8.417573257153128,
          "m": 30,
          "profit_mean": 1198.8379000000004,
          "profit_std": 132.56975187689952,
          "s": 40
         },
         {
          "N": 1000,
          "S": 300,
          "lost_mean": 2.547,
          "lost_std": 8.725475627432864,
          "m": 30,
          "profit_mean": 1220.44,
          "profit_std": 122.26009738018129,
          "s": 40
         },
         {
          "N": 1000,
          "S": 310,
          "lost_mean": 2.779,
          "lost_std": 9.088496011979082,
          "m": 30,
          "profit_mean": 1200.8228000000001,
          "profit_std": 121.02437878551751,
          "s": 40
         },
         {
          "N": 1000,
          "S": 320,
          "lost_mean": 2.596,
          "lost_std": 8.306369831627999,
          "m": 30,
          "profit_mean": 1173.4143000000001,
          "profit_std": 121.81342617423708,
          "s": 40
         },
         {
          "N": 1000,
          "S": 330,
          "lost_mean": 2.098,
          "lost_std": 7.36169753457656,
          "m": 30,
          "profit_mean": 1135.8409,
          "profit_std": 127.08756298653246,
          "s": 40
         },
         {
          "N": 1000,
          "S": 340,
          "lost_mean": 2.451,
          "lost_std": 8.622873822163518,
          "m": 30,
          "profit_mean": 1095.6269,
          "profit_std": 118.5884960600639,
          "s": 40
         },
         {
          "N": 1000,
          "S": 350,
          "lost_mean": 2.65,
          "lost_std": 8.819596662279135,
          "m": 30,
          "profit_mean": 1052.3588,
          "profit_std": 129.20559983835682,
          "s": 40
         },
         {
          "N": 1000,
          "S": 100,
          "lost_mean": 6.852,
          "lost_std": 13.979181432169534,
          "m": 30,
          "profit_mean": 962.8335999999998,
          "profit_std": 94.1271192888937,
          "s": 45
         },
         {
          "N": 1000,
          "S": 110,
          "lost_mean": 5.317,
          "lost_std": 11.935449969145111,
          "m": 30,
          "profit_mean": 1025.3848,
          "profit_std": 95.58566245953327,
          "s": 45
         },
         {
          "N": 1000,
          "S": 120,
          "lost_mean": 5.266,
          "lost_std": 11.564297513337204,
          "m": 30,
          "profit_mean": 1083.3567,
          "profit_std": 94.64787697421283,
          "s": 45
         },
         {
          "N": 1000,
          "S": 130,
          "lost_mean": 5.323,
          "lost_std": 11.83379523693518,
          "m": 30,
          "profit_mean": 1118.7586999999996,
          "profit_std": 97.07716652524716,
          "s": 45
         },
         {
          "N": 1000,
          "S": 140,
          "lost_mean": 4.898,
          "lost_std": 12.312237294139004,
          "m": 30,
          "profit_mean": 1151.4609,
          "profit_std": 98.88349177762754,
          "s": 45
         },
         {
          "N": 1000,
          "S": 150,
          "lost_mean": 4.266,
          "lost_std": 10.535950372427262,
          "m": 30,
          "profit_mean": 1162.1808999999996,
          "profit_std": 103.3380390539007,
          "s": 45
         },
         {
          "N": 1000,
          "S": 160,
          "lost_mean": 3.768,
          "lost_std": 9.78876887029191,
          "m": 30,
          "profit_mean": 1179.6214999999997,
          "profit_std": 101.95326240717097,
          "s": 45
         },
         {
          "N": 1000,
          "S": 170,
          "lost_mean": 4.01,
          "lost_std": 10.998038773202106,
          "m": 30,
          "profit_mean": 1197.8699000000001,
          "profit_std": 102.23891578009761,
          "s": 45
         },
         {
          "N": 1000,
          "S": 180,
          "lost_mean": 3.558,
          "lost_std": 10.045573629691317,
          "m": 30,
          "profit_mean": 1173.481,
          "profit_std": 106.65725727548747,
          "s": 45
         },
         {
          "N": 1000,
          "S": 190,
          "lost_mean": 3.238,
          "lost_std": 9.657049995449677,
          "m": 30,
          "profit_mean": 1169.6976,
          "profit_std": 105.94586221254683,
          "s": 45
         },
         {
          "N": 1000,
          "S": 200,
          "lost_mean": 3.004,
          "lost_std": 8.989927853036574,
          "m": 30,
          "profit_mean": 1191.7688999999998,
          "profit_std": 112.5661771894073,
          "s": 45
         },
         {
          "N": 1000,
          "S": 210,
          "lost_mean": 2.868,
          "lost_std": 8.775510559824179,
          "m": 30,
          "profit_mean": 1220.5394000000001,
          "profit_std": 108.01215382082246,
          "s": 45
         },
         {
          "N": 1000,
          "S": 220,
          "lost_mean": 2.939,
          "lost_std": 9.07500053083385,
          "m": 30,
          "profit_mean": 1223.2257,
          "profit_std": 115.50340915763931,
          "s": 45
         },
         {
          "N": 1000,
          "S": 230,
          "lost_mean": 2.068,
          "lost_std": 7.140894087463306,
          "m": 30,
          "profit_mean": 1190.9651999999999,
          "profit_std": 116.82764453453426,
          "s": 45
         },
         {
          "N": 1000,
          "S": 240,
          "lost_mean": 2.581,
          "lost_std": 8.589716073434687,
          "m": 30,
          "profit_mean": 1144.9629,
          "profit_std": 113.03032118461442,
          "s": 45
         },
         {
          "N": 1000,
          "S": 250,
          "lost_mean": 2.62,
          "lost_std": 8.031818605403767,
          "m": 30,
          "profit_mean": 1106.9587000000001,
          "profit_std": 113.60733255525508,
          "s": 45
         },
         {
          "N": 1000,
          "S": 260,
          "lost_mean": 2.415,
          "lost_std": 8.186195012873128,
          "m": 30,
          "profit_mean": 1083.612,
          "profit_std": 111.62360711635182,
          "s": 45
         },
         {
          "N": 1000,
          "S": 270,
          "lost_mean": 2.294,
          "lost_std": 7.55795519215923,
          "m": 30,
          "profit_mean": 1081.0412,
          "profit_std": 122.80627346908365,
          "s": 45
         },
         {
          "N": 1000,
          "S": 280,
          "lost_mean": 2.483,
          "lost_std": 8.17021807930874,
          "m": 30,
          "profit_mean": 1116.4928,
          "profit_std": 141.34035001620273,
          "s": 45
         },
         {
          "N": 1000,
          "S": 290,
          "lost_mean": 1.55,
          "lost_std": 5.894594663439229,
          "m": 30,
          "profit_mean": 1143.4065999999998,
          "profit_std": 142.85914626691604,
          "s": 45
         },
         {
          "N": 1000,
          "S": 300,
          "lost_mean": 1.937,
          "lost_std": 7.619126070756543,
          "m": 30,
          "profit_mean": 1186.0901000000003,
          "profit_std": 133.9462508250981,
          "s": 45
         },
         {
          "N": 1000,
          "S": 310,
          "lost_mean": 1.867,
          "lost_std": 7.2104994488802445,
          "m": 30,
          "profit_mean": 1190.2935000000002,
          "profit_std": 121.39555901885169,
          "s": 45
         },
         {
          "N": 1000,
          "S": 320,
          "lost_mean": 2.198,
          "lost_std": 8.40734675622931,
          "m": 30,
          "profit_mean": 1171.4760000000003,
          "profit_std": 123.77802116095782,
          "s": 45
         },
         {
          "N": 1000,
          "S": 330,
          "lost_mean": 1.951,
          "lost_std": 7.28200704659276,
          "m": 30,
          "profit_mean": 1146.2992,
          "profit_std": 125.23195839226807,
          "s": 45
         },
         {
          "N": 1000,
          "S": 340,
          "lost_mean": 1.765,
          "lost_std": 6.711692917723649,
          "m": 30,
          "profit_mean": 1093.8299000000002,
          "profit_std": 122.82926803117846,
          "s": 45
         },
         {
          "N": 1000,
          "S": 350,
          "lost_mean": 1.419,
          "lost_std": 6.20579978334388,
          "m": 30,
          "profit_mean": 1063.4941000000001,
          "profit_std": 121.52294211650181,
          "s": 45
         },
         {
          "N": 1000,
          "S": 100,
          "lost_mean": 5.124,
          "lost_std": 12.364849918762195,
          "m": 30,
          "profit_mean": 901.0713,
          "profit_std": 100.33306488999636,
          "s": 50
         },
         {
          "N": 1000,
          "S": 110,
          "lost_mean": 4.01,
          "lost_std": 10.083331471967664,
          "m": 30,
          "profit_mean": 972.9241000000001,
          "profit_std": 95.8143799468253,
          "s": 50
         },
         {
          "N": 1000,
          "S": 120,
          "lost_mean": 4.157,
          "lost_std": 10.527543881655406,
          "m": 30,
          "profit_mean": 1038.5918,
          "profit_std": 91.02257402283095,
          "s": 50
         },
         {
          "N": 1000,
          "S": 130,
          "lost_mean": 3.533,
          "lost_std": 9.982412511991257,
          "m": 30,
          "profit_mean": 1081.9735,
          "profit_std": 96.68534741187084,
          "s": 50
         },
         {
          "N": 1000,
          "S": 140,
          "lost_mean": 3.451,
          "lost_std": 9.7197774189059,
          "m": 30,
          "profit_mean": 1120.6184,
          "profit_std": 94.75451514086059,
          "s": 50
         },
         {
          "N": 1000,
          "S": 150,
          "lost_mean": 2.96,
          "lost_std": 8.79430154928404,
          "m": 30,
          "profit_mean": 1137.6378000000002,
          "profit_std": 100.56391505988702,
          "s": 50
         },
         {
          "N": 1000,
          "S": 160,
          "lost_mean": 2.686,
          "lost_std": 8.455228849350847,
          "m": 30,
          "profit_mean": 1138.9103,
          "profit_std": 103.39070287676427,
          "s": 50
         },
         {
          "N": 1000,
          "S": 170,
          "lost_mean": 2.875,
          "lost_std": 9.650829680059301,
          "m": 30,
          "profit_mean": 1173.9012,
          "profit_std": 101.31499082527682,
          "s": 50
         },
         {
          "N": 1000,
          "S": 180,
          "lost_mean": 2.254,
          "lost_std": 7.323463464585394,
          "m": 30,
          "profit_mean": 1175.3082,
          "profit_std": 105.2025783679053,
          "s": 50
         },
         {
          "N": 1000,
          "S": 190,
          "lost_mean": 2.696,
          "lost_std": 8.96827820788439,
          "m": 30,
          "profit_mean": 1153.6221,
          "profit_std": 106.22469716538559,
          "s": 50
         },
         {
          "N": 1000,
          "S": 200,
          "lost_mean": 2.099,
          "lost_std": 7.757278799577489,
          "m": 30,
          "profit_mean": 1151.3340000000003,
          "profit_std": 110.5502033080512,
          "s": 50
         },
         {
          "N": 1000,
          "S": 210,
          "lost_mean": 2.029,
          "lost_std": 7.417896210124823,
          "m": 30,
          "profit_mean": 1183.2953,
          "profit_std": 113.81536084498556,
          "s": 50
         },
         {
          "N": 1000,
          "S": 220,
          "lost_mean": 1.992,
          "lost_std": 7.584950063610669,
          "m": 30,
          "profit_mean": 1210.9642,
          "profit_std": 111.88685144325889,
          "s": 50
         },
         {
          "N": 1000,
          "S": 230,
          "lost_mean": 2.011,
          "lost_std": 8.755200313672587,
          "m": 30,
          "profit_mean": 1197.1638000000005,
          "profit_std": 120.0058112938882,
          "s": 50
         },
         {
          "N": 1000,
          "S": 240,
          "lost_mean": 1.747,
          "lost_std": 6.829028234428865,
          "m": 30,
          "profit_mean": 1152.4435999999998,
          "profit_std": 117.80224704329049,
          "s": 50
         },
         {
          "N": 1000,
          "S": 250,
          "lost_mean": 1.938,
          "lost_std": 6.945242428626403,
          "m": 30,
          "profit_mean": 1109.5742,
          "profit_std": 106.21813313255964,
          "s": 50
         },
         {
          "N": 1000,
          "S": 260,
          "lost_mean": 1.966,
          "lost_std": 7.594374136064043,
          "m": 30,
          "profit_mean": 1078.0302,
          "profit_std": 108.9768716127716,
          "s": 50
         },
         {
          "N": 1000,
          "S": 270,
          "lost_mean": 1.798,
          "lost_std": 7.229762476421022,
          "m": 30,
          "profit_mean": 1055.8256000000001,
          "profit_std": 113.21077247172039,
          "s": 50
         },
         {
          "N": 1000,
          "S": 280,
          "lost_mean": 2.155,
          "lost_std": 8.163431669133795,
          "m": 30,
          "profit_mean": 1059.101,
          "profit_std": 129.79565505467073,
          "s": 50
         },
         {
          "N": 1000,
          "S": 290,
          "lost_mean": 1.777,
          "lost_std": 7.4911540091222495,
          "m": 30,
          "profit_mean": 1091.0699999999997,
          "profit_std": 148.52870697880863,
          "s": 50
         },
         {
          "N": 1000,
          "S": 300,
          "lost_mean": 1.321,
          "lost_std": 5.989978200197298,
          "m": 30,
          "profit_mean": 1139.2787999999998,
          "profit_std": 140.2783421767018,
          "s": 50
         },
         {
          "N": 1000,
          "S": 310,
          "lost_mean": 1.524,
          "lost_std": 7.583728432435916,
          "m": 30,
          "profit_mean": 1165.1182999999999,
          "profit_std": 130.139553705046,
          "s": 50
         },
         {
          "N": 1000,
          "S": 320,
          "lost_mean": 1.272,
          "lost_std": 6.479660639416392,
          "m": 30,
          "profit_mean": 1169.3793,
          "profit_std": 119.86451010325072,
          "s": 50
         },
         {
          "N": 1000,
          "S": 330,
          "lost_mean": 1.31,
          "lost_std": 5.994984557097692,
          "m": 30,
          "profit_mean": 1141.1592,
          "profit_std": 119.62745296487283,
          "s": 50
         },
         {
          "N": 1000,
          "S": 340,
          "lost_mean": 1.535,
          "lost_std": 6.556963380160728,
          "m": 30,
          "profit_mean": 1098.3847999999996,
          "profit_std": 124.65493597135263,
          "s": 50
         },
         {
          "N": 1000,
          "S": 350,
          "lost_mean": 1.227,
          "lost_std": 6.389859255202834,
          "m": 30,
          "profit_mean": 1067.9732,
          "profit_std": 128.5913059492193,
          "s": 50
         }
        ]
       },
       "encoding": {
        "color": {
         "field": "profit_mean",
         "scale": {
          "scheme": "plasma"
         },
         "type": "quantitative"
        },
        "x": {
         "field": "S",
         "type": "quantitative"
        },
        "y": {
         "field": "s",
         "type": "quantitative"
        }
       },
       "mark": "point"
      },
      "image/png": "[encoded data removed]",
      "image/svg+xml": [
       "<?xml version=\"1.0\" encoding=\"utf-8\"?>\n",
       "<!DOCTYPE svg PUBLIC \"-//W3C//DTD SVG 1.1//EN\" \"http://www.w3.org/Graphics/SVG/1.1/DTD/svg11.dtd\">\n",
       "<svg xmlns=\"http://www.w3.org/2000/svg\" xmlns:xlink=\"http://www.w3.org/1999/xlink\" version=\"1.1\" class=\"marks\" width=\"329\" height=\"247\" viewBox=\"0 0 329 247\"><rect width=\"329\" height=\"247\" fill=\"white\"/><g fill=\"none\" stroke-miterlimit=\"10\" transform=\"translate(37,10)\"><g class=\"mark-group role-frame root\" role=\"graphics-object\" aria-roledescription=\"group mark container\"><g transform=\"translate(0,0)\"><path class=\"background\" aria-hidden=\"true\" d=\"M0.5,0.5h200v200h-200Z\" stroke=\"#ddd\"/><g><g class=\"mark-group role-axis\" aria-hidden=\"true\"><g transform=\"translate(0.5,200.5)\"><path class=\"background\" aria-hidden=\"true\" d=\"M0,0h0v0h0Z\" pointer-events=\"none\"/><g><g class=\"mark-rule role-axis-grid\" pointer-events=\"none\"><line transform=\"translate(0,-200)\" x2=\"0\" y2=\"200\" stroke=\"#ddd\" stroke-width=\"1\" opacity=\"1\"/><line transform=\"translate(29,-200)\" x2=\"0\" y2=\"200\" stroke=\"#ddd\" stroke-width=\"1\" opacity=\"1\"/><line transform=\"translate(57,-200)\" x2=\"0\" y2=\"200\" stroke=\"#ddd\" stroke-width=\"1\" opacity=\"1\"/><line transform=\"translate(86,-200)\" x2=\"0\" y2=\"200\" stroke=\"#ddd\" stroke-width=\"1\" opacity=\"1\"/><line transform=\"translate(114,-200)\" x2=\"0\" y2=\"200\" stroke=\"#ddd\" stroke-width=\"1\" opacity=\"1\"/><line transform=\"translate(143,-200)\" x2=\"0\" y2=\"200\" stroke=\"#ddd\" stroke-width=\"1\" opacity=\"1\"/><line transform=\"translate(171,-200)\" x2=\"0\" y2=\"200\" stroke=\"#ddd\" stroke-width=\"1\" opacity=\"1\"/><line transform=\"translate(200,-200)\" x2=\"0\" y2=\"200\" stroke=\"#ddd\" stroke-width=\"1\" opacity=\"1\"/></g></g><path class=\"foreground\" aria-hidden=\"true\" d=\"\" pointer-events=\"none\" display=\"none\"/></g></g><g class=\"mark-group role-axis\" aria-hidden=\"true\"><g transform=\"translate(0.5,0.5)\"><path class=\"background\" aria-hidden=\"true\" d=\"M0,0h0v0h0Z\" pointer-events=\"none\"/><g><g class=\"mark-rule role-axis-grid\" pointer-events=\"none\"><line transform=\"translate(0,200)\" x2=\"200\" y2=\"0\" stroke=\"#ddd\" stroke-width=\"1\" opacity=\"1\"/><line transform=\"translate(0,160)\" x2=\"200\" y2=\"0\" stroke=\"#ddd\" stroke-width=\"1\" opacity=\"1\"/><line transform=\"translate(0,120)\" x2=\"200\" y2=\"0\" stroke=\"#ddd\" stroke-width=\"1\" opacity=\"1\"/><line transform=\"translate(0,80)\" x2=\"200\" y2=\"0\" stroke=\"#ddd\" stroke-width=\"1\" opacity=\"1\"/><line transform=\"translate(0,40)\" x2=\"200\" y2=\"0\" stroke=\"#ddd\" stroke-width=\"1\" opacity=\"1\"/><line transform=\"translate(0,0)\" x2=\"200\" y2=\"0\" stroke=\"#ddd\" stroke-width=\"1\" opacity=\"1\"/></g></g><path class=\"foreground\" aria-hidden=\"true\" d=\"\" pointer-events=\"none\" display=\"none\"/></g></g><g class=\"mark-group role-axis\" role=\"graphics-symbol\" aria-roledescription=\"axis\" aria-label=\"X-axis titled 'S' for a linear scale with values from 0 to 350\"><g transform=\"translate(0.5,200.5)\"><path class=\"background\" aria-hidden=\"true\" d=\"M0,0h0v0h0Z\" pointer-events=\"none\"/><g><g class=\"mark-rule role-axis-tick\" pointer-events=\"none\"><line transform=\"translate(0,0)\" x2=\"0\" y2=\"5\" stroke=\"#888\" stroke-width=\"1\" opacity=\"1\"/><line transform=\"translate(29,0)\" x2=\"0\" y2=\"5\" stroke=\"#888\" stroke-width=\"1\" opacity=\"1\"/><line transform=\"translate(57,0)\" x2=\"0\" y2=\"5\" stroke=\"#888\" stroke-width=\"1\" opacity=\"1\"/><line transform=\"translate(86,0)\" x2=\"0\" y2=\"5\" stroke=\"#888\" stroke-width=\"1\" opacity=\"1\"/><line transform=\"translate(114,0)\" x2=\"0\" y2=\"5\" stroke=\"#888\" stroke-width=\"1\" opacity=\"1\"/><line transform=\"translate(143,0)\" x2=\"0\" y2=\"5\" stroke=\"#888\" stroke-width=\"1\" opacity=\"1\"/><line transform=\"translate(171,0)\" x2=\"0\" y2=\"5\" stroke=\"#888\" stroke-width=\"1\" opacity=\"1\"/><line transform=\"translate(200,0)\" x2=\"0\" y2=\"5\" stroke=\"#888\" stroke-width=\"1\" opacity=\"1\"/></g><g class=\"mark-text role-axis-label\" pointer-events=\"none\"><text text-anchor=\"start\" transform=\"translate(0,15)\" font-family=\"sans-serif\" font-size=\"10px\" fill=\"#000\" opacity=\"1\">0</text><text text-anchor=\"middle\" transform=\"translate(28.57142857142857,15)\" font-family=\"sans-serif\" font-size=\"10px\" fill=\"#000\" opacity=\"1\">50</text><text text-anchor=\"middle\" transform=\"translate(57.14285714285714,15)\" font-family=\"sans-serif\" font-size=\"10px\" fill=\"#000\" opacity=\"1\">100</text><text text-anchor=\"middle\" transform=\"translate(85.71428571428571,15)\" font-family=\"sans-serif\" font-size=\"10px\" fill=\"#000\" opacity=\"1\">150</text><text text-anchor=\"middle\" transform=\"translate(114.28571428571428,15)\" font-family=\"sans-serif\" font-size=\"10px\" fill=\"#000\" opacity=\"1\">200</text><text text-anchor=\"middle\" transform=\"translate(142.85714285714286,15)\" font-family=\"sans-serif\" font-size=\"10px\" fill=\"#000\" opacity=\"1\">250</text><text text-anchor=\"middle\" transform=\"translate(171.42857142857142,15)\" font-family=\"sans-serif\" font-size=\"10px\" fill=\"#000\" opacity=\"1\">300</text><text text-anchor=\"end\" transform=\"translate(200,15)\" font-family=\"sans-serif\" font-size=\"10px\" fill=\"#000\" opacity=\"1\">350</text></g><g class=\"mark-rule role-axis-domain\" pointer-events=\"none\"><line transform=\"translate(0,0)\" x2=\"200\" y2=\"0\" stroke=\"#888\" stroke-width=\"1\" opacity=\"1\"/></g><g class=\"mark-text role-axis-title\" pointer-events=\"none\"><text text-anchor=\"middle\" transform=\"translate(100,30)\" font-family=\"sans-serif\" font-size=\"11px\" font-weight=\"bold\" fill=\"#000\" opacity=\"1\">S</text></g></g><path class=\"foreground\" aria-hidden=\"true\" d=\"\" pointer-events=\"none\" display=\"none\"/></g></g><g class=\"mark-group role-axis\" role=\"graphics-symbol\" aria-roledescription=\"axis\" aria-label=\"Y-axis titled 's' for a linear scale with values from 0 to 50\"><g transform=\"translate(0.5,0.5)\"><path class=\"background\" aria-hidden=\"true\" d=\"M0,0h0v0h0Z\" pointer-events=\"none\"/><g><g class=\"mark-rule role-axis-tick\" pointer-events=\"none\"><line transform=\"translate(0,200)\" x2=\"-5\" y2=\"0\" stroke=\"#888\" stroke-width=\"1\" opacity=\"1\"/><line transform=\"translate(0,160)\" x2=\"-5\" y2=\"0\" stroke=\"#888\" stroke-width=\"1\" opacity=\"1\"/><line transform=\"translate(0,120)\" x2=\"-5\" y2=\"0\" stroke=\"#888\" stroke-width=\"1\" opacity=\"1\"/><line transform=\"translate(0,80)\" x2=\"-5\" y2=\"0\" stroke=\"#888\" stroke-width=\"1\" opacity=\"1\"/><line transform=\"translate(0,40)\" x2=\"-5\" y2=\"0\" stroke=\"#888\" stroke-width=\"1\" opacity=\"1\"/><line transform=\"translate(0,0)\" x2=\"-5\" y2=\"0\" stroke=\"#888\" stroke-width=\"1\" opacity=\"1\"/></g><g class=\"mark-text role-axis-label\" pointer-events=\"none\"><text text-anchor=\"end\" transform=\"translate(-7,203)\" font-family=\"sans-serif\" font-size=\"10px\" fill=\"#000\" opacity=\"1\">0</text><text text-anchor=\"end\" transform=\"translate(-7,163)\" font-family=\"sans-serif\" font-size=\"10px\" fill=\"#000\" opacity=\"1\">10</text><text text-anchor=\"end\" transform=\"translate(-7,123)\" font-family=\"sans-serif\" font-size=\"10px\" fill=\"#000\" opacity=\"1\">20</text><text text-anchor=\"end\" transform=\"translate(-7,83)\" font-family=\"sans-serif\" font-size=\"10px\" fill=\"#000\" opacity=\"1\">30</text><text text-anchor=\"end\" transform=\"translate(-7,42.99999999999999)\" font-family=\"sans-serif\" font-size=\"10px\" fill=\"#000\" opacity=\"1\">40</text><text text-anchor=\"end\" transform=\"translate(-7,3)\" font-family=\"sans-serif\" font-size=\"10px\" fill=\"#000\" opacity=\"1\">50</text></g><g class=\"mark-rule role-axis-domain\" pointer-events=\"none\"><line transform=\"translate(0,200)\" x2=\"0\" y2=\"-200\" stroke=\"#888\" stroke-width=\"1\" opacity=\"1\"/></g><g class=\"mark-text role-axis-title\" pointer-events=\"none\"><text text-anchor=\"middle\" transform=\"translate(-21,100) rotate(-90) translate(0,-2)\" font-family=\"sans-serif\" font-size=\"11px\" font-weight=\"bold\" fill=\"#000\" opacity=\"1\">s</text></g></g><path class=\"foreground\" aria-hidden=\"true\" d=\"\" pointer-events=\"none\" display=\"none\"/></g></g><g class=\"mark-symbol role-mark marks\" role=\"graphics-object\" aria-roledescription=\"symbol mark container\"><path aria-label=\"S: 100; s: 10; profit_mean: 1154.4868\" role=\"graphics-symbol\" aria-roledescription=\"point\" transform=\"translate(57.14285714285714,160)\" d=\"M2.7386127875258306,0A2.7386127875258306,2.7386127875258306,0,1,1,-2.7386127875258306,0A2.7386127875258306,2.7386127875258306,0,1,1,2.7386127875258306,0\" stroke=\"rgb(229, 106, 93)\" stroke-width=\"2\" opacity=\"0.7\"/><path aria-label=\"S: 110; s: 10; profit_mean: 1179.084\" role=\"graphics-symbol\" aria-roledescription=\"point\" transform=\"translate(62.857142857142854,160)\" d=\"M2.7386127875258306,0A2.7386127875258306,2.7386127875258306,0,1,1,-2.7386127875258306,0A2.7386127875258306,2.7386127875258306,0,1,1,2.7386127875258306,0\" stroke=\"rgb(239, 126, 80)\" stroke-width=\"2\" opacity=\"0.7\"/><path aria-label=\"S: 120; s: 10; profit_mean: 1221.9755\" role=\"graphics-symbol\" aria-roledescription=\"point\" transform=\"translate(68.57142857142857,160)\" d=\"M2.7386127875258306,0A2.7386127875258306,2.7386127875258306,0,1,1,-2.7386127875258306,0A2.7386127875258306,2.7386127875258306,0,1,1,2.7386127875258306,0\" stroke=\"rgb(251, 161, 57)\" stroke-width=\"2\" opacity=\"0.7\"/><path aria-label=\"S: 130; s: 10; profit_mean: 1237.17\" role=\"graphics-symbol\" aria-roledescription=\"point\" transform=\"translate(74.28571428571429,160)\" d=\"M2.7386127875258306,0A2.7386127875258306,2.7386127875258306,0,1,1,-2.7386127875258306,0A2.7386127875258306,2.7386127875258306,0,1,1,2.7386127875258306,0\" stroke=\"rgb(253, 175, 49)\" stroke-width=\"2\" opacity=\"0.7\"/><path aria-label=\"S: 140; s: 10; profit_mean: 1223.1476\" role=\"graphics-symbol\" aria-roledescription=\"point\" transform=\"translate(80,160)\" d=\"M2.7386127875258306,0A2.7386127875258306,2.7386127875258306,0,1,1,-2.7386127875258306,0A2.7386127875258306,2.7386127875258306,0,1,1,2.7386127875258306,0\" stroke=\"rgb(251, 162, 56)\" stroke-width=\"2\" opacity=\"0.7\"/><path aria-label=\"S: 150; s: 10; profit_mean: 1229.5751\" role=\"graphics-symbol\" aria-roledescription=\"point\" transform=\"translate(85.71428571428571,160)\" d=\"M2.7386127875258306,0A2.7386127875258306,2.7386127875258306,0,1,1,-2.7386127875258306,0A2.7386127875258306,2.7386127875258306,0,1,1,2.7386127875258306,0\" stroke=\"rgb(252, 168, 53)\" stroke-width=\"2\" opacity=\"0.7\"/><path aria-label=\"S: 160; s: 10; profit_mean: 1280.3911\" role=\"graphics-symbol\" aria-roledescription=\"point\" transform=\"translate(91.42857142857143,160)\" d=\"M2.7386127875258306,0A2.7386127875258306,2.7386127875258306,0,1,1,-2.7386127875258306,0A2.7386127875258306,2.7386127875258306,0,1,1,2.7386127875258306,0\" stroke=\"rgb(249, 219, 36)\" stroke-width=\"2\" opacity=\"0.7\"/><path aria-label=\"S: 170; s: 10; profit_mean: 1295.8973\" role=\"graphics-symbol\" aria-roledescription=\"point\" transform=\"translate(97.14285714285714,160)\" d=\"M2.7386127875258306,0A2.7386127875258306,2.7386127875258306,0,1,1,-2.7386127875258306,0A2.7386127875258306,2.7386127875258306,0,1,1,2.7386127875258306,0\" stroke=\"rgb(245, 235, 39)\" stroke-width=\"2\" opacity=\"0.7\"/><path aria-label=\"S: 180; s: 10; profit_mean: 1274.1175\" role=\"graphics-symbol\" aria-roledescription=\"point\" transform=\"translate(102.85714285714285,160)\" d=\"M2.7386127875258306,0A2.7386127875258306,2.7386127875258306,0,1,1,-2.7386127875258306,0A2.7386127875258306,2.7386127875258306,0,1,1,2.7386127875258306,0\" stroke=\"rgb(251, 212, 37)\" stroke-width=\"2\" opacity=\"0.7\"/><path aria-label=\"S: 190; s: 10; profit_mean: 1241.0229\" role=\"graphics-symbol\" aria-roledescription=\"point\" transform=\"translate(108.57142857142857,160)\" d=\"M2.7386127875258306,0A2.7386127875258306,2.7386127875258306,0,1,1,-2.7386127875258306,0A2.7386127875258306,2.7386127875258306,0,1,1,2.7386127875258306,0\" stroke=\"rgb(253, 179, 47)\" stroke-width=\"2\" opacity=\"0.7\"/><path aria-label=\"S: 200; s: 10; profit_mean: 1204.2041\" role=\"graphics-symbol\" aria-roledescription=\"point\" transform=\"translate(114.28571428571428,160)\" d=\"M2.7386127875258306,0A2.7386127875258306,2.7386127875258306,0,1,1,-2.7386127875258306,0A2.7386127875258306,2.7386127875258306,0,1,1,2.7386127875258306,0\" stroke=\"rgb(247, 146, 66)\" stroke-width=\"2\" opacity=\"0.7\"/><path aria-label=\"S: 210; s: 10; profit_mean: 1174.4433\" role=\"graphics-symbol\" aria-roledescription=\"point\" transform=\"translate(120,160)\" d=\"M2.7386127875258306,0A2.7386127875258306,2.7386127875258306,0,1,1,-2.7386127875258306,0A2.7386127875258306,2.7386127875258306,0,1,1,2.7386127875258306,0\" stroke=\"rgb(238, 122, 82)\" stroke-width=\"2\" opacity=\"0.7\"/><path aria-label=\"S: 220; s: 10; profit_mean: 1182.6988\" role=\"graphics-symbol\" aria-roledescription=\"point\" transform=\"translate(125.71428571428571,160)\" d=\"M2.7386127875258306,0A2.7386127875258306,2.7386127875258306,0,1,1,-2.7386127875258306,0A2.7386127875258306,2.7386127875258306,0,1,1,2.7386127875258306,0\" stroke=\"rgb(241, 128, 78)\" stroke-width=\"2\" opacity=\"0.7\"/><path aria-label=\"S: 230; s: 10; profit_mean: 1217.7191\" role=\"graphics-symbol\" aria-roledescription=\"point\" transform=\"translate(131.42857142857142,160)\" d=\"M2.7386127875258306,0A2.7386127875258306,2.7386127875258306,0,1,1,-2.7386127875258306,0A2.7386127875258306,2.7386127875258306,0,1,1,2.7386127875258306,0\" stroke=\"rgb(251, 158, 59)\" stroke-width=\"2\" opacity=\"0.7\"/><path aria-label=\"S: 240; s: 10; profit_mean: 1253.3675\" role=\"graphics-symbol\" aria-roledescription=\"point\" transform=\"translate(137.14285714285714,160)\" d=\"M2.7386127875258306,0A2.7386127875258306,2.7386127875258306,0,1,1,-2.7386127875258306,0A2.7386127875258306,2.7386127875258306,0,1,1,2.7386127875258306,0\" stroke=\"rgb(254, 191, 41)\" stroke-width=\"2\" opacity=\"0.7\"/><path aria-label=\"S: 250; s: 10; profit_mean: 1306.9866\" role=\"graphics-symbol\" aria-roledescription=\"point\" transform=\"translate(142.85714285714286,160)\" d=\"M2.7386127875258306,0A2.7386127875258306,2.7386127875258306,0,1,1,-2.7386127875258306,0A2.7386127875258306,2.7386127875258306,0,1,1,2.7386127875258306,0\" stroke=\"rgb(241, 247, 34)\" stroke-width=\"2\" opacity=\"0.7\"/><path aria-label=\"S: 260; s: 10; profit_mean: 1307.8206\" role=\"graphics-symbol\" aria-roledescription=\"point\" transform=\"translate(148.57142857142858,160)\" d=\"M2.7386127875258306,0A2.7386127875258306,2.7386127875258306,0,1,1,-2.7386127875258306,0A2.7386127875258306,2.7386127875258306,0,1,1,2.7386127875258306,0\" stroke=\"rgb(240, 248, 33)\" stroke-width=\"2\" opacity=\"0.7\"/><path aria-label=\"S: 270; s: 10; profit_mean: 1286.4594\" role=\"graphics-symbol\" aria-roledescription=\"point\" transform=\"translate(154.2857142857143,160)\" d=\"M2.7386127875258306,0A2.7386127875258306,2.7386127875258306,0,1,1,-2.7386127875258306,0A2.7386127875258306,2.7386127875258306,0,1,1,2.7386127875258306,0\" stroke=\"rgb(248, 225, 37)\" stroke-width=\"2\" opacity=\"0.7\"/><path aria-label=\"S: 280; s: 10; profit_mean: 1250.5556\" role=\"graphics-symbol\" aria-roledescription=\"point\" transform=\"translate(160,160)\" d=\"M2.7386127875258306,0A2.7386127875258306,2.7386127875258306,0,1,1,-2.7386127875258306,0A2.7386127875258306,2.7386127875258306,0,1,1,2.7386127875258306,0\" stroke=\"rgb(254, 188, 43)\" stroke-width=\"2\" opacity=\"0.7\"/><path aria-label=\"S: 290; s: 10; profit_mean: 1220.7918\" role=\"graphics-symbol\" aria-roledescription=\"point\" transform=\"translate(165.71428571428572,160)\" d=\"M2.7386127875258306,0A2.7386127875258306,2.7386127875258306,0,1,1,-2.7386127875258306,0A2.7386127875258306,2.7386127875258306,0,1,1,2.7386127875258306,0\" stroke=\"rgb(251, 160, 57)\" stroke-width=\"2\" opacity=\"0.7\"/><path aria-label=\"S: 300; s: 10; profit_mean: 1174.6918\" role=\"graphics-symbol\" aria-roledescription=\"point\" transform=\"translate(171.42857142857142,160)\" d=\"M2.7386127875258306,0A2.7386127875258306,2.7386127875258306,0,1,1,-2.7386127875258306,0A2.7386127875258306,2.7386127875258306,0,1,1,2.7386127875258306,0\" stroke=\"rgb(238, 122, 82)\" stroke-width=\"2\" opacity=\"0.7\"/><path aria-label=\"S: 310; s: 10; profit_mean: 1137.8114\" role=\"graphics-symbol\" aria-roledescription=\"point\" transform=\"translate(177.14285714285714,160)\" d=\"M2.7386127875258306,0A2.7386127875258306,2.7386127875258306,0,1,1,-2.7386127875258306,0A2.7386127875258306,2.7386127875258306,0,1,1,2.7386127875258306,0\" stroke=\"rgb(221, 94, 102)\" stroke-width=\"2\" opacity=\"0.7\"/><path aria-label=\"S: 320; s: 10; profit_mean: 1093.2912\" role=\"graphics-symbol\" aria-roledescription=\"point\" transform=\"translate(182.85714285714286,160)\" d=\"M2.7386127875258306,0A2.7386127875258306,2.7386127875258306,0,1,1,-2.7386127875258306,0A2.7386127875258306,2.7386127875258306,0,1,1,2.7386127875258306,0\" stroke=\"rgb(196, 62, 127)\" stroke-width=\"2\" opacity=\"0.7\"/><path aria-label=\"S: 330; s: 10; profit_mean: 1069.8596\" role=\"graphics-symbol\" aria-roledescription=\"point\" transform=\"translate(188.57142857142856,160)\" d=\"M2.7386127875258306,0A2.7386127875258306,2.7386127875258306,0,1,1,-2.7386127875258306,0A2.7386127875258306,2.7386127875258306,0,1,1,2.7386127875258306,0\" stroke=\"rgb(181, 46, 141)\" stroke-width=\"2\" opacity=\"0.7\"/><path aria-label=\"S: 340; s: 10; profit_mean: 1030.8736\" role=\"graphics-symbol\" aria-roledescription=\"point\" transform=\"translate(194.28571428571428,160)\" d=\"M2.7386127875258306,0A2.7386127875258306,2.7386127875258306,0,1,1,-2.7386127875258306,0A2.7386127875258306,2.7386127875258306,0,1,1,2.7386127875258306,0\" stroke=\"rgb(151, 19, 161)\" stroke-width=\"2\" opacity=\"0.7\"/><path aria-label=\"S: 350; s: 10; profit_mean: 984.1202\" role=\"graphics-symbol\" aria-roledescription=\"point\" transform=\"translate(200,160)\" d=\"M2.7386127875258306,0A2.7386127875258306,2.7386127875258306,0,1,1,-2.7386127875258306,0A2.7386127875258306,2.7386127875258306,0,1,1,2.7386127875258306,0\" stroke=\"rgb(108, 0, 168)\" stroke-width=\"2\" opacity=\"0.7\"/><path aria-label=\"S: 100; s: 15; profit_mean: 1161.8948\" role=\"graphics-symbol\" aria-roledescription=\"point\" transform=\"translate(57.14285714285714,140)\" d=\"M2.7386127875258306,0A2.7386127875258306,2.7386127875258306,0,1,1,-2.7386127875258306,0A2.7386127875258306,2.7386127875258306,0,1,1,2.7386127875258306,0\" stroke=\"rgb(232, 112, 89)\" stroke-width=\"2\" opacity=\"0.7\"/><path aria-label=\"S: 110; s: 15; profit_mean: 1191.3926\" role=\"graphics-symbol\" aria-roledescription=\"point\" transform=\"translate(62.857142857142854,140)\" d=\"M2.7386127875258306,0A2.7386127875258306,2.7386127875258306,0,1,1,-2.7386127875258306,0A2.7386127875258306,2.7386127875258306,0,1,1,2.7386127875258306,0\" stroke=\"rgb(243, 135, 73)\" stroke-width=\"2\" opacity=\"0.7\"/><path aria-label=\"S: 120; s: 15; profit_mean: 1220.8081\" role=\"graphics-symbol\" aria-roledescription=\"point\" transform=\"translate(68.57142857142857,140)\" d=\"M2.7386127875258306,0A2.7386127875258306,2.7386127875258306,0,1,1,-2.7386127875258306,0A2.7386127875258306,2.7386127875258306,0,1,1,2.7386127875258306,0\" stroke=\"rgb(251, 160, 57)\" stroke-width=\"2\" opacity=\"0.7\"/><path aria-label=\"S: 130; s: 15; profit_mean: 1253.3125\" role=\"graphics-symbol\" aria-roledescription=\"point\" transform=\"translate(74.28571428571429,140)\" d=\"M2.7386127875258306,0A2.7386127875258306,2.7386127875258306,0,1,1,-2.7386127875258306,0A2.7386127875258306,2.7386127875258306,0,1,1,2.7386127875258306,0\" stroke=\"rgb(254, 191, 41)\" stroke-width=\"2\" opacity=\"0.7\"/><path aria-label=\"S: 140; s: 15; profit_mean: 1245.5914\" role=\"graphics-symbol\" aria-roledescription=\"point\" transform=\"translate(80,140)\" d=\"M2.7386127875258306,0A2.7386127875258306,2.7386127875258306,0,1,1,-2.7386127875258306,0A2.7386127875258306,2.7386127875258306,0,1,1,2.7386127875258306,0\" stroke=\"rgb(253, 184, 45)\" stroke-width=\"2\" opacity=\"0.7\"/><path aria-label=\"S: 150; s: 15; profit_mean: 1237.5475\" role=\"graphics-symbol\" aria-roledescription=\"point\" transform=\"translate(85.71428571428571,140)\" d=\"M2.7386127875258306,0A2.7386127875258306,2.7386127875258306,0,1,1,-2.7386127875258306,0A2.7386127875258306,2.7386127875258306,0,1,1,2.7386127875258306,0\" stroke=\"rgb(253, 176, 49)\" stroke-width=\"2\" opacity=\"0.7\"/><path aria-label=\"S: 160; s: 15; profit_mean: 1259.4145\" role=\"graphics-symbol\" aria-roledescription=\"point\" transform=\"translate(91.42857142857143,140)\" d=\"M2.7386127875258306,0A2.7386127875258306,2.7386127875258306,0,1,1,-2.7386127875258306,0A2.7386127875258306,2.7386127875258306,0,1,1,2.7386127875258306,0\" stroke=\"rgb(253, 197, 40)\" stroke-width=\"2\" opacity=\"0.7\"/><path aria-label=\"S: 170; s: 15; profit_mean: 1305.4485\" role=\"graphics-symbol\" aria-roledescription=\"point\" transform=\"translate(97.14285714285714,140)\" d=\"M2.7386127875258306,0A2.7386127875258306,2.7386127875258306,0,1,1,-2.7386127875258306,0A2.7386127875258306,2.7386127875258306,0,1,1,2.7386127875258306,0\" stroke=\"rgb(241, 245, 34)\" stroke-width=\"2\" opacity=\"0.7\"/><path aria-label=\"S: 180; s: 15; profit_mean: 1305.657\" role=\"graphics-symbol\" aria-roledescription=\"point\" transform=\"translate(102.85714285714285,140)\" d=\"M2.7386127875258306,0A2.7386127875258306,2.7386127875258306,0,1,1,-2.7386127875258306,0A2.7386127875258306,2.7386127875258306,0,1,1,2.7386127875258306,0\" stroke=\"rgb(241, 246, 34)\" stroke-width=\"2\" opacity=\"0.7\"/><path aria-label=\"S: 190; s: 15; profit_mean: 1267.6961\" role=\"graphics-symbol\" aria-roledescription=\"point\" transform=\"translate(108.57142857142857,140)\" d=\"M2.7386127875258306,0A2.7386127875258306,2.7386127875258306,0,1,1,-2.7386127875258306,0A2.7386127875258306,2.7386127875258306,0,1,1,2.7386127875258306,0\" stroke=\"rgb(252, 206, 37)\" stroke-width=\"2\" opacity=\"0.7\"/><path aria-label=\"S: 200; s: 15; profit_mean: 1227.8697\" role=\"graphics-symbol\" aria-roledescription=\"point\" transform=\"translate(114.28571428571428,140)\" d=\"M2.7386127875258306,0A2.7386127875258306,2.7386127875258306,0,1,1,-2.7386127875258306,0A2.7386127875258306,2.7386127875258306,0,1,1,2.7386127875258306,0\" stroke=\"rgb(252, 167, 54)\" stroke-width=\"2\" opacity=\"0.7\"/><path aria-label=\"S: 210; s: 15; profit_mean: 1197.6107\" role=\"graphics-symbol\" aria-roledescription=\"point\" transform=\"translate(120,140)\" d=\"M2.7386127875258306,0A2.7386127875258306,2.7386127875258306,0,1,1,-2.7386127875258306,0A2.7386127875258306,2.7386127875258306,0,1,1,2.7386127875258306,0\" stroke=\"rgb(245, 141, 69)\" stroke-width=\"2\" opacity=\"0.7\"/><path aria-label=\"S: 220; s: 15; profit_mean: 1177.707\" role=\"graphics-symbol\" aria-roledescription=\"point\" transform=\"translate(125.71428571428571,140)\" d=\"M2.7386127875258306,0A2.7386127875258306,2.7386127875258306,0,1,1,-2.7386127875258306,0A2.7386127875258306,2.7386127875258306,0,1,1,2.7386127875258306,0\" stroke=\"rgb(239, 125, 81)\" stroke-width=\"2\" opacity=\"0.7\"/><path aria-label=\"S: 230; s: 15; profit_mean: 1189.2739\" role=\"graphics-symbol\" aria-roledescription=\"point\" transform=\"translate(131.42857142857142,140)\" d=\"M2.7386127875258306,0A2.7386127875258306,2.7386127875258306,0,1,1,-2.7386127875258306,0A2.7386127875258306,2.7386127875258306,0,1,1,2.7386127875258306,0\" stroke=\"rgb(243, 133, 74)\" stroke-width=\"2\" opacity=\"0.7\"/><path aria-label=\"S: 240; s: 15; profit_mean: 1225.8602\" role=\"graphics-symbol\" aria-roledescription=\"point\" transform=\"translate(137.14285714285714,140)\" d=\"M2.7386127875258306,0A2.7386127875258306,2.7386127875258306,0,1,1,-2.7386127875258306,0A2.7386127875258306,2.7386127875258306,0,1,1,2.7386127875258306,0\" stroke=\"rgb(252, 165, 55)\" stroke-width=\"2\" opacity=\"0.7\"/><path aria-label=\"S: 250; s: 15; profit_mean: 1274.5508\" role=\"graphics-symbol\" aria-roledescription=\"point\" transform=\"translate(142.85714285714286,140)\" d=\"M2.7386127875258306,0A2.7386127875258306,2.7386127875258306,0,1,1,-2.7386127875258306,0A2.7386127875258306,2.7386127875258306,0,1,1,2.7386127875258306,0\" stroke=\"rgb(251, 213, 37)\" stroke-width=\"2\" opacity=\"0.7\"/><path aria-label=\"S: 260; s: 15; profit_mean: 1301.735\" role=\"graphics-symbol\" aria-roledescription=\"point\" transform=\"translate(148.57142857142858,140)\" d=\"M2.7386127875258306,0A2.7386127875258306,2.7386127875258306,0,1,1,-2.7386127875258306,0A2.7386127875258306,2.7386127875258306,0,1,1,2.7386127875258306,0\" stroke=\"rgb(243, 241, 36)\" stroke-width=\"2\" opacity=\"0.7\"/><path aria-label=\"S: 270; s: 15; profit_mean: 1305.8228\" role=\"graphics-symbol\" aria-roledescription=\"point\" transform=\"translate(154.2857142857143,140)\" d=\"M2.7386127875258306,0A2.7386127875258306,2.7386127875258306,0,1,1,-2.7386127875258306,0A2.7386127875258306,2.7386127875258306,0,1,1,2.7386127875258306,0\" stroke=\"rgb(241, 246, 34)\" stroke-width=\"2\" opacity=\"0.7\"/><path aria-label=\"S: 280; s: 15; profit_mean: 1269.2469\" role=\"graphics-symbol\" aria-roledescription=\"point\" transform=\"translate(160,140)\" d=\"M2.7386127875258306,0A2.7386127875258306,2.7386127875258306,0,1,1,-2.7386127875258306,0A2.7386127875258306,2.7386127875258306,0,1,1,2.7386127875258306,0\" stroke=\"rgb(252, 207, 37)\" stroke-width=\"2\" opacity=\"0.7\"/><path aria-label=\"S: 290; s: 15; profit_mean: 1235.7539\" role=\"graphics-symbol\" aria-roledescription=\"point\" transform=\"translate(165.71428571428572,140)\" d=\"M2.7386127875258306,0A2.7386127875258306,2.7386127875258306,0,1,1,-2.7386127875258306,0A2.7386127875258306,2.7386127875258306,0,1,1,2.7386127875258306,0\" stroke=\"rgb(253, 174, 50)\" stroke-width=\"2\" opacity=\"0.7\"/><path aria-label=\"S: 300; s: 15; profit_mean: 1192.0914\" role=\"graphics-symbol\" aria-roledescription=\"point\" transform=\"translate(171.42857142857142,140)\" d=\"M2.7386127875258306,0A2.7386127875258306,2.7386127875258306,0,1,1,-2.7386127875258306,0A2.7386127875258306,2.7386127875258306,0,1,1,2.7386127875258306,0\" stroke=\"rgb(244, 136, 73)\" stroke-width=\"2\" opacity=\"0.7\"/><path aria-label=\"S: 310; s: 15; profit_mean: 1154.4955\" role=\"graphics-symbol\" aria-roledescription=\"point\" transform=\"translate(177.14285714285714,140)\" d=\"M2.7386127875258306,0A2.7386127875258306,2.7386127875258306,0,1,1,-2.7386127875258306,0A2.7386127875258306,2.7386127875258306,0,1,1,2.7386127875258306,0\" stroke=\"rgb(229, 106, 93)\" stroke-width=\"2\" opacity=\"0.7\"/><path aria-label=\"S: 320; s: 15; profit_mean: 1124.2579\" role=\"graphics-symbol\" aria-roledescription=\"point\" transform=\"translate(182.85714285714286,140)\" d=\"M2.7386127875258306,0A2.7386127875258306,2.7386127875258306,0,1,1,-2.7386127875258306,0A2.7386127875258306,2.7386127875258306,0,1,1,2.7386127875258306,0\" stroke=\"rgb(214, 85, 110)\" stroke-width=\"2\" opacity=\"0.7\"/><path aria-label=\"S: 330; s: 15; profit_mean: 1083.9724\" role=\"graphics-symbol\" aria-roledescription=\"point\" transform=\"translate(188.57142857142856,140)\" d=\"M2.7386127875258306,0A2.7386127875258306,2.7386127875258306,0,1,1,-2.7386127875258306,0A2.7386127875258306,2.7386127875258306,0,1,1,2.7386127875258306,0\" stroke=\"rgb(190, 56, 132)\" stroke-width=\"2\" opacity=\"0.7\"/><path aria-label=\"S: 340; s: 15; profit_mean: 1044.0282\" role=\"graphics-symbol\" aria-roledescription=\"point\" transform=\"translate(194.28571428571428,140)\" d=\"M2.7386127875258306,0A2.7386127875258306,2.7386127875258306,0,1,1,-2.7386127875258306,0A2.7386127875258306,2.7386127875258306,0,1,1,2.7386127875258306,0\" stroke=\"rgb(162, 28, 155)\" stroke-width=\"2\" opacity=\"0.7\"/><path aria-label=\"S: 350; s: 15; profit_mean: 1009.1302\" role=\"graphics-symbol\" aria-roledescription=\"point\" transform=\"translate(200,140)\" d=\"M2.7386127875258306,0A2.7386127875258306,2.7386127875258306,0,1,1,-2.7386127875258306,0A2.7386127875258306,2.7386127875258306,0,1,1,2.7386127875258306,0\" stroke=\"rgb(131, 5, 167)\" stroke-width=\"2\" opacity=\"0.7\"/><path aria-label=\"S: 100; s: 20; profit_mean: 1147.1941\" role=\"graphics-symbol\" aria-roledescription=\"point\" transform=\"translate(57.14285714285714,120)\" d=\"M2.7386127875258306,0A2.7386127875258306,2.7386127875258306,0,1,1,-2.7386127875258306,0A2.7386127875258306,2.7386127875258306,0,1,1,2.7386127875258306,0\" stroke=\"rgb(226, 101, 97)\" stroke-width=\"2\" opacity=\"0.7\"/><path aria-label=\"S: 110; s: 20; profit_mean: 1194.7183\" role=\"graphics-symbol\" aria-roledescription=\"point\" transform=\"translate(62.857142857142854,120)\" d=\"M2.7386127875258306,0A2.7386127875258306,2.7386127875258306,0,1,1,-2.7386127875258306,0A2.7386127875258306,2.7386127875258306,0,1,1,2.7386127875258306,0\" stroke=\"rgb(244, 138, 71)\" stroke-width=\"2\" opacity=\"0.7\"/><path aria-label=\"S: 120; s: 20; profit_mean: 1205.3445\" role=\"graphics-symbol\" aria-roledescription=\"point\" transform=\"translate(68.57142857142857,120)\" d=\"M2.7386127875258306,0A2.7386127875258306,2.7386127875258306,0,1,1,-2.7386127875258306,0A2.7386127875258306,2.7386127875258306,0,1,1,2.7386127875258306,0\" stroke=\"rgb(248, 147, 65)\" stroke-width=\"2\" opacity=\"0.7\"/><path aria-label=\"S: 130; s: 20; profit_mean: 1237.1717\" role=\"graphics-symbol\" aria-roledescription=\"point\" transform=\"translate(74.28571428571429,120)\" d=\"M2.7386127875258306,0A2.7386127875258306,2.7386127875258306,0,1,1,-2.7386127875258306,0A2.7386127875258306,2.7386127875258306,0,1,1,2.7386127875258306,0\" stroke=\"rgb(253, 175, 49)\" stroke-width=\"2\" opacity=\"0.7\"/><path aria-label=\"S: 140; s: 20; profit_mean: 1257.9719\" role=\"graphics-symbol\" aria-roledescription=\"point\" transform=\"translate(80,120)\" d=\"M2.7386127875258306,0A2.7386127875258306,2.7386127875258306,0,1,1,-2.7386127875258306,0A2.7386127875258306,2.7386127875258306,0,1,1,2.7386127875258306,0\" stroke=\"rgb(253, 196, 40)\" stroke-width=\"2\" opacity=\"0.7\"/><path aria-label=\"S: 150; s: 20; profit_mean: 1234.4948\" role=\"graphics-symbol\" aria-roledescription=\"point\" transform=\"translate(85.71428571428571,120)\" d=\"M2.7386127875258306,0A2.7386127875258306,2.7386127875258306,0,1,1,-2.7386127875258306,0A2.7386127875258306,2.7386127875258306,0,1,1,2.7386127875258306,0\" stroke=\"rgb(253, 173, 50)\" stroke-width=\"2\" opacity=\"0.7\"/><path aria-label=\"S: 160; s: 20; profit_mean: 1236.3882\" role=\"graphics-symbol\" aria-roledescription=\"point\" transform=\"translate(91.42857142857143,120)\" d=\"M2.7386127875258306,0A2.7386127875258306,2.7386127875258306,0,1,1,-2.7386127875258306,0A2.7386127875258306,2.7386127875258306,0,1,1,2.7386127875258306,0\" stroke=\"rgb(253, 175, 49)\" stroke-width=\"2\" opacity=\"0.7\"/><path aria-label=\"S: 170; s: 20; profit_mean: 1273.3798\" role=\"graphics-symbol\" aria-roledescription=\"point\" transform=\"translate(97.14285714285714,120)\" d=\"M2.7386127875258306,0A2.7386127875258306,2.7386127875258306,0,1,1,-2.7386127875258306,0A2.7386127875258306,2.7386127875258306,0,1,1,2.7386127875258306,0\" stroke=\"rgb(251, 212, 37)\" stroke-width=\"2\" opacity=\"0.7\"/><path aria-label=\"S: 180; s: 20; profit_mean: 1308.7955\" role=\"graphics-symbol\" aria-roledescription=\"point\" transform=\"translate(102.85714285714285,120)\" d=\"M2.7386127875258306,0A2.7386127875258306,2.7386127875258306,0,1,1,-2.7386127875258306,0A2.7386127875258306,2.7386127875258306,0,1,1,2.7386127875258306,0\" stroke=\"rgb(240, 249, 33)\" stroke-width=\"2\" opacity=\"0.7\"/><path aria-label=\"S: 190; s: 20; profit_mean: 1289.8327\" role=\"graphics-symbol\" aria-roledescription=\"point\" transform=\"translate(108.57142857142857,120)\" d=\"M2.7386127875258306,0A2.7386127875258306,2.7386127875258306,0,1,1,-2.7386127875258306,0A2.7386127875258306,2.7386127875258306,0,1,1,2.7386127875258306,0\" stroke=\"rgb(247, 228, 38)\" stroke-width=\"2\" opacity=\"0.7\"/><path aria-label=\"S: 200; s: 20; profit_mean: 1247.7578\" role=\"graphics-symbol\" aria-roledescription=\"point\" transform=\"translate(114.28571428571428,120)\" d=\"M2.7386127875258306,0A2.7386127875258306,2.7386127875258306,0,1,1,-2.7386127875258306,0A2.7386127875258306,2.7386127875258306,0,1,1,2.7386127875258306,0\" stroke=\"rgb(254, 186, 44)\" stroke-width=\"2\" opacity=\"0.7\"/><path aria-label=\"S: 210; s: 20; profit_mean: 1211.2132\" role=\"graphics-symbol\" aria-roledescription=\"point\" transform=\"translate(120,120)\" d=\"M2.7386127875258306,0A2.7386127875258306,2.7386127875258306,0,1,1,-2.7386127875258306,0A2.7386127875258306,2.7386127875258306,0,1,1,2.7386127875258306,0\" stroke=\"rgb(249, 152, 62)\" stroke-width=\"2\" opacity=\"0.7\"/><path aria-label=\"S: 220; s: 20; profit_mean: 1184.7586\" role=\"graphics-symbol\" aria-roledescription=\"point\" transform=\"translate(125.71428571428571,120)\" d=\"M2.7386127875258306,0A2.7386127875258306,2.7386127875258306,0,1,1,-2.7386127875258306,0A2.7386127875258306,2.7386127875258306,0,1,1,2.7386127875258306,0\" stroke=\"rgb(241, 130, 77)\" stroke-width=\"2\" opacity=\"0.7\"/><path aria-label=\"S: 230; s: 20; profit_mean: 1176.4448\" role=\"graphics-symbol\" aria-roledescription=\"point\" transform=\"translate(131.42857142857142,120)\" d=\"M2.7386127875258306,0A2.7386127875258306,2.7386127875258306,0,1,1,-2.7386127875258306,0A2.7386127875258306,2.7386127875258306,0,1,1,2.7386127875258306,0\" stroke=\"rgb(238, 124, 81)\" stroke-width=\"2\" opacity=\"0.7\"/><path aria-label=\"S: 240; s: 20; profit_mean: 1195.0647\" role=\"graphics-symbol\" aria-roledescription=\"point\" transform=\"translate(137.14285714285714,120)\" d=\"M2.7386127875258306,0A2.7386127875258306,2.7386127875258306,0,1,1,-2.7386127875258306,0A2.7386127875258306,2.7386127875258306,0,1,1,2.7386127875258306,0\" stroke=\"rgb(245, 139, 71)\" stroke-width=\"2\" opacity=\"0.7\"/><path aria-label=\"S: 250; s: 20; profit_mean: 1231.1456\" role=\"graphics-symbol\" aria-roledescription=\"point\" transform=\"translate(142.85714285714286,120)\" d=\"M2.7386127875258306,0A2.7386127875258306,2.7386127875258306,0,1,1,-2.7386127875258306,0A2.7386127875258306,2.7386127875258306,0,1,1,2.7386127875258306,0\" stroke=\"rgb(252, 170, 52)\" stroke-width=\"2\" opacity=\"0.7\"/><path aria-label=\"S: 260; s: 20; profit_mean: 1275.1824\" role=\"graphics-symbol\" aria-roledescription=\"point\" transform=\"translate(148.57142857142858,120)\" d=\"M2.7386127875258306,0A2.7386127875258306,2.7386127875258306,0,1,1,-2.7386127875258306,0A2.7386127875258306,2.7386127875258306,0,1,1,2.7386127875258306,0\" stroke=\"rgb(250, 213, 36)\" stroke-width=\"2\" opacity=\"0.7\"/><path aria-label=\"S: 270; s: 20; profit_mean: 1300.4865\" role=\"graphics-symbol\" aria-roledescription=\"point\" transform=\"translate(154.2857142857143,120)\" d=\"M2.7386127875258306,0A2.7386127875258306,2.7386127875258306,0,1,1,-2.7386127875258306,0A2.7386127875258306,2.7386127875258306,0,1,1,2.7386127875258306,0\" stroke=\"rgb(243, 240, 37)\" stroke-width=\"2\" opacity=\"0.7\"/><path aria-label=\"S: 280; s: 20; profit_mean: 1276.2404\" role=\"graphics-symbol\" aria-roledescription=\"point\" transform=\"translate(160,120)\" d=\"M2.7386127875258306,0A2.7386127875258306,2.7386127875258306,0,1,1,-2.7386127875258306,0A2.7386127875258306,2.7386127875258306,0,1,1,2.7386127875258306,0\" stroke=\"rgb(250, 214, 36)\" stroke-width=\"2\" opacity=\"0.7\"/><path aria-label=\"S: 290; s: 20; profit_mean: 1244.5542\" role=\"graphics-symbol\" aria-roledescription=\"point\" transform=\"translate(165.71428571428572,120)\" d=\"M2.7386127875258306,0A2.7386127875258306,2.7386127875258306,0,1,1,-2.7386127875258306,0A2.7386127875258306,2.7386127875258306,0,1,1,2.7386127875258306,0\" stroke=\"rgb(253, 183, 45)\" stroke-width=\"2\" opacity=\"0.7\"/><path aria-label=\"S: 300; s: 20; profit_mean: 1217.9495\" role=\"graphics-symbol\" aria-roledescription=\"point\" transform=\"translate(171.42857142857142,120)\" d=\"M2.7386127875258306,0A2.7386127875258306,2.7386127875258306,0,1,1,-2.7386127875258306,0A2.7386127875258306,2.7386127875258306,0,1,1,2.7386127875258306,0\" stroke=\"rgb(251, 158, 59)\" stroke-width=\"2\" opacity=\"0.7\"/><path aria-label=\"S: 310; s: 20; profit_mean: 1171.2523\" role=\"graphics-symbol\" aria-roledescription=\"point\" transform=\"translate(177.14285714285714,120)\" d=\"M2.7386127875258306,0A2.7386127875258306,2.7386127875258306,0,1,1,-2.7386127875258306,0A2.7386127875258306,2.7386127875258306,0,1,1,2.7386127875258306,0\" stroke=\"rgb(236, 120, 84)\" stroke-width=\"2\" opacity=\"0.7\"/><path aria-label=\"S: 320; s: 20; profit_mean: 1133.0195\" role=\"graphics-symbol\" aria-roledescription=\"point\" transform=\"translate(182.85714285714286,120)\" d=\"M2.7386127875258306,0A2.7386127875258306,2.7386127875258306,0,1,1,-2.7386127875258306,0A2.7386127875258306,2.7386127875258306,0,1,1,2.7386127875258306,0\" stroke=\"rgb(218, 91, 105)\" stroke-width=\"2\" opacity=\"0.7\"/><path aria-label=\"S: 330; s: 20; profit_mean: 1095.7121\" role=\"graphics-symbol\" aria-roledescription=\"point\" transform=\"translate(188.57142857142856,120)\" d=\"M2.7386127875258306,0A2.7386127875258306,2.7386127875258306,0,1,1,-2.7386127875258306,0A2.7386127875258306,2.7386127875258306,0,1,1,2.7386127875258306,0\" stroke=\"rgb(198, 64, 126)\" stroke-width=\"2\" opacity=\"0.7\"/><path aria-label=\"S: 340; s: 20; profit_mean: 1058.6271\" role=\"graphics-symbol\" aria-roledescription=\"point\" transform=\"translate(194.28571428571428,120)\" d=\"M2.7386127875258306,0A2.7386127875258306,2.7386127875258306,0,1,1,-2.7386127875258306,0A2.7386127875258306,2.7386127875258306,0,1,1,2.7386127875258306,0\" stroke=\"rgb(173, 38, 147)\" stroke-width=\"2\" opacity=\"0.7\"/><path aria-label=\"S: 350; s: 20; profit_mean: 1028.3721\" role=\"graphics-symbol\" aria-roledescription=\"point\" transform=\"translate(200,120)\" d=\"M2.7386127875258306,0A2.7386127875258306,2.7386127875258306,0,1,1,-2.7386127875258306,0A2.7386127875258306,2.7386127875258306,0,1,1,2.7386127875258306,0\" stroke=\"rgb(148, 17, 162)\" stroke-width=\"2\" opacity=\"0.7\"/><path aria-label=\"S: 100; s: 25; profit_mean: 1131.5506\" role=\"graphics-symbol\" aria-roledescription=\"point\" transform=\"translate(57.14285714285714,100)\" d=\"M2.7386127875258306,0A2.7386127875258306,2.7386127875258306,0,1,1,-2.7386127875258306,0A2.7386127875258306,2.7386127875258306,0,1,1,2.7386127875258306,0\" stroke=\"rgb(218, 90, 105)\" stroke-width=\"2\" opacity=\"0.7\"/><path aria-label=\"S: 110; s: 25; profit_mean: 1173.5402\" role=\"graphics-symbol\" aria-roledescription=\"point\" transform=\"translate(62.857142857142854,100)\" d=\"M2.7386127875258306,0A2.7386127875258306,2.7386127875258306,0,1,1,-2.7386127875258306,0A2.7386127875258306,2.7386127875258306,0,1,1,2.7386127875258306,0\" stroke=\"rgb(237, 121, 83)\" stroke-width=\"2\" opacity=\"0.7\"/><path aria-label=\"S: 120; s: 25; profit_mean: 1194.452\" role=\"graphics-symbol\" aria-roledescription=\"point\" transform=\"translate(68.57142857142857,100)\" d=\"M2.7386127875258306,0A2.7386127875258306,2.7386127875258306,0,1,1,-2.7386127875258306,0A2.7386127875258306,2.7386127875258306,0,1,1,2.7386127875258306,0\" stroke=\"rgb(244, 138, 71)\" stroke-width=\"2\" opacity=\"0.7\"/><path aria-label=\"S: 130; s: 25; profit_mean: 1211.2061\" role=\"graphics-symbol\" aria-roledescription=\"point\" transform=\"translate(74.28571428571429,100)\" d=\"M2.7386127875258306,0A2.7386127875258306,2.7386127875258306,0,1,1,-2.7386127875258306,0A2.7386127875258306,2.7386127875258306,0,1,1,2.7386127875258306,0\" stroke=\"rgb(249, 152, 62)\" stroke-width=\"2\" opacity=\"0.7\"/><path aria-label=\"S: 140; s: 25; profit_mean: 1254.1981\" role=\"graphics-symbol\" aria-roledescription=\"point\" transform=\"translate(80,100)\" d=\"M2.7386127875258306,0A2.7386127875258306,2.7386127875258306,0,1,1,-2.7386127875258306,0A2.7386127875258306,2.7386127875258306,0,1,1,2.7386127875258306,0\" stroke=\"rgb(254, 192, 41)\" stroke-width=\"2\" opacity=\"0.7\"/><path aria-label=\"S: 150; s: 25; profit_mean: 1246.9987\" role=\"graphics-symbol\" aria-roledescription=\"point\" transform=\"translate(85.71428571428571,100)\" d=\"M2.7386127875258306,0A2.7386127875258306,2.7386127875258306,0,1,1,-2.7386127875258306,0A2.7386127875258306,2.7386127875258306,0,1,1,2.7386127875258306,0\" stroke=\"rgb(253, 185, 44)\" stroke-width=\"2\" opacity=\"0.7\"/><path aria-label=\"S: 160; s: 25; profit_mean: 1229.3961\" role=\"graphics-symbol\" aria-roledescription=\"point\" transform=\"translate(91.42857142857143,100)\" d=\"M2.7386127875258306,0A2.7386127875258306,2.7386127875258306,0,1,1,-2.7386127875258306,0A2.7386127875258306,2.7386127875258306,0,1,1,2.7386127875258306,0\" stroke=\"rgb(252, 168, 53)\" stroke-width=\"2\" opacity=\"0.7\"/><path aria-label=\"S: 170; s: 25; profit_mean: 1242.3199\" role=\"graphics-symbol\" aria-roledescription=\"point\" transform=\"translate(97.14285714285714,100)\" d=\"M2.7386127875258306,0A2.7386127875258306,2.7386127875258306,0,1,1,-2.7386127875258306,0A2.7386127875258306,2.7386127875258306,0,1,1,2.7386127875258306,0\" stroke=\"rgb(253, 180, 46)\" stroke-width=\"2\" opacity=\"0.7\"/><path aria-label=\"S: 180; s: 25; profit_mean: 1279.2454\" role=\"graphics-symbol\" aria-roledescription=\"point\" transform=\"translate(102.85714285714285,100)\" d=\"M2.7386127875258306,0A2.7386127875258306,2.7386127875258306,0,1,1,-2.7386127875258306,0A2.7386127875258306,2.7386127875258306,0,1,1,2.7386127875258306,0\" stroke=\"rgb(250, 218, 36)\" stroke-width=\"2\" opacity=\"0.7\"/><path aria-label=\"S: 190; s: 25; profit_mean: 1298.2658\" role=\"graphics-symbol\" aria-roledescription=\"point\" transform=\"translate(108.57142857142857,100)\" d=\"M2.7386127875258306,0A2.7386127875258306,2.7386127875258306,0,1,1,-2.7386127875258306,0A2.7386127875258306,2.7386127875258306,0,1,1,2.7386127875258306,0\" stroke=\"rgb(244, 237, 38)\" stroke-width=\"2\" opacity=\"0.7\"/><path aria-label=\"S: 200; s: 25; profit_mean: 1270.9656\" role=\"graphics-symbol\" aria-roledescription=\"point\" transform=\"translate(114.28571428571428,100)\" d=\"M2.7386127875258306,0A2.7386127875258306,2.7386127875258306,0,1,1,-2.7386127875258306,0A2.7386127875258306,2.7386127875258306,0,1,1,2.7386127875258306,0\" stroke=\"rgb(251, 209, 37)\" stroke-width=\"2\" opacity=\"0.7\"/><path aria-label=\"S: 210; s: 25; profit_mean: 1234.9552\" role=\"graphics-symbol\" aria-roledescription=\"point\" transform=\"translate(120,100)\" d=\"M2.7386127875258306,0A2.7386127875258306,2.7386127875258306,0,1,1,-2.7386127875258306,0A2.7386127875258306,2.7386127875258306,0,1,1,2.7386127875258306,0\" stroke=\"rgb(253, 173, 50)\" stroke-width=\"2\" opacity=\"0.7\"/><path aria-label=\"S: 220; s: 25; profit_mean: 1187.5917\" role=\"graphics-symbol\" aria-roledescription=\"point\" transform=\"translate(125.71428571428571,100)\" d=\"M2.7386127875258306,0A2.7386127875258306,2.7386127875258306,0,1,1,-2.7386127875258306,0A2.7386127875258306,2.7386127875258306,0,1,1,2.7386127875258306,0\" stroke=\"rgb(242, 132, 75)\" stroke-width=\"2\" opacity=\"0.7\"/><path aria-label=\"S: 230; s: 25; profit_mean: 1163.8124\" role=\"graphics-symbol\" aria-roledescription=\"point\" transform=\"translate(131.42857142857142,100)\" d=\"M2.7386127875258306,0A2.7386127875258306,2.7386127875258306,0,1,1,-2.7386127875258306,0A2.7386127875258306,2.7386127875258306,0,1,1,2.7386127875258306,0\" stroke=\"rgb(233, 114, 88)\" stroke-width=\"2\" opacity=\"0.7\"/><path aria-label=\"S: 240; s: 25; profit_mean: 1164.4014\" role=\"graphics-symbol\" aria-roledescription=\"point\" transform=\"translate(137.14285714285714,100)\" d=\"M2.7386127875258306,0A2.7386127875258306,2.7386127875258306,0,1,1,-2.7386127875258306,0A2.7386127875258306,2.7386127875258306,0,1,1,2.7386127875258306,0\" stroke=\"rgb(233, 114, 88)\" stroke-width=\"2\" opacity=\"0.7\"/><path aria-label=\"S: 250; s: 25; profit_mean: 1179.8042\" role=\"graphics-symbol\" aria-roledescription=\"point\" transform=\"translate(142.85714285714286,100)\" d=\"M2.7386127875258306,0A2.7386127875258306,2.7386127875258306,0,1,1,-2.7386127875258306,0A2.7386127875258306,2.7386127875258306,0,1,1,2.7386127875258306,0\" stroke=\"rgb(240, 126, 79)\" stroke-width=\"2\" opacity=\"0.7\"/><path aria-label=\"S: 260; s: 25; profit_mean: 1226.7263\" role=\"graphics-symbol\" aria-roledescription=\"point\" transform=\"translate(148.57142857142858,100)\" d=\"M2.7386127875258306,0A2.7386127875258306,2.7386127875258306,0,1,1,-2.7386127875258306,0A2.7386127875258306,2.7386127875258306,0,1,1,2.7386127875258306,0\" stroke=\"rgb(252, 166, 54)\" stroke-width=\"2\" opacity=\"0.7\"/><path aria-label=\"S: 270; s: 25; profit_mean: 1268.3445\" role=\"graphics-symbol\" aria-roledescription=\"point\" transform=\"translate(154.2857142857143,100)\" d=\"M2.7386127875258306,0A2.7386127875258306,2.7386127875258306,0,1,1,-2.7386127875258306,0A2.7386127875258306,2.7386127875258306,0,1,1,2.7386127875258306,0\" stroke=\"rgb(252, 206, 37)\" stroke-width=\"2\" opacity=\"0.7\"/><path aria-label=\"S: 280; s: 25; profit_mean: 1283.186\" role=\"graphics-symbol\" aria-roledescription=\"point\" transform=\"translate(160,100)\" d=\"M2.7386127875258306,0A2.7386127875258306,2.7386127875258306,0,1,1,-2.7386127875258306,0A2.7386127875258306,2.7386127875258306,0,1,1,2.7386127875258306,0\" stroke=\"rgb(249, 222, 36)\" stroke-width=\"2\" opacity=\"0.7\"/><path aria-label=\"S: 290; s: 25; profit_mean: 1258.1581\" role=\"graphics-symbol\" aria-roledescription=\"point\" transform=\"translate(165.71428571428572,100)\" d=\"M2.7386127875258306,0A2.7386127875258306,2.7386127875258306,0,1,1,-2.7386127875258306,0A2.7386127875258306,2.7386127875258306,0,1,1,2.7386127875258306,0\" stroke=\"rgb(253, 196, 40)\" stroke-width=\"2\" opacity=\"0.7\"/><path aria-label=\"S: 300; s: 25; profit_mean: 1232.1326\" role=\"graphics-symbol\" aria-roledescription=\"point\" transform=\"translate(171.42857142857142,100)\" d=\"M2.7386127875258306,0A2.7386127875258306,2.7386127875258306,0,1,1,-2.7386127875258306,0A2.7386127875258306,2.7386127875258306,0,1,1,2.7386127875258306,0\" stroke=\"rgb(252, 171, 51)\" stroke-width=\"2\" opacity=\"0.7\"/><path aria-label=\"S: 310; s: 25; profit_mean: 1186.056\" role=\"graphics-symbol\" aria-roledescription=\"point\" transform=\"translate(177.14285714285714,100)\" d=\"M2.7386127875258306,0A2.7386127875258306,2.7386127875258306,0,1,1,-2.7386127875258306,0A2.7386127875258306,2.7386127875258306,0,1,1,2.7386127875258306,0\" stroke=\"rgb(242, 131, 76)\" stroke-width=\"2\" opacity=\"0.7\"/><path aria-label=\"S: 320; s: 25; profit_mean: 1144.8725\" role=\"graphics-symbol\" aria-roledescription=\"point\" transform=\"translate(182.85714285714286,100)\" d=\"M2.7386127875258306,0A2.7386127875258306,2.7386127875258306,0,1,1,-2.7386127875258306,0A2.7386127875258306,2.7386127875258306,0,1,1,2.7386127875258306,0\" stroke=\"rgb(225, 99, 98)\" stroke-width=\"2\" opacity=\"0.7\"/><path aria-label=\"S: 330; s: 25; profit_mean: 1109.8702\" role=\"graphics-symbol\" aria-roledescription=\"point\" transform=\"translate(188.57142857142856,100)\" d=\"M2.7386127875258306,0A2.7386127875258306,2.7386127875258306,0,1,1,-2.7386127875258306,0A2.7386127875258306,2.7386127875258306,0,1,1,2.7386127875258306,0\" stroke=\"rgb(206, 75, 118)\" stroke-width=\"2\" opacity=\"0.7\"/><path aria-label=\"S: 340; s: 25; profit_mean: 1068.206\" role=\"graphics-symbol\" aria-roledescription=\"point\" transform=\"translate(194.28571428571428,100)\" d=\"M2.7386127875258306,0A2.7386127875258306,2.7386127875258306,0,1,1,-2.7386127875258306,0A2.7386127875258306,2.7386127875258306,0,1,1,2.7386127875258306,0\" stroke=\"rgb(180, 45, 142)\" stroke-width=\"2\" opacity=\"0.7\"/><path aria-label=\"S: 350; s: 25; profit_mean: 1031.7739\" role=\"graphics-symbol\" aria-roledescription=\"point\" transform=\"translate(200,100)\" d=\"M2.7386127875258306,0A2.7386127875258306,2.7386127875258306,0,1,1,-2.7386127875258306,0A2.7386127875258306,2.7386127875258306,0,1,1,2.7386127875258306,0\" stroke=\"rgb(151, 19, 160)\" stroke-width=\"2\" opacity=\"0.7\"/><path aria-label=\"S: 100; s: 30; profit_mean: 1098.768\" role=\"graphics-symbol\" aria-roledescription=\"point\" transform=\"translate(57.14285714285714,80)\" d=\"M2.7386127875258306,0A2.7386127875258306,2.7386127875258306,0,1,1,-2.7386127875258306,0A2.7386127875258306,2.7386127875258306,0,1,1,2.7386127875258306,0\" stroke=\"rgb(199, 66, 124)\" stroke-width=\"2\" opacity=\"0.7\"/><path aria-label=\"S: 110; s: 30; profit_mean: 1146.1675\" role=\"graphics-symbol\" aria-roledescription=\"point\" transform=\"translate(62.857142857142854,80)\" d=\"M2.7386127875258306,0A2.7386127875258306,2.7386127875258306,0,1,1,-2.7386127875258306,0A2.7386127875258306,2.7386127875258306,0,1,1,2.7386127875258306,0\" stroke=\"rgb(225, 100, 98)\" stroke-width=\"2\" opacity=\"0.7\"/><path aria-label=\"S: 120; s: 30; profit_mean: 1186.2892\" role=\"graphics-symbol\" aria-roledescription=\"point\" transform=\"translate(68.57142857142857,80)\" d=\"M2.7386127875258306,0A2.7386127875258306,2.7386127875258306,0,1,1,-2.7386127875258306,0A2.7386127875258306,2.7386127875258306,0,1,1,2.7386127875258306,0\" stroke=\"rgb(242, 131, 76)\" stroke-width=\"2\" opacity=\"0.7\"/><path aria-label=\"S: 130; s: 30; profit_mean: 1191.3266\" role=\"graphics-symbol\" aria-roledescription=\"point\" transform=\"translate(74.28571428571429,80)\" d=\"M2.7386127875258306,0A2.7386127875258306,2.7386127875258306,0,1,1,-2.7386127875258306,0A2.7386127875258306,2.7386127875258306,0,1,1,2.7386127875258306,0\" stroke=\"rgb(243, 135, 73)\" stroke-width=\"2\" opacity=\"0.7\"/><path aria-label=\"S: 140; s: 30; profit_mean: 1228.0586\" role=\"graphics-symbol\" aria-roledescription=\"point\" transform=\"translate(80,80)\" d=\"M2.7386127875258306,0A2.7386127875258306,2.7386127875258306,0,1,1,-2.7386127875258306,0A2.7386127875258306,2.7386127875258306,0,1,1,2.7386127875258306,0\" stroke=\"rgb(252, 167, 54)\" stroke-width=\"2\" opacity=\"0.7\"/><path aria-label=\"S: 150; s: 30; profit_mean: 1249.745\" role=\"graphics-symbol\" aria-roledescription=\"point\" transform=\"translate(85.71428571428571,80)\" d=\"M2.7386127875258306,0A2.7386127875258306,2.7386127875258306,0,1,1,-2.7386127875258306,0A2.7386127875258306,2.7386127875258306,0,1,1,2.7386127875258306,0\" stroke=\"rgb(254, 188, 43)\" stroke-width=\"2\" opacity=\"0.7\"/><path aria-label=\"S: 160; s: 30; profit_mean: 1225.9841\" role=\"graphics-symbol\" aria-roledescription=\"point\" transform=\"translate(91.42857142857143,80)\" d=\"M2.7386127875258306,0A2.7386127875258306,2.7386127875258306,0,1,1,-2.7386127875258306,0A2.7386127875258306,2.7386127875258306,0,1,1,2.7386127875258306,0\" stroke=\"rgb(252, 165, 55)\" stroke-width=\"2\" opacity=\"0.7\"/><path aria-label=\"S: 170; s: 30; profit_mean: 1210.3669\" role=\"graphics-symbol\" aria-roledescription=\"point\" transform=\"translate(97.14285714285714,80)\" d=\"M2.7386127875258306,0A2.7386127875258306,2.7386127875258306,0,1,1,-2.7386127875258306,0A2.7386127875258306,2.7386127875258306,0,1,1,2.7386127875258306,0\" stroke=\"rgb(249, 151, 63)\" stroke-width=\"2\" opacity=\"0.7\"/><path aria-label=\"S: 180; s: 30; profit_mean: 1242.0268\" role=\"graphics-symbol\" aria-roledescription=\"point\" transform=\"translate(102.85714285714285,80)\" d=\"M2.7386127875258306,0A2.7386127875258306,2.7386127875258306,0,1,1,-2.7386127875258306,0A2.7386127875258306,2.7386127875258306,0,1,1,2.7386127875258306,0\" stroke=\"rgb(253, 180, 46)\" stroke-width=\"2\" opacity=\"0.7\"/><path aria-label=\"S: 190; s: 30; profit_mean: 1280.9768\" role=\"graphics-symbol\" aria-roledescription=\"point\" transform=\"translate(108.57142857142857,80)\" d=\"M2.7386127875258306,0A2.7386127875258306,2.7386127875258306,0,1,1,-2.7386127875258306,0A2.7386127875258306,2.7386127875258306,0,1,1,2.7386127875258306,0\" stroke=\"rgb(249, 219, 36)\" stroke-width=\"2\" opacity=\"0.7\"/><path aria-label=\"S: 200; s: 30; profit_mean: 1280.1109\" role=\"graphics-symbol\" aria-roledescription=\"point\" transform=\"translate(114.28571428571428,80)\" d=\"M2.7386127875258306,0A2.7386127875258306,2.7386127875258306,0,1,1,-2.7386127875258306,0A2.7386127875258306,2.7386127875258306,0,1,1,2.7386127875258306,0\" stroke=\"rgb(249, 218, 36)\" stroke-width=\"2\" opacity=\"0.7\"/><path aria-label=\"S: 210; s: 30; profit_mean: 1245.2436\" role=\"graphics-symbol\" aria-roledescription=\"point\" transform=\"translate(120,80)\" d=\"M2.7386127875258306,0A2.7386127875258306,2.7386127875258306,0,1,1,-2.7386127875258306,0A2.7386127875258306,2.7386127875258306,0,1,1,2.7386127875258306,0\" stroke=\"rgb(253, 183, 45)\" stroke-width=\"2\" opacity=\"0.7\"/><path aria-label=\"S: 220; s: 30; profit_mean: 1197.9665\" role=\"graphics-symbol\" aria-roledescription=\"point\" transform=\"translate(125.71428571428571,80)\" d=\"M2.7386127875258306,0A2.7386127875258306,2.7386127875258306,0,1,1,-2.7386127875258306,0A2.7386127875258306,2.7386127875258306,0,1,1,2.7386127875258306,0\" stroke=\"rgb(245, 141, 69)\" stroke-width=\"2\" opacity=\"0.7\"/><path aria-label=\"S: 230; s: 30; profit_mean: 1162.3126\" role=\"graphics-symbol\" aria-roledescription=\"point\" transform=\"translate(131.42857142857142,80)\" d=\"M2.7386127875258306,0A2.7386127875258306,2.7386127875258306,0,1,1,-2.7386127875258306,0A2.7386127875258306,2.7386127875258306,0,1,1,2.7386127875258306,0\" stroke=\"rgb(232, 112, 89)\" stroke-width=\"2\" opacity=\"0.7\"/><path aria-label=\"S: 240; s: 30; profit_mean: 1141.4991\" role=\"graphics-symbol\" aria-roledescription=\"point\" transform=\"translate(137.14285714285714,80)\" d=\"M2.7386127875258306,0A2.7386127875258306,2.7386127875258306,0,1,1,-2.7386127875258306,0A2.7386127875258306,2.7386127875258306,0,1,1,2.7386127875258306,0\" stroke=\"rgb(223, 97, 100)\" stroke-width=\"2\" opacity=\"0.7\"/><path aria-label=\"S: 250; s: 30; profit_mean: 1143.9334\" role=\"graphics-symbol\" aria-roledescription=\"point\" transform=\"translate(142.85714285714286,80)\" d=\"M2.7386127875258306,0A2.7386127875258306,2.7386127875258306,0,1,1,-2.7386127875258306,0A2.7386127875258306,2.7386127875258306,0,1,1,2.7386127875258306,0\" stroke=\"rgb(224, 99, 99)\" stroke-width=\"2\" opacity=\"0.7\"/><path aria-label=\"S: 260; s: 30; profit_mean: 1170.6026\" role=\"graphics-symbol\" aria-roledescription=\"point\" transform=\"translate(148.57142857142858,80)\" d=\"M2.7386127875258306,0A2.7386127875258306,2.7386127875258306,0,1,1,-2.7386127875258306,0A2.7386127875258306,2.7386127875258306,0,1,1,2.7386127875258306,0\" stroke=\"rgb(236, 119, 84)\" stroke-width=\"2\" opacity=\"0.7\"/><path aria-label=\"S: 270; s: 30; profit_mean: 1217.8612\" role=\"graphics-symbol\" aria-roledescription=\"point\" transform=\"translate(154.2857142857143,80)\" d=\"M2.7386127875258306,0A2.7386127875258306,2.7386127875258306,0,1,1,-2.7386127875258306,0A2.7386127875258306,2.7386127875258306,0,1,1,2.7386127875258306,0\" stroke=\"rgb(251, 158, 59)\" stroke-width=\"2\" opacity=\"0.7\"/><path aria-label=\"S: 280; s: 30; profit_mean: 1252.7332\" role=\"graphics-symbol\" aria-roledescription=\"point\" transform=\"translate(160,80)\" d=\"M2.7386127875258306,0A2.7386127875258306,2.7386127875258306,0,1,1,-2.7386127875258306,0A2.7386127875258306,2.7386127875258306,0,1,1,2.7386127875258306,0\" stroke=\"rgb(254, 190, 42)\" stroke-width=\"2\" opacity=\"0.7\"/><path aria-label=\"S: 290; s: 30; profit_mean: 1258.1284\" role=\"graphics-symbol\" aria-roledescription=\"point\" transform=\"translate(165.71428571428572,80)\" d=\"M2.7386127875258306,0A2.7386127875258306,2.7386127875258306,0,1,1,-2.7386127875258306,0A2.7386127875258306,2.7386127875258306,0,1,1,2.7386127875258306,0\" stroke=\"rgb(253, 196, 40)\" stroke-width=\"2\" opacity=\"0.7\"/><path aria-label=\"S: 300; s: 30; profit_mean: 1239.6995\" role=\"graphics-symbol\" aria-roledescription=\"point\" transform=\"translate(171.42857142857142,80)\" d=\"M2.7386127875258306,0A2.7386127875258306,2.7386127875258306,0,1,1,-2.7386127875258306,0A2.7386127875258306,2.7386127875258306,0,1,1,2.7386127875258306,0\" stroke=\"rgb(253, 178, 48)\" stroke-width=\"2\" opacity=\"0.7\"/><path aria-label=\"S: 310; s: 30; profit_mean: 1200.8057\" role=\"graphics-symbol\" aria-roledescription=\"point\" transform=\"translate(177.14285714285714,80)\" d=\"M2.7386127875258306,0A2.7386127875258306,2.7386127875258306,0,1,1,-2.7386127875258306,0A2.7386127875258306,2.7386127875258306,0,1,1,2.7386127875258306,0\" stroke=\"rgb(246, 144, 68)\" stroke-width=\"2\" opacity=\"0.7\"/><path aria-label=\"S: 320; s: 30; profit_mean: 1154.15\" role=\"graphics-symbol\" aria-roledescription=\"point\" transform=\"translate(182.85714285714286,80)\" d=\"M2.7386127875258306,0A2.7386127875258306,2.7386127875258306,0,1,1,-2.7386127875258306,0A2.7386127875258306,2.7386127875258306,0,1,1,2.7386127875258306,0\" stroke=\"rgb(229, 106, 94)\" stroke-width=\"2\" opacity=\"0.7\"/><path aria-label=\"S: 330; s: 30; profit_mean: 1121.1037\" role=\"graphics-symbol\" aria-roledescription=\"point\" transform=\"translate(188.57142857142856,80)\" d=\"M2.7386127875258306,0A2.7386127875258306,2.7386127875258306,0,1,1,-2.7386127875258306,0A2.7386127875258306,2.7386127875258306,0,1,1,2.7386127875258306,0\" stroke=\"rgb(212, 83, 111)\" stroke-width=\"2\" opacity=\"0.7\"/><path aria-label=\"S: 340; s: 30; profit_mean: 1087.1087\" role=\"graphics-symbol\" aria-roledescription=\"point\" transform=\"translate(194.28571428571428,80)\" d=\"M2.7386127875258306,0A2.7386127875258306,2.7386127875258306,0,1,1,-2.7386127875258306,0A2.7386127875258306,2.7386127875258306,0,1,1,2.7386127875258306,0\" stroke=\"rgb(192, 58, 130)\" stroke-width=\"2\" opacity=\"0.7\"/><path aria-label=\"S: 350; s: 30; profit_mean: 1043.6374\" role=\"graphics-symbol\" aria-roledescription=\"point\" transform=\"translate(200,80)\" d=\"M2.7386127875258306,0A2.7386127875258306,2.7386127875258306,0,1,1,-2.7386127875258306,0A2.7386127875258306,2.7386127875258306,0,1,1,2.7386127875258306,0\" stroke=\"rgb(161, 28, 155)\" stroke-width=\"2\" opacity=\"0.7\"/><path aria-label=\"S: 100; s: 35; profit_mean: 1064.4193\" role=\"graphics-symbol\" aria-roledescription=\"point\" transform=\"translate(57.14285714285714,60.00000000000001)\" d=\"M2.7386127875258306,0A2.7386127875258306,2.7386127875258306,0,1,1,-2.7386127875258306,0A2.7386127875258306,2.7386127875258306,0,1,1,2.7386127875258306,0\" stroke=\"rgb(177, 42, 144)\" stroke-width=\"2\" opacity=\"0.7\"/><path aria-label=\"S: 110; s: 35; profit_mean: 1113.2359\" role=\"graphics-symbol\" aria-roledescription=\"point\" transform=\"translate(62.857142857142854,60.00000000000001)\" d=\"M2.7386127875258306,0A2.7386127875258306,2.7386127875258306,0,1,1,-2.7386127875258306,0A2.7386127875258306,2.7386127875258306,0,1,1,2.7386127875258306,0\" stroke=\"rgb(208, 77, 116)\" stroke-width=\"2\" opacity=\"0.7\"/><path aria-label=\"S: 120; s: 35; profit_mean: 1151.6631\" role=\"graphics-symbol\" aria-roledescription=\"point\" transform=\"translate(68.57142857142857,60.00000000000001)\" d=\"M2.7386127875258306,0A2.7386127875258306,2.7386127875258306,0,1,1,-2.7386127875258306,0A2.7386127875258306,2.7386127875258306,0,1,1,2.7386127875258306,0\" stroke=\"rgb(228, 104, 95)\" stroke-width=\"2\" opacity=\"0.7\"/><path aria-label=\"S: 130; s: 35; profit_mean: 1186.5962\" role=\"graphics-symbol\" aria-roledescription=\"point\" transform=\"translate(74.28571428571429,60.00000000000001)\" d=\"M2.7386127875258306,0A2.7386127875258306,2.7386127875258306,0,1,1,-2.7386127875258306,0A2.7386127875258306,2.7386127875258306,0,1,1,2.7386127875258306,0\" stroke=\"rgb(242, 131, 76)\" stroke-width=\"2\" opacity=\"0.7\"/><path aria-label=\"S: 140; s: 35; profit_mean: 1193.4414\" role=\"graphics-symbol\" aria-roledescription=\"point\" transform=\"translate(80,60.00000000000001)\" d=\"M2.7386127875258306,0A2.7386127875258306,2.7386127875258306,0,1,1,-2.7386127875258306,0A2.7386127875258306,2.7386127875258306,0,1,1,2.7386127875258306,0\" stroke=\"rgb(244, 137, 72)\" stroke-width=\"2\" opacity=\"0.7\"/><path aria-label=\"S: 150; s: 35; profit_mean: 1222.4188\" role=\"graphics-symbol\" aria-roledescription=\"point\" transform=\"translate(85.71428571428571,60.00000000000001)\" d=\"M2.7386127875258306,0A2.7386127875258306,2.7386127875258306,0,1,1,-2.7386127875258306,0A2.7386127875258306,2.7386127875258306,0,1,1,2.7386127875258306,0\" stroke=\"rgb(251, 162, 56)\" stroke-width=\"2\" opacity=\"0.7\"/><path aria-label=\"S: 160; s: 35; profit_mean: 1225.6929\" role=\"graphics-symbol\" aria-roledescription=\"point\" transform=\"translate(91.42857142857143,60.00000000000001)\" d=\"M2.7386127875258306,0A2.7386127875258306,2.7386127875258306,0,1,1,-2.7386127875258306,0A2.7386127875258306,2.7386127875258306,0,1,1,2.7386127875258306,0\" stroke=\"rgb(252, 165, 55)\" stroke-width=\"2\" opacity=\"0.7\"/><path aria-label=\"S: 170; s: 35; profit_mean: 1209.6693\" role=\"graphics-symbol\" aria-roledescription=\"point\" transform=\"translate(97.14285714285714,60.00000000000001)\" d=\"M2.7386127875258306,0A2.7386127875258306,2.7386127875258306,0,1,1,-2.7386127875258306,0A2.7386127875258306,2.7386127875258306,0,1,1,2.7386127875258306,0\" stroke=\"rgb(249, 151, 63)\" stroke-width=\"2\" opacity=\"0.7\"/><path aria-label=\"S: 180; s: 35; profit_mean: 1207.38\" role=\"graphics-symbol\" aria-roledescription=\"point\" transform=\"translate(102.85714285714285,60.00000000000001)\" d=\"M2.7386127875258306,0A2.7386127875258306,2.7386127875258306,0,1,1,-2.7386127875258306,0A2.7386127875258306,2.7386127875258306,0,1,1,2.7386127875258306,0\" stroke=\"rgb(248, 149, 64)\" stroke-width=\"2\" opacity=\"0.7\"/><path aria-label=\"S: 190; s: 35; profit_mean: 1243.3835\" role=\"graphics-symbol\" aria-roledescription=\"point\" transform=\"translate(108.57142857142857,60.00000000000001)\" d=\"M2.7386127875258306,0A2.7386127875258306,2.7386127875258306,0,1,1,-2.7386127875258306,0A2.7386127875258306,2.7386127875258306,0,1,1,2.7386127875258306,0\" stroke=\"rgb(253, 181, 46)\" stroke-width=\"2\" opacity=\"0.7\"/><path aria-label=\"S: 200; s: 35; profit_mean: 1266.5751\" role=\"graphics-symbol\" aria-roledescription=\"point\" transform=\"translate(114.28571428571428,60.00000000000001)\" d=\"M2.7386127875258306,0A2.7386127875258306,2.7386127875258306,0,1,1,-2.7386127875258306,0A2.7386127875258306,2.7386127875258306,0,1,1,2.7386127875258306,0\" stroke=\"rgb(252, 205, 37)\" stroke-width=\"2\" opacity=\"0.7\"/><path aria-label=\"S: 210; s: 35; profit_mean: 1241.7917\" role=\"graphics-symbol\" aria-roledescription=\"point\" transform=\"translate(120,60.00000000000001)\" d=\"M2.7386127875258306,0A2.7386127875258306,2.7386127875258306,0,1,1,-2.7386127875258306,0A2.7386127875258306,2.7386127875258306,0,1,1,2.7386127875258306,0\" stroke=\"rgb(253, 180, 47)\" stroke-width=\"2\" opacity=\"0.7\"/><path aria-label=\"S: 220; s: 35; profit_mean: 1211.6935\" role=\"graphics-symbol\" aria-roledescription=\"point\" transform=\"translate(125.71428571428571,60.00000000000001)\" d=\"M2.7386127875258306,0A2.7386127875258306,2.7386127875258306,0,1,1,-2.7386127875258306,0A2.7386127875258306,2.7386127875258306,0,1,1,2.7386127875258306,0\" stroke=\"rgb(249, 152, 62)\" stroke-width=\"2\" opacity=\"0.7\"/><path aria-label=\"S: 230; s: 35; profit_mean: 1174.4196\" role=\"graphics-symbol\" aria-roledescription=\"point\" transform=\"translate(131.42857142857142,60.00000000000001)\" d=\"M2.7386127875258306,0A2.7386127875258306,2.7386127875258306,0,1,1,-2.7386127875258306,0A2.7386127875258306,2.7386127875258306,0,1,1,2.7386127875258306,0\" stroke=\"rgb(238, 122, 82)\" stroke-width=\"2\" opacity=\"0.7\"/><path aria-label=\"S: 240; s: 35; profit_mean: 1141.859\" role=\"graphics-symbol\" aria-roledescription=\"point\" transform=\"translate(137.14285714285714,60.00000000000001)\" d=\"M2.7386127875258306,0A2.7386127875258306,2.7386127875258306,0,1,1,-2.7386127875258306,0A2.7386127875258306,2.7386127875258306,0,1,1,2.7386127875258306,0\" stroke=\"rgb(223, 97, 100)\" stroke-width=\"2\" opacity=\"0.7\"/><path aria-label=\"S: 250; s: 35; profit_mean: 1123.8239\" role=\"graphics-symbol\" aria-roledescription=\"point\" transform=\"translate(142.85714285714286,60.00000000000001)\" d=\"M2.7386127875258306,0A2.7386127875258306,2.7386127875258306,0,1,1,-2.7386127875258306,0A2.7386127875258306,2.7386127875258306,0,1,1,2.7386127875258306,0\" stroke=\"rgb(214, 85, 110)\" stroke-width=\"2\" opacity=\"0.7\"/><path aria-label=\"S: 260; s: 35; profit_mean: 1133.1587\" role=\"graphics-symbol\" aria-roledescription=\"point\" transform=\"translate(148.57142857142858,60.00000000000001)\" d=\"M2.7386127875258306,0A2.7386127875258306,2.7386127875258306,0,1,1,-2.7386127875258306,0A2.7386127875258306,2.7386127875258306,0,1,1,2.7386127875258306,0\" stroke=\"rgb(219, 91, 104)\" stroke-width=\"2\" opacity=\"0.7\"/><path aria-label=\"S: 270; s: 35; profit_mean: 1162.6994\" role=\"graphics-symbol\" aria-roledescription=\"point\" transform=\"translate(154.2857142857143,60.00000000000001)\" d=\"M2.7386127875258306,0A2.7386127875258306,2.7386127875258306,0,1,1,-2.7386127875258306,0A2.7386127875258306,2.7386127875258306,0,1,1,2.7386127875258306,0\" stroke=\"rgb(233, 113, 89)\" stroke-width=\"2\" opacity=\"0.7\"/><path aria-label=\"S: 280; s: 35; profit_mean: 1210.8789\" role=\"graphics-symbol\" aria-roledescription=\"point\" transform=\"translate(160,60.00000000000001)\" d=\"M2.7386127875258306,0A2.7386127875258306,2.7386127875258306,0,1,1,-2.7386127875258306,0A2.7386127875258306,2.7386127875258306,0,1,1,2.7386127875258306,0\" stroke=\"rgb(249, 152, 62)\" stroke-width=\"2\" opacity=\"0.7\"/><path aria-label=\"S: 290; s: 35; profit_mean: 1237.1174\" role=\"graphics-symbol\" aria-roledescription=\"point\" transform=\"translate(165.71428571428572,60.00000000000001)\" d=\"M2.7386127875258306,0A2.7386127875258306,2.7386127875258306,0,1,1,-2.7386127875258306,0A2.7386127875258306,2.7386127875258306,0,1,1,2.7386127875258306,0\" stroke=\"rgb(253, 175, 49)\" stroke-width=\"2\" opacity=\"0.7\"/><path aria-label=\"S: 300; s: 35; profit_mean: 1230.8906\" role=\"graphics-symbol\" aria-roledescription=\"point\" transform=\"translate(171.42857142857142,60.00000000000001)\" d=\"M2.7386127875258306,0A2.7386127875258306,2.7386127875258306,0,1,1,-2.7386127875258306,0A2.7386127875258306,2.7386127875258306,0,1,1,2.7386127875258306,0\" stroke=\"rgb(252, 169, 52)\" stroke-width=\"2\" opacity=\"0.7\"/><path aria-label=\"S: 310; s: 35; profit_mean: 1207.9512\" role=\"graphics-symbol\" aria-roledescription=\"point\" transform=\"translate(177.14285714285714,60.00000000000001)\" d=\"M2.7386127875258306,0A2.7386127875258306,2.7386127875258306,0,1,1,-2.7386127875258306,0A2.7386127875258306,2.7386127875258306,0,1,1,2.7386127875258306,0\" stroke=\"rgb(248, 149, 64)\" stroke-width=\"2\" opacity=\"0.7\"/><path aria-label=\"S: 320; s: 35; profit_mean: 1166.9793\" role=\"graphics-symbol\" aria-roledescription=\"point\" transform=\"translate(182.85714285714286,60.00000000000001)\" d=\"M2.7386127875258306,0A2.7386127875258306,2.7386127875258306,0,1,1,-2.7386127875258306,0A2.7386127875258306,2.7386127875258306,0,1,1,2.7386127875258306,0\" stroke=\"rgb(234, 116, 86)\" stroke-width=\"2\" opacity=\"0.7\"/><path aria-label=\"S: 330; s: 35; profit_mean: 1125.2972\" role=\"graphics-symbol\" aria-roledescription=\"point\" transform=\"translate(188.57142857142856,60.00000000000001)\" d=\"M2.7386127875258306,0A2.7386127875258306,2.7386127875258306,0,1,1,-2.7386127875258306,0A2.7386127875258306,2.7386127875258306,0,1,1,2.7386127875258306,0\" stroke=\"rgb(214, 85, 109)\" stroke-width=\"2\" opacity=\"0.7\"/><path aria-label=\"S: 340; s: 35; profit_mean: 1090.5718\" role=\"graphics-symbol\" aria-roledescription=\"point\" transform=\"translate(194.28571428571428,60.00000000000001)\" d=\"M2.7386127875258306,0A2.7386127875258306,2.7386127875258306,0,1,1,-2.7386127875258306,0A2.7386127875258306,2.7386127875258306,0,1,1,2.7386127875258306,0\" stroke=\"rgb(194, 60, 128)\" stroke-width=\"2\" opacity=\"0.7\"/><path aria-label=\"S: 350; s: 35; profit_mean: 1041.8184\" role=\"graphics-symbol\" aria-roledescription=\"point\" transform=\"translate(200,60.00000000000001)\" d=\"M2.7386127875258306,0A2.7386127875258306,2.7386127875258306,0,1,1,-2.7386127875258306,0A2.7386127875258306,2.7386127875258306,0,1,1,2.7386127875258306,0\" stroke=\"rgb(160, 27, 156)\" stroke-width=\"2\" opacity=\"0.7\"/><path aria-label=\"S: 100; s: 40; profit_mean: 1011.5521\" role=\"graphics-symbol\" aria-roledescription=\"point\" transform=\"translate(57.14285714285714,39.99999999999999)\" d=\"M2.7386127875258306,0A2.7386127875258306,2.7386127875258306,0,1,1,-2.7386127875258306,0A2.7386127875258306,2.7386127875258306,0,1,1,2.7386127875258306,0\" stroke=\"rgb(134, 6, 167)\" stroke-width=\"2\" opacity=\"0.7\"/><path aria-label=\"S: 110; s: 40; profit_mean: 1074.2235\" role=\"graphics-symbol\" aria-roledescription=\"point\" transform=\"translate(62.857142857142854,39.99999999999999)\" d=\"M2.7386127875258306,0A2.7386127875258306,2.7386127875258306,0,1,1,-2.7386127875258306,0A2.7386127875258306,2.7386127875258306,0,1,1,2.7386127875258306,0\" stroke=\"rgb(184, 49, 138)\" stroke-width=\"2\" opacity=\"0.7\"/><path aria-label=\"S: 120; s: 40; profit_mean: 1112.064\" role=\"graphics-symbol\" aria-roledescription=\"point\" transform=\"translate(68.57142857142857,39.99999999999999)\" d=\"M2.7386127875258306,0A2.7386127875258306,2.7386127875258306,0,1,1,-2.7386127875258306,0A2.7386127875258306,2.7386127875258306,0,1,1,2.7386127875258306,0\" stroke=\"rgb(207, 76, 117)\" stroke-width=\"2\" opacity=\"0.7\"/><path aria-label=\"S: 130; s: 40; profit_mean: 1158.4193\" role=\"graphics-symbol\" aria-roledescription=\"point\" transform=\"translate(74.28571428571429,39.99999999999999)\" d=\"M2.7386127875258306,0A2.7386127875258306,2.7386127875258306,0,1,1,-2.7386127875258306,0A2.7386127875258306,2.7386127875258306,0,1,1,2.7386127875258306,0\" stroke=\"rgb(231, 109, 91)\" stroke-width=\"2\" opacity=\"0.7\"/><path aria-label=\"S: 140; s: 40; profit_mean: 1171.3737\" role=\"graphics-symbol\" aria-roledescription=\"point\" transform=\"translate(80,39.99999999999999)\" d=\"M2.7386127875258306,0A2.7386127875258306,2.7386127875258306,0,1,1,-2.7386127875258306,0A2.7386127875258306,2.7386127875258306,0,1,1,2.7386127875258306,0\" stroke=\"rgb(236, 120, 84)\" stroke-width=\"2\" opacity=\"0.7\"/><path aria-label=\"S: 150; s: 40; profit_mean: 1187.8304\" role=\"graphics-symbol\" aria-roledescription=\"point\" transform=\"translate(85.71428571428571,39.99999999999999)\" d=\"M2.7386127875258306,0A2.7386127875258306,2.7386127875258306,0,1,1,-2.7386127875258306,0A2.7386127875258306,2.7386127875258306,0,1,1,2.7386127875258306,0\" stroke=\"rgb(242, 132, 75)\" stroke-width=\"2\" opacity=\"0.7\"/><path aria-label=\"S: 160; s: 40; profit_mean: 1213.8402\" role=\"graphics-symbol\" aria-roledescription=\"point\" transform=\"translate(91.42857142857143,39.99999999999999)\" d=\"M2.7386127875258306,0A2.7386127875258306,2.7386127875258306,0,1,1,-2.7386127875258306,0A2.7386127875258306,2.7386127875258306,0,1,1,2.7386127875258306,0\" stroke=\"rgb(250, 154, 61)\" stroke-width=\"2\" opacity=\"0.7\"/><path aria-label=\"S: 170; s: 40; profit_mean: 1204.2852\" role=\"graphics-symbol\" aria-roledescription=\"point\" transform=\"translate(97.14285714285714,39.99999999999999)\" d=\"M2.7386127875258306,0A2.7386127875258306,2.7386127875258306,0,1,1,-2.7386127875258306,0A2.7386127875258306,2.7386127875258306,0,1,1,2.7386127875258306,0\" stroke=\"rgb(247, 146, 66)\" stroke-width=\"2\" opacity=\"0.7\"/><path aria-label=\"S: 180; s: 40; profit_mean: 1183.0406\" role=\"graphics-symbol\" aria-roledescription=\"point\" transform=\"translate(102.85714285714285,39.99999999999999)\" d=\"M2.7386127875258306,0A2.7386127875258306,2.7386127875258306,0,1,1,-2.7386127875258306,0A2.7386127875258306,2.7386127875258306,0,1,1,2.7386127875258306,0\" stroke=\"rgb(241, 128, 78)\" stroke-width=\"2\" opacity=\"0.7\"/><path aria-label=\"S: 190; s: 40; profit_mean: 1195.6946\" role=\"graphics-symbol\" aria-roledescription=\"point\" transform=\"translate(108.57142857142857,39.99999999999999)\" d=\"M2.7386127875258306,0A2.7386127875258306,2.7386127875258306,0,1,1,-2.7386127875258306,0A2.7386127875258306,2.7386127875258306,0,1,1,2.7386127875258306,0\" stroke=\"rgb(245, 139, 71)\" stroke-width=\"2\" opacity=\"0.7\"/><path aria-label=\"S: 200; s: 40; profit_mean: 1231.1435\" role=\"graphics-symbol\" aria-roledescription=\"point\" transform=\"translate(114.28571428571428,39.99999999999999)\" d=\"M2.7386127875258306,0A2.7386127875258306,2.7386127875258306,0,1,1,-2.7386127875258306,0A2.7386127875258306,2.7386127875258306,0,1,1,2.7386127875258306,0\" stroke=\"rgb(252, 170, 52)\" stroke-width=\"2\" opacity=\"0.7\"/><path aria-label=\"S: 210; s: 40; profit_mean: 1246.4605\" role=\"graphics-symbol\" aria-roledescription=\"point\" transform=\"translate(120,39.99999999999999)\" d=\"M2.7386127875258306,0A2.7386127875258306,2.7386127875258306,0,1,1,-2.7386127875258306,0A2.7386127875258306,2.7386127875258306,0,1,1,2.7386127875258306,0\" stroke=\"rgb(253, 184, 45)\" stroke-width=\"2\" opacity=\"0.7\"/><path aria-label=\"S: 220; s: 40; profit_mean: 1223.9846\" role=\"graphics-symbol\" aria-roledescription=\"point\" transform=\"translate(125.71428571428571,39.99999999999999)\" d=\"M2.7386127875258306,0A2.7386127875258306,2.7386127875258306,0,1,1,-2.7386127875258306,0A2.7386127875258306,2.7386127875258306,0,1,1,2.7386127875258306,0\" stroke=\"rgb(252, 163, 56)\" stroke-width=\"2\" opacity=\"0.7\"/><path aria-label=\"S: 230; s: 40; profit_mean: 1191.8186\" role=\"graphics-symbol\" aria-roledescription=\"point\" transform=\"translate(131.42857142857142,39.99999999999999)\" d=\"M2.7386127875258306,0A2.7386127875258306,2.7386127875258306,0,1,1,-2.7386127875258306,0A2.7386127875258306,2.7386127875258306,0,1,1,2.7386127875258306,0\" stroke=\"rgb(244, 136, 73)\" stroke-width=\"2\" opacity=\"0.7\"/><path aria-label=\"S: 240; s: 40; profit_mean: 1141.2655\" role=\"graphics-symbol\" aria-roledescription=\"point\" transform=\"translate(137.14285714285714,39.99999999999999)\" d=\"M2.7386127875258306,0A2.7386127875258306,2.7386127875258306,0,1,1,-2.7386127875258306,0A2.7386127875258306,2.7386127875258306,0,1,1,2.7386127875258306,0\" stroke=\"rgb(223, 97, 100)\" stroke-width=\"2\" opacity=\"0.7\"/><path aria-label=\"S: 250; s: 40; profit_mean: 1121.5018\" role=\"graphics-symbol\" aria-roledescription=\"point\" transform=\"translate(142.85714285714286,39.99999999999999)\" d=\"M2.7386127875258306,0A2.7386127875258306,2.7386127875258306,0,1,1,-2.7386127875258306,0A2.7386127875258306,2.7386127875258306,0,1,1,2.7386127875258306,0\" stroke=\"rgb(213, 83, 111)\" stroke-width=\"2\" opacity=\"0.7\"/><path aria-label=\"S: 260; s: 40; profit_mean: 1096.5067\" role=\"graphics-symbol\" aria-roledescription=\"point\" transform=\"translate(148.57142857142858,39.99999999999999)\" d=\"M2.7386127875258306,0A2.7386127875258306,2.7386127875258306,0,1,1,-2.7386127875258306,0A2.7386127875258306,2.7386127875258306,0,1,1,2.7386127875258306,0\" stroke=\"rgb(198, 65, 125)\" stroke-width=\"2\" opacity=\"0.7\"/><path aria-label=\"S: 270; s: 40; profit_mean: 1117.9872\" role=\"graphics-symbol\" aria-roledescription=\"point\" transform=\"translate(154.2857142857143,39.99999999999999)\" d=\"M2.7386127875258306,0A2.7386127875258306,2.7386127875258306,0,1,1,-2.7386127875258306,0A2.7386127875258306,2.7386127875258306,0,1,1,2.7386127875258306,0\" stroke=\"rgb(211, 81, 113)\" stroke-width=\"2\" opacity=\"0.7\"/><path aria-label=\"S: 280; s: 40; profit_mean: 1151.5143\" role=\"graphics-symbol\" aria-roledescription=\"point\" transform=\"translate(160,39.99999999999999)\" d=\"M2.7386127875258306,0A2.7386127875258306,2.7386127875258306,0,1,1,-2.7386127875258306,0A2.7386127875258306,2.7386127875258306,0,1,1,2.7386127875258306,0\" stroke=\"rgb(228, 104, 95)\" stroke-width=\"2\" opacity=\"0.7\"/><path aria-label=\"S: 290; s: 40; profit_mean: 1198.8379\" role=\"graphics-symbol\" aria-roledescription=\"point\" transform=\"translate(165.71428571428572,39.99999999999999)\" d=\"M2.7386127875258306,0A2.7386127875258306,2.7386127875258306,0,1,1,-2.7386127875258306,0A2.7386127875258306,2.7386127875258306,0,1,1,2.7386127875258306,0\" stroke=\"rgb(246, 142, 69)\" stroke-width=\"2\" opacity=\"0.7\"/><path aria-label=\"S: 300; s: 40; profit_mean: 1220.44\" role=\"graphics-symbol\" aria-roledescription=\"point\" transform=\"translate(171.42857142857142,39.99999999999999)\" d=\"M2.7386127875258306,0A2.7386127875258306,2.7386127875258306,0,1,1,-2.7386127875258306,0A2.7386127875258306,2.7386127875258306,0,1,1,2.7386127875258306,0\" stroke=\"rgb(251, 160, 58)\" stroke-width=\"2\" opacity=\"0.7\"/><path aria-label=\"S: 310; s: 40; profit_mean: 1200.8228\" role=\"graphics-symbol\" aria-roledescription=\"point\" transform=\"translate(177.14285714285714,39.99999999999999)\" d=\"M2.7386127875258306,0A2.7386127875258306,2.7386127875258306,0,1,1,-2.7386127875258306,0A2.7386127875258306,2.7386127875258306,0,1,1,2.7386127875258306,0\" stroke=\"rgb(246, 144, 68)\" stroke-width=\"2\" opacity=\"0.7\"/><path aria-label=\"S: 320; s: 40; profit_mean: 1173.4143\" role=\"graphics-symbol\" aria-roledescription=\"point\" transform=\"translate(182.85714285714286,39.99999999999999)\" d=\"M2.7386127875258306,0A2.7386127875258306,2.7386127875258306,0,1,1,-2.7386127875258306,0A2.7386127875258306,2.7386127875258306,0,1,1,2.7386127875258306,0\" stroke=\"rgb(237, 121, 83)\" stroke-width=\"2\" opacity=\"0.7\"/><path aria-label=\"S: 330; s: 40; profit_mean: 1135.8409\" role=\"graphics-symbol\" aria-roledescription=\"point\" transform=\"translate(188.57142857142856,39.99999999999999)\" d=\"M2.7386127875258306,0A2.7386127875258306,2.7386127875258306,0,1,1,-2.7386127875258306,0A2.7386127875258306,2.7386127875258306,0,1,1,2.7386127875258306,0\" stroke=\"rgb(220, 93, 103)\" stroke-width=\"2\" opacity=\"0.7\"/><path aria-label=\"S: 340; s: 40; profit_mean: 1095.6269\" role=\"graphics-symbol\" aria-roledescription=\"point\" transform=\"translate(194.28571428571428,39.99999999999999)\" d=\"M2.7386127875258306,0A2.7386127875258306,2.7386127875258306,0,1,1,-2.7386127875258306,0A2.7386127875258306,2.7386127875258306,0,1,1,2.7386127875258306,0\" stroke=\"rgb(198, 64, 126)\" stroke-width=\"2\" opacity=\"0.7\"/><path aria-label=\"S: 350; s: 40; profit_mean: 1052.3588\" role=\"graphics-symbol\" aria-roledescription=\"point\" transform=\"translate(200,39.99999999999999)\" d=\"M2.7386127875258306,0A2.7386127875258306,2.7386127875258306,0,1,1,-2.7386127875258306,0A2.7386127875258306,2.7386127875258306,0,1,1,2.7386127875258306,0\" stroke=\"rgb(168, 34, 151)\" stroke-width=\"2\" opacity=\"0.7\"/><path aria-label=\"S: 100; s: 45; profit_mean: 962.8336\" role=\"graphics-symbol\" aria-roledescription=\"point\" transform=\"translate(57.14285714285714,19.999999999999996)\" d=\"M2.7386127875258306,0A2.7386127875258306,2.7386127875258306,0,1,1,-2.7386127875258306,0A2.7386127875258306,2.7386127875258306,0,1,1,2.7386127875258306,0\" stroke=\"rgb(87, 1, 164)\" stroke-width=\"2\" opacity=\"0.7\"/><path aria-label=\"S: 110; s: 45; profit_mean: 1025.3848\" role=\"graphics-symbol\" aria-roledescription=\"point\" transform=\"translate(62.857142857142854,19.999999999999996)\" d=\"M2.7386127875258306,0A2.7386127875258306,2.7386127875258306,0,1,1,-2.7386127875258306,0A2.7386127875258306,2.7386127875258306,0,1,1,2.7386127875258306,0\" stroke=\"rgb(146, 14, 163)\" stroke-width=\"2\" opacity=\"0.7\"/><path aria-label=\"S: 120; s: 45; profit_mean: 1083.3567\" role=\"graphics-symbol\" aria-roledescription=\"point\" transform=\"translate(68.57142857142857,19.999999999999996)\" d=\"M2.7386127875258306,0A2.7386127875258306,2.7386127875258306,0,1,1,-2.7386127875258306,0A2.7386127875258306,2.7386127875258306,0,1,1,2.7386127875258306,0\" stroke=\"rgb(190, 56, 133)\" stroke-width=\"2\" opacity=\"0.7\"/><path aria-label=\"S: 130; s: 45; profit_mean: 1118.7587\" role=\"graphics-symbol\" aria-roledescription=\"point\" transform=\"translate(74.28571428571429,19.999999999999996)\" d=\"M2.7386127875258306,0A2.7386127875258306,2.7386127875258306,0,1,1,-2.7386127875258306,0A2.7386127875258306,2.7386127875258306,0,1,1,2.7386127875258306,0\" stroke=\"rgb(211, 81, 113)\" stroke-width=\"2\" opacity=\"0.7\"/><path aria-label=\"S: 140; s: 45; profit_mean: 1151.4609\" role=\"graphics-symbol\" aria-roledescription=\"point\" transform=\"translate(80,19.999999999999996)\" d=\"M2.7386127875258306,0A2.7386127875258306,2.7386127875258306,0,1,1,-2.7386127875258306,0A2.7386127875258306,2.7386127875258306,0,1,1,2.7386127875258306,0\" stroke=\"rgb(228, 104, 95)\" stroke-width=\"2\" opacity=\"0.7\"/><path aria-label=\"S: 150; s: 45; profit_mean: 1162.1809\" role=\"graphics-symbol\" aria-roledescription=\"point\" transform=\"translate(85.71428571428571,19.999999999999996)\" d=\"M2.7386127875258306,0A2.7386127875258306,2.7386127875258306,0,1,1,-2.7386127875258306,0A2.7386127875258306,2.7386127875258306,0,1,1,2.7386127875258306,0\" stroke=\"rgb(232, 112, 89)\" stroke-width=\"2\" opacity=\"0.7\"/><path aria-label=\"S: 160; s: 45; profit_mean: 1179.6215\" role=\"graphics-symbol\" aria-roledescription=\"point\" transform=\"translate(91.42857142857143,19.999999999999996)\" d=\"M2.7386127875258306,0A2.7386127875258306,2.7386127875258306,0,1,1,-2.7386127875258306,0A2.7386127875258306,2.7386127875258306,0,1,1,2.7386127875258306,0\" stroke=\"rgb(239, 126, 80)\" stroke-width=\"2\" opacity=\"0.7\"/><path aria-label=\"S: 170; s: 45; profit_mean: 1197.8699\" role=\"graphics-symbol\" aria-roledescription=\"point\" transform=\"translate(97.14285714285714,19.999999999999996)\" d=\"M2.7386127875258306,0A2.7386127875258306,2.7386127875258306,0,1,1,-2.7386127875258306,0A2.7386127875258306,2.7386127875258306,0,1,1,2.7386127875258306,0\" stroke=\"rgb(245, 141, 69)\" stroke-width=\"2\" opacity=\"0.7\"/><path aria-label=\"S: 180; s: 45; profit_mean: 1173.481\" role=\"graphics-symbol\" aria-roledescription=\"point\" transform=\"translate(102.85714285714285,19.999999999999996)\" d=\"M2.7386127875258306,0A2.7386127875258306,2.7386127875258306,0,1,1,-2.7386127875258306,0A2.7386127875258306,2.7386127875258306,0,1,1,2.7386127875258306,0\" stroke=\"rgb(237, 121, 83)\" stroke-width=\"2\" opacity=\"0.7\"/><path aria-label=\"S: 190; s: 45; profit_mean: 1169.6976\" role=\"graphics-symbol\" aria-roledescription=\"point\" transform=\"translate(108.57142857142857,19.999999999999996)\" d=\"M2.7386127875258306,0A2.7386127875258306,2.7386127875258306,0,1,1,-2.7386127875258306,0A2.7386127875258306,2.7386127875258306,0,1,1,2.7386127875258306,0\" stroke=\"rgb(236, 118, 85)\" stroke-width=\"2\" opacity=\"0.7\"/><path aria-label=\"S: 200; s: 45; profit_mean: 1191.7689\" role=\"graphics-symbol\" aria-roledescription=\"point\" transform=\"translate(114.28571428571428,19.999999999999996)\" d=\"M2.7386127875258306,0A2.7386127875258306,2.7386127875258306,0,1,1,-2.7386127875258306,0A2.7386127875258306,2.7386127875258306,0,1,1,2.7386127875258306,0\" stroke=\"rgb(244, 136, 73)\" stroke-width=\"2\" opacity=\"0.7\"/><path aria-label=\"S: 210; s: 45; profit_mean: 1220.5394\" role=\"graphics-symbol\" aria-roledescription=\"point\" transform=\"translate(120,19.999999999999996)\" d=\"M2.7386127875258306,0A2.7386127875258306,2.7386127875258306,0,1,1,-2.7386127875258306,0A2.7386127875258306,2.7386127875258306,0,1,1,2.7386127875258306,0\" stroke=\"rgb(251, 160, 57)\" stroke-width=\"2\" opacity=\"0.7\"/><path aria-label=\"S: 220; s: 45; profit_mean: 1223.2257\" role=\"graphics-symbol\" aria-roledescription=\"point\" transform=\"translate(125.71428571428571,19.999999999999996)\" d=\"M2.7386127875258306,0A2.7386127875258306,2.7386127875258306,0,1,1,-2.7386127875258306,0A2.7386127875258306,2.7386127875258306,0,1,1,2.7386127875258306,0\" stroke=\"rgb(251, 162, 56)\" stroke-width=\"2\" opacity=\"0.7\"/><path aria-label=\"S: 230; s: 45; profit_mean: 1190.9652\" role=\"graphics-symbol\" aria-roledescription=\"point\" transform=\"translate(131.42857142857142,19.999999999999996)\" d=\"M2.7386127875258306,0A2.7386127875258306,2.7386127875258306,0,1,1,-2.7386127875258306,0A2.7386127875258306,2.7386127875258306,0,1,1,2.7386127875258306,0\" stroke=\"rgb(243, 135, 73)\" stroke-width=\"2\" opacity=\"0.7\"/><path aria-label=\"S: 240; s: 45; profit_mean: 1144.9629\" role=\"graphics-symbol\" aria-roledescription=\"point\" transform=\"translate(137.14285714285714,19.999999999999996)\" d=\"M2.7386127875258306,0A2.7386127875258306,2.7386127875258306,0,1,1,-2.7386127875258306,0A2.7386127875258306,2.7386127875258306,0,1,1,2.7386127875258306,0\" stroke=\"rgb(225, 99, 98)\" stroke-width=\"2\" opacity=\"0.7\"/><path aria-label=\"S: 250; s: 45; profit_mean: 1106.9587\" role=\"graphics-symbol\" aria-roledescription=\"point\" transform=\"translate(142.85714285714286,19.999999999999996)\" d=\"M2.7386127875258306,0A2.7386127875258306,2.7386127875258306,0,1,1,-2.7386127875258306,0A2.7386127875258306,2.7386127875258306,0,1,1,2.7386127875258306,0\" stroke=\"rgb(204, 72, 120)\" stroke-width=\"2\" opacity=\"0.7\"/><path aria-label=\"S: 260; s: 45; profit_mean: 1083.612\" role=\"graphics-symbol\" aria-roledescription=\"point\" transform=\"translate(148.57142857142858,19.999999999999996)\" d=\"M2.7386127875258306,0A2.7386127875258306,2.7386127875258306,0,1,1,-2.7386127875258306,0A2.7386127875258306,2.7386127875258306,0,1,1,2.7386127875258306,0\" stroke=\"rgb(190, 56, 133)\" stroke-width=\"2\" opacity=\"0.7\"/><path aria-label=\"S: 270; s: 45; profit_mean: 1081.0412\" role=\"graphics-symbol\" aria-roledescription=\"point\" transform=\"translate(154.2857142857143,19.999999999999996)\" d=\"M2.7386127875258306,0A2.7386127875258306,2.7386127875258306,0,1,1,-2.7386127875258306,0A2.7386127875258306,2.7386127875258306,0,1,1,2.7386127875258306,0\" stroke=\"rgb(188, 54, 134)\" stroke-width=\"2\" opacity=\"0.7\"/><path aria-label=\"S: 280; s: 45; profit_mean: 1116.4928\" role=\"graphics-symbol\" aria-roledescription=\"point\" transform=\"translate(160,19.999999999999996)\" d=\"M2.7386127875258306,0A2.7386127875258306,2.7386127875258306,0,1,1,-2.7386127875258306,0A2.7386127875258306,2.7386127875258306,0,1,1,2.7386127875258306,0\" stroke=\"rgb(210, 80, 114)\" stroke-width=\"2\" opacity=\"0.7\"/><path aria-label=\"S: 290; s: 45; profit_mean: 1143.4066\" role=\"graphics-symbol\" aria-roledescription=\"point\" transform=\"translate(165.71428571428572,19.999999999999996)\" d=\"M2.7386127875258306,0A2.7386127875258306,2.7386127875258306,0,1,1,-2.7386127875258306,0A2.7386127875258306,2.7386127875258306,0,1,1,2.7386127875258306,0\" stroke=\"rgb(224, 98, 99)\" stroke-width=\"2\" opacity=\"0.7\"/><path aria-label=\"S: 300; s: 45; profit_mean: 1186.0901\" role=\"graphics-symbol\" aria-roledescription=\"point\" transform=\"translate(171.42857142857142,19.999999999999996)\" d=\"M2.7386127875258306,0A2.7386127875258306,2.7386127875258306,0,1,1,-2.7386127875258306,0A2.7386127875258306,2.7386127875258306,0,1,1,2.7386127875258306,0\" stroke=\"rgb(242, 131, 76)\" stroke-width=\"2\" opacity=\"0.7\"/><path aria-label=\"S: 310; s: 45; profit_mean: 1190.2935\" role=\"graphics-symbol\" aria-roledescription=\"point\" transform=\"translate(177.14285714285714,19.999999999999996)\" d=\"M2.7386127875258306,0A2.7386127875258306,2.7386127875258306,0,1,1,-2.7386127875258306,0A2.7386127875258306,2.7386127875258306,0,1,1,2.7386127875258306,0\" stroke=\"rgb(243, 134, 74)\" stroke-width=\"2\" opacity=\"0.7\"/><path aria-label=\"S: 320; s: 45; profit_mean: 1171.476\" role=\"graphics-symbol\" aria-roledescription=\"point\" transform=\"translate(182.85714285714286,19.999999999999996)\" d=\"M2.7386127875258306,0A2.7386127875258306,2.7386127875258306,0,1,1,-2.7386127875258306,0A2.7386127875258306,2.7386127875258306,0,1,1,2.7386127875258306,0\" stroke=\"rgb(236, 120, 84)\" stroke-width=\"2\" opacity=\"0.7\"/><path aria-label=\"S: 330; s: 45; profit_mean: 1146.2992\" role=\"graphics-symbol\" aria-roledescription=\"point\" transform=\"translate(188.57142857142856,19.999999999999996)\" d=\"M2.7386127875258306,0A2.7386127875258306,2.7386127875258306,0,1,1,-2.7386127875258306,0A2.7386127875258306,2.7386127875258306,0,1,1,2.7386127875258306,0\" stroke=\"rgb(225, 100, 98)\" stroke-width=\"2\" opacity=\"0.7\"/><path aria-label=\"S: 340; s: 45; profit_mean: 1093.8299\" role=\"graphics-symbol\" aria-roledescription=\"point\" transform=\"translate(194.28571428571428,19.999999999999996)\" d=\"M2.7386127875258306,0A2.7386127875258306,2.7386127875258306,0,1,1,-2.7386127875258306,0A2.7386127875258306,2.7386127875258306,0,1,1,2.7386127875258306,0\" stroke=\"rgb(196, 63, 127)\" stroke-width=\"2\" opacity=\"0.7\"/><path aria-label=\"S: 350; s: 45; profit_mean: 1063.4941\" role=\"graphics-symbol\" aria-roledescription=\"point\" transform=\"translate(200,19.999999999999996)\" d=\"M2.7386127875258306,0A2.7386127875258306,2.7386127875258306,0,1,1,-2.7386127875258306,0A2.7386127875258306,2.7386127875258306,0,1,1,2.7386127875258306,0\" stroke=\"rgb(177, 42, 144)\" stroke-width=\"2\" opacity=\"0.7\"/><path aria-label=\"S: 100; s: 50; profit_mean: 901.0713\" role=\"graphics-symbol\" aria-roledescription=\"point\" transform=\"translate(57.14285714285714,0)\" d=\"M2.7386127875258306,0A2.7386127875258306,2.7386127875258306,0,1,1,-2.7386127875258306,0A2.7386127875258306,2.7386127875258306,0,1,1,2.7386127875258306,0\" stroke=\"rgb(13, 8, 135)\" stroke-width=\"2\" opacity=\"0.7\"/><path aria-label=\"S: 110; s: 50; profit_mean: 972.9241\" role=\"graphics-symbol\" aria-roledescription=\"point\" transform=\"translate(62.857142857142854,0)\" d=\"M2.7386127875258306,0A2.7386127875258306,2.7386127875258306,0,1,1,-2.7386127875258306,0A2.7386127875258306,2.7386127875258306,0,1,1,2.7386127875258306,0\" stroke=\"rgb(97, 1, 167)\" stroke-width=\"2\" opacity=\"0.7\"/><path aria-label=\"S: 120; s: 50; profit_mean: 1038.5918\" role=\"graphics-symbol\" aria-roledescription=\"point\" transform=\"translate(68.57142857142857,0)\" d=\"M2.7386127875258306,0A2.7386127875258306,2.7386127875258306,0,1,1,-2.7386127875258306,0A2.7386127875258306,2.7386127875258306,0,1,1,2.7386127875258306,0\" stroke=\"rgb(157, 24, 157)\" stroke-width=\"2\" opacity=\"0.7\"/><path aria-label=\"S: 130; s: 50; profit_mean: 1081.9735\" role=\"graphics-symbol\" aria-roledescription=\"point\" transform=\"translate(74.28571428571429,0)\" d=\"M2.7386127875258306,0A2.7386127875258306,2.7386127875258306,0,1,1,-2.7386127875258306,0A2.7386127875258306,2.7386127875258306,0,1,1,2.7386127875258306,0\" stroke=\"rgb(189, 55, 134)\" stroke-width=\"2\" opacity=\"0.7\"/><path aria-label=\"S: 140; s: 50; profit_mean: 1120.6184\" role=\"graphics-symbol\" aria-roledescription=\"point\" transform=\"translate(80,0)\" d=\"M2.7386127875258306,0A2.7386127875258306,2.7386127875258306,0,1,1,-2.7386127875258306,0A2.7386127875258306,2.7386127875258306,0,1,1,2.7386127875258306,0\" stroke=\"rgb(212, 82, 112)\" stroke-width=\"2\" opacity=\"0.7\"/><path aria-label=\"S: 150; s: 50; profit_mean: 1137.6378\" role=\"graphics-symbol\" aria-roledescription=\"point\" transform=\"translate(85.71428571428571,0)\" d=\"M2.7386127875258306,0A2.7386127875258306,2.7386127875258306,0,1,1,-2.7386127875258306,0A2.7386127875258306,2.7386127875258306,0,1,1,2.7386127875258306,0\" stroke=\"rgb(221, 94, 102)\" stroke-width=\"2\" opacity=\"0.7\"/><path aria-label=\"S: 160; s: 50; profit_mean: 1138.9103\" role=\"graphics-symbol\" aria-roledescription=\"point\" transform=\"translate(91.42857142857143,0)\" d=\"M2.7386127875258306,0A2.7386127875258306,2.7386127875258306,0,1,1,-2.7386127875258306,0A2.7386127875258306,2.7386127875258306,0,1,1,2.7386127875258306,0\" stroke=\"rgb(221, 95, 102)\" stroke-width=\"2\" opacity=\"0.7\"/><path aria-label=\"S: 170; s: 50; profit_mean: 1173.9012\" role=\"graphics-symbol\" aria-roledescription=\"point\" transform=\"translate(97.14285714285714,0)\" d=\"M2.7386127875258306,0A2.7386127875258306,2.7386127875258306,0,1,1,-2.7386127875258306,0A2.7386127875258306,2.7386127875258306,0,1,1,2.7386127875258306,0\" stroke=\"rgb(237, 122, 82)\" stroke-width=\"2\" opacity=\"0.7\"/><path aria-label=\"S: 180; s: 50; profit_mean: 1175.3082\" role=\"graphics-symbol\" aria-roledescription=\"point\" transform=\"translate(102.85714285714285,0)\" d=\"M2.7386127875258306,0A2.7386127875258306,2.7386127875258306,0,1,1,-2.7386127875258306,0A2.7386127875258306,2.7386127875258306,0,1,1,2.7386127875258306,0\" stroke=\"rgb(238, 123, 82)\" stroke-width=\"2\" opacity=\"0.7\"/><path aria-label=\"S: 190; s: 50; profit_mean: 1153.6221\" role=\"graphics-symbol\" aria-roledescription=\"point\" transform=\"translate(108.57142857142857,0)\" d=\"M2.7386127875258306,0A2.7386127875258306,2.7386127875258306,0,1,1,-2.7386127875258306,0A2.7386127875258306,2.7386127875258306,0,1,1,2.7386127875258306,0\" stroke=\"rgb(228, 106, 94)\" stroke-width=\"2\" opacity=\"0.7\"/><path aria-label=\"S: 200; s: 50; profit_mean: 1151.334\" role=\"graphics-symbol\" aria-roledescription=\"point\" transform=\"translate(114.28571428571428,0)\" d=\"M2.7386127875258306,0A2.7386127875258306,2.7386127875258306,0,1,1,-2.7386127875258306,0A2.7386127875258306,2.7386127875258306,0,1,1,2.7386127875258306,0\" stroke=\"rgb(227, 104, 95)\" stroke-width=\"2\" opacity=\"0.7\"/><path aria-label=\"S: 210; s: 50; profit_mean: 1183.2953\" role=\"graphics-symbol\" aria-roledescription=\"point\" transform=\"translate(120,0)\" d=\"M2.7386127875258306,0A2.7386127875258306,2.7386127875258306,0,1,1,-2.7386127875258306,0A2.7386127875258306,2.7386127875258306,0,1,1,2.7386127875258306,0\" stroke=\"rgb(241, 129, 78)\" stroke-width=\"2\" opacity=\"0.7\"/><path aria-label=\"S: 220; s: 50; profit_mean: 1210.9642\" role=\"graphics-symbol\" aria-roledescription=\"point\" transform=\"translate(125.71428571428571,0)\" d=\"M2.7386127875258306,0A2.7386127875258306,2.7386127875258306,0,1,1,-2.7386127875258306,0A2.7386127875258306,2.7386127875258306,0,1,1,2.7386127875258306,0\" stroke=\"rgb(249, 152, 62)\" stroke-width=\"2\" opacity=\"0.7\"/><path aria-label=\"S: 230; s: 50; profit_mean: 1197.1638\" role=\"graphics-symbol\" aria-roledescription=\"point\" transform=\"translate(131.42857142857142,0)\" d=\"M2.7386127875258306,0A2.7386127875258306,2.7386127875258306,0,1,1,-2.7386127875258306,0A2.7386127875258306,2.7386127875258306,0,1,1,2.7386127875258306,0\" stroke=\"rgb(245, 140, 70)\" stroke-width=\"2\" opacity=\"0.7\"/><path aria-label=\"S: 240; s: 50; profit_mean: 1152.4436\" role=\"graphics-symbol\" aria-roledescription=\"point\" transform=\"translate(137.14285714285714,0)\" d=\"M2.7386127875258306,0A2.7386127875258306,2.7386127875258306,0,1,1,-2.7386127875258306,0A2.7386127875258306,2.7386127875258306,0,1,1,2.7386127875258306,0\" stroke=\"rgb(228, 105, 95)\" stroke-width=\"2\" opacity=\"0.7\"/><path aria-label=\"S: 250; s: 50; profit_mean: 1109.5742\" role=\"graphics-symbol\" aria-roledescription=\"point\" transform=\"translate(142.85714285714286,0)\" d=\"M2.7386127875258306,0A2.7386127875258306,2.7386127875258306,0,1,1,-2.7386127875258306,0A2.7386127875258306,2.7386127875258306,0,1,1,2.7386127875258306,0\" stroke=\"rgb(206, 74, 118)\" stroke-width=\"2\" opacity=\"0.7\"/><path aria-label=\"S: 260; s: 50; profit_mean: 1078.0302\" role=\"graphics-symbol\" aria-roledescription=\"point\" transform=\"translate(148.57142857142858,0)\" d=\"M2.7386127875258306,0A2.7386127875258306,2.7386127875258306,0,1,1,-2.7386127875258306,0A2.7386127875258306,2.7386127875258306,0,1,1,2.7386127875258306,0\" stroke=\"rgb(186, 52, 136)\" stroke-width=\"2\" opacity=\"0.7\"/><path aria-label=\"S: 270; s: 50; profit_mean: 1055.8256\" role=\"graphics-symbol\" aria-roledescription=\"point\" transform=\"translate(154.2857142857143,0)\" d=\"M2.7386127875258306,0A2.7386127875258306,2.7386127875258306,0,1,1,-2.7386127875258306,0A2.7386127875258306,2.7386127875258306,0,1,1,2.7386127875258306,0\" stroke=\"rgb(171, 36, 149)\" stroke-width=\"2\" opacity=\"0.7\"/><path aria-label=\"S: 280; s: 50; profit_mean: 1059.101\" role=\"graphics-symbol\" aria-roledescription=\"point\" transform=\"translate(160,0)\" d=\"M2.7386127875258306,0A2.7386127875258306,2.7386127875258306,0,1,1,-2.7386127875258306,0A2.7386127875258306,2.7386127875258306,0,1,1,2.7386127875258306,0\" stroke=\"rgb(173, 39, 147)\" stroke-width=\"2\" opacity=\"0.7\"/><path aria-label=\"S: 290; s: 50; profit_mean: 1091.07\" role=\"graphics-symbol\" aria-roledescription=\"point\" transform=\"translate(165.71428571428572,0)\" d=\"M2.7386127875258306,0A2.7386127875258306,2.7386127875258306,0,1,1,-2.7386127875258306,0A2.7386127875258306,2.7386127875258306,0,1,1,2.7386127875258306,0\" stroke=\"rgb(195, 61, 128)\" stroke-width=\"2\" opacity=\"0.7\"/><path aria-label=\"S: 300; s: 50; profit_mean: 1139.2788\" role=\"graphics-symbol\" aria-roledescription=\"point\" transform=\"translate(171.42857142857142,0)\" d=\"M2.7386127875258306,0A2.7386127875258306,2.7386127875258306,0,1,1,-2.7386127875258306,0A2.7386127875258306,2.7386127875258306,0,1,1,2.7386127875258306,0\" stroke=\"rgb(222, 95, 101)\" stroke-width=\"2\" opacity=\"0.7\"/><path aria-label=\"S: 310; s: 50; profit_mean: 1165.1183\" role=\"graphics-symbol\" aria-roledescription=\"point\" transform=\"translate(177.14285714285714,0)\" d=\"M2.7386127875258306,0A2.7386127875258306,2.7386127875258306,0,1,1,-2.7386127875258306,0A2.7386127875258306,2.7386127875258306,0,1,1,2.7386127875258306,0\" stroke=\"rgb(234, 115, 88)\" stroke-width=\"2\" opacity=\"0.7\"/><path aria-label=\"S: 320; s: 50; profit_mean: 1169.3793\" role=\"graphics-symbol\" aria-roledescription=\"point\" transform=\"translate(182.85714285714286,0)\" d=\"M2.7386127875258306,0A2.7386127875258306,2.7386127875258306,0,1,1,-2.7386127875258306,0A2.7386127875258306,2.7386127875258306,0,1,1,2.7386127875258306,0\" stroke=\"rgb(235, 118, 85)\" stroke-width=\"2\" opacity=\"0.7\"/><path aria-label=\"S: 330; s: 50; profit_mean: 1141.1592\" role=\"graphics-symbol\" aria-roledescription=\"point\" transform=\"translate(188.57142857142856,0)\" d=\"M2.7386127875258306,0A2.7386127875258306,2.7386127875258306,0,1,1,-2.7386127875258306,0A2.7386127875258306,2.7386127875258306,0,1,1,2.7386127875258306,0\" stroke=\"rgb(223, 97, 100)\" stroke-width=\"2\" opacity=\"0.7\"/><path aria-label=\"S: 340; s: 50; profit_mean: 1098.3848\" role=\"graphics-symbol\" aria-roledescription=\"point\" transform=\"translate(194.28571428571428,0)\" d=\"M2.7386127875258306,0A2.7386127875258306,2.7386127875258306,0,1,1,-2.7386127875258306,0A2.7386127875258306,2.7386127875258306,0,1,1,2.7386127875258306,0\" stroke=\"rgb(199, 66, 124)\" stroke-width=\"2\" opacity=\"0.7\"/><path aria-label=\"S: 350; s: 50; profit_mean: 1067.9732\" role=\"graphics-symbol\" aria-roledescription=\"point\" transform=\"translate(200,0)\" d=\"M2.7386127875258306,0A2.7386127875258306,2.7386127875258306,0,1,1,-2.7386127875258306,0A2.7386127875258306,2.7386127875258306,0,1,1,2.7386127875258306,0\" stroke=\"rgb(180, 45, 142)\" stroke-width=\"2\" opacity=\"0.7\"/></g><g class=\"mark-group role-legend\" role=\"graphics-symbol\" aria-roledescription=\"legend\" aria-label=\"Gradient legend titled 'profit_mean' for stroke color with values from 901 to 1,309\"><g transform=\"translate(218,0)\"><path class=\"background\" aria-hidden=\"true\" d=\"M0,0h69v216h-69Z\" pointer-events=\"none\"/><g><g class=\"mark-group role-legend-entry\"><g transform=\"translate(0,16)\"><path class=\"background\" aria-hidden=\"true\" d=\"M0,0h0v0h0Z\" pointer-events=\"none\"/><g><g class=\"mark-rect role-legend-gradient\" pointer-events=\"none\"><path d=\"M0,0h16v200h-16Z\" fill=\"url(#gradient_0)\" stroke=\"#ddd\" stroke-width=\"0\" opacity=\"0.7\"/></g><g class=\"mark-text role-legend-label\" pointer-events=\"none\"><text text-anchor=\"start\" transform=\"translate(18,154.47273573655914)\" font-family=\"sans-serif\" font-size=\"10px\" fill=\"#000\" opacity=\"1\">1,000</text><text text-anchor=\"start\" transform=\"translate(18,105.41996918505203)\" font-family=\"sans-serif\" font-size=\"10px\" fill=\"#000\" opacity=\"1\">1,100</text><text text-anchor=\"start\" transform=\"translate(18,56.367202633544906)\" font-family=\"sans-serif\" font-size=\"10px\" fill=\"#000\" opacity=\"1\">1,200</text><text text-anchor=\"start\" transform=\"translate(18,7.314436082037787)\" font-family=\"sans-serif\" font-size=\"10px\" fill=\"#000\" opacity=\"1\">1,300</text></g></g><path class=\"foreground\" aria-hidden=\"true\" d=\"\" pointer-events=\"none\" display=\"none\"/></g></g><g class=\"mark-text role-legend-title\" pointer-events=\"none\"><text text-anchor=\"start\" transform=\"translate(0,9)\" font-family=\"sans-serif\" font-size=\"11px\" font-weight=\"bold\" fill=\"#000\" opacity=\"1\">profit_mean</text></g></g><path class=\"foreground\" aria-hidden=\"true\" d=\"\" pointer-events=\"none\" display=\"none\"/></g></g></g><path class=\"foreground\" aria-hidden=\"true\" d=\"\" display=\"none\"/></g></g></g><defs><linearGradient id=\"gradient_0\" x1=\"0\" x2=\"0\" y1=\"1\" y2=\"0\"><stop offset=\"0\" stop-color=\"rgb(13, 8, 135)\"/><stop offset=\"0.04642525511117576\" stop-color=\"rgb(41, 6, 147)\"/><stop offset=\"0.09547802166268289\" stop-color=\"rgb(64, 3, 156)\"/><stop offset=\"0.14453078821419002\" stop-color=\"rgb(84, 2, 163)\"/><stop offset=\"0.19358355476569714\" stop-color=\"rgb(103, 0, 168)\"/><stop offset=\"0.24263632131720425\" stop-color=\"rgb(123, 2, 168)\"/><stop offset=\"0.2916890878687114\" stop-color=\"rgb(141, 11, 165)\"/><stop offset=\"0.3407418544202185\" stop-color=\"rgb(158, 25, 157)\"/><stop offset=\"0.3897946209717256\" stop-color=\"rgb(174, 39, 146)\"/><stop offset=\"0.43884738752323277\" stop-color=\"rgb(187, 53, 135)\"/><stop offset=\"0.48790015407473986\" stop-color=\"rgb(200, 67, 124)\"/><stop offset=\"0.536952920626247\" stop-color=\"rgb(212, 82, 112)\"/><stop offset=\"0.5860056871777541\" stop-color=\"rgb(222, 96, 101)\"/><stop offset=\"0.6350584537292612\" stop-color=\"rgb(231, 111, 91)\"/><stop offset=\"0.6841112202807683\" stop-color=\"rgb(240, 126, 79)\"/><stop offset=\"0.7331639868322755\" stop-color=\"rgb(246, 143, 68)\"/><stop offset=\"0.7822167533837826\" stop-color=\"rgb(251, 160, 58)\"/><stop offset=\"0.8312695199352897\" stop-color=\"rgb(253, 178, 47)\"/><stop offset=\"0.8803222864867969\" stop-color=\"rgb(253, 198, 39)\"/><stop offset=\"0.9293750530383039\" stop-color=\"rgb(249, 218, 36)\"/><stop offset=\"0.9784278195898111\" stop-color=\"rgb(243, 239, 37)\"/><stop offset=\"1\" stop-color=\"rgb(240, 249, 33)\"/></linearGradient></defs></svg>\n"
      ],
      "text/plain": [
       "@vlplot(\n",
       "    mark=\"point\",\n",
       "    encoding={\n",
       "        x={\n",
       "            field=\"S\"\n",
       "        },\n",
       "        y={\n",
       "            field=\"s\"\n",
       "        },\n",
       "        color={\n",
       "            scale={\n",
       "                scheme=\"plasma\"\n",
       "            },\n",
       "            field=\"profit_mean\"\n",
       "        }\n",
       "    },\n",
       "    data={\n",
       "        values=...\n",
       "    }\n",
       ")"
      ]
     },
     "execution_count": 9,
     "metadata": {},
     "output_type": "execute_result"
    }
   ],
   "source": [
    "# We can observe that there are more good points where we have high profit_mean values.\n",
    "using VegaLite\n",
    "df |> @vlplot(:point, x=:S, y=:s, color={:profit_mean, scale={scheme=:plasma}})"
   ]
  },
  {
   "cell_type": "code",
   "execution_count": 10,
   "metadata": {},
   "outputs": [
    {
     "data": {
      "application/vnd.vegalite.v4+json": {
       "data": {
        "values": [
         {
          "N": 1000,
          "S": 120,
          "lost_mean": 41.755,
          "lost_std": 25.85949900304893,
          "m": 30,
          "profit_mean": 1221.9755,
          "profit_std": 98.72465399816328,
          "s": 10
         },
         {
          "N": 1000,
          "S": 130,
          "lost_mean": 38.67,
          "lost_std": 26.374964241468437,
          "m": 30,
          "profit_mean": 1237.17,
          "profit_std": 118.01406636439515,
          "s": 10
         },
         {
          "N": 1000,
          "S": 140,
          "lost_mean": 35.878,
          "lost_std": 24.62351383197438,
          "m": 30,
          "profit_mean": 1223.1476,
          "profit_std": 107.96257672088146,
          "s": 10
         },
         {
          "N": 1000,
          "S": 150,
          "lost_mean": 34.555,
          "lost_std": 24.222338794936725,
          "m": 30,
          "profit_mean": 1229.5750999999998,
          "profit_std": 86.6381838734798,
          "s": 10
         },
         {
          "N": 1000,
          "S": 160,
          "lost_mean": 33.068,
          "lost_std": 24.39168568037745,
          "m": 30,
          "profit_mean": 1280.3911,
          "profit_std": 99.09514902026913,
          "s": 10
         },
         {
          "N": 1000,
          "S": 170,
          "lost_mean": 29.252,
          "lost_std": 23.009953367053004,
          "m": 30,
          "profit_mean": 1295.8973,
          "profit_std": 120.65359353265174,
          "s": 10
         },
         {
          "N": 1000,
          "S": 180,
          "lost_mean": 28.374,
          "lost_std": 23.01029329664438,
          "m": 30,
          "profit_mean": 1274.1175000000003,
          "profit_std": 136.4624032151026,
          "s": 10
         },
         {
          "N": 1000,
          "S": 190,
          "lost_mean": 27.625,
          "lost_std": 23.21726548102546,
          "m": 30,
          "profit_mean": 1241.0229000000002,
          "profit_std": 130.9587565667585,
          "s": 10
         },
         {
          "N": 1000,
          "S": 200,
          "lost_mean": 28.884,
          "lost_std": 23.281378107117426,
          "m": 30,
          "profit_mean": 1204.2041000000004,
          "profit_std": 117.80163249211704,
          "s": 10
         },
         {
          "N": 1000,
          "S": 230,
          "lost_mean": 23.733,
          "lost_std": 19.267458211864533,
          "m": 30,
          "profit_mean": 1217.7190999999996,
          "profit_std": 106.66704825940563,
          "s": 10
         },
         {
          "N": 1000,
          "S": 240,
          "lost_mean": 23.413,
          "lost_std": 20.641329789901995,
          "m": 30,
          "profit_mean": 1253.3675,
          "profit_std": 118.15921129121912,
          "s": 10
         },
         {
          "N": 1000,
          "S": 250,
          "lost_mean": 21.379,
          "lost_std": 19.567325807049855,
          "m": 30,
          "profit_mean": 1306.9865999999997,
          "profit_std": 120.282067309122,
          "s": 10
         },
         {
          "N": 1000,
          "S": 260,
          "lost_mean": 20.225,
          "lost_std": 19.709155888211594,
          "m": 30,
          "profit_mean": 1307.8205999999996,
          "profit_std": 126.70780277048024,
          "s": 10
         },
         {
          "N": 1000,
          "S": 270,
          "lost_mean": 18.865,
          "lost_std": 18.857263093338105,
          "m": 30,
          "profit_mean": 1286.4594,
          "profit_std": 139.30093898909382,
          "s": 10
         },
         {
          "N": 1000,
          "S": 280,
          "lost_mean": 19.89,
          "lost_std": 20.009954979916827,
          "m": 30,
          "profit_mean": 1250.5556,
          "profit_std": 134.97709807832456,
          "s": 10
         },
         {
          "N": 1000,
          "S": 290,
          "lost_mean": 17.893,
          "lost_std": 18.206730514730978,
          "m": 30,
          "profit_mean": 1220.7917999999997,
          "profit_std": 140.82819438270553,
          "s": 10
         },
         {
          "N": 1000,
          "S": 120,
          "lost_mean": 29.72,
          "lost_std": 22.456533479054507,
          "m": 30,
          "profit_mean": 1220.8081000000002,
          "profit_std": 89.9745928123142,
          "s": 15
         },
         {
          "N": 1000,
          "S": 130,
          "lost_mean": 28.356,
          "lost_std": 24.180197392617494,
          "m": 30,
          "profit_mean": 1253.3124999999998,
          "profit_std": 108.8652347312175,
          "s": 15
         },
         {
          "N": 1000,
          "S": 140,
          "lost_mean": 25.706,
          "lost_std": 23.688662197699482,
          "m": 30,
          "profit_mean": 1245.5914000000002,
          "profit_std": 118.49800995967996,
          "s": 15
         },
         {
          "N": 1000,
          "S": 150,
          "lost_mean": 24.575,
          "lost_std": 22.726215167859692,
          "m": 30,
          "profit_mean": 1237.5475,
          "profit_std": 99.65764586889522,
          "s": 15
         },
         {
          "N": 1000,
          "S": 160,
          "lost_mean": 23.675,
          "lost_std": 21.794319612398258,
          "m": 30,
          "profit_mean": 1259.4145,
          "profit_std": 94.76311924223748,
          "s": 15
         },
         {
          "N": 1000,
          "S": 170,
          "lost_mean": 21.344,
          "lost_std": 21.488914291732783,
          "m": 30,
          "profit_mean": 1305.4484999999997,
          "profit_std": 108.11265542948252,
          "s": 15
         },
         {
          "N": 1000,
          "S": 180,
          "lost_mean": 20.943,
          "lost_std": 21.10756452744561,
          "m": 30,
          "profit_mean": 1305.6570000000004,
          "profit_std": 125.59585737750429,
          "s": 15
         },
         {
          "N": 1000,
          "S": 190,
          "lost_mean": 20.574,
          "lost_std": 21.622813648322232,
          "m": 30,
          "profit_mean": 1267.6961,
          "profit_std": 127.28981401330408,
          "s": 15
         },
         {
          "N": 1000,
          "S": 200,
          "lost_mean": 19.998,
          "lost_std": 22.09584174052263,
          "m": 30,
          "profit_mean": 1227.8697,
          "profit_std": 123.59999162556541,
          "s": 15
         },
         {
          "N": 1000,
          "S": 240,
          "lost_mean": 16.778,
          "lost_std": 17.4504221505737,
          "m": 30,
          "profit_mean": 1225.8602,
          "profit_std": 115.7142529003419,
          "s": 15
         },
         {
          "N": 1000,
          "S": 250,
          "lost_mean": 16.507,
          "lost_std": 18.922791100232097,
          "m": 30,
          "profit_mean": 1274.5508,
          "profit_std": 118.55153219231353,
          "s": 15
         },
         {
          "N": 1000,
          "S": 260,
          "lost_mean": 14.833,
          "lost_std": 17.499238107252967,
          "m": 30,
          "profit_mean": 1301.7349999999997,
          "profit_std": 122.84143728283918,
          "s": 15
         },
         {
          "N": 1000,
          "S": 270,
          "lost_mean": 13.069,
          "lost_std": 16.76147923621857,
          "m": 30,
          "profit_mean": 1305.8228000000004,
          "profit_std": 126.716882728895,
          "s": 15
         },
         {
          "N": 1000,
          "S": 280,
          "lost_mean": 13.095,
          "lost_std": 17.96805013978495,
          "m": 30,
          "profit_mean": 1269.2469,
          "profit_std": 138.84348787218838,
          "s": 15
         },
         {
          "N": 1000,
          "S": 290,
          "lost_mean": 13.659,
          "lost_std": 17.766101242347837,
          "m": 30,
          "profit_mean": 1235.7539000000002,
          "profit_std": 134.33806780377353,
          "s": 15
         },
         {
          "N": 1000,
          "S": 120,
          "lost_mean": 21.971,
          "lost_std": 23.289451637115835,
          "m": 30,
          "profit_mean": 1205.3444999999997,
          "profit_std": 90.91498338532519,
          "s": 20
         },
         {
          "N": 1000,
          "S": 130,
          "lost_mean": 20.817,
          "lost_std": 21.991524234080234,
          "m": 30,
          "profit_mean": 1237.1716999999999,
          "profit_std": 92.27099493131965,
          "s": 20
         },
         {
          "N": 1000,
          "S": 140,
          "lost_mean": 18.236,
          "lost_std": 21.096952040173605,
          "m": 30,
          "profit_mean": 1257.9718999999998,
          "profit_std": 111.07161015746992,
          "s": 20
         },
         {
          "N": 1000,
          "S": 150,
          "lost_mean": 19.472,
          "lost_std": 21.948233207730887,
          "m": 30,
          "profit_mean": 1234.4948,
          "profit_std": 106.87750527634006,
          "s": 20
         },
         {
          "N": 1000,
          "S": 160,
          "lost_mean": 18.192,
          "lost_std": 18.99926598866672,
          "m": 30,
          "profit_mean": 1236.3881999999999,
          "profit_std": 93.91827566167974,
          "s": 20
         },
         {
          "N": 1000,
          "S": 170,
          "lost_mean": 15.47,
          "lost_std": 17.796792571298507,
          "m": 30,
          "profit_mean": 1273.3798000000002,
          "profit_std": 96.3173382190434,
          "s": 20
         },
         {
          "N": 1000,
          "S": 180,
          "lost_mean": 14.089,
          "lost_std": 18.273834080783704,
          "m": 30,
          "profit_mean": 1308.7955,
          "profit_std": 106.53378580181626,
          "s": 20
         },
         {
          "N": 1000,
          "S": 190,
          "lost_mean": 14.625,
          "lost_std": 19.337639962501093,
          "m": 30,
          "profit_mean": 1289.8327,
          "profit_std": 126.79617577395976,
          "s": 20
         },
         {
          "N": 1000,
          "S": 200,
          "lost_mean": 15.117,
          "lost_std": 19.898675038008644,
          "m": 30,
          "profit_mean": 1247.7578000000003,
          "profit_std": 128.4671357356586,
          "s": 20
         },
         {
          "N": 1000,
          "S": 210,
          "lost_mean": 15.026,
          "lost_std": 19.86237241212232,
          "m": 30,
          "profit_mean": 1211.2131999999997,
          "profit_std": 122.21156169353033,
          "s": 20
         },
         {
          "N": 1000,
          "S": 250,
          "lost_mean": 11.776,
          "lost_std": 16.75358190079085,
          "m": 30,
          "profit_mean": 1231.1456,
          "profit_std": 119.87073602007285,
          "s": 20
         },
         {
          "N": 1000,
          "S": 260,
          "lost_mean": 11.19,
          "lost_std": 15.694400728100902,
          "m": 30,
          "profit_mean": 1275.1824000000001,
          "profit_std": 126.80720222754218,
          "s": 20
         },
         {
          "N": 1000,
          "S": 270,
          "lost_mean": 9.54,
          "lost_std": 14.915927221761471,
          "m": 30,
          "profit_mean": 1300.4864999999998,
          "profit_std": 123.03880084861143,
          "s": 20
         },
         {
          "N": 1000,
          "S": 280,
          "lost_mean": 9.808,
          "lost_std": 15.266440325111814,
          "m": 30,
          "profit_mean": 1276.2403999999997,
          "profit_std": 128.0450192502418,
          "s": 20
         },
         {
          "N": 1000,
          "S": 290,
          "lost_mean": 9.308,
          "lost_std": 15.153638796301331,
          "m": 30,
          "profit_mean": 1244.5542,
          "profit_std": 126.72986633537249,
          "s": 20
         },
         {
          "N": 1000,
          "S": 300,
          "lost_mean": 9.594,
          "lost_std": 15.835400971365512,
          "m": 30,
          "profit_mean": 1217.9494999999997,
          "profit_std": 136.1850192172737,
          "s": 20
         },
         {
          "N": 1000,
          "S": 130,
          "lost_mean": 15.22,
          "lost_std": 18.20849112774447,
          "m": 30,
          "profit_mean": 1211.2060999999999,
          "profit_std": 89.7361093546634,
          "s": 25
         },
         {
          "N": 1000,
          "S": 140,
          "lost_mean": 13.209,
          "lost_std": 17.60543297593872,
          "m": 30,
          "profit_mean": 1254.1981,
          "profit_std": 96.1903448836672,
          "s": 25
         },
         {
          "N": 1000,
          "S": 150,
          "lost_mean": 13.907,
          "lost_std": 20.021368739579373,
          "m": 30,
          "profit_mean": 1246.9987,
          "profit_std": 108.41314679829522,
          "s": 25
         },
         {
          "N": 1000,
          "S": 160,
          "lost_mean": 13.013,
          "lost_std": 17.35084674829684,
          "m": 30,
          "profit_mean": 1229.3961000000004,
          "profit_std": 102.40191769462882,
          "s": 25
         },
         {
          "N": 1000,
          "S": 170,
          "lost_mean": 11.746,
          "lost_std": 16.900743152865182,
          "m": 30,
          "profit_mean": 1242.3199000000002,
          "profit_std": 96.06047120495566,
          "s": 25
         },
         {
          "N": 1000,
          "S": 180,
          "lost_mean": 10.496,
          "lost_std": 15.295749211592868,
          "m": 30,
          "profit_mean": 1279.2454,
          "profit_std": 104.1101210072111,
          "s": 25
         },
         {
          "N": 1000,
          "S": 190,
          "lost_mean": 10.275,
          "lost_std": 15.950730415902616,
          "m": 30,
          "profit_mean": 1298.2658000000001,
          "profit_std": 112.11519284569253,
          "s": 25
         },
         {
          "N": 1000,
          "S": 200,
          "lost_mean": 9.857,
          "lost_std": 14.966848618114556,
          "m": 30,
          "profit_mean": 1270.9656,
          "profit_std": 125.313000861143,
          "s": 25
         },
         {
          "N": 1000,
          "S": 210,
          "lost_mean": 9.563,
          "lost_std": 15.494841758505348,
          "m": 30,
          "profit_mean": 1234.9551999999999,
          "profit_std": 121.11939622166676,
          "s": 25
         },
         {
          "N": 1000,
          "S": 260,
          "lost_mean": 8.421,
          "lost_std": 13.531698558047541,
          "m": 30,
          "profit_mean": 1226.7263,
          "profit_std": 130.35608596247994,
          "s": 25
         },
         {
          "N": 1000,
          "S": 270,
          "lost_mean": 7.097,
          "lost_std": 12.757442664709233,
          "m": 30,
          "profit_mean": 1268.3445,
          "profit_std": 122.40158854618116,
          "s": 25
         },
         {
          "N": 1000,
          "S": 280,
          "lost_mean": 6.838,
          "lost_std": 12.655430293590019,
          "m": 30,
          "profit_mean": 1283.186,
          "profit_std": 120.7157829127751,
          "s": 25
         },
         {
          "N": 1000,
          "S": 290,
          "lost_mean": 6.787,
          "lost_std": 13.239067335122364,
          "m": 30,
          "profit_mean": 1258.1580999999999,
          "profit_std": 129.19212592023473,
          "s": 25
         },
         {
          "N": 1000,
          "S": 300,
          "lost_mean": 6.525,
          "lost_std": 13.784243917617697,
          "m": 30,
          "profit_mean": 1232.1326000000001,
          "profit_std": 127.93300735780277,
          "s": 25
         },
         {
          "N": 1000,
          "S": 140,
          "lost_mean": 10.577,
          "lost_std": 16.186849140122515,
          "m": 30,
          "profit_mean": 1228.0586000000003,
          "profit_std": 98.98152134417617,
          "s": 30
         },
         {
          "N": 1000,
          "S": 150,
          "lost_mean": 10.287,
          "lost_std": 15.857682589114248,
          "m": 30,
          "profit_mean": 1249.7449999999997,
          "profit_std": 107.04220994406697,
          "s": 30
         },
         {
          "N": 1000,
          "S": 160,
          "lost_mean": 9.837,
          "lost_std": 15.58709044011705,
          "m": 30,
          "profit_mean": 1225.9841000000001,
          "profit_std": 103.69674813012585,
          "s": 30
         },
         {
          "N": 1000,
          "S": 170,
          "lost_mean": 9.303,
          "lost_std": 14.403702914794431,
          "m": 30,
          "profit_mean": 1210.3669,
          "profit_std": 101.65758200138525,
          "s": 30
         },
         {
          "N": 1000,
          "S": 180,
          "lost_mean": 8.719,
          "lost_std": 15.456096853019844,
          "m": 30,
          "profit_mean": 1242.0267999999999,
          "profit_std": 105.60051908675162,
          "s": 30
         },
         {
          "N": 1000,
          "S": 190,
          "lost_mean": 8.022,
          "lost_std": 14.57394647704992,
          "m": 30,
          "profit_mean": 1280.9768000000001,
          "profit_std": 109.10577350246672,
          "s": 30
         },
         {
          "N": 1000,
          "S": 200,
          "lost_mean": 7.489,
          "lost_std": 14.325260629115693,
          "m": 30,
          "profit_mean": 1280.1108999999997,
          "profit_std": 118.02020191157634,
          "s": 30
         },
         {
          "N": 1000,
          "S": 210,
          "lost_mean": 7.238,
          "lost_std": 13.643148151782691,
          "m": 30,
          "profit_mean": 1245.2436,
          "profit_std": 118.61010992835821,
          "s": 30
         },
         {
          "N": 1000,
          "S": 270,
          "lost_mean": 5.663,
          "lost_std": 12.0167313705863,
          "m": 30,
          "profit_mean": 1217.8612000000003,
          "profit_std": 132.81120921011095,
          "s": 30
         },
         {
          "N": 1000,
          "S": 280,
          "lost_mean": 4.551,
          "lost_std": 10.914509861900605,
          "m": 30,
          "profit_mean": 1252.7332000000001,
          "profit_std": 127.5637649643969,
          "s": 30
         },
         {
          "N": 1000,
          "S": 290,
          "lost_mean": 5.559,
          "lost_std": 12.501792424041193,
          "m": 30,
          "profit_mean": 1258.1283999999998,
          "profit_std": 123.57190793165681,
          "s": 30
         },
         {
          "N": 1000,
          "S": 300,
          "lost_mean": 5.366,
          "lost_std": 12.10043240816065,
          "m": 30,
          "profit_mean": 1239.6995000000004,
          "profit_std": 122.46052682550561,
          "s": 30
         },
         {
          "N": 1000,
          "S": 310,
          "lost_mean": 5.09,
          "lost_std": 11.500180613979683,
          "m": 30,
          "profit_mean": 1200.8056999999994,
          "profit_std": 132.66096362072295,
          "s": 30
         },
         {
          "N": 1000,
          "S": 150,
          "lost_mean": 7.459,
          "lost_std": 14.88441684665089,
          "m": 30,
          "profit_mean": 1222.4188000000001,
          "profit_std": 100.9965856694021,
          "s": 35
         },
         {
          "N": 1000,
          "S": 160,
          "lost_mean": 7.356,
          "lost_std": 14.461064496999743,
          "m": 30,
          "profit_mean": 1225.6929000000005,
          "profit_std": 106.17102168405196,
          "s": 35
         },
         {
          "N": 1000,
          "S": 170,
          "lost_mean": 6.987,
          "lost_std": 13.114298144232343,
          "m": 30,
          "profit_mean": 1209.6692999999998,
          "profit_std": 104.92211653435156,
          "s": 35
         },
         {
          "N": 1000,
          "S": 180,
          "lost_mean": 6.658,
          "lost_std": 12.651604605705122,
          "m": 30,
          "profit_mean": 1207.3799999999994,
          "profit_std": 105.86222901267256,
          "s": 35
         },
         {
          "N": 1000,
          "S": 190,
          "lost_mean": 5.475,
          "lost_std": 11.459786285166997,
          "m": 30,
          "profit_mean": 1243.3835000000001,
          "profit_std": 105.09118704889265,
          "s": 35
         },
         {
          "N": 1000,
          "S": 200,
          "lost_mean": 5.839,
          "lost_std": 12.754519071950797,
          "m": 30,
          "profit_mean": 1266.5751,
          "profit_std": 108.86528611320742,
          "s": 35
         },
         {
          "N": 1000,
          "S": 210,
          "lost_mean": 5.49,
          "lost_std": 12.524726295163848,
          "m": 30,
          "profit_mean": 1241.7917000000002,
          "profit_std": 115.37176120868745,
          "s": 35
         },
         {
          "N": 1000,
          "S": 220,
          "lost_mean": 4.829,
          "lost_std": 11.013221601786194,
          "m": 30,
          "profit_mean": 1211.6935000000003,
          "profit_std": 119.633824814681,
          "s": 35
         },
         {
          "N": 1000,
          "S": 280,
          "lost_mean": 4.032,
          "lost_std": 10.166628562917811,
          "m": 30,
          "profit_mean": 1210.8788999999997,
          "profit_std": 136.2093480319221,
          "s": 35
         },
         {
          "N": 1000,
          "S": 290,
          "lost_mean": 3.827,
          "lost_std": 10.693616059332994,
          "m": 30,
          "profit_mean": 1237.1174,
          "profit_std": 120.85840985414491,
          "s": 35
         },
         {
          "N": 1000,
          "S": 300,
          "lost_mean": 3.148,
          "lost_std": 8.21885914501798,
          "m": 30,
          "profit_mean": 1230.8906,
          "profit_std": 120.89053359445789,
          "s": 35
         },
         {
          "N": 1000,
          "S": 310,
          "lost_mean": 3.259,
          "lost_std": 10.018797098219691,
          "m": 30,
          "profit_mean": 1207.9512000000002,
          "profit_std": 128.7103369173952,
          "s": 35
         },
         {
          "N": 1000,
          "S": 160,
          "lost_mean": 5.383,
          "lost_std": 12.598215192082804,
          "m": 30,
          "profit_mean": 1213.8401999999999,
          "profit_std": 100.57412947413205,
          "s": 40
         },
         {
          "N": 1000,
          "S": 170,
          "lost_mean": 5.486,
          "lost_std": 12.83052712971788,
          "m": 30,
          "profit_mean": 1204.2852,
          "profit_std": 109.32361397947624,
          "s": 40
         },
         {
          "N": 1000,
          "S": 200,
          "lost_mean": 3.749,
          "lost_std": 9.807149391091134,
          "m": 30,
          "profit_mean": 1231.1434999999997,
          "profit_std": 113.41306627259203,
          "s": 40
         },
         {
          "N": 1000,
          "S": 210,
          "lost_mean": 3.504,
          "lost_std": 10.19440581446069,
          "m": 30,
          "profit_mean": 1246.4604999999997,
          "profit_std": 112.43129032789224,
          "s": 40
         },
         {
          "N": 1000,
          "S": 220,
          "lost_mean": 4.041,
          "lost_std": 10.112149849293898,
          "m": 30,
          "profit_mean": 1223.9846000000005,
          "profit_std": 115.28553490094669,
          "s": 40
         },
         {
          "N": 1000,
          "S": 300,
          "lost_mean": 2.547,
          "lost_std": 8.725475627432864,
          "m": 30,
          "profit_mean": 1220.44,
          "profit_std": 122.26009738018129,
          "s": 40
         },
         {
          "N": 1000,
          "S": 310,
          "lost_mean": 2.779,
          "lost_std": 9.088496011979082,
          "m": 30,
          "profit_mean": 1200.8228000000001,
          "profit_std": 121.02437878551751,
          "s": 40
         },
         {
          "N": 1000,
          "S": 210,
          "lost_mean": 2.868,
          "lost_std": 8.775510559824179,
          "m": 30,
          "profit_mean": 1220.5394000000001,
          "profit_std": 108.01215382082246,
          "s": 45
         },
         {
          "N": 1000,
          "S": 220,
          "lost_mean": 2.939,
          "lost_std": 9.07500053083385,
          "m": 30,
          "profit_mean": 1223.2257,
          "profit_std": 115.50340915763931,
          "s": 45
         },
         {
          "N": 1000,
          "S": 220,
          "lost_mean": 1.992,
          "lost_std": 7.584950063610669,
          "m": 30,
          "profit_mean": 1210.9642,
          "profit_std": 111.88685144325889,
          "s": 50
         }
        ]
       },
       "encoding": {
        "color": {
         "field": "profit_mean",
         "scale": {
          "scheme": "plasma"
         },
         "type": "quantitative"
        },
        "x": {
         "field": "S",
         "type": "quantitative"
        },
        "y": {
         "field": "s",
         "type": "quantitative"
        }
       },
       "mark": "point"
      },
      "image/png": "[encoded data removed]",
      "image/svg+xml": [
       "<?xml version=\"1.0\" encoding=\"utf-8\"?>\n",
       "<!DOCTYPE svg PUBLIC \"-//W3C//DTD SVG 1.1//EN\" \"http://www.w3.org/Graphics/SVG/1.1/DTD/svg11.dtd\">\n",
       "<svg xmlns=\"http://www.w3.org/2000/svg\" xmlns:xlink=\"http://www.w3.org/1999/xlink\" version=\"1.1\" class=\"marks\" width=\"329\" height=\"247\" viewBox=\"0 0 329 247\"><rect width=\"329\" height=\"247\" fill=\"white\"/><g fill=\"none\" stroke-miterlimit=\"10\" transform=\"translate(37,10)\"><g class=\"mark-group role-frame root\" role=\"graphics-object\" aria-roledescription=\"group mark container\"><g transform=\"translate(0,0)\"><path class=\"background\" aria-hidden=\"true\" d=\"M0.5,0.5h200v200h-200Z\" stroke=\"#ddd\"/><g><g class=\"mark-group role-axis\" aria-hidden=\"true\"><g transform=\"translate(0.5,200.5)\"><path class=\"background\" aria-hidden=\"true\" d=\"M0,0h0v0h0Z\" pointer-events=\"none\"/><g><g class=\"mark-rule role-axis-grid\" pointer-events=\"none\"><line transform=\"translate(0,-200)\" x2=\"0\" y2=\"200\" stroke=\"#ddd\" stroke-width=\"1\" opacity=\"1\"/><line transform=\"translate(29,-200)\" x2=\"0\" y2=\"200\" stroke=\"#ddd\" stroke-width=\"1\" opacity=\"1\"/><line transform=\"translate(57,-200)\" x2=\"0\" y2=\"200\" stroke=\"#ddd\" stroke-width=\"1\" opacity=\"1\"/><line transform=\"translate(86,-200)\" x2=\"0\" y2=\"200\" stroke=\"#ddd\" stroke-width=\"1\" opacity=\"1\"/><line transform=\"translate(114,-200)\" x2=\"0\" y2=\"200\" stroke=\"#ddd\" stroke-width=\"1\" opacity=\"1\"/><line transform=\"translate(143,-200)\" x2=\"0\" y2=\"200\" stroke=\"#ddd\" stroke-width=\"1\" opacity=\"1\"/><line transform=\"translate(171,-200)\" x2=\"0\" y2=\"200\" stroke=\"#ddd\" stroke-width=\"1\" opacity=\"1\"/><line transform=\"translate(200,-200)\" x2=\"0\" y2=\"200\" stroke=\"#ddd\" stroke-width=\"1\" opacity=\"1\"/></g></g><path class=\"foreground\" aria-hidden=\"true\" d=\"\" pointer-events=\"none\" display=\"none\"/></g></g><g class=\"mark-group role-axis\" aria-hidden=\"true\"><g transform=\"translate(0.5,0.5)\"><path class=\"background\" aria-hidden=\"true\" d=\"M0,0h0v0h0Z\" pointer-events=\"none\"/><g><g class=\"mark-rule role-axis-grid\" pointer-events=\"none\"><line transform=\"translate(0,200)\" x2=\"200\" y2=\"0\" stroke=\"#ddd\" stroke-width=\"1\" opacity=\"1\"/><line transform=\"translate(0,160)\" x2=\"200\" y2=\"0\" stroke=\"#ddd\" stroke-width=\"1\" opacity=\"1\"/><line transform=\"translate(0,120)\" x2=\"200\" y2=\"0\" stroke=\"#ddd\" stroke-width=\"1\" opacity=\"1\"/><line transform=\"translate(0,80)\" x2=\"200\" y2=\"0\" stroke=\"#ddd\" stroke-width=\"1\" opacity=\"1\"/><line transform=\"translate(0,40)\" x2=\"200\" y2=\"0\" stroke=\"#ddd\" stroke-width=\"1\" opacity=\"1\"/><line transform=\"translate(0,0)\" x2=\"200\" y2=\"0\" stroke=\"#ddd\" stroke-width=\"1\" opacity=\"1\"/></g></g><path class=\"foreground\" aria-hidden=\"true\" d=\"\" pointer-events=\"none\" display=\"none\"/></g></g><g class=\"mark-group role-axis\" role=\"graphics-symbol\" aria-roledescription=\"axis\" aria-label=\"X-axis titled 'S' for a linear scale with values from 0 to 350\"><g transform=\"translate(0.5,200.5)\"><path class=\"background\" aria-hidden=\"true\" d=\"M0,0h0v0h0Z\" pointer-events=\"none\"/><g><g class=\"mark-rule role-axis-tick\" pointer-events=\"none\"><line transform=\"translate(0,0)\" x2=\"0\" y2=\"5\" stroke=\"#888\" stroke-width=\"1\" opacity=\"1\"/><line transform=\"translate(29,0)\" x2=\"0\" y2=\"5\" stroke=\"#888\" stroke-width=\"1\" opacity=\"1\"/><line transform=\"translate(57,0)\" x2=\"0\" y2=\"5\" stroke=\"#888\" stroke-width=\"1\" opacity=\"1\"/><line transform=\"translate(86,0)\" x2=\"0\" y2=\"5\" stroke=\"#888\" stroke-width=\"1\" opacity=\"1\"/><line transform=\"translate(114,0)\" x2=\"0\" y2=\"5\" stroke=\"#888\" stroke-width=\"1\" opacity=\"1\"/><line transform=\"translate(143,0)\" x2=\"0\" y2=\"5\" stroke=\"#888\" stroke-width=\"1\" opacity=\"1\"/><line transform=\"translate(171,0)\" x2=\"0\" y2=\"5\" stroke=\"#888\" stroke-width=\"1\" opacity=\"1\"/><line transform=\"translate(200,0)\" x2=\"0\" y2=\"5\" stroke=\"#888\" stroke-width=\"1\" opacity=\"1\"/></g><g class=\"mark-text role-axis-label\" pointer-events=\"none\"><text text-anchor=\"start\" transform=\"translate(0,15)\" font-family=\"sans-serif\" font-size=\"10px\" fill=\"#000\" opacity=\"1\">0</text><text text-anchor=\"middle\" transform=\"translate(28.57142857142857,15)\" font-family=\"sans-serif\" font-size=\"10px\" fill=\"#000\" opacity=\"1\">50</text><text text-anchor=\"middle\" transform=\"translate(57.14285714285714,15)\" font-family=\"sans-serif\" font-size=\"10px\" fill=\"#000\" opacity=\"1\">100</text><text text-anchor=\"middle\" transform=\"translate(85.71428571428571,15)\" font-family=\"sans-serif\" font-size=\"10px\" fill=\"#000\" opacity=\"1\">150</text><text text-anchor=\"middle\" transform=\"translate(114.28571428571428,15)\" font-family=\"sans-serif\" font-size=\"10px\" fill=\"#000\" opacity=\"1\">200</text><text text-anchor=\"middle\" transform=\"translate(142.85714285714286,15)\" font-family=\"sans-serif\" font-size=\"10px\" fill=\"#000\" opacity=\"1\">250</text><text text-anchor=\"middle\" transform=\"translate(171.42857142857142,15)\" font-family=\"sans-serif\" font-size=\"10px\" fill=\"#000\" opacity=\"1\">300</text><text text-anchor=\"end\" transform=\"translate(200,15)\" font-family=\"sans-serif\" font-size=\"10px\" fill=\"#000\" opacity=\"1\">350</text></g><g class=\"mark-rule role-axis-domain\" pointer-events=\"none\"><line transform=\"translate(0,0)\" x2=\"200\" y2=\"0\" stroke=\"#888\" stroke-width=\"1\" opacity=\"1\"/></g><g class=\"mark-text role-axis-title\" pointer-events=\"none\"><text text-anchor=\"middle\" transform=\"translate(100,30)\" font-family=\"sans-serif\" font-size=\"11px\" font-weight=\"bold\" fill=\"#000\" opacity=\"1\">S</text></g></g><path class=\"foreground\" aria-hidden=\"true\" d=\"\" pointer-events=\"none\" display=\"none\"/></g></g><g class=\"mark-group role-axis\" role=\"graphics-symbol\" aria-roledescription=\"axis\" aria-label=\"Y-axis titled 's' for a linear scale with values from 0 to 50\"><g transform=\"translate(0.5,0.5)\"><path class=\"background\" aria-hidden=\"true\" d=\"M0,0h0v0h0Z\" pointer-events=\"none\"/><g><g class=\"mark-rule role-axis-tick\" pointer-events=\"none\"><line transform=\"translate(0,200)\" x2=\"-5\" y2=\"0\" stroke=\"#888\" stroke-width=\"1\" opacity=\"1\"/><line transform=\"translate(0,160)\" x2=\"-5\" y2=\"0\" stroke=\"#888\" stroke-width=\"1\" opacity=\"1\"/><line transform=\"translate(0,120)\" x2=\"-5\" y2=\"0\" stroke=\"#888\" stroke-width=\"1\" opacity=\"1\"/><line transform=\"translate(0,80)\" x2=\"-5\" y2=\"0\" stroke=\"#888\" stroke-width=\"1\" opacity=\"1\"/><line transform=\"translate(0,40)\" x2=\"-5\" y2=\"0\" stroke=\"#888\" stroke-width=\"1\" opacity=\"1\"/><line transform=\"translate(0,0)\" x2=\"-5\" y2=\"0\" stroke=\"#888\" stroke-width=\"1\" opacity=\"1\"/></g><g class=\"mark-text role-axis-label\" pointer-events=\"none\"><text text-anchor=\"end\" transform=\"translate(-7,203)\" font-family=\"sans-serif\" font-size=\"10px\" fill=\"#000\" opacity=\"1\">0</text><text text-anchor=\"end\" transform=\"translate(-7,163)\" font-family=\"sans-serif\" font-size=\"10px\" fill=\"#000\" opacity=\"1\">10</text><text text-anchor=\"end\" transform=\"translate(-7,123)\" font-family=\"sans-serif\" font-size=\"10px\" fill=\"#000\" opacity=\"1\">20</text><text text-anchor=\"end\" transform=\"translate(-7,83)\" font-family=\"sans-serif\" font-size=\"10px\" fill=\"#000\" opacity=\"1\">30</text><text text-anchor=\"end\" transform=\"translate(-7,42.99999999999999)\" font-family=\"sans-serif\" font-size=\"10px\" fill=\"#000\" opacity=\"1\">40</text><text text-anchor=\"end\" transform=\"translate(-7,3)\" font-family=\"sans-serif\" font-size=\"10px\" fill=\"#000\" opacity=\"1\">50</text></g><g class=\"mark-rule role-axis-domain\" pointer-events=\"none\"><line transform=\"translate(0,200)\" x2=\"0\" y2=\"-200\" stroke=\"#888\" stroke-width=\"1\" opacity=\"1\"/></g><g class=\"mark-text role-axis-title\" pointer-events=\"none\"><text text-anchor=\"middle\" transform=\"translate(-21,100) rotate(-90) translate(0,-2)\" font-family=\"sans-serif\" font-size=\"11px\" font-weight=\"bold\" fill=\"#000\" opacity=\"1\">s</text></g></g><path class=\"foreground\" aria-hidden=\"true\" d=\"\" pointer-events=\"none\" display=\"none\"/></g></g><g class=\"mark-symbol role-mark marks\" role=\"graphics-object\" aria-roledescription=\"symbol mark container\"><path aria-label=\"S: 120; s: 10; profit_mean: 1221.9755\" role=\"graphics-symbol\" aria-roledescription=\"point\" transform=\"translate(68.57142857142857,160)\" d=\"M2.7386127875258306,0A2.7386127875258306,2.7386127875258306,0,1,1,-2.7386127875258306,0A2.7386127875258306,2.7386127875258306,0,1,1,2.7386127875258306,0\" stroke=\"rgb(104, 0, 168)\" stroke-width=\"2\" opacity=\"0.7\"/><path aria-label=\"S: 130; s: 10; profit_mean: 1237.17\" role=\"graphics-symbol\" aria-roledescription=\"point\" transform=\"translate(74.28571428571429,160)\" d=\"M2.7386127875258306,0A2.7386127875258306,2.7386127875258306,0,1,1,-2.7386127875258306,0A2.7386127875258306,2.7386127875258306,0,1,1,2.7386127875258306,0\" stroke=\"rgb(157, 24, 157)\" stroke-width=\"2\" opacity=\"0.7\"/><path aria-label=\"S: 140; s: 10; profit_mean: 1223.1476\" role=\"graphics-symbol\" aria-roledescription=\"point\" transform=\"translate(80,160)\" d=\"M2.7386127875258306,0A2.7386127875258306,2.7386127875258306,0,1,1,-2.7386127875258306,0A2.7386127875258306,2.7386127875258306,0,1,1,2.7386127875258306,0\" stroke=\"rgb(109, 0, 168)\" stroke-width=\"2\" opacity=\"0.7\"/><path aria-label=\"S: 150; s: 10; profit_mean: 1229.5751\" role=\"graphics-symbol\" aria-roledescription=\"point\" transform=\"translate(85.71428571428571,160)\" d=\"M2.7386127875258306,0A2.7386127875258306,2.7386127875258306,0,1,1,-2.7386127875258306,0A2.7386127875258306,2.7386127875258306,0,1,1,2.7386127875258306,0\" stroke=\"rgb(132, 5, 167)\" stroke-width=\"2\" opacity=\"0.7\"/><path aria-label=\"S: 160; s: 10; profit_mean: 1280.3911\" role=\"graphics-symbol\" aria-roledescription=\"point\" transform=\"translate(91.42857142857143,160)\" d=\"M2.7386127875258306,0A2.7386127875258306,2.7386127875258306,0,1,1,-2.7386127875258306,0A2.7386127875258306,2.7386127875258306,0,1,1,2.7386127875258306,0\" stroke=\"rgb(246, 144, 67)\" stroke-width=\"2\" opacity=\"0.7\"/><path aria-label=\"S: 170; s: 10; profit_mean: 1295.8973\" role=\"graphics-symbol\" aria-roledescription=\"point\" transform=\"translate(97.14285714285714,160)\" d=\"M2.7386127875258306,0A2.7386127875258306,2.7386127875258306,0,1,1,-2.7386127875258306,0A2.7386127875258306,2.7386127875258306,0,1,1,2.7386127875258306,0\" stroke=\"rgb(253, 198, 39)\" stroke-width=\"2\" opacity=\"0.7\"/><path aria-label=\"S: 180; s: 10; profit_mean: 1274.1175\" role=\"graphics-symbol\" aria-roledescription=\"point\" transform=\"translate(102.85714285714285,160)\" d=\"M2.7386127875258306,0A2.7386127875258306,2.7386127875258306,0,1,1,-2.7386127875258306,0A2.7386127875258306,2.7386127875258306,0,1,1,2.7386127875258306,0\" stroke=\"rgb(239, 125, 80)\" stroke-width=\"2\" opacity=\"0.7\"/><path aria-label=\"S: 190; s: 10; profit_mean: 1241.0229\" role=\"graphics-symbol\" aria-roledescription=\"point\" transform=\"translate(108.57142857142857,160)\" d=\"M2.7386127875258306,0A2.7386127875258306,2.7386127875258306,0,1,1,-2.7386127875258306,0A2.7386127875258306,2.7386127875258306,0,1,1,2.7386127875258306,0\" stroke=\"rgb(169, 35, 151)\" stroke-width=\"2\" opacity=\"0.7\"/><path aria-label=\"S: 200; s: 10; profit_mean: 1204.2041\" role=\"graphics-symbol\" aria-roledescription=\"point\" transform=\"translate(114.28571428571428,160)\" d=\"M2.7386127875258306,0A2.7386127875258306,2.7386127875258306,0,1,1,-2.7386127875258306,0A2.7386127875258306,2.7386127875258306,0,1,1,2.7386127875258306,0\" stroke=\"rgb(34, 6, 143)\" stroke-width=\"2\" opacity=\"0.7\"/><path aria-label=\"S: 230; s: 10; profit_mean: 1217.7191\" role=\"graphics-symbol\" aria-roledescription=\"point\" transform=\"translate(131.42857142857142,160)\" d=\"M2.7386127875258306,0A2.7386127875258306,2.7386127875258306,0,1,1,-2.7386127875258306,0A2.7386127875258306,2.7386127875258306,0,1,1,2.7386127875258306,0\" stroke=\"rgb(89, 1, 165)\" stroke-width=\"2\" opacity=\"0.7\"/><path aria-label=\"S: 240; s: 10; profit_mean: 1253.3675\" role=\"graphics-symbol\" aria-roledescription=\"point\" transform=\"translate(137.14285714285714,160)\" d=\"M2.7386127875258306,0A2.7386127875258306,2.7386127875258306,0,1,1,-2.7386127875258306,0A2.7386127875258306,2.7386127875258306,0,1,1,2.7386127875258306,0\" stroke=\"rgb(200, 67, 124)\" stroke-width=\"2\" opacity=\"0.7\"/><path aria-label=\"S: 250; s: 10; profit_mean: 1306.9866\" role=\"graphics-symbol\" aria-roledescription=\"point\" transform=\"translate(142.85714285714286,160)\" d=\"M2.7386127875258306,0A2.7386127875258306,2.7386127875258306,0,1,1,-2.7386127875258306,0A2.7386127875258306,2.7386127875258306,0,1,1,2.7386127875258306,0\" stroke=\"rgb(243, 241, 36)\" stroke-width=\"2\" opacity=\"0.7\"/><path aria-label=\"S: 260; s: 10; profit_mean: 1307.8206\" role=\"graphics-symbol\" aria-roledescription=\"point\" transform=\"translate(148.57142857142858,160)\" d=\"M2.7386127875258306,0A2.7386127875258306,2.7386127875258306,0,1,1,-2.7386127875258306,0A2.7386127875258306,2.7386127875258306,0,1,1,2.7386127875258306,0\" stroke=\"rgb(241, 245, 35)\" stroke-width=\"2\" opacity=\"0.7\"/><path aria-label=\"S: 270; s: 10; profit_mean: 1286.4594\" role=\"graphics-symbol\" aria-roledescription=\"point\" transform=\"translate(154.2857142857143,160)\" d=\"M2.7386127875258306,0A2.7386127875258306,2.7386127875258306,0,1,1,-2.7386127875258306,0A2.7386127875258306,2.7386127875258306,0,1,1,2.7386127875258306,0\" stroke=\"rgb(252, 164, 55)\" stroke-width=\"2\" opacity=\"0.7\"/><path aria-label=\"S: 280; s: 10; profit_mean: 1250.5556\" role=\"graphics-symbol\" aria-roledescription=\"point\" transform=\"translate(160,160)\" d=\"M2.7386127875258306,0A2.7386127875258306,2.7386127875258306,0,1,1,-2.7386127875258306,0A2.7386127875258306,2.7386127875258306,0,1,1,2.7386127875258306,0\" stroke=\"rgb(193, 59, 129)\" stroke-width=\"2\" opacity=\"0.7\"/><path aria-label=\"S: 290; s: 10; profit_mean: 1220.7918\" role=\"graphics-symbol\" aria-roledescription=\"point\" transform=\"translate(165.71428571428572,160)\" d=\"M2.7386127875258306,0A2.7386127875258306,2.7386127875258306,0,1,1,-2.7386127875258306,0A2.7386127875258306,2.7386127875258306,0,1,1,2.7386127875258306,0\" stroke=\"rgb(100, 0, 167)\" stroke-width=\"2\" opacity=\"0.7\"/><path aria-label=\"S: 120; s: 15; profit_mean: 1220.8081\" role=\"graphics-symbol\" aria-roledescription=\"point\" transform=\"translate(68.57142857142857,140)\" d=\"M2.7386127875258306,0A2.7386127875258306,2.7386127875258306,0,1,1,-2.7386127875258306,0A2.7386127875258306,2.7386127875258306,0,1,1,2.7386127875258306,0\" stroke=\"rgb(100, 0, 167)\" stroke-width=\"2\" opacity=\"0.7\"/><path aria-label=\"S: 130; s: 15; profit_mean: 1253.3125\" role=\"graphics-symbol\" aria-roledescription=\"point\" transform=\"translate(74.28571428571429,140)\" d=\"M2.7386127875258306,0A2.7386127875258306,2.7386127875258306,0,1,1,-2.7386127875258306,0A2.7386127875258306,2.7386127875258306,0,1,1,2.7386127875258306,0\" stroke=\"rgb(200, 67, 124)\" stroke-width=\"2\" opacity=\"0.7\"/><path aria-label=\"S: 140; s: 15; profit_mean: 1245.5914\" role=\"graphics-symbol\" aria-roledescription=\"point\" transform=\"translate(80,140)\" d=\"M2.7386127875258306,0A2.7386127875258306,2.7386127875258306,0,1,1,-2.7386127875258306,0A2.7386127875258306,2.7386127875258306,0,1,1,2.7386127875258306,0\" stroke=\"rgb(181, 46, 140)\" stroke-width=\"2\" opacity=\"0.7\"/><path aria-label=\"S: 150; s: 15; profit_mean: 1237.5475\" role=\"graphics-symbol\" aria-roledescription=\"point\" transform=\"translate(85.71428571428571,140)\" d=\"M2.7386127875258306,0A2.7386127875258306,2.7386127875258306,0,1,1,-2.7386127875258306,0A2.7386127875258306,2.7386127875258306,0,1,1,2.7386127875258306,0\" stroke=\"rgb(158, 25, 157)\" stroke-width=\"2\" opacity=\"0.7\"/><path aria-label=\"S: 160; s: 15; profit_mean: 1259.4145\" role=\"graphics-symbol\" aria-roledescription=\"point\" transform=\"translate(91.42857142857143,140)\" d=\"M2.7386127875258306,0A2.7386127875258306,2.7386127875258306,0,1,1,-2.7386127875258306,0A2.7386127875258306,2.7386127875258306,0,1,1,2.7386127875258306,0\" stroke=\"rgb(213, 84, 111)\" stroke-width=\"2\" opacity=\"0.7\"/><path aria-label=\"S: 170; s: 15; profit_mean: 1305.4485\" role=\"graphics-symbol\" aria-roledescription=\"point\" transform=\"translate(97.14285714285714,140)\" d=\"M2.7386127875258306,0A2.7386127875258306,2.7386127875258306,0,1,1,-2.7386127875258306,0A2.7386127875258306,2.7386127875258306,0,1,1,2.7386127875258306,0\" stroke=\"rgb(245, 235, 39)\" stroke-width=\"2\" opacity=\"0.7\"/><path aria-label=\"S: 180; s: 15; profit_mean: 1305.657\" role=\"graphics-symbol\" aria-roledescription=\"point\" transform=\"translate(102.85714285714285,140)\" d=\"M2.7386127875258306,0A2.7386127875258306,2.7386127875258306,0,1,1,-2.7386127875258306,0A2.7386127875258306,2.7386127875258306,0,1,1,2.7386127875258306,0\" stroke=\"rgb(244, 236, 38)\" stroke-width=\"2\" opacity=\"0.7\"/><path aria-label=\"S: 190; s: 15; profit_mean: 1267.6961\" role=\"graphics-symbol\" aria-roledescription=\"point\" transform=\"translate(108.57142857142857,140)\" d=\"M2.7386127875258306,0A2.7386127875258306,2.7386127875258306,0,1,1,-2.7386127875258306,0A2.7386127875258306,2.7386127875258306,0,1,1,2.7386127875258306,0\" stroke=\"rgb(228, 106, 94)\" stroke-width=\"2\" opacity=\"0.7\"/><path aria-label=\"S: 200; s: 15; profit_mean: 1227.8697\" role=\"graphics-symbol\" aria-roledescription=\"point\" transform=\"translate(114.28571428571428,140)\" d=\"M2.7386127875258306,0A2.7386127875258306,2.7386127875258306,0,1,1,-2.7386127875258306,0A2.7386127875258306,2.7386127875258306,0,1,1,2.7386127875258306,0\" stroke=\"rgb(126, 3, 167)\" stroke-width=\"2\" opacity=\"0.7\"/><path aria-label=\"S: 240; s: 15; profit_mean: 1225.8602\" role=\"graphics-symbol\" aria-roledescription=\"point\" transform=\"translate(137.14285714285714,140)\" d=\"M2.7386127875258306,0A2.7386127875258306,2.7386127875258306,0,1,1,-2.7386127875258306,0A2.7386127875258306,2.7386127875258306,0,1,1,2.7386127875258306,0\" stroke=\"rgb(119, 1, 168)\" stroke-width=\"2\" opacity=\"0.7\"/><path aria-label=\"S: 250; s: 15; profit_mean: 1274.5508\" role=\"graphics-symbol\" aria-roledescription=\"point\" transform=\"translate(142.85714285714286,140)\" d=\"M2.7386127875258306,0A2.7386127875258306,2.7386127875258306,0,1,1,-2.7386127875258306,0A2.7386127875258306,2.7386127875258306,0,1,1,2.7386127875258306,0\" stroke=\"rgb(239, 126, 80)\" stroke-width=\"2\" opacity=\"0.7\"/><path aria-label=\"S: 260; s: 15; profit_mean: 1301.735\" role=\"graphics-symbol\" aria-roledescription=\"point\" transform=\"translate(148.57142857142858,140)\" d=\"M2.7386127875258306,0A2.7386127875258306,2.7386127875258306,0,1,1,-2.7386127875258306,0A2.7386127875258306,2.7386127875258306,0,1,1,2.7386127875258306,0\" stroke=\"rgb(249, 221, 36)\" stroke-width=\"2\" opacity=\"0.7\"/><path aria-label=\"S: 270; s: 15; profit_mean: 1305.8228\" role=\"graphics-symbol\" aria-roledescription=\"point\" transform=\"translate(154.2857142857143,140)\" d=\"M2.7386127875258306,0A2.7386127875258306,2.7386127875258306,0,1,1,-2.7386127875258306,0A2.7386127875258306,2.7386127875258306,0,1,1,2.7386127875258306,0\" stroke=\"rgb(244, 237, 38)\" stroke-width=\"2\" opacity=\"0.7\"/><path aria-label=\"S: 280; s: 15; profit_mean: 1269.2469\" role=\"graphics-symbol\" aria-roledescription=\"point\" transform=\"translate(160,140)\" d=\"M2.7386127875258306,0A2.7386127875258306,2.7386127875258306,0,1,1,-2.7386127875258306,0A2.7386127875258306,2.7386127875258306,0,1,1,2.7386127875258306,0\" stroke=\"rgb(231, 110, 91)\" stroke-width=\"2\" opacity=\"0.7\"/><path aria-label=\"S: 290; s: 15; profit_mean: 1235.7539\" role=\"graphics-symbol\" aria-roledescription=\"point\" transform=\"translate(165.71428571428572,140)\" d=\"M2.7386127875258306,0A2.7386127875258306,2.7386127875258306,0,1,1,-2.7386127875258306,0A2.7386127875258306,2.7386127875258306,0,1,1,2.7386127875258306,0\" stroke=\"rgb(153, 20, 160)\" stroke-width=\"2\" opacity=\"0.7\"/><path aria-label=\"S: 120; s: 20; profit_mean: 1205.3445\" role=\"graphics-symbol\" aria-roledescription=\"point\" transform=\"translate(68.57142857142857,120)\" d=\"M2.7386127875258306,0A2.7386127875258306,2.7386127875258306,0,1,1,-2.7386127875258306,0A2.7386127875258306,2.7386127875258306,0,1,1,2.7386127875258306,0\" stroke=\"rgb(39, 6, 146)\" stroke-width=\"2\" opacity=\"0.7\"/><path aria-label=\"S: 130; s: 20; profit_mean: 1237.1717\" role=\"graphics-symbol\" aria-roledescription=\"point\" transform=\"translate(74.28571428571429,120)\" d=\"M2.7386127875258306,0A2.7386127875258306,2.7386127875258306,0,1,1,-2.7386127875258306,0A2.7386127875258306,2.7386127875258306,0,1,1,2.7386127875258306,0\" stroke=\"rgb(157, 24, 157)\" stroke-width=\"2\" opacity=\"0.7\"/><path aria-label=\"S: 140; s: 20; profit_mean: 1257.9719\" role=\"graphics-symbol\" aria-roledescription=\"point\" transform=\"translate(80,120)\" d=\"M2.7386127875258306,0A2.7386127875258306,2.7386127875258306,0,1,1,-2.7386127875258306,0A2.7386127875258306,2.7386127875258306,0,1,1,2.7386127875258306,0\" stroke=\"rgb(210, 80, 114)\" stroke-width=\"2\" opacity=\"0.7\"/><path aria-label=\"S: 150; s: 20; profit_mean: 1234.4948\" role=\"graphics-symbol\" aria-roledescription=\"point\" transform=\"translate(85.71428571428571,120)\" d=\"M2.7386127875258306,0A2.7386127875258306,2.7386127875258306,0,1,1,-2.7386127875258306,0A2.7386127875258306,2.7386127875258306,0,1,1,2.7386127875258306,0\" stroke=\"rgb(148, 17, 162)\" stroke-width=\"2\" opacity=\"0.7\"/><path aria-label=\"S: 160; s: 20; profit_mean: 1236.3882\" role=\"graphics-symbol\" aria-roledescription=\"point\" transform=\"translate(91.42857142857143,120)\" d=\"M2.7386127875258306,0A2.7386127875258306,2.7386127875258306,0,1,1,-2.7386127875258306,0A2.7386127875258306,2.7386127875258306,0,1,1,2.7386127875258306,0\" stroke=\"rgb(155, 22, 159)\" stroke-width=\"2\" opacity=\"0.7\"/><path aria-label=\"S: 170; s: 20; profit_mean: 1273.3798\" role=\"graphics-symbol\" aria-roledescription=\"point\" transform=\"translate(97.14285714285714,120)\" d=\"M2.7386127875258306,0A2.7386127875258306,2.7386127875258306,0,1,1,-2.7386127875258306,0A2.7386127875258306,2.7386127875258306,0,1,1,2.7386127875258306,0\" stroke=\"rgb(238, 123, 82)\" stroke-width=\"2\" opacity=\"0.7\"/><path aria-label=\"S: 180; s: 20; profit_mean: 1308.7955\" role=\"graphics-symbol\" aria-roledescription=\"point\" transform=\"translate(102.85714285714285,120)\" d=\"M2.7386127875258306,0A2.7386127875258306,2.7386127875258306,0,1,1,-2.7386127875258306,0A2.7386127875258306,2.7386127875258306,0,1,1,2.7386127875258306,0\" stroke=\"rgb(240, 249, 33)\" stroke-width=\"2\" opacity=\"0.7\"/><path aria-label=\"S: 190; s: 20; profit_mean: 1289.8327\" role=\"graphics-symbol\" aria-roledescription=\"point\" transform=\"translate(108.57142857142857,120)\" d=\"M2.7386127875258306,0A2.7386127875258306,2.7386127875258306,0,1,1,-2.7386127875258306,0A2.7386127875258306,2.7386127875258306,0,1,1,2.7386127875258306,0\" stroke=\"rgb(253, 176, 49)\" stroke-width=\"2\" opacity=\"0.7\"/><path aria-label=\"S: 200; s: 20; profit_mean: 1247.7578\" role=\"graphics-symbol\" aria-roledescription=\"point\" transform=\"translate(114.28571428571428,120)\" d=\"M2.7386127875258306,0A2.7386127875258306,2.7386127875258306,0,1,1,-2.7386127875258306,0A2.7386127875258306,2.7386127875258306,0,1,1,2.7386127875258306,0\" stroke=\"rgb(186, 52, 136)\" stroke-width=\"2\" opacity=\"0.7\"/><path aria-label=\"S: 210; s: 20; profit_mean: 1211.2132\" role=\"graphics-symbol\" aria-roledescription=\"point\" transform=\"translate(120,120)\" d=\"M2.7386127875258306,0A2.7386127875258306,2.7386127875258306,0,1,1,-2.7386127875258306,0A2.7386127875258306,2.7386127875258306,0,1,1,2.7386127875258306,0\" stroke=\"rgb(64, 3, 156)\" stroke-width=\"2\" opacity=\"0.7\"/><path aria-label=\"S: 250; s: 20; profit_mean: 1231.1456\" role=\"graphics-symbol\" aria-roledescription=\"point\" transform=\"translate(142.85714285714286,120)\" d=\"M2.7386127875258306,0A2.7386127875258306,2.7386127875258306,0,1,1,-2.7386127875258306,0A2.7386127875258306,2.7386127875258306,0,1,1,2.7386127875258306,0\" stroke=\"rgb(137, 8, 166)\" stroke-width=\"2\" opacity=\"0.7\"/><path aria-label=\"S: 260; s: 20; profit_mean: 1275.1824\" role=\"graphics-symbol\" aria-roledescription=\"point\" transform=\"translate(148.57142857142858,120)\" d=\"M2.7386127875258306,0A2.7386127875258306,2.7386127875258306,0,1,1,-2.7386127875258306,0A2.7386127875258306,2.7386127875258306,0,1,1,2.7386127875258306,0\" stroke=\"rgb(240, 128, 78)\" stroke-width=\"2\" opacity=\"0.7\"/><path aria-label=\"S: 270; s: 20; profit_mean: 1300.4865\" role=\"graphics-symbol\" aria-roledescription=\"point\" transform=\"translate(154.2857142857143,120)\" d=\"M2.7386127875258306,0A2.7386127875258306,2.7386127875258306,0,1,1,-2.7386127875258306,0A2.7386127875258306,2.7386127875258306,0,1,1,2.7386127875258306,0\" stroke=\"rgb(250, 216, 36)\" stroke-width=\"2\" opacity=\"0.7\"/><path aria-label=\"S: 280; s: 20; profit_mean: 1276.2404\" role=\"graphics-symbol\" aria-roledescription=\"point\" transform=\"translate(160,120)\" d=\"M2.7386127875258306,0A2.7386127875258306,2.7386127875258306,0,1,1,-2.7386127875258306,0A2.7386127875258306,2.7386127875258306,0,1,1,2.7386127875258306,0\" stroke=\"rgb(242, 131, 76)\" stroke-width=\"2\" opacity=\"0.7\"/><path aria-label=\"S: 290; s: 20; profit_mean: 1244.5542\" role=\"graphics-symbol\" aria-roledescription=\"point\" transform=\"translate(165.71428571428572,120)\" d=\"M2.7386127875258306,0A2.7386127875258306,2.7386127875258306,0,1,1,-2.7386127875258306,0A2.7386127875258306,2.7386127875258306,0,1,1,2.7386127875258306,0\" stroke=\"rgb(178, 44, 143)\" stroke-width=\"2\" opacity=\"0.7\"/><path aria-label=\"S: 300; s: 20; profit_mean: 1217.9495\" role=\"graphics-symbol\" aria-roledescription=\"point\" transform=\"translate(171.42857142857142,120)\" d=\"M2.7386127875258306,0A2.7386127875258306,2.7386127875258306,0,1,1,-2.7386127875258306,0A2.7386127875258306,2.7386127875258306,0,1,1,2.7386127875258306,0\" stroke=\"rgb(90, 1, 165)\" stroke-width=\"2\" opacity=\"0.7\"/><path aria-label=\"S: 130; s: 25; profit_mean: 1211.2061\" role=\"graphics-symbol\" aria-roledescription=\"point\" transform=\"translate(74.28571428571429,100)\" d=\"M2.7386127875258306,0A2.7386127875258306,2.7386127875258306,0,1,1,-2.7386127875258306,0A2.7386127875258306,2.7386127875258306,0,1,1,2.7386127875258306,0\" stroke=\"rgb(64, 3, 156)\" stroke-width=\"2\" opacity=\"0.7\"/><path aria-label=\"S: 140; s: 25; profit_mean: 1254.1981\" role=\"graphics-symbol\" aria-roledescription=\"point\" transform=\"translate(80,100)\" d=\"M2.7386127875258306,0A2.7386127875258306,2.7386127875258306,0,1,1,-2.7386127875258306,0A2.7386127875258306,2.7386127875258306,0,1,1,2.7386127875258306,0\" stroke=\"rgb(202, 69, 122)\" stroke-width=\"2\" opacity=\"0.7\"/><path aria-label=\"S: 150; s: 25; profit_mean: 1246.9987\" role=\"graphics-symbol\" aria-roledescription=\"point\" transform=\"translate(85.71428571428571,100)\" d=\"M2.7386127875258306,0A2.7386127875258306,2.7386127875258306,0,1,1,-2.7386127875258306,0A2.7386127875258306,2.7386127875258306,0,1,1,2.7386127875258306,0\" stroke=\"rgb(184, 50, 137)\" stroke-width=\"2\" opacity=\"0.7\"/><path aria-label=\"S: 160; s: 25; profit_mean: 1229.3961\" role=\"graphics-symbol\" aria-roledescription=\"point\" transform=\"translate(91.42857142857143,100)\" d=\"M2.7386127875258306,0A2.7386127875258306,2.7386127875258306,0,1,1,-2.7386127875258306,0A2.7386127875258306,2.7386127875258306,0,1,1,2.7386127875258306,0\" stroke=\"rgb(131, 5, 167)\" stroke-width=\"2\" opacity=\"0.7\"/><path aria-label=\"S: 170; s: 25; profit_mean: 1242.3199\" role=\"graphics-symbol\" aria-roledescription=\"point\" transform=\"translate(97.14285714285714,100)\" d=\"M2.7386127875258306,0A2.7386127875258306,2.7386127875258306,0,1,1,-2.7386127875258306,0A2.7386127875258306,2.7386127875258306,0,1,1,2.7386127875258306,0\" stroke=\"rgb(172, 38, 148)\" stroke-width=\"2\" opacity=\"0.7\"/><path aria-label=\"S: 180; s: 25; profit_mean: 1279.2454\" role=\"graphics-symbol\" aria-roledescription=\"point\" transform=\"translate(102.85714285714285,100)\" d=\"M2.7386127875258306,0A2.7386127875258306,2.7386127875258306,0,1,1,-2.7386127875258306,0A2.7386127875258306,2.7386127875258306,0,1,1,2.7386127875258306,0\" stroke=\"rgb(245, 140, 70)\" stroke-width=\"2\" opacity=\"0.7\"/><path aria-label=\"S: 190; s: 25; profit_mean: 1298.2658\" role=\"graphics-symbol\" aria-roledescription=\"point\" transform=\"translate(108.57142857142857,100)\" d=\"M2.7386127875258306,0A2.7386127875258306,2.7386127875258306,0,1,1,-2.7386127875258306,0A2.7386127875258306,2.7386127875258306,0,1,1,2.7386127875258306,0\" stroke=\"rgb(252, 207, 37)\" stroke-width=\"2\" opacity=\"0.7\"/><path aria-label=\"S: 200; s: 25; profit_mean: 1270.9656\" role=\"graphics-symbol\" aria-roledescription=\"point\" transform=\"translate(114.28571428571428,100)\" d=\"M2.7386127875258306,0A2.7386127875258306,2.7386127875258306,0,1,1,-2.7386127875258306,0A2.7386127875258306,2.7386127875258306,0,1,1,2.7386127875258306,0\" stroke=\"rgb(234, 115, 87)\" stroke-width=\"2\" opacity=\"0.7\"/><path aria-label=\"S: 210; s: 25; profit_mean: 1234.9552\" role=\"graphics-symbol\" aria-roledescription=\"point\" transform=\"translate(120,100)\" d=\"M2.7386127875258306,0A2.7386127875258306,2.7386127875258306,0,1,1,-2.7386127875258306,0A2.7386127875258306,2.7386127875258306,0,1,1,2.7386127875258306,0\" stroke=\"rgb(150, 18, 161)\" stroke-width=\"2\" opacity=\"0.7\"/><path aria-label=\"S: 260; s: 25; profit_mean: 1226.7263\" role=\"graphics-symbol\" aria-roledescription=\"point\" transform=\"translate(148.57142857142858,100)\" d=\"M2.7386127875258306,0A2.7386127875258306,2.7386127875258306,0,1,1,-2.7386127875258306,0A2.7386127875258306,2.7386127875258306,0,1,1,2.7386127875258306,0\" stroke=\"rgb(122, 2, 168)\" stroke-width=\"2\" opacity=\"0.7\"/><path aria-label=\"S: 270; s: 25; profit_mean: 1268.3445\" role=\"graphics-symbol\" aria-roledescription=\"point\" transform=\"translate(154.2857142857143,100)\" d=\"M2.7386127875258306,0A2.7386127875258306,2.7386127875258306,0,1,1,-2.7386127875258306,0A2.7386127875258306,2.7386127875258306,0,1,1,2.7386127875258306,0\" stroke=\"rgb(230, 108, 93)\" stroke-width=\"2\" opacity=\"0.7\"/><path aria-label=\"S: 280; s: 25; profit_mean: 1283.186\" role=\"graphics-symbol\" aria-roledescription=\"point\" transform=\"translate(160,100)\" d=\"M2.7386127875258306,0A2.7386127875258306,2.7386127875258306,0,1,1,-2.7386127875258306,0A2.7386127875258306,2.7386127875258306,0,1,1,2.7386127875258306,0\" stroke=\"rgb(250, 153, 62)\" stroke-width=\"2\" opacity=\"0.7\"/><path aria-label=\"S: 290; s: 25; profit_mean: 1258.1581\" role=\"graphics-symbol\" aria-roledescription=\"point\" transform=\"translate(165.71428571428572,100)\" d=\"M2.7386127875258306,0A2.7386127875258306,2.7386127875258306,0,1,1,-2.7386127875258306,0A2.7386127875258306,2.7386127875258306,0,1,1,2.7386127875258306,0\" stroke=\"rgb(210, 80, 114)\" stroke-width=\"2\" opacity=\"0.7\"/><path aria-label=\"S: 300; s: 25; profit_mean: 1232.1326\" role=\"graphics-symbol\" aria-roledescription=\"point\" transform=\"translate(171.42857142857142,100)\" d=\"M2.7386127875258306,0A2.7386127875258306,2.7386127875258306,0,1,1,-2.7386127875258306,0A2.7386127875258306,2.7386127875258306,0,1,1,2.7386127875258306,0\" stroke=\"rgb(140, 11, 165)\" stroke-width=\"2\" opacity=\"0.7\"/><path aria-label=\"S: 140; s: 30; profit_mean: 1228.0586\" role=\"graphics-symbol\" aria-roledescription=\"point\" transform=\"translate(80,80)\" d=\"M2.7386127875258306,0A2.7386127875258306,2.7386127875258306,0,1,1,-2.7386127875258306,0A2.7386127875258306,2.7386127875258306,0,1,1,2.7386127875258306,0\" stroke=\"rgb(127, 3, 167)\" stroke-width=\"2\" opacity=\"0.7\"/><path aria-label=\"S: 150; s: 30; profit_mean: 1249.745\" role=\"graphics-symbol\" aria-roledescription=\"point\" transform=\"translate(85.71428571428571,80)\" d=\"M2.7386127875258306,0A2.7386127875258306,2.7386127875258306,0,1,1,-2.7386127875258306,0A2.7386127875258306,2.7386127875258306,0,1,1,2.7386127875258306,0\" stroke=\"rgb(191, 57, 131)\" stroke-width=\"2\" opacity=\"0.7\"/><path aria-label=\"S: 160; s: 30; profit_mean: 1225.9841\" role=\"graphics-symbol\" aria-roledescription=\"point\" transform=\"translate(91.42857142857143,80)\" d=\"M2.7386127875258306,0A2.7386127875258306,2.7386127875258306,0,1,1,-2.7386127875258306,0A2.7386127875258306,2.7386127875258306,0,1,1,2.7386127875258306,0\" stroke=\"rgb(120, 1, 168)\" stroke-width=\"2\" opacity=\"0.7\"/><path aria-label=\"S: 170; s: 30; profit_mean: 1210.3669\" role=\"graphics-symbol\" aria-roledescription=\"point\" transform=\"translate(97.14285714285714,80)\" d=\"M2.7386127875258306,0A2.7386127875258306,2.7386127875258306,0,1,1,-2.7386127875258306,0A2.7386127875258306,2.7386127875258306,0,1,1,2.7386127875258306,0\" stroke=\"rgb(61, 4, 155)\" stroke-width=\"2\" opacity=\"0.7\"/><path aria-label=\"S: 180; s: 30; profit_mean: 1242.0268\" role=\"graphics-symbol\" aria-roledescription=\"point\" transform=\"translate(102.85714285714285,80)\" d=\"M2.7386127875258306,0A2.7386127875258306,2.7386127875258306,0,1,1,-2.7386127875258306,0A2.7386127875258306,2.7386127875258306,0,1,1,2.7386127875258306,0\" stroke=\"rgb(172, 37, 148)\" stroke-width=\"2\" opacity=\"0.7\"/><path aria-label=\"S: 190; s: 30; profit_mean: 1280.9768\" role=\"graphics-symbol\" aria-roledescription=\"point\" transform=\"translate(108.57142857142857,80)\" d=\"M2.7386127875258306,0A2.7386127875258306,2.7386127875258306,0,1,1,-2.7386127875258306,0A2.7386127875258306,2.7386127875258306,0,1,1,2.7386127875258306,0\" stroke=\"rgb(247, 146, 66)\" stroke-width=\"2\" opacity=\"0.7\"/><path aria-label=\"S: 200; s: 30; profit_mean: 1280.1109\" role=\"graphics-symbol\" aria-roledescription=\"point\" transform=\"translate(114.28571428571428,80)\" d=\"M2.7386127875258306,0A2.7386127875258306,2.7386127875258306,0,1,1,-2.7386127875258306,0A2.7386127875258306,2.7386127875258306,0,1,1,2.7386127875258306,0\" stroke=\"rgb(246, 143, 68)\" stroke-width=\"2\" opacity=\"0.7\"/><path aria-label=\"S: 210; s: 30; profit_mean: 1245.2436\" role=\"graphics-symbol\" aria-roledescription=\"point\" transform=\"translate(120,80)\" d=\"M2.7386127875258306,0A2.7386127875258306,2.7386127875258306,0,1,1,-2.7386127875258306,0A2.7386127875258306,2.7386127875258306,0,1,1,2.7386127875258306,0\" stroke=\"rgb(180, 45, 141)\" stroke-width=\"2\" opacity=\"0.7\"/><path aria-label=\"S: 270; s: 30; profit_mean: 1217.8612\" role=\"graphics-symbol\" aria-roledescription=\"point\" transform=\"translate(154.2857142857143,80)\" d=\"M2.7386127875258306,0A2.7386127875258306,2.7386127875258306,0,1,1,-2.7386127875258306,0A2.7386127875258306,2.7386127875258306,0,1,1,2.7386127875258306,0\" stroke=\"rgb(90, 1, 165)\" stroke-width=\"2\" opacity=\"0.7\"/><path aria-label=\"S: 280; s: 30; profit_mean: 1252.7332\" role=\"graphics-symbol\" aria-roledescription=\"point\" transform=\"translate(160,80)\" d=\"M2.7386127875258306,0A2.7386127875258306,2.7386127875258306,0,1,1,-2.7386127875258306,0A2.7386127875258306,2.7386127875258306,0,1,1,2.7386127875258306,0\" stroke=\"rgb(198, 65, 125)\" stroke-width=\"2\" opacity=\"0.7\"/><path aria-label=\"S: 290; s: 30; profit_mean: 1258.1284\" role=\"graphics-symbol\" aria-roledescription=\"point\" transform=\"translate(165.71428571428572,80)\" d=\"M2.7386127875258306,0A2.7386127875258306,2.7386127875258306,0,1,1,-2.7386127875258306,0A2.7386127875258306,2.7386127875258306,0,1,1,2.7386127875258306,0\" stroke=\"rgb(210, 80, 114)\" stroke-width=\"2\" opacity=\"0.7\"/><path aria-label=\"S: 300; s: 30; profit_mean: 1239.6995\" role=\"graphics-symbol\" aria-roledescription=\"point\" transform=\"translate(171.42857142857142,80)\" d=\"M2.7386127875258306,0A2.7386127875258306,2.7386127875258306,0,1,1,-2.7386127875258306,0A2.7386127875258306,2.7386127875258306,0,1,1,2.7386127875258306,0\" stroke=\"rgb(165, 31, 153)\" stroke-width=\"2\" opacity=\"0.7\"/><path aria-label=\"S: 310; s: 30; profit_mean: 1200.8057\" role=\"graphics-symbol\" aria-roledescription=\"point\" transform=\"translate(177.14285714285714,80)\" d=\"M2.7386127875258306,0A2.7386127875258306,2.7386127875258306,0,1,1,-2.7386127875258306,0A2.7386127875258306,2.7386127875258306,0,1,1,2.7386127875258306,0\" stroke=\"rgb(13, 8, 135)\" stroke-width=\"2\" opacity=\"0.7\"/><path aria-label=\"S: 150; s: 35; profit_mean: 1222.4188\" role=\"graphics-symbol\" aria-roledescription=\"point\" transform=\"translate(85.71428571428571,60.00000000000001)\" d=\"M2.7386127875258306,0A2.7386127875258306,2.7386127875258306,0,1,1,-2.7386127875258306,0A2.7386127875258306,2.7386127875258306,0,1,1,2.7386127875258306,0\" stroke=\"rgb(106, 0, 168)\" stroke-width=\"2\" opacity=\"0.7\"/><path aria-label=\"S: 160; s: 35; profit_mean: 1225.6929\" role=\"graphics-symbol\" aria-roledescription=\"point\" transform=\"translate(91.42857142857143,60.00000000000001)\" d=\"M2.7386127875258306,0A2.7386127875258306,2.7386127875258306,0,1,1,-2.7386127875258306,0A2.7386127875258306,2.7386127875258306,0,1,1,2.7386127875258306,0\" stroke=\"rgb(119, 1, 168)\" stroke-width=\"2\" opacity=\"0.7\"/><path aria-label=\"S: 170; s: 35; profit_mean: 1209.6693\" role=\"graphics-symbol\" aria-roledescription=\"point\" transform=\"translate(97.14285714285714,60.00000000000001)\" d=\"M2.7386127875258306,0A2.7386127875258306,2.7386127875258306,0,1,1,-2.7386127875258306,0A2.7386127875258306,2.7386127875258306,0,1,1,2.7386127875258306,0\" stroke=\"rgb(58, 4, 154)\" stroke-width=\"2\" opacity=\"0.7\"/><path aria-label=\"S: 180; s: 35; profit_mean: 1207.38\" role=\"graphics-symbol\" aria-roledescription=\"point\" transform=\"translate(102.85714285714285,60.00000000000001)\" d=\"M2.7386127875258306,0A2.7386127875258306,2.7386127875258306,0,1,1,-2.7386127875258306,0A2.7386127875258306,2.7386127875258306,0,1,1,2.7386127875258306,0\" stroke=\"rgb(48, 5, 150)\" stroke-width=\"2\" opacity=\"0.7\"/><path aria-label=\"S: 190; s: 35; profit_mean: 1243.3835\" role=\"graphics-symbol\" aria-roledescription=\"point\" transform=\"translate(108.57142857142857,60.00000000000001)\" d=\"M2.7386127875258306,0A2.7386127875258306,2.7386127875258306,0,1,1,-2.7386127875258306,0A2.7386127875258306,2.7386127875258306,0,1,1,2.7386127875258306,0\" stroke=\"rgb(175, 40, 145)\" stroke-width=\"2\" opacity=\"0.7\"/><path aria-label=\"S: 200; s: 35; profit_mean: 1266.5751\" role=\"graphics-symbol\" aria-roledescription=\"point\" transform=\"translate(114.28571428571428,60.00000000000001)\" d=\"M2.7386127875258306,0A2.7386127875258306,2.7386127875258306,0,1,1,-2.7386127875258306,0A2.7386127875258306,2.7386127875258306,0,1,1,2.7386127875258306,0\" stroke=\"rgb(227, 103, 96)\" stroke-width=\"2\" opacity=\"0.7\"/><path aria-label=\"S: 210; s: 35; profit_mean: 1241.7917\" role=\"graphics-symbol\" aria-roledescription=\"point\" transform=\"translate(120,60.00000000000001)\" d=\"M2.7386127875258306,0A2.7386127875258306,2.7386127875258306,0,1,1,-2.7386127875258306,0A2.7386127875258306,2.7386127875258306,0,1,1,2.7386127875258306,0\" stroke=\"rgb(171, 36, 149)\" stroke-width=\"2\" opacity=\"0.7\"/><path aria-label=\"S: 220; s: 35; profit_mean: 1211.6935\" role=\"graphics-symbol\" aria-roledescription=\"point\" transform=\"translate(125.71428571428571,60.00000000000001)\" d=\"M2.7386127875258306,0A2.7386127875258306,2.7386127875258306,0,1,1,-2.7386127875258306,0A2.7386127875258306,2.7386127875258306,0,1,1,2.7386127875258306,0\" stroke=\"rgb(66, 3, 157)\" stroke-width=\"2\" opacity=\"0.7\"/><path aria-label=\"S: 280; s: 35; profit_mean: 1210.8789\" role=\"graphics-symbol\" aria-roledescription=\"point\" transform=\"translate(160,60.00000000000001)\" d=\"M2.7386127875258306,0A2.7386127875258306,2.7386127875258306,0,1,1,-2.7386127875258306,0A2.7386127875258306,2.7386127875258306,0,1,1,2.7386127875258306,0\" stroke=\"rgb(63, 3, 156)\" stroke-width=\"2\" opacity=\"0.7\"/><path aria-label=\"S: 290; s: 35; profit_mean: 1237.1174\" role=\"graphics-symbol\" aria-roledescription=\"point\" transform=\"translate(165.71428571428572,60.00000000000001)\" d=\"M2.7386127875258306,0A2.7386127875258306,2.7386127875258306,0,1,1,-2.7386127875258306,0A2.7386127875258306,2.7386127875258306,0,1,1,2.7386127875258306,0\" stroke=\"rgb(157, 24, 157)\" stroke-width=\"2\" opacity=\"0.7\"/><path aria-label=\"S: 300; s: 35; profit_mean: 1230.8906\" role=\"graphics-symbol\" aria-roledescription=\"point\" transform=\"translate(171.42857142857142,60.00000000000001)\" d=\"M2.7386127875258306,0A2.7386127875258306,2.7386127875258306,0,1,1,-2.7386127875258306,0A2.7386127875258306,2.7386127875258306,0,1,1,2.7386127875258306,0\" stroke=\"rgb(136, 8, 166)\" stroke-width=\"2\" opacity=\"0.7\"/><path aria-label=\"S: 310; s: 35; profit_mean: 1207.9512\" role=\"graphics-symbol\" aria-roledescription=\"point\" transform=\"translate(177.14285714285714,60.00000000000001)\" d=\"M2.7386127875258306,0A2.7386127875258306,2.7386127875258306,0,1,1,-2.7386127875258306,0A2.7386127875258306,2.7386127875258306,0,1,1,2.7386127875258306,0\" stroke=\"rgb(51, 5, 151)\" stroke-width=\"2\" opacity=\"0.7\"/><path aria-label=\"S: 160; s: 40; profit_mean: 1213.8402\" role=\"graphics-symbol\" aria-roledescription=\"point\" transform=\"translate(91.42857142857143,39.99999999999999)\" d=\"M2.7386127875258306,0A2.7386127875258306,2.7386127875258306,0,1,1,-2.7386127875258306,0A2.7386127875258306,2.7386127875258306,0,1,1,2.7386127875258306,0\" stroke=\"rgb(75, 2, 160)\" stroke-width=\"2\" opacity=\"0.7\"/><path aria-label=\"S: 170; s: 40; profit_mean: 1204.2852\" role=\"graphics-symbol\" aria-roledescription=\"point\" transform=\"translate(97.14285714285714,39.99999999999999)\" d=\"M2.7386127875258306,0A2.7386127875258306,2.7386127875258306,0,1,1,-2.7386127875258306,0A2.7386127875258306,2.7386127875258306,0,1,1,2.7386127875258306,0\" stroke=\"rgb(34, 6, 144)\" stroke-width=\"2\" opacity=\"0.7\"/><path aria-label=\"S: 200; s: 40; profit_mean: 1231.1435\" role=\"graphics-symbol\" aria-roledescription=\"point\" transform=\"translate(114.28571428571428,39.99999999999999)\" d=\"M2.7386127875258306,0A2.7386127875258306,2.7386127875258306,0,1,1,-2.7386127875258306,0A2.7386127875258306,2.7386127875258306,0,1,1,2.7386127875258306,0\" stroke=\"rgb(137, 8, 166)\" stroke-width=\"2\" opacity=\"0.7\"/><path aria-label=\"S: 210; s: 40; profit_mean: 1246.4605\" role=\"graphics-symbol\" aria-roledescription=\"point\" transform=\"translate(120,39.99999999999999)\" d=\"M2.7386127875258306,0A2.7386127875258306,2.7386127875258306,0,1,1,-2.7386127875258306,0A2.7386127875258306,2.7386127875258306,0,1,1,2.7386127875258306,0\" stroke=\"rgb(183, 49, 139)\" stroke-width=\"2\" opacity=\"0.7\"/><path aria-label=\"S: 220; s: 40; profit_mean: 1223.9846\" role=\"graphics-symbol\" aria-roledescription=\"point\" transform=\"translate(125.71428571428571,39.99999999999999)\" d=\"M2.7386127875258306,0A2.7386127875258306,2.7386127875258306,0,1,1,-2.7386127875258306,0A2.7386127875258306,2.7386127875258306,0,1,1,2.7386127875258306,0\" stroke=\"rgb(112, 0, 168)\" stroke-width=\"2\" opacity=\"0.7\"/><path aria-label=\"S: 300; s: 40; profit_mean: 1220.44\" role=\"graphics-symbol\" aria-roledescription=\"point\" transform=\"translate(171.42857142857142,39.99999999999999)\" d=\"M2.7386127875258306,0A2.7386127875258306,2.7386127875258306,0,1,1,-2.7386127875258306,0A2.7386127875258306,2.7386127875258306,0,1,1,2.7386127875258306,0\" stroke=\"rgb(99, 1, 167)\" stroke-width=\"2\" opacity=\"0.7\"/><path aria-label=\"S: 310; s: 40; profit_mean: 1200.8228\" role=\"graphics-symbol\" aria-roledescription=\"point\" transform=\"translate(177.14285714285714,39.99999999999999)\" d=\"M2.7386127875258306,0A2.7386127875258306,2.7386127875258306,0,1,1,-2.7386127875258306,0A2.7386127875258306,2.7386127875258306,0,1,1,2.7386127875258306,0\" stroke=\"rgb(13, 8, 135)\" stroke-width=\"2\" opacity=\"0.7\"/><path aria-label=\"S: 210; s: 45; profit_mean: 1220.5394\" role=\"graphics-symbol\" aria-roledescription=\"point\" transform=\"translate(120,19.999999999999996)\" d=\"M2.7386127875258306,0A2.7386127875258306,2.7386127875258306,0,1,1,-2.7386127875258306,0A2.7386127875258306,2.7386127875258306,0,1,1,2.7386127875258306,0\" stroke=\"rgb(99, 1, 167)\" stroke-width=\"2\" opacity=\"0.7\"/><path aria-label=\"S: 220; s: 45; profit_mean: 1223.2257\" role=\"graphics-symbol\" aria-roledescription=\"point\" transform=\"translate(125.71428571428571,19.999999999999996)\" d=\"M2.7386127875258306,0A2.7386127875258306,2.7386127875258306,0,1,1,-2.7386127875258306,0A2.7386127875258306,2.7386127875258306,0,1,1,2.7386127875258306,0\" stroke=\"rgb(109, 0, 168)\" stroke-width=\"2\" opacity=\"0.7\"/><path aria-label=\"S: 220; s: 50; profit_mean: 1210.9642\" role=\"graphics-symbol\" aria-roledescription=\"point\" transform=\"translate(125.71428571428571,0)\" d=\"M2.7386127875258306,0A2.7386127875258306,2.7386127875258306,0,1,1,-2.7386127875258306,0A2.7386127875258306,2.7386127875258306,0,1,1,2.7386127875258306,0\" stroke=\"rgb(63, 3, 156)\" stroke-width=\"2\" opacity=\"0.7\"/></g><g class=\"mark-group role-legend\" role=\"graphics-symbol\" aria-roledescription=\"legend\" aria-label=\"Gradient legend titled 'profit_mean' for stroke color with values from 1,201 to 1,309\"><g transform=\"translate(218,0)\"><path class=\"background\" aria-hidden=\"true\" d=\"M0,0h69v216h-69Z\" pointer-events=\"none\"/><g><g class=\"mark-group role-legend-entry\"><g transform=\"translate(0,16)\"><path class=\"background\" aria-hidden=\"true\" d=\"M0,0h0v0h0Z\" pointer-events=\"none\"/><g><g class=\"mark-rect role-legend-gradient\" pointer-events=\"none\"><path d=\"M0,0h16v200h-16Z\" fill=\"url(#gradient_0)\" stroke=\"#ddd\" stroke-width=\"0\" opacity=\"0.7\"/></g><g class=\"mark-text role-legend-label\" pointer-events=\"none\"><text text-anchor=\"start\" transform=\"translate(18,167.45164265513876)\" font-family=\"sans-serif\" font-size=\"10px\" fill=\"#000\" opacity=\"1\">1,220</text><text text-anchor=\"start\" transform=\"translate(18,130.41110734532265)\" font-family=\"sans-serif\" font-size=\"10px\" fill=\"#000\" opacity=\"1\">1,240</text><text text-anchor=\"start\" transform=\"translate(18,93.37057203550654)\" font-family=\"sans-serif\" font-size=\"10px\" fill=\"#000\" opacity=\"1\">1,260</text><text text-anchor=\"start\" transform=\"translate(18,56.33003672569041)\" font-family=\"sans-serif\" font-size=\"10px\" fill=\"#000\" opacity=\"1\">1,280</text><text text-anchor=\"start\" transform=\"translate(18,19.289501415874284)\" font-family=\"sans-serif\" font-size=\"10px\" fill=\"#000\" opacity=\"1\">1,300</text></g></g><path class=\"foreground\" aria-hidden=\"true\" d=\"\" pointer-events=\"none\" display=\"none\"/></g></g><g class=\"mark-text role-legend-title\" pointer-events=\"none\"><text text-anchor=\"start\" transform=\"translate(0,9)\" font-family=\"sans-serif\" font-size=\"11px\" font-weight=\"bold\" fill=\"#000\" opacity=\"1\">profit_mean</text></g></g><path class=\"foreground\" aria-hidden=\"true\" d=\"\" pointer-events=\"none\" display=\"none\"/></g></g></g><path class=\"foreground\" aria-hidden=\"true\" d=\"\" display=\"none\"/></g></g></g><defs><linearGradient id=\"gradient_0\" x1=\"0\" x2=\"0\" y1=\"1\" y2=\"0\"><stop offset=\"0\" stop-color=\"rgb(13, 8, 135)\"/><stop offset=\"0.08514044844976584\" stop-color=\"rgb(59, 4, 154)\"/><stop offset=\"0.17774178672430616\" stop-color=\"rgb(97, 1, 167)\"/><stop offset=\"0.27034312499884644\" stop-color=\"rgb(133, 6, 167)\"/><stop offset=\"0.36294446327338675\" stop-color=\"rgb(166, 32, 153)\"/><stop offset=\"0.45554580154792707\" stop-color=\"rgb(192, 58, 131)\"/><stop offset=\"0.5481471398224673\" stop-color=\"rgb(214, 85, 109)\"/><stop offset=\"0.6407484780970076\" stop-color=\"rgb(232, 112, 89)\"/><stop offset=\"0.733349816371548\" stop-color=\"rgb(246, 143, 68)\"/><stop offset=\"0.8259511546460883\" stop-color=\"rgb(253, 176, 49)\"/><stop offset=\"0.9185524929206286\" stop-color=\"rgb(250, 214, 36)\"/><stop offset=\"1\" stop-color=\"rgb(240, 249, 33)\"/></linearGradient></defs></svg>\n"
      ],
      "text/plain": [
       "@vlplot(\n",
       "    mark=\"point\",\n",
       "    encoding={\n",
       "        x={\n",
       "            field=\"S\"\n",
       "        },\n",
       "        y={\n",
       "            field=\"s\"\n",
       "        },\n",
       "        color={\n",
       "            scale={\n",
       "                scheme=\"plasma\"\n",
       "            },\n",
       "            field=\"profit_mean\"\n",
       "        }\n",
       "    },\n",
       "    data={\n",
       "        values=...\n",
       "    }\n",
       ")"
      ]
     },
     "execution_count": 10,
     "metadata": {},
     "output_type": "execute_result"
    }
   ],
   "source": [
    "# We check those values that have profit_mean values over 1200.\n",
    "filtered_df_1200 = filter(row -> row.profit_mean >= 1200, df)\n",
    "using VegaLite\n",
    "filtered_df_1200 |> @vlplot(:point, x=:S, y=:s, color={:profit_mean, scale={scheme=:plasma}})"
   ]
  },
  {
   "cell_type": "markdown",
   "metadata": {},
   "source": [
    "We can observe our maximum profit_mean=1308 for the parameters s=20 and S=180, but we also have some other equally good values. So let us check the other points"
   ]
  },
  {
   "cell_type": "code",
   "execution_count": 11,
   "metadata": {},
   "outputs": [
    {
     "data": {
      "text/html": [
       "<div><div style = \"float: left;\"><span>1×8 DataFrame</span></div><div style = \"clear: both;\"></div></div><div class = \"data-frame\" style = \"overflow-x: scroll;\"><table class = \"data-frame\" style = \"margin-bottom: 6px;\"><thead><tr class = \"header\"><th class = \"rowNumber\" style = \"font-weight: bold; text-align: right;\">Row</th><th style = \"text-align: left;\">m</th><th style = \"text-align: left;\">s</th><th style = \"text-align: left;\">S</th><th style = \"text-align: left;\">N</th><th style = \"text-align: left;\">profit_mean</th><th style = \"text-align: left;\">profit_std</th><th style = \"text-align: left;\">lost_mean</th><th style = \"text-align: left;\">lost_std</th></tr><tr class = \"subheader headerLastRow\"><th class = \"rowNumber\" style = \"font-weight: bold; text-align: right;\"></th><th title = \"Int64\" style = \"text-align: left;\">Int64</th><th title = \"Int64\" style = \"text-align: left;\">Int64</th><th title = \"Int64\" style = \"text-align: left;\">Int64</th><th title = \"Int64\" style = \"text-align: left;\">Int64</th><th title = \"Float64\" style = \"text-align: left;\">Float64</th><th title = \"Float64\" style = \"text-align: left;\">Float64</th><th title = \"Float64\" style = \"text-align: left;\">Float64</th><th title = \"Float64\" style = \"text-align: left;\">Float64</th></tr></thead><tbody><tr><td class = \"rowNumber\" style = \"font-weight: bold; text-align: right;\">1</td><td style = \"text-align: right;\">30</td><td style = \"text-align: right;\">15</td><td style = \"text-align: right;\">270</td><td style = \"text-align: right;\">1000</td><td style = \"text-align: right;\">1305.82</td><td style = \"text-align: right;\">126.717</td><td style = \"text-align: right;\">13.069</td><td style = \"text-align: right;\">16.7615</td></tr></tbody></table></div>"
      ],
      "text/latex": [
       "\\begin{tabular}{r|cccccccc}\n",
       "\t& m & s & S & N & profit\\_mean & profit\\_std & lost\\_mean & lost\\_std\\\\\n",
       "\t\\hline\n",
       "\t& Int64 & Int64 & Int64 & Int64 & Float64 & Float64 & Float64 & Float64\\\\\n",
       "\t\\hline\n",
       "\t1 & 30 & 15 & 270 & 1000 & 1305.82 & 126.717 & 13.069 & 16.7615 \\\\\n",
       "\\end{tabular}\n"
      ],
      "text/plain": [
       "\u001b[1m1×8 DataFrame\u001b[0m\n",
       "\u001b[1m Row \u001b[0m│\u001b[1m m     \u001b[0m\u001b[1m s     \u001b[0m\u001b[1m S     \u001b[0m\u001b[1m N     \u001b[0m\u001b[1m profit_mean \u001b[0m\u001b[1m profit_std \u001b[0m\u001b[1m lost_mean \u001b[0m\u001b[1m lost_st\u001b[0m ⋯\n",
       "     │\u001b[90m Int64 \u001b[0m\u001b[90m Int64 \u001b[0m\u001b[90m Int64 \u001b[0m\u001b[90m Int64 \u001b[0m\u001b[90m Float64     \u001b[0m\u001b[90m Float64    \u001b[0m\u001b[90m Float64   \u001b[0m\u001b[90m Float64\u001b[0m ⋯\n",
       "─────┼──────────────────────────────────────────────────────────────────────────\n",
       "   1 │    30     15    270   1000      1305.82     126.717     13.069   16.761 ⋯\n",
       "\u001b[36m                                                                1 column omitted\u001b[0m"
      ]
     },
     "execution_count": 11,
     "metadata": {},
     "output_type": "execute_result"
    }
   ],
   "source": [
    "filtered_df = filter(row -> row.s == 15 && row.S == 270, df)"
   ]
  },
  {
   "cell_type": "code",
   "execution_count": 12,
   "metadata": {},
   "outputs": [
    {
     "data": {
      "text/html": [
       "<div><div style = \"float: left;\"><span>1×8 DataFrame</span></div><div style = \"clear: both;\"></div></div><div class = \"data-frame\" style = \"overflow-x: scroll;\"><table class = \"data-frame\" style = \"margin-bottom: 6px;\"><thead><tr class = \"header\"><th class = \"rowNumber\" style = \"font-weight: bold; text-align: right;\">Row</th><th style = \"text-align: left;\">m</th><th style = \"text-align: left;\">s</th><th style = \"text-align: left;\">S</th><th style = \"text-align: left;\">N</th><th style = \"text-align: left;\">profit_mean</th><th style = \"text-align: left;\">profit_std</th><th style = \"text-align: left;\">lost_mean</th><th style = \"text-align: left;\">lost_std</th></tr><tr class = \"subheader headerLastRow\"><th class = \"rowNumber\" style = \"font-weight: bold; text-align: right;\"></th><th title = \"Int64\" style = \"text-align: left;\">Int64</th><th title = \"Int64\" style = \"text-align: left;\">Int64</th><th title = \"Int64\" style = \"text-align: left;\">Int64</th><th title = \"Int64\" style = \"text-align: left;\">Int64</th><th title = \"Float64\" style = \"text-align: left;\">Float64</th><th title = \"Float64\" style = \"text-align: left;\">Float64</th><th title = \"Float64\" style = \"text-align: left;\">Float64</th><th title = \"Float64\" style = \"text-align: left;\">Float64</th></tr></thead><tbody><tr><td class = \"rowNumber\" style = \"font-weight: bold; text-align: right;\">1</td><td style = \"text-align: right;\">30</td><td style = \"text-align: right;\">10</td><td style = \"text-align: right;\">250</td><td style = \"text-align: right;\">1000</td><td style = \"text-align: right;\">1306.99</td><td style = \"text-align: right;\">120.282</td><td style = \"text-align: right;\">21.379</td><td style = \"text-align: right;\">19.5673</td></tr></tbody></table></div>"
      ],
      "text/latex": [
       "\\begin{tabular}{r|cccccccc}\n",
       "\t& m & s & S & N & profit\\_mean & profit\\_std & lost\\_mean & lost\\_std\\\\\n",
       "\t\\hline\n",
       "\t& Int64 & Int64 & Int64 & Int64 & Float64 & Float64 & Float64 & Float64\\\\\n",
       "\t\\hline\n",
       "\t1 & 30 & 10 & 250 & 1000 & 1306.99 & 120.282 & 21.379 & 19.5673 \\\\\n",
       "\\end{tabular}\n"
      ],
      "text/plain": [
       "\u001b[1m1×8 DataFrame\u001b[0m\n",
       "\u001b[1m Row \u001b[0m│\u001b[1m m     \u001b[0m\u001b[1m s     \u001b[0m\u001b[1m S     \u001b[0m\u001b[1m N     \u001b[0m\u001b[1m profit_mean \u001b[0m\u001b[1m profit_std \u001b[0m\u001b[1m lost_mean \u001b[0m\u001b[1m lost_st\u001b[0m ⋯\n",
       "     │\u001b[90m Int64 \u001b[0m\u001b[90m Int64 \u001b[0m\u001b[90m Int64 \u001b[0m\u001b[90m Int64 \u001b[0m\u001b[90m Float64     \u001b[0m\u001b[90m Float64    \u001b[0m\u001b[90m Float64   \u001b[0m\u001b[90m Float64\u001b[0m ⋯\n",
       "─────┼──────────────────────────────────────────────────────────────────────────\n",
       "   1 │    30     10    250   1000      1306.99     120.282     21.379   19.567 ⋯\n",
       "\u001b[36m                                                                1 column omitted\u001b[0m"
      ]
     },
     "execution_count": 12,
     "metadata": {},
     "output_type": "execute_result"
    }
   ],
   "source": [
    "filtered_df = filter(row -> row.s == 10 && row.S == 250, df)"
   ]
  },
  {
   "cell_type": "markdown",
   "metadata": {},
   "source": [
    "We can see that the values s=15 and S=270 generate us a profit_mean=1305 less lost_mean=13.06, which could be our 2nd choice.  <br />\n",
    "If we choose a slightly smaller profit_mean, we will also have a smaller lost_mean, which also seems to be a good result."
   ]
  },
  {
   "cell_type": "code",
   "execution_count": 13,
   "metadata": {},
   "outputs": [
    {
     "data": {
      "application/vnd.vegalite.v4+json": {
       "data": {
        "values": [
         {
          "N": 1000,
          "S": 250,
          "lost_mean": 21.379,
          "lost_std": 19.567325807049855,
          "m": 30,
          "profit_mean": 1306.9865999999997,
          "profit_std": 120.282067309122,
          "s": 10
         },
         {
          "N": 1000,
          "S": 260,
          "lost_mean": 20.225,
          "lost_std": 19.709155888211594,
          "m": 30,
          "profit_mean": 1307.8205999999996,
          "profit_std": 126.70780277048024,
          "s": 10
         },
         {
          "N": 1000,
          "S": 170,
          "lost_mean": 21.344,
          "lost_std": 21.488914291732783,
          "m": 30,
          "profit_mean": 1305.4484999999997,
          "profit_std": 108.11265542948252,
          "s": 15
         },
         {
          "N": 1000,
          "S": 180,
          "lost_mean": 20.943,
          "lost_std": 21.10756452744561,
          "m": 30,
          "profit_mean": 1305.6570000000004,
          "profit_std": 125.59585737750429,
          "s": 15
         },
         {
          "N": 1000,
          "S": 260,
          "lost_mean": 14.833,
          "lost_std": 17.499238107252967,
          "m": 30,
          "profit_mean": 1301.7349999999997,
          "profit_std": 122.84143728283918,
          "s": 15
         },
         {
          "N": 1000,
          "S": 270,
          "lost_mean": 13.069,
          "lost_std": 16.76147923621857,
          "m": 30,
          "profit_mean": 1305.8228000000004,
          "profit_std": 126.716882728895,
          "s": 15
         },
         {
          "N": 1000,
          "S": 180,
          "lost_mean": 14.089,
          "lost_std": 18.273834080783704,
          "m": 30,
          "profit_mean": 1308.7955,
          "profit_std": 106.53378580181626,
          "s": 20
         },
         {
          "N": 1000,
          "S": 270,
          "lost_mean": 9.54,
          "lost_std": 14.915927221761471,
          "m": 30,
          "profit_mean": 1300.4864999999998,
          "profit_std": 123.03880084861143,
          "s": 20
         }
        ]
       },
       "encoding": {
        "color": {
         "field": "s",
         "scale": {
          "scheme": "plasma"
         },
         "type": "quantitative"
        },
        "x": {
         "field": "lost_mean",
         "type": "quantitative"
        },
        "y": {
         "field": "profit_mean",
         "type": "quantitative"
        }
       },
       "mark": "point"
      },
      "image/png": "[encoded data removed]",
      "image/svg+xml": [
       "<?xml version=\"1.0\" encoding=\"utf-8\"?>\n",
       "<!DOCTYPE svg PUBLIC \"-//W3C//DTD SVG 1.1//EN\" \"http://www.w3.org/Graphics/SVG/1.1/DTD/svg11.dtd\">\n",
       "<svg xmlns=\"http://www.w3.org/2000/svg\" xmlns:xlink=\"http://www.w3.org/1999/xlink\" version=\"1.1\" class=\"marks\" width=\"301\" height=\"247\" viewBox=\"0 0 301 247\"><rect width=\"301\" height=\"247\" fill=\"white\"/><g fill=\"none\" stroke-miterlimit=\"10\" transform=\"translate(50,10)\"><g class=\"mark-group role-frame root\" role=\"graphics-object\" aria-roledescription=\"group mark container\"><g transform=\"translate(0,0)\"><path class=\"background\" aria-hidden=\"true\" d=\"M0.5,0.5h200v200h-200Z\" stroke=\"#ddd\"/><g><g class=\"mark-group role-axis\" aria-hidden=\"true\"><g transform=\"translate(0.5,200.5)\"><path class=\"background\" aria-hidden=\"true\" d=\"M0,0h0v0h0Z\" pointer-events=\"none\"/><g><g class=\"mark-rule role-axis-grid\" pointer-events=\"none\"><line transform=\"translate(0,-200)\" x2=\"0\" y2=\"200\" stroke=\"#ddd\" stroke-width=\"1\" opacity=\"1\"/><line transform=\"translate(45,-200)\" x2=\"0\" y2=\"200\" stroke=\"#ddd\" stroke-width=\"1\" opacity=\"1\"/><line transform=\"translate(91,-200)\" x2=\"0\" y2=\"200\" stroke=\"#ddd\" stroke-width=\"1\" opacity=\"1\"/><line transform=\"translate(136,-200)\" x2=\"0\" y2=\"200\" stroke=\"#ddd\" stroke-width=\"1\" opacity=\"1\"/><line transform=\"translate(182,-200)\" x2=\"0\" y2=\"200\" stroke=\"#ddd\" stroke-width=\"1\" opacity=\"1\"/></g></g><path class=\"foreground\" aria-hidden=\"true\" d=\"\" pointer-events=\"none\" display=\"none\"/></g></g><g class=\"mark-group role-axis\" aria-hidden=\"true\"><g transform=\"translate(0.5,0.5)\"><path class=\"background\" aria-hidden=\"true\" d=\"M0,0h0v0h0Z\" pointer-events=\"none\"/><g><g class=\"mark-rule role-axis-grid\" pointer-events=\"none\"><line transform=\"translate(0,200)\" x2=\"200\" y2=\"0\" stroke=\"#ddd\" stroke-width=\"1\" opacity=\"1\"/><line transform=\"translate(0,171)\" x2=\"200\" y2=\"0\" stroke=\"#ddd\" stroke-width=\"1\" opacity=\"1\"/><line transform=\"translate(0,143)\" x2=\"200\" y2=\"0\" stroke=\"#ddd\" stroke-width=\"1\" opacity=\"1\"/><line transform=\"translate(0,114)\" x2=\"200\" y2=\"0\" stroke=\"#ddd\" stroke-width=\"1\" opacity=\"1\"/><line transform=\"translate(0,86)\" x2=\"200\" y2=\"0\" stroke=\"#ddd\" stroke-width=\"1\" opacity=\"1\"/><line transform=\"translate(0,57)\" x2=\"200\" y2=\"0\" stroke=\"#ddd\" stroke-width=\"1\" opacity=\"1\"/><line transform=\"translate(0,29)\" x2=\"200\" y2=\"0\" stroke=\"#ddd\" stroke-width=\"1\" opacity=\"1\"/><line transform=\"translate(0,0)\" x2=\"200\" y2=\"0\" stroke=\"#ddd\" stroke-width=\"1\" opacity=\"1\"/></g></g><path class=\"foreground\" aria-hidden=\"true\" d=\"\" pointer-events=\"none\" display=\"none\"/></g></g><g class=\"mark-group role-axis\" role=\"graphics-symbol\" aria-roledescription=\"axis\" aria-label=\"X-axis titled 'lost_mean' for a linear scale with values from 0 to 22\"><g transform=\"translate(0.5,200.5)\"><path class=\"background\" aria-hidden=\"true\" d=\"M0,0h0v0h0Z\" pointer-events=\"none\"/><g><g class=\"mark-rule role-axis-tick\" pointer-events=\"none\"><line transform=\"translate(0,0)\" x2=\"0\" y2=\"5\" stroke=\"#888\" stroke-width=\"1\" opacity=\"1\"/><line transform=\"translate(45,0)\" x2=\"0\" y2=\"5\" stroke=\"#888\" stroke-width=\"1\" opacity=\"1\"/><line transform=\"translate(91,0)\" x2=\"0\" y2=\"5\" stroke=\"#888\" stroke-width=\"1\" opacity=\"1\"/><line transform=\"translate(136,0)\" x2=\"0\" y2=\"5\" stroke=\"#888\" stroke-width=\"1\" opacity=\"1\"/><line transform=\"translate(182,0)\" x2=\"0\" y2=\"5\" stroke=\"#888\" stroke-width=\"1\" opacity=\"1\"/></g><g class=\"mark-text role-axis-label\" pointer-events=\"none\"><text text-anchor=\"start\" transform=\"translate(0,15)\" font-family=\"sans-serif\" font-size=\"10px\" fill=\"#000\" opacity=\"1\">0</text><text text-anchor=\"middle\" transform=\"translate(45.45454545454545,15)\" font-family=\"sans-serif\" font-size=\"10px\" fill=\"#000\" opacity=\"1\">5</text><text text-anchor=\"middle\" transform=\"translate(90.9090909090909,15)\" font-family=\"sans-serif\" font-size=\"10px\" fill=\"#000\" opacity=\"1\">10</text><text text-anchor=\"middle\" transform=\"translate(136.36363636363635,15)\" font-family=\"sans-serif\" font-size=\"10px\" fill=\"#000\" opacity=\"1\">15</text><text text-anchor=\"middle\" transform=\"translate(181.8181818181818,15)\" font-family=\"sans-serif\" font-size=\"10px\" fill=\"#000\" opacity=\"1\">20</text></g><g class=\"mark-rule role-axis-domain\" pointer-events=\"none\"><line transform=\"translate(0,0)\" x2=\"200\" y2=\"0\" stroke=\"#888\" stroke-width=\"1\" opacity=\"1\"/></g><g class=\"mark-text role-axis-title\" pointer-events=\"none\"><text text-anchor=\"middle\" transform=\"translate(100,30)\" font-family=\"sans-serif\" font-size=\"11px\" font-weight=\"bold\" fill=\"#000\" opacity=\"1\">lost_mean</text></g></g><path class=\"foreground\" aria-hidden=\"true\" d=\"\" pointer-events=\"none\" display=\"none\"/></g></g><g class=\"mark-group role-axis\" role=\"graphics-symbol\" aria-roledescription=\"axis\" aria-label=\"Y-axis titled 'profit_mean' for a linear scale with values from 0 to 1,400\"><g transform=\"translate(0.5,0.5)\"><path class=\"background\" aria-hidden=\"true\" d=\"M0,0h0v0h0Z\" pointer-events=\"none\"/><g><g class=\"mark-rule role-axis-tick\" pointer-events=\"none\"><line transform=\"translate(0,200)\" x2=\"-5\" y2=\"0\" stroke=\"#888\" stroke-width=\"1\" opacity=\"1\"/><line transform=\"translate(0,171)\" x2=\"-5\" y2=\"0\" stroke=\"#888\" stroke-width=\"1\" opacity=\"1\"/><line transform=\"translate(0,143)\" x2=\"-5\" y2=\"0\" stroke=\"#888\" stroke-width=\"1\" opacity=\"1\"/><line transform=\"translate(0,114)\" x2=\"-5\" y2=\"0\" stroke=\"#888\" stroke-width=\"1\" opacity=\"1\"/><line transform=\"translate(0,86)\" x2=\"-5\" y2=\"0\" stroke=\"#888\" stroke-width=\"1\" opacity=\"1\"/><line transform=\"translate(0,57)\" x2=\"-5\" y2=\"0\" stroke=\"#888\" stroke-width=\"1\" opacity=\"1\"/><line transform=\"translate(0,29)\" x2=\"-5\" y2=\"0\" stroke=\"#888\" stroke-width=\"1\" opacity=\"1\"/><line transform=\"translate(0,0)\" x2=\"-5\" y2=\"0\" stroke=\"#888\" stroke-width=\"1\" opacity=\"1\"/></g><g class=\"mark-text role-axis-label\" pointer-events=\"none\"><text text-anchor=\"end\" transform=\"translate(-7,203)\" font-family=\"sans-serif\" font-size=\"10px\" fill=\"#000\" opacity=\"1\">0</text><text text-anchor=\"end\" transform=\"translate(-7,174.42857142857144)\" font-family=\"sans-serif\" font-size=\"10px\" fill=\"#000\" opacity=\"1\">200</text><text text-anchor=\"end\" transform=\"translate(-7,145.85714285714286)\" font-family=\"sans-serif\" font-size=\"10px\" fill=\"#000\" opacity=\"1\">400</text><text text-anchor=\"end\" transform=\"translate(-7,117.28571428571428)\" font-family=\"sans-serif\" font-size=\"10px\" fill=\"#000\" opacity=\"1\">600</text><text text-anchor=\"end\" transform=\"translate(-7,88.71428571428572)\" font-family=\"sans-serif\" font-size=\"10px\" fill=\"#000\" opacity=\"1\">800</text><text text-anchor=\"end\" transform=\"translate(-7,60.14285714285714)\" font-family=\"sans-serif\" font-size=\"10px\" fill=\"#000\" opacity=\"1\">1,000</text><text text-anchor=\"end\" transform=\"translate(-7,31.57142857142858)\" font-family=\"sans-serif\" font-size=\"10px\" fill=\"#000\" opacity=\"1\">1,200</text><text text-anchor=\"end\" transform=\"translate(-7,3)\" font-family=\"sans-serif\" font-size=\"10px\" fill=\"#000\" opacity=\"1\">1,400</text></g><g class=\"mark-rule role-axis-domain\" pointer-events=\"none\"><line transform=\"translate(0,200)\" x2=\"0\" y2=\"-200\" stroke=\"#888\" stroke-width=\"1\" opacity=\"1\"/></g><g class=\"mark-text role-axis-title\" pointer-events=\"none\"><text text-anchor=\"middle\" transform=\"translate(-34,100) rotate(-90) translate(0,-2)\" font-family=\"sans-serif\" font-size=\"11px\" font-weight=\"bold\" fill=\"#000\" opacity=\"1\">profit_mean</text></g></g><path class=\"foreground\" aria-hidden=\"true\" d=\"\" pointer-events=\"none\" display=\"none\"/></g></g><g class=\"mark-symbol role-mark marks\" role=\"graphics-object\" aria-roledescription=\"symbol mark container\"><path aria-label=\"lost_mean: 21.379; profit_mean: 1306.9866; s: 10\" role=\"graphics-symbol\" aria-roledescription=\"point\" transform=\"translate(194.35454545454547,13.2876285714286)\" d=\"M2.7386127875258306,0A2.7386127875258306,2.7386127875258306,0,1,1,-2.7386127875258306,0A2.7386127875258306,2.7386127875258306,0,1,1,2.7386127875258306,0\" stroke=\"rgb(13, 8, 135)\" stroke-width=\"2\" opacity=\"0.7\"/><path aria-label=\"lost_mean: 20.225; profit_mean: 1307.8206; s: 10\" role=\"graphics-symbol\" aria-roledescription=\"point\" transform=\"translate(183.86363636363637,13.168485714285772)\" d=\"M2.7386127875258306,0A2.7386127875258306,2.7386127875258306,0,1,1,-2.7386127875258306,0A2.7386127875258306,2.7386127875258306,0,1,1,2.7386127875258306,0\" stroke=\"rgb(13, 8, 135)\" stroke-width=\"2\" opacity=\"0.7\"/><path aria-label=\"lost_mean: 21.344; profit_mean: 1305.4485; s: 15\" role=\"graphics-symbol\" aria-roledescription=\"point\" transform=\"translate(194.03636363636366,13.50735714285718)\" d=\"M2.7386127875258306,0A2.7386127875258306,2.7386127875258306,0,1,1,-2.7386127875258306,0A2.7386127875258306,2.7386127875258306,0,1,1,2.7386127875258306,0\" stroke=\"rgb(203, 71, 121)\" stroke-width=\"2\" opacity=\"0.7\"/><path aria-label=\"lost_mean: 20.943; profit_mean: 1305.657; s: 15\" role=\"graphics-symbol\" aria-roledescription=\"point\" transform=\"translate(190.3909090909091,13.477571428571377)\" d=\"M2.7386127875258306,0A2.7386127875258306,2.7386127875258306,0,1,1,-2.7386127875258306,0A2.7386127875258306,2.7386127875258306,0,1,1,2.7386127875258306,0\" stroke=\"rgb(203, 71, 121)\" stroke-width=\"2\" opacity=\"0.7\"/><path aria-label=\"lost_mean: 14.833; profit_mean: 1301.735; s: 15\" role=\"graphics-symbol\" aria-roledescription=\"point\" transform=\"translate(134.84545454545454,14.037857142857192)\" d=\"M2.7386127875258306,0A2.7386127875258306,2.7386127875258306,0,1,1,-2.7386127875258306,0A2.7386127875258306,2.7386127875258306,0,1,1,2.7386127875258306,0\" stroke=\"rgb(203, 71, 121)\" stroke-width=\"2\" opacity=\"0.7\"/><path aria-label=\"lost_mean: 13.069; profit_mean: 1305.8228; s: 15\" role=\"graphics-symbol\" aria-roledescription=\"point\" transform=\"translate(118.80909090909091,13.45388571428565)\" d=\"M2.7386127875258306,0A2.7386127875258306,2.7386127875258306,0,1,1,-2.7386127875258306,0A2.7386127875258306,2.7386127875258306,0,1,1,2.7386127875258306,0\" stroke=\"rgb(203, 71, 121)\" stroke-width=\"2\" opacity=\"0.7\"/><path aria-label=\"lost_mean: 14.089; profit_mean: 1308.7955; s: 20\" role=\"graphics-symbol\" aria-roledescription=\"point\" transform=\"translate(128.0818181818182,13.029214285714286)\" d=\"M2.7386127875258306,0A2.7386127875258306,2.7386127875258306,0,1,1,-2.7386127875258306,0A2.7386127875258306,2.7386127875258306,0,1,1,2.7386127875258306,0\" stroke=\"rgb(240, 249, 33)\" stroke-width=\"2\" opacity=\"0.7\"/><path aria-label=\"lost_mean: 9.54; profit_mean: 1300.4865; s: 20\" role=\"graphics-symbol\" aria-roledescription=\"point\" transform=\"translate(86.72727272727272,14.216214285714312)\" d=\"M2.7386127875258306,0A2.7386127875258306,2.7386127875258306,0,1,1,-2.7386127875258306,0A2.7386127875258306,2.7386127875258306,0,1,1,2.7386127875258306,0\" stroke=\"rgb(240, 249, 33)\" stroke-width=\"2\" opacity=\"0.7\"/></g><g class=\"mark-group role-legend\" role=\"graphics-symbol\" aria-roledescription=\"legend\" aria-label=\"Gradient legend titled 's' for stroke color with values from 10 to 20\"><g transform=\"translate(218,0)\"><path class=\"background\" aria-hidden=\"true\" d=\"M0,0h28v216h-28Z\" pointer-events=\"none\"/><g><g class=\"mark-group role-legend-entry\"><g transform=\"translate(0,16)\"><path class=\"background\" aria-hidden=\"true\" d=\"M0,0h0v0h0Z\" pointer-events=\"none\"/><g><g class=\"mark-rect role-legend-gradient\" pointer-events=\"none\"><path d=\"M0,0h16v200h-16Z\" fill=\"url(#gradient_0)\" stroke=\"#ddd\" stroke-width=\"0\" opacity=\"0.7\"/></g><g class=\"mark-text role-legend-label\" pointer-events=\"none\"><text text-anchor=\"start\" transform=\"translate(18,198)\" font-family=\"sans-serif\" font-size=\"10px\" fill=\"#000\" opacity=\"1\">10</text><text text-anchor=\"start\" transform=\"translate(18,163)\" font-family=\"sans-serif\" font-size=\"10px\" fill=\"#000\" opacity=\"1\">12</text><text text-anchor=\"start\" transform=\"translate(18,123)\" font-family=\"sans-serif\" font-size=\"10px\" fill=\"#000\" opacity=\"1\">14</text><text text-anchor=\"start\" transform=\"translate(18,83)\" font-family=\"sans-serif\" font-size=\"10px\" fill=\"#000\" opacity=\"1\">16</text><text text-anchor=\"start\" transform=\"translate(18,42.99999999999999)\" font-family=\"sans-serif\" font-size=\"10px\" fill=\"#000\" opacity=\"1\">18</text><text text-anchor=\"start\" transform=\"translate(18,8)\" font-family=\"sans-serif\" font-size=\"10px\" fill=\"#000\" opacity=\"1\">20</text></g></g><path class=\"foreground\" aria-hidden=\"true\" d=\"\" pointer-events=\"none\" display=\"none\"/></g></g><g class=\"mark-text role-legend-title\" pointer-events=\"none\"><text text-anchor=\"start\" transform=\"translate(0,9)\" font-family=\"sans-serif\" font-size=\"11px\" font-weight=\"bold\" fill=\"#000\" opacity=\"1\">s</text></g></g><path class=\"foreground\" aria-hidden=\"true\" d=\"\" pointer-events=\"none\" display=\"none\"/></g></g></g><path class=\"foreground\" aria-hidden=\"true\" d=\"\" display=\"none\"/></g></g></g><defs><linearGradient id=\"gradient_0\" x1=\"0\" x2=\"0\" y1=\"1\" y2=\"0\"><stop offset=\"0\" stop-color=\"rgb(13, 8, 135)\"/><stop offset=\"0.05\" stop-color=\"rgb(43, 6, 148)\"/><stop offset=\"0.1\" stop-color=\"rgb(66, 3, 157)\"/><stop offset=\"0.15\" stop-color=\"rgb(87, 1, 164)\"/><stop offset=\"0.2\" stop-color=\"rgb(106, 0, 168)\"/><stop offset=\"0.25\" stop-color=\"rgb(126, 3, 168)\"/><stop offset=\"0.3\" stop-color=\"rgb(144, 13, 164)\"/><stop offset=\"0.35\" stop-color=\"rgb(162, 28, 155)\"/><stop offset=\"0.4\" stop-color=\"rgb(177, 42, 144)\"/><stop offset=\"0.45\" stop-color=\"rgb(191, 57, 132)\"/><stop offset=\"0.5\" stop-color=\"rgb(203, 71, 121)\"/><stop offset=\"0.55\" stop-color=\"rgb(215, 86, 109)\"/><stop offset=\"0.6\" stop-color=\"rgb(225, 100, 98)\"/><stop offset=\"0.65\" stop-color=\"rgb(234, 116, 87)\"/><stop offset=\"0.7\" stop-color=\"rgb(242, 131, 76)\"/><stop offset=\"0.75\" stop-color=\"rgb(248, 149, 65)\"/><stop offset=\"0.8\" stop-color=\"rgb(252, 166, 54)\"/><stop offset=\"0.85\" stop-color=\"rgb(254, 186, 44)\"/><stop offset=\"0.9\" stop-color=\"rgb(252, 206, 37)\"/><stop offset=\"0.95\" stop-color=\"rgb(247, 227, 38)\"/><stop offset=\"1\" stop-color=\"rgb(240, 249, 33)\"/></linearGradient></defs></svg>\n"
      ],
      "text/plain": [
       "@vlplot(\n",
       "    mark=\"point\",\n",
       "    encoding={\n",
       "        x={\n",
       "            field=\"lost_mean\"\n",
       "        },\n",
       "        y={\n",
       "            field=\"profit_mean\"\n",
       "        },\n",
       "        color={\n",
       "            scale={\n",
       "                scheme=\"plasma\"\n",
       "            },\n",
       "            field=\"s\"\n",
       "        }\n",
       "    },\n",
       "    data={\n",
       "        values=...\n",
       "    }\n",
       ")"
      ]
     },
     "execution_count": 13,
     "metadata": {},
     "output_type": "execute_result"
    }
   ],
   "source": [
    "using VegaLite\n",
    "filtered_df_1300 = filter(row -> row.profit_mean >= 1300, df)\n",
    "filtered_df_1300 |> @vlplot(:point, x=:lost_mean, y=:profit_mean, color={:s, scale={scheme=:plasma}})"
   ]
  },
  {
   "cell_type": "code",
   "execution_count": 14,
   "metadata": {},
   "outputs": [
    {
     "data": {
      "text/html": [
       "<div><div style = \"float: left;\"><span>8×8 DataFrame</span></div><div style = \"clear: both;\"></div></div><div class = \"data-frame\" style = \"overflow-x: scroll;\"><table class = \"data-frame\" style = \"margin-bottom: 6px;\"><thead><tr class = \"header\"><th class = \"rowNumber\" style = \"font-weight: bold; text-align: right;\">Row</th><th style = \"text-align: left;\">m</th><th style = \"text-align: left;\">s</th><th style = \"text-align: left;\">S</th><th style = \"text-align: left;\">N</th><th style = \"text-align: left;\">profit_mean</th><th style = \"text-align: left;\">profit_std</th><th style = \"text-align: left;\">lost_mean</th><th style = \"text-align: left;\">lost_std</th></tr><tr class = \"subheader headerLastRow\"><th class = \"rowNumber\" style = \"font-weight: bold; text-align: right;\"></th><th title = \"Int64\" style = \"text-align: left;\">Int64</th><th title = \"Int64\" style = \"text-align: left;\">Int64</th><th title = \"Int64\" style = \"text-align: left;\">Int64</th><th title = \"Int64\" style = \"text-align: left;\">Int64</th><th title = \"Float64\" style = \"text-align: left;\">Float64</th><th title = \"Float64\" style = \"text-align: left;\">Float64</th><th title = \"Float64\" style = \"text-align: left;\">Float64</th><th title = \"Float64\" style = \"text-align: left;\">Float64</th></tr></thead><tbody><tr><td class = \"rowNumber\" style = \"font-weight: bold; text-align: right;\">1</td><td style = \"text-align: right;\">30</td><td style = \"text-align: right;\">20</td><td style = \"text-align: right;\">270</td><td style = \"text-align: right;\">1000</td><td style = \"text-align: right;\">1300.49</td><td style = \"text-align: right;\">123.039</td><td style = \"text-align: right;\">9.54</td><td style = \"text-align: right;\">14.9159</td></tr><tr><td class = \"rowNumber\" style = \"font-weight: bold; text-align: right;\">2</td><td style = \"text-align: right;\">30</td><td style = \"text-align: right;\">15</td><td style = \"text-align: right;\">270</td><td style = \"text-align: right;\">1000</td><td style = \"text-align: right;\">1305.82</td><td style = \"text-align: right;\">126.717</td><td style = \"text-align: right;\">13.069</td><td style = \"text-align: right;\">16.7615</td></tr><tr><td class = \"rowNumber\" style = \"font-weight: bold; text-align: right;\">3</td><td style = \"text-align: right;\">30</td><td style = \"text-align: right;\">20</td><td style = \"text-align: right;\">180</td><td style = \"text-align: right;\">1000</td><td style = \"text-align: right;\">1308.8</td><td style = \"text-align: right;\">106.534</td><td style = \"text-align: right;\">14.089</td><td style = \"text-align: right;\">18.2738</td></tr><tr><td class = \"rowNumber\" style = \"font-weight: bold; text-align: right;\">4</td><td style = \"text-align: right;\">30</td><td style = \"text-align: right;\">15</td><td style = \"text-align: right;\">260</td><td style = \"text-align: right;\">1000</td><td style = \"text-align: right;\">1301.73</td><td style = \"text-align: right;\">122.841</td><td style = \"text-align: right;\">14.833</td><td style = \"text-align: right;\">17.4992</td></tr><tr><td class = \"rowNumber\" style = \"font-weight: bold; text-align: right;\">5</td><td style = \"text-align: right;\">30</td><td style = \"text-align: right;\">10</td><td style = \"text-align: right;\">260</td><td style = \"text-align: right;\">1000</td><td style = \"text-align: right;\">1307.82</td><td style = \"text-align: right;\">126.708</td><td style = \"text-align: right;\">20.225</td><td style = \"text-align: right;\">19.7092</td></tr><tr><td class = \"rowNumber\" style = \"font-weight: bold; text-align: right;\">6</td><td style = \"text-align: right;\">30</td><td style = \"text-align: right;\">15</td><td style = \"text-align: right;\">180</td><td style = \"text-align: right;\">1000</td><td style = \"text-align: right;\">1305.66</td><td style = \"text-align: right;\">125.596</td><td style = \"text-align: right;\">20.943</td><td style = \"text-align: right;\">21.1076</td></tr><tr><td class = \"rowNumber\" style = \"font-weight: bold; text-align: right;\">7</td><td style = \"text-align: right;\">30</td><td style = \"text-align: right;\">15</td><td style = \"text-align: right;\">170</td><td style = \"text-align: right;\">1000</td><td style = \"text-align: right;\">1305.45</td><td style = \"text-align: right;\">108.113</td><td style = \"text-align: right;\">21.344</td><td style = \"text-align: right;\">21.4889</td></tr><tr><td class = \"rowNumber\" style = \"font-weight: bold; text-align: right;\">8</td><td style = \"text-align: right;\">30</td><td style = \"text-align: right;\">10</td><td style = \"text-align: right;\">250</td><td style = \"text-align: right;\">1000</td><td style = \"text-align: right;\">1306.99</td><td style = \"text-align: right;\">120.282</td><td style = \"text-align: right;\">21.379</td><td style = \"text-align: right;\">19.5673</td></tr></tbody></table></div>"
      ],
      "text/latex": [
       "\\begin{tabular}{r|cccccccc}\n",
       "\t& m & s & S & N & profit\\_mean & profit\\_std & lost\\_mean & lost\\_std\\\\\n",
       "\t\\hline\n",
       "\t& Int64 & Int64 & Int64 & Int64 & Float64 & Float64 & Float64 & Float64\\\\\n",
       "\t\\hline\n",
       "\t1 & 30 & 20 & 270 & 1000 & 1300.49 & 123.039 & 9.54 & 14.9159 \\\\\n",
       "\t2 & 30 & 15 & 270 & 1000 & 1305.82 & 126.717 & 13.069 & 16.7615 \\\\\n",
       "\t3 & 30 & 20 & 180 & 1000 & 1308.8 & 106.534 & 14.089 & 18.2738 \\\\\n",
       "\t4 & 30 & 15 & 260 & 1000 & 1301.73 & 122.841 & 14.833 & 17.4992 \\\\\n",
       "\t5 & 30 & 10 & 260 & 1000 & 1307.82 & 126.708 & 20.225 & 19.7092 \\\\\n",
       "\t6 & 30 & 15 & 180 & 1000 & 1305.66 & 125.596 & 20.943 & 21.1076 \\\\\n",
       "\t7 & 30 & 15 & 170 & 1000 & 1305.45 & 108.113 & 21.344 & 21.4889 \\\\\n",
       "\t8 & 30 & 10 & 250 & 1000 & 1306.99 & 120.282 & 21.379 & 19.5673 \\\\\n",
       "\\end{tabular}\n"
      ],
      "text/plain": [
       "\u001b[1m8×8 DataFrame\u001b[0m\n",
       "\u001b[1m Row \u001b[0m│\u001b[1m m     \u001b[0m\u001b[1m s     \u001b[0m\u001b[1m S     \u001b[0m\u001b[1m N     \u001b[0m\u001b[1m profit_mean \u001b[0m\u001b[1m profit_std \u001b[0m\u001b[1m lost_mean \u001b[0m\u001b[1m lost_st\u001b[0m ⋯\n",
       "     │\u001b[90m Int64 \u001b[0m\u001b[90m Int64 \u001b[0m\u001b[90m Int64 \u001b[0m\u001b[90m Int64 \u001b[0m\u001b[90m Float64     \u001b[0m\u001b[90m Float64    \u001b[0m\u001b[90m Float64   \u001b[0m\u001b[90m Float64\u001b[0m ⋯\n",
       "─────┼──────────────────────────────────────────────────────────────────────────\n",
       "   1 │    30     20    270   1000      1300.49     123.039      9.54    14.915 ⋯\n",
       "   2 │    30     15    270   1000      1305.82     126.717     13.069   16.761\n",
       "   3 │    30     20    180   1000      1308.8      106.534     14.089   18.273\n",
       "   4 │    30     15    260   1000      1301.73     122.841     14.833   17.499\n",
       "   5 │    30     10    260   1000      1307.82     126.708     20.225   19.709 ⋯\n",
       "   6 │    30     15    180   1000      1305.66     125.596     20.943   21.107\n",
       "   7 │    30     15    170   1000      1305.45     108.113     21.344   21.488\n",
       "   8 │    30     10    250   1000      1306.99     120.282     21.379   19.567\n",
       "\u001b[36m                                                                1 column omitted\u001b[0m"
      ]
     },
     "execution_count": 14,
     "metadata": {},
     "output_type": "execute_result"
    }
   ],
   "source": [
    "sort!(filtered_df_1300, :lost_mean)"
   ]
  },
  {
   "cell_type": "markdown",
   "metadata": {},
   "source": [
    "In the table above, we can see all the best results.  "
   ]
  },
  {
   "cell_type": "code",
   "execution_count": 15,
   "metadata": {},
   "outputs": [
    {
     "name": "stdout",
     "output_type": "stream",
     "text": [
      "Average annual profit = 399.0"
     ]
    }
   ],
   "source": [
    "zysk  = (1308.8 - 1275.55) * 12\n",
    "print(\"Average annual profit = \",zysk)"
   ]
  },
  {
   "cell_type": "code",
   "execution_count": 16,
   "metadata": {},
   "outputs": [
    {
     "name": "stdout",
     "output_type": "stream",
     "text": [
      "Average annual percentage of profit = 2.61%"
     ]
    }
   ],
   "source": [
    "procent = (399 / (1275.55 * 12)) * 100\n",
    "procent = round(procent, digits=2)\n",
    "print(\"Average annual percentage of profit = \", procent, \"%\")"
   ]
  },
  {
   "cell_type": "markdown",
   "metadata": {},
   "source": [
    "Conduct a Sensitivity Analysis: parameter change vs. the optimal solution (RO)\n",
    "- Will a change in a parameter (e.g. increase in product price by 5%/increase in hourly wages ) result in a change in the R.O. or will it still remain the same?\n"
   ]
  },
  {
   "cell_type": "code",
   "execution_count": 17,
   "metadata": {},
   "outputs": [
    {
     "data": {
      "text/plain": [
       "simulateOneRun (generic function with 1 method)"
      ]
     },
     "execution_count": 17,
     "metadata": {},
     "output_type": "execute_result"
    }
   ],
   "source": [
    "Random.seed!(10)\n",
    "using Random\n",
    "using Distributions\n",
    "using Statistics\n",
    "\n",
    "function simulateOneRun(m, s, S;\n",
    "    h = 0.1, #storage cost\n",
    "    c = 4.0, #unit profit\n",
    "    p = 0.75, #probability of delivery\n",
    "    K = 100, # fixed order cost\n",
    "    k = 1.0, # variable order cost\n",
    "    init_S = 100, #initial warehouse level\n",
    "    average_demand = 20)\n",
    "    Xⱼ = init_S\n",
    "    local Yj\n",
    "    profit = 0.0\n",
    "    lost_orders = 0.0\n",
    "    warehouse_levels = Int[]\n",
    "    normal=Distributions.Normal(average_demand,5)\n",
    "    for day in 1:m\n",
    "        if Xⱼ < s\n",
    "            if rand() < p\n",
    "                profit -= K + (S-Xⱼ)*k\n",
    "                Xⱼ = S\n",
    "            end\n",
    "        end\n",
    "        push!(warehouse_levels, Xⱼ)\n",
    "        demand = round.(Int, rand(normal))\n",
    "        sales = min(Xⱼ, demand)\n",
    "        Xⱼ -= sales\n",
    "        @assert Xⱼ >= 0\n",
    "        lost_order = demand - sales # failed to provide  \n",
    "        @assert lost_order >= 0 \n",
    "        profit += sales*c - (Xⱼ-sales)*h\n",
    "        lost_orders += lost_order\n",
    "    end\n",
    "    \n",
    "    (profit=profit, lost_orders=lost_orders,\n",
    "        warehouse_levels=warehouse_levels)\n",
    "end"
   ]
  },
  {
   "cell_type": "code",
   "execution_count": 18,
   "metadata": {},
   "outputs": [
    {
     "data": {
      "image/svg+xml": [
       "<?xml version=\"1.0\" encoding=\"utf-8\"?>\n",
       "<svg xmlns=\"http://www.w3.org/2000/svg\" xmlns:xlink=\"http://www.w3.org/1999/xlink\" width=\"800\" height=\"600\" viewBox=\"0 0 3200 2400\">\n",
       "<defs>\n",
       "  <clipPath id=\"clip120\">\n",
       "    <rect x=\"0\" y=\"0\" width=\"3200\" height=\"2400\"/>\n",
       "  </clipPath>\n",
       "</defs>\n",
       "<path clip-path=\"url(#clip120)\" d=\"M0 2400 L3200 2400 L3200 0 L0 0  Z\" fill=\"#ffffff\" fill-rule=\"evenodd\" fill-opacity=\"1\"/>\n",
       "<defs>\n",
       "  <clipPath id=\"clip121\">\n",
       "    <rect x=\"640\" y=\"0\" width=\"2241\" height=\"2241\"/>\n",
       "  </clipPath>\n",
       "</defs>\n",
       "<path clip-path=\"url(#clip120)\" d=\"M278.227 1004.92 L3152.76 1004.92 L3152.76 131.032 L278.227 131.032  Z\" fill=\"#ffffff\" fill-rule=\"evenodd\" fill-opacity=\"1\"/>\n",
       "<defs>\n",
       "  <clipPath id=\"clip122\">\n",
       "    <rect x=\"278\" y=\"131\" width=\"2876\" height=\"875\"/>\n",
       "  </clipPath>\n",
       "</defs>\n",
       "<polyline clip-path=\"url(#clip122)\" style=\"stroke:#000000; stroke-linecap:round; stroke-linejoin:round; stroke-width:2; stroke-opacity:0.1; fill:none\" points=\"359.582,1004.92 359.582,131.032 \"/>\n",
       "<polyline clip-path=\"url(#clip122)\" style=\"stroke:#000000; stroke-linecap:round; stroke-linejoin:round; stroke-width:2; stroke-opacity:0.1; fill:none\" points=\"1082.73,1004.92 1082.73,131.032 \"/>\n",
       "<polyline clip-path=\"url(#clip122)\" style=\"stroke:#000000; stroke-linecap:round; stroke-linejoin:round; stroke-width:2; stroke-opacity:0.1; fill:none\" points=\"1805.89,1004.92 1805.89,131.032 \"/>\n",
       "<polyline clip-path=\"url(#clip122)\" style=\"stroke:#000000; stroke-linecap:round; stroke-linejoin:round; stroke-width:2; stroke-opacity:0.1; fill:none\" points=\"2529.04,1004.92 2529.04,131.032 \"/>\n",
       "<polyline clip-path=\"url(#clip120)\" style=\"stroke:#000000; stroke-linecap:round; stroke-linejoin:round; stroke-width:4; stroke-opacity:1; fill:none\" points=\"278.227,1004.92 3152.76,1004.92 \"/>\n",
       "<polyline clip-path=\"url(#clip120)\" style=\"stroke:#000000; stroke-linecap:round; stroke-linejoin:round; stroke-width:4; stroke-opacity:1; fill:none\" points=\"359.582,1004.92 359.582,986.022 \"/>\n",
       "<polyline clip-path=\"url(#clip120)\" style=\"stroke:#000000; stroke-linecap:round; stroke-linejoin:round; stroke-width:4; stroke-opacity:1; fill:none\" points=\"1082.73,1004.92 1082.73,986.022 \"/>\n",
       "<polyline clip-path=\"url(#clip120)\" style=\"stroke:#000000; stroke-linecap:round; stroke-linejoin:round; stroke-width:4; stroke-opacity:1; fill:none\" points=\"1805.89,1004.92 1805.89,986.022 \"/>\n",
       "<polyline clip-path=\"url(#clip120)\" style=\"stroke:#000000; stroke-linecap:round; stroke-linejoin:round; stroke-width:4; stroke-opacity:1; fill:none\" points=\"2529.04,1004.92 2529.04,986.022 \"/>\n",
       "<path clip-path=\"url(#clip120)\" d=\"M326.735 1069.78 L334.374 1069.78 L334.374 1043.42 L326.064 1045.09 L326.064 1040.83 L334.327 1039.16 L339.003 1039.16 L339.003 1069.78 L346.642 1069.78 L346.642 1073.72 L326.735 1073.72 L326.735 1069.78 Z\" fill=\"#000000\" fill-rule=\"evenodd\" fill-opacity=\"1\" /><path clip-path=\"url(#clip120)\" d=\"M356.087 1067.84 L360.971 1067.84 L360.971 1073.72 L356.087 1073.72 L356.087 1067.84 Z\" fill=\"#000000\" fill-rule=\"evenodd\" fill-opacity=\"1\" /><path clip-path=\"url(#clip120)\" d=\"M381.156 1042.24 Q377.545 1042.24 375.716 1045.8 Q373.911 1049.34 373.911 1056.47 Q373.911 1063.58 375.716 1067.15 Q377.545 1070.69 381.156 1070.69 Q384.79 1070.69 386.596 1067.15 Q388.424 1063.58 388.424 1056.47 Q388.424 1049.34 386.596 1045.8 Q384.79 1042.24 381.156 1042.24 M381.156 1038.53 Q386.966 1038.53 390.022 1043.14 Q393.1 1047.72 393.1 1056.47 Q393.1 1065.2 390.022 1069.81 Q386.966 1074.39 381.156 1074.39 Q375.346 1074.39 372.267 1069.81 Q369.211 1065.2 369.211 1056.47 Q369.211 1047.72 372.267 1043.14 Q375.346 1038.53 381.156 1038.53 Z\" fill=\"#000000\" fill-rule=\"evenodd\" fill-opacity=\"1\" /><path clip-path=\"url(#clip120)\" d=\"M1050.69 1069.78 L1058.32 1069.78 L1058.32 1043.42 L1050.01 1045.09 L1050.01 1040.83 L1058.28 1039.16 L1062.95 1039.16 L1062.95 1069.78 L1070.59 1069.78 L1070.59 1073.72 L1050.69 1073.72 L1050.69 1069.78 Z\" fill=\"#000000\" fill-rule=\"evenodd\" fill-opacity=\"1\" /><path clip-path=\"url(#clip120)\" d=\"M1080.04 1067.84 L1084.92 1067.84 L1084.92 1073.72 L1080.04 1073.72 L1080.04 1067.84 Z\" fill=\"#000000\" fill-rule=\"evenodd\" fill-opacity=\"1\" /><path clip-path=\"url(#clip120)\" d=\"M1099.13 1069.78 L1115.45 1069.78 L1115.45 1073.72 L1093.51 1073.72 L1093.51 1069.78 Q1096.17 1067.03 1100.75 1062.4 Q1105.36 1057.75 1106.54 1056.41 Q1108.79 1053.88 1109.67 1052.15 Q1110.57 1050.39 1110.57 1048.7 Q1110.57 1045.94 1108.62 1044.21 Q1106.7 1042.47 1103.6 1042.47 Q1101.4 1042.47 1098.95 1043.23 Q1096.52 1044 1093.74 1045.55 L1093.74 1040.83 Q1096.56 1039.69 1099.02 1039.11 Q1101.47 1038.53 1103.51 1038.53 Q1108.88 1038.53 1112.07 1041.22 Q1115.27 1043.91 1115.27 1048.4 Q1115.27 1050.53 1114.46 1052.45 Q1113.67 1054.34 1111.56 1056.94 Q1110.99 1057.61 1107.88 1060.83 Q1104.78 1064.02 1099.13 1069.78 Z\" fill=\"#000000\" fill-rule=\"evenodd\" fill-opacity=\"1\" /><path clip-path=\"url(#clip120)\" d=\"M1772.8 1069.78 L1780.43 1069.78 L1780.43 1043.42 L1772.12 1045.09 L1772.12 1040.83 L1780.39 1039.16 L1785.06 1039.16 L1785.06 1069.78 L1792.7 1069.78 L1792.7 1073.72 L1772.8 1073.72 L1772.8 1069.78 Z\" fill=\"#000000\" fill-rule=\"evenodd\" fill-opacity=\"1\" /><path clip-path=\"url(#clip120)\" d=\"M1802.15 1067.84 L1807.03 1067.84 L1807.03 1073.72 L1802.15 1073.72 L1802.15 1067.84 Z\" fill=\"#000000\" fill-rule=\"evenodd\" fill-opacity=\"1\" /><path clip-path=\"url(#clip120)\" d=\"M1830.06 1043.23 L1818.26 1061.68 L1830.06 1061.68 L1830.06 1043.23 M1828.84 1039.16 L1834.72 1039.16 L1834.72 1061.68 L1839.65 1061.68 L1839.65 1065.57 L1834.72 1065.57 L1834.72 1073.72 L1830.06 1073.72 L1830.06 1065.57 L1814.46 1065.57 L1814.46 1061.06 L1828.84 1039.16 Z\" fill=\"#000000\" fill-rule=\"evenodd\" fill-opacity=\"1\" /><path clip-path=\"url(#clip120)\" d=\"M2496.11 1069.78 L2503.75 1069.78 L2503.75 1043.42 L2495.44 1045.09 L2495.44 1040.83 L2503.7 1039.16 L2508.38 1039.16 L2508.38 1069.78 L2516.02 1069.78 L2516.02 1073.72 L2496.11 1073.72 L2496.11 1069.78 Z\" fill=\"#000000\" fill-rule=\"evenodd\" fill-opacity=\"1\" /><path clip-path=\"url(#clip120)\" d=\"M2525.46 1067.84 L2530.35 1067.84 L2530.35 1073.72 L2525.46 1073.72 L2525.46 1067.84 Z\" fill=\"#000000\" fill-rule=\"evenodd\" fill-opacity=\"1\" /><path clip-path=\"url(#clip120)\" d=\"M2551.11 1054.58 Q2547.96 1054.58 2546.11 1056.73 Q2544.28 1058.88 2544.28 1062.63 Q2544.28 1066.36 2546.11 1068.53 Q2547.96 1070.69 2551.11 1070.69 Q2554.26 1070.69 2556.09 1068.53 Q2557.94 1066.36 2557.94 1062.63 Q2557.94 1058.88 2556.09 1056.73 Q2554.26 1054.58 2551.11 1054.58 M2560.39 1039.92 L2560.39 1044.18 Q2558.63 1043.35 2556.83 1042.91 Q2555.04 1042.47 2553.28 1042.47 Q2548.66 1042.47 2546.2 1045.59 Q2543.77 1048.72 2543.42 1055.04 Q2544.79 1053.03 2546.85 1051.96 Q2548.91 1050.87 2551.39 1050.87 Q2556.6 1050.87 2559.6 1054.04 Q2562.64 1057.19 2562.64 1062.63 Q2562.64 1067.96 2559.49 1071.17 Q2556.34 1074.39 2551.11 1074.39 Q2545.11 1074.39 2541.94 1069.81 Q2538.77 1065.2 2538.77 1056.47 Q2538.77 1048.28 2542.66 1043.42 Q2546.55 1038.53 2553.1 1038.53 Q2554.86 1038.53 2556.64 1038.88 Q2558.45 1039.23 2560.39 1039.92 Z\" fill=\"#000000\" fill-rule=\"evenodd\" fill-opacity=\"1\" /><path clip-path=\"url(#clip120)\" d=\"M1245.42 1117.92 L1245.42 1124.7 Q1242.17 1121.68 1238.48 1120.18 Q1234.82 1118.69 1230.68 1118.69 Q1222.53 1118.69 1218.2 1123.69 Q1213.87 1128.65 1213.87 1138.07 Q1213.87 1147.46 1218.2 1152.46 Q1222.53 1157.42 1230.68 1157.42 Q1234.82 1157.42 1238.48 1155.93 Q1242.17 1154.43 1245.42 1151.41 L1245.42 1158.12 Q1242.04 1160.42 1238.25 1161.56 Q1234.5 1162.71 1230.3 1162.71 Q1219.51 1162.71 1213.3 1156.12 Q1207.09 1149.5 1207.09 1138.07 Q1207.09 1126.61 1213.3 1120.02 Q1219.51 1113.4 1230.3 1113.4 Q1234.56 1113.4 1238.32 1114.55 Q1242.11 1115.66 1245.42 1117.92 Z\" fill=\"#000000\" fill-rule=\"evenodd\" fill-opacity=\"1\" /><path clip-path=\"url(#clip120)\" d=\"M1284.72 1140.27 L1284.72 1161.78 L1278.87 1161.78 L1278.87 1140.46 Q1278.87 1135.4 1276.89 1132.88 Q1274.92 1130.37 1270.97 1130.37 Q1266.23 1130.37 1263.49 1133.39 Q1260.76 1136.42 1260.76 1141.64 L1260.76 1161.78 L1254.87 1161.78 L1254.87 1112.26 L1260.76 1112.26 L1260.76 1131.67 Q1262.86 1128.46 1265.69 1126.87 Q1268.56 1125.28 1272.28 1125.28 Q1278.42 1125.28 1281.57 1129.1 Q1284.72 1132.88 1284.72 1140.27 Z\" fill=\"#000000\" fill-rule=\"evenodd\" fill-opacity=\"1\" /><path clip-path=\"url(#clip120)\" d=\"M1312.61 1143.86 Q1305.51 1143.86 1302.77 1145.49 Q1300.03 1147.11 1300.03 1151.03 Q1300.03 1154.14 1302.07 1155.99 Q1304.14 1157.81 1307.67 1157.81 Q1312.54 1157.81 1315.47 1154.37 Q1318.43 1150.9 1318.43 1145.17 L1318.43 1143.86 L1312.61 1143.86 M1324.29 1141.45 L1324.29 1161.78 L1318.43 1161.78 L1318.43 1156.37 Q1316.43 1159.62 1313.43 1161.18 Q1310.44 1162.71 1306.11 1162.71 Q1300.64 1162.71 1297.39 1159.65 Q1294.18 1156.56 1294.18 1151.41 Q1294.18 1145.39 1298.19 1142.34 Q1302.23 1139.28 1310.22 1139.28 L1318.43 1139.28 L1318.43 1138.71 Q1318.43 1134.67 1315.76 1132.47 Q1313.12 1130.24 1308.31 1130.24 Q1305.25 1130.24 1302.36 1130.97 Q1299.46 1131.71 1296.79 1133.17 L1296.79 1127.76 Q1300 1126.52 1303.03 1125.91 Q1306.05 1125.28 1308.91 1125.28 Q1316.65 1125.28 1320.47 1129.29 Q1324.29 1133.3 1324.29 1141.45 Z\" fill=\"#000000\" fill-rule=\"evenodd\" fill-opacity=\"1\" /><path clip-path=\"url(#clip120)\" d=\"M1365.98 1140.27 L1365.98 1161.78 L1360.13 1161.78 L1360.13 1140.46 Q1360.13 1135.4 1358.15 1132.88 Q1356.18 1130.37 1352.23 1130.37 Q1347.49 1130.37 1344.75 1133.39 Q1342.02 1136.42 1342.02 1141.64 L1342.02 1161.78 L1336.13 1161.78 L1336.13 1126.14 L1342.02 1126.14 L1342.02 1131.67 Q1344.12 1128.46 1346.95 1126.87 Q1349.81 1125.28 1353.54 1125.28 Q1359.68 1125.28 1362.83 1129.1 Q1365.98 1132.88 1365.98 1140.27 Z\" fill=\"#000000\" fill-rule=\"evenodd\" fill-opacity=\"1\" /><path clip-path=\"url(#clip120)\" d=\"M1401.12 1143.55 Q1401.12 1137.18 1398.48 1133.68 Q1395.87 1130.18 1391.13 1130.18 Q1386.42 1130.18 1383.77 1133.68 Q1381.16 1137.18 1381.16 1143.55 Q1381.16 1149.88 1383.77 1153.38 Q1386.42 1156.88 1391.13 1156.88 Q1395.87 1156.88 1398.48 1153.38 Q1401.12 1149.88 1401.12 1143.55 M1406.98 1157.36 Q1406.98 1166.46 1402.94 1170.89 Q1398.89 1175.34 1390.55 1175.34 Q1387.47 1175.34 1384.73 1174.87 Q1381.99 1174.42 1379.41 1173.46 L1379.41 1167.77 Q1381.99 1169.17 1384.51 1169.84 Q1387.02 1170.5 1389.63 1170.5 Q1395.39 1170.5 1398.26 1167.48 Q1401.12 1164.49 1401.12 1158.41 L1401.12 1155.51 Q1399.31 1158.66 1396.47 1160.22 Q1393.64 1161.78 1389.69 1161.78 Q1383.14 1161.78 1379.13 1156.79 Q1375.12 1151.79 1375.12 1143.55 Q1375.12 1135.27 1379.13 1130.27 Q1383.14 1125.28 1389.69 1125.28 Q1393.64 1125.28 1396.47 1126.84 Q1399.31 1128.4 1401.12 1131.55 L1401.12 1126.14 L1406.98 1126.14 L1406.98 1157.36 Z\" fill=\"#000000\" fill-rule=\"evenodd\" fill-opacity=\"1\" /><path clip-path=\"url(#clip120)\" d=\"M1449.53 1142.5 L1449.53 1145.36 L1422.61 1145.36 Q1422.99 1151.41 1426.23 1154.59 Q1429.51 1157.74 1435.34 1157.74 Q1438.71 1157.74 1441.86 1156.91 Q1445.04 1156.09 1448.16 1154.43 L1448.16 1159.97 Q1445.01 1161.31 1441.7 1162.01 Q1438.39 1162.71 1434.99 1162.71 Q1426.46 1162.71 1421.46 1157.74 Q1416.49 1152.78 1416.49 1144.31 Q1416.49 1135.56 1421.2 1130.43 Q1425.95 1125.28 1433.97 1125.28 Q1441.16 1125.28 1445.33 1129.92 Q1449.53 1134.54 1449.53 1142.5 M1443.68 1140.78 Q1443.61 1135.97 1440.97 1133.11 Q1438.36 1130.24 1434.03 1130.24 Q1429.13 1130.24 1426.17 1133.01 Q1423.24 1135.78 1422.8 1140.81 L1443.68 1140.78 Z\" fill=\"#000000\" fill-rule=\"evenodd\" fill-opacity=\"1\" /><path clip-path=\"url(#clip120)\" d=\"M1479.86 1126.14 L1485.72 1126.14 L1485.72 1161.78 L1479.86 1161.78 L1479.86 1126.14 M1479.86 1112.26 L1485.72 1112.26 L1485.72 1119.67 L1479.86 1119.67 L1479.86 1112.26 Z\" fill=\"#000000\" fill-rule=\"evenodd\" fill-opacity=\"1\" /><path clip-path=\"url(#clip120)\" d=\"M1527.61 1140.27 L1527.61 1161.78 L1521.75 1161.78 L1521.75 1140.46 Q1521.75 1135.4 1519.78 1132.88 Q1517.8 1130.37 1513.86 1130.37 Q1509.12 1130.37 1506.38 1133.39 Q1503.64 1136.42 1503.64 1141.64 L1503.64 1161.78 L1497.75 1161.78 L1497.75 1126.14 L1503.64 1126.14 L1503.64 1131.67 Q1505.74 1128.46 1508.57 1126.87 Q1511.44 1125.28 1515.16 1125.28 Q1521.31 1125.28 1524.46 1129.1 Q1527.61 1132.88 1527.61 1140.27 Z\" fill=\"#000000\" fill-rule=\"evenodd\" fill-opacity=\"1\" /><path clip-path=\"url(#clip120)\" d=\"M1565.67 1156.44 L1565.67 1175.34 L1559.79 1175.34 L1559.79 1126.14 L1565.67 1126.14 L1565.67 1131.55 Q1567.52 1128.36 1570.32 1126.84 Q1573.15 1125.28 1577.07 1125.28 Q1583.56 1125.28 1587.6 1130.43 Q1591.68 1135.59 1591.68 1143.99 Q1591.68 1152.39 1587.6 1157.55 Q1583.56 1162.71 1577.07 1162.71 Q1573.15 1162.71 1570.32 1161.18 Q1567.52 1159.62 1565.67 1156.44 M1585.6 1143.99 Q1585.6 1137.53 1582.93 1133.87 Q1580.28 1130.18 1575.64 1130.18 Q1570.99 1130.18 1568.32 1133.87 Q1565.67 1137.53 1565.67 1143.99 Q1565.67 1150.45 1568.32 1154.14 Q1570.99 1157.81 1575.64 1157.81 Q1580.28 1157.81 1582.93 1154.14 Q1585.6 1150.45 1585.6 1143.99 Z\" fill=\"#000000\" fill-rule=\"evenodd\" fill-opacity=\"1\" /><path clip-path=\"url(#clip120)\" d=\"M1622.04 1131.61 Q1621.06 1131.04 1619.88 1130.78 Q1618.73 1130.5 1617.33 1130.5 Q1612.37 1130.5 1609.69 1133.74 Q1607.05 1136.96 1607.05 1143.01 L1607.05 1161.78 L1601.16 1161.78 L1601.16 1126.14 L1607.05 1126.14 L1607.05 1131.67 Q1608.9 1128.43 1611.86 1126.87 Q1614.82 1125.28 1619.05 1125.28 Q1619.66 1125.28 1620.39 1125.37 Q1621.12 1125.44 1622.01 1125.59 L1622.04 1131.61 Z\" fill=\"#000000\" fill-rule=\"evenodd\" fill-opacity=\"1\" /><path clip-path=\"url(#clip120)\" d=\"M1640.57 1130.24 Q1635.86 1130.24 1633.12 1133.93 Q1630.38 1137.59 1630.38 1143.99 Q1630.38 1150.39 1633.09 1154.08 Q1635.82 1157.74 1640.57 1157.74 Q1645.25 1157.74 1647.98 1154.05 Q1650.72 1150.36 1650.72 1143.99 Q1650.72 1137.66 1647.98 1133.97 Q1645.25 1130.24 1640.57 1130.24 M1640.57 1125.28 Q1648.21 1125.28 1652.57 1130.24 Q1656.93 1135.21 1656.93 1143.99 Q1656.93 1152.74 1652.57 1157.74 Q1648.21 1162.71 1640.57 1162.71 Q1632.9 1162.71 1628.54 1157.74 Q1624.21 1152.74 1624.21 1143.99 Q1624.21 1135.21 1628.54 1130.24 Q1632.9 1125.28 1640.57 1125.28 Z\" fill=\"#000000\" fill-rule=\"evenodd\" fill-opacity=\"1\" /><path clip-path=\"url(#clip120)\" d=\"M1684.68 1112.26 L1684.68 1117.13 L1679.08 1117.13 Q1675.93 1117.13 1674.69 1118.4 Q1673.48 1119.67 1673.48 1122.98 L1673.48 1126.14 L1683.12 1126.14 L1683.12 1130.69 L1673.48 1130.69 L1673.48 1161.78 L1667.59 1161.78 L1667.59 1130.69 L1661.99 1130.69 L1661.99 1126.14 L1667.59 1126.14 L1667.59 1123.65 Q1667.59 1117.7 1670.36 1115 Q1673.13 1112.26 1679.14 1112.26 L1684.68 1112.26 Z\" fill=\"#000000\" fill-rule=\"evenodd\" fill-opacity=\"1\" /><path clip-path=\"url(#clip120)\" d=\"M1689.58 1126.14 L1695.44 1126.14 L1695.44 1161.78 L1689.58 1161.78 L1689.58 1126.14 M1689.58 1112.26 L1695.44 1112.26 L1695.44 1119.67 L1689.58 1119.67 L1689.58 1112.26 Z\" fill=\"#000000\" fill-rule=\"evenodd\" fill-opacity=\"1\" /><path clip-path=\"url(#clip120)\" d=\"M1713.49 1116.01 L1713.49 1126.14 L1725.55 1126.14 L1725.55 1130.69 L1713.49 1130.69 L1713.49 1150.04 Q1713.49 1154.4 1714.66 1155.64 Q1715.87 1156.88 1719.53 1156.88 L1725.55 1156.88 L1725.55 1161.78 L1719.53 1161.78 Q1712.75 1161.78 1710.18 1159.27 Q1707.6 1156.72 1707.6 1150.04 L1707.6 1130.69 L1703.3 1130.69 L1703.3 1126.14 L1707.6 1126.14 L1707.6 1116.01 L1713.49 1116.01 Z\" fill=\"#000000\" fill-rule=\"evenodd\" fill-opacity=\"1\" /><path clip-path=\"url(#clip120)\" d=\"M1767.79 1130.24 Q1763.08 1130.24 1760.34 1133.93 Q1757.6 1137.59 1757.6 1143.99 Q1757.6 1150.39 1760.31 1154.08 Q1763.04 1157.74 1767.79 1157.74 Q1772.46 1157.74 1775.2 1154.05 Q1777.94 1150.36 1777.94 1143.99 Q1777.94 1137.66 1775.2 1133.97 Q1772.46 1130.24 1767.79 1130.24 M1767.79 1125.28 Q1775.42 1125.28 1779.79 1130.24 Q1784.15 1135.21 1784.15 1143.99 Q1784.15 1152.74 1779.79 1157.74 Q1775.42 1162.71 1767.79 1162.71 Q1760.12 1162.71 1755.75 1157.74 Q1751.43 1152.74 1751.43 1143.99 Q1751.43 1135.21 1755.75 1130.24 Q1760.12 1125.28 1767.79 1125.28 Z\" fill=\"#000000\" fill-rule=\"evenodd\" fill-opacity=\"1\" /><path clip-path=\"url(#clip120)\" d=\"M1823.49 1140.27 L1823.49 1161.78 L1817.63 1161.78 L1817.63 1140.46 Q1817.63 1135.4 1815.66 1132.88 Q1813.68 1130.37 1809.74 1130.37 Q1804.99 1130.37 1802.26 1133.39 Q1799.52 1136.42 1799.52 1141.64 L1799.52 1161.78 L1793.63 1161.78 L1793.63 1126.14 L1799.52 1126.14 L1799.52 1131.67 Q1801.62 1128.46 1804.45 1126.87 Q1807.32 1125.28 1811.04 1125.28 Q1817.18 1125.28 1820.33 1129.1 Q1823.49 1132.88 1823.49 1140.27 Z\" fill=\"#000000\" fill-rule=\"evenodd\" fill-opacity=\"1\" /><path clip-path=\"url(#clip120)\" d=\"M1878.61 1127.19 L1878.61 1132.72 Q1876.13 1131.45 1873.46 1130.81 Q1870.78 1130.18 1867.92 1130.18 Q1863.56 1130.18 1861.36 1131.51 Q1859.2 1132.85 1859.2 1135.53 Q1859.2 1137.56 1860.76 1138.74 Q1862.32 1139.89 1867.03 1140.94 L1869.03 1141.38 Q1875.27 1142.72 1877.88 1145.17 Q1880.52 1147.59 1880.52 1151.95 Q1880.52 1156.91 1876.58 1159.81 Q1872.66 1162.71 1865.79 1162.71 Q1862.92 1162.71 1859.8 1162.13 Q1856.71 1161.59 1853.28 1160.48 L1853.28 1154.43 Q1856.52 1156.12 1859.67 1156.98 Q1862.83 1157.81 1865.91 1157.81 Q1870.05 1157.81 1872.28 1156.4 Q1874.51 1154.97 1874.51 1152.39 Q1874.51 1150.01 1872.88 1148.73 Q1871.29 1147.46 1865.85 1146.28 L1863.81 1145.81 Q1858.37 1144.66 1855.95 1142.3 Q1853.53 1139.92 1853.53 1135.78 Q1853.53 1130.75 1857.1 1128.01 Q1860.66 1125.28 1867.22 1125.28 Q1870.46 1125.28 1873.33 1125.75 Q1876.19 1126.23 1878.61 1127.19 Z\" fill=\"#000000\" fill-rule=\"evenodd\" fill-opacity=\"1\" /><path clip-path=\"url(#clip120)\" d=\"M1906.05 1143.86 Q1898.95 1143.86 1896.21 1145.49 Q1893.48 1147.11 1893.48 1151.03 Q1893.48 1154.14 1895.51 1155.99 Q1897.58 1157.81 1901.12 1157.81 Q1905.99 1157.81 1908.91 1154.37 Q1911.87 1150.9 1911.87 1145.17 L1911.87 1143.86 L1906.05 1143.86 M1917.73 1141.45 L1917.73 1161.78 L1911.87 1161.78 L1911.87 1156.37 Q1909.87 1159.62 1906.88 1161.18 Q1903.88 1162.71 1899.56 1162.71 Q1894.08 1162.71 1890.84 1159.65 Q1887.62 1156.56 1887.62 1151.41 Q1887.62 1145.39 1891.63 1142.34 Q1895.67 1139.28 1903.66 1139.28 L1911.87 1139.28 L1911.87 1138.71 Q1911.87 1134.67 1909.2 1132.47 Q1906.56 1130.24 1901.75 1130.24 Q1898.7 1130.24 1895.8 1130.97 Q1892.9 1131.71 1890.23 1133.17 L1890.23 1127.76 Q1893.44 1126.52 1896.47 1125.91 Q1899.49 1125.28 1902.36 1125.28 Q1910.09 1125.28 1913.91 1129.29 Q1917.73 1133.3 1917.73 1141.45 Z\" fill=\"#000000\" fill-rule=\"evenodd\" fill-opacity=\"1\" /><path clip-path=\"url(#clip120)\" d=\"M1929.79 1112.26 L1935.65 1112.26 L1935.65 1161.78 L1929.79 1161.78 L1929.79 1112.26 Z\" fill=\"#000000\" fill-rule=\"evenodd\" fill-opacity=\"1\" /><path clip-path=\"url(#clip120)\" d=\"M1978.4 1142.5 L1978.4 1145.36 L1951.47 1145.36 Q1951.85 1151.41 1955.1 1154.59 Q1958.38 1157.74 1964.2 1157.74 Q1967.57 1157.74 1970.72 1156.91 Q1973.91 1156.09 1977.03 1154.43 L1977.03 1159.97 Q1973.88 1161.31 1970.57 1162.01 Q1967.26 1162.71 1963.85 1162.71 Q1955.32 1162.71 1950.32 1157.74 Q1945.36 1152.78 1945.36 1144.31 Q1945.36 1135.56 1950.07 1130.43 Q1954.81 1125.28 1962.83 1125.28 Q1970.02 1125.28 1974.19 1129.92 Q1978.4 1134.54 1978.4 1142.5 M1972.54 1140.78 Q1972.48 1135.97 1969.83 1133.11 Q1967.22 1130.24 1962.89 1130.24 Q1957.99 1130.24 1955.03 1133.01 Q1952.1 1135.78 1951.66 1140.81 L1972.54 1140.78 Z\" fill=\"#000000\" fill-rule=\"evenodd\" fill-opacity=\"1\" /><path clip-path=\"url(#clip120)\" d=\"M2010.73 1127.19 L2010.73 1132.72 Q2008.25 1131.45 2005.58 1130.81 Q2002.9 1130.18 2000.04 1130.18 Q1995.68 1130.18 1993.48 1131.51 Q1991.32 1132.85 1991.32 1135.53 Q1991.32 1137.56 1992.88 1138.74 Q1994.44 1139.89 1999.15 1140.94 L2001.15 1141.38 Q2007.39 1142.72 2010 1145.17 Q2012.64 1147.59 2012.64 1151.95 Q2012.64 1156.91 2008.7 1159.81 Q2004.78 1162.71 1997.91 1162.71 Q1995.04 1162.71 1991.92 1162.13 Q1988.84 1161.59 1985.4 1160.48 L1985.4 1154.43 Q1988.64 1156.12 1991.8 1156.98 Q1994.95 1157.81 1998.03 1157.81 Q2002.17 1157.81 2004.4 1156.4 Q2006.63 1154.97 2006.63 1152.39 Q2006.63 1150.01 2005 1148.73 Q2003.41 1147.46 1997.97 1146.28 L1995.93 1145.81 Q1990.49 1144.66 1988.07 1142.3 Q1985.65 1139.92 1985.65 1135.78 Q1985.65 1130.75 1989.22 1128.01 Q1992.78 1125.28 1999.34 1125.28 Q2002.58 1125.28 2005.45 1125.75 Q2008.31 1126.23 2010.73 1127.19 Z\" fill=\"#000000\" fill-rule=\"evenodd\" fill-opacity=\"1\" /><path clip-path=\"url(#clip120)\" d=\"M2042.69 1126.14 L2048.55 1126.14 L2048.55 1161.78 L2042.69 1161.78 L2042.69 1126.14 M2042.69 1112.26 L2048.55 1112.26 L2048.55 1119.67 L2042.69 1119.67 L2042.69 1112.26 Z\" fill=\"#000000\" fill-rule=\"evenodd\" fill-opacity=\"1\" /><path clip-path=\"url(#clip120)\" d=\"M2090.43 1140.27 L2090.43 1161.78 L2084.58 1161.78 L2084.58 1140.46 Q2084.58 1135.4 2082.6 1132.88 Q2080.63 1130.37 2076.68 1130.37 Q2071.94 1130.37 2069.2 1133.39 Q2066.46 1136.42 2066.46 1141.64 L2066.46 1161.78 L2060.58 1161.78 L2060.58 1126.14 L2066.46 1126.14 L2066.46 1131.67 Q2068.57 1128.46 2071.4 1126.87 Q2074.26 1125.28 2077.99 1125.28 Q2084.13 1125.28 2087.28 1129.1 Q2090.43 1132.88 2090.43 1140.27 Z\" fill=\"#000000\" fill-rule=\"evenodd\" fill-opacity=\"1\" /><path clip-path=\"url(#clip120)\" d=\"M2122.29 1112.26 L2135.79 1112.26 L2135.79 1116.81 L2128.15 1116.81 L2128.15 1165.83 L2135.79 1165.83 L2135.79 1170.38 L2122.29 1170.38 L2122.29 1112.26 Z\" fill=\"#000000\" fill-rule=\"evenodd\" fill-opacity=\"1\" /><path clip-path=\"url(#clip120)\" d=\"M2189.51 1140.87 Q2186.74 1140.87 2185.15 1143.23 Q2183.59 1145.58 2183.59 1149.78 Q2183.59 1153.92 2185.15 1156.31 Q2186.74 1158.66 2189.51 1158.66 Q2192.22 1158.66 2193.78 1156.31 Q2195.37 1153.92 2195.37 1149.78 Q2195.37 1145.61 2193.78 1143.26 Q2192.22 1140.87 2189.51 1140.87 M2189.51 1136.83 Q2194.54 1136.83 2197.5 1140.33 Q2200.46 1143.83 2200.46 1149.78 Q2200.46 1155.74 2197.47 1159.24 Q2194.51 1162.71 2189.51 1162.71 Q2184.42 1162.71 2181.46 1159.24 Q2178.5 1155.74 2178.5 1149.78 Q2178.5 1143.8 2181.46 1140.33 Q2184.45 1136.83 2189.51 1136.83 M2156.67 1117.45 Q2153.93 1117.45 2152.34 1119.83 Q2150.78 1122.19 2150.78 1126.33 Q2150.78 1130.53 2152.34 1132.88 Q2153.9 1135.24 2156.67 1135.24 Q2159.44 1135.24 2161 1132.88 Q2162.59 1130.53 2162.59 1126.33 Q2162.59 1122.22 2161 1119.83 Q2159.4 1117.45 2156.67 1117.45 M2185.41 1113.4 L2190.5 1113.4 L2160.77 1162.71 L2155.68 1162.71 L2185.41 1113.4 M2156.67 1113.4 Q2161.7 1113.4 2164.69 1116.91 Q2167.68 1120.37 2167.68 1126.33 Q2167.68 1132.34 2164.69 1135.81 Q2161.73 1139.28 2156.67 1139.28 Q2151.61 1139.28 2148.65 1135.81 Q2145.72 1132.31 2145.72 1126.33 Q2145.72 1120.41 2148.68 1116.91 Q2151.64 1113.4 2156.67 1113.4 Z\" fill=\"#000000\" fill-rule=\"evenodd\" fill-opacity=\"1\" /><path clip-path=\"url(#clip120)\" d=\"M2223.89 1112.26 L2223.89 1170.38 L2210.39 1170.38 L2210.39 1165.83 L2218 1165.83 L2218 1116.81 L2210.39 1116.81 L2210.39 1112.26 L2223.89 1112.26 Z\" fill=\"#000000\" fill-rule=\"evenodd\" fill-opacity=\"1\" /><polyline clip-path=\"url(#clip122)\" style=\"stroke:#000000; stroke-linecap:round; stroke-linejoin:round; stroke-width:2; stroke-opacity:0.1; fill:none\" points=\"278.227,891.698 3152.76,891.698 \"/>\n",
       "<polyline clip-path=\"url(#clip122)\" style=\"stroke:#000000; stroke-linecap:round; stroke-linejoin:round; stroke-width:2; stroke-opacity:0.1; fill:none\" points=\"278.227,656.635 3152.76,656.635 \"/>\n",
       "<polyline clip-path=\"url(#clip122)\" style=\"stroke:#000000; stroke-linecap:round; stroke-linejoin:round; stroke-width:2; stroke-opacity:0.1; fill:none\" points=\"278.227,421.573 3152.76,421.573 \"/>\n",
       "<polyline clip-path=\"url(#clip122)\" style=\"stroke:#000000; stroke-linecap:round; stroke-linejoin:round; stroke-width:2; stroke-opacity:0.1; fill:none\" points=\"278.227,186.51 3152.76,186.51 \"/>\n",
       "<polyline clip-path=\"url(#clip120)\" style=\"stroke:#000000; stroke-linecap:round; stroke-linejoin:round; stroke-width:4; stroke-opacity:1; fill:none\" points=\"278.227,1004.92 278.227,131.032 \"/>\n",
       "<polyline clip-path=\"url(#clip120)\" style=\"stroke:#000000; stroke-linecap:round; stroke-linejoin:round; stroke-width:4; stroke-opacity:1; fill:none\" points=\"278.227,891.698 297.125,891.698 \"/>\n",
       "<polyline clip-path=\"url(#clip120)\" style=\"stroke:#000000; stroke-linecap:round; stroke-linejoin:round; stroke-width:4; stroke-opacity:1; fill:none\" points=\"278.227,656.635 297.125,656.635 \"/>\n",
       "<polyline clip-path=\"url(#clip120)\" style=\"stroke:#000000; stroke-linecap:round; stroke-linejoin:round; stroke-width:4; stroke-opacity:1; fill:none\" points=\"278.227,421.573 297.125,421.573 \"/>\n",
       "<polyline clip-path=\"url(#clip120)\" style=\"stroke:#000000; stroke-linecap:round; stroke-linejoin:round; stroke-width:4; stroke-opacity:1; fill:none\" points=\"278.227,186.51 297.125,186.51 \"/>\n",
       "<path clip-path=\"url(#clip120)\" d=\"M118.608 905.043 L126.246 905.043 L126.246 878.677 L117.936 880.344 L117.936 876.085 L126.2 874.418 L130.876 874.418 L130.876 905.043 L138.515 905.043 L138.515 908.978 L118.608 908.978 L118.608 905.043 Z\" fill=\"#000000\" fill-rule=\"evenodd\" fill-opacity=\"1\" /><path clip-path=\"url(#clip120)\" d=\"M148.006 874.418 L166.362 874.418 L166.362 878.353 L152.288 878.353 L152.288 886.825 Q153.306 886.478 154.325 886.316 Q155.343 886.131 156.362 886.131 Q162.149 886.131 165.529 889.302 Q168.908 892.473 168.908 897.89 Q168.908 903.469 165.436 906.571 Q161.964 909.649 155.644 909.649 Q153.468 909.649 151.2 909.279 Q148.955 908.909 146.547 908.168 L146.547 903.469 Q148.631 904.603 150.853 905.159 Q153.075 905.714 155.552 905.714 Q159.556 905.714 161.894 903.608 Q164.232 901.501 164.232 897.89 Q164.232 894.279 161.894 892.173 Q159.556 890.066 155.552 890.066 Q153.677 890.066 151.802 890.483 Q149.95 890.899 148.006 891.779 L148.006 874.418 Z\" fill=\"#000000\" fill-rule=\"evenodd\" fill-opacity=\"1\" /><path clip-path=\"url(#clip120)\" d=\"M188.121 877.497 Q184.51 877.497 182.681 881.061 Q180.876 884.603 180.876 891.733 Q180.876 898.839 182.681 902.404 Q184.51 905.946 188.121 905.946 Q191.755 905.946 193.561 902.404 Q195.39 898.839 195.39 891.733 Q195.39 884.603 193.561 881.061 Q191.755 877.497 188.121 877.497 M188.121 873.793 Q193.931 873.793 196.987 878.399 Q200.065 882.983 200.065 891.733 Q200.065 900.459 196.987 905.066 Q193.931 909.649 188.121 909.649 Q182.311 909.649 179.232 905.066 Q176.177 900.459 176.177 891.733 Q176.177 882.983 179.232 878.399 Q182.311 873.793 188.121 873.793 Z\" fill=\"#000000\" fill-rule=\"evenodd\" fill-opacity=\"1\" /><path clip-path=\"url(#clip120)\" d=\"M218.283 877.497 Q214.672 877.497 212.843 881.061 Q211.038 884.603 211.038 891.733 Q211.038 898.839 212.843 902.404 Q214.672 905.946 218.283 905.946 Q221.917 905.946 223.723 902.404 Q225.551 898.839 225.551 891.733 Q225.551 884.603 223.723 881.061 Q221.917 877.497 218.283 877.497 M218.283 873.793 Q224.093 873.793 227.149 878.399 Q230.227 882.983 230.227 891.733 Q230.227 900.459 227.149 905.066 Q224.093 909.649 218.283 909.649 Q212.473 909.649 209.394 905.066 Q206.339 900.459 206.339 891.733 Q206.339 882.983 209.394 878.399 Q212.473 873.793 218.283 873.793 Z\" fill=\"#000000\" fill-rule=\"evenodd\" fill-opacity=\"1\" /><path clip-path=\"url(#clip120)\" d=\"M121.825 669.98 L138.144 669.98 L138.144 673.915 L116.2 673.915 L116.2 669.98 Q118.862 667.226 123.445 662.596 Q128.052 657.943 129.232 656.601 Q131.478 654.077 132.357 652.341 Q133.26 650.582 133.26 648.892 Q133.26 646.138 131.316 644.402 Q129.395 642.665 126.293 642.665 Q124.094 642.665 121.64 643.429 Q119.209 644.193 116.432 645.744 L116.432 641.022 Q119.256 639.888 121.709 639.309 Q124.163 638.73 126.2 638.73 Q131.57 638.73 134.765 641.415 Q137.959 644.101 137.959 648.591 Q137.959 650.721 137.149 652.642 Q136.362 654.54 134.256 657.133 Q133.677 657.804 130.575 661.022 Q127.473 664.216 121.825 669.98 Z\" fill=\"#000000\" fill-rule=\"evenodd\" fill-opacity=\"1\" /><path clip-path=\"url(#clip120)\" d=\"M157.959 642.434 Q154.348 642.434 152.519 645.999 Q150.714 649.54 150.714 656.67 Q150.714 663.776 152.519 667.341 Q154.348 670.883 157.959 670.883 Q161.593 670.883 163.399 667.341 Q165.228 663.776 165.228 656.67 Q165.228 649.54 163.399 645.999 Q161.593 642.434 157.959 642.434 M157.959 638.73 Q163.769 638.73 166.825 643.337 Q169.904 647.92 169.904 656.67 Q169.904 665.397 166.825 670.003 Q163.769 674.587 157.959 674.587 Q152.149 674.587 149.07 670.003 Q146.015 665.397 146.015 656.67 Q146.015 647.92 149.07 643.337 Q152.149 638.73 157.959 638.73 Z\" fill=\"#000000\" fill-rule=\"evenodd\" fill-opacity=\"1\" /><path clip-path=\"url(#clip120)\" d=\"M188.121 642.434 Q184.51 642.434 182.681 645.999 Q180.876 649.54 180.876 656.67 Q180.876 663.776 182.681 667.341 Q184.51 670.883 188.121 670.883 Q191.755 670.883 193.561 667.341 Q195.39 663.776 195.39 656.67 Q195.39 649.54 193.561 645.999 Q191.755 642.434 188.121 642.434 M188.121 638.73 Q193.931 638.73 196.987 643.337 Q200.065 647.92 200.065 656.67 Q200.065 665.397 196.987 670.003 Q193.931 674.587 188.121 674.587 Q182.311 674.587 179.232 670.003 Q176.177 665.397 176.177 656.67 Q176.177 647.92 179.232 643.337 Q182.311 638.73 188.121 638.73 Z\" fill=\"#000000\" fill-rule=\"evenodd\" fill-opacity=\"1\" /><path clip-path=\"url(#clip120)\" d=\"M218.283 642.434 Q214.672 642.434 212.843 645.999 Q211.038 649.54 211.038 656.67 Q211.038 663.776 212.843 667.341 Q214.672 670.883 218.283 670.883 Q221.917 670.883 223.723 667.341 Q225.551 663.776 225.551 656.67 Q225.551 649.54 223.723 645.999 Q221.917 642.434 218.283 642.434 M218.283 638.73 Q224.093 638.73 227.149 643.337 Q230.227 647.92 230.227 656.67 Q230.227 665.397 227.149 670.003 Q224.093 674.587 218.283 674.587 Q212.473 674.587 209.394 670.003 Q206.339 665.397 206.339 656.67 Q206.339 647.92 209.394 643.337 Q212.473 638.73 218.283 638.73 Z\" fill=\"#000000\" fill-rule=\"evenodd\" fill-opacity=\"1\" /><path clip-path=\"url(#clip120)\" d=\"M121.825 434.917 L138.144 434.917 L138.144 438.853 L116.2 438.853 L116.2 434.917 Q118.862 432.163 123.445 427.533 Q128.052 422.88 129.232 421.538 Q131.478 419.015 132.357 417.279 Q133.26 415.519 133.26 413.83 Q133.26 411.075 131.316 409.339 Q129.395 407.603 126.293 407.603 Q124.094 407.603 121.64 408.367 Q119.209 409.131 116.432 410.681 L116.432 405.959 Q119.256 404.825 121.709 404.246 Q124.163 403.668 126.2 403.668 Q131.57 403.668 134.765 406.353 Q137.959 409.038 137.959 413.529 Q137.959 415.658 137.149 417.58 Q136.362 419.478 134.256 422.07 Q133.677 422.742 130.575 425.959 Q127.473 429.154 121.825 434.917 Z\" fill=\"#000000\" fill-rule=\"evenodd\" fill-opacity=\"1\" /><path clip-path=\"url(#clip120)\" d=\"M148.006 404.293 L166.362 404.293 L166.362 408.228 L152.288 408.228 L152.288 416.7 Q153.306 416.353 154.325 416.191 Q155.343 416.006 156.362 416.006 Q162.149 416.006 165.529 419.177 Q168.908 422.348 168.908 427.765 Q168.908 433.343 165.436 436.445 Q161.964 439.524 155.644 439.524 Q153.468 439.524 151.2 439.154 Q148.955 438.783 146.547 438.042 L146.547 433.343 Q148.631 434.478 150.853 435.033 Q153.075 435.589 155.552 435.589 Q159.556 435.589 161.894 433.482 Q164.232 431.376 164.232 427.765 Q164.232 424.154 161.894 422.047 Q159.556 419.941 155.552 419.941 Q153.677 419.941 151.802 420.357 Q149.95 420.774 148.006 421.654 L148.006 404.293 Z\" fill=\"#000000\" fill-rule=\"evenodd\" fill-opacity=\"1\" /><path clip-path=\"url(#clip120)\" d=\"M188.121 407.371 Q184.51 407.371 182.681 410.936 Q180.876 414.478 180.876 421.607 Q180.876 428.714 182.681 432.279 Q184.51 435.82 188.121 435.82 Q191.755 435.82 193.561 432.279 Q195.39 428.714 195.39 421.607 Q195.39 414.478 193.561 410.936 Q191.755 407.371 188.121 407.371 M188.121 403.668 Q193.931 403.668 196.987 408.274 Q200.065 412.857 200.065 421.607 Q200.065 430.334 196.987 434.941 Q193.931 439.524 188.121 439.524 Q182.311 439.524 179.232 434.941 Q176.177 430.334 176.177 421.607 Q176.177 412.857 179.232 408.274 Q182.311 403.668 188.121 403.668 Z\" fill=\"#000000\" fill-rule=\"evenodd\" fill-opacity=\"1\" /><path clip-path=\"url(#clip120)\" d=\"M218.283 407.371 Q214.672 407.371 212.843 410.936 Q211.038 414.478 211.038 421.607 Q211.038 428.714 212.843 432.279 Q214.672 435.82 218.283 435.82 Q221.917 435.82 223.723 432.279 Q225.551 428.714 225.551 421.607 Q225.551 414.478 223.723 410.936 Q221.917 407.371 218.283 407.371 M218.283 403.668 Q224.093 403.668 227.149 408.274 Q230.227 412.857 230.227 421.607 Q230.227 430.334 227.149 434.941 Q224.093 439.524 218.283 439.524 Q212.473 439.524 209.394 434.941 Q206.339 430.334 206.339 421.607 Q206.339 412.857 209.394 408.274 Q212.473 403.668 218.283 403.668 Z\" fill=\"#000000\" fill-rule=\"evenodd\" fill-opacity=\"1\" /><path clip-path=\"url(#clip120)\" d=\"M131.964 185.156 Q135.32 185.873 137.195 188.142 Q139.094 190.41 139.094 193.744 Q139.094 198.859 135.575 201.66 Q132.057 204.461 125.575 204.461 Q123.399 204.461 121.084 204.021 Q118.793 203.605 116.339 202.748 L116.339 198.234 Q118.283 199.369 120.598 199.947 Q122.913 200.526 125.436 200.526 Q129.834 200.526 132.126 198.79 Q134.441 197.054 134.441 193.744 Q134.441 190.688 132.288 188.975 Q130.158 187.239 126.339 187.239 L122.311 187.239 L122.311 183.397 L126.524 183.397 Q129.973 183.397 131.802 182.031 Q133.631 180.642 133.631 178.049 Q133.631 175.387 131.732 173.975 Q129.857 172.54 126.339 172.54 Q124.418 172.54 122.219 172.957 Q120.02 173.373 117.381 174.253 L117.381 170.086 Q120.043 169.346 122.358 168.975 Q124.695 168.605 126.756 168.605 Q132.08 168.605 135.182 171.036 Q138.283 173.443 138.283 177.563 Q138.283 180.434 136.64 182.424 Q134.996 184.392 131.964 185.156 Z\" fill=\"#000000\" fill-rule=\"evenodd\" fill-opacity=\"1\" /><path clip-path=\"url(#clip120)\" d=\"M157.959 172.309 Q154.348 172.309 152.519 175.873 Q150.714 179.415 150.714 186.545 Q150.714 193.651 152.519 197.216 Q154.348 200.758 157.959 200.758 Q161.593 200.758 163.399 197.216 Q165.228 193.651 165.228 186.545 Q165.228 179.415 163.399 175.873 Q161.593 172.309 157.959 172.309 M157.959 168.605 Q163.769 168.605 166.825 173.211 Q169.904 177.795 169.904 186.545 Q169.904 195.271 166.825 199.878 Q163.769 204.461 157.959 204.461 Q152.149 204.461 149.07 199.878 Q146.015 195.271 146.015 186.545 Q146.015 177.795 149.07 173.211 Q152.149 168.605 157.959 168.605 Z\" fill=\"#000000\" fill-rule=\"evenodd\" fill-opacity=\"1\" /><path clip-path=\"url(#clip120)\" d=\"M188.121 172.309 Q184.51 172.309 182.681 175.873 Q180.876 179.415 180.876 186.545 Q180.876 193.651 182.681 197.216 Q184.51 200.758 188.121 200.758 Q191.755 200.758 193.561 197.216 Q195.39 193.651 195.39 186.545 Q195.39 179.415 193.561 175.873 Q191.755 172.309 188.121 172.309 M188.121 168.605 Q193.931 168.605 196.987 173.211 Q200.065 177.795 200.065 186.545 Q200.065 195.271 196.987 199.878 Q193.931 204.461 188.121 204.461 Q182.311 204.461 179.232 199.878 Q176.177 195.271 176.177 186.545 Q176.177 177.795 179.232 173.211 Q182.311 168.605 188.121 168.605 Z\" fill=\"#000000\" fill-rule=\"evenodd\" fill-opacity=\"1\" /><path clip-path=\"url(#clip120)\" d=\"M218.283 172.309 Q214.672 172.309 212.843 175.873 Q211.038 179.415 211.038 186.545 Q211.038 193.651 212.843 197.216 Q214.672 200.758 218.283 200.758 Q221.917 200.758 223.723 197.216 Q225.551 193.651 225.551 186.545 Q225.551 179.415 223.723 175.873 Q221.917 172.309 218.283 172.309 M218.283 168.605 Q224.093 168.605 227.149 173.211 Q230.227 177.795 230.227 186.545 Q230.227 195.271 227.149 199.878 Q224.093 204.461 218.283 204.461 Q212.473 204.461 209.394 199.878 Q206.339 195.271 206.339 186.545 Q206.339 177.795 209.394 173.211 Q212.473 168.605 218.283 168.605 Z\" fill=\"#000000\" fill-rule=\"evenodd\" fill-opacity=\"1\" /><path clip-path=\"url(#clip120)\" d=\"M31.6642 855.77 Q32.3644 853.701 34.6561 851.759 Q36.9477 849.786 40.9581 847.812 L53.9442 841.288 L53.9442 848.194 L41.7538 854.274 Q36.9795 856.629 35.42 858.857 Q33.8604 861.053 33.8604 864.873 L33.8604 871.875 L53.9442 871.875 L53.9442 878.304 L6.42416 878.304 L6.42416 863.79 Q6.42416 855.642 9.82981 851.632 Q13.2355 847.621 20.1104 847.621 Q24.5982 847.621 27.5583 849.722 Q30.5184 851.791 31.6642 855.77 M11.7077 871.875 L28.5768 871.875 L28.5768 863.79 Q28.5768 859.143 26.4443 856.788 Q24.28 854.401 20.1104 854.401 Q15.9409 854.401 13.8402 856.788 Q11.7077 859.143 11.7077 863.79 L11.7077 871.875 Z\" fill=\"#000000\" fill-rule=\"evenodd\" fill-opacity=\"1\" /><path clip-path=\"url(#clip120)\" d=\"M34.6561 805.703 L37.5206 805.703 L37.5206 832.63 Q43.5681 832.248 46.7509 829.002 Q49.9019 825.723 49.9019 819.899 Q49.9019 816.525 49.0744 813.374 Q48.2469 810.191 46.5918 807.072 L52.1299 807.072 Q53.4667 810.223 54.167 813.533 Q54.8672 816.843 54.8672 820.249 Q54.8672 828.779 49.9019 833.776 Q44.9367 838.741 36.4703 838.741 Q27.7174 838.741 22.5931 834.031 Q17.4368 829.288 17.4368 821.267 Q17.4368 814.074 22.0838 809.905 Q26.6989 805.703 34.6561 805.703 M32.9373 811.56 Q28.1312 811.623 25.2666 814.265 Q22.4021 816.875 22.4021 821.204 Q22.4021 826.105 25.1712 829.065 Q27.9402 831.994 32.9692 832.439 L32.9373 811.56 Z\" fill=\"#000000\" fill-rule=\"evenodd\" fill-opacity=\"1\" /><path clip-path=\"url(#clip120)\" d=\"M19.3465 773.366 L24.8847 773.366 Q23.6116 775.848 22.975 778.522 Q22.3384 781.195 22.3384 784.06 Q22.3384 788.42 23.6752 790.617 Q25.012 792.781 27.6856 792.781 Q29.7226 792.781 30.9003 791.221 Q32.0461 789.662 33.0965 784.951 L33.5421 782.946 Q34.8789 776.708 37.3297 774.098 Q39.7486 771.456 44.1091 771.456 Q49.0744 771.456 51.9708 775.403 Q54.8672 779.317 54.8672 786.192 Q54.8672 789.057 54.2943 792.176 Q53.7532 795.264 52.6392 798.701 L46.5918 798.701 Q48.2787 795.455 49.138 792.303 Q49.9656 789.152 49.9656 786.065 Q49.9656 781.927 48.5651 779.699 Q47.1329 777.471 44.5547 777.471 Q42.1676 777.471 40.8945 779.095 Q39.6213 780.686 38.4437 786.129 L37.9662 788.166 Q36.8204 793.608 34.4651 796.027 Q32.078 798.446 27.9402 798.446 Q22.9113 798.446 20.1741 794.882 Q17.4368 791.317 17.4368 784.76 Q17.4368 781.514 17.9143 778.649 Q18.3917 775.784 19.3465 773.366 Z\" fill=\"#000000\" fill-rule=\"evenodd\" fill-opacity=\"1\" /><path clip-path=\"url(#clip120)\" d=\"M39.8759 762.735 L18.2962 762.735 L18.2962 756.878 L39.6531 756.878 Q44.7139 756.878 47.2602 754.905 Q49.7746 752.932 49.7746 748.985 Q49.7746 744.242 46.7509 741.505 Q43.7272 738.736 38.5073 738.736 L18.2962 738.736 L18.2962 732.88 L53.9442 732.88 L53.9442 738.736 L48.4696 738.736 Q51.7162 740.869 53.3076 743.701 Q54.8672 746.502 54.8672 750.226 Q54.8672 756.369 51.0478 759.552 Q47.2283 762.735 39.8759 762.735 M17.4368 747.998 L17.4368 747.998 Z\" fill=\"#000000\" fill-rule=\"evenodd\" fill-opacity=\"1\" /><path clip-path=\"url(#clip120)\" d=\"M4.41896 720.817 L4.41896 714.96 L53.9442 714.96 L53.9442 720.817 L4.41896 720.817 Z\" fill=\"#000000\" fill-rule=\"evenodd\" fill-opacity=\"1\" /><path clip-path=\"url(#clip120)\" d=\"M8.17473 696.913 L18.2962 696.913 L18.2962 684.85 L22.8477 684.85 L22.8477 696.913 L42.1994 696.913 Q46.5599 696.913 47.8013 695.736 Q49.0426 694.526 49.0426 690.866 L49.0426 684.85 L53.9442 684.85 L53.9442 690.866 Q53.9442 697.645 51.4297 700.224 Q48.8834 702.802 42.1994 702.802 L22.8477 702.802 L22.8477 707.099 L18.2962 707.099 L18.2962 702.802 L8.17473 702.802 L8.17473 696.913 Z\" fill=\"#000000\" fill-rule=\"evenodd\" fill-opacity=\"1\" /><path clip-path=\"url(#clip120)\" d=\"M19.3465 654.422 L24.8847 654.422 Q23.6116 656.905 22.975 659.579 Q22.3384 662.252 22.3384 665.117 Q22.3384 669.477 23.6752 671.673 Q25.012 673.838 27.6856 673.838 Q29.7226 673.838 30.9003 672.278 Q32.0461 670.718 33.0965 666.008 L33.5421 664.003 Q34.8789 657.764 37.3297 655.154 Q39.7486 652.513 44.1091 652.513 Q49.0744 652.513 51.9708 656.459 Q54.8672 660.374 54.8672 667.249 Q54.8672 670.114 54.2943 673.233 Q53.7532 676.32 52.6392 679.758 L46.5918 679.758 Q48.2787 676.511 49.138 673.36 Q49.9656 670.209 49.9656 667.122 Q49.9656 662.984 48.5651 660.756 Q47.1329 658.528 44.5547 658.528 Q42.1676 658.528 40.8945 660.151 Q39.6213 661.743 38.4437 667.186 L37.9662 669.223 Q36.8204 674.665 34.4651 677.084 Q32.078 679.503 27.9402 679.503 Q22.9113 679.503 20.1741 675.938 Q17.4368 672.374 17.4368 665.817 Q17.4368 662.57 17.9143 659.706 Q18.3917 656.841 19.3465 654.422 Z\" fill=\"#000000\" fill-rule=\"evenodd\" fill-opacity=\"1\" /><path clip-path=\"url(#clip120)\" d=\"M6.42416 612.059 L6.42416 606.648 L59.9916 623.198 L59.9916 628.609 L6.42416 612.059 Z\" fill=\"#000000\" fill-rule=\"evenodd\" fill-opacity=\"1\" /><path clip-path=\"url(#clip120)\" d=\"M10.7847 560.242 Q10.7847 567.244 16.0045 571.382 Q21.2244 575.488 30.2319 575.488 Q39.2075 575.488 44.4274 571.382 Q49.6473 567.244 49.6473 560.242 Q49.6473 553.239 44.4274 549.165 Q39.2075 545.059 30.2319 545.059 Q21.2244 545.059 16.0045 549.165 Q10.7847 553.239 10.7847 560.242 M5.56479 560.242 Q5.56479 550.247 12.2806 544.264 Q18.9646 538.28 30.2319 538.28 Q41.4674 538.28 48.1832 544.264 Q54.8672 550.247 54.8672 560.242 Q54.8672 570.268 48.1832 576.283 Q41.4992 582.267 30.2319 582.267 Q18.9646 582.267 12.2806 576.283 Q5.56479 570.268 5.56479 560.242 Z\" fill=\"#000000\" fill-rule=\"evenodd\" fill-opacity=\"1\" /><path clip-path=\"url(#clip120)\" d=\"M39.8759 529.082 L18.2962 529.082 L18.2962 523.225 L39.6531 523.225 Q44.7139 523.225 47.2602 521.252 Q49.7746 519.278 49.7746 515.332 Q49.7746 510.589 46.7509 507.852 Q43.7272 505.083 38.5073 505.083 L18.2962 505.083 L18.2962 499.226 L53.9442 499.226 L53.9442 505.083 L48.4696 505.083 Q51.7162 507.215 53.3076 510.048 Q54.8672 512.849 54.8672 516.573 Q54.8672 522.716 51.0478 525.899 Q47.2283 529.082 39.8759 529.082 M17.4368 514.345 L17.4368 514.345 Z\" fill=\"#000000\" fill-rule=\"evenodd\" fill-opacity=\"1\" /><path clip-path=\"url(#clip120)\" d=\"M8.17473 481.371 L18.2962 481.371 L18.2962 469.308 L22.8477 469.308 L22.8477 481.371 L42.1994 481.371 Q46.5599 481.371 47.8013 480.193 Q49.0426 478.983 49.0426 475.323 L49.0426 469.308 L53.9442 469.308 L53.9442 475.323 Q53.9442 482.103 51.4297 484.681 Q48.8834 487.259 42.1994 487.259 L22.8477 487.259 L22.8477 491.556 L18.2962 491.556 L18.2962 487.259 L8.17473 487.259 L8.17473 481.371 Z\" fill=\"#000000\" fill-rule=\"evenodd\" fill-opacity=\"1\" /><path clip-path=\"url(#clip120)\" d=\"M19.6648 435.951 L25.1393 435.951 Q23.7707 438.434 23.1023 440.948 Q22.4021 443.431 22.4021 445.977 Q22.4021 451.675 26.0305 454.826 Q29.6272 457.977 36.152 457.977 Q42.6769 457.977 46.3053 454.826 Q49.9019 451.675 49.9019 445.977 Q49.9019 443.431 49.2335 440.948 Q48.5333 438.434 47.1647 435.951 L52.5755 435.951 Q53.7214 438.402 54.2943 441.044 Q54.8672 443.654 54.8672 446.614 Q54.8672 454.666 49.8064 459.409 Q44.7457 464.151 36.152 464.151 Q27.431 464.151 22.4339 459.377 Q17.4368 454.571 17.4368 446.232 Q17.4368 443.526 18.0097 440.948 Q18.5508 438.37 19.6648 435.951 Z\" fill=\"#000000\" fill-rule=\"evenodd\" fill-opacity=\"1\" /><path clip-path=\"url(#clip120)\" d=\"M22.4021 411.953 Q22.4021 416.663 26.0942 419.4 Q29.7545 422.138 36.152 422.138 Q42.5495 422.138 46.2417 419.432 Q49.9019 416.695 49.9019 411.953 Q49.9019 407.274 46.2098 404.536 Q42.5177 401.799 36.152 401.799 Q29.8181 401.799 26.126 404.536 Q22.4021 407.274 22.4021 411.953 M17.4368 411.953 Q17.4368 404.314 22.4021 399.953 Q27.3673 395.593 36.152 395.593 Q44.9049 395.593 49.9019 399.953 Q54.8672 404.314 54.8672 411.953 Q54.8672 419.623 49.9019 423.984 Q44.9049 428.312 36.152 428.312 Q27.3673 428.312 22.4021 423.984 Q17.4368 419.623 17.4368 411.953 Z\" fill=\"#000000\" fill-rule=\"evenodd\" fill-opacity=\"1\" /><path clip-path=\"url(#clip120)\" d=\"M25.1393 358.13 Q21.1926 355.934 19.3147 352.879 Q17.4368 349.823 17.4368 345.686 Q17.4368 340.116 21.3517 337.092 Q25.2348 334.068 32.4281 334.068 L53.9442 334.068 L53.9442 339.956 L32.619 339.956 Q27.4946 339.956 25.012 341.771 Q22.5294 343.585 22.5294 347.309 Q22.5294 351.86 25.5531 354.502 Q28.5768 357.144 33.7967 357.144 L53.9442 357.144 L53.9442 363.032 L32.619 363.032 Q27.4628 363.032 25.012 364.846 Q22.5294 366.661 22.5294 370.448 Q22.5294 374.936 25.5849 377.578 Q28.6086 380.219 33.7967 380.219 L53.9442 380.219 L53.9442 386.108 L18.2962 386.108 L18.2962 380.219 L23.8344 380.219 Q20.556 378.214 18.9964 375.413 Q17.4368 372.612 17.4368 368.761 Q17.4368 364.878 19.4102 362.173 Q21.3836 359.435 25.1393 358.13 Z\" fill=\"#000000\" fill-rule=\"evenodd\" fill-opacity=\"1\" /><path clip-path=\"url(#clip120)\" d=\"M34.6561 291.895 L37.5206 291.895 L37.5206 318.822 Q43.5681 318.44 46.7509 315.194 Q49.9019 311.915 49.9019 306.091 Q49.9019 302.717 49.0744 299.566 Q48.2469 296.383 46.5918 293.264 L52.1299 293.264 Q53.4667 296.415 54.167 299.725 Q54.8672 303.035 54.8672 306.441 Q54.8672 314.971 49.9019 319.968 Q44.9367 324.933 36.4703 324.933 Q27.7174 324.933 22.5931 320.223 Q17.4368 315.48 17.4368 307.459 Q17.4368 300.266 22.0838 296.097 Q26.6989 291.895 34.6561 291.895 M32.9373 297.752 Q28.1312 297.815 25.2666 300.457 Q22.4021 303.067 22.4021 307.396 Q22.4021 312.297 25.1712 315.257 Q27.9402 318.186 32.9692 318.631 L32.9373 297.752 Z\" fill=\"#000000\" fill-rule=\"evenodd\" fill-opacity=\"1\" /><path clip-path=\"url(#clip120)\" d=\"M19.3465 259.557 L24.8847 259.557 Q23.6116 262.04 22.975 264.714 Q22.3384 267.387 22.3384 270.252 Q22.3384 274.612 23.6752 276.809 Q25.012 278.973 27.6856 278.973 Q29.7226 278.973 30.9003 277.413 Q32.0461 275.854 33.0965 271.143 L33.5421 269.138 Q34.8789 262.899 37.3297 260.29 Q39.7486 257.648 44.1091 257.648 Q49.0744 257.648 51.9708 261.595 Q54.8672 265.509 54.8672 272.384 Q54.8672 275.249 54.2943 278.368 Q53.7532 281.456 52.6392 284.893 L46.5918 284.893 Q48.2787 281.646 49.138 278.495 Q49.9656 275.344 49.9656 272.257 Q49.9656 268.119 48.5651 265.891 Q47.1329 263.663 44.5547 263.663 Q42.1676 263.663 40.8945 265.287 Q39.6213 266.878 38.4437 272.321 L37.9662 274.358 Q36.8204 279.8 34.4651 282.219 Q32.078 284.638 27.9402 284.638 Q22.9113 284.638 20.1741 281.074 Q17.4368 277.509 17.4368 270.952 Q17.4368 267.706 17.9143 264.841 Q18.3917 261.976 19.3465 259.557 Z\" fill=\"#000000\" fill-rule=\"evenodd\" fill-opacity=\"1\" /><path clip-path=\"url(#clip120)\" d=\"M1108.02 16.7545 L1108.02 25.383 Q1103.89 21.5346 1099.19 19.6307 Q1094.53 17.7268 1089.26 17.7268 Q1078.89 17.7268 1073.38 24.0867 Q1067.87 30.4061 1067.87 42.3968 Q1067.87 54.3469 1073.38 60.7069 Q1078.89 67.0263 1089.26 67.0263 Q1094.53 67.0263 1099.19 65.1223 Q1103.89 63.2184 1108.02 59.3701 L1108.02 67.9175 Q1103.72 70.8341 1098.9 72.2924 Q1094.12 73.7508 1088.78 73.7508 Q1075.04 73.7508 1067.14 65.3654 Q1059.25 56.9395 1059.25 42.3968 Q1059.25 27.8135 1067.14 19.4281 Q1075.04 11.0023 1088.78 11.0023 Q1094.2 11.0023 1098.98 12.4606 Q1103.81 13.8784 1108.02 16.7545 Z\" fill=\"#000000\" fill-rule=\"evenodd\" fill-opacity=\"1\" /><path clip-path=\"url(#clip120)\" d=\"M1158.05 45.1919 L1158.05 72.576 L1150.59 72.576 L1150.59 45.4349 Q1150.59 38.994 1148.08 35.7938 Q1145.57 32.5936 1140.55 32.5936 Q1134.51 32.5936 1131.03 36.4419 Q1127.54 40.2903 1127.54 46.9338 L1127.54 72.576 L1120.05 72.576 L1120.05 9.54393 L1127.54 9.54393 L1127.54 34.2544 Q1130.22 30.163 1133.82 28.1376 Q1137.47 26.1121 1142.21 26.1121 Q1150.03 26.1121 1154.04 30.9732 Q1158.05 35.7938 1158.05 45.1919 Z\" fill=\"#000000\" fill-rule=\"evenodd\" fill-opacity=\"1\" /><path clip-path=\"url(#clip120)\" d=\"M1193.53 49.7694 Q1184.5 49.7694 1181.02 51.8354 Q1177.53 53.9013 1177.53 58.8839 Q1177.53 62.8538 1180.12 65.2034 Q1182.76 67.5124 1187.25 67.5124 Q1193.45 67.5124 1197.18 63.1374 Q1200.95 58.7219 1200.95 51.4303 L1200.95 49.7694 L1193.53 49.7694 M1208.4 46.6907 L1208.4 72.576 L1200.95 72.576 L1200.95 65.6895 Q1198.39 69.8214 1194.59 71.8063 Q1190.78 73.7508 1185.27 73.7508 Q1178.3 73.7508 1174.17 69.8619 Q1170.08 65.9325 1170.08 59.3701 Q1170.08 51.7138 1175.18 47.825 Q1180.33 43.9361 1190.49 43.9361 L1200.95 43.9361 L1200.95 43.2069 Q1200.95 38.0623 1197.54 35.2672 Q1194.18 32.4315 1188.06 32.4315 Q1184.18 32.4315 1180.49 33.3632 Q1176.8 34.295 1173.4 36.1584 L1173.4 29.2718 Q1177.49 27.692 1181.34 26.9223 Q1185.19 26.1121 1188.83 26.1121 Q1198.68 26.1121 1203.54 31.2163 Q1208.4 36.3204 1208.4 46.6907 Z\" fill=\"#000000\" fill-rule=\"evenodd\" fill-opacity=\"1\" /><path clip-path=\"url(#clip120)\" d=\"M1250.04 34.1734 Q1248.79 33.4443 1247.29 33.1202 Q1245.83 32.7556 1244.05 32.7556 Q1237.73 32.7556 1234.33 36.8875 Q1230.96 40.9789 1230.96 48.6757 L1230.96 72.576 L1223.47 72.576 L1223.47 27.2059 L1230.96 27.2059 L1230.96 34.2544 Q1233.31 30.1225 1237.08 28.1376 Q1240.85 26.1121 1246.23 26.1121 Q1247 26.1121 1247.94 26.2337 Q1248.87 26.3147 1250 26.5172 L1250.04 34.1734 Z\" fill=\"#000000\" fill-rule=\"evenodd\" fill-opacity=\"1\" /><path clip-path=\"url(#clip120)\" d=\"M1265.23 14.324 L1265.23 27.2059 L1280.59 27.2059 L1280.59 32.9987 L1265.23 32.9987 L1265.23 57.6282 Q1265.23 63.1779 1266.73 64.7578 Q1268.27 66.3376 1272.93 66.3376 L1280.59 66.3376 L1280.59 72.576 L1272.93 72.576 Q1264.3 72.576 1261.02 69.3758 Q1257.74 66.1351 1257.74 57.6282 L1257.74 32.9987 L1252.27 32.9987 L1252.27 27.2059 L1257.74 27.2059 L1257.74 14.324 L1265.23 14.324 Z\" fill=\"#000000\" fill-rule=\"evenodd\" fill-opacity=\"1\" /><path clip-path=\"url(#clip120)\" d=\"M1319.31 28.5427 L1319.31 35.5912 Q1316.15 33.9709 1312.75 33.1607 Q1309.35 32.3505 1305.7 32.3505 Q1300.15 32.3505 1297.36 34.0519 Q1294.6 35.7533 1294.6 39.156 Q1294.6 41.7486 1296.59 43.2475 Q1298.57 44.7058 1304.57 46.0426 L1307.12 46.6097 Q1315.06 48.3111 1318.38 51.4303 Q1321.74 54.509 1321.74 60.0587 Q1321.74 66.3781 1316.72 70.0644 Q1311.74 73.7508 1302.99 73.7508 Q1299.34 73.7508 1295.37 73.0216 Q1291.44 72.3329 1287.07 70.9151 L1287.07 63.2184 Q1291.2 65.3654 1295.21 66.4591 Q1299.22 67.5124 1303.15 67.5124 Q1308.42 67.5124 1311.25 65.73 Q1314.09 63.9071 1314.09 60.6258 Q1314.09 57.5877 1312.02 55.9673 Q1310 54.3469 1303.07 52.8481 L1300.48 52.2405 Q1293.55 50.7821 1290.47 47.7845 Q1287.39 44.7463 1287.39 39.4801 Q1287.39 33.0797 1291.93 29.5959 Q1296.47 26.1121 1304.81 26.1121 Q1308.94 26.1121 1312.59 26.7198 Q1316.23 27.3274 1319.31 28.5427 Z\" fill=\"#000000\" fill-rule=\"evenodd\" fill-opacity=\"1\" /><path clip-path=\"url(#clip120)\" d=\"M1377.57 32.4315 Q1371.57 32.4315 1368.09 37.1306 Q1364.6 41.7891 1364.6 49.9314 Q1364.6 58.0738 1368.05 62.7728 Q1371.53 67.4314 1377.57 67.4314 Q1383.52 67.4314 1387 62.7323 Q1390.49 58.0333 1390.49 49.9314 Q1390.49 41.8701 1387 37.1711 Q1383.52 32.4315 1377.57 32.4315 M1377.57 26.1121 Q1387.29 26.1121 1392.84 32.4315 Q1398.39 38.7509 1398.39 49.9314 Q1398.39 61.0714 1392.84 67.4314 Q1387.29 73.7508 1377.57 73.7508 Q1367.8 73.7508 1362.25 67.4314 Q1356.74 61.0714 1356.74 49.9314 Q1356.74 38.7509 1362.25 32.4315 Q1367.8 26.1121 1377.57 26.1121 Z\" fill=\"#000000\" fill-rule=\"evenodd\" fill-opacity=\"1\" /><path clip-path=\"url(#clip120)\" d=\"M1433.71 9.54393 L1433.71 15.7418 L1426.58 15.7418 Q1422.57 15.7418 1420.99 17.3622 Q1419.45 18.9825 1419.45 23.1955 L1419.45 27.2059 L1431.73 27.2059 L1431.73 32.9987 L1419.45 32.9987 L1419.45 72.576 L1411.96 72.576 L1411.96 32.9987 L1404.83 32.9987 L1404.83 27.2059 L1411.96 27.2059 L1411.96 24.0462 Q1411.96 16.471 1415.48 13.0277 Q1419.01 9.54393 1426.66 9.54393 L1433.71 9.54393 Z\" fill=\"#000000\" fill-rule=\"evenodd\" fill-opacity=\"1\" /><path clip-path=\"url(#clip120)\" d=\"M1498.97 28.9478 L1498.97 35.9153 Q1495.81 34.1734 1492.61 33.3227 Q1489.45 32.4315 1486.21 32.4315 Q1478.96 32.4315 1474.95 37.0496 Q1470.94 41.6271 1470.94 49.9314 Q1470.94 58.2358 1474.95 62.8538 Q1478.96 67.4314 1486.21 67.4314 Q1489.45 67.4314 1492.61 66.5807 Q1495.81 65.6895 1498.97 63.9476 L1498.97 70.8341 Q1495.85 72.2924 1492.49 73.0216 Q1489.17 73.7508 1485.4 73.7508 Q1475.15 73.7508 1469.12 67.3098 Q1463.08 60.8689 1463.08 49.9314 Q1463.08 38.832 1469.16 32.472 Q1475.27 26.1121 1485.89 26.1121 Q1489.33 26.1121 1492.61 26.8413 Q1495.89 27.5299 1498.97 28.9478 Z\" fill=\"#000000\" fill-rule=\"evenodd\" fill-opacity=\"1\" /><path clip-path=\"url(#clip120)\" d=\"M1549.65 45.1919 L1549.65 72.576 L1542.19 72.576 L1542.19 45.4349 Q1542.19 38.994 1539.68 35.7938 Q1537.17 32.5936 1532.15 32.5936 Q1526.11 32.5936 1522.63 36.4419 Q1519.14 40.2903 1519.14 46.9338 L1519.14 72.576 L1511.65 72.576 L1511.65 9.54393 L1519.14 9.54393 L1519.14 34.2544 Q1521.82 30.163 1525.42 28.1376 Q1529.07 26.1121 1533.81 26.1121 Q1541.63 26.1121 1545.64 30.9732 Q1549.65 35.7938 1549.65 45.1919 Z\" fill=\"#000000\" fill-rule=\"evenodd\" fill-opacity=\"1\" /><path clip-path=\"url(#clip120)\" d=\"M1585.13 49.7694 Q1576.1 49.7694 1572.62 51.8354 Q1569.13 53.9013 1569.13 58.8839 Q1569.13 62.8538 1571.73 65.2034 Q1574.36 67.5124 1578.85 67.5124 Q1585.05 67.5124 1588.78 63.1374 Q1592.55 58.7219 1592.55 51.4303 L1592.55 49.7694 L1585.13 49.7694 M1600 46.6907 L1600 72.576 L1592.55 72.576 L1592.55 65.6895 Q1589.99 69.8214 1586.19 71.8063 Q1582.38 73.7508 1576.87 73.7508 Q1569.9 73.7508 1565.77 69.8619 Q1561.68 65.9325 1561.68 59.3701 Q1561.68 51.7138 1566.78 47.825 Q1571.93 43.9361 1582.1 43.9361 L1592.55 43.9361 L1592.55 43.2069 Q1592.55 38.0623 1589.14 35.2672 Q1585.78 32.4315 1579.66 32.4315 Q1575.78 32.4315 1572.09 33.3632 Q1568.4 34.295 1565 36.1584 L1565 29.2718 Q1569.09 27.692 1572.94 26.9223 Q1576.79 26.1121 1580.43 26.1121 Q1590.28 26.1121 1595.14 31.2163 Q1600 36.3204 1600 46.6907 Z\" fill=\"#000000\" fill-rule=\"evenodd\" fill-opacity=\"1\" /><path clip-path=\"url(#clip120)\" d=\"M1653.07 45.1919 L1653.07 72.576 L1645.61 72.576 L1645.61 45.4349 Q1645.61 38.994 1643.1 35.7938 Q1640.59 32.5936 1635.57 32.5936 Q1629.53 32.5936 1626.05 36.4419 Q1622.56 40.2903 1622.56 46.9338 L1622.56 72.576 L1615.07 72.576 L1615.07 27.2059 L1622.56 27.2059 L1622.56 34.2544 Q1625.24 30.163 1628.84 28.1376 Q1632.49 26.1121 1637.23 26.1121 Q1645.05 26.1121 1649.06 30.9732 Q1653.07 35.7938 1653.07 45.1919 Z\" fill=\"#000000\" fill-rule=\"evenodd\" fill-opacity=\"1\" /><path clip-path=\"url(#clip120)\" d=\"M1697.79 49.3643 Q1697.79 41.2625 1694.43 36.8065 Q1691.11 32.3505 1685.07 32.3505 Q1679.07 32.3505 1675.71 36.8065 Q1672.39 41.2625 1672.39 49.3643 Q1672.39 57.4256 1675.71 61.8816 Q1679.07 66.3376 1685.07 66.3376 Q1691.11 66.3376 1694.43 61.8816 Q1697.79 57.4256 1697.79 49.3643 M1705.24 66.9452 Q1705.24 78.5308 1700.1 84.1616 Q1694.95 89.8329 1684.34 89.8329 Q1680.41 89.8329 1676.93 89.2252 Q1673.44 88.6581 1670.16 87.4428 L1670.16 80.1917 Q1673.44 81.9741 1676.64 82.8248 Q1679.84 83.6755 1683.17 83.6755 Q1690.5 83.6755 1694.14 79.8271 Q1697.79 76.0193 1697.79 68.282 L1697.79 64.5957 Q1695.48 68.6061 1691.87 70.5911 Q1688.27 72.576 1683.25 72.576 Q1674.9 72.576 1669.8 66.2161 Q1664.69 59.8562 1664.69 49.3643 Q1664.69 38.832 1669.8 32.472 Q1674.9 26.1121 1683.25 26.1121 Q1688.27 26.1121 1691.87 28.0971 Q1695.48 30.082 1697.79 34.0924 L1697.79 27.2059 L1705.24 27.2059 L1705.24 66.9452 Z\" fill=\"#000000\" fill-rule=\"evenodd\" fill-opacity=\"1\" /><path clip-path=\"url(#clip120)\" d=\"M1759.4 48.0275 L1759.4 51.6733 L1725.13 51.6733 Q1725.62 59.3701 1729.75 63.421 Q1733.92 67.4314 1741.34 67.4314 Q1745.63 67.4314 1749.64 66.3781 Q1753.69 65.3249 1757.66 63.2184 L1757.66 70.267 Q1753.65 71.9684 1749.44 72.8596 Q1745.23 73.7508 1740.89 73.7508 Q1730.03 73.7508 1723.67 67.4314 Q1717.36 61.1119 1717.36 50.3365 Q1717.36 39.1965 1723.35 32.6746 Q1729.39 26.1121 1739.59 26.1121 Q1748.75 26.1121 1754.06 32.0264 Q1759.4 37.9003 1759.4 48.0275 M1751.95 45.84 Q1751.87 39.7232 1748.51 36.0774 Q1745.18 32.4315 1739.68 32.4315 Q1733.44 32.4315 1729.67 35.9558 Q1725.94 39.4801 1725.38 45.8805 L1751.95 45.84 Z\" fill=\"#000000\" fill-rule=\"evenodd\" fill-opacity=\"1\" /><path clip-path=\"url(#clip120)\" d=\"M1800.56 28.5427 L1800.56 35.5912 Q1797.4 33.9709 1794 33.1607 Q1790.6 32.3505 1786.95 32.3505 Q1781.4 32.3505 1778.6 34.0519 Q1775.85 35.7533 1775.85 39.156 Q1775.85 41.7486 1777.84 43.2475 Q1779.82 44.7058 1785.82 46.0426 L1788.37 46.6097 Q1796.31 48.3111 1799.63 51.4303 Q1802.99 54.509 1802.99 60.0587 Q1802.99 66.3781 1797.97 70.0644 Q1792.99 73.7508 1784.24 73.7508 Q1780.59 73.7508 1776.62 73.0216 Q1772.69 72.3329 1768.32 70.9151 L1768.32 63.2184 Q1772.45 65.3654 1776.46 66.4591 Q1780.47 67.5124 1784.4 67.5124 Q1789.66 67.5124 1792.5 65.73 Q1795.33 63.9071 1795.33 60.6258 Q1795.33 57.5877 1793.27 55.9673 Q1791.24 54.3469 1784.32 52.8481 L1781.72 52.2405 Q1774.8 50.7821 1771.72 47.7845 Q1768.64 44.7463 1768.64 39.4801 Q1768.64 33.0797 1773.18 29.5959 Q1777.71 26.1121 1786.06 26.1121 Q1790.19 26.1121 1793.84 26.7198 Q1797.48 27.3274 1800.56 28.5427 Z\" fill=\"#000000\" fill-rule=\"evenodd\" fill-opacity=\"1\" /><path clip-path=\"url(#clip120)\" d=\"M1841.23 27.2059 L1848.69 27.2059 L1848.69 72.576 L1841.23 72.576 L1841.23 27.2059 M1841.23 9.54393 L1848.69 9.54393 L1848.69 18.9825 L1841.23 18.9825 L1841.23 9.54393 Z\" fill=\"#000000\" fill-rule=\"evenodd\" fill-opacity=\"1\" /><path clip-path=\"url(#clip120)\" d=\"M1902 45.1919 L1902 72.576 L1894.54 72.576 L1894.54 45.4349 Q1894.54 38.994 1892.03 35.7938 Q1889.52 32.5936 1884.5 32.5936 Q1878.46 32.5936 1874.98 36.4419 Q1871.49 40.2903 1871.49 46.9338 L1871.49 72.576 L1864 72.576 L1864 27.2059 L1871.49 27.2059 L1871.49 34.2544 Q1874.17 30.163 1877.77 28.1376 Q1881.42 26.1121 1886.16 26.1121 Q1893.97 26.1121 1897.98 30.9732 Q1902 35.7938 1902 45.1919 Z\" fill=\"#000000\" fill-rule=\"evenodd\" fill-opacity=\"1\" /><path clip-path=\"url(#clip120)\" d=\"M1943.23 9.54393 L1950.69 9.54393 L1950.69 72.576 L1943.23 72.576 L1943.23 9.54393 Z\" fill=\"#000000\" fill-rule=\"evenodd\" fill-opacity=\"1\" /><path clip-path=\"url(#clip120)\" d=\"M1983.86 32.4315 Q1977.87 32.4315 1974.38 37.1306 Q1970.9 41.7891 1970.9 49.9314 Q1970.9 58.0738 1974.34 62.7728 Q1977.83 67.4314 1983.86 67.4314 Q1989.82 67.4314 1993.3 62.7323 Q1996.79 58.0333 1996.79 49.9314 Q1996.79 41.8701 1993.3 37.1711 Q1989.82 32.4315 1983.86 32.4315 M1983.86 26.1121 Q1993.59 26.1121 1999.14 32.4315 Q2004.69 38.7509 2004.69 49.9314 Q2004.69 61.0714 1999.14 67.4314 Q1993.59 73.7508 1983.86 73.7508 Q1974.1 73.7508 1968.55 67.4314 Q1963.04 61.0714 1963.04 49.9314 Q1963.04 38.7509 1968.55 32.4315 Q1974.1 26.1121 1983.86 26.1121 Z\" fill=\"#000000\" fill-rule=\"evenodd\" fill-opacity=\"1\" /><path clip-path=\"url(#clip120)\" d=\"M2045.96 28.5427 L2045.96 35.5912 Q2042.8 33.9709 2039.4 33.1607 Q2036 32.3505 2032.35 32.3505 Q2026.8 32.3505 2024.01 34.0519 Q2021.25 35.7533 2021.25 39.156 Q2021.25 41.7486 2023.24 43.2475 Q2025.22 44.7058 2031.22 46.0426 L2033.77 46.6097 Q2041.71 48.3111 2045.03 51.4303 Q2048.39 54.509 2048.39 60.0587 Q2048.39 66.3781 2043.37 70.0644 Q2038.39 73.7508 2029.64 73.7508 Q2025.99 73.7508 2022.02 73.0216 Q2018.09 72.3329 2013.72 70.9151 L2013.72 63.2184 Q2017.85 65.3654 2021.86 66.4591 Q2025.87 67.5124 2029.8 67.5124 Q2035.07 67.5124 2037.9 65.73 Q2040.74 63.9071 2040.74 60.6258 Q2040.74 57.5877 2038.67 55.9673 Q2036.65 54.3469 2029.72 52.8481 L2027.13 52.2405 Q2020.2 50.7821 2017.12 47.7845 Q2014.04 44.7463 2014.04 39.4801 Q2014.04 33.0797 2018.58 29.5959 Q2023.12 26.1121 2031.46 26.1121 Q2035.59 26.1121 2039.24 26.7198 Q2042.89 27.3274 2045.96 28.5427 Z\" fill=\"#000000\" fill-rule=\"evenodd\" fill-opacity=\"1\" /><path clip-path=\"url(#clip120)\" d=\"M2067.64 14.324 L2067.64 27.2059 L2082.99 27.2059 L2082.99 32.9987 L2067.64 32.9987 L2067.64 57.6282 Q2067.64 63.1779 2069.14 64.7578 Q2070.67 66.3376 2075.33 66.3376 L2082.99 66.3376 L2082.99 72.576 L2075.33 72.576 Q2066.71 72.576 2063.42 69.3758 Q2060.14 66.1351 2060.14 57.6282 L2060.14 32.9987 L2054.67 32.9987 L2054.67 27.2059 L2060.14 27.2059 L2060.14 14.324 L2067.64 14.324 Z\" fill=\"#000000\" fill-rule=\"evenodd\" fill-opacity=\"1\" /><path clip-path=\"url(#clip120)\" d=\"M2136.75 32.4315 Q2130.75 32.4315 2127.27 37.1306 Q2123.78 41.7891 2123.78 49.9314 Q2123.78 58.0738 2127.23 62.7728 Q2130.71 67.4314 2136.75 67.4314 Q2142.7 67.4314 2146.18 62.7323 Q2149.67 58.0333 2149.67 49.9314 Q2149.67 41.8701 2146.18 37.1711 Q2142.7 32.4315 2136.75 32.4315 M2136.75 26.1121 Q2146.47 26.1121 2152.02 32.4315 Q2157.57 38.7509 2157.57 49.9314 Q2157.57 61.0714 2152.02 67.4314 Q2146.47 73.7508 2136.75 73.7508 Q2126.98 73.7508 2121.43 67.4314 Q2115.92 61.0714 2115.92 49.9314 Q2115.92 38.7509 2121.43 32.4315 Q2126.98 26.1121 2136.75 26.1121 Z\" fill=\"#000000\" fill-rule=\"evenodd\" fill-opacity=\"1\" /><path clip-path=\"url(#clip120)\" d=\"M2196.21 34.1734 Q2194.96 33.4443 2193.46 33.1202 Q2192 32.7556 2190.22 32.7556 Q2183.9 32.7556 2180.49 36.8875 Q2177.13 40.9789 2177.13 48.6757 L2177.13 72.576 L2169.64 72.576 L2169.64 27.2059 L2177.13 27.2059 L2177.13 34.2544 Q2179.48 30.1225 2183.25 28.1376 Q2187.02 26.1121 2192.4 26.1121 Q2193.17 26.1121 2194.11 26.2337 Q2195.04 26.3147 2196.17 26.5172 L2196.21 34.1734 Z\" fill=\"#000000\" fill-rule=\"evenodd\" fill-opacity=\"1\" /><path clip-path=\"url(#clip120)\" d=\"M2232.43 34.0924 L2232.43 9.54393 L2239.88 9.54393 L2239.88 72.576 L2232.43 72.576 L2232.43 65.7705 Q2230.08 69.8214 2226.47 71.8063 Q2222.91 73.7508 2217.88 73.7508 Q2209.66 73.7508 2204.48 67.1883 Q2199.33 60.6258 2199.33 49.9314 Q2199.33 39.2371 2204.48 32.6746 Q2209.66 26.1121 2217.88 26.1121 Q2222.91 26.1121 2226.47 28.0971 Q2230.08 30.0415 2232.43 34.0924 M2207.03 49.9314 Q2207.03 58.1548 2210.39 62.8538 Q2213.79 67.5124 2219.71 67.5124 Q2225.62 67.5124 2229.02 62.8538 Q2232.43 58.1548 2232.43 49.9314 Q2232.43 41.7081 2229.02 37.0496 Q2225.62 32.3505 2219.71 32.3505 Q2213.79 32.3505 2210.39 37.0496 Q2207.03 41.7081 2207.03 49.9314 Z\" fill=\"#000000\" fill-rule=\"evenodd\" fill-opacity=\"1\" /><path clip-path=\"url(#clip120)\" d=\"M2294.04 48.0275 L2294.04 51.6733 L2259.77 51.6733 Q2260.26 59.3701 2264.39 63.421 Q2268.56 67.4314 2275.97 67.4314 Q2280.27 67.4314 2284.28 66.3781 Q2288.33 65.3249 2292.3 63.2184 L2292.3 70.267 Q2288.29 71.9684 2284.08 72.8596 Q2279.86 73.7508 2275.53 73.7508 Q2264.67 73.7508 2258.31 67.4314 Q2251.99 61.1119 2251.99 50.3365 Q2251.99 39.1965 2257.99 32.6746 Q2264.02 26.1121 2274.23 26.1121 Q2283.39 26.1121 2288.69 32.0264 Q2294.04 37.9003 2294.04 48.0275 M2286.59 45.84 Q2286.51 39.7232 2283.14 36.0774 Q2279.82 32.4315 2274.31 32.4315 Q2268.08 32.4315 2264.31 35.9558 Q2260.58 39.4801 2260.01 45.8805 L2286.59 45.84 Z\" fill=\"#000000\" fill-rule=\"evenodd\" fill-opacity=\"1\" /><path clip-path=\"url(#clip120)\" d=\"M2332.57 34.1734 Q2331.31 33.4443 2329.81 33.1202 Q2328.35 32.7556 2326.57 32.7556 Q2320.25 32.7556 2316.85 36.8875 Q2313.49 40.9789 2313.49 48.6757 L2313.49 72.576 L2305.99 72.576 L2305.99 27.2059 L2313.49 27.2059 L2313.49 34.2544 Q2315.84 30.1225 2319.6 28.1376 Q2323.37 26.1121 2328.76 26.1121 Q2329.53 26.1121 2330.46 26.2337 Q2331.39 26.3147 2332.53 26.5172 L2332.57 34.1734 Z\" fill=\"#000000\" fill-rule=\"evenodd\" fill-opacity=\"1\" /><path clip-path=\"url(#clip120)\" d=\"M2369.31 28.5427 L2369.31 35.5912 Q2366.15 33.9709 2362.75 33.1607 Q2359.34 32.3505 2355.7 32.3505 Q2350.15 32.3505 2347.35 34.0519 Q2344.6 35.7533 2344.6 39.156 Q2344.6 41.7486 2346.58 43.2475 Q2348.57 44.7058 2354.56 46.0426 L2357.11 46.6097 Q2365.05 48.3111 2368.38 51.4303 Q2371.74 54.509 2371.74 60.0587 Q2371.74 66.3781 2366.71 70.0644 Q2361.73 73.7508 2352.98 73.7508 Q2349.34 73.7508 2345.37 73.0216 Q2341.44 72.3329 2337.06 70.9151 L2337.06 63.2184 Q2341.19 65.3654 2345.2 66.4591 Q2349.22 67.5124 2353.14 67.5124 Q2358.41 67.5124 2361.25 65.73 Q2364.08 63.9071 2364.08 60.6258 Q2364.08 57.5877 2362.02 55.9673 Q2359.99 54.3469 2353.06 52.8481 L2350.47 52.2405 Q2343.54 50.7821 2340.47 47.7845 Q2337.39 44.7463 2337.39 39.4801 Q2337.39 33.0797 2341.92 29.5959 Q2346.46 26.1121 2354.81 26.1121 Q2358.94 26.1121 2362.58 26.7198 Q2366.23 27.3274 2369.31 28.5427 Z\" fill=\"#000000\" fill-rule=\"evenodd\" fill-opacity=\"1\" /><polyline clip-path=\"url(#clip122)\" style=\"stroke:#009af9; stroke-linecap:round; stroke-linejoin:round; stroke-width:4; stroke-opacity:1; fill:none\" points=\"359.582,980.187 540.37,924.747 721.158,876.469 1263.52,710.3 2167.46,431.092 3071.4,155.765 \"/>\n",
       "<path clip-path=\"url(#clip120)\" d=\"M374.045 263.842 L779.368 263.842 L779.368 160.162 L374.045 160.162  Z\" fill=\"#ffffff\" fill-rule=\"evenodd\" fill-opacity=\"1\"/>\n",
       "<polyline clip-path=\"url(#clip120)\" style=\"stroke:#000000; stroke-linecap:round; stroke-linejoin:round; stroke-width:4; stroke-opacity:1; fill:none\" points=\"374.045,263.842 779.368,263.842 779.368,160.162 374.045,160.162 374.045,263.842 \"/>\n",
       "<polyline clip-path=\"url(#clip120)\" style=\"stroke:#009af9; stroke-linecap:round; stroke-linejoin:round; stroke-width:4; stroke-opacity:1; fill:none\" points=\"405.984,212.002 597.619,212.002 \"/>\n",
       "<path clip-path=\"url(#clip120)\" d=\"M634.234 198.564 L634.234 211.55 L640.114 211.55 Q643.378 211.55 645.16 209.861 Q646.943 208.171 646.943 205.046 Q646.943 201.944 645.16 200.254 Q643.378 198.564 640.114 198.564 L634.234 198.564 M629.559 194.722 L640.114 194.722 Q645.924 194.722 648.887 197.361 Q651.873 199.976 651.873 205.046 Q651.873 210.161 648.887 212.777 Q645.924 215.393 640.114 215.393 L634.234 215.393 L634.234 229.282 L629.559 229.282 L629.559 194.722 Z\" fill=\"#000000\" fill-rule=\"evenodd\" fill-opacity=\"1\" /><path clip-path=\"url(#clip120)\" d=\"M672.151 207.337 Q671.433 206.921 670.577 206.736 Q669.744 206.527 668.725 206.527 Q665.114 206.527 663.17 208.888 Q661.248 211.226 661.248 215.624 L661.248 229.282 L656.966 229.282 L656.966 203.356 L661.248 203.356 L661.248 207.384 Q662.591 205.023 664.744 203.888 Q666.896 202.731 669.975 202.731 Q670.415 202.731 670.947 202.8 Q671.48 202.847 672.128 202.962 L672.151 207.337 Z\" fill=\"#000000\" fill-rule=\"evenodd\" fill-opacity=\"1\" /><path clip-path=\"url(#clip120)\" d=\"M685.623 206.342 Q682.197 206.342 680.206 209.027 Q678.216 211.689 678.216 216.342 Q678.216 220.995 680.183 223.68 Q682.174 226.342 685.623 226.342 Q689.026 226.342 691.017 223.657 Q693.007 220.972 693.007 216.342 Q693.007 211.736 691.017 209.05 Q689.026 206.342 685.623 206.342 M685.623 202.731 Q691.179 202.731 694.35 206.342 Q697.521 209.953 697.521 216.342 Q697.521 222.708 694.35 226.342 Q691.179 229.953 685.623 229.953 Q680.044 229.953 676.873 226.342 Q673.725 222.708 673.725 216.342 Q673.725 209.953 676.873 206.342 Q680.044 202.731 685.623 202.731 Z\" fill=\"#000000\" fill-rule=\"evenodd\" fill-opacity=\"1\" /><path clip-path=\"url(#clip120)\" d=\"M717.706 193.263 L717.706 196.805 L713.632 196.805 Q711.341 196.805 710.438 197.731 Q709.558 198.657 709.558 201.064 L709.558 203.356 L716.572 203.356 L716.572 206.666 L709.558 206.666 L709.558 229.282 L705.276 229.282 L705.276 206.666 L701.202 206.666 L701.202 203.356 L705.276 203.356 L705.276 201.55 Q705.276 197.222 707.29 195.254 Q709.304 193.263 713.679 193.263 L717.706 193.263 Z\" fill=\"#000000\" fill-rule=\"evenodd\" fill-opacity=\"1\" /><path clip-path=\"url(#clip120)\" d=\"M721.271 203.356 L725.53 203.356 L725.53 229.282 L721.271 229.282 L721.271 203.356 M721.271 193.263 L725.53 193.263 L725.53 198.657 L721.271 198.657 L721.271 193.263 Z\" fill=\"#000000\" fill-rule=\"evenodd\" fill-opacity=\"1\" /><path clip-path=\"url(#clip120)\" d=\"M738.655 195.995 L738.655 203.356 L747.428 203.356 L747.428 206.666 L738.655 206.666 L738.655 220.74 Q738.655 223.911 739.512 224.814 Q740.391 225.717 743.053 225.717 L747.428 225.717 L747.428 229.282 L743.053 229.282 Q738.123 229.282 736.248 227.453 Q734.373 225.601 734.373 220.74 L734.373 206.666 L731.248 206.666 L731.248 203.356 L734.373 203.356 L734.373 195.995 L738.655 195.995 Z\" fill=\"#000000\" fill-rule=\"evenodd\" fill-opacity=\"1\" /><path clip-path=\"url(#clip120)\" d=\"M278.227 2204.92 L3152.76 2204.92 L3152.76 1331.03 L278.227 1331.03  Z\" fill=\"#ffffff\" fill-rule=\"evenodd\" fill-opacity=\"1\"/>\n",
       "<defs>\n",
       "  <clipPath id=\"clip123\">\n",
       "    <rect x=\"278\" y=\"1331\" width=\"2876\" height=\"875\"/>\n",
       "  </clipPath>\n",
       "</defs>\n",
       "<polyline clip-path=\"url(#clip123)\" style=\"stroke:#000000; stroke-linecap:round; stroke-linejoin:round; stroke-width:2; stroke-opacity:0.1; fill:none\" points=\"359.582,2204.92 359.582,1331.03 \"/>\n",
       "<polyline clip-path=\"url(#clip123)\" style=\"stroke:#000000; stroke-linecap:round; stroke-linejoin:round; stroke-width:2; stroke-opacity:0.1; fill:none\" points=\"1082.73,2204.92 1082.73,1331.03 \"/>\n",
       "<polyline clip-path=\"url(#clip123)\" style=\"stroke:#000000; stroke-linecap:round; stroke-linejoin:round; stroke-width:2; stroke-opacity:0.1; fill:none\" points=\"1805.89,2204.92 1805.89,1331.03 \"/>\n",
       "<polyline clip-path=\"url(#clip123)\" style=\"stroke:#000000; stroke-linecap:round; stroke-linejoin:round; stroke-width:2; stroke-opacity:0.1; fill:none\" points=\"2529.04,2204.92 2529.04,1331.03 \"/>\n",
       "<polyline clip-path=\"url(#clip120)\" style=\"stroke:#000000; stroke-linecap:round; stroke-linejoin:round; stroke-width:4; stroke-opacity:1; fill:none\" points=\"278.227,2204.92 3152.76,2204.92 \"/>\n",
       "<polyline clip-path=\"url(#clip120)\" style=\"stroke:#000000; stroke-linecap:round; stroke-linejoin:round; stroke-width:4; stroke-opacity:1; fill:none\" points=\"359.582,2204.92 359.582,2186.02 \"/>\n",
       "<polyline clip-path=\"url(#clip120)\" style=\"stroke:#000000; stroke-linecap:round; stroke-linejoin:round; stroke-width:4; stroke-opacity:1; fill:none\" points=\"1082.73,2204.92 1082.73,2186.02 \"/>\n",
       "<polyline clip-path=\"url(#clip120)\" style=\"stroke:#000000; stroke-linecap:round; stroke-linejoin:round; stroke-width:4; stroke-opacity:1; fill:none\" points=\"1805.89,2204.92 1805.89,2186.02 \"/>\n",
       "<polyline clip-path=\"url(#clip120)\" style=\"stroke:#000000; stroke-linecap:round; stroke-linejoin:round; stroke-width:4; stroke-opacity:1; fill:none\" points=\"2529.04,2204.92 2529.04,2186.02 \"/>\n",
       "<path clip-path=\"url(#clip120)\" d=\"M326.735 2269.78 L334.374 2269.78 L334.374 2243.42 L326.064 2245.09 L326.064 2240.83 L334.327 2239.16 L339.003 2239.16 L339.003 2269.78 L346.642 2269.78 L346.642 2273.72 L326.735 2273.72 L326.735 2269.78 Z\" fill=\"#000000\" fill-rule=\"evenodd\" fill-opacity=\"1\" /><path clip-path=\"url(#clip120)\" d=\"M356.087 2267.84 L360.971 2267.84 L360.971 2273.72 L356.087 2273.72 L356.087 2267.84 Z\" fill=\"#000000\" fill-rule=\"evenodd\" fill-opacity=\"1\" /><path clip-path=\"url(#clip120)\" d=\"M381.156 2242.24 Q377.545 2242.24 375.716 2245.8 Q373.911 2249.34 373.911 2256.47 Q373.911 2263.58 375.716 2267.15 Q377.545 2270.69 381.156 2270.69 Q384.79 2270.69 386.596 2267.15 Q388.424 2263.58 388.424 2256.47 Q388.424 2249.34 386.596 2245.8 Q384.79 2242.24 381.156 2242.24 M381.156 2238.53 Q386.966 2238.53 390.022 2243.14 Q393.1 2247.72 393.1 2256.47 Q393.1 2265.2 390.022 2269.81 Q386.966 2274.39 381.156 2274.39 Q375.346 2274.39 372.267 2269.81 Q369.211 2265.2 369.211 2256.47 Q369.211 2247.72 372.267 2243.14 Q375.346 2238.53 381.156 2238.53 Z\" fill=\"#000000\" fill-rule=\"evenodd\" fill-opacity=\"1\" /><path clip-path=\"url(#clip120)\" d=\"M1050.69 2269.78 L1058.32 2269.78 L1058.32 2243.42 L1050.01 2245.09 L1050.01 2240.83 L1058.28 2239.16 L1062.95 2239.16 L1062.95 2269.78 L1070.59 2269.78 L1070.59 2273.72 L1050.69 2273.72 L1050.69 2269.78 Z\" fill=\"#000000\" fill-rule=\"evenodd\" fill-opacity=\"1\" /><path clip-path=\"url(#clip120)\" d=\"M1080.04 2267.84 L1084.92 2267.84 L1084.92 2273.72 L1080.04 2273.72 L1080.04 2267.84 Z\" fill=\"#000000\" fill-rule=\"evenodd\" fill-opacity=\"1\" /><path clip-path=\"url(#clip120)\" d=\"M1099.13 2269.78 L1115.45 2269.78 L1115.45 2273.72 L1093.51 2273.72 L1093.51 2269.78 Q1096.17 2267.03 1100.75 2262.4 Q1105.36 2257.75 1106.54 2256.41 Q1108.79 2253.88 1109.67 2252.15 Q1110.57 2250.39 1110.57 2248.7 Q1110.57 2245.94 1108.62 2244.21 Q1106.7 2242.47 1103.6 2242.47 Q1101.4 2242.47 1098.95 2243.23 Q1096.52 2244 1093.74 2245.55 L1093.74 2240.83 Q1096.56 2239.69 1099.02 2239.11 Q1101.47 2238.53 1103.51 2238.53 Q1108.88 2238.53 1112.07 2241.22 Q1115.27 2243.91 1115.27 2248.4 Q1115.27 2250.53 1114.46 2252.45 Q1113.67 2254.34 1111.56 2256.94 Q1110.99 2257.61 1107.88 2260.83 Q1104.78 2264.02 1099.13 2269.78 Z\" fill=\"#000000\" fill-rule=\"evenodd\" fill-opacity=\"1\" /><path clip-path=\"url(#clip120)\" d=\"M1772.8 2269.78 L1780.43 2269.78 L1780.43 2243.42 L1772.12 2245.09 L1772.12 2240.83 L1780.39 2239.16 L1785.06 2239.16 L1785.06 2269.78 L1792.7 2269.78 L1792.7 2273.72 L1772.8 2273.72 L1772.8 2269.78 Z\" fill=\"#000000\" fill-rule=\"evenodd\" fill-opacity=\"1\" /><path clip-path=\"url(#clip120)\" d=\"M1802.15 2267.84 L1807.03 2267.84 L1807.03 2273.72 L1802.15 2273.72 L1802.15 2267.84 Z\" fill=\"#000000\" fill-rule=\"evenodd\" fill-opacity=\"1\" /><path clip-path=\"url(#clip120)\" d=\"M1830.06 2243.23 L1818.26 2261.68 L1830.06 2261.68 L1830.06 2243.23 M1828.84 2239.16 L1834.72 2239.16 L1834.72 2261.68 L1839.65 2261.68 L1839.65 2265.57 L1834.72 2265.57 L1834.72 2273.72 L1830.06 2273.72 L1830.06 2265.57 L1814.46 2265.57 L1814.46 2261.06 L1828.84 2239.16 Z\" fill=\"#000000\" fill-rule=\"evenodd\" fill-opacity=\"1\" /><path clip-path=\"url(#clip120)\" d=\"M2496.11 2269.78 L2503.75 2269.78 L2503.75 2243.42 L2495.44 2245.09 L2495.44 2240.83 L2503.7 2239.16 L2508.38 2239.16 L2508.38 2269.78 L2516.02 2269.78 L2516.02 2273.72 L2496.11 2273.72 L2496.11 2269.78 Z\" fill=\"#000000\" fill-rule=\"evenodd\" fill-opacity=\"1\" /><path clip-path=\"url(#clip120)\" d=\"M2525.46 2267.84 L2530.35 2267.84 L2530.35 2273.72 L2525.46 2273.72 L2525.46 2267.84 Z\" fill=\"#000000\" fill-rule=\"evenodd\" fill-opacity=\"1\" /><path clip-path=\"url(#clip120)\" d=\"M2551.11 2254.58 Q2547.96 2254.58 2546.11 2256.73 Q2544.28 2258.88 2544.28 2262.63 Q2544.28 2266.36 2546.11 2268.53 Q2547.96 2270.69 2551.11 2270.69 Q2554.26 2270.69 2556.09 2268.53 Q2557.94 2266.36 2557.94 2262.63 Q2557.94 2258.88 2556.09 2256.73 Q2554.26 2254.58 2551.11 2254.58 M2560.39 2239.92 L2560.39 2244.18 Q2558.63 2243.35 2556.83 2242.91 Q2555.04 2242.47 2553.28 2242.47 Q2548.66 2242.47 2546.2 2245.59 Q2543.77 2248.72 2543.42 2255.04 Q2544.79 2253.03 2546.85 2251.96 Q2548.91 2250.87 2551.39 2250.87 Q2556.6 2250.87 2559.6 2254.04 Q2562.64 2257.19 2562.64 2262.63 Q2562.64 2267.96 2559.49 2271.17 Q2556.34 2274.39 2551.11 2274.39 Q2545.11 2274.39 2541.94 2269.81 Q2538.77 2265.2 2538.77 2256.47 Q2538.77 2248.28 2542.66 2243.42 Q2546.55 2238.53 2553.1 2238.53 Q2554.86 2238.53 2556.64 2238.88 Q2558.45 2239.23 2560.39 2239.92 Z\" fill=\"#000000\" fill-rule=\"evenodd\" fill-opacity=\"1\" /><path clip-path=\"url(#clip120)\" d=\"M1245.42 2317.92 L1245.42 2324.7 Q1242.17 2321.68 1238.48 2320.18 Q1234.82 2318.69 1230.68 2318.69 Q1222.53 2318.69 1218.2 2323.69 Q1213.87 2328.65 1213.87 2338.07 Q1213.87 2347.46 1218.2 2352.46 Q1222.53 2357.42 1230.68 2357.42 Q1234.82 2357.42 1238.48 2355.93 Q1242.17 2354.43 1245.42 2351.41 L1245.42 2358.12 Q1242.04 2360.42 1238.25 2361.56 Q1234.5 2362.71 1230.3 2362.71 Q1219.51 2362.71 1213.3 2356.12 Q1207.09 2349.5 1207.09 2338.07 Q1207.09 2326.61 1213.3 2320.02 Q1219.51 2313.4 1230.3 2313.4 Q1234.56 2313.4 1238.32 2314.55 Q1242.11 2315.66 1245.42 2317.92 Z\" fill=\"#000000\" fill-rule=\"evenodd\" fill-opacity=\"1\" /><path clip-path=\"url(#clip120)\" d=\"M1284.72 2340.27 L1284.72 2361.78 L1278.87 2361.78 L1278.87 2340.46 Q1278.87 2335.4 1276.89 2332.88 Q1274.92 2330.37 1270.97 2330.37 Q1266.23 2330.37 1263.49 2333.39 Q1260.76 2336.42 1260.76 2341.64 L1260.76 2361.78 L1254.87 2361.78 L1254.87 2312.26 L1260.76 2312.26 L1260.76 2331.67 Q1262.86 2328.46 1265.69 2326.87 Q1268.56 2325.28 1272.28 2325.28 Q1278.42 2325.28 1281.57 2329.1 Q1284.72 2332.88 1284.72 2340.27 Z\" fill=\"#000000\" fill-rule=\"evenodd\" fill-opacity=\"1\" /><path clip-path=\"url(#clip120)\" d=\"M1312.61 2343.86 Q1305.51 2343.86 1302.77 2345.49 Q1300.03 2347.11 1300.03 2351.03 Q1300.03 2354.14 1302.07 2355.99 Q1304.14 2357.81 1307.67 2357.81 Q1312.54 2357.81 1315.47 2354.37 Q1318.43 2350.9 1318.43 2345.17 L1318.43 2343.86 L1312.61 2343.86 M1324.29 2341.45 L1324.29 2361.78 L1318.43 2361.78 L1318.43 2356.37 Q1316.43 2359.62 1313.43 2361.18 Q1310.44 2362.71 1306.11 2362.71 Q1300.64 2362.71 1297.39 2359.65 Q1294.18 2356.56 1294.18 2351.41 Q1294.18 2345.39 1298.19 2342.34 Q1302.23 2339.28 1310.22 2339.28 L1318.43 2339.28 L1318.43 2338.71 Q1318.43 2334.67 1315.76 2332.47 Q1313.12 2330.24 1308.31 2330.24 Q1305.25 2330.24 1302.36 2330.97 Q1299.46 2331.71 1296.79 2333.17 L1296.79 2327.76 Q1300 2326.52 1303.03 2325.91 Q1306.05 2325.28 1308.91 2325.28 Q1316.65 2325.28 1320.47 2329.29 Q1324.29 2333.3 1324.29 2341.45 Z\" fill=\"#000000\" fill-rule=\"evenodd\" fill-opacity=\"1\" /><path clip-path=\"url(#clip120)\" d=\"M1365.98 2340.27 L1365.98 2361.78 L1360.13 2361.78 L1360.13 2340.46 Q1360.13 2335.4 1358.15 2332.88 Q1356.18 2330.37 1352.23 2330.37 Q1347.49 2330.37 1344.75 2333.39 Q1342.02 2336.42 1342.02 2341.64 L1342.02 2361.78 L1336.13 2361.78 L1336.13 2326.14 L1342.02 2326.14 L1342.02 2331.67 Q1344.12 2328.46 1346.95 2326.87 Q1349.81 2325.28 1353.54 2325.28 Q1359.68 2325.28 1362.83 2329.1 Q1365.98 2332.88 1365.98 2340.27 Z\" fill=\"#000000\" fill-rule=\"evenodd\" fill-opacity=\"1\" /><path clip-path=\"url(#clip120)\" d=\"M1401.12 2343.55 Q1401.12 2337.18 1398.48 2333.68 Q1395.87 2330.18 1391.13 2330.18 Q1386.42 2330.18 1383.77 2333.68 Q1381.16 2337.18 1381.16 2343.55 Q1381.16 2349.88 1383.77 2353.38 Q1386.42 2356.88 1391.13 2356.88 Q1395.87 2356.88 1398.48 2353.38 Q1401.12 2349.88 1401.12 2343.55 M1406.98 2357.36 Q1406.98 2366.46 1402.94 2370.89 Q1398.89 2375.34 1390.55 2375.34 Q1387.47 2375.34 1384.73 2374.87 Q1381.99 2374.42 1379.41 2373.46 L1379.41 2367.77 Q1381.99 2369.17 1384.51 2369.84 Q1387.02 2370.5 1389.63 2370.5 Q1395.39 2370.5 1398.26 2367.48 Q1401.12 2364.49 1401.12 2358.41 L1401.12 2355.51 Q1399.31 2358.66 1396.47 2360.22 Q1393.64 2361.78 1389.69 2361.78 Q1383.14 2361.78 1379.13 2356.79 Q1375.12 2351.79 1375.12 2343.55 Q1375.12 2335.27 1379.13 2330.27 Q1383.14 2325.28 1389.69 2325.28 Q1393.64 2325.28 1396.47 2326.84 Q1399.31 2328.4 1401.12 2331.55 L1401.12 2326.14 L1406.98 2326.14 L1406.98 2357.36 Z\" fill=\"#000000\" fill-rule=\"evenodd\" fill-opacity=\"1\" /><path clip-path=\"url(#clip120)\" d=\"M1449.53 2342.5 L1449.53 2345.36 L1422.61 2345.36 Q1422.99 2351.41 1426.23 2354.59 Q1429.51 2357.74 1435.34 2357.74 Q1438.71 2357.74 1441.86 2356.91 Q1445.04 2356.09 1448.16 2354.43 L1448.16 2359.97 Q1445.01 2361.31 1441.7 2362.01 Q1438.39 2362.71 1434.99 2362.71 Q1426.46 2362.71 1421.46 2357.74 Q1416.49 2352.78 1416.49 2344.31 Q1416.49 2335.56 1421.2 2330.43 Q1425.95 2325.28 1433.97 2325.28 Q1441.16 2325.28 1445.33 2329.92 Q1449.53 2334.54 1449.53 2342.5 M1443.68 2340.78 Q1443.61 2335.97 1440.97 2333.11 Q1438.36 2330.24 1434.03 2330.24 Q1429.13 2330.24 1426.17 2333.01 Q1423.24 2335.78 1422.8 2340.81 L1443.68 2340.78 Z\" fill=\"#000000\" fill-rule=\"evenodd\" fill-opacity=\"1\" /><path clip-path=\"url(#clip120)\" d=\"M1479.86 2326.14 L1485.72 2326.14 L1485.72 2361.78 L1479.86 2361.78 L1479.86 2326.14 M1479.86 2312.26 L1485.72 2312.26 L1485.72 2319.67 L1479.86 2319.67 L1479.86 2312.26 Z\" fill=\"#000000\" fill-rule=\"evenodd\" fill-opacity=\"1\" /><path clip-path=\"url(#clip120)\" d=\"M1527.61 2340.27 L1527.61 2361.78 L1521.75 2361.78 L1521.75 2340.46 Q1521.75 2335.4 1519.78 2332.88 Q1517.8 2330.37 1513.86 2330.37 Q1509.12 2330.37 1506.38 2333.39 Q1503.64 2336.42 1503.64 2341.64 L1503.64 2361.78 L1497.75 2361.78 L1497.75 2326.14 L1503.64 2326.14 L1503.64 2331.67 Q1505.74 2328.46 1508.57 2326.87 Q1511.44 2325.28 1515.16 2325.28 Q1521.31 2325.28 1524.46 2329.1 Q1527.61 2332.88 1527.61 2340.27 Z\" fill=\"#000000\" fill-rule=\"evenodd\" fill-opacity=\"1\" /><path clip-path=\"url(#clip120)\" d=\"M1565.67 2356.44 L1565.67 2375.34 L1559.79 2375.34 L1559.79 2326.14 L1565.67 2326.14 L1565.67 2331.55 Q1567.52 2328.36 1570.32 2326.84 Q1573.15 2325.28 1577.07 2325.28 Q1583.56 2325.28 1587.6 2330.43 Q1591.68 2335.59 1591.68 2343.99 Q1591.68 2352.39 1587.6 2357.55 Q1583.56 2362.71 1577.07 2362.71 Q1573.15 2362.71 1570.32 2361.18 Q1567.52 2359.62 1565.67 2356.44 M1585.6 2343.99 Q1585.6 2337.53 1582.93 2333.87 Q1580.28 2330.18 1575.64 2330.18 Q1570.99 2330.18 1568.32 2333.87 Q1565.67 2337.53 1565.67 2343.99 Q1565.67 2350.45 1568.32 2354.14 Q1570.99 2357.81 1575.64 2357.81 Q1580.28 2357.81 1582.93 2354.14 Q1585.6 2350.45 1585.6 2343.99 Z\" fill=\"#000000\" fill-rule=\"evenodd\" fill-opacity=\"1\" /><path clip-path=\"url(#clip120)\" d=\"M1622.04 2331.61 Q1621.06 2331.04 1619.88 2330.78 Q1618.73 2330.5 1617.33 2330.5 Q1612.37 2330.5 1609.69 2333.74 Q1607.05 2336.96 1607.05 2343.01 L1607.05 2361.78 L1601.16 2361.78 L1601.16 2326.14 L1607.05 2326.14 L1607.05 2331.67 Q1608.9 2328.43 1611.86 2326.87 Q1614.82 2325.28 1619.05 2325.28 Q1619.66 2325.28 1620.39 2325.37 Q1621.12 2325.44 1622.01 2325.59 L1622.04 2331.61 Z\" fill=\"#000000\" fill-rule=\"evenodd\" fill-opacity=\"1\" /><path clip-path=\"url(#clip120)\" d=\"M1640.57 2330.24 Q1635.86 2330.24 1633.12 2333.93 Q1630.38 2337.59 1630.38 2343.99 Q1630.38 2350.39 1633.09 2354.08 Q1635.82 2357.74 1640.57 2357.74 Q1645.25 2357.74 1647.98 2354.05 Q1650.72 2350.36 1650.72 2343.99 Q1650.72 2337.66 1647.98 2333.97 Q1645.25 2330.24 1640.57 2330.24 M1640.57 2325.28 Q1648.21 2325.28 1652.57 2330.24 Q1656.93 2335.21 1656.93 2343.99 Q1656.93 2352.74 1652.57 2357.74 Q1648.21 2362.71 1640.57 2362.71 Q1632.9 2362.71 1628.54 2357.74 Q1624.21 2352.74 1624.21 2343.99 Q1624.21 2335.21 1628.54 2330.24 Q1632.9 2325.28 1640.57 2325.28 Z\" fill=\"#000000\" fill-rule=\"evenodd\" fill-opacity=\"1\" /><path clip-path=\"url(#clip120)\" d=\"M1684.68 2312.26 L1684.68 2317.13 L1679.08 2317.13 Q1675.93 2317.13 1674.69 2318.4 Q1673.48 2319.67 1673.48 2322.98 L1673.48 2326.14 L1683.12 2326.14 L1683.12 2330.69 L1673.48 2330.69 L1673.48 2361.78 L1667.59 2361.78 L1667.59 2330.69 L1661.99 2330.69 L1661.99 2326.14 L1667.59 2326.14 L1667.59 2323.65 Q1667.59 2317.7 1670.36 2315 Q1673.13 2312.26 1679.14 2312.26 L1684.68 2312.26 Z\" fill=\"#000000\" fill-rule=\"evenodd\" fill-opacity=\"1\" /><path clip-path=\"url(#clip120)\" d=\"M1689.58 2326.14 L1695.44 2326.14 L1695.44 2361.78 L1689.58 2361.78 L1689.58 2326.14 M1689.58 2312.26 L1695.44 2312.26 L1695.44 2319.67 L1689.58 2319.67 L1689.58 2312.26 Z\" fill=\"#000000\" fill-rule=\"evenodd\" fill-opacity=\"1\" /><path clip-path=\"url(#clip120)\" d=\"M1713.49 2316.01 L1713.49 2326.14 L1725.55 2326.14 L1725.55 2330.69 L1713.49 2330.69 L1713.49 2350.04 Q1713.49 2354.4 1714.66 2355.64 Q1715.87 2356.88 1719.53 2356.88 L1725.55 2356.88 L1725.55 2361.78 L1719.53 2361.78 Q1712.75 2361.78 1710.18 2359.27 Q1707.6 2356.72 1707.6 2350.04 L1707.6 2330.69 L1703.3 2330.69 L1703.3 2326.14 L1707.6 2326.14 L1707.6 2316.01 L1713.49 2316.01 Z\" fill=\"#000000\" fill-rule=\"evenodd\" fill-opacity=\"1\" /><path clip-path=\"url(#clip120)\" d=\"M1767.79 2330.24 Q1763.08 2330.24 1760.34 2333.93 Q1757.6 2337.59 1757.6 2343.99 Q1757.6 2350.39 1760.31 2354.08 Q1763.04 2357.74 1767.79 2357.74 Q1772.46 2357.74 1775.2 2354.05 Q1777.94 2350.36 1777.94 2343.99 Q1777.94 2337.66 1775.2 2333.97 Q1772.46 2330.24 1767.79 2330.24 M1767.79 2325.28 Q1775.42 2325.28 1779.79 2330.24 Q1784.15 2335.21 1784.15 2343.99 Q1784.15 2352.74 1779.79 2357.74 Q1775.42 2362.71 1767.79 2362.71 Q1760.12 2362.71 1755.75 2357.74 Q1751.43 2352.74 1751.43 2343.99 Q1751.43 2335.21 1755.75 2330.24 Q1760.12 2325.28 1767.79 2325.28 Z\" fill=\"#000000\" fill-rule=\"evenodd\" fill-opacity=\"1\" /><path clip-path=\"url(#clip120)\" d=\"M1823.49 2340.27 L1823.49 2361.78 L1817.63 2361.78 L1817.63 2340.46 Q1817.63 2335.4 1815.66 2332.88 Q1813.68 2330.37 1809.74 2330.37 Q1804.99 2330.37 1802.26 2333.39 Q1799.52 2336.42 1799.52 2341.64 L1799.52 2361.78 L1793.63 2361.78 L1793.63 2326.14 L1799.52 2326.14 L1799.52 2331.67 Q1801.62 2328.46 1804.45 2326.87 Q1807.32 2325.28 1811.04 2325.28 Q1817.18 2325.28 1820.33 2329.1 Q1823.49 2332.88 1823.49 2340.27 Z\" fill=\"#000000\" fill-rule=\"evenodd\" fill-opacity=\"1\" /><path clip-path=\"url(#clip120)\" d=\"M1878.61 2327.19 L1878.61 2332.72 Q1876.13 2331.45 1873.46 2330.81 Q1870.78 2330.18 1867.92 2330.18 Q1863.56 2330.18 1861.36 2331.51 Q1859.2 2332.85 1859.2 2335.53 Q1859.2 2337.56 1860.76 2338.74 Q1862.32 2339.89 1867.03 2340.94 L1869.03 2341.38 Q1875.27 2342.72 1877.88 2345.17 Q1880.52 2347.59 1880.52 2351.95 Q1880.52 2356.91 1876.58 2359.81 Q1872.66 2362.71 1865.79 2362.71 Q1862.92 2362.71 1859.8 2362.13 Q1856.71 2361.59 1853.28 2360.48 L1853.28 2354.43 Q1856.52 2356.12 1859.67 2356.98 Q1862.83 2357.81 1865.91 2357.81 Q1870.05 2357.81 1872.28 2356.4 Q1874.51 2354.97 1874.51 2352.39 Q1874.51 2350.01 1872.88 2348.73 Q1871.29 2347.46 1865.85 2346.28 L1863.81 2345.81 Q1858.37 2344.66 1855.95 2342.3 Q1853.53 2339.92 1853.53 2335.78 Q1853.53 2330.75 1857.1 2328.01 Q1860.66 2325.28 1867.22 2325.28 Q1870.46 2325.28 1873.33 2325.75 Q1876.19 2326.23 1878.61 2327.19 Z\" fill=\"#000000\" fill-rule=\"evenodd\" fill-opacity=\"1\" /><path clip-path=\"url(#clip120)\" d=\"M1906.05 2343.86 Q1898.95 2343.86 1896.21 2345.49 Q1893.48 2347.11 1893.48 2351.03 Q1893.48 2354.14 1895.51 2355.99 Q1897.58 2357.81 1901.12 2357.81 Q1905.99 2357.81 1908.91 2354.37 Q1911.87 2350.9 1911.87 2345.17 L1911.87 2343.86 L1906.05 2343.86 M1917.73 2341.45 L1917.73 2361.78 L1911.87 2361.78 L1911.87 2356.37 Q1909.87 2359.62 1906.88 2361.18 Q1903.88 2362.71 1899.56 2362.71 Q1894.08 2362.71 1890.84 2359.65 Q1887.62 2356.56 1887.62 2351.41 Q1887.62 2345.39 1891.63 2342.34 Q1895.67 2339.28 1903.66 2339.28 L1911.87 2339.28 L1911.87 2338.71 Q1911.87 2334.67 1909.2 2332.47 Q1906.56 2330.24 1901.75 2330.24 Q1898.7 2330.24 1895.8 2330.97 Q1892.9 2331.71 1890.23 2333.17 L1890.23 2327.76 Q1893.44 2326.52 1896.47 2325.91 Q1899.49 2325.28 1902.36 2325.28 Q1910.09 2325.28 1913.91 2329.29 Q1917.73 2333.3 1917.73 2341.45 Z\" fill=\"#000000\" fill-rule=\"evenodd\" fill-opacity=\"1\" /><path clip-path=\"url(#clip120)\" d=\"M1929.79 2312.26 L1935.65 2312.26 L1935.65 2361.78 L1929.79 2361.78 L1929.79 2312.26 Z\" fill=\"#000000\" fill-rule=\"evenodd\" fill-opacity=\"1\" /><path clip-path=\"url(#clip120)\" d=\"M1978.4 2342.5 L1978.4 2345.36 L1951.47 2345.36 Q1951.85 2351.41 1955.1 2354.59 Q1958.38 2357.74 1964.2 2357.74 Q1967.57 2357.74 1970.72 2356.91 Q1973.91 2356.09 1977.03 2354.43 L1977.03 2359.97 Q1973.88 2361.31 1970.57 2362.01 Q1967.26 2362.71 1963.85 2362.71 Q1955.32 2362.71 1950.32 2357.74 Q1945.36 2352.78 1945.36 2344.31 Q1945.36 2335.56 1950.07 2330.43 Q1954.81 2325.28 1962.83 2325.28 Q1970.02 2325.28 1974.19 2329.92 Q1978.4 2334.54 1978.4 2342.5 M1972.54 2340.78 Q1972.48 2335.97 1969.83 2333.11 Q1967.22 2330.24 1962.89 2330.24 Q1957.99 2330.24 1955.03 2333.01 Q1952.1 2335.78 1951.66 2340.81 L1972.54 2340.78 Z\" fill=\"#000000\" fill-rule=\"evenodd\" fill-opacity=\"1\" /><path clip-path=\"url(#clip120)\" d=\"M2010.73 2327.19 L2010.73 2332.72 Q2008.25 2331.45 2005.58 2330.81 Q2002.9 2330.18 2000.04 2330.18 Q1995.68 2330.18 1993.48 2331.51 Q1991.32 2332.85 1991.32 2335.53 Q1991.32 2337.56 1992.88 2338.74 Q1994.44 2339.89 1999.15 2340.94 L2001.15 2341.38 Q2007.39 2342.72 2010 2345.17 Q2012.64 2347.59 2012.64 2351.95 Q2012.64 2356.91 2008.7 2359.81 Q2004.78 2362.71 1997.91 2362.71 Q1995.04 2362.71 1991.92 2362.13 Q1988.84 2361.59 1985.4 2360.48 L1985.4 2354.43 Q1988.64 2356.12 1991.8 2356.98 Q1994.95 2357.81 1998.03 2357.81 Q2002.17 2357.81 2004.4 2356.4 Q2006.63 2354.97 2006.63 2352.39 Q2006.63 2350.01 2005 2348.73 Q2003.41 2347.46 1997.97 2346.28 L1995.93 2345.81 Q1990.49 2344.66 1988.07 2342.3 Q1985.65 2339.92 1985.65 2335.78 Q1985.65 2330.75 1989.22 2328.01 Q1992.78 2325.28 1999.34 2325.28 Q2002.58 2325.28 2005.45 2325.75 Q2008.31 2326.23 2010.73 2327.19 Z\" fill=\"#000000\" fill-rule=\"evenodd\" fill-opacity=\"1\" /><path clip-path=\"url(#clip120)\" d=\"M2042.69 2326.14 L2048.55 2326.14 L2048.55 2361.78 L2042.69 2361.78 L2042.69 2326.14 M2042.69 2312.26 L2048.55 2312.26 L2048.55 2319.67 L2042.69 2319.67 L2042.69 2312.26 Z\" fill=\"#000000\" fill-rule=\"evenodd\" fill-opacity=\"1\" /><path clip-path=\"url(#clip120)\" d=\"M2090.43 2340.27 L2090.43 2361.78 L2084.58 2361.78 L2084.58 2340.46 Q2084.58 2335.4 2082.6 2332.88 Q2080.63 2330.37 2076.68 2330.37 Q2071.94 2330.37 2069.2 2333.39 Q2066.46 2336.42 2066.46 2341.64 L2066.46 2361.78 L2060.58 2361.78 L2060.58 2326.14 L2066.46 2326.14 L2066.46 2331.67 Q2068.57 2328.46 2071.4 2326.87 Q2074.26 2325.28 2077.99 2325.28 Q2084.13 2325.28 2087.28 2329.1 Q2090.43 2332.88 2090.43 2340.27 Z\" fill=\"#000000\" fill-rule=\"evenodd\" fill-opacity=\"1\" /><path clip-path=\"url(#clip120)\" d=\"M2122.29 2312.26 L2135.79 2312.26 L2135.79 2316.81 L2128.15 2316.81 L2128.15 2365.83 L2135.79 2365.83 L2135.79 2370.38 L2122.29 2370.38 L2122.29 2312.26 Z\" fill=\"#000000\" fill-rule=\"evenodd\" fill-opacity=\"1\" /><path clip-path=\"url(#clip120)\" d=\"M2189.51 2340.87 Q2186.74 2340.87 2185.15 2343.23 Q2183.59 2345.58 2183.59 2349.78 Q2183.59 2353.92 2185.15 2356.31 Q2186.74 2358.66 2189.51 2358.66 Q2192.22 2358.66 2193.78 2356.31 Q2195.37 2353.92 2195.37 2349.78 Q2195.37 2345.61 2193.78 2343.26 Q2192.22 2340.87 2189.51 2340.87 M2189.51 2336.83 Q2194.54 2336.83 2197.5 2340.33 Q2200.46 2343.83 2200.46 2349.78 Q2200.46 2355.74 2197.47 2359.24 Q2194.51 2362.71 2189.51 2362.71 Q2184.42 2362.71 2181.46 2359.24 Q2178.5 2355.74 2178.5 2349.78 Q2178.5 2343.8 2181.46 2340.33 Q2184.45 2336.83 2189.51 2336.83 M2156.67 2317.45 Q2153.93 2317.45 2152.34 2319.83 Q2150.78 2322.19 2150.78 2326.33 Q2150.78 2330.53 2152.34 2332.88 Q2153.9 2335.24 2156.67 2335.24 Q2159.44 2335.24 2161 2332.88 Q2162.59 2330.53 2162.59 2326.33 Q2162.59 2322.22 2161 2319.83 Q2159.4 2317.45 2156.67 2317.45 M2185.41 2313.4 L2190.5 2313.4 L2160.77 2362.71 L2155.68 2362.71 L2185.41 2313.4 M2156.67 2313.4 Q2161.7 2313.4 2164.69 2316.91 Q2167.68 2320.37 2167.68 2326.33 Q2167.68 2332.34 2164.69 2335.81 Q2161.73 2339.28 2156.67 2339.28 Q2151.61 2339.28 2148.65 2335.81 Q2145.72 2332.31 2145.72 2326.33 Q2145.72 2320.41 2148.68 2316.91 Q2151.64 2313.4 2156.67 2313.4 Z\" fill=\"#000000\" fill-rule=\"evenodd\" fill-opacity=\"1\" /><path clip-path=\"url(#clip120)\" d=\"M2223.89 2312.26 L2223.89 2370.38 L2210.39 2370.38 L2210.39 2365.83 L2218 2365.83 L2218 2316.81 L2210.39 2316.81 L2210.39 2312.26 L2223.89 2312.26 Z\" fill=\"#000000\" fill-rule=\"evenodd\" fill-opacity=\"1\" /><polyline clip-path=\"url(#clip123)\" style=\"stroke:#000000; stroke-linecap:round; stroke-linejoin:round; stroke-width:2; stroke-opacity:0.1; fill:none\" points=\"278.227,2090.24 3152.76,2090.24 \"/>\n",
       "<polyline clip-path=\"url(#clip123)\" style=\"stroke:#000000; stroke-linecap:round; stroke-linejoin:round; stroke-width:2; stroke-opacity:0.1; fill:none\" points=\"278.227,1883 3152.76,1883 \"/>\n",
       "<polyline clip-path=\"url(#clip123)\" style=\"stroke:#000000; stroke-linecap:round; stroke-linejoin:round; stroke-width:2; stroke-opacity:0.1; fill:none\" points=\"278.227,1675.75 3152.76,1675.75 \"/>\n",
       "<polyline clip-path=\"url(#clip123)\" style=\"stroke:#000000; stroke-linecap:round; stroke-linejoin:round; stroke-width:2; stroke-opacity:0.1; fill:none\" points=\"278.227,1468.51 3152.76,1468.51 \"/>\n",
       "<polyline clip-path=\"url(#clip120)\" style=\"stroke:#000000; stroke-linecap:round; stroke-linejoin:round; stroke-width:4; stroke-opacity:1; fill:none\" points=\"278.227,2204.92 278.227,1331.03 \"/>\n",
       "<polyline clip-path=\"url(#clip120)\" style=\"stroke:#000000; stroke-linecap:round; stroke-linejoin:round; stroke-width:4; stroke-opacity:1; fill:none\" points=\"278.227,2090.24 297.125,2090.24 \"/>\n",
       "<polyline clip-path=\"url(#clip120)\" style=\"stroke:#000000; stroke-linecap:round; stroke-linejoin:round; stroke-width:4; stroke-opacity:1; fill:none\" points=\"278.227,1883 297.125,1883 \"/>\n",
       "<polyline clip-path=\"url(#clip120)\" style=\"stroke:#000000; stroke-linecap:round; stroke-linejoin:round; stroke-width:4; stroke-opacity:1; fill:none\" points=\"278.227,1675.75 297.125,1675.75 \"/>\n",
       "<polyline clip-path=\"url(#clip120)\" style=\"stroke:#000000; stroke-linecap:round; stroke-linejoin:round; stroke-width:4; stroke-opacity:1; fill:none\" points=\"278.227,1468.51 297.125,1468.51 \"/>\n",
       "<path clip-path=\"url(#clip120)\" d=\"M133.7 2103.59 L141.339 2103.59 L141.339 2077.22 L133.029 2078.89 L133.029 2074.63 L141.293 2072.96 L145.969 2072.96 L145.969 2103.59 L153.607 2103.59 L153.607 2107.52 L133.7 2107.52 L133.7 2103.59 Z\" fill=\"#000000\" fill-rule=\"evenodd\" fill-opacity=\"1\" /><path clip-path=\"url(#clip120)\" d=\"M175.899 2077.04 L164.093 2095.49 L175.899 2095.49 L175.899 2077.04 M174.672 2072.96 L180.552 2072.96 L180.552 2095.49 L185.482 2095.49 L185.482 2099.37 L180.552 2099.37 L180.552 2107.52 L175.899 2107.52 L175.899 2099.37 L160.297 2099.37 L160.297 2094.86 L174.672 2072.96 Z\" fill=\"#000000\" fill-rule=\"evenodd\" fill-opacity=\"1\" /><path clip-path=\"url(#clip120)\" d=\"M193.214 2101.64 L198.098 2101.64 L198.098 2107.52 L193.214 2107.52 L193.214 2101.64 Z\" fill=\"#000000\" fill-rule=\"evenodd\" fill-opacity=\"1\" /><path clip-path=\"url(#clip120)\" d=\"M218.283 2076.04 Q214.672 2076.04 212.843 2079.61 Q211.038 2083.15 211.038 2090.28 Q211.038 2097.38 212.843 2100.95 Q214.672 2104.49 218.283 2104.49 Q221.917 2104.49 223.723 2100.95 Q225.551 2097.38 225.551 2090.28 Q225.551 2083.15 223.723 2079.61 Q221.917 2076.04 218.283 2076.04 M218.283 2072.34 Q224.093 2072.34 227.149 2076.94 Q230.227 2081.53 230.227 2090.28 Q230.227 2099 227.149 2103.61 Q224.093 2108.19 218.283 2108.19 Q212.473 2108.19 209.394 2103.61 Q206.339 2099 206.339 2090.28 Q206.339 2081.53 209.394 2076.94 Q212.473 2072.34 218.283 2072.34 Z\" fill=\"#000000\" fill-rule=\"evenodd\" fill-opacity=\"1\" /><path clip-path=\"url(#clip120)\" d=\"M134.695 1896.34 L142.334 1896.34 L142.334 1869.98 L134.024 1871.64 L134.024 1867.38 L142.288 1865.72 L146.964 1865.72 L146.964 1896.34 L154.603 1896.34 L154.603 1900.28 L134.695 1900.28 L134.695 1896.34 Z\" fill=\"#000000\" fill-rule=\"evenodd\" fill-opacity=\"1\" /><path clip-path=\"url(#clip120)\" d=\"M176.894 1869.79 L165.089 1888.24 L176.894 1888.24 L176.894 1869.79 M175.667 1865.72 L181.547 1865.72 L181.547 1888.24 L186.478 1888.24 L186.478 1892.13 L181.547 1892.13 L181.547 1900.28 L176.894 1900.28 L176.894 1892.13 L161.293 1892.13 L161.293 1887.62 L175.667 1865.72 Z\" fill=\"#000000\" fill-rule=\"evenodd\" fill-opacity=\"1\" /><path clip-path=\"url(#clip120)\" d=\"M194.209 1894.4 L199.093 1894.4 L199.093 1900.28 L194.209 1900.28 L194.209 1894.4 Z\" fill=\"#000000\" fill-rule=\"evenodd\" fill-opacity=\"1\" /><path clip-path=\"url(#clip120)\" d=\"M209.325 1865.72 L227.681 1865.72 L227.681 1869.65 L213.607 1869.65 L213.607 1878.12 Q214.626 1877.78 215.644 1877.62 Q216.663 1877.43 217.681 1877.43 Q223.468 1877.43 226.848 1880.6 Q230.227 1883.77 230.227 1889.19 Q230.227 1894.77 226.755 1897.87 Q223.283 1900.95 216.964 1900.95 Q214.788 1900.95 212.519 1900.58 Q210.274 1900.21 207.866 1899.47 L207.866 1894.77 Q209.95 1895.9 212.172 1896.46 Q214.394 1897.01 216.871 1897.01 Q220.876 1897.01 223.213 1894.91 Q225.551 1892.8 225.551 1889.19 Q225.551 1885.58 223.213 1883.47 Q220.876 1881.37 216.871 1881.37 Q214.996 1881.37 213.121 1881.78 Q211.269 1882.2 209.325 1883.08 L209.325 1865.72 Z\" fill=\"#000000\" fill-rule=\"evenodd\" fill-opacity=\"1\" /><path clip-path=\"url(#clip120)\" d=\"M133.7 1689.1 L141.339 1689.1 L141.339 1662.73 L133.029 1664.4 L133.029 1660.14 L141.293 1658.47 L145.969 1658.47 L145.969 1689.1 L153.607 1689.1 L153.607 1693.03 L133.7 1693.03 L133.7 1689.1 Z\" fill=\"#000000\" fill-rule=\"evenodd\" fill-opacity=\"1\" /><path clip-path=\"url(#clip120)\" d=\"M163.098 1658.47 L181.454 1658.47 L181.454 1662.41 L167.38 1662.41 L167.38 1670.88 Q168.399 1670.53 169.417 1670.37 Q170.436 1670.18 171.454 1670.18 Q177.241 1670.18 180.621 1673.36 Q184.001 1676.53 184.001 1681.94 Q184.001 1687.52 180.529 1690.62 Q177.056 1693.7 170.737 1693.7 Q168.561 1693.7 166.292 1693.33 Q164.047 1692.96 161.64 1692.22 L161.64 1687.52 Q163.723 1688.66 165.945 1689.21 Q168.167 1689.77 170.644 1689.77 Q174.649 1689.77 176.987 1687.66 Q179.325 1685.55 179.325 1681.94 Q179.325 1678.33 176.987 1676.23 Q174.649 1674.12 170.644 1674.12 Q168.769 1674.12 166.894 1674.54 Q165.042 1674.95 163.098 1675.83 L163.098 1658.47 Z\" fill=\"#000000\" fill-rule=\"evenodd\" fill-opacity=\"1\" /><path clip-path=\"url(#clip120)\" d=\"M193.214 1687.15 L198.098 1687.15 L198.098 1693.03 L193.214 1693.03 L193.214 1687.15 Z\" fill=\"#000000\" fill-rule=\"evenodd\" fill-opacity=\"1\" /><path clip-path=\"url(#clip120)\" d=\"M218.283 1661.55 Q214.672 1661.55 212.843 1665.12 Q211.038 1668.66 211.038 1675.79 Q211.038 1682.89 212.843 1686.46 Q214.672 1690 218.283 1690 Q221.917 1690 223.723 1686.46 Q225.551 1682.89 225.551 1675.79 Q225.551 1668.66 223.723 1665.12 Q221.917 1661.55 218.283 1661.55 M218.283 1657.85 Q224.093 1657.85 227.149 1662.45 Q230.227 1667.04 230.227 1675.79 Q230.227 1684.51 227.149 1689.12 Q224.093 1693.7 218.283 1693.7 Q212.473 1693.7 209.394 1689.12 Q206.339 1684.51 206.339 1675.79 Q206.339 1667.04 209.394 1662.45 Q212.473 1657.85 218.283 1657.85 Z\" fill=\"#000000\" fill-rule=\"evenodd\" fill-opacity=\"1\" /><path clip-path=\"url(#clip120)\" d=\"M134.695 1481.85 L142.334 1481.85 L142.334 1455.49 L134.024 1457.15 L134.024 1452.89 L142.288 1451.23 L146.964 1451.23 L146.964 1481.85 L154.603 1481.85 L154.603 1485.79 L134.695 1485.79 L134.695 1481.85 Z\" fill=\"#000000\" fill-rule=\"evenodd\" fill-opacity=\"1\" /><path clip-path=\"url(#clip120)\" d=\"M164.093 1451.23 L182.45 1451.23 L182.45 1455.16 L168.376 1455.16 L168.376 1463.63 Q169.394 1463.29 170.413 1463.12 Q171.431 1462.94 172.45 1462.94 Q178.237 1462.94 181.616 1466.11 Q184.996 1469.28 184.996 1474.7 Q184.996 1480.28 181.524 1483.38 Q178.052 1486.46 171.732 1486.46 Q169.556 1486.46 167.288 1486.09 Q165.042 1485.72 162.635 1484.98 L162.635 1480.28 Q164.718 1481.41 166.941 1481.97 Q169.163 1482.52 171.64 1482.52 Q175.644 1482.52 177.982 1480.42 Q180.32 1478.31 180.32 1474.7 Q180.32 1471.09 177.982 1468.98 Q175.644 1466.87 171.64 1466.87 Q169.765 1466.87 167.89 1467.29 Q166.038 1467.71 164.093 1468.59 L164.093 1451.23 Z\" fill=\"#000000\" fill-rule=\"evenodd\" fill-opacity=\"1\" /><path clip-path=\"url(#clip120)\" d=\"M194.209 1479.91 L199.093 1479.91 L199.093 1485.79 L194.209 1485.79 L194.209 1479.91 Z\" fill=\"#000000\" fill-rule=\"evenodd\" fill-opacity=\"1\" /><path clip-path=\"url(#clip120)\" d=\"M209.325 1451.23 L227.681 1451.23 L227.681 1455.16 L213.607 1455.16 L213.607 1463.63 Q214.626 1463.29 215.644 1463.12 Q216.663 1462.94 217.681 1462.94 Q223.468 1462.94 226.848 1466.11 Q230.227 1469.28 230.227 1474.7 Q230.227 1480.28 226.755 1483.38 Q223.283 1486.46 216.964 1486.46 Q214.788 1486.46 212.519 1486.09 Q210.274 1485.72 207.866 1484.98 L207.866 1480.28 Q209.95 1481.41 212.172 1481.97 Q214.394 1482.52 216.871 1482.52 Q220.876 1482.52 223.213 1480.42 Q225.551 1478.31 225.551 1474.7 Q225.551 1471.09 223.213 1468.98 Q220.876 1466.87 216.871 1466.87 Q214.996 1466.87 213.121 1467.29 Q211.269 1467.71 209.325 1468.59 L209.325 1451.23 Z\" fill=\"#000000\" fill-rule=\"evenodd\" fill-opacity=\"1\" /><path clip-path=\"url(#clip120)\" d=\"M48.4928 2055.77 Q49.193 2053.7 51.4847 2051.76 Q53.7763 2049.79 57.7867 2047.81 L70.7728 2041.29 L70.7728 2048.19 L58.5824 2054.27 Q53.8082 2056.63 52.2486 2058.86 Q50.689 2061.05 50.689 2064.87 L50.689 2071.87 L70.7728 2071.87 L70.7728 2078.3 L23.2528 2078.3 L23.2528 2063.79 Q23.2528 2055.64 26.6584 2051.63 Q30.0641 2047.62 36.939 2047.62 Q41.4269 2047.62 44.3869 2049.72 Q47.347 2051.79 48.4928 2055.77 M28.5363 2071.87 L45.4054 2071.87 L45.4054 2063.79 Q45.4054 2059.14 43.2729 2056.79 Q41.1086 2054.4 36.939 2054.4 Q32.7695 2054.4 30.6688 2056.79 Q28.5363 2059.14 28.5363 2063.79 L28.5363 2071.87 Z\" fill=\"#000000\" fill-rule=\"evenodd\" fill-opacity=\"1\" /><path clip-path=\"url(#clip120)\" d=\"M51.4847 2005.7 L54.3492 2005.7 L54.3492 2032.63 Q60.3967 2032.25 63.5795 2029 Q66.7305 2025.72 66.7305 2019.9 Q66.7305 2016.52 65.903 2013.37 Q65.0755 2010.19 63.4204 2007.07 L68.9585 2007.07 Q70.2953 2010.22 70.9956 2013.53 Q71.6958 2016.84 71.6958 2020.25 Q71.6958 2028.78 66.7305 2033.78 Q61.7653 2038.74 53.2989 2038.74 Q44.5461 2038.74 39.4217 2034.03 Q34.2654 2029.29 34.2654 2021.27 Q34.2654 2014.07 38.9124 2009.9 Q43.5275 2005.7 51.4847 2005.7 M49.7659 2011.56 Q44.9598 2011.62 42.0953 2014.27 Q39.2307 2016.88 39.2307 2021.2 Q39.2307 2026.11 41.9998 2029.07 Q44.7689 2031.99 49.7978 2032.44 L49.7659 2011.56 Z\" fill=\"#000000\" fill-rule=\"evenodd\" fill-opacity=\"1\" /><path clip-path=\"url(#clip120)\" d=\"M36.1752 1973.37 L41.7133 1973.37 Q40.4402 1975.85 39.8036 1978.52 Q39.167 1981.2 39.167 1984.06 Q39.167 1988.42 40.5038 1990.62 Q41.8406 1992.78 44.5142 1992.78 Q46.5513 1992.78 47.7289 1991.22 Q48.8747 1989.66 49.9251 1984.95 L50.3707 1982.95 Q51.7075 1976.71 54.1583 1974.1 Q56.5772 1971.46 60.9378 1971.46 Q65.903 1971.46 68.7994 1975.4 Q71.6958 1979.32 71.6958 1986.19 Q71.6958 1989.06 71.1229 1992.18 Q70.5818 1995.26 69.4678 1998.7 L63.4204 1998.7 Q65.1073 1995.45 65.9667 1992.3 Q66.7942 1989.15 66.7942 1986.07 Q66.7942 1981.93 65.3937 1979.7 Q63.9615 1977.47 61.3834 1977.47 Q58.9962 1977.47 57.7231 1979.09 Q56.4499 1980.69 55.2723 1986.13 L54.7948 1988.17 Q53.649 1993.61 51.2937 1996.03 Q48.9066 1998.45 44.7689 1998.45 Q39.74 1998.45 37.0027 1994.88 Q34.2654 1991.32 34.2654 1984.76 Q34.2654 1981.51 34.7429 1978.65 Q35.2203 1975.78 36.1752 1973.37 Z\" fill=\"#000000\" fill-rule=\"evenodd\" fill-opacity=\"1\" /><path clip-path=\"url(#clip120)\" d=\"M56.7046 1962.73 L35.1248 1962.73 L35.1248 1956.88 L56.4818 1956.88 Q61.5425 1956.88 64.0888 1954.9 Q66.6032 1952.93 66.6032 1948.98 Q66.6032 1944.24 63.5795 1941.51 Q60.5558 1938.74 55.3359 1938.74 L35.1248 1938.74 L35.1248 1932.88 L70.7728 1932.88 L70.7728 1938.74 L65.2983 1938.74 Q68.5448 1940.87 70.1362 1943.7 Q71.6958 1946.5 71.6958 1950.23 Q71.6958 1956.37 67.8764 1959.55 Q64.057 1962.73 56.7046 1962.73 M34.2654 1948 L34.2654 1948 Z\" fill=\"#000000\" fill-rule=\"evenodd\" fill-opacity=\"1\" /><path clip-path=\"url(#clip120)\" d=\"M21.2476 1920.82 L21.2476 1914.96 L70.7728 1914.96 L70.7728 1920.82 L21.2476 1920.82 Z\" fill=\"#000000\" fill-rule=\"evenodd\" fill-opacity=\"1\" /><path clip-path=\"url(#clip120)\" d=\"M25.0033 1896.91 L35.1248 1896.91 L35.1248 1884.85 L39.6763 1884.85 L39.6763 1896.91 L59.028 1896.91 Q63.3886 1896.91 64.6299 1895.74 Q65.8712 1894.53 65.8712 1890.87 L65.8712 1884.85 L70.7728 1884.85 L70.7728 1890.87 Q70.7728 1897.65 68.2583 1900.22 Q65.712 1902.8 59.028 1902.8 L39.6763 1902.8 L39.6763 1907.1 L35.1248 1907.1 L35.1248 1902.8 L25.0033 1902.8 L25.0033 1896.91 Z\" fill=\"#000000\" fill-rule=\"evenodd\" fill-opacity=\"1\" /><path clip-path=\"url(#clip120)\" d=\"M36.1752 1854.42 L41.7133 1854.42 Q40.4402 1856.9 39.8036 1859.58 Q39.167 1862.25 39.167 1865.12 Q39.167 1869.48 40.5038 1871.67 Q41.8406 1873.84 44.5142 1873.84 Q46.5513 1873.84 47.7289 1872.28 Q48.8747 1870.72 49.9251 1866.01 L50.3707 1864 Q51.7075 1857.76 54.1583 1855.15 Q56.5772 1852.51 60.9378 1852.51 Q65.903 1852.51 68.7994 1856.46 Q71.6958 1860.37 71.6958 1867.25 Q71.6958 1870.11 71.1229 1873.23 Q70.5818 1876.32 69.4678 1879.76 L63.4204 1879.76 Q65.1073 1876.51 65.9667 1873.36 Q66.7942 1870.21 66.7942 1867.12 Q66.7942 1862.98 65.3937 1860.76 Q63.9615 1858.53 61.3834 1858.53 Q58.9962 1858.53 57.7231 1860.15 Q56.4499 1861.74 55.2723 1867.19 L54.7948 1869.22 Q53.649 1874.67 51.2937 1877.08 Q48.9066 1879.5 44.7689 1879.5 Q39.74 1879.5 37.0027 1875.94 Q34.2654 1872.37 34.2654 1865.82 Q34.2654 1862.57 34.7429 1859.71 Q35.2203 1856.84 36.1752 1854.42 Z\" fill=\"#000000\" fill-rule=\"evenodd\" fill-opacity=\"1\" /><path clip-path=\"url(#clip120)\" d=\"M23.2528 1812.06 L23.2528 1806.65 L76.8202 1823.2 L76.8202 1828.61 L23.2528 1812.06 Z\" fill=\"#000000\" fill-rule=\"evenodd\" fill-opacity=\"1\" /><path clip-path=\"url(#clip120)\" d=\"M27.6133 1760.24 Q27.6133 1767.24 32.8332 1771.38 Q38.053 1775.49 47.0605 1775.49 Q56.0362 1775.49 61.256 1771.38 Q66.4759 1767.24 66.4759 1760.24 Q66.4759 1753.24 61.256 1749.17 Q56.0362 1745.06 47.0605 1745.06 Q38.053 1745.06 32.8332 1749.17 Q27.6133 1753.24 27.6133 1760.24 M22.3934 1760.24 Q22.3934 1750.25 29.1092 1744.26 Q35.7932 1738.28 47.0605 1738.28 Q58.296 1738.28 65.0118 1744.26 Q71.6958 1750.25 71.6958 1760.24 Q71.6958 1770.27 65.0118 1776.28 Q58.3278 1782.27 47.0605 1782.27 Q35.7932 1782.27 29.1092 1776.28 Q22.3934 1770.27 22.3934 1760.24 Z\" fill=\"#000000\" fill-rule=\"evenodd\" fill-opacity=\"1\" /><path clip-path=\"url(#clip120)\" d=\"M56.7046 1729.08 L35.1248 1729.08 L35.1248 1723.23 L56.4818 1723.23 Q61.5425 1723.23 64.0888 1721.25 Q66.6032 1719.28 66.6032 1715.33 Q66.6032 1710.59 63.5795 1707.85 Q60.5558 1705.08 55.3359 1705.08 L35.1248 1705.08 L35.1248 1699.23 L70.7728 1699.23 L70.7728 1705.08 L65.2983 1705.08 Q68.5448 1707.22 70.1362 1710.05 Q71.6958 1712.85 71.6958 1716.57 Q71.6958 1722.72 67.8764 1725.9 Q64.057 1729.08 56.7046 1729.08 M34.2654 1714.34 L34.2654 1714.34 Z\" fill=\"#000000\" fill-rule=\"evenodd\" fill-opacity=\"1\" /><path clip-path=\"url(#clip120)\" d=\"M25.0033 1681.37 L35.1248 1681.37 L35.1248 1669.31 L39.6763 1669.31 L39.6763 1681.37 L59.028 1681.37 Q63.3886 1681.37 64.6299 1680.19 Q65.8712 1678.98 65.8712 1675.32 L65.8712 1669.31 L70.7728 1669.31 L70.7728 1675.32 Q70.7728 1682.1 68.2583 1684.68 Q65.712 1687.26 59.028 1687.26 L39.6763 1687.26 L39.6763 1691.56 L35.1248 1691.56 L35.1248 1687.26 L25.0033 1687.26 L25.0033 1681.37 Z\" fill=\"#000000\" fill-rule=\"evenodd\" fill-opacity=\"1\" /><path clip-path=\"url(#clip120)\" d=\"M36.4934 1635.95 L41.9679 1635.95 Q40.5993 1638.43 39.9309 1640.95 Q39.2307 1643.43 39.2307 1645.98 Q39.2307 1651.67 42.8591 1654.83 Q46.4558 1657.98 52.9806 1657.98 Q59.5055 1657.98 63.1339 1654.83 Q66.7305 1651.67 66.7305 1645.98 Q66.7305 1643.43 66.0621 1640.95 Q65.3619 1638.43 63.9933 1635.95 L69.4041 1635.95 Q70.55 1638.4 71.1229 1641.04 Q71.6958 1643.65 71.6958 1646.61 Q71.6958 1654.67 66.6351 1659.41 Q61.5743 1664.15 52.9806 1664.15 Q44.2596 1664.15 39.2625 1659.38 Q34.2654 1654.57 34.2654 1646.23 Q34.2654 1643.53 34.8384 1640.95 Q35.3794 1638.37 36.4934 1635.95 Z\" fill=\"#000000\" fill-rule=\"evenodd\" fill-opacity=\"1\" /><path clip-path=\"url(#clip120)\" d=\"M39.2307 1611.95 Q39.2307 1616.66 42.9228 1619.4 Q46.5831 1622.14 52.9806 1622.14 Q59.3782 1622.14 63.0703 1619.43 Q66.7305 1616.69 66.7305 1611.95 Q66.7305 1607.27 63.0384 1604.54 Q59.3463 1601.8 52.9806 1601.8 Q46.6467 1601.8 42.9546 1604.54 Q39.2307 1607.27 39.2307 1611.95 M34.2654 1611.95 Q34.2654 1604.31 39.2307 1599.95 Q44.1959 1595.59 52.9806 1595.59 Q61.7335 1595.59 66.7305 1599.95 Q71.6958 1604.31 71.6958 1611.95 Q71.6958 1619.62 66.7305 1623.98 Q61.7335 1628.31 52.9806 1628.31 Q44.1959 1628.31 39.2307 1623.98 Q34.2654 1619.62 34.2654 1611.95 Z\" fill=\"#000000\" fill-rule=\"evenodd\" fill-opacity=\"1\" /><path clip-path=\"url(#clip120)\" d=\"M41.9679 1558.13 Q38.0212 1555.93 36.1433 1552.88 Q34.2654 1549.82 34.2654 1545.69 Q34.2654 1540.12 38.1804 1537.09 Q42.0634 1534.07 49.2567 1534.07 L70.7728 1534.07 L70.7728 1539.96 L49.4477 1539.96 Q44.3233 1539.96 41.8406 1541.77 Q39.358 1543.58 39.358 1547.31 Q39.358 1551.86 42.3817 1554.5 Q45.4054 1557.14 50.6253 1557.14 L70.7728 1557.14 L70.7728 1563.03 L49.4477 1563.03 Q44.2914 1563.03 41.8406 1564.85 Q39.358 1566.66 39.358 1570.45 Q39.358 1574.94 42.4135 1577.58 Q45.4373 1580.22 50.6253 1580.22 L70.7728 1580.22 L70.7728 1586.11 L35.1248 1586.11 L35.1248 1580.22 L40.663 1580.22 Q37.3846 1578.21 35.825 1575.41 Q34.2654 1572.61 34.2654 1568.76 Q34.2654 1564.88 36.2388 1562.17 Q38.2122 1559.44 41.9679 1558.13 Z\" fill=\"#000000\" fill-rule=\"evenodd\" fill-opacity=\"1\" /><path clip-path=\"url(#clip120)\" d=\"M51.4847 1491.9 L54.3492 1491.9 L54.3492 1518.82 Q60.3967 1518.44 63.5795 1515.19 Q66.7305 1511.92 66.7305 1506.09 Q66.7305 1502.72 65.903 1499.57 Q65.0755 1496.38 63.4204 1493.26 L68.9585 1493.26 Q70.2953 1496.41 70.9956 1499.73 Q71.6958 1503.04 71.6958 1506.44 Q71.6958 1514.97 66.7305 1519.97 Q61.7653 1524.93 53.2989 1524.93 Q44.5461 1524.93 39.4217 1520.22 Q34.2654 1515.48 34.2654 1507.46 Q34.2654 1500.27 38.9124 1496.1 Q43.5275 1491.9 51.4847 1491.9 M49.7659 1497.75 Q44.9598 1497.82 42.0953 1500.46 Q39.2307 1503.07 39.2307 1507.4 Q39.2307 1512.3 41.9998 1515.26 Q44.7689 1518.19 49.7978 1518.63 L49.7659 1497.75 Z\" fill=\"#000000\" fill-rule=\"evenodd\" fill-opacity=\"1\" /><path clip-path=\"url(#clip120)\" d=\"M36.1752 1459.56 L41.7133 1459.56 Q40.4402 1462.04 39.8036 1464.71 Q39.167 1467.39 39.167 1470.25 Q39.167 1474.61 40.5038 1476.81 Q41.8406 1478.97 44.5142 1478.97 Q46.5513 1478.97 47.7289 1477.41 Q48.8747 1475.85 49.9251 1471.14 L50.3707 1469.14 Q51.7075 1462.9 54.1583 1460.29 Q56.5772 1457.65 60.9378 1457.65 Q65.903 1457.65 68.7994 1461.59 Q71.6958 1465.51 71.6958 1472.38 Q71.6958 1475.25 71.1229 1478.37 Q70.5818 1481.46 69.4678 1484.89 L63.4204 1484.89 Q65.1073 1481.65 65.9667 1478.5 Q66.7942 1475.34 66.7942 1472.26 Q66.7942 1468.12 65.3937 1465.89 Q63.9615 1463.66 61.3834 1463.66 Q58.9962 1463.66 57.7231 1465.29 Q56.4499 1466.88 55.2723 1472.32 L54.7948 1474.36 Q53.649 1479.8 51.2937 1482.22 Q48.9066 1484.64 44.7689 1484.64 Q39.74 1484.64 37.0027 1481.07 Q34.2654 1477.51 34.2654 1470.95 Q34.2654 1467.71 34.7429 1464.84 Q35.2203 1461.98 36.1752 1459.56 Z\" fill=\"#000000\" fill-rule=\"evenodd\" fill-opacity=\"1\" /><path clip-path=\"url(#clip120)\" d=\"M1108.02 1216.75 L1108.02 1225.38 Q1103.89 1221.53 1099.19 1219.63 Q1094.53 1217.73 1089.26 1217.73 Q1078.89 1217.73 1073.38 1224.09 Q1067.87 1230.41 1067.87 1242.4 Q1067.87 1254.35 1073.38 1260.71 Q1078.89 1267.03 1089.26 1267.03 Q1094.53 1267.03 1099.19 1265.12 Q1103.89 1263.22 1108.02 1259.37 L1108.02 1267.92 Q1103.72 1270.83 1098.9 1272.29 Q1094.12 1273.75 1088.78 1273.75 Q1075.04 1273.75 1067.14 1265.37 Q1059.25 1256.94 1059.25 1242.4 Q1059.25 1227.81 1067.14 1219.43 Q1075.04 1211 1088.78 1211 Q1094.2 1211 1098.98 1212.46 Q1103.81 1213.88 1108.02 1216.75 Z\" fill=\"#000000\" fill-rule=\"evenodd\" fill-opacity=\"1\" /><path clip-path=\"url(#clip120)\" d=\"M1158.05 1245.19 L1158.05 1272.58 L1150.59 1272.58 L1150.59 1245.43 Q1150.59 1238.99 1148.08 1235.79 Q1145.57 1232.59 1140.55 1232.59 Q1134.51 1232.59 1131.03 1236.44 Q1127.54 1240.29 1127.54 1246.93 L1127.54 1272.58 L1120.05 1272.58 L1120.05 1209.54 L1127.54 1209.54 L1127.54 1234.25 Q1130.22 1230.16 1133.82 1228.14 Q1137.47 1226.11 1142.21 1226.11 Q1150.03 1226.11 1154.04 1230.97 Q1158.05 1235.79 1158.05 1245.19 Z\" fill=\"#000000\" fill-rule=\"evenodd\" fill-opacity=\"1\" /><path clip-path=\"url(#clip120)\" d=\"M1193.53 1249.77 Q1184.5 1249.77 1181.02 1251.84 Q1177.53 1253.9 1177.53 1258.88 Q1177.53 1262.85 1180.12 1265.2 Q1182.76 1267.51 1187.25 1267.51 Q1193.45 1267.51 1197.18 1263.14 Q1200.95 1258.72 1200.95 1251.43 L1200.95 1249.77 L1193.53 1249.77 M1208.4 1246.69 L1208.4 1272.58 L1200.95 1272.58 L1200.95 1265.69 Q1198.39 1269.82 1194.59 1271.81 Q1190.78 1273.75 1185.27 1273.75 Q1178.3 1273.75 1174.17 1269.86 Q1170.08 1265.93 1170.08 1259.37 Q1170.08 1251.71 1175.18 1247.82 Q1180.33 1243.94 1190.49 1243.94 L1200.95 1243.94 L1200.95 1243.21 Q1200.95 1238.06 1197.54 1235.27 Q1194.18 1232.43 1188.06 1232.43 Q1184.18 1232.43 1180.49 1233.36 Q1176.8 1234.29 1173.4 1236.16 L1173.4 1229.27 Q1177.49 1227.69 1181.34 1226.92 Q1185.19 1226.11 1188.83 1226.11 Q1198.68 1226.11 1203.54 1231.22 Q1208.4 1236.32 1208.4 1246.69 Z\" fill=\"#000000\" fill-rule=\"evenodd\" fill-opacity=\"1\" /><path clip-path=\"url(#clip120)\" d=\"M1250.04 1234.17 Q1248.79 1233.44 1247.29 1233.12 Q1245.83 1232.76 1244.05 1232.76 Q1237.73 1232.76 1234.33 1236.89 Q1230.96 1240.98 1230.96 1248.68 L1230.96 1272.58 L1223.47 1272.58 L1223.47 1227.21 L1230.96 1227.21 L1230.96 1234.25 Q1233.31 1230.12 1237.08 1228.14 Q1240.85 1226.11 1246.23 1226.11 Q1247 1226.11 1247.94 1226.23 Q1248.87 1226.31 1250 1226.52 L1250.04 1234.17 Z\" fill=\"#000000\" fill-rule=\"evenodd\" fill-opacity=\"1\" /><path clip-path=\"url(#clip120)\" d=\"M1265.23 1214.32 L1265.23 1227.21 L1280.59 1227.21 L1280.59 1233 L1265.23 1233 L1265.23 1257.63 Q1265.23 1263.18 1266.73 1264.76 Q1268.27 1266.34 1272.93 1266.34 L1280.59 1266.34 L1280.59 1272.58 L1272.93 1272.58 Q1264.3 1272.58 1261.02 1269.38 Q1257.74 1266.14 1257.74 1257.63 L1257.74 1233 L1252.27 1233 L1252.27 1227.21 L1257.74 1227.21 L1257.74 1214.32 L1265.23 1214.32 Z\" fill=\"#000000\" fill-rule=\"evenodd\" fill-opacity=\"1\" /><path clip-path=\"url(#clip120)\" d=\"M1319.31 1228.54 L1319.31 1235.59 Q1316.15 1233.97 1312.75 1233.16 Q1309.35 1232.35 1305.7 1232.35 Q1300.15 1232.35 1297.36 1234.05 Q1294.6 1235.75 1294.6 1239.16 Q1294.6 1241.75 1296.59 1243.25 Q1298.57 1244.71 1304.57 1246.04 L1307.12 1246.61 Q1315.06 1248.31 1318.38 1251.43 Q1321.74 1254.51 1321.74 1260.06 Q1321.74 1266.38 1316.72 1270.06 Q1311.74 1273.75 1302.99 1273.75 Q1299.34 1273.75 1295.37 1273.02 Q1291.44 1272.33 1287.07 1270.92 L1287.07 1263.22 Q1291.2 1265.37 1295.21 1266.46 Q1299.22 1267.51 1303.15 1267.51 Q1308.42 1267.51 1311.25 1265.73 Q1314.09 1263.91 1314.09 1260.63 Q1314.09 1257.59 1312.02 1255.97 Q1310 1254.35 1303.07 1252.85 L1300.48 1252.24 Q1293.55 1250.78 1290.47 1247.78 Q1287.39 1244.75 1287.39 1239.48 Q1287.39 1233.08 1291.93 1229.6 Q1296.47 1226.11 1304.81 1226.11 Q1308.94 1226.11 1312.59 1226.72 Q1316.23 1227.33 1319.31 1228.54 Z\" fill=\"#000000\" fill-rule=\"evenodd\" fill-opacity=\"1\" /><path clip-path=\"url(#clip120)\" d=\"M1377.57 1232.43 Q1371.57 1232.43 1368.09 1237.13 Q1364.6 1241.79 1364.6 1249.93 Q1364.6 1258.07 1368.05 1262.77 Q1371.53 1267.43 1377.57 1267.43 Q1383.52 1267.43 1387 1262.73 Q1390.49 1258.03 1390.49 1249.93 Q1390.49 1241.87 1387 1237.17 Q1383.52 1232.43 1377.57 1232.43 M1377.57 1226.11 Q1387.29 1226.11 1392.84 1232.43 Q1398.39 1238.75 1398.39 1249.93 Q1398.39 1261.07 1392.84 1267.43 Q1387.29 1273.75 1377.57 1273.75 Q1367.8 1273.75 1362.25 1267.43 Q1356.74 1261.07 1356.74 1249.93 Q1356.74 1238.75 1362.25 1232.43 Q1367.8 1226.11 1377.57 1226.11 Z\" fill=\"#000000\" fill-rule=\"evenodd\" fill-opacity=\"1\" /><path clip-path=\"url(#clip120)\" d=\"M1433.71 1209.54 L1433.71 1215.74 L1426.58 1215.74 Q1422.57 1215.74 1420.99 1217.36 Q1419.45 1218.98 1419.45 1223.2 L1419.45 1227.21 L1431.73 1227.21 L1431.73 1233 L1419.45 1233 L1419.45 1272.58 L1411.96 1272.58 L1411.96 1233 L1404.83 1233 L1404.83 1227.21 L1411.96 1227.21 L1411.96 1224.05 Q1411.96 1216.47 1415.48 1213.03 Q1419.01 1209.54 1426.66 1209.54 L1433.71 1209.54 Z\" fill=\"#000000\" fill-rule=\"evenodd\" fill-opacity=\"1\" /><path clip-path=\"url(#clip120)\" d=\"M1498.97 1228.95 L1498.97 1235.92 Q1495.81 1234.17 1492.61 1233.32 Q1489.45 1232.43 1486.21 1232.43 Q1478.96 1232.43 1474.95 1237.05 Q1470.94 1241.63 1470.94 1249.93 Q1470.94 1258.24 1474.95 1262.85 Q1478.96 1267.43 1486.21 1267.43 Q1489.45 1267.43 1492.61 1266.58 Q1495.81 1265.69 1498.97 1263.95 L1498.97 1270.83 Q1495.85 1272.29 1492.49 1273.02 Q1489.17 1273.75 1485.4 1273.75 Q1475.15 1273.75 1469.12 1267.31 Q1463.08 1260.87 1463.08 1249.93 Q1463.08 1238.83 1469.16 1232.47 Q1475.27 1226.11 1485.89 1226.11 Q1489.33 1226.11 1492.61 1226.84 Q1495.89 1227.53 1498.97 1228.95 Z\" fill=\"#000000\" fill-rule=\"evenodd\" fill-opacity=\"1\" /><path clip-path=\"url(#clip120)\" d=\"M1549.65 1245.19 L1549.65 1272.58 L1542.19 1272.58 L1542.19 1245.43 Q1542.19 1238.99 1539.68 1235.79 Q1537.17 1232.59 1532.15 1232.59 Q1526.11 1232.59 1522.63 1236.44 Q1519.14 1240.29 1519.14 1246.93 L1519.14 1272.58 L1511.65 1272.58 L1511.65 1209.54 L1519.14 1209.54 L1519.14 1234.25 Q1521.82 1230.16 1525.42 1228.14 Q1529.07 1226.11 1533.81 1226.11 Q1541.63 1226.11 1545.64 1230.97 Q1549.65 1235.79 1549.65 1245.19 Z\" fill=\"#000000\" fill-rule=\"evenodd\" fill-opacity=\"1\" /><path clip-path=\"url(#clip120)\" d=\"M1585.13 1249.77 Q1576.1 1249.77 1572.62 1251.84 Q1569.13 1253.9 1569.13 1258.88 Q1569.13 1262.85 1571.73 1265.2 Q1574.36 1267.51 1578.85 1267.51 Q1585.05 1267.51 1588.78 1263.14 Q1592.55 1258.72 1592.55 1251.43 L1592.55 1249.77 L1585.13 1249.77 M1600 1246.69 L1600 1272.58 L1592.55 1272.58 L1592.55 1265.69 Q1589.99 1269.82 1586.19 1271.81 Q1582.38 1273.75 1576.87 1273.75 Q1569.9 1273.75 1565.77 1269.86 Q1561.68 1265.93 1561.68 1259.37 Q1561.68 1251.71 1566.78 1247.82 Q1571.93 1243.94 1582.1 1243.94 L1592.55 1243.94 L1592.55 1243.21 Q1592.55 1238.06 1589.14 1235.27 Q1585.78 1232.43 1579.66 1232.43 Q1575.78 1232.43 1572.09 1233.36 Q1568.4 1234.29 1565 1236.16 L1565 1229.27 Q1569.09 1227.69 1572.94 1226.92 Q1576.79 1226.11 1580.43 1226.11 Q1590.28 1226.11 1595.14 1231.22 Q1600 1236.32 1600 1246.69 Z\" fill=\"#000000\" fill-rule=\"evenodd\" fill-opacity=\"1\" /><path clip-path=\"url(#clip120)\" d=\"M1653.07 1245.19 L1653.07 1272.58 L1645.61 1272.58 L1645.61 1245.43 Q1645.61 1238.99 1643.1 1235.79 Q1640.59 1232.59 1635.57 1232.59 Q1629.53 1232.59 1626.05 1236.44 Q1622.56 1240.29 1622.56 1246.93 L1622.56 1272.58 L1615.07 1272.58 L1615.07 1227.21 L1622.56 1227.21 L1622.56 1234.25 Q1625.24 1230.16 1628.84 1228.14 Q1632.49 1226.11 1637.23 1226.11 Q1645.05 1226.11 1649.06 1230.97 Q1653.07 1235.79 1653.07 1245.19 Z\" fill=\"#000000\" fill-rule=\"evenodd\" fill-opacity=\"1\" /><path clip-path=\"url(#clip120)\" d=\"M1697.79 1249.36 Q1697.79 1241.26 1694.43 1236.81 Q1691.11 1232.35 1685.07 1232.35 Q1679.07 1232.35 1675.71 1236.81 Q1672.39 1241.26 1672.39 1249.36 Q1672.39 1257.43 1675.71 1261.88 Q1679.07 1266.34 1685.07 1266.34 Q1691.11 1266.34 1694.43 1261.88 Q1697.79 1257.43 1697.79 1249.36 M1705.24 1266.95 Q1705.24 1278.53 1700.1 1284.16 Q1694.95 1289.83 1684.34 1289.83 Q1680.41 1289.83 1676.93 1289.23 Q1673.44 1288.66 1670.16 1287.44 L1670.16 1280.19 Q1673.44 1281.97 1676.64 1282.82 Q1679.84 1283.68 1683.17 1283.68 Q1690.5 1283.68 1694.14 1279.83 Q1697.79 1276.02 1697.79 1268.28 L1697.79 1264.6 Q1695.48 1268.61 1691.87 1270.59 Q1688.27 1272.58 1683.25 1272.58 Q1674.9 1272.58 1669.8 1266.22 Q1664.69 1259.86 1664.69 1249.36 Q1664.69 1238.83 1669.8 1232.47 Q1674.9 1226.11 1683.25 1226.11 Q1688.27 1226.11 1691.87 1228.1 Q1695.48 1230.08 1697.79 1234.09 L1697.79 1227.21 L1705.24 1227.21 L1705.24 1266.95 Z\" fill=\"#000000\" fill-rule=\"evenodd\" fill-opacity=\"1\" /><path clip-path=\"url(#clip120)\" d=\"M1759.4 1248.03 L1759.4 1251.67 L1725.13 1251.67 Q1725.62 1259.37 1729.75 1263.42 Q1733.92 1267.43 1741.34 1267.43 Q1745.63 1267.43 1749.64 1266.38 Q1753.69 1265.32 1757.66 1263.22 L1757.66 1270.27 Q1753.65 1271.97 1749.44 1272.86 Q1745.23 1273.75 1740.89 1273.75 Q1730.03 1273.75 1723.67 1267.43 Q1717.36 1261.11 1717.36 1250.34 Q1717.36 1239.2 1723.35 1232.67 Q1729.39 1226.11 1739.59 1226.11 Q1748.75 1226.11 1754.06 1232.03 Q1759.4 1237.9 1759.4 1248.03 M1751.95 1245.84 Q1751.87 1239.72 1748.51 1236.08 Q1745.18 1232.43 1739.68 1232.43 Q1733.44 1232.43 1729.67 1235.96 Q1725.94 1239.48 1725.38 1245.88 L1751.95 1245.84 Z\" fill=\"#000000\" fill-rule=\"evenodd\" fill-opacity=\"1\" /><path clip-path=\"url(#clip120)\" d=\"M1800.56 1228.54 L1800.56 1235.59 Q1797.4 1233.97 1794 1233.16 Q1790.6 1232.35 1786.95 1232.35 Q1781.4 1232.35 1778.6 1234.05 Q1775.85 1235.75 1775.85 1239.16 Q1775.85 1241.75 1777.84 1243.25 Q1779.82 1244.71 1785.82 1246.04 L1788.37 1246.61 Q1796.31 1248.31 1799.63 1251.43 Q1802.99 1254.51 1802.99 1260.06 Q1802.99 1266.38 1797.97 1270.06 Q1792.99 1273.75 1784.24 1273.75 Q1780.59 1273.75 1776.62 1273.02 Q1772.69 1272.33 1768.32 1270.92 L1768.32 1263.22 Q1772.45 1265.37 1776.46 1266.46 Q1780.47 1267.51 1784.4 1267.51 Q1789.66 1267.51 1792.5 1265.73 Q1795.33 1263.91 1795.33 1260.63 Q1795.33 1257.59 1793.27 1255.97 Q1791.24 1254.35 1784.32 1252.85 L1781.72 1252.24 Q1774.8 1250.78 1771.72 1247.78 Q1768.64 1244.75 1768.64 1239.48 Q1768.64 1233.08 1773.18 1229.6 Q1777.71 1226.11 1786.06 1226.11 Q1790.19 1226.11 1793.84 1226.72 Q1797.48 1227.33 1800.56 1228.54 Z\" fill=\"#000000\" fill-rule=\"evenodd\" fill-opacity=\"1\" /><path clip-path=\"url(#clip120)\" d=\"M1841.23 1227.21 L1848.69 1227.21 L1848.69 1272.58 L1841.23 1272.58 L1841.23 1227.21 M1841.23 1209.54 L1848.69 1209.54 L1848.69 1218.98 L1841.23 1218.98 L1841.23 1209.54 Z\" fill=\"#000000\" fill-rule=\"evenodd\" fill-opacity=\"1\" /><path clip-path=\"url(#clip120)\" d=\"M1902 1245.19 L1902 1272.58 L1894.54 1272.58 L1894.54 1245.43 Q1894.54 1238.99 1892.03 1235.79 Q1889.52 1232.59 1884.5 1232.59 Q1878.46 1232.59 1874.98 1236.44 Q1871.49 1240.29 1871.49 1246.93 L1871.49 1272.58 L1864 1272.58 L1864 1227.21 L1871.49 1227.21 L1871.49 1234.25 Q1874.17 1230.16 1877.77 1228.14 Q1881.42 1226.11 1886.16 1226.11 Q1893.97 1226.11 1897.98 1230.97 Q1902 1235.79 1902 1245.19 Z\" fill=\"#000000\" fill-rule=\"evenodd\" fill-opacity=\"1\" /><path clip-path=\"url(#clip120)\" d=\"M1943.23 1209.54 L1950.69 1209.54 L1950.69 1272.58 L1943.23 1272.58 L1943.23 1209.54 Z\" fill=\"#000000\" fill-rule=\"evenodd\" fill-opacity=\"1\" /><path clip-path=\"url(#clip120)\" d=\"M1983.86 1232.43 Q1977.87 1232.43 1974.38 1237.13 Q1970.9 1241.79 1970.9 1249.93 Q1970.9 1258.07 1974.34 1262.77 Q1977.83 1267.43 1983.86 1267.43 Q1989.82 1267.43 1993.3 1262.73 Q1996.79 1258.03 1996.79 1249.93 Q1996.79 1241.87 1993.3 1237.17 Q1989.82 1232.43 1983.86 1232.43 M1983.86 1226.11 Q1993.59 1226.11 1999.14 1232.43 Q2004.69 1238.75 2004.69 1249.93 Q2004.69 1261.07 1999.14 1267.43 Q1993.59 1273.75 1983.86 1273.75 Q1974.1 1273.75 1968.55 1267.43 Q1963.04 1261.07 1963.04 1249.93 Q1963.04 1238.75 1968.55 1232.43 Q1974.1 1226.11 1983.86 1226.11 Z\" fill=\"#000000\" fill-rule=\"evenodd\" fill-opacity=\"1\" /><path clip-path=\"url(#clip120)\" d=\"M2045.96 1228.54 L2045.96 1235.59 Q2042.8 1233.97 2039.4 1233.16 Q2036 1232.35 2032.35 1232.35 Q2026.8 1232.35 2024.01 1234.05 Q2021.25 1235.75 2021.25 1239.16 Q2021.25 1241.75 2023.24 1243.25 Q2025.22 1244.71 2031.22 1246.04 L2033.77 1246.61 Q2041.71 1248.31 2045.03 1251.43 Q2048.39 1254.51 2048.39 1260.06 Q2048.39 1266.38 2043.37 1270.06 Q2038.39 1273.75 2029.64 1273.75 Q2025.99 1273.75 2022.02 1273.02 Q2018.09 1272.33 2013.72 1270.92 L2013.72 1263.22 Q2017.85 1265.37 2021.86 1266.46 Q2025.87 1267.51 2029.8 1267.51 Q2035.07 1267.51 2037.9 1265.73 Q2040.74 1263.91 2040.74 1260.63 Q2040.74 1257.59 2038.67 1255.97 Q2036.65 1254.35 2029.72 1252.85 L2027.13 1252.24 Q2020.2 1250.78 2017.12 1247.78 Q2014.04 1244.75 2014.04 1239.48 Q2014.04 1233.08 2018.58 1229.6 Q2023.12 1226.11 2031.46 1226.11 Q2035.59 1226.11 2039.24 1226.72 Q2042.89 1227.33 2045.96 1228.54 Z\" fill=\"#000000\" fill-rule=\"evenodd\" fill-opacity=\"1\" /><path clip-path=\"url(#clip120)\" d=\"M2067.64 1214.32 L2067.64 1227.21 L2082.99 1227.21 L2082.99 1233 L2067.64 1233 L2067.64 1257.63 Q2067.64 1263.18 2069.14 1264.76 Q2070.67 1266.34 2075.33 1266.34 L2082.99 1266.34 L2082.99 1272.58 L2075.33 1272.58 Q2066.71 1272.58 2063.42 1269.38 Q2060.14 1266.14 2060.14 1257.63 L2060.14 1233 L2054.67 1233 L2054.67 1227.21 L2060.14 1227.21 L2060.14 1214.32 L2067.64 1214.32 Z\" fill=\"#000000\" fill-rule=\"evenodd\" fill-opacity=\"1\" /><path clip-path=\"url(#clip120)\" d=\"M2136.75 1232.43 Q2130.75 1232.43 2127.27 1237.13 Q2123.78 1241.79 2123.78 1249.93 Q2123.78 1258.07 2127.23 1262.77 Q2130.71 1267.43 2136.75 1267.43 Q2142.7 1267.43 2146.18 1262.73 Q2149.67 1258.03 2149.67 1249.93 Q2149.67 1241.87 2146.18 1237.17 Q2142.7 1232.43 2136.75 1232.43 M2136.75 1226.11 Q2146.47 1226.11 2152.02 1232.43 Q2157.57 1238.75 2157.57 1249.93 Q2157.57 1261.07 2152.02 1267.43 Q2146.47 1273.75 2136.75 1273.75 Q2126.98 1273.75 2121.43 1267.43 Q2115.92 1261.07 2115.92 1249.93 Q2115.92 1238.75 2121.43 1232.43 Q2126.98 1226.11 2136.75 1226.11 Z\" fill=\"#000000\" fill-rule=\"evenodd\" fill-opacity=\"1\" /><path clip-path=\"url(#clip120)\" d=\"M2196.21 1234.17 Q2194.96 1233.44 2193.46 1233.12 Q2192 1232.76 2190.22 1232.76 Q2183.9 1232.76 2180.49 1236.89 Q2177.13 1240.98 2177.13 1248.68 L2177.13 1272.58 L2169.64 1272.58 L2169.64 1227.21 L2177.13 1227.21 L2177.13 1234.25 Q2179.48 1230.12 2183.25 1228.14 Q2187.02 1226.11 2192.4 1226.11 Q2193.17 1226.11 2194.11 1226.23 Q2195.04 1226.31 2196.17 1226.52 L2196.21 1234.17 Z\" fill=\"#000000\" fill-rule=\"evenodd\" fill-opacity=\"1\" /><path clip-path=\"url(#clip120)\" d=\"M2232.43 1234.09 L2232.43 1209.54 L2239.88 1209.54 L2239.88 1272.58 L2232.43 1272.58 L2232.43 1265.77 Q2230.08 1269.82 2226.47 1271.81 Q2222.91 1273.75 2217.88 1273.75 Q2209.66 1273.75 2204.48 1267.19 Q2199.33 1260.63 2199.33 1249.93 Q2199.33 1239.24 2204.48 1232.67 Q2209.66 1226.11 2217.88 1226.11 Q2222.91 1226.11 2226.47 1228.1 Q2230.08 1230.04 2232.43 1234.09 M2207.03 1249.93 Q2207.03 1258.15 2210.39 1262.85 Q2213.79 1267.51 2219.71 1267.51 Q2225.62 1267.51 2229.02 1262.85 Q2232.43 1258.15 2232.43 1249.93 Q2232.43 1241.71 2229.02 1237.05 Q2225.62 1232.35 2219.71 1232.35 Q2213.79 1232.35 2210.39 1237.05 Q2207.03 1241.71 2207.03 1249.93 Z\" fill=\"#000000\" fill-rule=\"evenodd\" fill-opacity=\"1\" /><path clip-path=\"url(#clip120)\" d=\"M2294.04 1248.03 L2294.04 1251.67 L2259.77 1251.67 Q2260.26 1259.37 2264.39 1263.42 Q2268.56 1267.43 2275.97 1267.43 Q2280.27 1267.43 2284.28 1266.38 Q2288.33 1265.32 2292.3 1263.22 L2292.3 1270.27 Q2288.29 1271.97 2284.08 1272.86 Q2279.86 1273.75 2275.53 1273.75 Q2264.67 1273.75 2258.31 1267.43 Q2251.99 1261.11 2251.99 1250.34 Q2251.99 1239.2 2257.99 1232.67 Q2264.02 1226.11 2274.23 1226.11 Q2283.39 1226.11 2288.69 1232.03 Q2294.04 1237.9 2294.04 1248.03 M2286.59 1245.84 Q2286.51 1239.72 2283.14 1236.08 Q2279.82 1232.43 2274.31 1232.43 Q2268.08 1232.43 2264.31 1235.96 Q2260.58 1239.48 2260.01 1245.88 L2286.59 1245.84 Z\" fill=\"#000000\" fill-rule=\"evenodd\" fill-opacity=\"1\" /><path clip-path=\"url(#clip120)\" d=\"M2332.57 1234.17 Q2331.31 1233.44 2329.81 1233.12 Q2328.35 1232.76 2326.57 1232.76 Q2320.25 1232.76 2316.85 1236.89 Q2313.49 1240.98 2313.49 1248.68 L2313.49 1272.58 L2305.99 1272.58 L2305.99 1227.21 L2313.49 1227.21 L2313.49 1234.25 Q2315.84 1230.12 2319.6 1228.14 Q2323.37 1226.11 2328.76 1226.11 Q2329.53 1226.11 2330.46 1226.23 Q2331.39 1226.31 2332.53 1226.52 L2332.57 1234.17 Z\" fill=\"#000000\" fill-rule=\"evenodd\" fill-opacity=\"1\" /><path clip-path=\"url(#clip120)\" d=\"M2369.31 1228.54 L2369.31 1235.59 Q2366.15 1233.97 2362.75 1233.16 Q2359.34 1232.35 2355.7 1232.35 Q2350.15 1232.35 2347.35 1234.05 Q2344.6 1235.75 2344.6 1239.16 Q2344.6 1241.75 2346.58 1243.25 Q2348.57 1244.71 2354.56 1246.04 L2357.11 1246.61 Q2365.05 1248.31 2368.38 1251.43 Q2371.74 1254.51 2371.74 1260.06 Q2371.74 1266.38 2366.71 1270.06 Q2361.73 1273.75 2352.98 1273.75 Q2349.34 1273.75 2345.37 1273.02 Q2341.44 1272.33 2337.06 1270.92 L2337.06 1263.22 Q2341.19 1265.37 2345.2 1266.46 Q2349.22 1267.51 2353.14 1267.51 Q2358.41 1267.51 2361.25 1265.73 Q2364.08 1263.91 2364.08 1260.63 Q2364.08 1257.59 2362.02 1255.97 Q2359.99 1254.35 2353.06 1252.85 L2350.47 1252.24 Q2343.54 1250.78 2340.47 1247.78 Q2337.39 1244.75 2337.39 1239.48 Q2337.39 1233.08 2341.92 1229.6 Q2346.46 1226.11 2354.81 1226.11 Q2358.94 1226.11 2362.58 1226.72 Q2366.23 1227.33 2369.31 1228.54 Z\" fill=\"#000000\" fill-rule=\"evenodd\" fill-opacity=\"1\" /><polyline clip-path=\"url(#clip123)\" style=\"stroke:#ff0000; stroke-linecap:round; stroke-linejoin:round; stroke-width:4; stroke-opacity:1; fill:none\" points=\"359.582,1433.69 540.37,2180.19 721.158,1842.38 1263.52,1355.76 2167.46,1768.6 3071.4,2147.03 \"/>\n",
       "<path clip-path=\"url(#clip120)\" d=\"M2258.54 1463.84 L3056.94 1463.84 L3056.94 1360.16 L2258.54 1360.16  Z\" fill=\"#ffffff\" fill-rule=\"evenodd\" fill-opacity=\"1\"/>\n",
       "<polyline clip-path=\"url(#clip120)\" style=\"stroke:#000000; stroke-linecap:round; stroke-linejoin:round; stroke-width:4; stroke-opacity:1; fill:none\" points=\"2258.54,1463.84 3056.94,1463.84 3056.94,1360.16 2258.54,1360.16 2258.54,1463.84 \"/>\n",
       "<polyline clip-path=\"url(#clip120)\" style=\"stroke:#ff0000; stroke-linecap:round; stroke-linejoin:round; stroke-width:4; stroke-opacity:1; fill:none\" points=\"2290.48,1412 2482.11,1412 \"/>\n",
       "<path clip-path=\"url(#clip120)\" d=\"M2514.05 1394.72 L2520.35 1394.72 L2535.67 1423.63 L2535.67 1394.72 L2540.21 1394.72 L2540.21 1429.28 L2533.91 1429.28 L2518.59 1400.37 L2518.59 1429.28 L2514.05 1429.28 L2514.05 1394.72 Z\" fill=\"#000000\" fill-rule=\"evenodd\" fill-opacity=\"1\" /><path clip-path=\"url(#clip120)\" d=\"M2548.89 1419.05 L2548.89 1403.36 L2553.15 1403.36 L2553.15 1418.89 Q2553.15 1422.57 2554.58 1424.42 Q2556.02 1426.25 2558.89 1426.25 Q2562.34 1426.25 2564.33 1424.05 Q2566.34 1421.85 2566.34 1418.05 L2566.34 1403.36 L2570.6 1403.36 L2570.6 1429.28 L2566.34 1429.28 L2566.34 1425.3 Q2564.79 1427.66 2562.73 1428.82 Q2560.7 1429.95 2557.99 1429.95 Q2553.52 1429.95 2551.21 1427.18 Q2548.89 1424.4 2548.89 1419.05 M2559.61 1402.73 L2559.61 1402.73 Z\" fill=\"#000000\" fill-rule=\"evenodd\" fill-opacity=\"1\" /><path clip-path=\"url(#clip120)\" d=\"M2599.56 1408.33 Q2601.16 1405.46 2603.38 1404.1 Q2605.6 1402.73 2608.61 1402.73 Q2612.66 1402.73 2614.86 1405.58 Q2617.06 1408.4 2617.06 1413.63 L2617.06 1429.28 L2612.78 1429.28 L2612.78 1413.77 Q2612.78 1410.05 2611.46 1408.24 Q2610.14 1406.43 2607.43 1406.43 Q2604.12 1406.43 2602.2 1408.63 Q2600.28 1410.83 2600.28 1414.63 L2600.28 1429.28 L2596 1429.28 L2596 1413.77 Q2596 1410.02 2594.68 1408.24 Q2593.36 1406.43 2590.6 1406.43 Q2587.34 1406.43 2585.42 1408.66 Q2583.5 1410.86 2583.5 1414.63 L2583.5 1429.28 L2579.21 1429.28 L2579.21 1403.36 L2583.5 1403.36 L2583.5 1407.38 Q2584.96 1405 2586.99 1403.87 Q2589.03 1402.73 2591.83 1402.73 Q2594.65 1402.73 2596.62 1404.17 Q2598.61 1405.6 2599.56 1408.33 Z\" fill=\"#000000\" fill-rule=\"evenodd\" fill-opacity=\"1\" /><path clip-path=\"url(#clip120)\" d=\"M2644.17 1416.34 Q2644.17 1411.64 2642.22 1408.98 Q2640.3 1406.3 2636.92 1406.3 Q2633.54 1406.3 2631.6 1408.98 Q2629.68 1411.64 2629.68 1416.34 Q2629.68 1421.04 2631.6 1423.73 Q2633.54 1426.39 2636.92 1426.39 Q2640.3 1426.39 2642.22 1423.73 Q2644.17 1421.04 2644.17 1416.34 M2629.68 1407.29 Q2631.02 1404.98 2633.06 1403.87 Q2635.12 1402.73 2637.96 1402.73 Q2642.69 1402.73 2645.63 1406.48 Q2648.59 1410.23 2648.59 1416.34 Q2648.59 1422.45 2645.63 1426.2 Q2642.69 1429.95 2637.96 1429.95 Q2635.12 1429.95 2633.06 1428.84 Q2631.02 1427.71 2629.68 1425.39 L2629.68 1429.28 L2625.39 1429.28 L2625.39 1393.26 L2629.68 1393.26 L2629.68 1407.29 Z\" fill=\"#000000\" fill-rule=\"evenodd\" fill-opacity=\"1\" /><path clip-path=\"url(#clip120)\" d=\"M2677.83 1415.25 L2677.83 1417.34 L2658.24 1417.34 Q2658.52 1421.74 2660.88 1424.05 Q2663.26 1426.34 2667.5 1426.34 Q2669.95 1426.34 2672.25 1425.74 Q2674.56 1425.14 2676.83 1423.93 L2676.83 1427.96 Q2674.54 1428.93 2672.13 1429.44 Q2669.72 1429.95 2667.25 1429.95 Q2661.04 1429.95 2657.41 1426.34 Q2653.8 1422.73 2653.8 1416.57 Q2653.8 1410.21 2657.22 1406.48 Q2660.67 1402.73 2666.51 1402.73 Q2671.74 1402.73 2674.77 1406.11 Q2677.83 1409.47 2677.83 1415.25 M2673.57 1414 Q2673.52 1410.51 2671.6 1408.43 Q2669.7 1406.34 2666.55 1406.34 Q2662.99 1406.34 2660.83 1408.36 Q2658.7 1410.37 2658.38 1414.03 L2673.57 1414 Z\" fill=\"#000000\" fill-rule=\"evenodd\" fill-opacity=\"1\" /><path clip-path=\"url(#clip120)\" d=\"M2699.84 1407.34 Q2699.12 1406.92 2698.26 1406.74 Q2697.43 1406.53 2696.41 1406.53 Q2692.8 1406.53 2690.86 1408.89 Q2688.94 1411.23 2688.94 1415.62 L2688.94 1429.28 L2684.65 1429.28 L2684.65 1403.36 L2688.94 1403.36 L2688.94 1407.38 Q2690.28 1405.02 2692.43 1403.89 Q2694.58 1402.73 2697.66 1402.73 Q2698.1 1402.73 2698.64 1402.8 Q2699.17 1402.85 2699.82 1402.96 L2699.84 1407.34 Z\" fill=\"#000000\" fill-rule=\"evenodd\" fill-opacity=\"1\" /><path clip-path=\"url(#clip120)\" d=\"M2729.42 1406.34 Q2726 1406.34 2724.01 1409.03 Q2722.01 1411.69 2722.01 1416.34 Q2722.01 1420.99 2723.98 1423.68 Q2725.97 1426.34 2729.42 1426.34 Q2732.82 1426.34 2734.82 1423.66 Q2736.81 1420.97 2736.81 1416.34 Q2736.81 1411.74 2734.82 1409.05 Q2732.82 1406.34 2729.42 1406.34 M2729.42 1402.73 Q2734.98 1402.73 2738.15 1406.34 Q2741.32 1409.95 2741.32 1416.34 Q2741.32 1422.71 2738.15 1426.34 Q2734.98 1429.95 2729.42 1429.95 Q2723.84 1429.95 2720.67 1426.34 Q2717.52 1422.71 2717.52 1416.34 Q2717.52 1409.95 2720.67 1406.34 Q2723.84 1402.73 2729.42 1402.73 Z\" fill=\"#000000\" fill-rule=\"evenodd\" fill-opacity=\"1\" /><path clip-path=\"url(#clip120)\" d=\"M2761.51 1393.26 L2761.51 1396.81 L2757.43 1396.81 Q2755.14 1396.81 2754.24 1397.73 Q2753.36 1398.66 2753.36 1401.06 L2753.36 1403.36 L2760.37 1403.36 L2760.37 1406.67 L2753.36 1406.67 L2753.36 1429.28 L2749.07 1429.28 L2749.07 1406.67 L2745 1406.67 L2745 1403.36 L2749.07 1403.36 L2749.07 1401.55 Q2749.07 1397.22 2751.09 1395.25 Q2753.1 1393.26 2757.48 1393.26 L2761.51 1393.26 Z\" fill=\"#000000\" fill-rule=\"evenodd\" fill-opacity=\"1\" /><path clip-path=\"url(#clip120)\" d=\"M2780.14 1393.26 L2784.4 1393.26 L2784.4 1429.28 L2780.14 1429.28 L2780.14 1393.26 Z\" fill=\"#000000\" fill-rule=\"evenodd\" fill-opacity=\"1\" /><path clip-path=\"url(#clip120)\" d=\"M2803.36 1406.34 Q2799.93 1406.34 2797.94 1409.03 Q2795.95 1411.69 2795.95 1416.34 Q2795.95 1420.99 2797.92 1423.68 Q2799.91 1426.34 2803.36 1426.34 Q2806.76 1426.34 2808.75 1423.66 Q2810.74 1420.97 2810.74 1416.34 Q2810.74 1411.74 2808.75 1409.05 Q2806.76 1406.34 2803.36 1406.34 M2803.36 1402.73 Q2808.91 1402.73 2812.08 1406.34 Q2815.25 1409.95 2815.25 1416.34 Q2815.25 1422.71 2812.08 1426.34 Q2808.91 1429.95 2803.36 1429.95 Q2797.78 1429.95 2794.61 1426.34 Q2791.46 1422.71 2791.46 1416.34 Q2791.46 1409.95 2794.61 1406.34 Q2797.78 1402.73 2803.36 1402.73 Z\" fill=\"#000000\" fill-rule=\"evenodd\" fill-opacity=\"1\" /><path clip-path=\"url(#clip120)\" d=\"M2838.84 1404.12 L2838.84 1408.15 Q2837.04 1407.22 2835.09 1406.76 Q2833.15 1406.3 2831.06 1406.3 Q2827.89 1406.3 2826.3 1407.27 Q2824.72 1408.24 2824.72 1410.18 Q2824.72 1411.67 2825.86 1412.52 Q2826.99 1413.36 2830.42 1414.12 L2831.88 1414.44 Q2836.41 1415.42 2838.31 1417.2 Q2840.23 1418.96 2840.23 1422.13 Q2840.23 1425.74 2837.36 1427.85 Q2834.51 1429.95 2829.51 1429.95 Q2827.43 1429.95 2825.16 1429.54 Q2822.92 1429.14 2820.42 1428.33 L2820.42 1423.93 Q2822.78 1425.16 2825.07 1425.79 Q2827.36 1426.39 2829.61 1426.39 Q2832.62 1426.39 2834.24 1425.37 Q2835.86 1424.33 2835.86 1422.45 Q2835.86 1420.72 2834.68 1419.79 Q2833.52 1418.87 2829.56 1418.01 L2828.08 1417.66 Q2824.12 1416.83 2822.36 1415.12 Q2820.6 1413.38 2820.6 1410.37 Q2820.6 1406.71 2823.19 1404.72 Q2825.79 1402.73 2830.56 1402.73 Q2832.92 1402.73 2835 1403.08 Q2837.08 1403.43 2838.84 1404.12 Z\" fill=\"#000000\" fill-rule=\"evenodd\" fill-opacity=\"1\" /><path clip-path=\"url(#clip120)\" d=\"M2851.23 1395.99 L2851.23 1403.36 L2860 1403.36 L2860 1406.67 L2851.23 1406.67 L2851.23 1420.74 Q2851.23 1423.91 2852.08 1424.81 Q2852.96 1425.72 2855.62 1425.72 L2860 1425.72 L2860 1429.28 L2855.62 1429.28 Q2850.69 1429.28 2848.82 1427.45 Q2846.94 1425.6 2846.94 1420.74 L2846.94 1406.67 L2843.82 1406.67 L2843.82 1403.36 L2846.94 1403.36 L2846.94 1395.99 L2851.23 1395.99 Z\" fill=\"#000000\" fill-rule=\"evenodd\" fill-opacity=\"1\" /><path clip-path=\"url(#clip120)\" d=\"M2890.72 1406.34 Q2887.29 1406.34 2885.3 1409.03 Q2883.31 1411.69 2883.31 1416.34 Q2883.31 1420.99 2885.28 1423.68 Q2887.27 1426.34 2890.72 1426.34 Q2894.12 1426.34 2896.11 1423.66 Q2898.1 1420.97 2898.1 1416.34 Q2898.1 1411.74 2896.11 1409.05 Q2894.12 1406.34 2890.72 1406.34 M2890.72 1402.73 Q2896.27 1402.73 2899.44 1406.34 Q2902.62 1409.95 2902.62 1416.34 Q2902.62 1422.71 2899.44 1426.34 Q2896.27 1429.95 2890.72 1429.95 Q2885.14 1429.95 2881.97 1426.34 Q2878.82 1422.71 2878.82 1416.34 Q2878.82 1409.95 2881.97 1406.34 Q2885.14 1402.73 2890.72 1402.73 Z\" fill=\"#000000\" fill-rule=\"evenodd\" fill-opacity=\"1\" /><path clip-path=\"url(#clip120)\" d=\"M2924.7 1407.34 Q2923.98 1406.92 2923.12 1406.74 Q2922.29 1406.53 2921.27 1406.53 Q2917.66 1406.53 2915.72 1408.89 Q2913.8 1411.23 2913.8 1415.62 L2913.8 1429.28 L2909.51 1429.28 L2909.51 1403.36 L2913.8 1403.36 L2913.8 1407.38 Q2915.14 1405.02 2917.29 1403.89 Q2919.44 1402.73 2922.52 1402.73 Q2922.96 1402.73 2923.49 1402.8 Q2924.03 1402.85 2924.68 1402.96 L2924.7 1407.34 Z\" fill=\"#000000\" fill-rule=\"evenodd\" fill-opacity=\"1\" /><path clip-path=\"url(#clip120)\" d=\"M2945.39 1407.29 L2945.39 1393.26 L2949.65 1393.26 L2949.65 1429.28 L2945.39 1429.28 L2945.39 1425.39 Q2944.05 1427.71 2941.99 1428.84 Q2939.95 1429.95 2937.08 1429.95 Q2932.38 1429.95 2929.42 1426.2 Q2926.48 1422.45 2926.48 1416.34 Q2926.48 1410.23 2929.42 1406.48 Q2932.38 1402.73 2937.08 1402.73 Q2939.95 1402.73 2941.99 1403.87 Q2944.05 1404.98 2945.39 1407.29 M2930.88 1416.34 Q2930.88 1421.04 2932.8 1423.73 Q2934.74 1426.39 2938.12 1426.39 Q2941.5 1426.39 2943.45 1423.73 Q2945.39 1421.04 2945.39 1416.34 Q2945.39 1411.64 2943.45 1408.98 Q2941.5 1406.3 2938.12 1406.3 Q2934.74 1406.3 2932.8 1408.98 Q2930.88 1411.64 2930.88 1416.34 Z\" fill=\"#000000\" fill-rule=\"evenodd\" fill-opacity=\"1\" /><path clip-path=\"url(#clip120)\" d=\"M2980.6 1415.25 L2980.6 1417.34 L2961.02 1417.34 Q2961.3 1421.74 2963.66 1424.05 Q2966.04 1426.34 2970.28 1426.34 Q2972.73 1426.34 2975.02 1425.74 Q2977.34 1425.14 2979.61 1423.93 L2979.61 1427.96 Q2977.31 1428.93 2974.91 1429.44 Q2972.5 1429.95 2970.02 1429.95 Q2963.82 1429.95 2960.18 1426.34 Q2956.57 1422.73 2956.57 1416.57 Q2956.57 1410.21 2960 1406.48 Q2963.45 1402.73 2969.28 1402.73 Q2974.51 1402.73 2977.55 1406.11 Q2980.6 1409.47 2980.6 1415.25 M2976.34 1414 Q2976.3 1410.51 2974.37 1408.43 Q2972.48 1406.34 2969.33 1406.34 Q2965.76 1406.34 2963.61 1408.36 Q2961.48 1410.37 2961.16 1414.03 L2976.34 1414 Z\" fill=\"#000000\" fill-rule=\"evenodd\" fill-opacity=\"1\" /><path clip-path=\"url(#clip120)\" d=\"M3002.61 1407.34 Q3001.9 1406.92 3001.04 1406.74 Q3000.21 1406.53 2999.19 1406.53 Q2995.58 1406.53 2993.63 1408.89 Q2991.71 1411.23 2991.71 1415.62 L2991.71 1429.28 L2987.43 1429.28 L2987.43 1403.36 L2991.71 1403.36 L2991.71 1407.38 Q2993.05 1405.02 2995.21 1403.89 Q2997.36 1402.73 3000.44 1402.73 Q3000.88 1402.73 3001.41 1402.8 Q3001.94 1402.85 3002.59 1402.96 L3002.61 1407.34 Z\" fill=\"#000000\" fill-rule=\"evenodd\" fill-opacity=\"1\" /><path clip-path=\"url(#clip120)\" d=\"M3023.61 1404.12 L3023.61 1408.15 Q3021.8 1407.22 3019.86 1406.76 Q3017.92 1406.3 3015.83 1406.3 Q3012.66 1406.3 3011.06 1407.27 Q3009.49 1408.24 3009.49 1410.18 Q3009.49 1411.67 3010.62 1412.52 Q3011.76 1413.36 3015.18 1414.12 L3016.64 1414.44 Q3021.18 1415.42 3023.08 1417.2 Q3025 1418.96 3025 1422.13 Q3025 1425.74 3022.13 1427.85 Q3019.28 1429.95 3014.28 1429.95 Q3012.2 1429.95 3009.93 1429.54 Q3007.68 1429.14 3005.18 1428.33 L3005.18 1423.93 Q3007.55 1425.16 3009.84 1425.79 Q3012.13 1426.39 3014.37 1426.39 Q3017.38 1426.39 3019 1425.37 Q3020.62 1424.33 3020.62 1422.45 Q3020.62 1420.72 3019.44 1419.79 Q3018.29 1418.87 3014.33 1418.01 L3012.85 1417.66 Q3008.89 1416.83 3007.13 1415.12 Q3005.37 1413.38 3005.37 1410.37 Q3005.37 1406.71 3007.96 1404.72 Q3010.55 1402.73 3015.32 1402.73 Q3017.68 1402.73 3019.77 1403.08 Q3021.85 1403.43 3023.61 1404.12 Z\" fill=\"#000000\" fill-rule=\"evenodd\" fill-opacity=\"1\" /></svg>\n"
      ]
     },
     "execution_count": 18,
     "metadata": {},
     "output_type": "execute_result"
    }
   ],
   "source": [
    "using Plots\n",
    "Plots.gr(size=(800, 600))\n",
    "Random.seed!(10)\n",
    "m = 30\n",
    "s = 20\n",
    "S = 180\n",
    "h = 0.1\n",
    "c = 4.0\n",
    "p = 0.75\n",
    "K = 100\n",
    "k = 1.0\n",
    "init_S = 100\n",
    "average_demand = 20\n",
    "\n",
    "profit_mean = zeros(Float64, 6)\n",
    "lost_mean = zeros(Float64, 6)\n",
    "\n",
    "for (i, wage) in enumerate([1, 1.05, 1.1, 1.25, 1.5, 1.75])\n",
    "    results = DataFrame(simulateOneRun(m, s, S, h=h, c=c*wage, p=p, K=K, k=k, init_S=init_S, average_demand=average_demand) for n in 1:1000)\n",
    "    profit_mean[i] = mean(results.profit)\n",
    "    lost_mean[i] = mean(results.lost_orders)\n",
    "end\n",
    "pr = plot(layout = (2, 1))\n",
    "plot!(pr[1],[1, 1.05, 1.1, 1.25, 1.5, 1.75], profit_mean, label=\"Profit\")\n",
    "xlabel!(\"Change in profit on sales in [%]\")\n",
    "ylabel!(\"Results / Outcomes\")\n",
    "title!(\"Charts of the change in profit in relation to the change in sales profit\")\n",
    "plot!(pr[2],[1, 1.05, 1.1, 1.25, 1.5, 1.75], lost_mean, label=\"Number of lost orders\",linecolor = :red)\n",
    "xlabel!(\"Change in profit on sales in [%]\")\n",
    "ylabel!(\"Results / Outcomes\")\n",
    "title!(\"Charts of changes in lost orders\")"
   ]
  },
  {
   "cell_type": "code",
   "execution_count": 20,
   "metadata": {},
   "outputs": [
    {
     "data": {
      "image/svg+xml": [
       "<?xml version=\"1.0\" encoding=\"utf-8\"?>\n",
       "<svg xmlns=\"http://www.w3.org/2000/svg\" xmlns:xlink=\"http://www.w3.org/1999/xlink\" width=\"800\" height=\"600\" viewBox=\"0 0 3200 2400\">\n",
       "<defs>\n",
       "  <clipPath id=\"clip160\">\n",
       "    <rect x=\"0\" y=\"0\" width=\"3200\" height=\"2400\"/>\n",
       "  </clipPath>\n",
       "</defs>\n",
       "<path clip-path=\"url(#clip160)\" d=\"M0 2400 L3200 2400 L3200 0 L0 0  Z\" fill=\"#ffffff\" fill-rule=\"evenodd\" fill-opacity=\"1\"/>\n",
       "<defs>\n",
       "  <clipPath id=\"clip161\">\n",
       "    <rect x=\"640\" y=\"0\" width=\"2241\" height=\"2241\"/>\n",
       "  </clipPath>\n",
       "</defs>\n",
       "<path clip-path=\"url(#clip160)\" d=\"M276.491 2204.92 L3152.76 2204.92 L3152.76 131.032 L276.491 131.032  Z\" fill=\"#ffffff\" fill-rule=\"evenodd\" fill-opacity=\"1\"/>\n",
       "<defs>\n",
       "  <clipPath id=\"clip162\">\n",
       "    <rect x=\"276\" y=\"131\" width=\"2877\" height=\"2075\"/>\n",
       "  </clipPath>\n",
       "</defs>\n",
       "<polyline clip-path=\"url(#clip162)\" style=\"stroke:#000000; stroke-linecap:round; stroke-linejoin:round; stroke-width:2; stroke-opacity:0.1; fill:none\" points=\"357.895,2204.92 357.895,131.032 \"/>\n",
       "<polyline clip-path=\"url(#clip162)\" style=\"stroke:#000000; stroke-linecap:round; stroke-linejoin:round; stroke-width:2; stroke-opacity:0.1; fill:none\" points=\"1081.48,2204.92 1081.48,131.032 \"/>\n",
       "<polyline clip-path=\"url(#clip162)\" style=\"stroke:#000000; stroke-linecap:round; stroke-linejoin:round; stroke-width:2; stroke-opacity:0.1; fill:none\" points=\"1805.07,2204.92 1805.07,131.032 \"/>\n",
       "<polyline clip-path=\"url(#clip162)\" style=\"stroke:#000000; stroke-linecap:round; stroke-linejoin:round; stroke-width:2; stroke-opacity:0.1; fill:none\" points=\"2528.66,2204.92 2528.66,131.032 \"/>\n",
       "<polyline clip-path=\"url(#clip160)\" style=\"stroke:#000000; stroke-linecap:round; stroke-linejoin:round; stroke-width:4; stroke-opacity:1; fill:none\" points=\"276.491,2204.92 3152.76,2204.92 \"/>\n",
       "<polyline clip-path=\"url(#clip160)\" style=\"stroke:#000000; stroke-linecap:round; stroke-linejoin:round; stroke-width:4; stroke-opacity:1; fill:none\" points=\"357.895,2204.92 357.895,2186.02 \"/>\n",
       "<polyline clip-path=\"url(#clip160)\" style=\"stroke:#000000; stroke-linecap:round; stroke-linejoin:round; stroke-width:4; stroke-opacity:1; fill:none\" points=\"1081.48,2204.92 1081.48,2186.02 \"/>\n",
       "<polyline clip-path=\"url(#clip160)\" style=\"stroke:#000000; stroke-linecap:round; stroke-linejoin:round; stroke-width:4; stroke-opacity:1; fill:none\" points=\"1805.07,2204.92 1805.07,2186.02 \"/>\n",
       "<polyline clip-path=\"url(#clip160)\" style=\"stroke:#000000; stroke-linecap:round; stroke-linejoin:round; stroke-width:4; stroke-opacity:1; fill:none\" points=\"2528.66,2204.92 2528.66,2186.02 \"/>\n",
       "<path clip-path=\"url(#clip160)\" d=\"M325.048 2269.78 L332.687 2269.78 L332.687 2243.42 L324.377 2245.09 L324.377 2240.83 L332.64 2239.16 L337.316 2239.16 L337.316 2269.78 L344.955 2269.78 L344.955 2273.72 L325.048 2273.72 L325.048 2269.78 Z\" fill=\"#000000\" fill-rule=\"evenodd\" fill-opacity=\"1\" /><path clip-path=\"url(#clip160)\" d=\"M354.4 2267.84 L359.284 2267.84 L359.284 2273.72 L354.4 2273.72 L354.4 2267.84 Z\" fill=\"#000000\" fill-rule=\"evenodd\" fill-opacity=\"1\" /><path clip-path=\"url(#clip160)\" d=\"M379.469 2242.24 Q375.858 2242.24 374.029 2245.8 Q372.224 2249.34 372.224 2256.47 Q372.224 2263.58 374.029 2267.15 Q375.858 2270.69 379.469 2270.69 Q383.103 2270.69 384.909 2267.15 Q386.737 2263.58 386.737 2256.47 Q386.737 2249.34 384.909 2245.8 Q383.103 2242.24 379.469 2242.24 M379.469 2238.53 Q385.279 2238.53 388.335 2243.14 Q391.413 2247.72 391.413 2256.47 Q391.413 2265.2 388.335 2269.81 Q385.279 2274.39 379.469 2274.39 Q373.659 2274.39 370.58 2269.81 Q367.525 2265.2 367.525 2256.47 Q367.525 2247.72 370.58 2243.14 Q373.659 2238.53 379.469 2238.53 Z\" fill=\"#000000\" fill-rule=\"evenodd\" fill-opacity=\"1\" /><path clip-path=\"url(#clip160)\" d=\"M1049.44 2269.78 L1057.07 2269.78 L1057.07 2243.42 L1048.76 2245.09 L1048.76 2240.83 L1057.03 2239.16 L1061.7 2239.16 L1061.7 2269.78 L1069.34 2269.78 L1069.34 2273.72 L1049.44 2273.72 L1049.44 2269.78 Z\" fill=\"#000000\" fill-rule=\"evenodd\" fill-opacity=\"1\" /><path clip-path=\"url(#clip160)\" d=\"M1078.79 2267.84 L1083.67 2267.84 L1083.67 2273.72 L1078.79 2273.72 L1078.79 2267.84 Z\" fill=\"#000000\" fill-rule=\"evenodd\" fill-opacity=\"1\" /><path clip-path=\"url(#clip160)\" d=\"M1097.88 2269.78 L1114.2 2269.78 L1114.2 2273.72 L1092.26 2273.72 L1092.26 2269.78 Q1094.92 2267.03 1099.5 2262.4 Q1104.11 2257.75 1105.29 2256.41 Q1107.54 2253.88 1108.42 2252.15 Q1109.32 2250.39 1109.32 2248.7 Q1109.32 2245.94 1107.37 2244.21 Q1105.45 2242.47 1102.35 2242.47 Q1100.15 2242.47 1097.7 2243.23 Q1095.27 2244 1092.49 2245.55 L1092.49 2240.83 Q1095.31 2239.69 1097.77 2239.11 Q1100.22 2238.53 1102.26 2238.53 Q1107.63 2238.53 1110.82 2241.22 Q1114.02 2243.91 1114.02 2248.4 Q1114.02 2250.53 1113.21 2252.45 Q1112.42 2254.34 1110.31 2256.94 Q1109.74 2257.61 1106.63 2260.83 Q1103.53 2264.02 1097.88 2269.78 Z\" fill=\"#000000\" fill-rule=\"evenodd\" fill-opacity=\"1\" /><path clip-path=\"url(#clip160)\" d=\"M1771.98 2269.78 L1779.62 2269.78 L1779.62 2243.42 L1771.31 2245.09 L1771.31 2240.83 L1779.57 2239.16 L1784.25 2239.16 L1784.25 2269.78 L1791.89 2269.78 L1791.89 2273.72 L1771.98 2273.72 L1771.98 2269.78 Z\" fill=\"#000000\" fill-rule=\"evenodd\" fill-opacity=\"1\" /><path clip-path=\"url(#clip160)\" d=\"M1801.33 2267.84 L1806.22 2267.84 L1806.22 2273.72 L1801.33 2273.72 L1801.33 2267.84 Z\" fill=\"#000000\" fill-rule=\"evenodd\" fill-opacity=\"1\" /><path clip-path=\"url(#clip160)\" d=\"M1829.25 2243.23 L1817.44 2261.68 L1829.25 2261.68 L1829.25 2243.23 M1828.02 2239.16 L1833.9 2239.16 L1833.9 2261.68 L1838.83 2261.68 L1838.83 2265.57 L1833.9 2265.57 L1833.9 2273.72 L1829.25 2273.72 L1829.25 2265.57 L1813.65 2265.57 L1813.65 2261.06 L1828.02 2239.16 Z\" fill=\"#000000\" fill-rule=\"evenodd\" fill-opacity=\"1\" /><path clip-path=\"url(#clip160)\" d=\"M2495.73 2269.78 L2503.37 2269.78 L2503.37 2243.42 L2495.06 2245.09 L2495.06 2240.83 L2503.33 2239.16 L2508 2239.16 L2508 2269.78 L2515.64 2269.78 L2515.64 2273.72 L2495.73 2273.72 L2495.73 2269.78 Z\" fill=\"#000000\" fill-rule=\"evenodd\" fill-opacity=\"1\" /><path clip-path=\"url(#clip160)\" d=\"M2525.08 2267.84 L2529.97 2267.84 L2529.97 2273.72 L2525.08 2273.72 L2525.08 2267.84 Z\" fill=\"#000000\" fill-rule=\"evenodd\" fill-opacity=\"1\" /><path clip-path=\"url(#clip160)\" d=\"M2550.73 2254.58 Q2547.58 2254.58 2545.73 2256.73 Q2543.9 2258.88 2543.9 2262.63 Q2543.9 2266.36 2545.73 2268.53 Q2547.58 2270.69 2550.73 2270.69 Q2553.88 2270.69 2555.71 2268.53 Q2557.56 2266.36 2557.56 2262.63 Q2557.56 2258.88 2555.71 2256.73 Q2553.88 2254.58 2550.73 2254.58 M2560.01 2239.92 L2560.01 2244.18 Q2558.26 2243.35 2556.45 2242.91 Q2554.67 2242.47 2552.91 2242.47 Q2548.28 2242.47 2545.82 2245.59 Q2543.39 2248.72 2543.05 2255.04 Q2544.41 2253.03 2546.47 2251.96 Q2548.53 2250.87 2551.01 2250.87 Q2556.22 2250.87 2559.23 2254.04 Q2562.26 2257.19 2562.26 2262.63 Q2562.26 2267.96 2559.11 2271.17 Q2555.96 2274.39 2550.73 2274.39 Q2544.74 2274.39 2541.57 2269.81 Q2538.39 2265.2 2538.39 2256.47 Q2538.39 2248.28 2542.28 2243.42 Q2546.17 2238.53 2552.72 2238.53 Q2554.48 2238.53 2556.26 2238.88 Q2558.07 2239.23 2560.01 2239.92 Z\" fill=\"#000000\" fill-rule=\"evenodd\" fill-opacity=\"1\" /><path clip-path=\"url(#clip160)\" d=\"M1244.55 2317.92 L1244.55 2324.7 Q1241.3 2321.68 1237.61 2320.18 Q1233.95 2318.69 1229.81 2318.69 Q1221.66 2318.69 1217.33 2323.69 Q1213.01 2328.65 1213.01 2338.07 Q1213.01 2347.46 1217.33 2352.46 Q1221.66 2357.42 1229.81 2357.42 Q1233.95 2357.42 1237.61 2355.93 Q1241.3 2354.43 1244.55 2351.41 L1244.55 2358.12 Q1241.17 2360.42 1237.39 2361.56 Q1233.63 2362.71 1229.43 2362.71 Q1218.64 2362.71 1212.43 2356.12 Q1206.23 2349.5 1206.23 2338.07 Q1206.23 2326.61 1212.43 2320.02 Q1218.64 2313.4 1229.43 2313.4 Q1233.69 2313.4 1237.45 2314.55 Q1241.24 2315.66 1244.55 2317.92 Z\" fill=\"#000000\" fill-rule=\"evenodd\" fill-opacity=\"1\" /><path clip-path=\"url(#clip160)\" d=\"M1283.86 2340.27 L1283.86 2361.78 L1278 2361.78 L1278 2340.46 Q1278 2335.4 1276.03 2332.88 Q1274.05 2330.37 1270.11 2330.37 Q1265.36 2330.37 1262.63 2333.39 Q1259.89 2336.42 1259.89 2341.64 L1259.89 2361.78 L1254 2361.78 L1254 2312.26 L1259.89 2312.26 L1259.89 2331.67 Q1261.99 2328.46 1264.82 2326.87 Q1267.69 2325.28 1271.41 2325.28 Q1277.55 2325.28 1280.71 2329.1 Q1283.86 2332.88 1283.86 2340.27 Z\" fill=\"#000000\" fill-rule=\"evenodd\" fill-opacity=\"1\" /><path clip-path=\"url(#clip160)\" d=\"M1311.74 2343.86 Q1304.64 2343.86 1301.9 2345.49 Q1299.17 2347.11 1299.17 2351.03 Q1299.17 2354.14 1301.2 2355.99 Q1303.27 2357.81 1306.8 2357.81 Q1311.67 2357.81 1314.6 2354.37 Q1317.56 2350.9 1317.56 2345.17 L1317.56 2343.86 L1311.74 2343.86 M1323.42 2341.45 L1323.42 2361.78 L1317.56 2361.78 L1317.56 2356.37 Q1315.56 2359.62 1312.57 2361.18 Q1309.57 2362.71 1305.24 2362.71 Q1299.77 2362.71 1296.52 2359.65 Q1293.31 2356.56 1293.31 2351.41 Q1293.31 2345.39 1297.32 2342.34 Q1301.36 2339.28 1309.35 2339.28 L1317.56 2339.28 L1317.56 2338.71 Q1317.56 2334.67 1314.89 2332.47 Q1312.25 2330.24 1307.44 2330.24 Q1304.39 2330.24 1301.49 2330.97 Q1298.59 2331.71 1295.92 2333.17 L1295.92 2327.76 Q1299.13 2326.52 1302.16 2325.91 Q1305.18 2325.28 1308.05 2325.28 Q1315.78 2325.28 1319.6 2329.29 Q1323.42 2333.3 1323.42 2341.45 Z\" fill=\"#000000\" fill-rule=\"evenodd\" fill-opacity=\"1\" /><path clip-path=\"url(#clip160)\" d=\"M1365.11 2340.27 L1365.11 2361.78 L1359.26 2361.78 L1359.26 2340.46 Q1359.26 2335.4 1357.28 2332.88 Q1355.31 2330.37 1351.36 2330.37 Q1346.62 2330.37 1343.88 2333.39 Q1341.15 2336.42 1341.15 2341.64 L1341.15 2361.78 L1335.26 2361.78 L1335.26 2326.14 L1341.15 2326.14 L1341.15 2331.67 Q1343.25 2328.46 1346.08 2326.87 Q1348.95 2325.28 1352.67 2325.28 Q1358.81 2325.28 1361.96 2329.1 Q1365.11 2332.88 1365.11 2340.27 Z\" fill=\"#000000\" fill-rule=\"evenodd\" fill-opacity=\"1\" /><path clip-path=\"url(#clip160)\" d=\"M1400.25 2343.55 Q1400.25 2337.18 1397.61 2333.68 Q1395 2330.18 1390.26 2330.18 Q1385.55 2330.18 1382.91 2333.68 Q1380.3 2337.18 1380.3 2343.55 Q1380.3 2349.88 1382.91 2353.38 Q1385.55 2356.88 1390.26 2356.88 Q1395 2356.88 1397.61 2353.38 Q1400.25 2349.88 1400.25 2343.55 M1406.11 2357.36 Q1406.11 2366.46 1402.07 2370.89 Q1398.03 2375.34 1389.69 2375.34 Q1386.6 2375.34 1383.86 2374.87 Q1381.12 2374.42 1378.55 2373.46 L1378.55 2367.77 Q1381.12 2369.17 1383.64 2369.84 Q1386.15 2370.5 1388.76 2370.5 Q1394.52 2370.5 1397.39 2367.48 Q1400.25 2364.49 1400.25 2358.41 L1400.25 2355.51 Q1398.44 2358.66 1395.61 2360.22 Q1392.77 2361.78 1388.83 2361.78 Q1382.27 2361.78 1378.26 2356.79 Q1374.25 2351.79 1374.25 2343.55 Q1374.25 2335.27 1378.26 2330.27 Q1382.27 2325.28 1388.83 2325.28 Q1392.77 2325.28 1395.61 2326.84 Q1398.44 2328.4 1400.25 2331.55 L1400.25 2326.14 L1406.11 2326.14 L1406.11 2357.36 Z\" fill=\"#000000\" fill-rule=\"evenodd\" fill-opacity=\"1\" /><path clip-path=\"url(#clip160)\" d=\"M1448.66 2342.5 L1448.66 2345.36 L1421.74 2345.36 Q1422.12 2351.41 1425.37 2354.59 Q1428.64 2357.74 1434.47 2357.74 Q1437.84 2357.74 1440.99 2356.91 Q1444.18 2356.09 1447.3 2354.43 L1447.3 2359.97 Q1444.14 2361.31 1440.83 2362.01 Q1437.52 2362.71 1434.12 2362.71 Q1425.59 2362.71 1420.59 2357.74 Q1415.63 2352.78 1415.63 2344.31 Q1415.63 2335.56 1420.34 2330.43 Q1425.08 2325.28 1433.1 2325.28 Q1440.29 2325.28 1444.46 2329.92 Q1448.66 2334.54 1448.66 2342.5 M1442.81 2340.78 Q1442.74 2335.97 1440.1 2333.11 Q1437.49 2330.24 1433.16 2330.24 Q1428.26 2330.24 1425.3 2333.01 Q1422.37 2335.78 1421.93 2340.81 L1442.81 2340.78 Z\" fill=\"#000000\" fill-rule=\"evenodd\" fill-opacity=\"1\" /><path clip-path=\"url(#clip160)\" d=\"M1479 2326.14 L1484.85 2326.14 L1484.85 2361.78 L1479 2361.78 L1479 2326.14 M1479 2312.26 L1484.85 2312.26 L1484.85 2319.67 L1479 2319.67 L1479 2312.26 Z\" fill=\"#000000\" fill-rule=\"evenodd\" fill-opacity=\"1\" /><path clip-path=\"url(#clip160)\" d=\"M1526.74 2340.27 L1526.74 2361.78 L1520.88 2361.78 L1520.88 2340.46 Q1520.88 2335.4 1518.91 2332.88 Q1516.94 2330.37 1512.99 2330.37 Q1508.25 2330.37 1505.51 2333.39 Q1502.77 2336.42 1502.77 2341.64 L1502.77 2361.78 L1496.88 2361.78 L1496.88 2326.14 L1502.77 2326.14 L1502.77 2331.67 Q1504.87 2328.46 1507.71 2326.87 Q1510.57 2325.28 1514.29 2325.28 Q1520.44 2325.28 1523.59 2329.1 Q1526.74 2332.88 1526.74 2340.27 Z\" fill=\"#000000\" fill-rule=\"evenodd\" fill-opacity=\"1\" /><path clip-path=\"url(#clip160)\" d=\"M1564.81 2356.44 L1564.81 2375.34 L1558.92 2375.34 L1558.92 2326.14 L1564.81 2326.14 L1564.81 2331.55 Q1566.65 2328.36 1569.45 2326.84 Q1572.29 2325.28 1576.2 2325.28 Q1582.69 2325.28 1586.74 2330.43 Q1590.81 2335.59 1590.81 2343.99 Q1590.81 2352.39 1586.74 2357.55 Q1582.69 2362.71 1576.2 2362.71 Q1572.29 2362.71 1569.45 2361.18 Q1566.65 2359.62 1564.81 2356.44 M1584.73 2343.99 Q1584.73 2337.53 1582.06 2333.87 Q1579.42 2330.18 1574.77 2330.18 Q1570.12 2330.18 1567.45 2333.87 Q1564.81 2337.53 1564.81 2343.99 Q1564.81 2350.45 1567.45 2354.14 Q1570.12 2357.81 1574.77 2357.81 Q1579.42 2357.81 1582.06 2354.14 Q1584.73 2350.45 1584.73 2343.99 Z\" fill=\"#000000\" fill-rule=\"evenodd\" fill-opacity=\"1\" /><path clip-path=\"url(#clip160)\" d=\"M1621.17 2331.61 Q1620.19 2331.04 1619.01 2330.78 Q1617.86 2330.5 1616.46 2330.5 Q1611.5 2330.5 1608.83 2333.74 Q1606.18 2336.96 1606.18 2343.01 L1606.18 2361.78 L1600.3 2361.78 L1600.3 2326.14 L1606.18 2326.14 L1606.18 2331.67 Q1608.03 2328.43 1610.99 2326.87 Q1613.95 2325.28 1618.18 2325.28 Q1618.79 2325.28 1619.52 2325.37 Q1620.25 2325.44 1621.14 2325.59 L1621.17 2331.61 Z\" fill=\"#000000\" fill-rule=\"evenodd\" fill-opacity=\"1\" /><path clip-path=\"url(#clip160)\" d=\"M1639.7 2330.24 Q1634.99 2330.24 1632.25 2333.93 Q1629.51 2337.59 1629.51 2343.99 Q1629.51 2350.39 1632.22 2354.08 Q1634.96 2357.74 1639.7 2357.74 Q1644.38 2357.74 1647.12 2354.05 Q1649.85 2350.36 1649.85 2343.99 Q1649.85 2337.66 1647.12 2333.97 Q1644.38 2330.24 1639.7 2330.24 M1639.7 2325.28 Q1647.34 2325.28 1651.7 2330.24 Q1656.06 2335.21 1656.06 2343.99 Q1656.06 2352.74 1651.7 2357.74 Q1647.34 2362.71 1639.7 2362.71 Q1632.03 2362.71 1627.67 2357.74 Q1623.34 2352.74 1623.34 2343.99 Q1623.34 2335.21 1627.67 2330.24 Q1632.03 2325.28 1639.7 2325.28 Z\" fill=\"#000000\" fill-rule=\"evenodd\" fill-opacity=\"1\" /><path clip-path=\"url(#clip160)\" d=\"M1683.81 2312.26 L1683.81 2317.13 L1678.21 2317.13 Q1675.06 2317.13 1673.82 2318.4 Q1672.61 2319.67 1672.61 2322.98 L1672.61 2326.14 L1682.25 2326.14 L1682.25 2330.69 L1672.61 2330.69 L1672.61 2361.78 L1666.72 2361.78 L1666.72 2330.69 L1661.12 2330.69 L1661.12 2326.14 L1666.72 2326.14 L1666.72 2323.65 Q1666.72 2317.7 1669.49 2315 Q1672.26 2312.26 1678.28 2312.26 L1683.81 2312.26 Z\" fill=\"#000000\" fill-rule=\"evenodd\" fill-opacity=\"1\" /><path clip-path=\"url(#clip160)\" d=\"M1688.72 2326.14 L1694.57 2326.14 L1694.57 2361.78 L1688.72 2361.78 L1688.72 2326.14 M1688.72 2312.26 L1694.57 2312.26 L1694.57 2319.67 L1688.72 2319.67 L1688.72 2312.26 Z\" fill=\"#000000\" fill-rule=\"evenodd\" fill-opacity=\"1\" /><path clip-path=\"url(#clip160)\" d=\"M1712.62 2316.01 L1712.62 2326.14 L1724.68 2326.14 L1724.68 2330.69 L1712.62 2330.69 L1712.62 2350.04 Q1712.62 2354.4 1713.8 2355.64 Q1715.01 2356.88 1718.67 2356.88 L1724.68 2356.88 L1724.68 2361.78 L1718.67 2361.78 Q1711.89 2361.78 1709.31 2359.27 Q1706.73 2356.72 1706.73 2350.04 L1706.73 2330.69 L1702.43 2330.69 L1702.43 2326.14 L1706.73 2326.14 L1706.73 2316.01 L1712.62 2316.01 Z\" fill=\"#000000\" fill-rule=\"evenodd\" fill-opacity=\"1\" /><path clip-path=\"url(#clip160)\" d=\"M1766.92 2330.24 Q1762.21 2330.24 1759.47 2333.93 Q1756.73 2337.59 1756.73 2343.99 Q1756.73 2350.39 1759.44 2354.08 Q1762.18 2357.74 1766.92 2357.74 Q1771.6 2357.74 1774.33 2354.05 Q1777.07 2350.36 1777.07 2343.99 Q1777.07 2337.66 1774.33 2333.97 Q1771.6 2330.24 1766.92 2330.24 M1766.92 2325.28 Q1774.56 2325.28 1778.92 2330.24 Q1783.28 2335.21 1783.28 2343.99 Q1783.28 2352.74 1778.92 2357.74 Q1774.56 2362.71 1766.92 2362.71 Q1759.25 2362.71 1754.89 2357.74 Q1750.56 2352.74 1750.56 2343.99 Q1750.56 2335.21 1754.89 2330.24 Q1759.25 2325.28 1766.92 2325.28 Z\" fill=\"#000000\" fill-rule=\"evenodd\" fill-opacity=\"1\" /><path clip-path=\"url(#clip160)\" d=\"M1822.62 2340.27 L1822.62 2361.78 L1816.76 2361.78 L1816.76 2340.46 Q1816.76 2335.4 1814.79 2332.88 Q1812.81 2330.37 1808.87 2330.37 Q1804.13 2330.37 1801.39 2333.39 Q1798.65 2336.42 1798.65 2341.64 L1798.65 2361.78 L1792.76 2361.78 L1792.76 2326.14 L1798.65 2326.14 L1798.65 2331.67 Q1800.75 2328.46 1803.58 2326.87 Q1806.45 2325.28 1810.17 2325.28 Q1816.32 2325.28 1819.47 2329.1 Q1822.62 2332.88 1822.62 2340.27 Z\" fill=\"#000000\" fill-rule=\"evenodd\" fill-opacity=\"1\" /><path clip-path=\"url(#clip160)\" d=\"M1877.74 2327.19 L1877.74 2332.72 Q1875.26 2331.45 1872.59 2330.81 Q1869.91 2330.18 1867.05 2330.18 Q1862.69 2330.18 1860.49 2331.51 Q1858.33 2332.85 1858.33 2335.53 Q1858.33 2337.56 1859.89 2338.74 Q1861.45 2339.89 1866.16 2340.94 L1868.16 2341.38 Q1874.4 2342.72 1877.01 2345.17 Q1879.65 2347.59 1879.65 2351.95 Q1879.65 2356.91 1875.71 2359.81 Q1871.79 2362.71 1864.92 2362.71 Q1862.05 2362.71 1858.93 2362.13 Q1855.85 2361.59 1852.41 2360.48 L1852.41 2354.43 Q1855.66 2356.12 1858.81 2356.98 Q1861.96 2357.81 1865.05 2357.81 Q1869.18 2357.81 1871.41 2356.4 Q1873.64 2354.97 1873.64 2352.39 Q1873.64 2350.01 1872.02 2348.73 Q1870.42 2347.46 1864.98 2346.28 L1862.94 2345.81 Q1857.5 2344.66 1855.08 2342.3 Q1852.66 2339.92 1852.66 2335.78 Q1852.66 2330.75 1856.23 2328.01 Q1859.79 2325.28 1866.35 2325.28 Q1869.6 2325.28 1872.46 2325.75 Q1875.33 2326.23 1877.74 2327.19 Z\" fill=\"#000000\" fill-rule=\"evenodd\" fill-opacity=\"1\" /><path clip-path=\"url(#clip160)\" d=\"M1905.18 2343.86 Q1898.08 2343.86 1895.35 2345.49 Q1892.61 2347.11 1892.61 2351.03 Q1892.61 2354.14 1894.65 2355.99 Q1896.71 2357.81 1900.25 2357.81 Q1905.12 2357.81 1908.05 2354.37 Q1911.01 2350.9 1911.01 2345.17 L1911.01 2343.86 L1905.18 2343.86 M1916.86 2341.45 L1916.86 2361.78 L1911.01 2361.78 L1911.01 2356.37 Q1909 2359.62 1906.01 2361.18 Q1903.02 2362.71 1898.69 2362.71 Q1893.21 2362.71 1889.97 2359.65 Q1886.75 2356.56 1886.75 2351.41 Q1886.75 2345.39 1890.76 2342.34 Q1894.8 2339.28 1902.79 2339.28 L1911.01 2339.28 L1911.01 2338.71 Q1911.01 2334.67 1908.33 2332.47 Q1905.69 2330.24 1900.88 2330.24 Q1897.83 2330.24 1894.93 2330.97 Q1892.04 2331.71 1889.36 2333.17 L1889.36 2327.76 Q1892.58 2326.52 1895.6 2325.91 Q1898.62 2325.28 1901.49 2325.28 Q1909.22 2325.28 1913.04 2329.29 Q1916.86 2333.3 1916.86 2341.45 Z\" fill=\"#000000\" fill-rule=\"evenodd\" fill-opacity=\"1\" /><path clip-path=\"url(#clip160)\" d=\"M1928.93 2312.26 L1934.78 2312.26 L1934.78 2361.78 L1928.93 2361.78 L1928.93 2312.26 Z\" fill=\"#000000\" fill-rule=\"evenodd\" fill-opacity=\"1\" /><path clip-path=\"url(#clip160)\" d=\"M1977.53 2342.5 L1977.53 2345.36 L1950.6 2345.36 Q1950.98 2351.41 1954.23 2354.59 Q1957.51 2357.74 1963.33 2357.74 Q1966.71 2357.74 1969.86 2356.91 Q1973.04 2356.09 1976.16 2354.43 L1976.16 2359.97 Q1973.01 2361.31 1969.7 2362.01 Q1966.39 2362.71 1962.98 2362.71 Q1954.45 2362.71 1949.45 2357.74 Q1944.49 2352.78 1944.49 2344.31 Q1944.49 2335.56 1949.2 2330.43 Q1953.94 2325.28 1961.96 2325.28 Q1969.16 2325.28 1973.33 2329.92 Q1977.53 2334.54 1977.53 2342.5 M1971.67 2340.78 Q1971.61 2335.97 1968.97 2333.11 Q1966.36 2330.24 1962.03 2330.24 Q1957.13 2330.24 1954.17 2333.01 Q1951.24 2335.78 1950.79 2340.81 L1971.67 2340.78 Z\" fill=\"#000000\" fill-rule=\"evenodd\" fill-opacity=\"1\" /><path clip-path=\"url(#clip160)\" d=\"M2009.87 2327.19 L2009.87 2332.72 Q2007.38 2331.45 2004.71 2330.81 Q2002.04 2330.18 1999.17 2330.18 Q1994.81 2330.18 1992.61 2331.51 Q1990.45 2332.85 1990.45 2335.53 Q1990.45 2337.56 1992.01 2338.74 Q1993.57 2339.89 1998.28 2340.94 L2000.28 2341.38 Q2006.52 2342.72 2009.13 2345.17 Q2011.77 2347.59 2011.77 2351.95 Q2011.77 2356.91 2007.83 2359.81 Q2003.91 2362.71 1997.04 2362.71 Q1994.17 2362.71 1991.05 2362.13 Q1987.97 2361.59 1984.53 2360.48 L1984.53 2354.43 Q1987.78 2356.12 1990.93 2356.98 Q1994.08 2357.81 1997.17 2357.81 Q2001.3 2357.81 2003.53 2356.4 Q2005.76 2354.97 2005.76 2352.39 Q2005.76 2350.01 2004.14 2348.73 Q2002.54 2347.46 1997.1 2346.28 L1995.06 2345.81 Q1989.62 2344.66 1987.2 2342.3 Q1984.78 2339.92 1984.78 2335.78 Q1984.78 2330.75 1988.35 2328.01 Q1991.91 2325.28 1998.47 2325.28 Q2001.72 2325.28 2004.58 2325.75 Q2007.45 2326.23 2009.87 2327.19 Z\" fill=\"#000000\" fill-rule=\"evenodd\" fill-opacity=\"1\" /><path clip-path=\"url(#clip160)\" d=\"M2041.82 2326.14 L2047.68 2326.14 L2047.68 2361.78 L2041.82 2361.78 L2041.82 2326.14 M2041.82 2312.26 L2047.68 2312.26 L2047.68 2319.67 L2041.82 2319.67 L2041.82 2312.26 Z\" fill=\"#000000\" fill-rule=\"evenodd\" fill-opacity=\"1\" /><path clip-path=\"url(#clip160)\" d=\"M2089.56 2340.27 L2089.56 2361.78 L2083.71 2361.78 L2083.71 2340.46 Q2083.71 2335.4 2081.73 2332.88 Q2079.76 2330.37 2075.81 2330.37 Q2071.07 2330.37 2068.33 2333.39 Q2065.6 2336.42 2065.6 2341.64 L2065.6 2361.78 L2059.71 2361.78 L2059.71 2326.14 L2065.6 2326.14 L2065.6 2331.67 Q2067.7 2328.46 2070.53 2326.87 Q2073.39 2325.28 2077.12 2325.28 Q2083.26 2325.28 2086.41 2329.1 Q2089.56 2332.88 2089.56 2340.27 Z\" fill=\"#000000\" fill-rule=\"evenodd\" fill-opacity=\"1\" /><path clip-path=\"url(#clip160)\" d=\"M2121.42 2312.26 L2134.92 2312.26 L2134.92 2316.81 L2127.28 2316.81 L2127.28 2365.83 L2134.92 2365.83 L2134.92 2370.38 L2121.42 2370.38 L2121.42 2312.26 Z\" fill=\"#000000\" fill-rule=\"evenodd\" fill-opacity=\"1\" /><path clip-path=\"url(#clip160)\" d=\"M2188.65 2340.87 Q2185.88 2340.87 2184.29 2343.23 Q2182.73 2345.58 2182.73 2349.78 Q2182.73 2353.92 2184.29 2356.31 Q2185.88 2358.66 2188.65 2358.66 Q2191.35 2358.66 2192.91 2356.31 Q2194.5 2353.92 2194.5 2349.78 Q2194.5 2345.61 2192.91 2343.26 Q2191.35 2340.87 2188.65 2340.87 M2188.65 2336.83 Q2193.67 2336.83 2196.63 2340.33 Q2199.59 2343.83 2199.59 2349.78 Q2199.59 2355.74 2196.6 2359.24 Q2193.64 2362.71 2188.65 2362.71 Q2183.55 2362.71 2180.59 2359.24 Q2177.63 2355.74 2177.63 2349.78 Q2177.63 2343.8 2180.59 2340.33 Q2183.59 2336.83 2188.65 2336.83 M2155.8 2317.45 Q2153.06 2317.45 2151.47 2319.83 Q2149.91 2322.19 2149.91 2326.33 Q2149.91 2330.53 2151.47 2332.88 Q2153.03 2335.24 2155.8 2335.24 Q2158.57 2335.24 2160.13 2332.88 Q2161.72 2330.53 2161.72 2326.33 Q2161.72 2322.22 2160.13 2319.83 Q2158.54 2317.45 2155.8 2317.45 M2184.54 2313.4 L2189.63 2313.4 L2159.9 2362.71 L2154.81 2362.71 L2184.54 2313.4 M2155.8 2313.4 Q2160.83 2313.4 2163.82 2316.91 Q2166.81 2320.37 2166.81 2326.33 Q2166.81 2332.34 2163.82 2335.81 Q2160.86 2339.28 2155.8 2339.28 Q2150.74 2339.28 2147.78 2335.81 Q2144.85 2332.31 2144.85 2326.33 Q2144.85 2320.41 2147.81 2316.91 Q2150.77 2313.4 2155.8 2313.4 Z\" fill=\"#000000\" fill-rule=\"evenodd\" fill-opacity=\"1\" /><path clip-path=\"url(#clip160)\" d=\"M2223.02 2312.26 L2223.02 2370.38 L2209.53 2370.38 L2209.53 2365.83 L2217.13 2365.83 L2217.13 2316.81 L2209.53 2316.81 L2209.53 2312.26 L2223.02 2312.26 Z\" fill=\"#000000\" fill-rule=\"evenodd\" fill-opacity=\"1\" /><polyline clip-path=\"url(#clip162)\" style=\"stroke:#000000; stroke-linecap:round; stroke-linejoin:round; stroke-width:2; stroke-opacity:0.1; fill:none\" points=\"276.491,2133.08 3152.76,2133.08 \"/>\n",
       "<polyline clip-path=\"url(#clip162)\" style=\"stroke:#000000; stroke-linecap:round; stroke-linejoin:round; stroke-width:2; stroke-opacity:0.1; fill:none\" points=\"276.491,1758.68 3152.76,1758.68 \"/>\n",
       "<polyline clip-path=\"url(#clip162)\" style=\"stroke:#000000; stroke-linecap:round; stroke-linejoin:round; stroke-width:2; stroke-opacity:0.1; fill:none\" points=\"276.491,1384.28 3152.76,1384.28 \"/>\n",
       "<polyline clip-path=\"url(#clip162)\" style=\"stroke:#000000; stroke-linecap:round; stroke-linejoin:round; stroke-width:2; stroke-opacity:0.1; fill:none\" points=\"276.491,1009.88 3152.76,1009.88 \"/>\n",
       "<polyline clip-path=\"url(#clip162)\" style=\"stroke:#000000; stroke-linecap:round; stroke-linejoin:round; stroke-width:2; stroke-opacity:0.1; fill:none\" points=\"276.491,635.483 3152.76,635.483 \"/>\n",
       "<polyline clip-path=\"url(#clip162)\" style=\"stroke:#000000; stroke-linecap:round; stroke-linejoin:round; stroke-width:2; stroke-opacity:0.1; fill:none\" points=\"276.491,261.084 3152.76,261.084 \"/>\n",
       "<polyline clip-path=\"url(#clip160)\" style=\"stroke:#000000; stroke-linecap:round; stroke-linejoin:round; stroke-width:4; stroke-opacity:1; fill:none\" points=\"276.491,2204.92 276.491,131.032 \"/>\n",
       "<polyline clip-path=\"url(#clip160)\" style=\"stroke:#000000; stroke-linecap:round; stroke-linejoin:round; stroke-width:4; stroke-opacity:1; fill:none\" points=\"276.491,2133.08 295.389,2133.08 \"/>\n",
       "<polyline clip-path=\"url(#clip160)\" style=\"stroke:#000000; stroke-linecap:round; stroke-linejoin:round; stroke-width:4; stroke-opacity:1; fill:none\" points=\"276.491,1758.68 295.389,1758.68 \"/>\n",
       "<polyline clip-path=\"url(#clip160)\" style=\"stroke:#000000; stroke-linecap:round; stroke-linejoin:round; stroke-width:4; stroke-opacity:1; fill:none\" points=\"276.491,1384.28 295.389,1384.28 \"/>\n",
       "<polyline clip-path=\"url(#clip160)\" style=\"stroke:#000000; stroke-linecap:round; stroke-linejoin:round; stroke-width:4; stroke-opacity:1; fill:none\" points=\"276.491,1009.88 295.389,1009.88 \"/>\n",
       "<polyline clip-path=\"url(#clip160)\" style=\"stroke:#000000; stroke-linecap:round; stroke-linejoin:round; stroke-width:4; stroke-opacity:1; fill:none\" points=\"276.491,635.483 295.389,635.483 \"/>\n",
       "<polyline clip-path=\"url(#clip160)\" style=\"stroke:#000000; stroke-linecap:round; stroke-linejoin:round; stroke-width:4; stroke-opacity:1; fill:none\" points=\"276.491,261.084 295.389,261.084 \"/>\n",
       "<path clip-path=\"url(#clip160)\" d=\"M146.362 2149.64 L146.362 2145.38 Q148.121 2146.22 149.927 2146.66 Q151.732 2147.1 153.468 2147.1 Q158.098 2147.1 160.529 2143.99 Q162.982 2140.87 163.33 2134.53 Q161.987 2136.52 159.927 2137.58 Q157.867 2138.65 155.367 2138.65 Q150.181 2138.65 147.149 2135.52 Q144.14 2132.37 144.14 2126.93 Q144.14 2121.61 147.288 2118.39 Q150.436 2115.17 155.668 2115.17 Q161.663 2115.17 164.811 2119.78 Q167.982 2124.36 167.982 2133.11 Q167.982 2141.28 164.093 2146.17 Q160.228 2151.03 153.677 2151.03 Q151.918 2151.03 150.112 2150.68 Q148.306 2150.34 146.362 2149.64 M155.668 2134.99 Q158.816 2134.99 160.644 2132.84 Q162.496 2130.68 162.496 2126.93 Q162.496 2123.21 160.644 2121.05 Q158.816 2118.88 155.668 2118.88 Q152.519 2118.88 150.668 2121.05 Q148.839 2123.21 148.839 2126.93 Q148.839 2130.68 150.668 2132.84 Q152.519 2134.99 155.668 2134.99 Z\" fill=\"#000000\" fill-rule=\"evenodd\" fill-opacity=\"1\" /><path clip-path=\"url(#clip160)\" d=\"M186.385 2118.88 Q182.774 2118.88 180.945 2122.44 Q179.14 2125.98 179.14 2133.11 Q179.14 2140.22 180.945 2143.78 Q182.774 2147.33 186.385 2147.33 Q190.019 2147.33 191.825 2143.78 Q193.653 2140.22 193.653 2133.11 Q193.653 2125.98 191.825 2122.44 Q190.019 2118.88 186.385 2118.88 M186.385 2115.17 Q192.195 2115.17 195.251 2119.78 Q198.329 2124.36 198.329 2133.11 Q198.329 2141.84 195.251 2146.45 Q192.195 2151.03 186.385 2151.03 Q180.575 2151.03 177.496 2146.45 Q174.441 2141.84 174.441 2133.11 Q174.441 2124.36 177.496 2119.78 Q180.575 2115.17 186.385 2115.17 Z\" fill=\"#000000\" fill-rule=\"evenodd\" fill-opacity=\"1\" /><path clip-path=\"url(#clip160)\" d=\"M216.547 2118.88 Q212.936 2118.88 211.107 2122.44 Q209.302 2125.98 209.302 2133.11 Q209.302 2140.22 211.107 2143.78 Q212.936 2147.33 216.547 2147.33 Q220.181 2147.33 221.987 2143.78 Q223.815 2140.22 223.815 2133.11 Q223.815 2125.98 221.987 2122.44 Q220.181 2118.88 216.547 2118.88 M216.547 2115.17 Q222.357 2115.17 225.413 2119.78 Q228.491 2124.36 228.491 2133.11 Q228.491 2141.84 225.413 2146.45 Q222.357 2151.03 216.547 2151.03 Q210.737 2151.03 207.658 2146.45 Q204.602 2141.84 204.602 2133.11 Q204.602 2124.36 207.658 2119.78 Q210.737 2115.17 216.547 2115.17 Z\" fill=\"#000000\" fill-rule=\"evenodd\" fill-opacity=\"1\" /><path clip-path=\"url(#clip160)\" d=\"M116.871 1772.02 L124.51 1772.02 L124.51 1745.66 L116.2 1747.33 L116.2 1743.07 L124.464 1741.4 L129.14 1741.4 L129.14 1772.02 L136.779 1772.02 L136.779 1775.96 L116.871 1775.96 L116.871 1772.02 Z\" fill=\"#000000\" fill-rule=\"evenodd\" fill-opacity=\"1\" /><path clip-path=\"url(#clip160)\" d=\"M156.223 1744.48 Q152.612 1744.48 150.783 1748.04 Q148.978 1751.59 148.978 1758.71 Q148.978 1765.82 150.783 1769.39 Q152.612 1772.93 156.223 1772.93 Q159.857 1772.93 161.663 1769.39 Q163.492 1765.82 163.492 1758.71 Q163.492 1751.59 161.663 1748.04 Q159.857 1744.48 156.223 1744.48 M156.223 1740.77 Q162.033 1740.77 165.089 1745.38 Q168.167 1749.96 168.167 1758.71 Q168.167 1767.44 165.089 1772.05 Q162.033 1776.63 156.223 1776.63 Q150.413 1776.63 147.334 1772.05 Q144.279 1767.44 144.279 1758.71 Q144.279 1749.96 147.334 1745.38 Q150.413 1740.77 156.223 1740.77 Z\" fill=\"#000000\" fill-rule=\"evenodd\" fill-opacity=\"1\" /><path clip-path=\"url(#clip160)\" d=\"M186.385 1744.48 Q182.774 1744.48 180.945 1748.04 Q179.14 1751.59 179.14 1758.71 Q179.14 1765.82 180.945 1769.39 Q182.774 1772.93 186.385 1772.93 Q190.019 1772.93 191.825 1769.39 Q193.653 1765.82 193.653 1758.71 Q193.653 1751.59 191.825 1748.04 Q190.019 1744.48 186.385 1744.48 M186.385 1740.77 Q192.195 1740.77 195.251 1745.38 Q198.329 1749.96 198.329 1758.71 Q198.329 1767.44 195.251 1772.05 Q192.195 1776.63 186.385 1776.63 Q180.575 1776.63 177.496 1772.05 Q174.441 1767.44 174.441 1758.71 Q174.441 1749.96 177.496 1745.38 Q180.575 1740.77 186.385 1740.77 Z\" fill=\"#000000\" fill-rule=\"evenodd\" fill-opacity=\"1\" /><path clip-path=\"url(#clip160)\" d=\"M216.547 1744.48 Q212.936 1744.48 211.107 1748.04 Q209.302 1751.59 209.302 1758.71 Q209.302 1765.82 211.107 1769.39 Q212.936 1772.93 216.547 1772.93 Q220.181 1772.93 221.987 1769.39 Q223.815 1765.82 223.815 1758.71 Q223.815 1751.59 221.987 1748.04 Q220.181 1744.48 216.547 1744.48 M216.547 1740.77 Q222.357 1740.77 225.413 1745.38 Q228.491 1749.96 228.491 1758.71 Q228.491 1767.44 225.413 1772.05 Q222.357 1776.63 216.547 1776.63 Q210.737 1776.63 207.658 1772.05 Q204.602 1767.44 204.602 1758.71 Q204.602 1749.96 207.658 1745.38 Q210.737 1740.77 216.547 1740.77 Z\" fill=\"#000000\" fill-rule=\"evenodd\" fill-opacity=\"1\" /><path clip-path=\"url(#clip160)\" d=\"M116.871 1397.63 L124.51 1397.63 L124.51 1371.26 L116.2 1372.93 L116.2 1368.67 L124.464 1367 L129.14 1367 L129.14 1397.63 L136.779 1397.63 L136.779 1401.56 L116.871 1401.56 L116.871 1397.63 Z\" fill=\"#000000\" fill-rule=\"evenodd\" fill-opacity=\"1\" /><path clip-path=\"url(#clip160)\" d=\"M147.033 1397.63 L154.672 1397.63 L154.672 1371.26 L146.362 1372.93 L146.362 1368.67 L154.626 1367 L159.302 1367 L159.302 1397.63 L166.941 1397.63 L166.941 1401.56 L147.033 1401.56 L147.033 1397.63 Z\" fill=\"#000000\" fill-rule=\"evenodd\" fill-opacity=\"1\" /><path clip-path=\"url(#clip160)\" d=\"M186.385 1370.08 Q182.774 1370.08 180.945 1373.64 Q179.14 1377.19 179.14 1384.32 Q179.14 1391.42 180.945 1394.99 Q182.774 1398.53 186.385 1398.53 Q190.019 1398.53 191.825 1394.99 Q193.653 1391.42 193.653 1384.32 Q193.653 1377.19 191.825 1373.64 Q190.019 1370.08 186.385 1370.08 M186.385 1366.38 Q192.195 1366.38 195.251 1370.98 Q198.329 1375.57 198.329 1384.32 Q198.329 1393.04 195.251 1397.65 Q192.195 1402.23 186.385 1402.23 Q180.575 1402.23 177.496 1397.65 Q174.441 1393.04 174.441 1384.32 Q174.441 1375.57 177.496 1370.98 Q180.575 1366.38 186.385 1366.38 Z\" fill=\"#000000\" fill-rule=\"evenodd\" fill-opacity=\"1\" /><path clip-path=\"url(#clip160)\" d=\"M216.547 1370.08 Q212.936 1370.08 211.107 1373.64 Q209.302 1377.19 209.302 1384.32 Q209.302 1391.42 211.107 1394.99 Q212.936 1398.53 216.547 1398.53 Q220.181 1398.53 221.987 1394.99 Q223.815 1391.42 223.815 1384.32 Q223.815 1377.19 221.987 1373.64 Q220.181 1370.08 216.547 1370.08 M216.547 1366.38 Q222.357 1366.38 225.413 1370.98 Q228.491 1375.57 228.491 1384.32 Q228.491 1393.04 225.413 1397.65 Q222.357 1402.23 216.547 1402.23 Q210.737 1402.23 207.658 1397.65 Q204.602 1393.04 204.602 1384.32 Q204.602 1375.57 207.658 1370.98 Q210.737 1366.38 216.547 1366.38 Z\" fill=\"#000000\" fill-rule=\"evenodd\" fill-opacity=\"1\" /><path clip-path=\"url(#clip160)\" d=\"M116.871 1023.23 L124.51 1023.23 L124.51 996.861 L116.2 998.528 L116.2 994.269 L124.464 992.602 L129.14 992.602 L129.14 1023.23 L136.779 1023.23 L136.779 1027.16 L116.871 1027.16 L116.871 1023.23 Z\" fill=\"#000000\" fill-rule=\"evenodd\" fill-opacity=\"1\" /><path clip-path=\"url(#clip160)\" d=\"M150.251 1023.23 L166.57 1023.23 L166.57 1027.16 L144.626 1027.16 L144.626 1023.23 Q147.288 1020.47 151.871 1015.84 Q156.478 1011.19 157.658 1009.85 Q159.904 1007.32 160.783 1005.59 Q161.686 1003.83 161.686 1002.14 Q161.686 999.384 159.742 997.648 Q157.82 995.912 154.718 995.912 Q152.519 995.912 150.066 996.676 Q147.635 997.44 144.857 998.991 L144.857 994.269 Q147.681 993.134 150.135 992.556 Q152.589 991.977 154.626 991.977 Q159.996 991.977 163.191 994.662 Q166.385 997.347 166.385 1001.84 Q166.385 1003.97 165.575 1005.89 Q164.788 1007.79 162.681 1010.38 Q162.103 1011.05 159.001 1014.27 Q155.899 1017.46 150.251 1023.23 Z\" fill=\"#000000\" fill-rule=\"evenodd\" fill-opacity=\"1\" /><path clip-path=\"url(#clip160)\" d=\"M186.385 995.681 Q182.774 995.681 180.945 999.245 Q179.14 1002.79 179.14 1009.92 Q179.14 1017.02 180.945 1020.59 Q182.774 1024.13 186.385 1024.13 Q190.019 1024.13 191.825 1020.59 Q193.653 1017.02 193.653 1009.92 Q193.653 1002.79 191.825 999.245 Q190.019 995.681 186.385 995.681 M186.385 991.977 Q192.195 991.977 195.251 996.583 Q198.329 1001.17 198.329 1009.92 Q198.329 1018.64 195.251 1023.25 Q192.195 1027.83 186.385 1027.83 Q180.575 1027.83 177.496 1023.25 Q174.441 1018.64 174.441 1009.92 Q174.441 1001.17 177.496 996.583 Q180.575 991.977 186.385 991.977 Z\" fill=\"#000000\" fill-rule=\"evenodd\" fill-opacity=\"1\" /><path clip-path=\"url(#clip160)\" d=\"M216.547 995.681 Q212.936 995.681 211.107 999.245 Q209.302 1002.79 209.302 1009.92 Q209.302 1017.02 211.107 1020.59 Q212.936 1024.13 216.547 1024.13 Q220.181 1024.13 221.987 1020.59 Q223.815 1017.02 223.815 1009.92 Q223.815 1002.79 221.987 999.245 Q220.181 995.681 216.547 995.681 M216.547 991.977 Q222.357 991.977 225.413 996.583 Q228.491 1001.17 228.491 1009.92 Q228.491 1018.64 225.413 1023.25 Q222.357 1027.83 216.547 1027.83 Q210.737 1027.83 207.658 1023.25 Q204.602 1018.64 204.602 1009.92 Q204.602 1001.17 207.658 996.583 Q210.737 991.977 216.547 991.977 Z\" fill=\"#000000\" fill-rule=\"evenodd\" fill-opacity=\"1\" /><path clip-path=\"url(#clip160)\" d=\"M116.871 648.828 L124.51 648.828 L124.51 622.462 L116.2 624.129 L116.2 619.869 L124.464 618.203 L129.14 618.203 L129.14 648.828 L136.779 648.828 L136.779 652.763 L116.871 652.763 L116.871 648.828 Z\" fill=\"#000000\" fill-rule=\"evenodd\" fill-opacity=\"1\" /><path clip-path=\"url(#clip160)\" d=\"M160.39 634.129 Q163.746 634.846 165.621 637.115 Q167.519 639.383 167.519 642.717 Q167.519 647.832 164.001 650.633 Q160.482 653.434 154.001 653.434 Q151.825 653.434 149.51 652.994 Q147.219 652.578 144.765 651.721 L144.765 647.207 Q146.709 648.342 149.024 648.92 Q151.339 649.499 153.862 649.499 Q158.26 649.499 160.552 647.763 Q162.867 646.027 162.867 642.717 Q162.867 639.661 160.714 637.948 Q158.584 636.212 154.765 636.212 L150.737 636.212 L150.737 632.369 L154.95 632.369 Q158.399 632.369 160.228 631.004 Q162.056 629.615 162.056 627.022 Q162.056 624.36 160.158 622.948 Q158.283 621.513 154.765 621.513 Q152.843 621.513 150.644 621.93 Q148.445 622.346 145.806 623.226 L145.806 619.059 Q148.469 618.319 150.783 617.948 Q153.121 617.578 155.181 617.578 Q160.505 617.578 163.607 620.008 Q166.709 622.416 166.709 626.536 Q166.709 629.406 165.066 631.397 Q163.422 633.365 160.39 634.129 Z\" fill=\"#000000\" fill-rule=\"evenodd\" fill-opacity=\"1\" /><path clip-path=\"url(#clip160)\" d=\"M186.385 621.282 Q182.774 621.282 180.945 624.846 Q179.14 628.388 179.14 635.518 Q179.14 642.624 180.945 646.189 Q182.774 649.73 186.385 649.73 Q190.019 649.73 191.825 646.189 Q193.653 642.624 193.653 635.518 Q193.653 628.388 191.825 624.846 Q190.019 621.282 186.385 621.282 M186.385 617.578 Q192.195 617.578 195.251 622.184 Q198.329 626.768 198.329 635.518 Q198.329 644.244 195.251 648.851 Q192.195 653.434 186.385 653.434 Q180.575 653.434 177.496 648.851 Q174.441 644.244 174.441 635.518 Q174.441 626.768 177.496 622.184 Q180.575 617.578 186.385 617.578 Z\" fill=\"#000000\" fill-rule=\"evenodd\" fill-opacity=\"1\" /><path clip-path=\"url(#clip160)\" d=\"M216.547 621.282 Q212.936 621.282 211.107 624.846 Q209.302 628.388 209.302 635.518 Q209.302 642.624 211.107 646.189 Q212.936 649.73 216.547 649.73 Q220.181 649.73 221.987 646.189 Q223.815 642.624 223.815 635.518 Q223.815 628.388 221.987 624.846 Q220.181 621.282 216.547 621.282 M216.547 617.578 Q222.357 617.578 225.413 622.184 Q228.491 626.768 228.491 635.518 Q228.491 644.244 225.413 648.851 Q222.357 653.434 216.547 653.434 Q210.737 653.434 207.658 648.851 Q204.602 644.244 204.602 635.518 Q204.602 626.768 207.658 622.184 Q210.737 617.578 216.547 617.578 Z\" fill=\"#000000\" fill-rule=\"evenodd\" fill-opacity=\"1\" /><path clip-path=\"url(#clip160)\" d=\"M116.871 274.429 L124.51 274.429 L124.51 248.063 L116.2 249.73 L116.2 245.47 L124.464 243.804 L129.14 243.804 L129.14 274.429 L136.779 274.429 L136.779 278.364 L116.871 278.364 L116.871 274.429 Z\" fill=\"#000000\" fill-rule=\"evenodd\" fill-opacity=\"1\" /><path clip-path=\"url(#clip160)\" d=\"M159.07 247.878 L147.265 266.327 L159.07 266.327 L159.07 247.878 M157.843 243.804 L163.723 243.804 L163.723 266.327 L168.654 266.327 L168.654 270.216 L163.723 270.216 L163.723 278.364 L159.07 278.364 L159.07 270.216 L143.469 270.216 L143.469 265.702 L157.843 243.804 Z\" fill=\"#000000\" fill-rule=\"evenodd\" fill-opacity=\"1\" /><path clip-path=\"url(#clip160)\" d=\"M186.385 246.882 Q182.774 246.882 180.945 250.447 Q179.14 253.989 179.14 261.118 Q179.14 268.225 180.945 271.79 Q182.774 275.331 186.385 275.331 Q190.019 275.331 191.825 271.79 Q193.653 268.225 193.653 261.118 Q193.653 253.989 191.825 250.447 Q190.019 246.882 186.385 246.882 M186.385 243.179 Q192.195 243.179 195.251 247.785 Q198.329 252.369 198.329 261.118 Q198.329 269.845 195.251 274.452 Q192.195 279.035 186.385 279.035 Q180.575 279.035 177.496 274.452 Q174.441 269.845 174.441 261.118 Q174.441 252.369 177.496 247.785 Q180.575 243.179 186.385 243.179 Z\" fill=\"#000000\" fill-rule=\"evenodd\" fill-opacity=\"1\" /><path clip-path=\"url(#clip160)\" d=\"M216.547 246.882 Q212.936 246.882 211.107 250.447 Q209.302 253.989 209.302 261.118 Q209.302 268.225 211.107 271.79 Q212.936 275.331 216.547 275.331 Q220.181 275.331 221.987 271.79 Q223.815 268.225 223.815 261.118 Q223.815 253.989 221.987 250.447 Q220.181 246.882 216.547 246.882 M216.547 243.179 Q222.357 243.179 225.413 247.785 Q228.491 252.369 228.491 261.118 Q228.491 269.845 225.413 274.452 Q222.357 279.035 216.547 279.035 Q210.737 279.035 207.658 274.452 Q204.602 269.845 204.602 261.118 Q204.602 252.369 207.658 247.785 Q210.737 243.179 216.547 243.179 Z\" fill=\"#000000\" fill-rule=\"evenodd\" fill-opacity=\"1\" /><path clip-path=\"url(#clip160)\" d=\"M31.6642 1455.77 Q32.3644 1453.7 34.6561 1451.76 Q36.9477 1449.79 40.9581 1447.81 L53.9442 1441.29 L53.9442 1448.19 L41.7538 1454.27 Q36.9795 1456.63 35.42 1458.86 Q33.8604 1461.05 33.8604 1464.87 L33.8604 1471.87 L53.9442 1471.87 L53.9442 1478.3 L6.42416 1478.3 L6.42416 1463.79 Q6.42416 1455.64 9.82981 1451.63 Q13.2355 1447.62 20.1104 1447.62 Q24.5982 1447.62 27.5583 1449.72 Q30.5184 1451.79 31.6642 1455.77 M11.7077 1471.87 L28.5768 1471.87 L28.5768 1463.79 Q28.5768 1459.14 26.4443 1456.79 Q24.28 1454.4 20.1104 1454.4 Q15.9409 1454.4 13.8402 1456.79 Q11.7077 1459.14 11.7077 1463.79 L11.7077 1471.87 Z\" fill=\"#000000\" fill-rule=\"evenodd\" fill-opacity=\"1\" /><path clip-path=\"url(#clip160)\" d=\"M34.6561 1405.7 L37.5206 1405.7 L37.5206 1432.63 Q43.5681 1432.25 46.7509 1429 Q49.9019 1425.72 49.9019 1419.9 Q49.9019 1416.52 49.0744 1413.37 Q48.2469 1410.19 46.5918 1407.07 L52.1299 1407.07 Q53.4667 1410.22 54.167 1413.53 Q54.8672 1416.84 54.8672 1420.25 Q54.8672 1428.78 49.9019 1433.78 Q44.9367 1438.74 36.4703 1438.74 Q27.7174 1438.74 22.5931 1434.03 Q17.4368 1429.29 17.4368 1421.27 Q17.4368 1414.07 22.0838 1409.9 Q26.6989 1405.7 34.6561 1405.7 M32.9373 1411.56 Q28.1312 1411.62 25.2666 1414.27 Q22.4021 1416.88 22.4021 1421.2 Q22.4021 1426.11 25.1712 1429.07 Q27.9402 1431.99 32.9692 1432.44 L32.9373 1411.56 Z\" fill=\"#000000\" fill-rule=\"evenodd\" fill-opacity=\"1\" /><path clip-path=\"url(#clip160)\" d=\"M19.3465 1373.37 L24.8847 1373.37 Q23.6116 1375.85 22.975 1378.52 Q22.3384 1381.2 22.3384 1384.06 Q22.3384 1388.42 23.6752 1390.62 Q25.012 1392.78 27.6856 1392.78 Q29.7226 1392.78 30.9003 1391.22 Q32.0461 1389.66 33.0965 1384.95 L33.5421 1382.95 Q34.8789 1376.71 37.3297 1374.1 Q39.7486 1371.46 44.1091 1371.46 Q49.0744 1371.46 51.9708 1375.4 Q54.8672 1379.32 54.8672 1386.19 Q54.8672 1389.06 54.2943 1392.18 Q53.7532 1395.26 52.6392 1398.7 L46.5918 1398.7 Q48.2787 1395.45 49.138 1392.3 Q49.9656 1389.15 49.9656 1386.07 Q49.9656 1381.93 48.5651 1379.7 Q47.1329 1377.47 44.5547 1377.47 Q42.1676 1377.47 40.8945 1379.09 Q39.6213 1380.69 38.4437 1386.13 L37.9662 1388.17 Q36.8204 1393.61 34.4651 1396.03 Q32.078 1398.45 27.9402 1398.45 Q22.9113 1398.45 20.1741 1394.88 Q17.4368 1391.32 17.4368 1384.76 Q17.4368 1381.51 17.9143 1378.65 Q18.3917 1375.78 19.3465 1373.37 Z\" fill=\"#000000\" fill-rule=\"evenodd\" fill-opacity=\"1\" /><path clip-path=\"url(#clip160)\" d=\"M39.8759 1362.73 L18.2962 1362.73 L18.2962 1356.88 L39.6531 1356.88 Q44.7139 1356.88 47.2602 1354.9 Q49.7746 1352.93 49.7746 1348.98 Q49.7746 1344.24 46.7509 1341.51 Q43.7272 1338.74 38.5073 1338.74 L18.2962 1338.74 L18.2962 1332.88 L53.9442 1332.88 L53.9442 1338.74 L48.4696 1338.74 Q51.7162 1340.87 53.3076 1343.7 Q54.8672 1346.5 54.8672 1350.23 Q54.8672 1356.37 51.0478 1359.55 Q47.2283 1362.73 39.8759 1362.73 M17.4368 1348 L17.4368 1348 Z\" fill=\"#000000\" fill-rule=\"evenodd\" fill-opacity=\"1\" /><path clip-path=\"url(#clip160)\" d=\"M4.41896 1320.82 L4.41896 1314.96 L53.9442 1314.96 L53.9442 1320.82 L4.41896 1320.82 Z\" fill=\"#000000\" fill-rule=\"evenodd\" fill-opacity=\"1\" /><path clip-path=\"url(#clip160)\" d=\"M8.17473 1296.91 L18.2962 1296.91 L18.2962 1284.85 L22.8477 1284.85 L22.8477 1296.91 L42.1994 1296.91 Q46.5599 1296.91 47.8013 1295.74 Q49.0426 1294.53 49.0426 1290.87 L49.0426 1284.85 L53.9442 1284.85 L53.9442 1290.87 Q53.9442 1297.65 51.4297 1300.22 Q48.8834 1302.8 42.1994 1302.8 L22.8477 1302.8 L22.8477 1307.1 L18.2962 1307.1 L18.2962 1302.8 L8.17473 1302.8 L8.17473 1296.91 Z\" fill=\"#000000\" fill-rule=\"evenodd\" fill-opacity=\"1\" /><path clip-path=\"url(#clip160)\" d=\"M19.3465 1254.42 L24.8847 1254.42 Q23.6116 1256.9 22.975 1259.58 Q22.3384 1262.25 22.3384 1265.12 Q22.3384 1269.48 23.6752 1271.67 Q25.012 1273.84 27.6856 1273.84 Q29.7226 1273.84 30.9003 1272.28 Q32.0461 1270.72 33.0965 1266.01 L33.5421 1264 Q34.8789 1257.76 37.3297 1255.15 Q39.7486 1252.51 44.1091 1252.51 Q49.0744 1252.51 51.9708 1256.46 Q54.8672 1260.37 54.8672 1267.25 Q54.8672 1270.11 54.2943 1273.23 Q53.7532 1276.32 52.6392 1279.76 L46.5918 1279.76 Q48.2787 1276.51 49.138 1273.36 Q49.9656 1270.21 49.9656 1267.12 Q49.9656 1262.98 48.5651 1260.76 Q47.1329 1258.53 44.5547 1258.53 Q42.1676 1258.53 40.8945 1260.15 Q39.6213 1261.74 38.4437 1267.19 L37.9662 1269.22 Q36.8204 1274.67 34.4651 1277.08 Q32.078 1279.5 27.9402 1279.5 Q22.9113 1279.5 20.1741 1275.94 Q17.4368 1272.37 17.4368 1265.82 Q17.4368 1262.57 17.9143 1259.71 Q18.3917 1256.84 19.3465 1254.42 Z\" fill=\"#000000\" fill-rule=\"evenodd\" fill-opacity=\"1\" /><path clip-path=\"url(#clip160)\" d=\"M6.42416 1212.06 L6.42416 1206.65 L59.9916 1223.2 L59.9916 1228.61 L6.42416 1212.06 Z\" fill=\"#000000\" fill-rule=\"evenodd\" fill-opacity=\"1\" /><path clip-path=\"url(#clip160)\" d=\"M10.7847 1160.24 Q10.7847 1167.24 16.0045 1171.38 Q21.2244 1175.49 30.2319 1175.49 Q39.2075 1175.49 44.4274 1171.38 Q49.6473 1167.24 49.6473 1160.24 Q49.6473 1153.24 44.4274 1149.17 Q39.2075 1145.06 30.2319 1145.06 Q21.2244 1145.06 16.0045 1149.17 Q10.7847 1153.24 10.7847 1160.24 M5.56479 1160.24 Q5.56479 1150.25 12.2806 1144.26 Q18.9646 1138.28 30.2319 1138.28 Q41.4674 1138.28 48.1832 1144.26 Q54.8672 1150.25 54.8672 1160.24 Q54.8672 1170.27 48.1832 1176.28 Q41.4992 1182.27 30.2319 1182.27 Q18.9646 1182.27 12.2806 1176.28 Q5.56479 1170.27 5.56479 1160.24 Z\" fill=\"#000000\" fill-rule=\"evenodd\" fill-opacity=\"1\" /><path clip-path=\"url(#clip160)\" d=\"M39.8759 1129.08 L18.2962 1129.08 L18.2962 1123.23 L39.6531 1123.23 Q44.7139 1123.23 47.2602 1121.25 Q49.7746 1119.28 49.7746 1115.33 Q49.7746 1110.59 46.7509 1107.85 Q43.7272 1105.08 38.5073 1105.08 L18.2962 1105.08 L18.2962 1099.23 L53.9442 1099.23 L53.9442 1105.08 L48.4696 1105.08 Q51.7162 1107.22 53.3076 1110.05 Q54.8672 1112.85 54.8672 1116.57 Q54.8672 1122.72 51.0478 1125.9 Q47.2283 1129.08 39.8759 1129.08 M17.4368 1114.34 L17.4368 1114.34 Z\" fill=\"#000000\" fill-rule=\"evenodd\" fill-opacity=\"1\" /><path clip-path=\"url(#clip160)\" d=\"M8.17473 1081.37 L18.2962 1081.37 L18.2962 1069.31 L22.8477 1069.31 L22.8477 1081.37 L42.1994 1081.37 Q46.5599 1081.37 47.8013 1080.19 Q49.0426 1078.98 49.0426 1075.32 L49.0426 1069.31 L53.9442 1069.31 L53.9442 1075.32 Q53.9442 1082.1 51.4297 1084.68 Q48.8834 1087.26 42.1994 1087.26 L22.8477 1087.26 L22.8477 1091.56 L18.2962 1091.56 L18.2962 1087.26 L8.17473 1087.26 L8.17473 1081.37 Z\" fill=\"#000000\" fill-rule=\"evenodd\" fill-opacity=\"1\" /><path clip-path=\"url(#clip160)\" d=\"M19.6648 1035.95 L25.1393 1035.95 Q23.7707 1038.43 23.1023 1040.95 Q22.4021 1043.43 22.4021 1045.98 Q22.4021 1051.67 26.0305 1054.83 Q29.6272 1057.98 36.152 1057.98 Q42.6769 1057.98 46.3053 1054.83 Q49.9019 1051.67 49.9019 1045.98 Q49.9019 1043.43 49.2335 1040.95 Q48.5333 1038.43 47.1647 1035.95 L52.5755 1035.95 Q53.7214 1038.4 54.2943 1041.04 Q54.8672 1043.65 54.8672 1046.61 Q54.8672 1054.67 49.8064 1059.41 Q44.7457 1064.15 36.152 1064.15 Q27.431 1064.15 22.4339 1059.38 Q17.4368 1054.57 17.4368 1046.23 Q17.4368 1043.53 18.0097 1040.95 Q18.5508 1038.37 19.6648 1035.95 Z\" fill=\"#000000\" fill-rule=\"evenodd\" fill-opacity=\"1\" /><path clip-path=\"url(#clip160)\" d=\"M22.4021 1011.95 Q22.4021 1016.66 26.0942 1019.4 Q29.7545 1022.14 36.152 1022.14 Q42.5495 1022.14 46.2417 1019.43 Q49.9019 1016.69 49.9019 1011.95 Q49.9019 1007.27 46.2098 1004.54 Q42.5177 1001.8 36.152 1001.8 Q29.8181 1001.8 26.126 1004.54 Q22.4021 1007.27 22.4021 1011.95 M17.4368 1011.95 Q17.4368 1004.31 22.4021 999.953 Q27.3673 995.593 36.152 995.593 Q44.9049 995.593 49.9019 999.953 Q54.8672 1004.31 54.8672 1011.95 Q54.8672 1019.62 49.9019 1023.98 Q44.9049 1028.31 36.152 1028.31 Q27.3673 1028.31 22.4021 1023.98 Q17.4368 1019.62 17.4368 1011.95 Z\" fill=\"#000000\" fill-rule=\"evenodd\" fill-opacity=\"1\" /><path clip-path=\"url(#clip160)\" d=\"M25.1393 958.13 Q21.1926 955.934 19.3147 952.879 Q17.4368 949.823 17.4368 945.686 Q17.4368 940.116 21.3517 937.092 Q25.2348 934.068 32.4281 934.068 L53.9442 934.068 L53.9442 939.956 L32.619 939.956 Q27.4946 939.956 25.012 941.771 Q22.5294 943.585 22.5294 947.309 Q22.5294 951.86 25.5531 954.502 Q28.5768 957.144 33.7967 957.144 L53.9442 957.144 L53.9442 963.032 L32.619 963.032 Q27.4628 963.032 25.012 964.846 Q22.5294 966.661 22.5294 970.448 Q22.5294 974.936 25.5849 977.578 Q28.6086 980.219 33.7967 980.219 L53.9442 980.219 L53.9442 986.108 L18.2962 986.108 L18.2962 980.219 L23.8344 980.219 Q20.556 978.214 18.9964 975.413 Q17.4368 972.612 17.4368 968.761 Q17.4368 964.878 19.4102 962.173 Q21.3836 959.435 25.1393 958.13 Z\" fill=\"#000000\" fill-rule=\"evenodd\" fill-opacity=\"1\" /><path clip-path=\"url(#clip160)\" d=\"M34.6561 891.895 L37.5206 891.895 L37.5206 918.822 Q43.5681 918.44 46.7509 915.194 Q49.9019 911.915 49.9019 906.091 Q49.9019 902.717 49.0744 899.566 Q48.2469 896.383 46.5918 893.264 L52.1299 893.264 Q53.4667 896.415 54.167 899.725 Q54.8672 903.035 54.8672 906.441 Q54.8672 914.971 49.9019 919.968 Q44.9367 924.933 36.4703 924.933 Q27.7174 924.933 22.5931 920.223 Q17.4368 915.48 17.4368 907.459 Q17.4368 900.266 22.0838 896.097 Q26.6989 891.895 34.6561 891.895 M32.9373 897.752 Q28.1312 897.815 25.2666 900.457 Q22.4021 903.067 22.4021 907.396 Q22.4021 912.297 25.1712 915.257 Q27.9402 918.186 32.9692 918.631 L32.9373 897.752 Z\" fill=\"#000000\" fill-rule=\"evenodd\" fill-opacity=\"1\" /><path clip-path=\"url(#clip160)\" d=\"M19.3465 859.557 L24.8847 859.557 Q23.6116 862.04 22.975 864.714 Q22.3384 867.387 22.3384 870.252 Q22.3384 874.612 23.6752 876.809 Q25.012 878.973 27.6856 878.973 Q29.7226 878.973 30.9003 877.413 Q32.0461 875.854 33.0965 871.143 L33.5421 869.138 Q34.8789 862.899 37.3297 860.29 Q39.7486 857.648 44.1091 857.648 Q49.0744 857.648 51.9708 861.595 Q54.8672 865.509 54.8672 872.384 Q54.8672 875.249 54.2943 878.368 Q53.7532 881.456 52.6392 884.893 L46.5918 884.893 Q48.2787 881.646 49.138 878.495 Q49.9656 875.344 49.9656 872.257 Q49.9656 868.119 48.5651 865.891 Q47.1329 863.663 44.5547 863.663 Q42.1676 863.663 40.8945 865.287 Q39.6213 866.878 38.4437 872.321 L37.9662 874.358 Q36.8204 879.8 34.4651 882.219 Q32.078 884.638 27.9402 884.638 Q22.9113 884.638 20.1741 881.074 Q17.4368 877.509 17.4368 870.952 Q17.4368 867.706 17.9143 864.841 Q18.3917 861.976 19.3465 859.557 Z\" fill=\"#000000\" fill-rule=\"evenodd\" fill-opacity=\"1\" /><path clip-path=\"url(#clip160)\" d=\"M338.916 16.7545 L338.916 25.383 Q334.784 21.5346 330.085 19.6307 Q325.427 17.7268 320.161 17.7268 Q309.79 17.7268 304.281 24.0867 Q298.772 30.4061 298.772 42.3968 Q298.772 54.3469 304.281 60.7069 Q309.79 67.0263 320.161 67.0263 Q325.427 67.0263 330.085 65.1223 Q334.784 63.2184 338.916 59.3701 L338.916 67.9175 Q334.622 70.8341 329.802 72.2924 Q325.022 73.7508 319.674 73.7508 Q305.942 73.7508 298.043 65.3654 Q290.143 56.9395 290.143 42.3968 Q290.143 27.8135 298.043 19.4281 Q305.942 11.0023 319.674 11.0023 Q325.103 11.0023 329.883 12.4606 Q334.703 13.8784 338.916 16.7545 Z\" fill=\"#000000\" fill-rule=\"evenodd\" fill-opacity=\"1\" /><path clip-path=\"url(#clip160)\" d=\"M388.945 45.1919 L388.945 72.576 L381.491 72.576 L381.491 45.4349 Q381.491 38.994 378.98 35.7938 Q376.468 32.5936 371.445 32.5936 Q365.409 32.5936 361.925 36.4419 Q358.442 40.2903 358.442 46.9338 L358.442 72.576 L350.947 72.576 L350.947 9.54393 L358.442 9.54393 L358.442 34.2544 Q361.115 30.163 364.72 28.1376 Q368.366 26.1121 373.106 26.1121 Q380.924 26.1121 384.935 30.9732 Q388.945 35.7938 388.945 45.1919 Z\" fill=\"#000000\" fill-rule=\"evenodd\" fill-opacity=\"1\" /><path clip-path=\"url(#clip160)\" d=\"M424.431 49.7694 Q415.397 49.7694 411.914 51.8354 Q408.43 53.9013 408.43 58.8839 Q408.43 62.8538 411.022 65.2034 Q413.655 67.5124 418.152 67.5124 Q424.35 67.5124 428.077 63.1374 Q431.844 58.7219 431.844 51.4303 L431.844 49.7694 L424.431 49.7694 M439.298 46.6907 L439.298 72.576 L431.844 72.576 L431.844 65.6895 Q429.292 69.8214 425.484 71.8063 Q421.676 73.7508 416.167 73.7508 Q409.199 73.7508 405.068 69.8619 Q400.976 65.9325 400.976 59.3701 Q400.976 51.7138 406.08 47.825 Q411.225 43.9361 421.393 43.9361 L431.844 43.9361 L431.844 43.2069 Q431.844 38.0623 428.441 35.2672 Q425.079 32.4315 418.962 32.4315 Q415.073 32.4315 411.387 33.3632 Q407.701 34.295 404.298 36.1584 L404.298 29.2718 Q408.389 27.692 412.238 26.9223 Q416.086 26.1121 419.732 26.1121 Q429.575 26.1121 434.437 31.2163 Q439.298 36.3204 439.298 46.6907 Z\" fill=\"#000000\" fill-rule=\"evenodd\" fill-opacity=\"1\" /><path clip-path=\"url(#clip160)\" d=\"M480.941 34.1734 Q479.685 33.4443 478.186 33.1202 Q476.728 32.7556 474.946 32.7556 Q468.626 32.7556 465.223 36.8875 Q461.861 40.9789 461.861 48.6757 L461.861 72.576 L454.367 72.576 L454.367 27.2059 L461.861 27.2059 L461.861 34.2544 Q464.211 30.1225 467.978 28.1376 Q471.745 26.1121 477.133 26.1121 Q477.903 26.1121 478.834 26.2337 Q479.766 26.3147 480.9 26.5172 L480.941 34.1734 Z\" fill=\"#000000\" fill-rule=\"evenodd\" fill-opacity=\"1\" /><path clip-path=\"url(#clip160)\" d=\"M496.132 14.324 L496.132 27.2059 L511.485 27.2059 L511.485 32.9987 L496.132 32.9987 L496.132 57.6282 Q496.132 63.1779 497.631 64.7578 Q499.17 66.3376 503.829 66.3376 L511.485 66.3376 L511.485 72.576 L503.829 72.576 Q495.2 72.576 491.919 69.3758 Q488.638 66.1351 488.638 57.6282 L488.638 32.9987 L483.169 32.9987 L483.169 27.2059 L488.638 27.2059 L488.638 14.324 L496.132 14.324 Z\" fill=\"#000000\" fill-rule=\"evenodd\" fill-opacity=\"1\" /><path clip-path=\"url(#clip160)\" d=\"M550.211 28.5427 L550.211 35.5912 Q547.052 33.9709 543.649 33.1607 Q540.246 32.3505 536.6 32.3505 Q531.051 32.3505 528.255 34.0519 Q525.501 35.7533 525.501 39.156 Q525.501 41.7486 527.486 43.2475 Q529.471 44.7058 535.466 46.0426 L538.018 46.6097 Q545.958 48.3111 549.28 51.4303 Q552.642 54.509 552.642 60.0587 Q552.642 66.3781 547.619 70.0644 Q542.636 73.7508 533.886 73.7508 Q530.24 73.7508 526.271 73.0216 Q522.341 72.3329 517.966 70.9151 L517.966 63.2184 Q522.098 65.3654 526.109 66.4591 Q530.119 67.5124 534.048 67.5124 Q539.314 67.5124 542.15 65.73 Q544.986 63.9071 544.986 60.6258 Q544.986 57.5877 542.92 55.9673 Q540.894 54.3469 533.967 52.8481 L531.375 52.2405 Q524.448 50.7821 521.369 47.7845 Q518.29 44.7463 518.29 39.4801 Q518.29 33.0797 522.827 29.5959 Q527.364 26.1121 535.709 26.1121 Q539.841 26.1121 543.487 26.7198 Q547.133 27.3274 550.211 28.5427 Z\" fill=\"#000000\" fill-rule=\"evenodd\" fill-opacity=\"1\" /><path clip-path=\"url(#clip160)\" d=\"M608.463 32.4315 Q602.468 32.4315 598.984 37.1306 Q595.501 41.7891 595.501 49.9314 Q595.501 58.0738 598.944 62.7728 Q602.428 67.4314 608.463 67.4314 Q614.418 67.4314 617.902 62.7323 Q621.386 58.0333 621.386 49.9314 Q621.386 41.8701 617.902 37.1711 Q614.418 32.4315 608.463 32.4315 M608.463 26.1121 Q618.186 26.1121 623.735 32.4315 Q629.285 38.7509 629.285 49.9314 Q629.285 61.0714 623.735 67.4314 Q618.186 73.7508 608.463 73.7508 Q598.701 73.7508 593.151 67.4314 Q587.642 61.0714 587.642 49.9314 Q587.642 38.7509 593.151 32.4315 Q598.701 26.1121 608.463 26.1121 Z\" fill=\"#000000\" fill-rule=\"evenodd\" fill-opacity=\"1\" /><path clip-path=\"url(#clip160)\" d=\"M664.609 9.54393 L664.609 15.7418 L657.479 15.7418 Q653.469 15.7418 651.889 17.3622 Q650.35 18.9825 650.35 23.1955 L650.35 27.2059 L662.624 27.2059 L662.624 32.9987 L650.35 32.9987 L650.35 72.576 L642.856 72.576 L642.856 32.9987 L635.726 32.9987 L635.726 27.2059 L642.856 27.2059 L642.856 24.0462 Q642.856 16.471 646.38 13.0277 Q649.904 9.54393 657.56 9.54393 L664.609 9.54393 Z\" fill=\"#000000\" fill-rule=\"evenodd\" fill-opacity=\"1\" /><path clip-path=\"url(#clip160)\" d=\"M704.591 14.324 L704.591 27.2059 L719.944 27.2059 L719.944 32.9987 L704.591 32.9987 L704.591 57.6282 Q704.591 63.1779 706.09 64.7578 Q707.63 66.3376 712.288 66.3376 L719.944 66.3376 L719.944 72.576 L712.288 72.576 Q703.66 72.576 700.378 69.3758 Q697.097 66.1351 697.097 57.6282 L697.097 32.9987 L691.628 32.9987 L691.628 27.2059 L697.097 27.2059 L697.097 14.324 L704.591 14.324 Z\" fill=\"#000000\" fill-rule=\"evenodd\" fill-opacity=\"1\" /><path clip-path=\"url(#clip160)\" d=\"M767.461 45.1919 L767.461 72.576 L760.008 72.576 L760.008 45.4349 Q760.008 38.994 757.496 35.7938 Q754.985 32.5936 749.961 32.5936 Q743.926 32.5936 740.442 36.4419 Q736.958 40.2903 736.958 46.9338 L736.958 72.576 L729.464 72.576 L729.464 9.54393 L736.958 9.54393 L736.958 34.2544 Q739.632 30.163 743.237 28.1376 Q746.883 26.1121 751.622 26.1121 Q759.441 26.1121 763.451 30.9732 Q767.461 35.7938 767.461 45.1919 Z\" fill=\"#000000\" fill-rule=\"evenodd\" fill-opacity=\"1\" /><path clip-path=\"url(#clip160)\" d=\"M821.136 48.0275 L821.136 51.6733 L786.865 51.6733 Q787.351 59.3701 791.483 63.421 Q795.656 67.4314 803.069 67.4314 Q807.363 67.4314 811.373 66.3781 Q815.424 65.3249 819.394 63.2184 L819.394 70.267 Q815.384 71.9684 811.171 72.8596 Q806.958 73.7508 802.623 73.7508 Q791.767 73.7508 785.407 67.4314 Q779.087 61.1119 779.087 50.3365 Q779.087 39.1965 785.083 32.6746 Q791.119 26.1121 801.327 26.1121 Q810.482 26.1121 815.789 32.0264 Q821.136 37.9003 821.136 48.0275 M813.682 45.84 Q813.601 39.7232 810.239 36.0774 Q806.917 32.4315 801.408 32.4315 Q795.17 32.4315 791.402 35.9558 Q787.675 39.4801 787.108 45.8805 L813.682 45.84 Z\" fill=\"#000000\" fill-rule=\"evenodd\" fill-opacity=\"1\" /><path clip-path=\"url(#clip160)\" d=\"M892.391 28.9478 L892.391 35.9153 Q889.232 34.1734 886.031 33.3227 Q882.872 32.4315 879.631 32.4315 Q872.38 32.4315 868.369 37.0496 Q864.359 41.6271 864.359 49.9314 Q864.359 58.2358 868.369 62.8538 Q872.38 67.4314 879.631 67.4314 Q882.872 67.4314 886.031 66.5807 Q889.232 65.6895 892.391 63.9476 L892.391 70.8341 Q889.272 72.2924 885.91 73.0216 Q882.588 73.7508 878.821 73.7508 Q868.572 73.7508 862.536 67.3098 Q856.5 60.8689 856.5 49.9314 Q856.5 38.832 862.577 32.472 Q868.693 26.1121 879.307 26.1121 Q882.75 26.1121 886.031 26.8413 Q889.313 27.5299 892.391 28.9478 Z\" fill=\"#000000\" fill-rule=\"evenodd\" fill-opacity=\"1\" /><path clip-path=\"url(#clip160)\" d=\"M943.068 45.1919 L943.068 72.576 L935.614 72.576 L935.614 45.4349 Q935.614 38.994 933.103 35.7938 Q930.591 32.5936 925.568 32.5936 Q919.532 32.5936 916.049 36.4419 Q912.565 40.2903 912.565 46.9338 L912.565 72.576 L905.071 72.576 L905.071 9.54393 L912.565 9.54393 L912.565 34.2544 Q915.238 30.163 918.844 28.1376 Q922.489 26.1121 927.229 26.1121 Q935.047 26.1121 939.058 30.9732 Q943.068 35.7938 943.068 45.1919 Z\" fill=\"#000000\" fill-rule=\"evenodd\" fill-opacity=\"1\" /><path clip-path=\"url(#clip160)\" d=\"M978.554 49.7694 Q969.52 49.7694 966.037 51.8354 Q962.553 53.9013 962.553 58.8839 Q962.553 62.8538 965.146 65.2034 Q967.779 67.5124 972.275 67.5124 Q978.473 67.5124 982.2 63.1374 Q985.967 58.7219 985.967 51.4303 L985.967 49.7694 L978.554 49.7694 M993.421 46.6907 L993.421 72.576 L985.967 72.576 L985.967 65.6895 Q983.415 69.8214 979.607 71.8063 Q975.799 73.7508 970.29 73.7508 Q963.323 73.7508 959.191 69.8619 Q955.099 65.9325 955.099 59.3701 Q955.099 51.7138 960.203 47.825 Q965.348 43.9361 975.516 43.9361 L985.967 43.9361 L985.967 43.2069 Q985.967 38.0623 982.564 35.2672 Q979.202 32.4315 973.085 32.4315 Q969.196 32.4315 965.51 33.3632 Q961.824 34.295 958.421 36.1584 L958.421 29.2718 Q962.512 27.692 966.361 26.9223 Q970.209 26.1121 973.855 26.1121 Q983.699 26.1121 988.56 31.2163 Q993.421 36.3204 993.421 46.6907 Z\" fill=\"#000000\" fill-rule=\"evenodd\" fill-opacity=\"1\" /><path clip-path=\"url(#clip160)\" d=\"M1046.49 45.1919 L1046.49 72.576 L1039.03 72.576 L1039.03 45.4349 Q1039.03 38.994 1036.52 35.7938 Q1034.01 32.5936 1028.99 32.5936 Q1022.95 32.5936 1019.47 36.4419 Q1015.98 40.2903 1015.98 46.9338 L1015.98 72.576 L1008.49 72.576 L1008.49 27.2059 L1015.98 27.2059 L1015.98 34.2544 Q1018.66 30.163 1022.26 28.1376 Q1025.91 26.1121 1030.65 26.1121 Q1038.47 26.1121 1042.48 30.9732 Q1046.49 35.7938 1046.49 45.1919 Z\" fill=\"#000000\" fill-rule=\"evenodd\" fill-opacity=\"1\" /><path clip-path=\"url(#clip160)\" d=\"M1091.21 49.3643 Q1091.21 41.2625 1087.85 36.8065 Q1084.53 32.3505 1078.49 32.3505 Q1072.49 32.3505 1069.13 36.8065 Q1065.81 41.2625 1065.81 49.3643 Q1065.81 57.4256 1069.13 61.8816 Q1072.49 66.3376 1078.49 66.3376 Q1084.53 66.3376 1087.85 61.8816 Q1091.21 57.4256 1091.21 49.3643 M1098.66 66.9452 Q1098.66 78.5308 1093.52 84.1616 Q1088.37 89.8329 1077.76 89.8329 Q1073.83 89.8329 1070.35 89.2252 Q1066.86 88.6581 1063.58 87.4428 L1063.58 80.1917 Q1066.86 81.9741 1070.06 82.8248 Q1073.26 83.6755 1076.59 83.6755 Q1083.92 83.6755 1087.56 79.8271 Q1091.21 76.0193 1091.21 68.282 L1091.21 64.5957 Q1088.9 68.6061 1085.3 70.5911 Q1081.69 72.576 1076.67 72.576 Q1068.32 72.576 1063.22 66.2161 Q1058.11 59.8562 1058.11 49.3643 Q1058.11 38.832 1063.22 32.472 Q1068.32 26.1121 1076.67 26.1121 Q1081.69 26.1121 1085.3 28.0971 Q1088.9 30.082 1091.21 34.0924 L1091.21 27.2059 L1098.66 27.2059 L1098.66 66.9452 Z\" fill=\"#000000\" fill-rule=\"evenodd\" fill-opacity=\"1\" /><path clip-path=\"url(#clip160)\" d=\"M1152.82 48.0275 L1152.82 51.6733 L1118.55 51.6733 Q1119.04 59.3701 1123.17 63.421 Q1127.34 67.4314 1134.76 67.4314 Q1139.05 67.4314 1143.06 66.3781 Q1147.11 65.3249 1151.08 63.2184 L1151.08 70.267 Q1147.07 71.9684 1142.86 72.8596 Q1138.65 73.7508 1134.31 73.7508 Q1123.45 73.7508 1117.09 67.4314 Q1110.78 61.1119 1110.78 50.3365 Q1110.78 39.1965 1116.77 32.6746 Q1122.81 26.1121 1133.01 26.1121 Q1142.17 26.1121 1147.48 32.0264 Q1152.82 37.9003 1152.82 48.0275 M1145.37 45.84 Q1145.29 39.7232 1141.93 36.0774 Q1138.61 32.4315 1133.1 32.4315 Q1126.86 32.4315 1123.09 35.9558 Q1119.36 39.4801 1118.8 45.8805 L1145.37 45.84 Z\" fill=\"#000000\" fill-rule=\"evenodd\" fill-opacity=\"1\" /><path clip-path=\"url(#clip160)\" d=\"M1191.43 27.2059 L1198.88 27.2059 L1198.88 72.576 L1191.43 72.576 L1191.43 27.2059 M1191.43 9.54393 L1198.88 9.54393 L1198.88 18.9825 L1191.43 18.9825 L1191.43 9.54393 Z\" fill=\"#000000\" fill-rule=\"evenodd\" fill-opacity=\"1\" /><path clip-path=\"url(#clip160)\" d=\"M1252.19 45.1919 L1252.19 72.576 L1244.74 72.576 L1244.74 45.4349 Q1244.74 38.994 1242.23 35.7938 Q1239.72 32.5936 1234.69 32.5936 Q1228.66 32.5936 1225.17 36.4419 Q1221.69 40.2903 1221.69 46.9338 L1221.69 72.576 L1214.2 72.576 L1214.2 27.2059 L1221.69 27.2059 L1221.69 34.2544 Q1224.36 30.163 1227.97 28.1376 Q1231.61 26.1121 1236.35 26.1121 Q1244.17 26.1121 1248.18 30.9732 Q1252.19 35.7938 1252.19 45.1919 Z\" fill=\"#000000\" fill-rule=\"evenodd\" fill-opacity=\"1\" /><path clip-path=\"url(#clip160)\" d=\"M1300.64 65.7705 L1300.64 89.8329 L1293.15 89.8329 L1293.15 27.2059 L1300.64 27.2059 L1300.64 34.0924 Q1302.99 30.0415 1306.56 28.0971 Q1310.16 26.1121 1315.14 26.1121 Q1323.41 26.1121 1328.55 32.6746 Q1333.74 39.2371 1333.74 49.9314 Q1333.74 60.6258 1328.55 67.1883 Q1323.41 73.7508 1315.14 73.7508 Q1310.16 73.7508 1306.56 71.8063 Q1302.99 69.8214 1300.64 65.7705 M1326 49.9314 Q1326 41.7081 1322.6 37.0496 Q1319.24 32.3505 1313.32 32.3505 Q1307.41 32.3505 1304 37.0496 Q1300.64 41.7081 1300.64 49.9314 Q1300.64 58.1548 1304 62.8538 Q1307.41 67.5124 1313.32 67.5124 Q1319.24 67.5124 1322.6 62.8538 Q1326 58.1548 1326 49.9314 Z\" fill=\"#000000\" fill-rule=\"evenodd\" fill-opacity=\"1\" /><path clip-path=\"url(#clip160)\" d=\"M1372.38 34.1734 Q1371.13 33.4443 1369.63 33.1202 Q1368.17 32.7556 1366.39 32.7556 Q1360.07 32.7556 1356.67 36.8875 Q1353.3 40.9789 1353.3 48.6757 L1353.3 72.576 L1345.81 72.576 L1345.81 27.2059 L1353.3 27.2059 L1353.3 34.2544 Q1355.65 30.1225 1359.42 28.1376 Q1363.19 26.1121 1368.58 26.1121 Q1369.34 26.1121 1370.28 26.2337 Q1371.21 26.3147 1372.34 26.5172 L1372.38 34.1734 Z\" fill=\"#000000\" fill-rule=\"evenodd\" fill-opacity=\"1\" /><path clip-path=\"url(#clip160)\" d=\"M1395.96 32.4315 Q1389.96 32.4315 1386.48 37.1306 Q1383 41.7891 1383 49.9314 Q1383 58.0738 1386.44 62.7728 Q1389.92 67.4314 1395.96 67.4314 Q1401.91 67.4314 1405.4 62.7323 Q1408.88 58.0333 1408.88 49.9314 Q1408.88 41.8701 1405.4 37.1711 Q1401.91 32.4315 1395.96 32.4315 M1395.96 26.1121 Q1405.68 26.1121 1411.23 32.4315 Q1416.78 38.7509 1416.78 49.9314 Q1416.78 61.0714 1411.23 67.4314 Q1405.68 73.7508 1395.96 73.7508 Q1386.2 73.7508 1380.65 67.4314 Q1375.14 61.0714 1375.14 49.9314 Q1375.14 38.7509 1380.65 32.4315 Q1386.2 26.1121 1395.96 26.1121 Z\" fill=\"#000000\" fill-rule=\"evenodd\" fill-opacity=\"1\" /><path clip-path=\"url(#clip160)\" d=\"M1452.1 9.54393 L1452.1 15.7418 L1444.98 15.7418 Q1440.96 15.7418 1439.38 17.3622 Q1437.85 18.9825 1437.85 23.1955 L1437.85 27.2059 L1450.12 27.2059 L1450.12 32.9987 L1437.85 32.9987 L1437.85 72.576 L1430.35 72.576 L1430.35 32.9987 L1423.22 32.9987 L1423.22 27.2059 L1430.35 27.2059 L1430.35 24.0462 Q1430.35 16.471 1433.88 13.0277 Q1437.4 9.54393 1445.06 9.54393 L1452.1 9.54393 Z\" fill=\"#000000\" fill-rule=\"evenodd\" fill-opacity=\"1\" /><path clip-path=\"url(#clip160)\" d=\"M1458.34 27.2059 L1465.8 27.2059 L1465.8 72.576 L1458.34 72.576 L1458.34 27.2059 M1458.34 9.54393 L1465.8 9.54393 L1465.8 18.9825 L1458.34 18.9825 L1458.34 9.54393 Z\" fill=\"#000000\" fill-rule=\"evenodd\" fill-opacity=\"1\" /><path clip-path=\"url(#clip160)\" d=\"M1488.77 14.324 L1488.77 27.2059 L1504.12 27.2059 L1504.12 32.9987 L1488.77 32.9987 L1488.77 57.6282 Q1488.77 63.1779 1490.26 64.7578 Q1491.8 66.3376 1496.46 66.3376 L1504.12 66.3376 L1504.12 72.576 L1496.46 72.576 Q1487.83 72.576 1484.55 69.3758 Q1481.27 66.1351 1481.27 57.6282 L1481.27 32.9987 L1475.8 32.9987 L1475.8 27.2059 L1481.27 27.2059 L1481.27 14.324 L1488.77 14.324 Z\" fill=\"#000000\" fill-rule=\"evenodd\" fill-opacity=\"1\" /><path clip-path=\"url(#clip160)\" d=\"M1540.29 27.2059 L1547.75 27.2059 L1547.75 72.576 L1540.29 72.576 L1540.29 27.2059 M1540.29 9.54393 L1547.75 9.54393 L1547.75 18.9825 L1540.29 18.9825 L1540.29 9.54393 Z\" fill=\"#000000\" fill-rule=\"evenodd\" fill-opacity=\"1\" /><path clip-path=\"url(#clip160)\" d=\"M1601.06 45.1919 L1601.06 72.576 L1593.6 72.576 L1593.6 45.4349 Q1593.6 38.994 1591.09 35.7938 Q1588.58 32.5936 1583.56 32.5936 Q1577.52 32.5936 1574.04 36.4419 Q1570.55 40.2903 1570.55 46.9338 L1570.55 72.576 L1563.06 72.576 L1563.06 27.2059 L1570.55 27.2059 L1570.55 34.2544 Q1573.23 30.163 1576.83 28.1376 Q1580.48 26.1121 1585.22 26.1121 Q1593.04 26.1121 1597.05 30.9732 Q1601.06 35.7938 1601.06 45.1919 Z\" fill=\"#000000\" fill-rule=\"evenodd\" fill-opacity=\"1\" /><path clip-path=\"url(#clip160)\" d=\"M1668.59 34.1734 Q1667.33 33.4443 1665.83 33.1202 Q1664.37 32.7556 1662.59 32.7556 Q1656.27 32.7556 1652.87 36.8875 Q1649.51 40.9789 1649.51 48.6757 L1649.51 72.576 L1642.01 72.576 L1642.01 27.2059 L1649.51 27.2059 L1649.51 34.2544 Q1651.85 30.1225 1655.62 28.1376 Q1659.39 26.1121 1664.78 26.1121 Q1665.55 26.1121 1666.48 26.2337 Q1667.41 26.3147 1668.54 26.5172 L1668.59 34.1734 Z\" fill=\"#000000\" fill-rule=\"evenodd\" fill-opacity=\"1\" /><path clip-path=\"url(#clip160)\" d=\"M1713.39 48.0275 L1713.39 51.6733 L1679.12 51.6733 Q1679.6 59.3701 1683.74 63.421 Q1687.91 67.4314 1695.32 67.4314 Q1699.61 67.4314 1703.63 66.3781 Q1707.68 65.3249 1711.65 63.2184 L1711.65 70.267 Q1707.64 71.9684 1703.42 72.8596 Q1699.21 73.7508 1694.88 73.7508 Q1684.02 73.7508 1677.66 67.4314 Q1671.34 61.1119 1671.34 50.3365 Q1671.34 39.1965 1677.33 32.6746 Q1683.37 26.1121 1693.58 26.1121 Q1702.73 26.1121 1708.04 32.0264 Q1713.39 37.9003 1713.39 48.0275 M1705.93 45.84 Q1705.85 39.7232 1702.49 36.0774 Q1699.17 32.4315 1693.66 32.4315 Q1687.42 32.4315 1683.65 35.9558 Q1679.93 39.4801 1679.36 45.8805 L1705.93 45.84 Z\" fill=\"#000000\" fill-rule=\"evenodd\" fill-opacity=\"1\" /><path clip-path=\"url(#clip160)\" d=\"M1725.62 9.54393 L1733.08 9.54393 L1733.08 72.576 L1725.62 72.576 L1725.62 9.54393 Z\" fill=\"#000000\" fill-rule=\"evenodd\" fill-opacity=\"1\" /><path clip-path=\"url(#clip160)\" d=\"M1769.29 49.7694 Q1760.26 49.7694 1756.77 51.8354 Q1753.29 53.9013 1753.29 58.8839 Q1753.29 62.8538 1755.88 65.2034 Q1758.52 67.5124 1763.01 67.5124 Q1769.21 67.5124 1772.94 63.1374 Q1776.7 58.7219 1776.7 51.4303 L1776.7 49.7694 L1769.29 49.7694 M1784.16 46.6907 L1784.16 72.576 L1776.7 72.576 L1776.7 65.6895 Q1774.15 69.8214 1770.34 71.8063 Q1766.54 73.7508 1761.03 73.7508 Q1754.06 73.7508 1749.93 69.8619 Q1745.84 65.9325 1745.84 59.3701 Q1745.84 51.7138 1750.94 47.825 Q1756.08 43.9361 1766.25 43.9361 L1776.7 43.9361 L1776.7 43.2069 Q1776.7 38.0623 1773.3 35.2672 Q1769.94 32.4315 1763.82 32.4315 Q1759.93 32.4315 1756.25 33.3632 Q1752.56 34.295 1749.16 36.1584 L1749.16 29.2718 Q1753.25 27.692 1757.1 26.9223 Q1760.95 26.1121 1764.59 26.1121 Q1774.44 26.1121 1779.3 31.2163 Q1784.16 36.3204 1784.16 46.6907 Z\" fill=\"#000000\" fill-rule=\"evenodd\" fill-opacity=\"1\" /><path clip-path=\"url(#clip160)\" d=\"M1806.88 14.324 L1806.88 27.2059 L1822.24 27.2059 L1822.24 32.9987 L1806.88 32.9987 L1806.88 57.6282 Q1806.88 63.1779 1808.38 64.7578 Q1809.92 66.3376 1814.58 66.3376 L1822.24 66.3376 L1822.24 72.576 L1814.58 72.576 Q1805.95 72.576 1802.67 69.3758 Q1799.39 66.1351 1799.39 57.6282 L1799.39 32.9987 L1793.92 32.9987 L1793.92 27.2059 L1799.39 27.2059 L1799.39 14.324 L1806.88 14.324 Z\" fill=\"#000000\" fill-rule=\"evenodd\" fill-opacity=\"1\" /><path clip-path=\"url(#clip160)\" d=\"M1832.04 27.2059 L1839.49 27.2059 L1839.49 72.576 L1832.04 72.576 L1832.04 27.2059 M1832.04 9.54393 L1839.49 9.54393 L1839.49 18.9825 L1832.04 18.9825 L1832.04 9.54393 Z\" fill=\"#000000\" fill-rule=\"evenodd\" fill-opacity=\"1\" /><path clip-path=\"url(#clip160)\" d=\"M1872.67 32.4315 Q1866.67 32.4315 1863.19 37.1306 Q1859.71 41.7891 1859.71 49.9314 Q1859.71 58.0738 1863.15 62.7728 Q1866.63 67.4314 1872.67 67.4314 Q1878.62 67.4314 1882.11 62.7323 Q1885.59 58.0333 1885.59 49.9314 Q1885.59 41.8701 1882.11 37.1711 Q1878.62 32.4315 1872.67 32.4315 M1872.67 26.1121 Q1882.39 26.1121 1887.94 32.4315 Q1893.49 38.7509 1893.49 49.9314 Q1893.49 61.0714 1887.94 67.4314 Q1882.39 73.7508 1872.67 73.7508 Q1862.91 73.7508 1857.36 67.4314 Q1851.85 61.0714 1851.85 49.9314 Q1851.85 38.7509 1857.36 32.4315 Q1862.91 26.1121 1872.67 26.1121 Z\" fill=\"#000000\" fill-rule=\"evenodd\" fill-opacity=\"1\" /><path clip-path=\"url(#clip160)\" d=\"M1943.56 45.1919 L1943.56 72.576 L1936.11 72.576 L1936.11 45.4349 Q1936.11 38.994 1933.6 35.7938 Q1931.08 32.5936 1926.06 32.5936 Q1920.02 32.5936 1916.54 36.4419 Q1913.06 40.2903 1913.06 46.9338 L1913.06 72.576 L1905.56 72.576 L1905.56 27.2059 L1913.06 27.2059 L1913.06 34.2544 Q1915.73 30.163 1919.34 28.1376 Q1922.98 26.1121 1927.72 26.1121 Q1935.54 26.1121 1939.55 30.9732 Q1943.56 35.7938 1943.56 45.1919 Z\" fill=\"#000000\" fill-rule=\"evenodd\" fill-opacity=\"1\" /><path clip-path=\"url(#clip160)\" d=\"M1992.17 14.324 L1992.17 27.2059 L2007.52 27.2059 L2007.52 32.9987 L1992.17 32.9987 L1992.17 57.6282 Q1992.17 63.1779 1993.67 64.7578 Q1995.21 66.3376 1999.87 66.3376 L2007.52 66.3376 L2007.52 72.576 L1999.87 72.576 Q1991.24 72.576 1987.96 69.3758 Q1984.68 66.1351 1984.68 57.6282 L1984.68 32.9987 L1979.21 32.9987 L1979.21 27.2059 L1984.68 27.2059 L1984.68 14.324 L1992.17 14.324 Z\" fill=\"#000000\" fill-rule=\"evenodd\" fill-opacity=\"1\" /><path clip-path=\"url(#clip160)\" d=\"M2034.91 32.4315 Q2028.91 32.4315 2025.43 37.1306 Q2021.95 41.7891 2021.95 49.9314 Q2021.95 58.0738 2025.39 62.7728 Q2028.87 67.4314 2034.91 67.4314 Q2040.86 67.4314 2044.35 62.7323 Q2047.83 58.0333 2047.83 49.9314 Q2047.83 41.8701 2044.35 37.1711 Q2040.86 32.4315 2034.91 32.4315 M2034.91 26.1121 Q2044.63 26.1121 2050.18 32.4315 Q2055.73 38.7509 2055.73 49.9314 Q2055.73 61.0714 2050.18 67.4314 Q2044.63 73.7508 2034.91 73.7508 Q2025.15 73.7508 2019.6 67.4314 Q2014.09 61.0714 2014.09 49.9314 Q2014.09 38.7509 2019.6 32.4315 Q2025.15 26.1121 2034.91 26.1121 Z\" fill=\"#000000\" fill-rule=\"evenodd\" fill-opacity=\"1\" /><path clip-path=\"url(#clip160)\" d=\"M2101.83 14.324 L2101.83 27.2059 L2117.18 27.2059 L2117.18 32.9987 L2101.83 32.9987 L2101.83 57.6282 Q2101.83 63.1779 2103.33 64.7578 Q2104.87 66.3376 2109.53 66.3376 L2117.18 66.3376 L2117.18 72.576 L2109.53 72.576 Q2100.9 72.576 2097.62 69.3758 Q2094.34 66.1351 2094.34 57.6282 L2094.34 32.9987 L2088.87 32.9987 L2088.87 27.2059 L2094.34 27.2059 L2094.34 14.324 L2101.83 14.324 Z\" fill=\"#000000\" fill-rule=\"evenodd\" fill-opacity=\"1\" /><path clip-path=\"url(#clip160)\" d=\"M2164.7 45.1919 L2164.7 72.576 L2157.25 72.576 L2157.25 45.4349 Q2157.25 38.994 2154.73 35.7938 Q2152.22 32.5936 2147.2 32.5936 Q2141.16 32.5936 2137.68 36.4419 Q2134.2 40.2903 2134.2 46.9338 L2134.2 72.576 L2126.7 72.576 L2126.7 9.54393 L2134.2 9.54393 L2134.2 34.2544 Q2136.87 30.163 2140.47 28.1376 Q2144.12 26.1121 2148.86 26.1121 Q2156.68 26.1121 2160.69 30.9732 Q2164.7 35.7938 2164.7 45.1919 Z\" fill=\"#000000\" fill-rule=\"evenodd\" fill-opacity=\"1\" /><path clip-path=\"url(#clip160)\" d=\"M2218.37 48.0275 L2218.37 51.6733 L2184.1 51.6733 Q2184.59 59.3701 2188.72 63.421 Q2192.89 67.4314 2200.31 67.4314 Q2204.6 67.4314 2208.61 66.3781 Q2212.66 65.3249 2216.63 63.2184 L2216.63 70.267 Q2212.62 71.9684 2208.41 72.8596 Q2204.2 73.7508 2199.86 73.7508 Q2189 73.7508 2182.64 67.4314 Q2176.33 61.1119 2176.33 50.3365 Q2176.33 39.1965 2182.32 32.6746 Q2188.36 26.1121 2198.56 26.1121 Q2207.72 26.1121 2213.03 32.0264 Q2218.37 37.9003 2218.37 48.0275 M2210.92 45.84 Q2210.84 39.7232 2207.48 36.0774 Q2204.16 32.4315 2198.65 32.4315 Q2192.41 32.4315 2188.64 35.9558 Q2184.91 39.4801 2184.35 45.8805 L2210.92 45.84 Z\" fill=\"#000000\" fill-rule=\"evenodd\" fill-opacity=\"1\" /><path clip-path=\"url(#clip160)\" d=\"M2289.63 28.9478 L2289.63 35.9153 Q2286.47 34.1734 2283.27 33.3227 Q2280.11 32.4315 2276.87 32.4315 Q2269.62 32.4315 2265.61 37.0496 Q2261.6 41.6271 2261.6 49.9314 Q2261.6 58.2358 2265.61 62.8538 Q2269.62 67.4314 2276.87 67.4314 Q2280.11 67.4314 2283.27 66.5807 Q2286.47 65.6895 2289.63 63.9476 L2289.63 70.8341 Q2286.51 72.2924 2283.15 73.0216 Q2279.83 73.7508 2276.06 73.7508 Q2265.81 73.7508 2259.77 67.3098 Q2253.74 60.8689 2253.74 49.9314 Q2253.74 38.832 2259.81 32.472 Q2265.93 26.1121 2276.54 26.1121 Q2279.99 26.1121 2283.27 26.8413 Q2286.55 27.5299 2289.63 28.9478 Z\" fill=\"#000000\" fill-rule=\"evenodd\" fill-opacity=\"1\" /><path clip-path=\"url(#clip160)\" d=\"M2340.31 45.1919 L2340.31 72.576 L2332.85 72.576 L2332.85 45.4349 Q2332.85 38.994 2330.34 35.7938 Q2327.83 32.5936 2322.81 32.5936 Q2316.77 32.5936 2313.29 36.4419 Q2309.8 40.2903 2309.8 46.9338 L2309.8 72.576 L2302.31 72.576 L2302.31 9.54393 L2309.8 9.54393 L2309.8 34.2544 Q2312.48 30.163 2316.08 28.1376 Q2319.73 26.1121 2324.47 26.1121 Q2332.29 26.1121 2336.3 30.9732 Q2340.31 35.7938 2340.31 45.1919 Z\" fill=\"#000000\" fill-rule=\"evenodd\" fill-opacity=\"1\" /><path clip-path=\"url(#clip160)\" d=\"M2375.79 49.7694 Q2366.76 49.7694 2363.27 51.8354 Q2359.79 53.9013 2359.79 58.8839 Q2359.79 62.8538 2362.38 65.2034 Q2365.02 67.5124 2369.51 67.5124 Q2375.71 67.5124 2379.44 63.1374 Q2383.21 58.7219 2383.21 51.4303 L2383.21 49.7694 L2375.79 49.7694 M2390.66 46.6907 L2390.66 72.576 L2383.21 72.576 L2383.21 65.6895 Q2380.65 69.8214 2376.85 71.8063 Q2373.04 73.7508 2367.53 73.7508 Q2360.56 73.7508 2356.43 69.8619 Q2352.34 65.9325 2352.34 59.3701 Q2352.34 51.7138 2357.44 47.825 Q2362.59 43.9361 2372.75 43.9361 L2383.21 43.9361 L2383.21 43.2069 Q2383.21 38.0623 2379.8 35.2672 Q2376.44 32.4315 2370.32 32.4315 Q2366.43 32.4315 2362.75 33.3632 Q2359.06 34.295 2355.66 36.1584 L2355.66 29.2718 Q2359.75 27.692 2363.6 26.9223 Q2367.45 26.1121 2371.09 26.1121 Q2380.94 26.1121 2385.8 31.2163 Q2390.66 36.3204 2390.66 46.6907 Z\" fill=\"#000000\" fill-rule=\"evenodd\" fill-opacity=\"1\" /><path clip-path=\"url(#clip160)\" d=\"M2443.73 45.1919 L2443.73 72.576 L2436.27 72.576 L2436.27 45.4349 Q2436.27 38.994 2433.76 35.7938 Q2431.25 32.5936 2426.23 32.5936 Q2420.19 32.5936 2416.71 36.4419 Q2413.22 40.2903 2413.22 46.9338 L2413.22 72.576 L2405.73 72.576 L2405.73 27.2059 L2413.22 27.2059 L2413.22 34.2544 Q2415.9 30.163 2419.5 28.1376 Q2423.15 26.1121 2427.89 26.1121 Q2435.7 26.1121 2439.72 30.9732 Q2443.73 35.7938 2443.73 45.1919 Z\" fill=\"#000000\" fill-rule=\"evenodd\" fill-opacity=\"1\" /><path clip-path=\"url(#clip160)\" d=\"M2488.45 49.3643 Q2488.45 41.2625 2485.09 36.8065 Q2481.76 32.3505 2475.73 32.3505 Q2469.73 32.3505 2466.37 36.8065 Q2463.05 41.2625 2463.05 49.3643 Q2463.05 57.4256 2466.37 61.8816 Q2469.73 66.3376 2475.73 66.3376 Q2481.76 66.3376 2485.09 61.8816 Q2488.45 57.4256 2488.45 49.3643 M2495.9 66.9452 Q2495.9 78.5308 2490.76 84.1616 Q2485.61 89.8329 2475 89.8329 Q2471.07 89.8329 2467.59 89.2252 Q2464.1 88.6581 2460.82 87.4428 L2460.82 80.1917 Q2464.1 81.9741 2467.3 82.8248 Q2470.5 83.6755 2473.82 83.6755 Q2481.16 83.6755 2484.8 79.8271 Q2488.45 76.0193 2488.45 68.282 L2488.45 64.5957 Q2486.14 68.6061 2482.53 70.5911 Q2478.93 72.576 2473.9 72.576 Q2465.56 72.576 2460.46 66.2161 Q2455.35 59.8562 2455.35 49.3643 Q2455.35 38.832 2460.46 32.472 Q2465.56 26.1121 2473.9 26.1121 Q2478.93 26.1121 2482.53 28.0971 Q2486.14 30.082 2488.45 34.0924 L2488.45 27.2059 L2495.9 27.2059 L2495.9 66.9452 Z\" fill=\"#000000\" fill-rule=\"evenodd\" fill-opacity=\"1\" /><path clip-path=\"url(#clip160)\" d=\"M2550.06 48.0275 L2550.06 51.6733 L2515.79 51.6733 Q2516.28 59.3701 2520.41 63.421 Q2524.58 67.4314 2531.99 67.4314 Q2536.29 67.4314 2540.3 66.3781 Q2544.35 65.3249 2548.32 63.2184 L2548.32 70.267 Q2544.31 71.9684 2540.1 72.8596 Q2535.88 73.7508 2531.55 73.7508 Q2520.69 73.7508 2514.33 67.4314 Q2508.01 61.1119 2508.01 50.3365 Q2508.01 39.1965 2514.01 32.6746 Q2520.04 26.1121 2530.25 26.1121 Q2539.41 26.1121 2544.71 32.0264 Q2550.06 37.9003 2550.06 48.0275 M2542.61 45.84 Q2542.53 39.7232 2539.16 36.0774 Q2535.84 32.4315 2530.33 32.4315 Q2524.1 32.4315 2520.33 35.9558 Q2516.6 39.4801 2516.03 45.8805 L2542.61 45.84 Z\" fill=\"#000000\" fill-rule=\"evenodd\" fill-opacity=\"1\" /><path clip-path=\"url(#clip160)\" d=\"M2588.67 27.2059 L2596.12 27.2059 L2596.12 72.576 L2588.67 72.576 L2588.67 27.2059 M2588.67 9.54393 L2596.12 9.54393 L2596.12 18.9825 L2588.67 18.9825 L2588.67 9.54393 Z\" fill=\"#000000\" fill-rule=\"evenodd\" fill-opacity=\"1\" /><path clip-path=\"url(#clip160)\" d=\"M2649.43 45.1919 L2649.43 72.576 L2641.98 72.576 L2641.98 45.4349 Q2641.98 38.994 2639.47 35.7938 Q2636.95 32.5936 2631.93 32.5936 Q2625.89 32.5936 2622.41 36.4419 Q2618.93 40.2903 2618.93 46.9338 L2618.93 72.576 L2611.43 72.576 L2611.43 27.2059 L2618.93 27.2059 L2618.93 34.2544 Q2621.6 30.163 2625.21 28.1376 Q2628.85 26.1121 2633.59 26.1121 Q2641.41 26.1121 2645.42 30.9732 Q2649.43 35.7938 2649.43 45.1919 Z\" fill=\"#000000\" fill-rule=\"evenodd\" fill-opacity=\"1\" /><path clip-path=\"url(#clip160)\" d=\"M2719.59 28.5427 L2719.59 35.5912 Q2716.43 33.9709 2713.03 33.1607 Q2709.63 32.3505 2705.98 32.3505 Q2700.43 32.3505 2697.64 34.0519 Q2694.88 35.7533 2694.88 39.156 Q2694.88 41.7486 2696.87 43.2475 Q2698.85 44.7058 2704.85 46.0426 L2707.4 46.6097 Q2715.34 48.3111 2718.66 51.4303 Q2722.02 54.509 2722.02 60.0587 Q2722.02 66.3781 2717 70.0644 Q2712.02 73.7508 2703.27 73.7508 Q2699.62 73.7508 2695.65 73.0216 Q2691.72 72.3329 2687.35 70.9151 L2687.35 63.2184 Q2691.48 65.3654 2695.49 66.4591 Q2699.5 67.5124 2703.43 67.5124 Q2708.7 67.5124 2711.53 65.73 Q2714.37 63.9071 2714.37 60.6258 Q2714.37 57.5877 2712.3 55.9673 Q2710.28 54.3469 2703.35 52.8481 L2700.76 52.2405 Q2693.83 50.7821 2690.75 47.7845 Q2687.67 44.7463 2687.67 39.4801 Q2687.67 33.0797 2692.21 29.5959 Q2696.75 26.1121 2705.09 26.1121 Q2709.22 26.1121 2712.87 26.7198 Q2716.51 27.3274 2719.59 28.5427 Z\" fill=\"#000000\" fill-rule=\"evenodd\" fill-opacity=\"1\" /><path clip-path=\"url(#clip160)\" d=\"M2754.51 49.7694 Q2745.48 49.7694 2741.99 51.8354 Q2738.51 53.9013 2738.51 58.8839 Q2738.51 62.8538 2741.1 65.2034 Q2743.74 67.5124 2748.23 67.5124 Q2754.43 67.5124 2758.16 63.1374 Q2761.92 58.7219 2761.92 51.4303 L2761.92 49.7694 L2754.51 49.7694 M2769.38 46.6907 L2769.38 72.576 L2761.92 72.576 L2761.92 65.6895 Q2759.37 69.8214 2755.56 71.8063 Q2751.76 73.7508 2746.25 73.7508 Q2739.28 73.7508 2735.15 69.8619 Q2731.06 65.9325 2731.06 59.3701 Q2731.06 51.7138 2736.16 47.825 Q2741.3 43.9361 2751.47 43.9361 L2761.92 43.9361 L2761.92 43.2069 Q2761.92 38.0623 2758.52 35.2672 Q2755.16 32.4315 2749.04 32.4315 Q2745.15 32.4315 2741.47 33.3632 Q2737.78 34.295 2734.38 36.1584 L2734.38 29.2718 Q2738.47 27.692 2742.32 26.9223 Q2746.17 26.1121 2749.81 26.1121 Q2759.66 26.1121 2764.52 31.2163 Q2769.38 36.3204 2769.38 46.6907 Z\" fill=\"#000000\" fill-rule=\"evenodd\" fill-opacity=\"1\" /><path clip-path=\"url(#clip160)\" d=\"M2784.73 9.54393 L2792.18 9.54393 L2792.18 72.576 L2784.73 72.576 L2784.73 9.54393 Z\" fill=\"#000000\" fill-rule=\"evenodd\" fill-opacity=\"1\" /><path clip-path=\"url(#clip160)\" d=\"M2846.59 48.0275 L2846.59 51.6733 L2812.32 51.6733 Q2812.8 59.3701 2816.94 63.421 Q2821.11 67.4314 2828.52 67.4314 Q2832.81 67.4314 2836.83 66.3781 Q2840.88 65.3249 2844.85 63.2184 L2844.85 70.267 Q2840.84 71.9684 2836.62 72.8596 Q2832.41 73.7508 2828.08 73.7508 Q2817.22 73.7508 2810.86 67.4314 Q2804.54 61.1119 2804.54 50.3365 Q2804.54 39.1965 2810.53 32.6746 Q2816.57 26.1121 2826.78 26.1121 Q2835.93 26.1121 2841.24 32.0264 Q2846.59 37.9003 2846.59 48.0275 M2839.13 45.84 Q2839.05 39.7232 2835.69 36.0774 Q2832.37 32.4315 2826.86 32.4315 Q2820.62 32.4315 2816.85 35.9558 Q2813.13 39.4801 2812.56 45.8805 L2839.13 45.84 Z\" fill=\"#000000\" fill-rule=\"evenodd\" fill-opacity=\"1\" /><path clip-path=\"url(#clip160)\" d=\"M2887.75 28.5427 L2887.75 35.5912 Q2884.59 33.9709 2881.18 33.1607 Q2877.78 32.3505 2874.13 32.3505 Q2868.58 32.3505 2865.79 34.0519 Q2863.03 35.7533 2863.03 39.156 Q2863.03 41.7486 2865.02 43.2475 Q2867 44.7058 2873 46.0426 L2875.55 46.6097 Q2883.49 48.3111 2886.81 51.4303 Q2890.18 54.509 2890.18 60.0587 Q2890.18 66.3781 2885.15 70.0644 Q2880.17 73.7508 2871.42 73.7508 Q2867.77 73.7508 2863.8 73.0216 Q2859.87 72.3329 2855.5 70.9151 L2855.5 63.2184 Q2859.63 65.3654 2863.64 66.4591 Q2867.65 67.5124 2871.58 67.5124 Q2876.85 67.5124 2879.68 65.73 Q2882.52 63.9071 2882.52 60.6258 Q2882.52 57.5877 2880.45 55.9673 Q2878.43 54.3469 2871.5 52.8481 L2868.91 52.2405 Q2861.98 50.7821 2858.9 47.7845 Q2855.82 44.7463 2855.82 39.4801 Q2855.82 33.0797 2860.36 29.5959 Q2864.9 26.1121 2873.24 26.1121 Q2877.37 26.1121 2881.02 26.7198 Q2884.67 27.3274 2887.75 28.5427 Z\" fill=\"#000000\" fill-rule=\"evenodd\" fill-opacity=\"1\" /><path clip-path=\"url(#clip160)\" d=\"M2935.63 65.7705 L2935.63 89.8329 L2928.13 89.8329 L2928.13 27.2059 L2935.63 27.2059 L2935.63 34.0924 Q2937.98 30.0415 2941.54 28.0971 Q2945.15 26.1121 2950.13 26.1121 Q2958.39 26.1121 2963.54 32.6746 Q2968.72 39.2371 2968.72 49.9314 Q2968.72 60.6258 2963.54 67.1883 Q2958.39 73.7508 2950.13 73.7508 Q2945.15 73.7508 2941.54 71.8063 Q2937.98 69.8214 2935.63 65.7705 M2960.99 49.9314 Q2960.99 41.7081 2957.58 37.0496 Q2954.22 32.3505 2948.31 32.3505 Q2942.39 32.3505 2938.99 37.0496 Q2935.63 41.7081 2935.63 49.9314 Q2935.63 58.1548 2938.99 62.8538 Q2942.39 67.5124 2948.31 67.5124 Q2954.22 67.5124 2957.58 62.8538 Q2960.99 58.1548 2960.99 49.9314 Z\" fill=\"#000000\" fill-rule=\"evenodd\" fill-opacity=\"1\" /><path clip-path=\"url(#clip160)\" d=\"M3007.37 34.1734 Q3006.11 33.4443 3004.61 33.1202 Q3003.16 32.7556 3001.37 32.7556 Q2995.05 32.7556 2991.65 36.8875 Q2988.29 40.9789 2988.29 48.6757 L2988.29 72.576 L2980.79 72.576 L2980.79 27.2059 L2988.29 27.2059 L2988.29 34.2544 Q2990.64 30.1225 2994.41 28.1376 Q2998.17 26.1121 3003.56 26.1121 Q3004.33 26.1121 3005.26 26.2337 Q3006.19 26.3147 3007.33 26.5172 L3007.37 34.1734 Z\" fill=\"#000000\" fill-rule=\"evenodd\" fill-opacity=\"1\" /><path clip-path=\"url(#clip160)\" d=\"M3030.94 32.4315 Q3024.95 32.4315 3021.47 37.1306 Q3017.98 41.7891 3017.98 49.9314 Q3017.98 58.0738 3021.43 62.7728 Q3024.91 67.4314 3030.94 67.4314 Q3036.9 67.4314 3040.38 62.7323 Q3043.87 58.0333 3043.87 49.9314 Q3043.87 41.8701 3040.38 37.1711 Q3036.9 32.4315 3030.94 32.4315 M3030.94 26.1121 Q3040.67 26.1121 3046.22 32.4315 Q3051.77 38.7509 3051.77 49.9314 Q3051.77 61.0714 3046.22 67.4314 Q3040.67 73.7508 3030.94 73.7508 Q3021.18 73.7508 3015.63 67.4314 Q3010.12 61.0714 3010.12 49.9314 Q3010.12 38.7509 3015.63 32.4315 Q3021.18 26.1121 3030.94 26.1121 Z\" fill=\"#000000\" fill-rule=\"evenodd\" fill-opacity=\"1\" /><path clip-path=\"url(#clip160)\" d=\"M3087.09 9.54393 L3087.09 15.7418 L3079.96 15.7418 Q3075.95 15.7418 3074.37 17.3622 Q3072.83 18.9825 3072.83 23.1955 L3072.83 27.2059 L3085.11 27.2059 L3085.11 32.9987 L3072.83 32.9987 L3072.83 72.576 L3065.34 72.576 L3065.34 32.9987 L3058.21 32.9987 L3058.21 27.2059 L3065.34 27.2059 L3065.34 24.0462 Q3065.34 16.471 3068.86 13.0277 Q3072.39 9.54393 3080.04 9.54393 L3087.09 9.54393 Z\" fill=\"#000000\" fill-rule=\"evenodd\" fill-opacity=\"1\" /><path clip-path=\"url(#clip160)\" d=\"M3093.33 27.2059 L3100.78 27.2059 L3100.78 72.576 L3093.33 72.576 L3093.33 27.2059 M3093.33 9.54393 L3100.78 9.54393 L3100.78 18.9825 L3093.33 18.9825 L3093.33 9.54393 Z\" fill=\"#000000\" fill-rule=\"evenodd\" fill-opacity=\"1\" /><path clip-path=\"url(#clip160)\" d=\"M3123.75 14.324 L3123.75 27.2059 L3139.1 27.2059 L3139.1 32.9987 L3123.75 32.9987 L3123.75 57.6282 Q3123.75 63.1779 3125.25 64.7578 Q3126.79 66.3376 3131.45 66.3376 L3139.1 66.3376 L3139.1 72.576 L3131.45 72.576 Q3122.82 72.576 3119.54 69.3758 Q3116.26 66.1351 3116.26 57.6282 L3116.26 32.9987 L3110.79 32.9987 L3110.79 27.2059 L3116.26 27.2059 L3116.26 14.324 L3123.75 14.324 Z\" fill=\"#000000\" fill-rule=\"evenodd\" fill-opacity=\"1\" /><polyline clip-path=\"url(#clip162)\" style=\"stroke:#009af9; stroke-linecap:round; stroke-linejoin:round; stroke-width:4; stroke-opacity:1; fill:none\" points=\"357.895,600.99 538.792,717.292 719.689,789.348 1262.38,1144.94 2166.87,1615.62 3071.35,2146.22 \"/>\n",
       "<polyline clip-path=\"url(#clip162)\" style=\"stroke:#e26f46; stroke-linecap:round; stroke-linejoin:round; stroke-width:4; stroke-opacity:1; fill:none\" points=\"357.895,189.727 538.792,252.127 719.689,390.233 1262.38,655.707 2166.87,1206.64 3071.35,1673.08 \"/>\n",
       "<path clip-path=\"url(#clip160)\" d=\"M2151.85 355.682 L3056.88 355.682 L3056.88 200.162 L2151.85 200.162  Z\" fill=\"#ffffff\" fill-rule=\"evenodd\" fill-opacity=\"1\"/>\n",
       "<polyline clip-path=\"url(#clip160)\" style=\"stroke:#000000; stroke-linecap:round; stroke-linejoin:round; stroke-width:4; stroke-opacity:1; fill:none\" points=\"2151.85,355.682 3056.88,355.682 3056.88,200.162 2151.85,200.162 2151.85,355.682 \"/>\n",
       "<polyline clip-path=\"url(#clip160)\" style=\"stroke:#009af9; stroke-linecap:round; stroke-linejoin:round; stroke-width:4; stroke-opacity:1; fill:none\" points=\"2183.81,252.002 2375.56,252.002 \"/>\n",
       "<path clip-path=\"url(#clip160)\" d=\"M2412.19 238.564 L2412.19 251.55 L2418.07 251.55 Q2421.34 251.55 2423.12 249.861 Q2424.9 248.171 2424.9 245.046 Q2424.9 241.944 2423.12 240.254 Q2421.34 238.564 2418.07 238.564 L2412.19 238.564 M2407.52 234.722 L2418.07 234.722 Q2423.88 234.722 2426.85 237.361 Q2429.83 239.976 2429.83 245.046 Q2429.83 250.161 2426.85 252.777 Q2423.88 255.393 2418.07 255.393 L2412.19 255.393 L2412.19 269.282 L2407.52 269.282 L2407.52 234.722 Z\" fill=\"#000000\" fill-rule=\"evenodd\" fill-opacity=\"1\" /><path clip-path=\"url(#clip160)\" d=\"M2450.11 247.337 Q2449.39 246.921 2448.54 246.736 Q2447.7 246.527 2446.68 246.527 Q2443.07 246.527 2441.13 248.888 Q2439.21 251.226 2439.21 255.624 L2439.21 269.282 L2434.93 269.282 L2434.93 243.356 L2439.21 243.356 L2439.21 247.384 Q2440.55 245.023 2442.7 243.888 Q2444.86 242.731 2447.93 242.731 Q2448.37 242.731 2448.91 242.8 Q2449.44 242.847 2450.09 242.962 L2450.11 247.337 Z\" fill=\"#000000\" fill-rule=\"evenodd\" fill-opacity=\"1\" /><path clip-path=\"url(#clip160)\" d=\"M2463.58 246.342 Q2460.16 246.342 2458.17 249.027 Q2456.17 251.689 2456.17 256.342 Q2456.17 260.995 2458.14 263.68 Q2460.13 266.342 2463.58 266.342 Q2466.99 266.342 2468.98 263.657 Q2470.97 260.972 2470.97 256.342 Q2470.97 251.736 2468.98 249.05 Q2466.99 246.342 2463.58 246.342 M2463.58 242.731 Q2469.14 242.731 2472.31 246.342 Q2475.48 249.953 2475.48 256.342 Q2475.48 262.708 2472.31 266.342 Q2469.14 269.953 2463.58 269.953 Q2458 269.953 2454.83 266.342 Q2451.68 262.708 2451.68 256.342 Q2451.68 249.953 2454.83 246.342 Q2458 242.731 2463.58 242.731 Z\" fill=\"#000000\" fill-rule=\"evenodd\" fill-opacity=\"1\" /><path clip-path=\"url(#clip160)\" d=\"M2495.67 233.263 L2495.67 236.805 L2491.59 236.805 Q2489.3 236.805 2488.4 237.731 Q2487.52 238.657 2487.52 241.064 L2487.52 243.356 L2494.53 243.356 L2494.53 246.666 L2487.52 246.666 L2487.52 269.282 L2483.24 269.282 L2483.24 246.666 L2479.16 246.666 L2479.16 243.356 L2483.24 243.356 L2483.24 241.55 Q2483.24 237.222 2485.25 235.254 Q2487.26 233.263 2491.64 233.263 L2495.67 233.263 Z\" fill=\"#000000\" fill-rule=\"evenodd\" fill-opacity=\"1\" /><path clip-path=\"url(#clip160)\" d=\"M2499.23 243.356 L2503.49 243.356 L2503.49 269.282 L2499.23 269.282 L2499.23 243.356 M2499.23 233.263 L2503.49 233.263 L2503.49 238.657 L2499.23 238.657 L2499.23 233.263 Z\" fill=\"#000000\" fill-rule=\"evenodd\" fill-opacity=\"1\" /><path clip-path=\"url(#clip160)\" d=\"M2516.61 235.995 L2516.61 243.356 L2525.39 243.356 L2525.39 246.666 L2516.61 246.666 L2516.61 260.74 Q2516.61 263.911 2517.47 264.814 Q2518.35 265.717 2521.01 265.717 L2525.39 265.717 L2525.39 269.282 L2521.01 269.282 Q2516.08 269.282 2514.21 267.453 Q2512.33 265.601 2512.33 260.74 L2512.33 246.666 L2509.21 246.666 L2509.21 243.356 L2512.33 243.356 L2512.33 235.995 L2516.61 235.995 Z\" fill=\"#000000\" fill-rule=\"evenodd\" fill-opacity=\"1\" /><path clip-path=\"url(#clip160)\" d=\"M2557.84 256.249 Q2552.68 256.249 2550.69 257.43 Q2548.7 258.61 2548.7 261.458 Q2548.7 263.726 2550.18 265.069 Q2551.68 266.388 2554.25 266.388 Q2557.79 266.388 2559.92 263.888 Q2562.08 261.365 2562.08 257.198 L2562.08 256.249 L2557.84 256.249 M2566.34 254.49 L2566.34 269.282 L2562.08 269.282 L2562.08 265.347 Q2560.62 267.708 2558.44 268.842 Q2556.27 269.953 2553.12 269.953 Q2549.14 269.953 2546.78 267.731 Q2544.44 265.485 2544.44 261.735 Q2544.44 257.36 2547.36 255.138 Q2550.29 252.916 2556.1 252.916 L2562.08 252.916 L2562.08 252.499 Q2562.08 249.56 2560.13 247.962 Q2558.21 246.342 2554.72 246.342 Q2552.49 246.342 2550.39 246.874 Q2548.28 247.407 2546.34 248.472 L2546.34 244.536 Q2548.67 243.634 2550.87 243.194 Q2553.07 242.731 2555.16 242.731 Q2560.78 242.731 2563.56 245.648 Q2566.34 248.564 2566.34 254.49 Z\" fill=\"#000000\" fill-rule=\"evenodd\" fill-opacity=\"1\" /><path clip-path=\"url(#clip160)\" d=\"M2579.32 235.995 L2579.32 243.356 L2588.1 243.356 L2588.1 246.666 L2579.32 246.666 L2579.32 260.74 Q2579.32 263.911 2580.18 264.814 Q2581.06 265.717 2583.72 265.717 L2588.1 265.717 L2588.1 269.282 L2583.72 269.282 Q2578.79 269.282 2576.92 267.453 Q2575.04 265.601 2575.04 260.74 L2575.04 246.666 L2571.92 246.666 L2571.92 243.356 L2575.04 243.356 L2575.04 235.995 L2579.32 235.995 Z\" fill=\"#000000\" fill-rule=\"evenodd\" fill-opacity=\"1\" /><path clip-path=\"url(#clip160)\" d=\"M2618.81 246.342 Q2615.39 246.342 2613.4 249.027 Q2611.41 251.689 2611.41 256.342 Q2611.41 260.995 2613.37 263.68 Q2615.36 266.342 2618.81 266.342 Q2622.22 266.342 2624.21 263.657 Q2626.2 260.972 2626.2 256.342 Q2626.2 251.736 2624.21 249.05 Q2622.22 246.342 2618.81 246.342 M2618.81 242.731 Q2624.37 242.731 2627.54 246.342 Q2630.71 249.953 2630.71 256.342 Q2630.71 262.708 2627.54 266.342 Q2624.37 269.953 2618.81 269.953 Q2613.23 269.953 2610.06 266.342 Q2606.91 262.708 2606.91 256.342 Q2606.91 249.953 2610.06 246.342 Q2613.23 242.731 2618.81 242.731 Z\" fill=\"#000000\" fill-rule=\"evenodd\" fill-opacity=\"1\" /><path clip-path=\"url(#clip160)\" d=\"M2652.79 247.337 Q2652.08 246.921 2651.22 246.736 Q2650.39 246.527 2649.37 246.527 Q2645.76 246.527 2643.81 248.888 Q2641.89 251.226 2641.89 255.624 L2641.89 269.282 L2637.61 269.282 L2637.61 243.356 L2641.89 243.356 L2641.89 247.384 Q2643.23 245.023 2645.39 243.888 Q2647.54 242.731 2650.62 242.731 Q2651.06 242.731 2651.59 242.8 Q2652.12 242.847 2652.77 242.962 L2652.79 247.337 Z\" fill=\"#000000\" fill-rule=\"evenodd\" fill-opacity=\"1\" /><path clip-path=\"url(#clip160)\" d=\"M2657.26 243.356 L2661.52 243.356 L2661.52 269.282 L2657.26 269.282 L2657.26 243.356 M2657.26 233.263 L2661.52 233.263 L2661.52 238.657 L2657.26 238.657 L2657.26 233.263 Z\" fill=\"#000000\" fill-rule=\"evenodd\" fill-opacity=\"1\" /><path clip-path=\"url(#clip160)\" d=\"M2687.49 256.018 Q2687.49 251.388 2685.57 248.842 Q2683.67 246.296 2680.22 246.296 Q2676.8 246.296 2674.88 248.842 Q2672.98 251.388 2672.98 256.018 Q2672.98 260.624 2674.88 263.171 Q2676.8 265.717 2680.22 265.717 Q2683.67 265.717 2685.57 263.171 Q2687.49 260.624 2687.49 256.018 M2691.75 266.064 Q2691.75 272.684 2688.81 275.902 Q2685.87 279.143 2679.81 279.143 Q2677.56 279.143 2675.57 278.796 Q2673.58 278.471 2671.71 277.777 L2671.71 273.634 Q2673.58 274.652 2675.41 275.138 Q2677.24 275.624 2679.14 275.624 Q2683.33 275.624 2685.41 273.425 Q2687.49 271.249 2687.49 266.828 L2687.49 264.722 Q2686.17 267.013 2684.11 268.147 Q2682.05 269.282 2679.18 269.282 Q2674.41 269.282 2671.5 265.647 Q2668.58 262.013 2668.58 256.018 Q2668.58 249.999 2671.5 246.365 Q2674.41 242.731 2679.18 242.731 Q2682.05 242.731 2684.11 243.865 Q2686.17 244.999 2687.49 247.291 L2687.49 243.356 L2691.75 243.356 L2691.75 266.064 Z\" fill=\"#000000\" fill-rule=\"evenodd\" fill-opacity=\"1\" /><path clip-path=\"url(#clip160)\" d=\"M2700.53 243.356 L2704.78 243.356 L2704.78 269.282 L2700.53 269.282 L2700.53 243.356 M2700.53 233.263 L2704.78 233.263 L2704.78 238.657 L2700.53 238.657 L2700.53 233.263 Z\" fill=\"#000000\" fill-rule=\"evenodd\" fill-opacity=\"1\" /><path clip-path=\"url(#clip160)\" d=\"M2735.25 253.634 L2735.25 269.282 L2730.99 269.282 L2730.99 253.773 Q2730.99 250.092 2729.55 248.263 Q2728.12 246.435 2725.25 246.435 Q2721.8 246.435 2719.81 248.634 Q2717.82 250.833 2717.82 254.629 L2717.82 269.282 L2713.53 269.282 L2713.53 243.356 L2717.82 243.356 L2717.82 247.384 Q2719.34 245.046 2721.41 243.888 Q2723.49 242.731 2726.2 242.731 Q2730.66 242.731 2732.96 245.509 Q2735.25 248.263 2735.25 253.634 Z\" fill=\"#000000\" fill-rule=\"evenodd\" fill-opacity=\"1\" /><path clip-path=\"url(#clip160)\" d=\"M2755.53 256.249 Q2750.36 256.249 2748.37 257.43 Q2746.38 258.61 2746.38 261.458 Q2746.38 263.726 2747.86 265.069 Q2749.37 266.388 2751.94 266.388 Q2755.48 266.388 2757.61 263.888 Q2759.76 261.365 2759.76 257.198 L2759.76 256.249 L2755.53 256.249 M2764.02 254.49 L2764.02 269.282 L2759.76 269.282 L2759.76 265.347 Q2758.3 267.708 2756.13 268.842 Q2753.95 269.953 2750.8 269.953 Q2746.82 269.953 2744.46 267.731 Q2742.12 265.485 2742.12 261.735 Q2742.12 257.36 2745.04 255.138 Q2747.98 252.916 2753.79 252.916 L2759.76 252.916 L2759.76 252.499 Q2759.76 249.56 2757.82 247.962 Q2755.9 246.342 2752.4 246.342 Q2750.18 246.342 2748.07 246.874 Q2745.97 247.407 2744.02 248.472 L2744.02 244.536 Q2746.36 243.634 2748.56 243.194 Q2750.76 242.731 2752.84 242.731 Q2758.47 242.731 2761.24 245.648 Q2764.02 248.564 2764.02 254.49 Z\" fill=\"#000000\" fill-rule=\"evenodd\" fill-opacity=\"1\" /><path clip-path=\"url(#clip160)\" d=\"M2772.79 233.263 L2777.05 233.263 L2777.05 269.282 L2772.79 269.282 L2772.79 233.263 Z\" fill=\"#000000\" fill-rule=\"evenodd\" fill-opacity=\"1\" /><path clip-path=\"url(#clip160)\" d=\"M2805.15 265.393 L2805.15 279.143 L2800.87 279.143 L2800.87 243.356 L2805.15 243.356 L2805.15 247.291 Q2806.5 244.976 2808.53 243.865 Q2810.59 242.731 2813.44 242.731 Q2818.16 242.731 2821.1 246.481 Q2824.07 250.231 2824.07 256.342 Q2824.07 262.453 2821.1 266.203 Q2818.16 269.953 2813.44 269.953 Q2810.59 269.953 2808.53 268.842 Q2806.5 267.708 2805.15 265.393 M2819.65 256.342 Q2819.65 251.643 2817.7 248.981 Q2815.78 246.296 2812.4 246.296 Q2809.02 246.296 2807.08 248.981 Q2805.15 251.643 2805.15 256.342 Q2805.15 261.041 2807.08 263.726 Q2809.02 266.388 2812.4 266.388 Q2815.78 266.388 2817.7 263.726 Q2819.65 261.041 2819.65 256.342 Z\" fill=\"#000000\" fill-rule=\"evenodd\" fill-opacity=\"1\" /><path clip-path=\"url(#clip160)\" d=\"M2846.15 247.337 Q2845.43 246.921 2844.58 246.736 Q2843.74 246.527 2842.72 246.527 Q2839.11 246.527 2837.17 248.888 Q2835.25 251.226 2835.25 255.624 L2835.25 269.282 L2830.96 269.282 L2830.96 243.356 L2835.25 243.356 L2835.25 247.384 Q2836.59 245.023 2838.74 243.888 Q2840.9 242.731 2843.97 242.731 Q2844.41 242.731 2844.95 242.8 Q2845.48 242.847 2846.13 242.962 L2846.15 247.337 Z\" fill=\"#000000\" fill-rule=\"evenodd\" fill-opacity=\"1\" /><path clip-path=\"url(#clip160)\" d=\"M2850.62 243.356 L2854.88 243.356 L2854.88 269.282 L2850.62 269.282 L2850.62 243.356 M2850.62 233.263 L2854.88 233.263 L2854.88 238.657 L2850.62 238.657 L2850.62 233.263 Z\" fill=\"#000000\" fill-rule=\"evenodd\" fill-opacity=\"1\" /><path clip-path=\"url(#clip160)\" d=\"M2882.45 244.351 L2882.45 248.333 Q2880.64 247.337 2878.81 246.851 Q2877.01 246.342 2875.15 246.342 Q2871.01 246.342 2868.72 248.981 Q2866.43 251.597 2866.43 256.342 Q2866.43 261.087 2868.72 263.726 Q2871.01 266.342 2875.15 266.342 Q2877.01 266.342 2878.81 265.856 Q2880.64 265.347 2882.45 264.351 L2882.45 268.286 Q2880.66 269.12 2878.74 269.536 Q2876.84 269.953 2874.69 269.953 Q2868.83 269.953 2865.39 266.272 Q2861.94 262.592 2861.94 256.342 Q2861.94 249.999 2865.41 246.365 Q2868.9 242.731 2874.97 242.731 Q2876.94 242.731 2878.81 243.148 Q2880.69 243.541 2882.45 244.351 Z\" fill=\"#000000\" fill-rule=\"evenodd\" fill-opacity=\"1\" /><path clip-path=\"url(#clip160)\" d=\"M2912.03 255.254 L2912.03 257.337 L2892.45 257.337 Q2892.72 261.735 2895.08 264.05 Q2897.47 266.342 2901.7 266.342 Q2904.16 266.342 2906.45 265.74 Q2908.77 265.138 2911.03 263.935 L2911.03 267.962 Q2908.74 268.934 2906.33 269.444 Q2903.93 269.953 2901.45 269.953 Q2895.25 269.953 2891.61 266.342 Q2888 262.731 2888 256.573 Q2888 250.208 2891.43 246.481 Q2894.88 242.731 2900.71 242.731 Q2905.94 242.731 2908.97 246.111 Q2912.03 249.467 2912.03 255.254 M2907.77 254.004 Q2907.72 250.509 2905.8 248.425 Q2903.9 246.342 2900.76 246.342 Q2897.19 246.342 2895.04 248.356 Q2892.91 250.37 2892.58 254.027 L2907.77 254.004 Z\" fill=\"#000000\" fill-rule=\"evenodd\" fill-opacity=\"1\" /><polyline clip-path=\"url(#clip160)\" style=\"stroke:#e26f46; stroke-linecap:round; stroke-linejoin:round; stroke-width:4; stroke-opacity:1; fill:none\" points=\"2183.81,303.842 2375.56,303.842 \"/>\n",
       "<path clip-path=\"url(#clip160)\" d=\"M2412.19 290.404 L2412.19 303.39 L2418.07 303.39 Q2421.34 303.39 2423.12 301.701 Q2424.9 300.011 2424.9 296.886 Q2424.9 293.784 2423.12 292.094 Q2421.34 290.404 2418.07 290.404 L2412.19 290.404 M2407.52 286.562 L2418.07 286.562 Q2423.88 286.562 2426.85 289.201 Q2429.83 291.816 2429.83 296.886 Q2429.83 302.001 2426.85 304.617 Q2423.88 307.233 2418.07 307.233 L2412.19 307.233 L2412.19 321.122 L2407.52 321.122 L2407.52 286.562 Z\" fill=\"#000000\" fill-rule=\"evenodd\" fill-opacity=\"1\" /><path clip-path=\"url(#clip160)\" d=\"M2450.11 299.177 Q2449.39 298.761 2448.54 298.576 Q2447.7 298.367 2446.68 298.367 Q2443.07 298.367 2441.13 300.728 Q2439.21 303.066 2439.21 307.464 L2439.21 321.122 L2434.93 321.122 L2434.93 295.196 L2439.21 295.196 L2439.21 299.224 Q2440.55 296.863 2442.7 295.728 Q2444.86 294.571 2447.93 294.571 Q2448.37 294.571 2448.91 294.64 Q2449.44 294.687 2450.09 294.802 L2450.11 299.177 Z\" fill=\"#000000\" fill-rule=\"evenodd\" fill-opacity=\"1\" /><path clip-path=\"url(#clip160)\" d=\"M2463.58 298.182 Q2460.16 298.182 2458.17 300.867 Q2456.17 303.529 2456.17 308.182 Q2456.17 312.835 2458.14 315.52 Q2460.13 318.182 2463.58 318.182 Q2466.99 318.182 2468.98 315.497 Q2470.97 312.812 2470.97 308.182 Q2470.97 303.576 2468.98 300.89 Q2466.99 298.182 2463.58 298.182 M2463.58 294.571 Q2469.14 294.571 2472.31 298.182 Q2475.48 301.793 2475.48 308.182 Q2475.48 314.548 2472.31 318.182 Q2469.14 321.793 2463.58 321.793 Q2458 321.793 2454.83 318.182 Q2451.68 314.548 2451.68 308.182 Q2451.68 301.793 2454.83 298.182 Q2458 294.571 2463.58 294.571 Z\" fill=\"#000000\" fill-rule=\"evenodd\" fill-opacity=\"1\" /><path clip-path=\"url(#clip160)\" d=\"M2495.67 285.103 L2495.67 288.645 L2491.59 288.645 Q2489.3 288.645 2488.4 289.571 Q2487.52 290.497 2487.52 292.904 L2487.52 295.196 L2494.53 295.196 L2494.53 298.506 L2487.52 298.506 L2487.52 321.122 L2483.24 321.122 L2483.24 298.506 L2479.16 298.506 L2479.16 295.196 L2483.24 295.196 L2483.24 293.39 Q2483.24 289.062 2485.25 287.094 Q2487.26 285.103 2491.64 285.103 L2495.67 285.103 Z\" fill=\"#000000\" fill-rule=\"evenodd\" fill-opacity=\"1\" /><path clip-path=\"url(#clip160)\" d=\"M2499.23 295.196 L2503.49 295.196 L2503.49 321.122 L2499.23 321.122 L2499.23 295.196 M2499.23 285.103 L2503.49 285.103 L2503.49 290.497 L2499.23 290.497 L2499.23 285.103 Z\" fill=\"#000000\" fill-rule=\"evenodd\" fill-opacity=\"1\" /><path clip-path=\"url(#clip160)\" d=\"M2516.61 287.835 L2516.61 295.196 L2525.39 295.196 L2525.39 298.506 L2516.61 298.506 L2516.61 312.58 Q2516.61 315.751 2517.47 316.654 Q2518.35 317.557 2521.01 317.557 L2525.39 317.557 L2525.39 321.122 L2521.01 321.122 Q2516.08 321.122 2514.21 319.293 Q2512.33 317.441 2512.33 312.58 L2512.33 298.506 L2509.21 298.506 L2509.21 295.196 L2512.33 295.196 L2512.33 287.835 L2516.61 287.835 Z\" fill=\"#000000\" fill-rule=\"evenodd\" fill-opacity=\"1\" /><path clip-path=\"url(#clip160)\" d=\"M2557.84 308.089 Q2552.68 308.089 2550.69 309.27 Q2548.7 310.45 2548.7 313.298 Q2548.7 315.566 2550.18 316.909 Q2551.68 318.228 2554.25 318.228 Q2557.79 318.228 2559.92 315.728 Q2562.08 313.205 2562.08 309.038 L2562.08 308.089 L2557.84 308.089 M2566.34 306.33 L2566.34 321.122 L2562.08 321.122 L2562.08 317.187 Q2560.62 319.548 2558.44 320.682 Q2556.27 321.793 2553.12 321.793 Q2549.14 321.793 2546.78 319.571 Q2544.44 317.325 2544.44 313.575 Q2544.44 309.2 2547.36 306.978 Q2550.29 304.756 2556.1 304.756 L2562.08 304.756 L2562.08 304.339 Q2562.08 301.4 2560.13 299.802 Q2558.21 298.182 2554.72 298.182 Q2552.49 298.182 2550.39 298.714 Q2548.28 299.247 2546.34 300.312 L2546.34 296.376 Q2548.67 295.474 2550.87 295.034 Q2553.07 294.571 2555.16 294.571 Q2560.78 294.571 2563.56 297.488 Q2566.34 300.404 2566.34 306.33 Z\" fill=\"#000000\" fill-rule=\"evenodd\" fill-opacity=\"1\" /><path clip-path=\"url(#clip160)\" d=\"M2579.32 287.835 L2579.32 295.196 L2588.1 295.196 L2588.1 298.506 L2579.32 298.506 L2579.32 312.58 Q2579.32 315.751 2580.18 316.654 Q2581.06 317.557 2583.72 317.557 L2588.1 317.557 L2588.1 321.122 L2583.72 321.122 Q2578.79 321.122 2576.92 319.293 Q2575.04 317.441 2575.04 312.58 L2575.04 298.506 L2571.92 298.506 L2571.92 295.196 L2575.04 295.196 L2575.04 287.835 L2579.32 287.835 Z\" fill=\"#000000\" fill-rule=\"evenodd\" fill-opacity=\"1\" /><path clip-path=\"url(#clip160)\" d=\"M2609.41 286.562 L2627.77 286.562 L2627.77 290.497 L2613.7 290.497 L2613.7 298.969 Q2614.72 298.622 2615.73 298.46 Q2616.75 298.275 2617.77 298.275 Q2623.56 298.275 2626.94 301.446 Q2630.32 304.617 2630.32 310.034 Q2630.32 315.612 2626.85 318.714 Q2623.37 321.793 2617.05 321.793 Q2614.88 321.793 2612.61 321.423 Q2610.36 321.052 2607.96 320.312 L2607.96 315.612 Q2610.04 316.747 2612.26 317.302 Q2614.48 317.858 2616.96 317.858 Q2620.97 317.858 2623.3 315.751 Q2625.64 313.645 2625.64 310.034 Q2625.64 306.423 2623.3 304.316 Q2620.97 302.21 2616.96 302.21 Q2615.09 302.21 2613.21 302.626 Q2611.36 303.043 2609.41 303.923 L2609.41 286.562 Z\" fill=\"#000000\" fill-rule=\"evenodd\" fill-opacity=\"1\" /><path clip-path=\"url(#clip160)\" d=\"M2668.93 305.913 Q2666.91 305.913 2665.76 307.626 Q2664.62 309.339 2664.62 312.395 Q2664.62 315.404 2665.76 317.14 Q2666.91 318.853 2668.93 318.853 Q2670.9 318.853 2672.03 317.14 Q2673.19 315.404 2673.19 312.395 Q2673.19 309.363 2672.03 307.65 Q2670.9 305.913 2668.93 305.913 M2668.93 302.974 Q2672.59 302.974 2674.74 305.52 Q2676.89 308.066 2676.89 312.395 Q2676.89 316.724 2674.72 319.27 Q2672.56 321.793 2668.93 321.793 Q2665.22 321.793 2663.07 319.27 Q2660.92 316.724 2660.92 312.395 Q2660.92 308.043 2663.07 305.52 Q2665.25 302.974 2668.93 302.974 M2645.04 288.877 Q2643.05 288.877 2641.89 290.613 Q2640.76 292.326 2640.76 295.335 Q2640.76 298.39 2641.89 300.103 Q2643.03 301.816 2645.04 301.816 Q2647.05 301.816 2648.19 300.103 Q2649.35 298.39 2649.35 295.335 Q2649.35 292.349 2648.19 290.613 Q2647.03 288.877 2645.04 288.877 M2665.94 285.937 L2669.65 285.937 L2648.03 321.793 L2644.32 321.793 L2665.94 285.937 M2645.04 285.937 Q2648.7 285.937 2650.87 288.483 Q2653.05 291.006 2653.05 295.335 Q2653.05 299.71 2650.87 302.233 Q2648.72 304.756 2645.04 304.756 Q2641.36 304.756 2639.21 302.233 Q2637.08 299.687 2637.08 295.335 Q2637.08 291.029 2639.23 288.483 Q2641.38 285.937 2645.04 285.937 Z\" fill=\"#000000\" fill-rule=\"evenodd\" fill-opacity=\"1\" /><path clip-path=\"url(#clip160)\" d=\"M2703.16 317.233 L2703.16 330.983 L2698.88 330.983 L2698.88 295.196 L2703.16 295.196 L2703.16 299.131 Q2704.51 296.816 2706.54 295.705 Q2708.6 294.571 2711.45 294.571 Q2716.17 294.571 2719.11 298.321 Q2722.08 302.071 2722.08 308.182 Q2722.08 314.293 2719.11 318.043 Q2716.17 321.793 2711.45 321.793 Q2708.6 321.793 2706.54 320.682 Q2704.51 319.548 2703.16 317.233 M2717.66 308.182 Q2717.66 303.483 2715.71 300.821 Q2713.79 298.136 2710.41 298.136 Q2707.03 298.136 2705.09 300.821 Q2703.16 303.483 2703.16 308.182 Q2703.16 312.881 2705.09 315.566 Q2707.03 318.228 2710.41 318.228 Q2713.79 318.228 2715.71 315.566 Q2717.66 312.881 2717.66 308.182 Z\" fill=\"#000000\" fill-rule=\"evenodd\" fill-opacity=\"1\" /><path clip-path=\"url(#clip160)\" d=\"M2744.16 299.177 Q2743.44 298.761 2742.59 298.576 Q2741.75 298.367 2740.73 298.367 Q2737.12 298.367 2735.18 300.728 Q2733.26 303.066 2733.26 307.464 L2733.26 321.122 L2728.97 321.122 L2728.97 295.196 L2733.26 295.196 L2733.26 299.224 Q2734.6 296.863 2736.75 295.728 Q2738.9 294.571 2741.98 294.571 Q2742.42 294.571 2742.96 294.64 Q2743.49 294.687 2744.14 294.802 L2744.16 299.177 Z\" fill=\"#000000\" fill-rule=\"evenodd\" fill-opacity=\"1\" /><path clip-path=\"url(#clip160)\" d=\"M2748.63 295.196 L2752.89 295.196 L2752.89 321.122 L2748.63 321.122 L2748.63 295.196 M2748.63 285.103 L2752.89 285.103 L2752.89 290.497 L2748.63 290.497 L2748.63 285.103 Z\" fill=\"#000000\" fill-rule=\"evenodd\" fill-opacity=\"1\" /><path clip-path=\"url(#clip160)\" d=\"M2780.46 296.191 L2780.46 300.173 Q2778.65 299.177 2776.82 298.691 Q2775.02 298.182 2773.16 298.182 Q2769.02 298.182 2766.73 300.821 Q2764.44 303.437 2764.44 308.182 Q2764.44 312.927 2766.73 315.566 Q2769.02 318.182 2773.16 318.182 Q2775.02 318.182 2776.82 317.696 Q2778.65 317.187 2780.46 316.191 L2780.46 320.126 Q2778.67 320.96 2776.75 321.376 Q2774.85 321.793 2772.7 321.793 Q2766.84 321.793 2763.4 318.112 Q2759.95 314.432 2759.95 308.182 Q2759.95 301.839 2763.42 298.205 Q2766.91 294.571 2772.98 294.571 Q2774.95 294.571 2776.82 294.988 Q2778.7 295.381 2780.46 296.191 Z\" fill=\"#000000\" fill-rule=\"evenodd\" fill-opacity=\"1\" /><path clip-path=\"url(#clip160)\" d=\"M2810.04 307.094 L2810.04 309.177 L2790.46 309.177 Q2790.73 313.575 2793.09 315.89 Q2795.48 318.182 2799.71 318.182 Q2802.17 318.182 2804.46 317.58 Q2806.77 316.978 2809.04 315.775 L2809.04 319.802 Q2806.75 320.774 2804.34 321.284 Q2801.94 321.793 2799.46 321.793 Q2793.26 321.793 2789.62 318.182 Q2786.01 314.571 2786.01 308.413 Q2786.01 302.048 2789.44 298.321 Q2792.89 294.571 2798.72 294.571 Q2803.95 294.571 2806.98 297.951 Q2810.04 301.307 2810.04 307.094 M2805.78 305.844 Q2805.73 302.349 2803.81 300.265 Q2801.91 298.182 2798.77 298.182 Q2795.2 298.182 2793.05 300.196 Q2790.92 302.21 2790.59 305.867 L2805.78 305.844 Z\" fill=\"#000000\" fill-rule=\"evenodd\" fill-opacity=\"1\" /><path clip-path=\"url(#clip160)\" d=\"M2832.1 295.196 L2836.36 295.196 L2836.36 321.122 L2832.1 321.122 L2832.1 295.196 M2832.1 285.103 L2836.36 285.103 L2836.36 290.497 L2832.1 290.497 L2832.1 285.103 Z\" fill=\"#000000\" fill-rule=\"evenodd\" fill-opacity=\"1\" /><path clip-path=\"url(#clip160)\" d=\"M2866.82 305.474 L2866.82 321.122 L2862.56 321.122 L2862.56 305.613 Q2862.56 301.932 2861.13 300.103 Q2859.69 298.275 2856.82 298.275 Q2853.37 298.275 2851.38 300.474 Q2849.39 302.673 2849.39 306.469 L2849.39 321.122 L2845.11 321.122 L2845.11 295.196 L2849.39 295.196 L2849.39 299.224 Q2850.92 296.886 2852.98 295.728 Q2855.06 294.571 2857.77 294.571 Q2862.24 294.571 2864.53 297.349 Q2866.82 300.103 2866.82 305.474 Z\" fill=\"#000000\" fill-rule=\"evenodd\" fill-opacity=\"1\" /><path clip-path=\"url(#clip160)\" d=\"M2893.97 296.191 L2893.97 300.173 Q2892.17 299.177 2890.34 298.691 Q2888.53 298.182 2886.68 298.182 Q2882.54 298.182 2880.25 300.821 Q2877.96 303.437 2877.96 308.182 Q2877.96 312.927 2880.25 315.566 Q2882.54 318.182 2886.68 318.182 Q2888.53 318.182 2890.34 317.696 Q2892.17 317.187 2893.97 316.191 L2893.97 320.126 Q2892.19 320.96 2890.27 321.376 Q2888.37 321.793 2886.22 321.793 Q2880.36 321.793 2876.91 318.112 Q2873.46 314.432 2873.46 308.182 Q2873.46 301.839 2876.94 298.205 Q2880.43 294.571 2886.5 294.571 Q2888.46 294.571 2890.34 294.988 Q2892.21 295.381 2893.97 296.191 Z\" fill=\"#000000\" fill-rule=\"evenodd\" fill-opacity=\"1\" /><path clip-path=\"url(#clip160)\" d=\"M2916.4 299.177 Q2915.69 298.761 2914.83 298.576 Q2914 298.367 2912.98 298.367 Q2909.37 298.367 2907.42 300.728 Q2905.5 303.066 2905.5 307.464 L2905.5 321.122 L2901.22 321.122 L2901.22 295.196 L2905.5 295.196 L2905.5 299.224 Q2906.84 296.863 2909 295.728 Q2911.15 294.571 2914.23 294.571 Q2914.67 294.571 2915.2 294.64 Q2915.73 294.687 2916.38 294.802 L2916.4 299.177 Z\" fill=\"#000000\" fill-rule=\"evenodd\" fill-opacity=\"1\" /><path clip-path=\"url(#clip160)\" d=\"M2942.01 307.094 L2942.01 309.177 L2922.42 309.177 Q2922.7 313.575 2925.06 315.89 Q2927.45 318.182 2931.68 318.182 Q2934.14 318.182 2936.43 317.58 Q2938.74 316.978 2941.01 315.775 L2941.01 319.802 Q2938.72 320.774 2936.31 321.284 Q2933.9 321.793 2931.43 321.793 Q2925.22 321.793 2921.59 318.182 Q2917.98 314.571 2917.98 308.413 Q2917.98 302.048 2921.4 298.321 Q2924.85 294.571 2930.69 294.571 Q2935.92 294.571 2938.95 297.951 Q2942.01 301.307 2942.01 307.094 M2937.75 305.844 Q2937.7 302.349 2935.78 300.265 Q2933.88 298.182 2930.73 298.182 Q2927.17 298.182 2925.02 300.196 Q2922.89 302.21 2922.56 305.867 L2937.75 305.844 Z\" fill=\"#000000\" fill-rule=\"evenodd\" fill-opacity=\"1\" /><path clip-path=\"url(#clip160)\" d=\"M2960.78 308.089 Q2955.62 308.089 2953.63 309.27 Q2951.64 310.45 2951.64 313.298 Q2951.64 315.566 2953.12 316.909 Q2954.62 318.228 2957.19 318.228 Q2960.73 318.228 2962.86 315.728 Q2965.01 313.205 2965.01 309.038 L2965.01 308.089 L2960.78 308.089 M2969.27 306.33 L2969.27 321.122 L2965.01 321.122 L2965.01 317.187 Q2963.56 319.548 2961.38 320.682 Q2959.2 321.793 2956.06 321.793 Q2952.08 321.793 2949.71 319.571 Q2947.38 317.325 2947.38 313.575 Q2947.38 309.2 2950.29 306.978 Q2953.23 304.756 2959.04 304.756 L2965.01 304.756 L2965.01 304.339 Q2965.01 301.4 2963.07 299.802 Q2961.15 298.182 2957.65 298.182 Q2955.43 298.182 2953.33 298.714 Q2951.22 299.247 2949.27 300.312 L2949.27 296.376 Q2951.61 295.474 2953.81 295.034 Q2956.01 294.571 2958.09 294.571 Q2963.72 294.571 2966.5 297.488 Q2969.27 300.404 2969.27 306.33 Z\" fill=\"#000000\" fill-rule=\"evenodd\" fill-opacity=\"1\" /><path clip-path=\"url(#clip160)\" d=\"M2994.57 295.96 L2994.57 299.988 Q2992.77 299.062 2990.82 298.599 Q2988.88 298.136 2986.8 298.136 Q2983.63 298.136 2982.03 299.108 Q2980.45 300.08 2980.45 302.025 Q2980.45 303.506 2981.59 304.363 Q2982.72 305.196 2986.15 305.96 L2987.61 306.284 Q2992.14 307.256 2994.04 309.038 Q2995.96 310.798 2995.96 313.969 Q2995.96 317.58 2993.09 319.687 Q2990.25 321.793 2985.25 321.793 Q2983.16 321.793 2980.89 321.376 Q2978.65 320.983 2976.15 320.173 L2976.15 315.775 Q2978.51 317.001 2980.8 317.626 Q2983.09 318.228 2985.34 318.228 Q2988.35 318.228 2989.97 317.21 Q2991.59 316.168 2991.59 314.293 Q2991.59 312.557 2990.41 311.631 Q2989.25 310.705 2985.29 309.849 L2983.81 309.501 Q2979.85 308.668 2978.09 306.955 Q2976.33 305.219 2976.33 302.21 Q2976.33 298.552 2978.93 296.562 Q2981.52 294.571 2986.29 294.571 Q2988.65 294.571 2990.73 294.918 Q2992.82 295.265 2994.57 295.96 Z\" fill=\"#000000\" fill-rule=\"evenodd\" fill-opacity=\"1\" /><path clip-path=\"url(#clip160)\" d=\"M3024.92 307.094 L3024.92 309.177 L3005.34 309.177 Q3005.62 313.575 3007.98 315.89 Q3010.36 318.182 3014.6 318.182 Q3017.05 318.182 3019.34 317.58 Q3021.66 316.978 3023.93 315.775 L3023.93 319.802 Q3021.63 320.774 3019.23 321.284 Q3016.82 321.793 3014.34 321.793 Q3008.14 321.793 3004.51 318.182 Q3000.89 314.571 3000.89 308.413 Q3000.89 302.048 3004.32 298.321 Q3007.77 294.571 3013.6 294.571 Q3018.83 294.571 3021.87 297.951 Q3024.92 301.307 3024.92 307.094 M3020.66 305.844 Q3020.62 302.349 3018.7 300.265 Q3016.8 298.182 3013.65 298.182 Q3010.08 298.182 3007.93 300.196 Q3005.8 302.21 3005.48 305.867 L3020.66 305.844 Z\" fill=\"#000000\" fill-rule=\"evenodd\" fill-opacity=\"1\" /></svg>\n"
      ]
     },
     "execution_count": 20,
     "metadata": {},
     "output_type": "execute_result"
    }
   ],
   "source": [
    "profits_payroll_change_1_00 = zeros(Float64, 6)\n",
    "lost_orders_payroll_change_1_00 = zeros(Float64, 6)\n",
    "\n",
    "for (i, payroll_change) in enumerate([1, 1.05, 1.1, 1.25, 1.5, 1.75])\n",
    "    results = DataFrame(simulateOneRun(m, s, S, h=h, c=c, p=p, K=K, k=k*payroll_change, init_S=init_S, average_demand=average_demand) for n in 1:1000)\n",
    "    profits_payroll_change_1_00[i] = mean(results.profit)\n",
    "    lost_orders_payroll_change_1_00[i] = mean(results.lost_orders)\n",
    "end\n",
    "\n",
    "profits_payroll_change_1_05 = zeros(Float64, 6)\n",
    "lost_orders_payroll_change_1_05 = zeros(Float64, 6)\n",
    "\n",
    "for (i, payroll_change) in enumerate([1, 1.05, 1.1, 1.25, 1.5, 1.75])\n",
    "    results = DataFrame(simulateOneRun(m, s, S, h=h, c=c*1.05, p=p, K=K, k=k*payroll_change, init_S=init_S, average_demand=average_demand) for n in 1:1000)\n",
    "    profits_payroll_change_1_05[i] = mean(results.profit)\n",
    "    lost_orders_payroll_change_1_05[i] = mean(results.lost_orders)\n",
    "end\n",
    "\n",
    "plot([1, 1.05, 1.1, 1.25, 1.5, 1.75], profits_payroll_change_1_00, label=\"Profit at original price\")\n",
    "plot!([1, 1.05, 1.1, 1.25, 1.5, 1.75], profits_payroll_change_1_05, label=\"Profit at 5% price increase\")\n",
    "xlabel!(\"Change in profit on sales in [%]\")\n",
    "ylabel!(\"Results / Outcomes\")\n",
    "title!(\"Charts of the change in profit in relation to the change in sales profit\")"
   ]
  },
  {
   "cell_type": "code",
   "execution_count": 22,
   "metadata": {},
   "outputs": [],
   "source": [
    "Random.seed!(10)\n",
    "\n",
    "profits_payroll_change_1_10 = zeros(Float64, 6)\n",
    "lost_orders_payroll_change_1_10 = zeros(Float64, 6)\n",
    " \n",
    "for (i, payroll_change) in enumerate([1, 1.05, 1.1, 1.25, 1.5, 1.75])\n",
    "    results = DataFrame(simulateOneRun(m, s, S, h=h, c=c*1.1, p=p, K=K, k=k*payroll_change, init_S=init_S, average_demand=average_demand) for n in 1:1000)\n",
    "    profits_payroll_change_1_10[i] = mean(results.profit)\n",
    "    lost_orders_payroll_change_1_10[i] = mean(results.lost_orders)\n",
    "end\n",
    "\n",
    "profits_payroll_change_1_20 = zeros(Float64, 6)\n",
    "lost_orders_payroll_change_1_20 = zeros(Float64, 6)\n",
    "\n",
    "for (i, payroll_change) in enumerate([1, 1.05, 1.1, 1.25, 1.5, 1.75])\n",
    "    results = DataFrame(simulateOneRun(m, s, S, h=h, c=c*1.2, p=p, K=K, k=k*payroll_change, init_S=init_S, average_demand=average_demand) for n in 1:1000)\n",
    "    profits_payroll_change_1_20[i] = mean(results.profit)\n",
    "    lost_orders_payroll_change_1_20[i] = mean(results.lost_orders)\n",
    "end\n",
    "\n",
    "profits_payroll_change_1_50 = zeros(Float64, 6)\n",
    "lost_orders_payroll_change_1_50 = zeros(Float64, 6)\n",
    "\n",
    "for (i, payroll_change) in enumerate([1, 1.05, 1.1, 1.25, 1.5, 1.75])\n",
    "    results = DataFrame(simulateOneRun(m, s, S, h=h, c=c*1.5, p=p, K=K, k=k*payroll_change, init_S=init_S, average_demand=average_demand) for n in 1:1000)\n",
    "    profits_payroll_change_1_50[i] = mean(results.profit)\n",
    "    lost_orders_payroll_change_1_50[i] = mean(results.lost_orders)\n",
    "end"
   ]
  },
  {
   "cell_type": "code",
   "execution_count": 24,
   "metadata": {},
   "outputs": [
    {
     "data": {
      "image/svg+xml": [
       "<?xml version=\"1.0\" encoding=\"utf-8\"?>\n",
       "<svg xmlns=\"http://www.w3.org/2000/svg\" xmlns:xlink=\"http://www.w3.org/1999/xlink\" width=\"800\" height=\"600\" viewBox=\"0 0 3200 2400\">\n",
       "<defs>\n",
       "  <clipPath id=\"clip240\">\n",
       "    <rect x=\"0\" y=\"0\" width=\"3200\" height=\"2400\"/>\n",
       "  </clipPath>\n",
       "</defs>\n",
       "<path clip-path=\"url(#clip240)\" d=\"M0 2400 L3200 2400 L3200 0 L0 0  Z\" fill=\"#ffffff\" fill-rule=\"evenodd\" fill-opacity=\"1\"/>\n",
       "<defs>\n",
       "  <clipPath id=\"clip241\">\n",
       "    <rect x=\"640\" y=\"0\" width=\"2241\" height=\"2241\"/>\n",
       "  </clipPath>\n",
       "</defs>\n",
       "<path clip-path=\"url(#clip240)\" d=\"M278.227 2204.92 L3152.76 2204.92 L3152.76 131.032 L278.227 131.032  Z\" fill=\"#ffffff\" fill-rule=\"evenodd\" fill-opacity=\"1\"/>\n",
       "<defs>\n",
       "  <clipPath id=\"clip242\">\n",
       "    <rect x=\"278\" y=\"131\" width=\"2876\" height=\"2075\"/>\n",
       "  </clipPath>\n",
       "</defs>\n",
       "<polyline clip-path=\"url(#clip242)\" style=\"stroke:#000000; stroke-linecap:round; stroke-linejoin:round; stroke-width:2; stroke-opacity:0.1; fill:none\" points=\"359.582,2204.92 359.582,131.032 \"/>\n",
       "<polyline clip-path=\"url(#clip242)\" style=\"stroke:#000000; stroke-linecap:round; stroke-linejoin:round; stroke-width:2; stroke-opacity:0.1; fill:none\" points=\"1082.73,2204.92 1082.73,131.032 \"/>\n",
       "<polyline clip-path=\"url(#clip242)\" style=\"stroke:#000000; stroke-linecap:round; stroke-linejoin:round; stroke-width:2; stroke-opacity:0.1; fill:none\" points=\"1805.89,2204.92 1805.89,131.032 \"/>\n",
       "<polyline clip-path=\"url(#clip242)\" style=\"stroke:#000000; stroke-linecap:round; stroke-linejoin:round; stroke-width:2; stroke-opacity:0.1; fill:none\" points=\"2529.04,2204.92 2529.04,131.032 \"/>\n",
       "<polyline clip-path=\"url(#clip240)\" style=\"stroke:#000000; stroke-linecap:round; stroke-linejoin:round; stroke-width:4; stroke-opacity:1; fill:none\" points=\"278.227,2204.92 3152.76,2204.92 \"/>\n",
       "<polyline clip-path=\"url(#clip240)\" style=\"stroke:#000000; stroke-linecap:round; stroke-linejoin:round; stroke-width:4; stroke-opacity:1; fill:none\" points=\"359.582,2204.92 359.582,2186.02 \"/>\n",
       "<polyline clip-path=\"url(#clip240)\" style=\"stroke:#000000; stroke-linecap:round; stroke-linejoin:round; stroke-width:4; stroke-opacity:1; fill:none\" points=\"1082.73,2204.92 1082.73,2186.02 \"/>\n",
       "<polyline clip-path=\"url(#clip240)\" style=\"stroke:#000000; stroke-linecap:round; stroke-linejoin:round; stroke-width:4; stroke-opacity:1; fill:none\" points=\"1805.89,2204.92 1805.89,2186.02 \"/>\n",
       "<polyline clip-path=\"url(#clip240)\" style=\"stroke:#000000; stroke-linecap:round; stroke-linejoin:round; stroke-width:4; stroke-opacity:1; fill:none\" points=\"2529.04,2204.92 2529.04,2186.02 \"/>\n",
       "<path clip-path=\"url(#clip240)\" d=\"M326.735 2269.78 L334.374 2269.78 L334.374 2243.42 L326.064 2245.09 L326.064 2240.83 L334.327 2239.16 L339.003 2239.16 L339.003 2269.78 L346.642 2269.78 L346.642 2273.72 L326.735 2273.72 L326.735 2269.78 Z\" fill=\"#000000\" fill-rule=\"evenodd\" fill-opacity=\"1\" /><path clip-path=\"url(#clip240)\" d=\"M356.087 2267.84 L360.971 2267.84 L360.971 2273.72 L356.087 2273.72 L356.087 2267.84 Z\" fill=\"#000000\" fill-rule=\"evenodd\" fill-opacity=\"1\" /><path clip-path=\"url(#clip240)\" d=\"M381.156 2242.24 Q377.545 2242.24 375.716 2245.8 Q373.911 2249.34 373.911 2256.47 Q373.911 2263.58 375.716 2267.15 Q377.545 2270.69 381.156 2270.69 Q384.79 2270.69 386.596 2267.15 Q388.424 2263.58 388.424 2256.47 Q388.424 2249.34 386.596 2245.8 Q384.79 2242.24 381.156 2242.24 M381.156 2238.53 Q386.966 2238.53 390.022 2243.14 Q393.1 2247.72 393.1 2256.47 Q393.1 2265.2 390.022 2269.81 Q386.966 2274.39 381.156 2274.39 Q375.346 2274.39 372.267 2269.81 Q369.211 2265.2 369.211 2256.47 Q369.211 2247.72 372.267 2243.14 Q375.346 2238.53 381.156 2238.53 Z\" fill=\"#000000\" fill-rule=\"evenodd\" fill-opacity=\"1\" /><path clip-path=\"url(#clip240)\" d=\"M1050.69 2269.78 L1058.32 2269.78 L1058.32 2243.42 L1050.01 2245.09 L1050.01 2240.83 L1058.28 2239.16 L1062.95 2239.16 L1062.95 2269.78 L1070.59 2269.78 L1070.59 2273.72 L1050.69 2273.72 L1050.69 2269.78 Z\" fill=\"#000000\" fill-rule=\"evenodd\" fill-opacity=\"1\" /><path clip-path=\"url(#clip240)\" d=\"M1080.04 2267.84 L1084.92 2267.84 L1084.92 2273.72 L1080.04 2273.72 L1080.04 2267.84 Z\" fill=\"#000000\" fill-rule=\"evenodd\" fill-opacity=\"1\" /><path clip-path=\"url(#clip240)\" d=\"M1099.13 2269.78 L1115.45 2269.78 L1115.45 2273.72 L1093.51 2273.72 L1093.51 2269.78 Q1096.17 2267.03 1100.75 2262.4 Q1105.36 2257.75 1106.54 2256.41 Q1108.79 2253.88 1109.67 2252.15 Q1110.57 2250.39 1110.57 2248.7 Q1110.57 2245.94 1108.62 2244.21 Q1106.7 2242.47 1103.6 2242.47 Q1101.4 2242.47 1098.95 2243.23 Q1096.52 2244 1093.74 2245.55 L1093.74 2240.83 Q1096.56 2239.69 1099.02 2239.11 Q1101.47 2238.53 1103.51 2238.53 Q1108.88 2238.53 1112.07 2241.22 Q1115.27 2243.91 1115.27 2248.4 Q1115.27 2250.53 1114.46 2252.45 Q1113.67 2254.34 1111.56 2256.94 Q1110.99 2257.61 1107.88 2260.83 Q1104.78 2264.02 1099.13 2269.78 Z\" fill=\"#000000\" fill-rule=\"evenodd\" fill-opacity=\"1\" /><path clip-path=\"url(#clip240)\" d=\"M1772.8 2269.78 L1780.43 2269.78 L1780.43 2243.42 L1772.12 2245.09 L1772.12 2240.83 L1780.39 2239.16 L1785.06 2239.16 L1785.06 2269.78 L1792.7 2269.78 L1792.7 2273.72 L1772.8 2273.72 L1772.8 2269.78 Z\" fill=\"#000000\" fill-rule=\"evenodd\" fill-opacity=\"1\" /><path clip-path=\"url(#clip240)\" d=\"M1802.15 2267.84 L1807.03 2267.84 L1807.03 2273.72 L1802.15 2273.72 L1802.15 2267.84 Z\" fill=\"#000000\" fill-rule=\"evenodd\" fill-opacity=\"1\" /><path clip-path=\"url(#clip240)\" d=\"M1830.06 2243.23 L1818.26 2261.68 L1830.06 2261.68 L1830.06 2243.23 M1828.84 2239.16 L1834.72 2239.16 L1834.72 2261.68 L1839.65 2261.68 L1839.65 2265.57 L1834.72 2265.57 L1834.72 2273.72 L1830.06 2273.72 L1830.06 2265.57 L1814.46 2265.57 L1814.46 2261.06 L1828.84 2239.16 Z\" fill=\"#000000\" fill-rule=\"evenodd\" fill-opacity=\"1\" /><path clip-path=\"url(#clip240)\" d=\"M2496.11 2269.78 L2503.75 2269.78 L2503.75 2243.42 L2495.44 2245.09 L2495.44 2240.83 L2503.7 2239.16 L2508.38 2239.16 L2508.38 2269.78 L2516.02 2269.78 L2516.02 2273.72 L2496.11 2273.72 L2496.11 2269.78 Z\" fill=\"#000000\" fill-rule=\"evenodd\" fill-opacity=\"1\" /><path clip-path=\"url(#clip240)\" d=\"M2525.46 2267.84 L2530.35 2267.84 L2530.35 2273.72 L2525.46 2273.72 L2525.46 2267.84 Z\" fill=\"#000000\" fill-rule=\"evenodd\" fill-opacity=\"1\" /><path clip-path=\"url(#clip240)\" d=\"M2551.11 2254.58 Q2547.96 2254.58 2546.11 2256.73 Q2544.28 2258.88 2544.28 2262.63 Q2544.28 2266.36 2546.11 2268.53 Q2547.96 2270.69 2551.11 2270.69 Q2554.26 2270.69 2556.09 2268.53 Q2557.94 2266.36 2557.94 2262.63 Q2557.94 2258.88 2556.09 2256.73 Q2554.26 2254.58 2551.11 2254.58 M2560.39 2239.92 L2560.39 2244.18 Q2558.63 2243.35 2556.83 2242.91 Q2555.04 2242.47 2553.28 2242.47 Q2548.66 2242.47 2546.2 2245.59 Q2543.77 2248.72 2543.42 2255.04 Q2544.79 2253.03 2546.85 2251.96 Q2548.91 2250.87 2551.39 2250.87 Q2556.6 2250.87 2559.6 2254.04 Q2562.64 2257.19 2562.64 2262.63 Q2562.64 2267.96 2559.49 2271.17 Q2556.34 2274.39 2551.11 2274.39 Q2545.11 2274.39 2541.94 2269.81 Q2538.77 2265.2 2538.77 2256.47 Q2538.77 2248.28 2542.66 2243.42 Q2546.55 2238.53 2553.1 2238.53 Q2554.86 2238.53 2556.64 2238.88 Q2558.45 2239.23 2560.39 2239.92 Z\" fill=\"#000000\" fill-rule=\"evenodd\" fill-opacity=\"1\" /><path clip-path=\"url(#clip240)\" d=\"M1417.8 2317.92 L1417.8 2324.7 Q1414.55 2321.68 1410.86 2320.18 Q1407.2 2318.69 1403.06 2318.69 Q1394.91 2318.69 1390.59 2323.69 Q1386.26 2328.65 1386.26 2338.07 Q1386.26 2347.46 1390.59 2352.46 Q1394.91 2357.42 1403.06 2357.42 Q1407.2 2357.42 1410.86 2355.93 Q1414.55 2354.43 1417.8 2351.41 L1417.8 2358.12 Q1414.43 2360.42 1410.64 2361.56 Q1406.88 2362.71 1402.68 2362.71 Q1391.89 2362.71 1385.68 2356.12 Q1379.48 2349.5 1379.48 2338.07 Q1379.48 2326.61 1385.68 2320.02 Q1391.89 2313.4 1402.68 2313.4 Q1406.95 2313.4 1410.7 2314.55 Q1414.49 2315.66 1417.8 2317.92 Z\" fill=\"#000000\" fill-rule=\"evenodd\" fill-opacity=\"1\" /><path clip-path=\"url(#clip240)\" d=\"M1457.11 2340.27 L1457.11 2361.78 L1451.25 2361.78 L1451.25 2340.46 Q1451.25 2335.4 1449.28 2332.88 Q1447.3 2330.37 1443.36 2330.37 Q1438.62 2330.37 1435.88 2333.39 Q1433.14 2336.42 1433.14 2341.64 L1433.14 2361.78 L1427.25 2361.78 L1427.25 2312.26 L1433.14 2312.26 L1433.14 2331.67 Q1435.24 2328.46 1438.07 2326.87 Q1440.94 2325.28 1444.66 2325.28 Q1450.81 2325.28 1453.96 2329.1 Q1457.11 2332.88 1457.11 2340.27 Z\" fill=\"#000000\" fill-rule=\"evenodd\" fill-opacity=\"1\" /><path clip-path=\"url(#clip240)\" d=\"M1484.99 2343.86 Q1477.89 2343.86 1475.15 2345.49 Q1472.42 2347.11 1472.42 2351.03 Q1472.42 2354.14 1474.45 2355.99 Q1476.52 2357.81 1480.06 2357.81 Q1484.93 2357.81 1487.85 2354.37 Q1490.81 2350.9 1490.81 2345.17 L1490.81 2343.86 L1484.99 2343.86 M1496.67 2341.45 L1496.67 2361.78 L1490.81 2361.78 L1490.81 2356.37 Q1488.81 2359.62 1485.82 2361.18 Q1482.83 2362.71 1478.5 2362.71 Q1473.02 2362.71 1469.78 2359.65 Q1466.56 2356.56 1466.56 2351.41 Q1466.56 2345.39 1470.57 2342.34 Q1474.61 2339.28 1482.6 2339.28 L1490.81 2339.28 L1490.81 2338.71 Q1490.81 2334.67 1488.14 2332.47 Q1485.5 2330.24 1480.69 2330.24 Q1477.64 2330.24 1474.74 2330.97 Q1471.84 2331.71 1469.17 2333.17 L1469.17 2327.76 Q1472.39 2326.52 1475.41 2325.91 Q1478.43 2325.28 1481.3 2325.28 Q1489.03 2325.28 1492.85 2329.29 Q1496.67 2333.3 1496.67 2341.45 Z\" fill=\"#000000\" fill-rule=\"evenodd\" fill-opacity=\"1\" /><path clip-path=\"url(#clip240)\" d=\"M1538.37 2340.27 L1538.37 2361.78 L1532.51 2361.78 L1532.51 2340.46 Q1532.51 2335.4 1530.54 2332.88 Q1528.56 2330.37 1524.62 2330.37 Q1519.87 2330.37 1517.14 2333.39 Q1514.4 2336.42 1514.4 2341.64 L1514.4 2361.78 L1508.51 2361.78 L1508.51 2326.14 L1514.4 2326.14 L1514.4 2331.67 Q1516.5 2328.46 1519.33 2326.87 Q1522.2 2325.28 1525.92 2325.28 Q1532.06 2325.28 1535.21 2329.1 Q1538.37 2332.88 1538.37 2340.27 Z\" fill=\"#000000\" fill-rule=\"evenodd\" fill-opacity=\"1\" /><path clip-path=\"url(#clip240)\" d=\"M1573.5 2343.55 Q1573.5 2337.18 1570.86 2333.68 Q1568.25 2330.18 1563.51 2330.18 Q1558.8 2330.18 1556.16 2333.68 Q1553.55 2337.18 1553.55 2343.55 Q1553.55 2349.88 1556.16 2353.38 Q1558.8 2356.88 1563.51 2356.88 Q1568.25 2356.88 1570.86 2353.38 Q1573.5 2349.88 1573.5 2343.55 M1579.36 2357.36 Q1579.36 2366.46 1575.32 2370.89 Q1571.28 2375.34 1562.94 2375.34 Q1559.85 2375.34 1557.11 2374.87 Q1554.38 2374.42 1551.8 2373.46 L1551.8 2367.77 Q1554.38 2369.17 1556.89 2369.84 Q1559.4 2370.5 1562.01 2370.5 Q1567.78 2370.5 1570.64 2367.48 Q1573.5 2364.49 1573.5 2358.41 L1573.5 2355.51 Q1571.69 2358.66 1568.86 2360.22 Q1566.02 2361.78 1562.08 2361.78 Q1555.52 2361.78 1551.51 2356.79 Q1547.5 2351.79 1547.5 2343.55 Q1547.5 2335.27 1551.51 2330.27 Q1555.52 2325.28 1562.08 2325.28 Q1566.02 2325.28 1568.86 2326.84 Q1571.69 2328.4 1573.5 2331.55 L1573.5 2326.14 L1579.36 2326.14 L1579.36 2357.36 Z\" fill=\"#000000\" fill-rule=\"evenodd\" fill-opacity=\"1\" /><path clip-path=\"url(#clip240)\" d=\"M1621.92 2342.5 L1621.92 2345.36 L1594.99 2345.36 Q1595.37 2351.41 1598.62 2354.59 Q1601.9 2357.74 1607.72 2357.74 Q1611.09 2357.74 1614.25 2356.91 Q1617.43 2356.09 1620.55 2354.43 L1620.55 2359.97 Q1617.4 2361.31 1614.09 2362.01 Q1610.78 2362.71 1607.37 2362.71 Q1598.84 2362.71 1593.84 2357.74 Q1588.88 2352.78 1588.88 2344.31 Q1588.88 2335.56 1593.59 2330.43 Q1598.33 2325.28 1606.35 2325.28 Q1613.54 2325.28 1617.71 2329.92 Q1621.92 2334.54 1621.92 2342.5 M1616.06 2340.78 Q1616 2335.97 1613.35 2333.11 Q1610.74 2330.24 1606.42 2330.24 Q1601.51 2330.24 1598.55 2333.01 Q1595.63 2335.78 1595.18 2340.81 L1616.06 2340.78 Z\" fill=\"#000000\" fill-rule=\"evenodd\" fill-opacity=\"1\" /><path clip-path=\"url(#clip240)\" d=\"M1652.25 2326.14 L1658.1 2326.14 L1658.1 2361.78 L1652.25 2361.78 L1652.25 2326.14 M1652.25 2312.26 L1658.1 2312.26 L1658.1 2319.67 L1652.25 2319.67 L1652.25 2312.26 Z\" fill=\"#000000\" fill-rule=\"evenodd\" fill-opacity=\"1\" /><path clip-path=\"url(#clip240)\" d=\"M1699.99 2340.27 L1699.99 2361.78 L1694.13 2361.78 L1694.13 2340.46 Q1694.13 2335.4 1692.16 2332.88 Q1690.19 2330.37 1686.24 2330.37 Q1681.5 2330.37 1678.76 2333.39 Q1676.02 2336.42 1676.02 2341.64 L1676.02 2361.78 L1670.14 2361.78 L1670.14 2326.14 L1676.02 2326.14 L1676.02 2331.67 Q1678.12 2328.46 1680.96 2326.87 Q1683.82 2325.28 1687.55 2325.28 Q1693.69 2325.28 1696.84 2329.1 Q1699.99 2332.88 1699.99 2340.27 Z\" fill=\"#000000\" fill-rule=\"evenodd\" fill-opacity=\"1\" /><path clip-path=\"url(#clip240)\" d=\"M1755.12 2327.19 L1755.12 2332.72 Q1752.64 2331.45 1749.96 2330.81 Q1747.29 2330.18 1744.42 2330.18 Q1740.06 2330.18 1737.87 2331.51 Q1735.7 2332.85 1735.7 2335.53 Q1735.7 2337.56 1737.26 2338.74 Q1738.82 2339.89 1743.53 2340.94 L1745.54 2341.38 Q1751.78 2342.72 1754.39 2345.17 Q1757.03 2347.59 1757.03 2351.95 Q1757.03 2356.91 1753.08 2359.81 Q1749.17 2362.71 1742.29 2362.71 Q1739.43 2362.71 1736.31 2362.13 Q1733.22 2361.59 1729.78 2360.48 L1729.78 2354.43 Q1733.03 2356.12 1736.18 2356.98 Q1739.33 2357.81 1742.42 2357.81 Q1746.56 2357.81 1748.78 2356.4 Q1751.01 2354.97 1751.01 2352.39 Q1751.01 2350.01 1749.39 2348.73 Q1747.8 2347.46 1742.35 2346.28 L1740.32 2345.81 Q1734.88 2344.66 1732.46 2342.3 Q1730.04 2339.92 1730.04 2335.78 Q1730.04 2330.75 1733.6 2328.01 Q1737.17 2325.28 1743.72 2325.28 Q1746.97 2325.28 1749.83 2325.75 Q1752.7 2326.23 1755.12 2327.19 Z\" fill=\"#000000\" fill-rule=\"evenodd\" fill-opacity=\"1\" /><path clip-path=\"url(#clip240)\" d=\"M1782.55 2343.86 Q1775.46 2343.86 1772.72 2345.49 Q1769.98 2347.11 1769.98 2351.03 Q1769.98 2354.14 1772.02 2355.99 Q1774.09 2357.81 1777.62 2357.81 Q1782.49 2357.81 1785.42 2354.37 Q1788.38 2350.9 1788.38 2345.17 L1788.38 2343.86 L1782.55 2343.86 M1794.24 2341.45 L1794.24 2361.78 L1788.38 2361.78 L1788.38 2356.37 Q1786.37 2359.62 1783.38 2361.18 Q1780.39 2362.71 1776.06 2362.71 Q1770.59 2362.71 1767.34 2359.65 Q1764.13 2356.56 1764.13 2351.41 Q1764.13 2345.39 1768.14 2342.34 Q1772.18 2339.28 1780.17 2339.28 L1788.38 2339.28 L1788.38 2338.71 Q1788.38 2334.67 1785.71 2332.47 Q1783.06 2330.24 1778.26 2330.24 Q1775.2 2330.24 1772.31 2330.97 Q1769.41 2331.71 1766.74 2333.17 L1766.74 2327.76 Q1769.95 2326.52 1772.97 2325.91 Q1776 2325.28 1778.86 2325.28 Q1786.6 2325.28 1790.42 2329.29 Q1794.24 2333.3 1794.24 2341.45 Z\" fill=\"#000000\" fill-rule=\"evenodd\" fill-opacity=\"1\" /><path clip-path=\"url(#clip240)\" d=\"M1806.3 2312.26 L1812.15 2312.26 L1812.15 2361.78 L1806.3 2361.78 L1806.3 2312.26 Z\" fill=\"#000000\" fill-rule=\"evenodd\" fill-opacity=\"1\" /><path clip-path=\"url(#clip240)\" d=\"M1840.61 2343.86 Q1833.51 2343.86 1830.77 2345.49 Q1828.04 2347.11 1828.04 2351.03 Q1828.04 2354.14 1830.07 2355.99 Q1832.14 2357.81 1835.68 2357.81 Q1840.55 2357.81 1843.47 2354.37 Q1846.43 2350.9 1846.43 2345.17 L1846.43 2343.86 L1840.61 2343.86 M1852.29 2341.45 L1852.29 2361.78 L1846.43 2361.78 L1846.43 2356.37 Q1844.43 2359.62 1841.44 2361.18 Q1838.45 2362.71 1834.12 2362.71 Q1828.64 2362.71 1825.4 2359.65 Q1822.18 2356.56 1822.18 2351.41 Q1822.18 2345.39 1826.19 2342.34 Q1830.23 2339.28 1838.22 2339.28 L1846.43 2339.28 L1846.43 2338.71 Q1846.43 2334.67 1843.76 2332.47 Q1841.12 2330.24 1836.31 2330.24 Q1833.26 2330.24 1830.36 2330.97 Q1827.46 2331.71 1824.79 2333.17 L1824.79 2327.76 Q1828.01 2326.52 1831.03 2325.91 Q1834.05 2325.28 1836.92 2325.28 Q1844.65 2325.28 1848.47 2329.29 Q1852.29 2333.3 1852.29 2341.45 Z\" fill=\"#000000\" fill-rule=\"evenodd\" fill-opacity=\"1\" /><path clip-path=\"url(#clip240)\" d=\"M1885.01 2331.61 Q1884.02 2331.04 1882.85 2330.78 Q1881.7 2330.5 1880.3 2330.5 Q1875.33 2330.5 1872.66 2333.74 Q1870.02 2336.96 1870.02 2343.01 L1870.02 2361.78 L1864.13 2361.78 L1864.13 2326.14 L1870.02 2326.14 L1870.02 2331.67 Q1871.87 2328.43 1874.83 2326.87 Q1877.79 2325.28 1882.02 2325.28 Q1882.62 2325.28 1883.36 2325.37 Q1884.09 2325.44 1884.98 2325.59 L1885.01 2331.61 Z\" fill=\"#000000\" fill-rule=\"evenodd\" fill-opacity=\"1\" /><path clip-path=\"url(#clip240)\" d=\"M1905.99 2365.09 Q1903.5 2371.46 1901.15 2373.4 Q1898.79 2375.34 1894.85 2375.34 L1890.17 2375.34 L1890.17 2370.44 L1893.6 2370.44 Q1896.02 2370.44 1897.36 2369.3 Q1898.7 2368.15 1900.32 2363.88 L1901.37 2361.21 L1886.95 2326.14 L1893.16 2326.14 L1904.3 2354.02 L1915.44 2326.14 L1921.65 2326.14 L1905.99 2365.09 Z\" fill=\"#000000\" fill-rule=\"evenodd\" fill-opacity=\"1\" /><path clip-path=\"url(#clip240)\" d=\"M1949.91 2312.26 L1963.4 2312.26 L1963.4 2316.81 L1955.77 2316.81 L1955.77 2365.83 L1963.4 2365.83 L1963.4 2370.38 L1949.91 2370.38 L1949.91 2312.26 Z\" fill=\"#000000\" fill-rule=\"evenodd\" fill-opacity=\"1\" /><path clip-path=\"url(#clip240)\" d=\"M2017.13 2340.87 Q2014.36 2340.87 2012.77 2343.23 Q2011.21 2345.58 2011.21 2349.78 Q2011.21 2353.92 2012.77 2356.31 Q2014.36 2358.66 2017.13 2358.66 Q2019.84 2358.66 2021.4 2356.31 Q2022.99 2353.92 2022.99 2349.78 Q2022.99 2345.61 2021.4 2343.26 Q2019.84 2340.87 2017.13 2340.87 M2017.13 2336.83 Q2022.16 2336.83 2025.12 2340.33 Q2028.08 2343.83 2028.08 2349.78 Q2028.08 2355.74 2025.09 2359.24 Q2022.13 2362.71 2017.13 2362.71 Q2012.04 2362.71 2009.08 2359.24 Q2006.12 2355.74 2006.12 2349.78 Q2006.12 2343.8 2009.08 2340.33 Q2012.07 2336.83 2017.13 2336.83 M1984.28 2317.45 Q1981.55 2317.45 1979.95 2319.83 Q1978.4 2322.19 1978.4 2326.33 Q1978.4 2330.53 1979.95 2332.88 Q1981.51 2335.24 1984.28 2335.24 Q1987.05 2335.24 1988.61 2332.88 Q1990.2 2330.53 1990.2 2326.33 Q1990.2 2322.22 1988.61 2319.83 Q1987.02 2317.45 1984.28 2317.45 M2013.02 2313.4 L2018.12 2313.4 L1988.39 2362.71 L1983.3 2362.71 L2013.02 2313.4 M1984.28 2313.4 Q1989.31 2313.4 1992.3 2316.91 Q1995.3 2320.37 1995.3 2326.33 Q1995.3 2332.34 1992.3 2335.81 Q1989.34 2339.28 1984.28 2339.28 Q1979.22 2339.28 1976.26 2335.81 Q1973.33 2332.31 1973.33 2326.33 Q1973.33 2320.41 1976.29 2316.91 Q1979.25 2313.4 1984.28 2313.4 Z\" fill=\"#000000\" fill-rule=\"evenodd\" fill-opacity=\"1\" /><path clip-path=\"url(#clip240)\" d=\"M2051.51 2312.26 L2051.51 2370.38 L2038.01 2370.38 L2038.01 2365.83 L2045.62 2365.83 L2045.62 2316.81 L2038.01 2316.81 L2038.01 2312.26 L2051.51 2312.26 Z\" fill=\"#000000\" fill-rule=\"evenodd\" fill-opacity=\"1\" /><polyline clip-path=\"url(#clip242)\" style=\"stroke:#000000; stroke-linecap:round; stroke-linejoin:round; stroke-width:2; stroke-opacity:0.1; fill:none\" points=\"278.227,2017.74 3152.76,2017.74 \"/>\n",
       "<polyline clip-path=\"url(#clip242)\" style=\"stroke:#000000; stroke-linecap:round; stroke-linejoin:round; stroke-width:2; stroke-opacity:0.1; fill:none\" points=\"278.227,1397.08 3152.76,1397.08 \"/>\n",
       "<polyline clip-path=\"url(#clip242)\" style=\"stroke:#000000; stroke-linecap:round; stroke-linejoin:round; stroke-width:2; stroke-opacity:0.1; fill:none\" points=\"278.227,776.424 3152.76,776.424 \"/>\n",
       "<polyline clip-path=\"url(#clip242)\" style=\"stroke:#000000; stroke-linecap:round; stroke-linejoin:round; stroke-width:2; stroke-opacity:0.1; fill:none\" points=\"278.227,155.768 3152.76,155.768 \"/>\n",
       "<polyline clip-path=\"url(#clip240)\" style=\"stroke:#000000; stroke-linecap:round; stroke-linejoin:round; stroke-width:4; stroke-opacity:1; fill:none\" points=\"278.227,2204.92 278.227,131.032 \"/>\n",
       "<polyline clip-path=\"url(#clip240)\" style=\"stroke:#000000; stroke-linecap:round; stroke-linejoin:round; stroke-width:4; stroke-opacity:1; fill:none\" points=\"278.227,2017.74 297.125,2017.74 \"/>\n",
       "<polyline clip-path=\"url(#clip240)\" style=\"stroke:#000000; stroke-linecap:round; stroke-linejoin:round; stroke-width:4; stroke-opacity:1; fill:none\" points=\"278.227,1397.08 297.125,1397.08 \"/>\n",
       "<polyline clip-path=\"url(#clip240)\" style=\"stroke:#000000; stroke-linecap:round; stroke-linejoin:round; stroke-width:4; stroke-opacity:1; fill:none\" points=\"278.227,776.424 297.125,776.424 \"/>\n",
       "<polyline clip-path=\"url(#clip240)\" style=\"stroke:#000000; stroke-linecap:round; stroke-linejoin:round; stroke-width:4; stroke-opacity:1; fill:none\" points=\"278.227,155.768 297.125,155.768 \"/>\n",
       "<path clip-path=\"url(#clip240)\" d=\"M118.608 2031.08 L126.246 2031.08 L126.246 2004.71 L117.936 2006.38 L117.936 2002.12 L126.2 2000.46 L130.876 2000.46 L130.876 2031.08 L138.515 2031.08 L138.515 2035.02 L118.608 2035.02 L118.608 2031.08 Z\" fill=\"#000000\" fill-rule=\"evenodd\" fill-opacity=\"1\" /><path clip-path=\"url(#clip240)\" d=\"M157.959 2003.53 Q154.348 2003.53 152.519 2007.1 Q150.714 2010.64 150.714 2017.77 Q150.714 2024.88 152.519 2028.44 Q154.348 2031.98 157.959 2031.98 Q161.593 2031.98 163.399 2028.44 Q165.228 2024.88 165.228 2017.77 Q165.228 2010.64 163.399 2007.1 Q161.593 2003.53 157.959 2003.53 M157.959 1999.83 Q163.769 1999.83 166.825 2004.44 Q169.904 2009.02 169.904 2017.77 Q169.904 2026.5 166.825 2031.1 Q163.769 2035.69 157.959 2035.69 Q152.149 2035.69 149.07 2031.1 Q146.015 2026.5 146.015 2017.77 Q146.015 2009.02 149.07 2004.44 Q152.149 1999.83 157.959 1999.83 Z\" fill=\"#000000\" fill-rule=\"evenodd\" fill-opacity=\"1\" /><path clip-path=\"url(#clip240)\" d=\"M188.121 2003.53 Q184.51 2003.53 182.681 2007.1 Q180.876 2010.64 180.876 2017.77 Q180.876 2024.88 182.681 2028.44 Q184.51 2031.98 188.121 2031.98 Q191.755 2031.98 193.561 2028.44 Q195.39 2024.88 195.39 2017.77 Q195.39 2010.64 193.561 2007.1 Q191.755 2003.53 188.121 2003.53 M188.121 1999.83 Q193.931 1999.83 196.987 2004.44 Q200.065 2009.02 200.065 2017.77 Q200.065 2026.5 196.987 2031.1 Q193.931 2035.69 188.121 2035.69 Q182.311 2035.69 179.232 2031.1 Q176.177 2026.5 176.177 2017.77 Q176.177 2009.02 179.232 2004.44 Q182.311 1999.83 188.121 1999.83 Z\" fill=\"#000000\" fill-rule=\"evenodd\" fill-opacity=\"1\" /><path clip-path=\"url(#clip240)\" d=\"M218.283 2003.53 Q214.672 2003.53 212.843 2007.1 Q211.038 2010.64 211.038 2017.77 Q211.038 2024.88 212.843 2028.44 Q214.672 2031.98 218.283 2031.98 Q221.917 2031.98 223.723 2028.44 Q225.551 2024.88 225.551 2017.77 Q225.551 2010.64 223.723 2007.1 Q221.917 2003.53 218.283 2003.53 M218.283 1999.83 Q224.093 1999.83 227.149 2004.44 Q230.227 2009.02 230.227 2017.77 Q230.227 2026.5 227.149 2031.1 Q224.093 2035.69 218.283 2035.69 Q212.473 2035.69 209.394 2031.1 Q206.339 2026.5 206.339 2017.77 Q206.339 2009.02 209.394 2004.44 Q212.473 1999.83 218.283 1999.83 Z\" fill=\"#000000\" fill-rule=\"evenodd\" fill-opacity=\"1\" /><path clip-path=\"url(#clip240)\" d=\"M118.608 1410.42 L126.246 1410.42 L126.246 1384.06 L117.936 1385.73 L117.936 1381.47 L126.2 1379.8 L130.876 1379.8 L130.876 1410.42 L138.515 1410.42 L138.515 1414.36 L118.608 1414.36 L118.608 1410.42 Z\" fill=\"#000000\" fill-rule=\"evenodd\" fill-opacity=\"1\" /><path clip-path=\"url(#clip240)\" d=\"M148.006 1379.8 L166.362 1379.8 L166.362 1383.73 L152.288 1383.73 L152.288 1392.21 Q153.306 1391.86 154.325 1391.7 Q155.343 1391.51 156.362 1391.51 Q162.149 1391.51 165.529 1394.68 Q168.908 1397.86 168.908 1403.27 Q168.908 1408.85 165.436 1411.95 Q161.964 1415.03 155.644 1415.03 Q153.468 1415.03 151.2 1414.66 Q148.955 1414.29 146.547 1413.55 L146.547 1408.85 Q148.631 1409.98 150.853 1410.54 Q153.075 1411.1 155.552 1411.1 Q159.556 1411.1 161.894 1408.99 Q164.232 1406.88 164.232 1403.27 Q164.232 1399.66 161.894 1397.55 Q159.556 1395.45 155.552 1395.45 Q153.677 1395.45 151.802 1395.86 Q149.95 1396.28 148.006 1397.16 L148.006 1379.8 Z\" fill=\"#000000\" fill-rule=\"evenodd\" fill-opacity=\"1\" /><path clip-path=\"url(#clip240)\" d=\"M188.121 1382.88 Q184.51 1382.88 182.681 1386.44 Q180.876 1389.98 180.876 1397.11 Q180.876 1404.22 182.681 1407.79 Q184.51 1411.33 188.121 1411.33 Q191.755 1411.33 193.561 1407.79 Q195.39 1404.22 195.39 1397.11 Q195.39 1389.98 193.561 1386.44 Q191.755 1382.88 188.121 1382.88 M188.121 1379.17 Q193.931 1379.17 196.987 1383.78 Q200.065 1388.36 200.065 1397.11 Q200.065 1405.84 196.987 1410.45 Q193.931 1415.03 188.121 1415.03 Q182.311 1415.03 179.232 1410.45 Q176.177 1405.84 176.177 1397.11 Q176.177 1388.36 179.232 1383.78 Q182.311 1379.17 188.121 1379.17 Z\" fill=\"#000000\" fill-rule=\"evenodd\" fill-opacity=\"1\" /><path clip-path=\"url(#clip240)\" d=\"M218.283 1382.88 Q214.672 1382.88 212.843 1386.44 Q211.038 1389.98 211.038 1397.11 Q211.038 1404.22 212.843 1407.79 Q214.672 1411.33 218.283 1411.33 Q221.917 1411.33 223.723 1407.79 Q225.551 1404.22 225.551 1397.11 Q225.551 1389.98 223.723 1386.44 Q221.917 1382.88 218.283 1382.88 M218.283 1379.17 Q224.093 1379.17 227.149 1383.78 Q230.227 1388.36 230.227 1397.11 Q230.227 1405.84 227.149 1410.45 Q224.093 1415.03 218.283 1415.03 Q212.473 1415.03 209.394 1410.45 Q206.339 1405.84 206.339 1397.11 Q206.339 1388.36 209.394 1383.78 Q212.473 1379.17 218.283 1379.17 Z\" fill=\"#000000\" fill-rule=\"evenodd\" fill-opacity=\"1\" /><path clip-path=\"url(#clip240)\" d=\"M121.825 789.769 L138.144 789.769 L138.144 793.704 L116.2 793.704 L116.2 789.769 Q118.862 787.014 123.445 782.385 Q128.052 777.732 129.232 776.389 Q131.478 773.866 132.357 772.13 Q133.26 770.371 133.26 768.681 Q133.26 765.926 131.316 764.19 Q129.395 762.454 126.293 762.454 Q124.094 762.454 121.64 763.218 Q119.209 763.982 116.432 765.533 L116.432 760.811 Q119.256 759.676 121.709 759.098 Q124.163 758.519 126.2 758.519 Q131.57 758.519 134.765 761.204 Q137.959 763.889 137.959 768.38 Q137.959 770.51 137.149 772.431 Q136.362 774.329 134.256 776.922 Q133.677 777.593 130.575 780.81 Q127.473 784.005 121.825 789.769 Z\" fill=\"#000000\" fill-rule=\"evenodd\" fill-opacity=\"1\" /><path clip-path=\"url(#clip240)\" d=\"M157.959 762.223 Q154.348 762.223 152.519 765.787 Q150.714 769.329 150.714 776.459 Q150.714 783.565 152.519 787.13 Q154.348 790.672 157.959 790.672 Q161.593 790.672 163.399 787.13 Q165.228 783.565 165.228 776.459 Q165.228 769.329 163.399 765.787 Q161.593 762.223 157.959 762.223 M157.959 758.519 Q163.769 758.519 166.825 763.125 Q169.904 767.709 169.904 776.459 Q169.904 785.185 166.825 789.792 Q163.769 794.375 157.959 794.375 Q152.149 794.375 149.07 789.792 Q146.015 785.185 146.015 776.459 Q146.015 767.709 149.07 763.125 Q152.149 758.519 157.959 758.519 Z\" fill=\"#000000\" fill-rule=\"evenodd\" fill-opacity=\"1\" /><path clip-path=\"url(#clip240)\" d=\"M188.121 762.223 Q184.51 762.223 182.681 765.787 Q180.876 769.329 180.876 776.459 Q180.876 783.565 182.681 787.13 Q184.51 790.672 188.121 790.672 Q191.755 790.672 193.561 787.13 Q195.39 783.565 195.39 776.459 Q195.39 769.329 193.561 765.787 Q191.755 762.223 188.121 762.223 M188.121 758.519 Q193.931 758.519 196.987 763.125 Q200.065 767.709 200.065 776.459 Q200.065 785.185 196.987 789.792 Q193.931 794.375 188.121 794.375 Q182.311 794.375 179.232 789.792 Q176.177 785.185 176.177 776.459 Q176.177 767.709 179.232 763.125 Q182.311 758.519 188.121 758.519 Z\" fill=\"#000000\" fill-rule=\"evenodd\" fill-opacity=\"1\" /><path clip-path=\"url(#clip240)\" d=\"M218.283 762.223 Q214.672 762.223 212.843 765.787 Q211.038 769.329 211.038 776.459 Q211.038 783.565 212.843 787.13 Q214.672 790.672 218.283 790.672 Q221.917 790.672 223.723 787.13 Q225.551 783.565 225.551 776.459 Q225.551 769.329 223.723 765.787 Q221.917 762.223 218.283 762.223 M218.283 758.519 Q224.093 758.519 227.149 763.125 Q230.227 767.709 230.227 776.459 Q230.227 785.185 227.149 789.792 Q224.093 794.375 218.283 794.375 Q212.473 794.375 209.394 789.792 Q206.339 785.185 206.339 776.459 Q206.339 767.709 209.394 763.125 Q212.473 758.519 218.283 758.519 Z\" fill=\"#000000\" fill-rule=\"evenodd\" fill-opacity=\"1\" /><path clip-path=\"url(#clip240)\" d=\"M121.825 169.113 L138.144 169.113 L138.144 173.048 L116.2 173.048 L116.2 169.113 Q118.862 166.358 123.445 161.729 Q128.052 157.076 129.232 155.734 Q131.478 153.21 132.357 151.474 Q133.26 149.715 133.26 148.025 Q133.26 145.271 131.316 143.535 Q129.395 141.798 126.293 141.798 Q124.094 141.798 121.64 142.562 Q119.209 143.326 116.432 144.877 L116.432 140.155 Q119.256 139.021 121.709 138.442 Q124.163 137.863 126.2 137.863 Q131.57 137.863 134.765 140.548 Q137.959 143.234 137.959 147.724 Q137.959 149.854 137.149 151.775 Q136.362 153.673 134.256 156.266 Q133.677 156.937 130.575 160.155 Q127.473 163.349 121.825 169.113 Z\" fill=\"#000000\" fill-rule=\"evenodd\" fill-opacity=\"1\" /><path clip-path=\"url(#clip240)\" d=\"M148.006 138.488 L166.362 138.488 L166.362 142.423 L152.288 142.423 L152.288 150.896 Q153.306 150.548 154.325 150.386 Q155.343 150.201 156.362 150.201 Q162.149 150.201 165.529 153.372 Q168.908 156.544 168.908 161.96 Q168.908 167.539 165.436 170.641 Q161.964 173.72 155.644 173.72 Q153.468 173.72 151.2 173.349 Q148.955 172.979 146.547 172.238 L146.547 167.539 Q148.631 168.673 150.853 169.229 Q153.075 169.784 155.552 169.784 Q159.556 169.784 161.894 167.678 Q164.232 165.571 164.232 161.96 Q164.232 158.349 161.894 156.243 Q159.556 154.136 155.552 154.136 Q153.677 154.136 151.802 154.553 Q149.95 154.97 148.006 155.849 L148.006 138.488 Z\" fill=\"#000000\" fill-rule=\"evenodd\" fill-opacity=\"1\" /><path clip-path=\"url(#clip240)\" d=\"M188.121 141.567 Q184.51 141.567 182.681 145.132 Q180.876 148.673 180.876 155.803 Q180.876 162.909 182.681 166.474 Q184.51 170.016 188.121 170.016 Q191.755 170.016 193.561 166.474 Q195.39 162.909 195.39 155.803 Q195.39 148.673 193.561 145.132 Q191.755 141.567 188.121 141.567 M188.121 137.863 Q193.931 137.863 196.987 142.47 Q200.065 147.053 200.065 155.803 Q200.065 164.53 196.987 169.136 Q193.931 173.72 188.121 173.72 Q182.311 173.72 179.232 169.136 Q176.177 164.53 176.177 155.803 Q176.177 147.053 179.232 142.47 Q182.311 137.863 188.121 137.863 Z\" fill=\"#000000\" fill-rule=\"evenodd\" fill-opacity=\"1\" /><path clip-path=\"url(#clip240)\" d=\"M218.283 141.567 Q214.672 141.567 212.843 145.132 Q211.038 148.673 211.038 155.803 Q211.038 162.909 212.843 166.474 Q214.672 170.016 218.283 170.016 Q221.917 170.016 223.723 166.474 Q225.551 162.909 225.551 155.803 Q225.551 148.673 223.723 145.132 Q221.917 141.567 218.283 141.567 M218.283 137.863 Q224.093 137.863 227.149 142.47 Q230.227 147.053 230.227 155.803 Q230.227 164.53 227.149 169.136 Q224.093 173.72 218.283 173.72 Q212.473 173.72 209.394 169.136 Q206.339 164.53 206.339 155.803 Q206.339 147.053 209.394 142.47 Q212.473 137.863 218.283 137.863 Z\" fill=\"#000000\" fill-rule=\"evenodd\" fill-opacity=\"1\" /><path clip-path=\"url(#clip240)\" d=\"M11.7077 1242.58 L29.5635 1242.58 L29.5635 1234.5 Q29.5635 1230.01 27.24 1227.56 Q24.9165 1225.11 20.6197 1225.11 Q16.3547 1225.11 14.0312 1227.56 Q11.7077 1230.01 11.7077 1234.5 L11.7077 1242.58 M6.42416 1249.01 L6.42416 1234.5 Q6.42416 1226.51 10.0526 1222.43 Q13.6492 1218.33 20.6197 1218.33 Q27.6538 1218.33 31.2504 1222.43 Q34.847 1226.51 34.847 1234.5 L34.847 1242.58 L53.9442 1242.58 L53.9442 1249.01 L6.42416 1249.01 Z\" fill=\"#000000\" fill-rule=\"evenodd\" fill-opacity=\"1\" /><path clip-path=\"url(#clip240)\" d=\"M23.7707 1190.45 Q23.1978 1191.43 22.9432 1192.61 Q22.6567 1193.76 22.6567 1195.16 Q22.6567 1200.12 25.9032 1202.8 Q29.1179 1205.44 35.1653 1205.44 L53.9442 1205.44 L53.9442 1211.33 L18.2962 1211.33 L18.2962 1205.44 L23.8344 1205.44 Q20.5879 1203.59 19.0283 1200.63 Q17.4368 1197.67 17.4368 1193.44 Q17.4368 1192.83 17.5323 1192.1 Q17.596 1191.37 17.7551 1190.48 L23.7707 1190.45 Z\" fill=\"#000000\" fill-rule=\"evenodd\" fill-opacity=\"1\" /><path clip-path=\"url(#clip240)\" d=\"M22.4021 1171.92 Q22.4021 1176.63 26.0942 1179.37 Q29.7545 1182.11 36.152 1182.11 Q42.5495 1182.11 46.2417 1179.4 Q49.9019 1176.67 49.9019 1171.92 Q49.9019 1167.24 46.2098 1164.51 Q42.5177 1161.77 36.152 1161.77 Q29.8181 1161.77 26.126 1164.51 Q22.4021 1167.24 22.4021 1171.92 M17.4368 1171.92 Q17.4368 1164.28 22.4021 1159.92 Q27.3673 1155.56 36.152 1155.56 Q44.9049 1155.56 49.9019 1159.92 Q54.8672 1164.28 54.8672 1171.92 Q54.8672 1179.59 49.9019 1183.95 Q44.9049 1188.28 36.152 1188.28 Q27.3673 1188.28 22.4021 1183.95 Q17.4368 1179.59 17.4368 1171.92 Z\" fill=\"#000000\" fill-rule=\"evenodd\" fill-opacity=\"1\" /><path clip-path=\"url(#clip240)\" d=\"M4.41896 1127.81 L9.28873 1127.81 L9.28873 1133.41 Q9.28873 1136.56 10.5619 1137.8 Q11.835 1139.01 15.1452 1139.01 L18.2962 1139.01 L18.2962 1129.37 L22.8477 1129.37 L22.8477 1139.01 L53.9442 1139.01 L53.9442 1144.9 L22.8477 1144.9 L22.8477 1150.5 L18.2962 1150.5 L18.2962 1144.9 L15.8136 1144.9 Q9.86164 1144.9 7.15621 1142.13 Q4.41896 1139.36 4.41896 1133.35 L4.41896 1127.81 Z\" fill=\"#000000\" fill-rule=\"evenodd\" fill-opacity=\"1\" /><path clip-path=\"url(#clip240)\" d=\"M18.2962 1122.91 L18.2962 1117.05 L53.9442 1117.05 L53.9442 1122.91 L18.2962 1122.91 M4.41896 1122.91 L4.41896 1117.05 L11.835 1117.05 L11.835 1122.91 L4.41896 1122.91 Z\" fill=\"#000000\" fill-rule=\"evenodd\" fill-opacity=\"1\" /><path clip-path=\"url(#clip240)\" d=\"M8.17473 1099 L18.2962 1099 L18.2962 1086.94 L22.8477 1086.94 L22.8477 1099 L42.1994 1099 Q46.5599 1099 47.8013 1097.83 Q49.0426 1096.62 49.0426 1092.96 L49.0426 1086.94 L53.9442 1086.94 L53.9442 1092.96 Q53.9442 1099.74 51.4297 1102.31 Q48.8834 1104.89 42.1994 1104.89 L22.8477 1104.89 L22.8477 1109.19 L18.2962 1109.19 L18.2962 1104.89 L8.17473 1104.89 L8.17473 1099 Z\" fill=\"#000000\" fill-rule=\"evenodd\" fill-opacity=\"1\" /><path clip-path=\"url(#clip240)\" d=\"M465.18 16.7545 L465.18 25.383 Q461.048 21.5346 456.349 19.6307 Q451.691 17.7268 446.424 17.7268 Q436.054 17.7268 430.545 24.0867 Q425.036 30.4061 425.036 42.3968 Q425.036 54.3469 430.545 60.7069 Q436.054 67.0263 446.424 67.0263 Q451.691 67.0263 456.349 65.1223 Q461.048 63.2184 465.18 59.3701 L465.18 67.9175 Q460.886 70.8341 456.065 72.2924 Q451.285 73.7508 445.938 73.7508 Q432.206 73.7508 424.306 65.3654 Q416.407 56.9395 416.407 42.3968 Q416.407 27.8135 424.306 19.4281 Q432.206 11.0023 445.938 11.0023 Q451.366 11.0023 456.147 12.4606 Q460.967 13.8784 465.18 16.7545 Z\" fill=\"#000000\" fill-rule=\"evenodd\" fill-opacity=\"1\" /><path clip-path=\"url(#clip240)\" d=\"M515.209 45.1919 L515.209 72.576 L507.755 72.576 L507.755 45.4349 Q507.755 38.994 505.243 35.7938 Q502.732 32.5936 497.709 32.5936 Q491.673 32.5936 488.189 36.4419 Q484.705 40.2903 484.705 46.9338 L484.705 72.576 L477.211 72.576 L477.211 9.54393 L484.705 9.54393 L484.705 34.2544 Q487.379 30.163 490.984 28.1376 Q494.63 26.1121 499.37 26.1121 Q507.188 26.1121 511.198 30.9732 Q515.209 35.7938 515.209 45.1919 Z\" fill=\"#000000\" fill-rule=\"evenodd\" fill-opacity=\"1\" /><path clip-path=\"url(#clip240)\" d=\"M550.695 49.7694 Q541.661 49.7694 538.177 51.8354 Q534.694 53.9013 534.694 58.8839 Q534.694 62.8538 537.286 65.2034 Q539.919 67.5124 544.416 67.5124 Q550.614 67.5124 554.34 63.1374 Q558.108 58.7219 558.108 51.4303 L558.108 49.7694 L550.695 49.7694 M565.561 46.6907 L565.561 72.576 L558.108 72.576 L558.108 65.6895 Q555.556 69.8214 551.748 71.8063 Q547.94 73.7508 542.431 73.7508 Q535.463 73.7508 531.331 69.8619 Q527.24 65.9325 527.24 59.3701 Q527.24 51.7138 532.344 47.825 Q537.489 43.9361 547.656 43.9361 L558.108 43.9361 L558.108 43.2069 Q558.108 38.0623 554.705 35.2672 Q551.343 32.4315 545.226 32.4315 Q541.337 32.4315 537.651 33.3632 Q533.964 34.295 530.562 36.1584 L530.562 29.2718 Q534.653 27.692 538.501 26.9223 Q542.35 26.1121 545.996 26.1121 Q555.839 26.1121 560.7 31.2163 Q565.561 36.3204 565.561 46.6907 Z\" fill=\"#000000\" fill-rule=\"evenodd\" fill-opacity=\"1\" /><path clip-path=\"url(#clip240)\" d=\"M607.205 34.1734 Q605.949 33.4443 604.45 33.1202 Q602.992 32.7556 601.209 32.7556 Q594.89 32.7556 591.487 36.8875 Q588.125 40.9789 588.125 48.6757 L588.125 72.576 L580.631 72.576 L580.631 27.2059 L588.125 27.2059 L588.125 34.2544 Q590.474 30.1225 594.242 28.1376 Q598.009 26.1121 603.397 26.1121 Q604.167 26.1121 605.098 26.2337 Q606.03 26.3147 607.164 26.5172 L607.205 34.1734 Z\" fill=\"#000000\" fill-rule=\"evenodd\" fill-opacity=\"1\" /><path clip-path=\"url(#clip240)\" d=\"M622.396 14.324 L622.396 27.2059 L637.749 27.2059 L637.749 32.9987 L622.396 32.9987 L622.396 57.6282 Q622.396 63.1779 623.894 64.7578 Q625.434 66.3376 630.092 66.3376 L637.749 66.3376 L637.749 72.576 L630.092 72.576 Q621.464 72.576 618.183 69.3758 Q614.901 66.1351 614.901 57.6282 L614.901 32.9987 L609.433 32.9987 L609.433 27.2059 L614.901 27.2059 L614.901 14.324 L622.396 14.324 Z\" fill=\"#000000\" fill-rule=\"evenodd\" fill-opacity=\"1\" /><path clip-path=\"url(#clip240)\" d=\"M691.504 32.4315 Q685.509 32.4315 682.025 37.1306 Q678.541 41.7891 678.541 49.9314 Q678.541 58.0738 681.984 62.7728 Q685.468 67.4314 691.504 67.4314 Q697.459 67.4314 700.943 62.7323 Q704.426 58.0333 704.426 49.9314 Q704.426 41.8701 700.943 37.1711 Q697.459 32.4315 691.504 32.4315 M691.504 26.1121 Q701.226 26.1121 706.776 32.4315 Q712.326 38.7509 712.326 49.9314 Q712.326 61.0714 706.776 67.4314 Q701.226 73.7508 691.504 73.7508 Q681.741 73.7508 676.192 67.4314 Q670.682 61.0714 670.682 49.9314 Q670.682 38.7509 676.192 32.4315 Q681.741 26.1121 691.504 26.1121 Z\" fill=\"#000000\" fill-rule=\"evenodd\" fill-opacity=\"1\" /><path clip-path=\"url(#clip240)\" d=\"M747.65 9.54393 L747.65 15.7418 L740.52 15.7418 Q736.51 15.7418 734.93 17.3622 Q733.39 18.9825 733.39 23.1955 L733.39 27.2059 L745.665 27.2059 L745.665 32.9987 L733.39 32.9987 L733.39 72.576 L725.896 72.576 L725.896 32.9987 L718.767 32.9987 L718.767 27.2059 L725.896 27.2059 L725.896 24.0462 Q725.896 16.471 729.421 13.0277 Q732.945 9.54393 740.601 9.54393 L747.65 9.54393 Z\" fill=\"#000000\" fill-rule=\"evenodd\" fill-opacity=\"1\" /><path clip-path=\"url(#clip240)\" d=\"M787.632 14.324 L787.632 27.2059 L802.985 27.2059 L802.985 32.9987 L787.632 32.9987 L787.632 57.6282 Q787.632 63.1779 789.131 64.7578 Q790.67 66.3376 795.329 66.3376 L802.985 66.3376 L802.985 72.576 L795.329 72.576 Q786.7 72.576 783.419 69.3758 Q780.138 66.1351 780.138 57.6282 L780.138 32.9987 L774.669 32.9987 L774.669 27.2059 L780.138 27.2059 L780.138 14.324 L787.632 14.324 Z\" fill=\"#000000\" fill-rule=\"evenodd\" fill-opacity=\"1\" /><path clip-path=\"url(#clip240)\" d=\"M850.502 45.1919 L850.502 72.576 L843.048 72.576 L843.048 45.4349 Q843.048 38.994 840.537 35.7938 Q838.025 32.5936 833.002 32.5936 Q826.966 32.5936 823.483 36.4419 Q819.999 40.2903 819.999 46.9338 L819.999 72.576 L812.505 72.576 L812.505 9.54393 L819.999 9.54393 L819.999 34.2544 Q822.672 30.163 826.278 28.1376 Q829.923 26.1121 834.663 26.1121 Q842.481 26.1121 846.492 30.9732 Q850.502 35.7938 850.502 45.1919 Z\" fill=\"#000000\" fill-rule=\"evenodd\" fill-opacity=\"1\" /><path clip-path=\"url(#clip240)\" d=\"M904.177 48.0275 L904.177 51.6733 L869.906 51.6733 Q870.392 59.3701 874.524 63.421 Q878.696 67.4314 886.109 67.4314 Q890.403 67.4314 894.414 66.3781 Q898.465 65.3249 902.435 63.2184 L902.435 70.267 Q898.424 71.9684 894.211 72.8596 Q889.998 73.7508 885.664 73.7508 Q874.807 73.7508 868.448 67.4314 Q862.128 61.1119 862.128 50.3365 Q862.128 39.1965 868.123 32.6746 Q874.159 26.1121 884.368 26.1121 Q893.523 26.1121 898.829 32.0264 Q904.177 37.9003 904.177 48.0275 M896.723 45.84 Q896.642 39.7232 893.28 36.0774 Q889.958 32.4315 884.449 32.4315 Q878.21 32.4315 874.443 35.9558 Q870.716 39.4801 870.149 45.8805 L896.723 45.84 Z\" fill=\"#000000\" fill-rule=\"evenodd\" fill-opacity=\"1\" /><path clip-path=\"url(#clip240)\" d=\"M975.432 28.9478 L975.432 35.9153 Q972.272 34.1734 969.072 33.3227 Q965.912 32.4315 962.672 32.4315 Q955.42 32.4315 951.41 37.0496 Q947.4 41.6271 947.4 49.9314 Q947.4 58.2358 951.41 62.8538 Q955.42 67.4314 962.672 67.4314 Q965.912 67.4314 969.072 66.5807 Q972.272 65.6895 975.432 63.9476 L975.432 70.8341 Q972.313 72.2924 968.95 73.0216 Q965.629 73.7508 961.861 73.7508 Q951.613 73.7508 945.577 67.3098 Q939.541 60.8689 939.541 49.9314 Q939.541 38.832 945.617 32.472 Q951.734 26.1121 962.348 26.1121 Q965.791 26.1121 969.072 26.8413 Q972.353 27.5299 975.432 28.9478 Z\" fill=\"#000000\" fill-rule=\"evenodd\" fill-opacity=\"1\" /><path clip-path=\"url(#clip240)\" d=\"M1026.11 45.1919 L1026.11 72.576 L1018.66 72.576 L1018.66 45.4349 Q1018.66 38.994 1016.14 35.7938 Q1013.63 32.5936 1008.61 32.5936 Q1002.57 32.5936 999.089 36.4419 Q995.605 40.2903 995.605 46.9338 L995.605 72.576 L988.111 72.576 L988.111 9.54393 L995.605 9.54393 L995.605 34.2544 Q998.279 30.163 1001.88 28.1376 Q1005.53 26.1121 1010.27 26.1121 Q1018.09 26.1121 1022.1 30.9732 Q1026.11 35.7938 1026.11 45.1919 Z\" fill=\"#000000\" fill-rule=\"evenodd\" fill-opacity=\"1\" /><path clip-path=\"url(#clip240)\" d=\"M1061.59 49.7694 Q1052.56 49.7694 1049.08 51.8354 Q1045.59 53.9013 1045.59 58.8839 Q1045.59 62.8538 1048.19 65.2034 Q1050.82 67.5124 1055.32 67.5124 Q1061.51 67.5124 1065.24 63.1374 Q1069.01 58.7219 1069.01 51.4303 L1069.01 49.7694 L1061.59 49.7694 M1076.46 46.6907 L1076.46 72.576 L1069.01 72.576 L1069.01 65.6895 Q1066.46 69.8214 1062.65 71.8063 Q1058.84 73.7508 1053.33 73.7508 Q1046.36 73.7508 1042.23 69.8619 Q1038.14 65.9325 1038.14 59.3701 Q1038.14 51.7138 1043.24 47.825 Q1048.39 43.9361 1058.56 43.9361 L1069.01 43.9361 L1069.01 43.2069 Q1069.01 38.0623 1065.61 35.2672 Q1062.24 32.4315 1056.13 32.4315 Q1052.24 32.4315 1048.55 33.3632 Q1044.86 34.295 1041.46 36.1584 L1041.46 29.2718 Q1045.55 27.692 1049.4 26.9223 Q1053.25 26.1121 1056.9 26.1121 Q1066.74 26.1121 1071.6 31.2163 Q1076.46 36.3204 1076.46 46.6907 Z\" fill=\"#000000\" fill-rule=\"evenodd\" fill-opacity=\"1\" /><path clip-path=\"url(#clip240)\" d=\"M1129.53 45.1919 L1129.53 72.576 L1122.07 72.576 L1122.07 45.4349 Q1122.07 38.994 1119.56 35.7938 Q1117.05 32.5936 1112.03 32.5936 Q1105.99 32.5936 1102.51 36.4419 Q1099.03 40.2903 1099.03 46.9338 L1099.03 72.576 L1091.53 72.576 L1091.53 27.2059 L1099.03 27.2059 L1099.03 34.2544 Q1101.7 30.163 1105.3 28.1376 Q1108.95 26.1121 1113.69 26.1121 Q1121.51 26.1121 1125.52 30.9732 Q1129.53 35.7938 1129.53 45.1919 Z\" fill=\"#000000\" fill-rule=\"evenodd\" fill-opacity=\"1\" /><path clip-path=\"url(#clip240)\" d=\"M1174.25 49.3643 Q1174.25 41.2625 1170.89 36.8065 Q1167.57 32.3505 1161.53 32.3505 Q1155.54 32.3505 1152.17 36.8065 Q1148.85 41.2625 1148.85 49.3643 Q1148.85 57.4256 1152.17 61.8816 Q1155.54 66.3376 1161.53 66.3376 Q1167.57 66.3376 1170.89 61.8816 Q1174.25 57.4256 1174.25 49.3643 M1181.7 66.9452 Q1181.7 78.5308 1176.56 84.1616 Q1171.41 89.8329 1160.8 89.8329 Q1156.87 89.8329 1153.39 89.2252 Q1149.9 88.6581 1146.62 87.4428 L1146.62 80.1917 Q1149.9 81.9741 1153.1 82.8248 Q1156.3 83.6755 1159.63 83.6755 Q1166.96 83.6755 1170.6 79.8271 Q1174.25 76.0193 1174.25 68.282 L1174.25 64.5957 Q1171.94 68.6061 1168.34 70.5911 Q1164.73 72.576 1159.71 72.576 Q1151.36 72.576 1146.26 66.2161 Q1141.15 59.8562 1141.15 49.3643 Q1141.15 38.832 1146.26 32.472 Q1151.36 26.1121 1159.71 26.1121 Q1164.73 26.1121 1168.34 28.0971 Q1171.94 30.082 1174.25 34.0924 L1174.25 27.2059 L1181.7 27.2059 L1181.7 66.9452 Z\" fill=\"#000000\" fill-rule=\"evenodd\" fill-opacity=\"1\" /><path clip-path=\"url(#clip240)\" d=\"M1235.86 48.0275 L1235.86 51.6733 L1201.59 51.6733 Q1202.08 59.3701 1206.21 63.421 Q1210.38 67.4314 1217.8 67.4314 Q1222.09 67.4314 1226.1 66.3781 Q1230.15 65.3249 1234.12 63.2184 L1234.12 70.267 Q1230.11 71.9684 1225.9 72.8596 Q1221.69 73.7508 1217.35 73.7508 Q1206.5 73.7508 1200.14 67.4314 Q1193.82 61.1119 1193.82 50.3365 Q1193.82 39.1965 1199.81 32.6746 Q1205.85 26.1121 1216.06 26.1121 Q1225.21 26.1121 1230.52 32.0264 Q1235.86 37.9003 1235.86 48.0275 M1228.41 45.84 Q1228.33 39.7232 1224.97 36.0774 Q1221.65 32.4315 1216.14 32.4315 Q1209.9 32.4315 1206.13 35.9558 Q1202.4 39.4801 1201.84 45.8805 L1228.41 45.84 Z\" fill=\"#000000\" fill-rule=\"evenodd\" fill-opacity=\"1\" /><path clip-path=\"url(#clip240)\" d=\"M1274.47 27.2059 L1281.92 27.2059 L1281.92 72.576 L1274.47 72.576 L1274.47 27.2059 M1274.47 9.54393 L1281.92 9.54393 L1281.92 18.9825 L1274.47 18.9825 L1274.47 9.54393 Z\" fill=\"#000000\" fill-rule=\"evenodd\" fill-opacity=\"1\" /><path clip-path=\"url(#clip240)\" d=\"M1335.23 45.1919 L1335.23 72.576 L1327.78 72.576 L1327.78 45.4349 Q1327.78 38.994 1325.27 35.7938 Q1322.76 32.5936 1317.73 32.5936 Q1311.7 32.5936 1308.21 36.4419 Q1304.73 40.2903 1304.73 46.9338 L1304.73 72.576 L1297.24 72.576 L1297.24 27.2059 L1304.73 27.2059 L1304.73 34.2544 Q1307.4 30.163 1311.01 28.1376 Q1314.65 26.1121 1319.39 26.1121 Q1327.21 26.1121 1331.22 30.9732 Q1335.23 35.7938 1335.23 45.1919 Z\" fill=\"#000000\" fill-rule=\"evenodd\" fill-opacity=\"1\" /><path clip-path=\"url(#clip240)\" d=\"M1383.68 65.7705 L1383.68 89.8329 L1376.19 89.8329 L1376.19 27.2059 L1383.68 27.2059 L1383.68 34.0924 Q1386.03 30.0415 1389.6 28.0971 Q1393.2 26.1121 1398.18 26.1121 Q1406.45 26.1121 1411.59 32.6746 Q1416.78 39.2371 1416.78 49.9314 Q1416.78 60.6258 1411.59 67.1883 Q1406.45 73.7508 1398.18 73.7508 Q1393.2 73.7508 1389.6 71.8063 Q1386.03 69.8214 1383.68 65.7705 M1409.04 49.9314 Q1409.04 41.7081 1405.64 37.0496 Q1402.28 32.3505 1396.36 32.3505 Q1390.45 32.3505 1387.04 37.0496 Q1383.68 41.7081 1383.68 49.9314 Q1383.68 58.1548 1387.04 62.8538 Q1390.45 67.5124 1396.36 67.5124 Q1402.28 67.5124 1405.64 62.8538 Q1409.04 58.1548 1409.04 49.9314 Z\" fill=\"#000000\" fill-rule=\"evenodd\" fill-opacity=\"1\" /><path clip-path=\"url(#clip240)\" d=\"M1455.42 34.1734 Q1454.17 33.4443 1452.67 33.1202 Q1451.21 32.7556 1449.43 32.7556 Q1443.11 32.7556 1439.71 36.8875 Q1436.34 40.9789 1436.34 48.6757 L1436.34 72.576 L1428.85 72.576 L1428.85 27.2059 L1436.34 27.2059 L1436.34 34.2544 Q1438.69 30.1225 1442.46 28.1376 Q1446.23 26.1121 1451.62 26.1121 Q1452.39 26.1121 1453.32 26.2337 Q1454.25 26.3147 1455.38 26.5172 L1455.42 34.1734 Z\" fill=\"#000000\" fill-rule=\"evenodd\" fill-opacity=\"1\" /><path clip-path=\"url(#clip240)\" d=\"M1479 32.4315 Q1473 32.4315 1469.52 37.1306 Q1466.04 41.7891 1466.04 49.9314 Q1466.04 58.0738 1469.48 62.7728 Q1472.96 67.4314 1479 67.4314 Q1484.95 67.4314 1488.44 62.7323 Q1491.92 58.0333 1491.92 49.9314 Q1491.92 41.8701 1488.44 37.1711 Q1484.95 32.4315 1479 32.4315 M1479 26.1121 Q1488.72 26.1121 1494.27 32.4315 Q1499.82 38.7509 1499.82 49.9314 Q1499.82 61.0714 1494.27 67.4314 Q1488.72 73.7508 1479 73.7508 Q1469.24 73.7508 1463.69 67.4314 Q1458.18 61.0714 1458.18 49.9314 Q1458.18 38.7509 1463.69 32.4315 Q1469.24 26.1121 1479 26.1121 Z\" fill=\"#000000\" fill-rule=\"evenodd\" fill-opacity=\"1\" /><path clip-path=\"url(#clip240)\" d=\"M1535.15 9.54393 L1535.15 15.7418 L1528.02 15.7418 Q1524.01 15.7418 1522.43 17.3622 Q1520.89 18.9825 1520.89 23.1955 L1520.89 27.2059 L1533.16 27.2059 L1533.16 32.9987 L1520.89 32.9987 L1520.89 72.576 L1513.39 72.576 L1513.39 32.9987 L1506.26 32.9987 L1506.26 27.2059 L1513.39 27.2059 L1513.39 24.0462 Q1513.39 16.471 1516.92 13.0277 Q1520.44 9.54393 1528.1 9.54393 L1535.15 9.54393 Z\" fill=\"#000000\" fill-rule=\"evenodd\" fill-opacity=\"1\" /><path clip-path=\"url(#clip240)\" d=\"M1541.38 27.2059 L1548.84 27.2059 L1548.84 72.576 L1541.38 72.576 L1541.38 27.2059 M1541.38 9.54393 L1548.84 9.54393 L1548.84 18.9825 L1541.38 18.9825 L1541.38 9.54393 Z\" fill=\"#000000\" fill-rule=\"evenodd\" fill-opacity=\"1\" /><path clip-path=\"url(#clip240)\" d=\"M1571.81 14.324 L1571.81 27.2059 L1587.16 27.2059 L1587.16 32.9987 L1571.81 32.9987 L1571.81 57.6282 Q1571.81 63.1779 1573.3 64.7578 Q1574.84 66.3376 1579.5 66.3376 L1587.16 66.3376 L1587.16 72.576 L1579.5 72.576 Q1570.87 72.576 1567.59 69.3758 Q1564.31 66.1351 1564.31 57.6282 L1564.31 32.9987 L1558.84 32.9987 L1558.84 27.2059 L1564.31 27.2059 L1564.31 14.324 L1571.81 14.324 Z\" fill=\"#000000\" fill-rule=\"evenodd\" fill-opacity=\"1\" /><path clip-path=\"url(#clip240)\" d=\"M1623.33 27.2059 L1630.79 27.2059 L1630.79 72.576 L1623.33 72.576 L1623.33 27.2059 M1623.33 9.54393 L1630.79 9.54393 L1630.79 18.9825 L1623.33 18.9825 L1623.33 9.54393 Z\" fill=\"#000000\" fill-rule=\"evenodd\" fill-opacity=\"1\" /><path clip-path=\"url(#clip240)\" d=\"M1684.1 45.1919 L1684.1 72.576 L1676.64 72.576 L1676.64 45.4349 Q1676.64 38.994 1674.13 35.7938 Q1671.62 32.5936 1666.6 32.5936 Q1660.56 32.5936 1657.08 36.4419 Q1653.59 40.2903 1653.59 46.9338 L1653.59 72.576 L1646.1 72.576 L1646.1 27.2059 L1653.59 27.2059 L1653.59 34.2544 Q1656.27 30.163 1659.87 28.1376 Q1663.52 26.1121 1668.26 26.1121 Q1676.08 26.1121 1680.09 30.9732 Q1684.1 35.7938 1684.1 45.1919 Z\" fill=\"#000000\" fill-rule=\"evenodd\" fill-opacity=\"1\" /><path clip-path=\"url(#clip240)\" d=\"M1751.63 34.1734 Q1750.37 33.4443 1748.87 33.1202 Q1747.41 32.7556 1745.63 32.7556 Q1739.31 32.7556 1735.91 36.8875 Q1732.55 40.9789 1732.55 48.6757 L1732.55 72.576 L1725.05 72.576 L1725.05 27.2059 L1732.55 27.2059 L1732.55 34.2544 Q1734.9 30.1225 1738.66 28.1376 Q1742.43 26.1121 1747.82 26.1121 Q1748.59 26.1121 1749.52 26.2337 Q1750.45 26.3147 1751.59 26.5172 L1751.63 34.1734 Z\" fill=\"#000000\" fill-rule=\"evenodd\" fill-opacity=\"1\" /><path clip-path=\"url(#clip240)\" d=\"M1796.43 48.0275 L1796.43 51.6733 L1762.16 51.6733 Q1762.64 59.3701 1766.78 63.421 Q1770.95 67.4314 1778.36 67.4314 Q1782.66 67.4314 1786.67 66.3781 Q1790.72 65.3249 1794.69 63.2184 L1794.69 70.267 Q1790.68 71.9684 1786.46 72.8596 Q1782.25 73.7508 1777.92 73.7508 Q1767.06 73.7508 1760.7 67.4314 Q1754.38 61.1119 1754.38 50.3365 Q1754.38 39.1965 1760.38 32.6746 Q1766.41 26.1121 1776.62 26.1121 Q1785.77 26.1121 1791.08 32.0264 Q1796.43 37.9003 1796.43 48.0275 M1788.98 45.84 Q1788.89 39.7232 1785.53 36.0774 Q1782.21 32.4315 1776.7 32.4315 Q1770.46 32.4315 1766.7 35.9558 Q1762.97 39.4801 1762.4 45.8805 L1788.98 45.84 Z\" fill=\"#000000\" fill-rule=\"evenodd\" fill-opacity=\"1\" /><path clip-path=\"url(#clip240)\" d=\"M1808.66 9.54393 L1816.12 9.54393 L1816.12 72.576 L1808.66 72.576 L1808.66 9.54393 Z\" fill=\"#000000\" fill-rule=\"evenodd\" fill-opacity=\"1\" /><path clip-path=\"url(#clip240)\" d=\"M1852.33 49.7694 Q1843.3 49.7694 1839.81 51.8354 Q1836.33 53.9013 1836.33 58.8839 Q1836.33 62.8538 1838.92 65.2034 Q1841.56 67.5124 1846.05 67.5124 Q1852.25 67.5124 1855.98 63.1374 Q1859.74 58.7219 1859.74 51.4303 L1859.74 49.7694 L1852.33 49.7694 M1867.2 46.6907 L1867.2 72.576 L1859.74 72.576 L1859.74 65.6895 Q1857.19 69.8214 1853.38 71.8063 Q1849.58 73.7508 1844.07 73.7508 Q1837.1 73.7508 1832.97 69.8619 Q1828.88 65.9325 1828.88 59.3701 Q1828.88 51.7138 1833.98 47.825 Q1839.13 43.9361 1849.29 43.9361 L1859.74 43.9361 L1859.74 43.2069 Q1859.74 38.0623 1856.34 35.2672 Q1852.98 32.4315 1846.86 32.4315 Q1842.97 32.4315 1839.29 33.3632 Q1835.6 34.295 1832.2 36.1584 L1832.2 29.2718 Q1836.29 27.692 1840.14 26.9223 Q1843.99 26.1121 1847.63 26.1121 Q1857.48 26.1121 1862.34 31.2163 Q1867.2 36.3204 1867.2 46.6907 Z\" fill=\"#000000\" fill-rule=\"evenodd\" fill-opacity=\"1\" /><path clip-path=\"url(#clip240)\" d=\"M1889.92 14.324 L1889.92 27.2059 L1905.28 27.2059 L1905.28 32.9987 L1889.92 32.9987 L1889.92 57.6282 Q1889.92 63.1779 1891.42 64.7578 Q1892.96 66.3376 1897.62 66.3376 L1905.28 66.3376 L1905.28 72.576 L1897.62 72.576 Q1888.99 72.576 1885.71 69.3758 Q1882.43 66.1351 1882.43 57.6282 L1882.43 32.9987 L1876.96 32.9987 L1876.96 27.2059 L1882.43 27.2059 L1882.43 14.324 L1889.92 14.324 Z\" fill=\"#000000\" fill-rule=\"evenodd\" fill-opacity=\"1\" /><path clip-path=\"url(#clip240)\" d=\"M1915.08 27.2059 L1922.53 27.2059 L1922.53 72.576 L1915.08 72.576 L1915.08 27.2059 M1915.08 9.54393 L1922.53 9.54393 L1922.53 18.9825 L1915.08 18.9825 L1915.08 9.54393 Z\" fill=\"#000000\" fill-rule=\"evenodd\" fill-opacity=\"1\" /><path clip-path=\"url(#clip240)\" d=\"M1955.71 32.4315 Q1949.71 32.4315 1946.23 37.1306 Q1942.75 41.7891 1942.75 49.9314 Q1942.75 58.0738 1946.19 62.7728 Q1949.67 67.4314 1955.71 67.4314 Q1961.67 67.4314 1965.15 62.7323 Q1968.63 58.0333 1968.63 49.9314 Q1968.63 41.8701 1965.15 37.1711 Q1961.67 32.4315 1955.71 32.4315 M1955.71 26.1121 Q1965.43 26.1121 1970.98 32.4315 Q1976.53 38.7509 1976.53 49.9314 Q1976.53 61.0714 1970.98 67.4314 Q1965.43 73.7508 1955.71 73.7508 Q1945.95 73.7508 1940.4 67.4314 Q1934.89 61.0714 1934.89 49.9314 Q1934.89 38.7509 1940.4 32.4315 Q1945.95 26.1121 1955.71 26.1121 Z\" fill=\"#000000\" fill-rule=\"evenodd\" fill-opacity=\"1\" /><path clip-path=\"url(#clip240)\" d=\"M2026.6 45.1919 L2026.6 72.576 L2019.15 72.576 L2019.15 45.4349 Q2019.15 38.994 2016.64 35.7938 Q2014.12 32.5936 2009.1 32.5936 Q2003.07 32.5936 1999.58 36.4419 Q1996.1 40.2903 1996.1 46.9338 L1996.1 72.576 L1988.6 72.576 L1988.6 27.2059 L1996.1 27.2059 L1996.1 34.2544 Q1998.77 30.163 2002.38 28.1376 Q2006.02 26.1121 2010.76 26.1121 Q2018.58 26.1121 2022.59 30.9732 Q2026.6 35.7938 2026.6 45.1919 Z\" fill=\"#000000\" fill-rule=\"evenodd\" fill-opacity=\"1\" /><path clip-path=\"url(#clip240)\" d=\"M2075.21 14.324 L2075.21 27.2059 L2090.56 27.2059 L2090.56 32.9987 L2075.21 32.9987 L2075.21 57.6282 Q2075.21 63.1779 2076.71 64.7578 Q2078.25 66.3376 2082.91 66.3376 L2090.56 66.3376 L2090.56 72.576 L2082.91 72.576 Q2074.28 72.576 2071 69.3758 Q2067.72 66.1351 2067.72 57.6282 L2067.72 32.9987 L2062.25 32.9987 L2062.25 27.2059 L2067.72 27.2059 L2067.72 14.324 L2075.21 14.324 Z\" fill=\"#000000\" fill-rule=\"evenodd\" fill-opacity=\"1\" /><path clip-path=\"url(#clip240)\" d=\"M2117.95 32.4315 Q2111.95 32.4315 2108.47 37.1306 Q2104.99 41.7891 2104.99 49.9314 Q2104.99 58.0738 2108.43 62.7728 Q2111.91 67.4314 2117.95 67.4314 Q2123.9 67.4314 2127.39 62.7323 Q2130.87 58.0333 2130.87 49.9314 Q2130.87 41.8701 2127.39 37.1711 Q2123.9 32.4315 2117.95 32.4315 M2117.95 26.1121 Q2127.67 26.1121 2133.22 32.4315 Q2138.77 38.7509 2138.77 49.9314 Q2138.77 61.0714 2133.22 67.4314 Q2127.67 73.7508 2117.95 73.7508 Q2108.19 73.7508 2102.64 67.4314 Q2097.13 61.0714 2097.13 49.9314 Q2097.13 38.7509 2102.64 32.4315 Q2108.19 26.1121 2117.95 26.1121 Z\" fill=\"#000000\" fill-rule=\"evenodd\" fill-opacity=\"1\" /><path clip-path=\"url(#clip240)\" d=\"M2184.87 14.324 L2184.87 27.2059 L2200.22 27.2059 L2200.22 32.9987 L2184.87 32.9987 L2184.87 57.6282 Q2184.87 63.1779 2186.37 64.7578 Q2187.91 66.3376 2192.57 66.3376 L2200.22 66.3376 L2200.22 72.576 L2192.57 72.576 Q2183.94 72.576 2180.66 69.3758 Q2177.38 66.1351 2177.38 57.6282 L2177.38 32.9987 L2171.91 32.9987 L2171.91 27.2059 L2177.38 27.2059 L2177.38 14.324 L2184.87 14.324 Z\" fill=\"#000000\" fill-rule=\"evenodd\" fill-opacity=\"1\" /><path clip-path=\"url(#clip240)\" d=\"M2247.74 45.1919 L2247.74 72.576 L2240.29 72.576 L2240.29 45.4349 Q2240.29 38.994 2237.77 35.7938 Q2235.26 32.5936 2230.24 32.5936 Q2224.2 32.5936 2220.72 36.4419 Q2217.24 40.2903 2217.24 46.9338 L2217.24 72.576 L2209.74 72.576 L2209.74 9.54393 L2217.24 9.54393 L2217.24 34.2544 Q2219.91 30.163 2223.52 28.1376 Q2227.16 26.1121 2231.9 26.1121 Q2239.72 26.1121 2243.73 30.9732 Q2247.74 35.7938 2247.74 45.1919 Z\" fill=\"#000000\" fill-rule=\"evenodd\" fill-opacity=\"1\" /><path clip-path=\"url(#clip240)\" d=\"M2301.41 48.0275 L2301.41 51.6733 L2267.14 51.6733 Q2267.63 59.3701 2271.76 63.421 Q2275.93 67.4314 2283.35 67.4314 Q2287.64 67.4314 2291.65 66.3781 Q2295.7 65.3249 2299.67 63.2184 L2299.67 70.267 Q2295.66 71.9684 2291.45 72.8596 Q2287.24 73.7508 2282.9 73.7508 Q2272.05 73.7508 2265.69 67.4314 Q2259.37 61.1119 2259.37 50.3365 Q2259.37 39.1965 2265.36 32.6746 Q2271.4 26.1121 2281.61 26.1121 Q2290.76 26.1121 2296.07 32.0264 Q2301.41 37.9003 2301.41 48.0275 M2293.96 45.84 Q2293.88 39.7232 2290.52 36.0774 Q2287.2 32.4315 2281.69 32.4315 Q2275.45 32.4315 2271.68 35.9558 Q2267.95 39.4801 2267.39 45.8805 L2293.96 45.84 Z\" fill=\"#000000\" fill-rule=\"evenodd\" fill-opacity=\"1\" /><path clip-path=\"url(#clip240)\" d=\"M2372.67 28.9478 L2372.67 35.9153 Q2369.51 34.1734 2366.31 33.3227 Q2363.15 32.4315 2359.91 32.4315 Q2352.66 32.4315 2348.65 37.0496 Q2344.64 41.6271 2344.64 49.9314 Q2344.64 58.2358 2348.65 62.8538 Q2352.66 67.4314 2359.91 67.4314 Q2363.15 67.4314 2366.31 66.5807 Q2369.51 65.6895 2372.67 63.9476 L2372.67 70.8341 Q2369.55 72.2924 2366.19 73.0216 Q2362.87 73.7508 2359.1 73.7508 Q2348.85 73.7508 2342.81 67.3098 Q2336.78 60.8689 2336.78 49.9314 Q2336.78 38.832 2342.86 32.472 Q2348.97 26.1121 2359.59 26.1121 Q2363.03 26.1121 2366.31 26.8413 Q2369.59 27.5299 2372.67 28.9478 Z\" fill=\"#000000\" fill-rule=\"evenodd\" fill-opacity=\"1\" /><path clip-path=\"url(#clip240)\" d=\"M2423.35 45.1919 L2423.35 72.576 L2415.89 72.576 L2415.89 45.4349 Q2415.89 38.994 2413.38 35.7938 Q2410.87 32.5936 2405.85 32.5936 Q2399.81 32.5936 2396.33 36.4419 Q2392.84 40.2903 2392.84 46.9338 L2392.84 72.576 L2385.35 72.576 L2385.35 9.54393 L2392.84 9.54393 L2392.84 34.2544 Q2395.52 30.163 2399.12 28.1376 Q2402.77 26.1121 2407.51 26.1121 Q2415.33 26.1121 2419.34 30.9732 Q2423.35 35.7938 2423.35 45.1919 Z\" fill=\"#000000\" fill-rule=\"evenodd\" fill-opacity=\"1\" /><path clip-path=\"url(#clip240)\" d=\"M2458.83 49.7694 Q2449.8 49.7694 2446.32 51.8354 Q2442.83 53.9013 2442.83 58.8839 Q2442.83 62.8538 2445.42 65.2034 Q2448.06 67.5124 2452.55 67.5124 Q2458.75 67.5124 2462.48 63.1374 Q2466.25 58.7219 2466.25 51.4303 L2466.25 49.7694 L2458.83 49.7694 M2473.7 46.6907 L2473.7 72.576 L2466.25 72.576 L2466.25 65.6895 Q2463.69 69.8214 2459.89 71.8063 Q2456.08 73.7508 2450.57 73.7508 Q2443.6 73.7508 2439.47 69.8619 Q2435.38 65.9325 2435.38 59.3701 Q2435.38 51.7138 2440.48 47.825 Q2445.63 43.9361 2455.79 43.9361 L2466.25 43.9361 L2466.25 43.2069 Q2466.25 38.0623 2462.84 35.2672 Q2459.48 32.4315 2453.36 32.4315 Q2449.47 32.4315 2445.79 33.3632 Q2442.1 34.295 2438.7 36.1584 L2438.7 29.2718 Q2442.79 27.692 2446.64 26.9223 Q2450.49 26.1121 2454.13 26.1121 Q2463.98 26.1121 2468.84 31.2163 Q2473.7 36.3204 2473.7 46.6907 Z\" fill=\"#000000\" fill-rule=\"evenodd\" fill-opacity=\"1\" /><path clip-path=\"url(#clip240)\" d=\"M2526.77 45.1919 L2526.77 72.576 L2519.31 72.576 L2519.31 45.4349 Q2519.31 38.994 2516.8 35.7938 Q2514.29 32.5936 2509.27 32.5936 Q2503.23 32.5936 2499.75 36.4419 Q2496.26 40.2903 2496.26 46.9338 L2496.26 72.576 L2488.77 72.576 L2488.77 27.2059 L2496.26 27.2059 L2496.26 34.2544 Q2498.94 30.163 2502.54 28.1376 Q2506.19 26.1121 2510.93 26.1121 Q2518.75 26.1121 2522.76 30.9732 Q2526.77 35.7938 2526.77 45.1919 Z\" fill=\"#000000\" fill-rule=\"evenodd\" fill-opacity=\"1\" /><path clip-path=\"url(#clip240)\" d=\"M2571.49 49.3643 Q2571.49 41.2625 2568.13 36.8065 Q2564.8 32.3505 2558.77 32.3505 Q2552.77 32.3505 2549.41 36.8065 Q2546.09 41.2625 2546.09 49.3643 Q2546.09 57.4256 2549.41 61.8816 Q2552.77 66.3376 2558.77 66.3376 Q2564.8 66.3376 2568.13 61.8816 Q2571.49 57.4256 2571.49 49.3643 M2578.94 66.9452 Q2578.94 78.5308 2573.8 84.1616 Q2568.65 89.8329 2558.04 89.8329 Q2554.11 89.8329 2550.63 89.2252 Q2547.14 88.6581 2543.86 87.4428 L2543.86 80.1917 Q2547.14 81.9741 2550.34 82.8248 Q2553.54 83.6755 2556.86 83.6755 Q2564.2 83.6755 2567.84 79.8271 Q2571.49 76.0193 2571.49 68.282 L2571.49 64.5957 Q2569.18 68.6061 2565.57 70.5911 Q2561.97 72.576 2556.95 72.576 Q2548.6 72.576 2543.5 66.2161 Q2538.39 59.8562 2538.39 49.3643 Q2538.39 38.832 2543.5 32.472 Q2548.6 26.1121 2556.95 26.1121 Q2561.97 26.1121 2565.57 28.0971 Q2569.18 30.082 2571.49 34.0924 L2571.49 27.2059 L2578.94 27.2059 L2578.94 66.9452 Z\" fill=\"#000000\" fill-rule=\"evenodd\" fill-opacity=\"1\" /><path clip-path=\"url(#clip240)\" d=\"M2633.1 48.0275 L2633.1 51.6733 L2598.83 51.6733 Q2599.32 59.3701 2603.45 63.421 Q2607.62 67.4314 2615.04 67.4314 Q2619.33 67.4314 2623.34 66.3781 Q2627.39 65.3249 2631.36 63.2184 L2631.36 70.267 Q2627.35 71.9684 2623.14 72.8596 Q2618.92 73.7508 2614.59 73.7508 Q2603.73 73.7508 2597.37 67.4314 Q2591.05 61.1119 2591.05 50.3365 Q2591.05 39.1965 2597.05 32.6746 Q2603.09 26.1121 2613.29 26.1121 Q2622.45 26.1121 2627.76 32.0264 Q2633.1 37.9003 2633.1 48.0275 M2625.65 45.84 Q2625.57 39.7232 2622.21 36.0774 Q2618.88 32.4315 2613.37 32.4315 Q2607.14 32.4315 2603.37 35.9558 Q2599.64 39.4801 2599.07 45.8805 L2625.65 45.84 Z\" fill=\"#000000\" fill-rule=\"evenodd\" fill-opacity=\"1\" /><path clip-path=\"url(#clip240)\" d=\"M2671.71 27.2059 L2679.16 27.2059 L2679.16 72.576 L2671.71 72.576 L2671.71 27.2059 M2671.71 9.54393 L2679.16 9.54393 L2679.16 18.9825 L2671.71 18.9825 L2671.71 9.54393 Z\" fill=\"#000000\" fill-rule=\"evenodd\" fill-opacity=\"1\" /><path clip-path=\"url(#clip240)\" d=\"M2732.47 45.1919 L2732.47 72.576 L2725.02 72.576 L2725.02 45.4349 Q2725.02 38.994 2722.51 35.7938 Q2719.99 32.5936 2714.97 32.5936 Q2708.94 32.5936 2705.45 36.4419 Q2701.97 40.2903 2701.97 46.9338 L2701.97 72.576 L2694.47 72.576 L2694.47 27.2059 L2701.97 27.2059 L2701.97 34.2544 Q2704.64 30.163 2708.25 28.1376 Q2711.89 26.1121 2716.63 26.1121 Q2724.45 26.1121 2728.46 30.9732 Q2732.47 35.7938 2732.47 45.1919 Z\" fill=\"#000000\" fill-rule=\"evenodd\" fill-opacity=\"1\" /><path clip-path=\"url(#clip240)\" d=\"M2802.63 28.5427 L2802.63 35.5912 Q2799.47 33.9709 2796.07 33.1607 Q2792.67 32.3505 2789.02 32.3505 Q2783.47 32.3505 2780.68 34.0519 Q2777.92 35.7533 2777.92 39.156 Q2777.92 41.7486 2779.91 43.2475 Q2781.89 44.7058 2787.89 46.0426 L2790.44 46.6097 Q2798.38 48.3111 2801.7 51.4303 Q2805.06 54.509 2805.06 60.0587 Q2805.06 66.3781 2800.04 70.0644 Q2795.06 73.7508 2786.31 73.7508 Q2782.66 73.7508 2778.69 73.0216 Q2774.76 72.3329 2770.39 70.9151 L2770.39 63.2184 Q2774.52 65.3654 2778.53 66.4591 Q2782.54 67.5124 2786.47 67.5124 Q2791.74 67.5124 2794.57 65.73 Q2797.41 63.9071 2797.41 60.6258 Q2797.41 57.5877 2795.34 55.9673 Q2793.32 54.3469 2786.39 52.8481 L2783.8 52.2405 Q2776.87 50.7821 2773.79 47.7845 Q2770.71 44.7463 2770.71 39.4801 Q2770.71 33.0797 2775.25 29.5959 Q2779.79 26.1121 2788.13 26.1121 Q2792.26 26.1121 2795.91 26.7198 Q2799.55 27.3274 2802.63 28.5427 Z\" fill=\"#000000\" fill-rule=\"evenodd\" fill-opacity=\"1\" /><path clip-path=\"url(#clip240)\" d=\"M2837.55 49.7694 Q2828.52 49.7694 2825.03 51.8354 Q2821.55 53.9013 2821.55 58.8839 Q2821.55 62.8538 2824.14 65.2034 Q2826.78 67.5124 2831.27 67.5124 Q2837.47 67.5124 2841.2 63.1374 Q2844.96 58.7219 2844.96 51.4303 L2844.96 49.7694 L2837.55 49.7694 M2852.42 46.6907 L2852.42 72.576 L2844.96 72.576 L2844.96 65.6895 Q2842.41 69.8214 2838.6 71.8063 Q2834.8 73.7508 2829.29 73.7508 Q2822.32 73.7508 2818.19 69.8619 Q2814.1 65.9325 2814.1 59.3701 Q2814.1 51.7138 2819.2 47.825 Q2824.35 43.9361 2834.51 43.9361 L2844.96 43.9361 L2844.96 43.2069 Q2844.96 38.0623 2841.56 35.2672 Q2838.2 32.4315 2832.08 32.4315 Q2828.19 32.4315 2824.51 33.3632 Q2820.82 34.295 2817.42 36.1584 L2817.42 29.2718 Q2821.51 27.692 2825.36 26.9223 Q2829.21 26.1121 2832.85 26.1121 Q2842.7 26.1121 2847.56 31.2163 Q2852.42 36.3204 2852.42 46.6907 Z\" fill=\"#000000\" fill-rule=\"evenodd\" fill-opacity=\"1\" /><path clip-path=\"url(#clip240)\" d=\"M2867.77 9.54393 L2875.22 9.54393 L2875.22 72.576 L2867.77 72.576 L2867.77 9.54393 Z\" fill=\"#000000\" fill-rule=\"evenodd\" fill-opacity=\"1\" /><path clip-path=\"url(#clip240)\" d=\"M2911.44 49.7694 Q2902.41 49.7694 2898.92 51.8354 Q2895.44 53.9013 2895.44 58.8839 Q2895.44 62.8538 2898.03 65.2034 Q2900.66 67.5124 2905.16 67.5124 Q2911.36 67.5124 2915.09 63.1374 Q2918.85 58.7219 2918.85 51.4303 L2918.85 49.7694 L2911.44 49.7694 M2926.31 46.6907 L2926.31 72.576 L2918.85 72.576 L2918.85 65.6895 Q2916.3 69.8214 2912.49 71.8063 Q2908.69 73.7508 2903.18 73.7508 Q2896.21 73.7508 2892.08 69.8619 Q2887.99 65.9325 2887.99 59.3701 Q2887.99 51.7138 2893.09 47.825 Q2898.23 43.9361 2908.4 43.9361 L2918.85 43.9361 L2918.85 43.2069 Q2918.85 38.0623 2915.45 35.2672 Q2912.09 32.4315 2905.97 32.4315 Q2902.08 32.4315 2898.4 33.3632 Q2894.71 34.295 2891.31 36.1584 L2891.31 29.2718 Q2895.4 27.692 2899.25 26.9223 Q2903.1 26.1121 2906.74 26.1121 Q2916.58 26.1121 2921.45 31.2163 Q2926.31 36.3204 2926.31 46.6907 Z\" fill=\"#000000\" fill-rule=\"evenodd\" fill-opacity=\"1\" /><path clip-path=\"url(#clip240)\" d=\"M2967.95 34.1734 Q2966.69 33.4443 2965.2 33.1202 Q2963.74 32.7556 2961.95 32.7556 Q2955.64 32.7556 2952.23 36.8875 Q2948.87 40.9789 2948.87 48.6757 L2948.87 72.576 L2941.38 72.576 L2941.38 27.2059 L2948.87 27.2059 L2948.87 34.2544 Q2951.22 30.1225 2954.99 28.1376 Q2958.75 26.1121 2964.14 26.1121 Q2964.91 26.1121 2965.84 26.2337 Q2966.78 26.3147 2967.91 26.5172 L2967.95 34.1734 Z\" fill=\"#000000\" fill-rule=\"evenodd\" fill-opacity=\"1\" /><path clip-path=\"url(#clip240)\" d=\"M2994.65 76.7889 Q2991.49 84.8907 2988.49 87.3618 Q2985.49 89.8329 2980.47 89.8329 L2974.51 89.8329 L2974.51 83.5945 L2978.89 83.5945 Q2981.97 83.5945 2983.67 82.1361 Q2985.37 80.6778 2987.44 75.2496 L2988.77 71.8468 L2970.42 27.2059 L2978.32 27.2059 L2992.5 62.6918 L3006.68 27.2059 L3014.58 27.2059 L2994.65 76.7889 Z\" fill=\"#000000\" fill-rule=\"evenodd\" fill-opacity=\"1\" /><polyline clip-path=\"url(#clip242)\" style=\"stroke:#009af9; stroke-linecap:round; stroke-linejoin:round; stroke-width:4; stroke-opacity:1; fill:none\" points=\"359.582,1633.91 540.37,1672.47 721.158,1696.36 1263.52,1814.25 2167.46,1970.3 3071.4,2146.22 \"/>\n",
       "<polyline clip-path=\"url(#clip242)\" style=\"stroke:#e26f46; stroke-linecap:round; stroke-linejoin:round; stroke-width:4; stroke-opacity:1; fill:none\" points=\"359.582,1497.55 540.37,1518.24 721.158,1564.03 1263.52,1652.05 2167.46,1834.71 3071.4,1989.36 \"/>\n",
       "<polyline clip-path=\"url(#clip242)\" style=\"stroke:#3da44d; stroke-linecap:round; stroke-linejoin:round; stroke-width:4; stroke-opacity:1; fill:none\" points=\"359.582,1340.22 540.37,1372.32 721.158,1424.39 1263.52,1521.54 2167.46,1684.36 3071.4,1849.11 \"/>\n",
       "<polyline clip-path=\"url(#clip242)\" style=\"stroke:#c271d2; stroke-linecap:round; stroke-linejoin:round; stroke-width:4; stroke-opacity:1; fill:none\" points=\"359.582,1057.25 540.37,1085.86 721.158,1126.53 1263.52,1215.07 2167.46,1402.6 3071.4,1556.82 \"/>\n",
       "<polyline clip-path=\"url(#clip242)\" style=\"stroke:#ac8d18; stroke-linecap:round; stroke-linejoin:round; stroke-width:4; stroke-opacity:1; fill:none\" points=\"359.582,189.727 540.37,222.849 721.158,240.353 1263.52,359.709 2167.46,511.273 3071.4,697.407 \"/>\n",
       "<polyline clip-path=\"url(#clip242)\" style=\"stroke:#ff0000; stroke-linecap:round; stroke-linejoin:round; stroke-width:4; stroke-opacity:1; fill:none\" points=\"359.582,1397.08 3071.4,1397.08 \"/>\n",
       "<polyline clip-path=\"url(#clip242)\" style=\"stroke:#800080; stroke-linecap:round; stroke-linejoin:round; stroke-width:4; stroke-opacity:1; fill:none\" points=\"359.582,1769.47 3071.4,1769.47 \"/>\n",
       "<path clip-path=\"url(#clip240)\" d=\"M2121.92 614.882 L3056.94 614.882 L3056.94 200.162 L2121.92 200.162  Z\" fill=\"#ffffff\" fill-rule=\"evenodd\" fill-opacity=\"1\"/>\n",
       "<polyline clip-path=\"url(#clip240)\" style=\"stroke:#000000; stroke-linecap:round; stroke-linejoin:round; stroke-width:4; stroke-opacity:1; fill:none\" points=\"2121.92,614.882 3056.94,614.882 3056.94,200.162 2121.92,200.162 2121.92,614.882 \"/>\n",
       "<polyline clip-path=\"url(#clip240)\" style=\"stroke:#009af9; stroke-linecap:round; stroke-linejoin:round; stroke-width:4; stroke-opacity:1; fill:none\" points=\"2153.86,252.002 2345.49,252.002 \"/>\n",
       "<path clip-path=\"url(#clip240)\" d=\"M2382.11 238.564 L2382.11 251.55 L2387.99 251.55 Q2391.25 251.55 2393.03 249.861 Q2394.82 248.171 2394.82 245.046 Q2394.82 241.944 2393.03 240.254 Q2391.25 238.564 2387.99 238.564 L2382.11 238.564 M2377.43 234.722 L2387.99 234.722 Q2393.8 234.722 2396.76 237.361 Q2399.75 239.976 2399.75 245.046 Q2399.75 250.161 2396.76 252.777 Q2393.8 255.393 2387.99 255.393 L2382.11 255.393 L2382.11 269.282 L2377.43 269.282 L2377.43 234.722 Z\" fill=\"#000000\" fill-rule=\"evenodd\" fill-opacity=\"1\" /><path clip-path=\"url(#clip240)\" d=\"M2420.03 247.337 Q2419.31 246.921 2418.45 246.736 Q2417.62 246.527 2416.6 246.527 Q2412.99 246.527 2411.04 248.888 Q2409.12 251.226 2409.12 255.624 L2409.12 269.282 L2404.84 269.282 L2404.84 243.356 L2409.12 243.356 L2409.12 247.384 Q2410.47 245.023 2412.62 243.888 Q2414.77 242.731 2417.85 242.731 Q2418.29 242.731 2418.82 242.8 Q2419.35 242.847 2420 242.962 L2420.03 247.337 Z\" fill=\"#000000\" fill-rule=\"evenodd\" fill-opacity=\"1\" /><path clip-path=\"url(#clip240)\" d=\"M2433.5 246.342 Q2430.07 246.342 2428.08 249.027 Q2426.09 251.689 2426.09 256.342 Q2426.09 260.995 2428.06 263.68 Q2430.05 266.342 2433.5 266.342 Q2436.9 266.342 2438.89 263.657 Q2440.88 260.972 2440.88 256.342 Q2440.88 251.736 2438.89 249.05 Q2436.9 246.342 2433.5 246.342 M2433.5 242.731 Q2439.05 242.731 2442.22 246.342 Q2445.4 249.953 2445.4 256.342 Q2445.4 262.708 2442.22 266.342 Q2439.05 269.953 2433.5 269.953 Q2427.92 269.953 2424.75 266.342 Q2421.6 262.708 2421.6 256.342 Q2421.6 249.953 2424.75 246.342 Q2427.92 242.731 2433.5 242.731 Z\" fill=\"#000000\" fill-rule=\"evenodd\" fill-opacity=\"1\" /><path clip-path=\"url(#clip240)\" d=\"M2465.58 233.263 L2465.58 236.805 L2461.51 236.805 Q2459.22 236.805 2458.31 237.731 Q2457.43 238.657 2457.43 241.064 L2457.43 243.356 L2464.45 243.356 L2464.45 246.666 L2457.43 246.666 L2457.43 269.282 L2453.15 269.282 L2453.15 246.666 L2449.08 246.666 L2449.08 243.356 L2453.15 243.356 L2453.15 241.55 Q2453.15 237.222 2455.16 235.254 Q2457.18 233.263 2461.55 233.263 L2465.58 233.263 Z\" fill=\"#000000\" fill-rule=\"evenodd\" fill-opacity=\"1\" /><path clip-path=\"url(#clip240)\" d=\"M2469.15 243.356 L2473.4 243.356 L2473.4 269.282 L2469.15 269.282 L2469.15 243.356 M2469.15 233.263 L2473.4 233.263 L2473.4 238.657 L2469.15 238.657 L2469.15 233.263 Z\" fill=\"#000000\" fill-rule=\"evenodd\" fill-opacity=\"1\" /><path clip-path=\"url(#clip240)\" d=\"M2486.53 235.995 L2486.53 243.356 L2495.3 243.356 L2495.3 246.666 L2486.53 246.666 L2486.53 260.74 Q2486.53 263.911 2487.39 264.814 Q2488.27 265.717 2490.93 265.717 L2495.3 265.717 L2495.3 269.282 L2490.93 269.282 Q2486 269.282 2484.12 267.453 Q2482.25 265.601 2482.25 260.74 L2482.25 246.666 L2479.12 246.666 L2479.12 243.356 L2482.25 243.356 L2482.25 235.995 L2486.53 235.995 Z\" fill=\"#000000\" fill-rule=\"evenodd\" fill-opacity=\"1\" /><path clip-path=\"url(#clip240)\" d=\"M2527.76 256.249 Q2522.59 256.249 2520.6 257.43 Q2518.61 258.61 2518.61 261.458 Q2518.61 263.726 2520.09 265.069 Q2521.6 266.388 2524.17 266.388 Q2527.71 266.388 2529.84 263.888 Q2531.99 261.365 2531.99 257.198 L2531.99 256.249 L2527.76 256.249 M2536.25 254.49 L2536.25 269.282 L2531.99 269.282 L2531.99 265.347 Q2530.53 267.708 2528.36 268.842 Q2526.18 269.953 2523.03 269.953 Q2519.05 269.953 2516.69 267.731 Q2514.35 265.485 2514.35 261.735 Q2514.35 257.36 2517.27 255.138 Q2520.21 252.916 2526.02 252.916 L2531.99 252.916 L2531.99 252.499 Q2531.99 249.56 2530.05 247.962 Q2528.13 246.342 2524.63 246.342 Q2522.41 246.342 2520.3 246.874 Q2518.2 247.407 2516.25 248.472 L2516.25 244.536 Q2518.59 243.634 2520.79 243.194 Q2522.99 242.731 2525.07 242.731 Q2530.7 242.731 2533.47 245.648 Q2536.25 248.564 2536.25 254.49 Z\" fill=\"#000000\" fill-rule=\"evenodd\" fill-opacity=\"1\" /><path clip-path=\"url(#clip240)\" d=\"M2549.24 235.995 L2549.24 243.356 L2558.01 243.356 L2558.01 246.666 L2549.24 246.666 L2549.24 260.74 Q2549.24 263.911 2550.09 264.814 Q2550.97 265.717 2553.64 265.717 L2558.01 265.717 L2558.01 269.282 L2553.64 269.282 Q2548.71 269.282 2546.83 267.453 Q2544.96 265.601 2544.96 260.74 L2544.96 246.666 L2541.83 246.666 L2541.83 243.356 L2544.96 243.356 L2544.96 235.995 L2549.24 235.995 Z\" fill=\"#000000\" fill-rule=\"evenodd\" fill-opacity=\"1\" /><path clip-path=\"url(#clip240)\" d=\"M2588.73 246.342 Q2585.3 246.342 2583.31 249.027 Q2581.32 251.689 2581.32 256.342 Q2581.32 260.995 2583.29 263.68 Q2585.28 266.342 2588.73 266.342 Q2592.13 266.342 2594.12 263.657 Q2596.11 260.972 2596.11 256.342 Q2596.11 251.736 2594.12 249.05 Q2592.13 246.342 2588.73 246.342 M2588.73 242.731 Q2594.28 242.731 2597.46 246.342 Q2600.63 249.953 2600.63 256.342 Q2600.63 262.708 2597.46 266.342 Q2594.28 269.953 2588.73 269.953 Q2583.15 269.953 2579.98 266.342 Q2576.83 262.708 2576.83 256.342 Q2576.83 249.953 2579.98 246.342 Q2583.15 242.731 2588.73 242.731 Z\" fill=\"#000000\" fill-rule=\"evenodd\" fill-opacity=\"1\" /><path clip-path=\"url(#clip240)\" d=\"M2622.71 247.337 Q2621.99 246.921 2621.14 246.736 Q2620.3 246.527 2619.28 246.527 Q2615.67 246.527 2613.73 248.888 Q2611.81 251.226 2611.81 255.624 L2611.81 269.282 L2607.52 269.282 L2607.52 243.356 L2611.81 243.356 L2611.81 247.384 Q2613.15 245.023 2615.3 243.888 Q2617.45 242.731 2620.53 242.731 Q2620.97 242.731 2621.51 242.8 Q2622.04 242.847 2622.69 242.962 L2622.71 247.337 Z\" fill=\"#000000\" fill-rule=\"evenodd\" fill-opacity=\"1\" /><path clip-path=\"url(#clip240)\" d=\"M2627.18 243.356 L2631.44 243.356 L2631.44 269.282 L2627.18 269.282 L2627.18 243.356 M2627.18 233.263 L2631.44 233.263 L2631.44 238.657 L2627.18 238.657 L2627.18 233.263 Z\" fill=\"#000000\" fill-rule=\"evenodd\" fill-opacity=\"1\" /><path clip-path=\"url(#clip240)\" d=\"M2657.41 256.018 Q2657.41 251.388 2655.49 248.842 Q2653.59 246.296 2650.14 246.296 Q2646.71 246.296 2644.79 248.842 Q2642.89 251.388 2642.89 256.018 Q2642.89 260.624 2644.79 263.171 Q2646.71 265.717 2650.14 265.717 Q2653.59 265.717 2655.49 263.171 Q2657.41 260.624 2657.41 256.018 M2661.67 266.064 Q2661.67 272.684 2658.73 275.902 Q2655.79 279.143 2649.72 279.143 Q2647.48 279.143 2645.49 278.796 Q2643.5 278.471 2641.62 277.777 L2641.62 273.634 Q2643.5 274.652 2645.33 275.138 Q2647.15 275.624 2649.05 275.624 Q2653.24 275.624 2655.33 273.425 Q2657.41 271.249 2657.41 266.828 L2657.41 264.722 Q2656.09 267.013 2654.03 268.147 Q2651.97 269.282 2649.1 269.282 Q2644.33 269.282 2641.41 265.647 Q2638.5 262.013 2638.5 256.018 Q2638.5 249.999 2641.41 246.365 Q2644.33 242.731 2649.1 242.731 Q2651.97 242.731 2654.03 243.865 Q2656.09 244.999 2657.41 247.291 L2657.41 243.356 L2661.67 243.356 L2661.67 266.064 Z\" fill=\"#000000\" fill-rule=\"evenodd\" fill-opacity=\"1\" /><path clip-path=\"url(#clip240)\" d=\"M2670.44 243.356 L2674.7 243.356 L2674.7 269.282 L2670.44 269.282 L2670.44 243.356 M2670.44 233.263 L2674.7 233.263 L2674.7 238.657 L2670.44 238.657 L2670.44 233.263 Z\" fill=\"#000000\" fill-rule=\"evenodd\" fill-opacity=\"1\" /><path clip-path=\"url(#clip240)\" d=\"M2705.16 253.634 L2705.16 269.282 L2700.9 269.282 L2700.9 253.773 Q2700.9 250.092 2699.47 248.263 Q2698.03 246.435 2695.16 246.435 Q2691.71 246.435 2689.72 248.634 Q2687.73 250.833 2687.73 254.629 L2687.73 269.282 L2683.45 269.282 L2683.45 243.356 L2687.73 243.356 L2687.73 247.384 Q2689.26 245.046 2691.32 243.888 Q2693.4 242.731 2696.11 242.731 Q2700.58 242.731 2702.87 245.509 Q2705.16 248.263 2705.16 253.634 Z\" fill=\"#000000\" fill-rule=\"evenodd\" fill-opacity=\"1\" /><path clip-path=\"url(#clip240)\" d=\"M2725.44 256.249 Q2720.28 256.249 2718.29 257.43 Q2716.3 258.61 2716.3 261.458 Q2716.3 263.726 2717.78 265.069 Q2719.28 266.388 2721.85 266.388 Q2725.39 266.388 2727.52 263.888 Q2729.68 261.365 2729.68 257.198 L2729.68 256.249 L2725.44 256.249 M2733.94 254.49 L2733.94 269.282 L2729.68 269.282 L2729.68 265.347 Q2728.22 267.708 2726.04 268.842 Q2723.87 269.953 2720.72 269.953 Q2716.74 269.953 2714.38 267.731 Q2712.04 265.485 2712.04 261.735 Q2712.04 257.36 2714.95 255.138 Q2717.89 252.916 2723.7 252.916 L2729.68 252.916 L2729.68 252.499 Q2729.68 249.56 2727.73 247.962 Q2725.81 246.342 2722.32 246.342 Q2720.09 246.342 2717.99 246.874 Q2715.88 247.407 2713.94 248.472 L2713.94 244.536 Q2716.27 243.634 2718.47 243.194 Q2720.67 242.731 2722.76 242.731 Q2728.38 242.731 2731.16 245.648 Q2733.94 248.564 2733.94 254.49 Z\" fill=\"#000000\" fill-rule=\"evenodd\" fill-opacity=\"1\" /><path clip-path=\"url(#clip240)\" d=\"M2742.71 233.263 L2746.97 233.263 L2746.97 269.282 L2742.71 269.282 L2742.71 233.263 Z\" fill=\"#000000\" fill-rule=\"evenodd\" fill-opacity=\"1\" /><path clip-path=\"url(#clip240)\" d=\"M2775.07 265.393 L2775.07 279.143 L2770.79 279.143 L2770.79 243.356 L2775.07 243.356 L2775.07 247.291 Q2776.41 244.976 2778.45 243.865 Q2780.51 242.731 2783.36 242.731 Q2788.08 242.731 2791.02 246.481 Q2793.98 250.231 2793.98 256.342 Q2793.98 262.453 2791.02 266.203 Q2788.08 269.953 2783.36 269.953 Q2780.51 269.953 2778.45 268.842 Q2776.41 267.708 2775.07 265.393 M2789.56 256.342 Q2789.56 251.643 2787.62 248.981 Q2785.69 246.296 2782.32 246.296 Q2778.94 246.296 2776.99 248.981 Q2775.07 251.643 2775.07 256.342 Q2775.07 261.041 2776.99 263.726 Q2778.94 266.388 2782.32 266.388 Q2785.69 266.388 2787.62 263.726 Q2789.56 261.041 2789.56 256.342 Z\" fill=\"#000000\" fill-rule=\"evenodd\" fill-opacity=\"1\" /><path clip-path=\"url(#clip240)\" d=\"M2816.07 247.337 Q2815.35 246.921 2814.49 246.736 Q2813.66 246.527 2812.64 246.527 Q2809.03 246.527 2807.08 248.888 Q2805.16 251.226 2805.16 255.624 L2805.16 269.282 L2800.88 269.282 L2800.88 243.356 L2805.16 243.356 L2805.16 247.384 Q2806.5 245.023 2808.66 243.888 Q2810.81 242.731 2813.89 242.731 Q2814.33 242.731 2814.86 242.8 Q2815.39 242.847 2816.04 242.962 L2816.07 247.337 Z\" fill=\"#000000\" fill-rule=\"evenodd\" fill-opacity=\"1\" /><path clip-path=\"url(#clip240)\" d=\"M2820.53 243.356 L2824.79 243.356 L2824.79 269.282 L2820.53 269.282 L2820.53 243.356 M2820.53 233.263 L2824.79 233.263 L2824.79 238.657 L2820.53 238.657 L2820.53 233.263 Z\" fill=\"#000000\" fill-rule=\"evenodd\" fill-opacity=\"1\" /><path clip-path=\"url(#clip240)\" d=\"M2852.36 244.351 L2852.36 248.333 Q2850.56 247.337 2848.73 246.851 Q2846.92 246.342 2845.07 246.342 Q2840.93 246.342 2838.63 248.981 Q2836.34 251.597 2836.34 256.342 Q2836.34 261.087 2838.63 263.726 Q2840.93 266.342 2845.07 266.342 Q2846.92 266.342 2848.73 265.856 Q2850.56 265.347 2852.36 264.351 L2852.36 268.286 Q2850.58 269.12 2848.66 269.536 Q2846.76 269.953 2844.61 269.953 Q2838.75 269.953 2835.3 266.272 Q2831.85 262.592 2831.85 256.342 Q2831.85 249.999 2835.32 246.365 Q2838.82 242.731 2844.88 242.731 Q2846.85 242.731 2848.73 243.148 Q2850.6 243.541 2852.36 244.351 Z\" fill=\"#000000\" fill-rule=\"evenodd\" fill-opacity=\"1\" /><path clip-path=\"url(#clip240)\" d=\"M2881.94 255.254 L2881.94 257.337 L2862.36 257.337 Q2862.64 261.735 2865 264.05 Q2867.38 266.342 2871.62 266.342 Q2874.07 266.342 2876.37 265.74 Q2878.68 265.138 2880.95 263.935 L2880.95 267.962 Q2878.66 268.934 2876.25 269.444 Q2873.84 269.953 2871.37 269.953 Q2865.16 269.953 2861.53 266.342 Q2857.92 262.731 2857.92 256.573 Q2857.92 250.208 2861.34 246.481 Q2864.79 242.731 2870.62 242.731 Q2875.86 242.731 2878.89 246.111 Q2881.94 249.467 2881.94 255.254 M2877.69 254.004 Q2877.64 250.509 2875.72 248.425 Q2873.82 246.342 2870.67 246.342 Q2867.11 246.342 2864.95 248.356 Q2862.82 250.37 2862.5 254.027 L2877.69 254.004 Z\" fill=\"#000000\" fill-rule=\"evenodd\" fill-opacity=\"1\" /><polyline clip-path=\"url(#clip240)\" style=\"stroke:#e26f46; stroke-linecap:round; stroke-linejoin:round; stroke-width:4; stroke-opacity:1; fill:none\" points=\"2153.86,303.842 2345.49,303.842 \"/>\n",
       "<path clip-path=\"url(#clip240)\" d=\"M2382.11 290.404 L2382.11 303.39 L2387.99 303.39 Q2391.25 303.39 2393.03 301.701 Q2394.82 300.011 2394.82 296.886 Q2394.82 293.784 2393.03 292.094 Q2391.25 290.404 2387.99 290.404 L2382.11 290.404 M2377.43 286.562 L2387.99 286.562 Q2393.8 286.562 2396.76 289.201 Q2399.75 291.816 2399.75 296.886 Q2399.75 302.001 2396.76 304.617 Q2393.8 307.233 2387.99 307.233 L2382.11 307.233 L2382.11 321.122 L2377.43 321.122 L2377.43 286.562 Z\" fill=\"#000000\" fill-rule=\"evenodd\" fill-opacity=\"1\" /><path clip-path=\"url(#clip240)\" d=\"M2420.03 299.177 Q2419.31 298.761 2418.45 298.576 Q2417.62 298.367 2416.6 298.367 Q2412.99 298.367 2411.04 300.728 Q2409.12 303.066 2409.12 307.464 L2409.12 321.122 L2404.84 321.122 L2404.84 295.196 L2409.12 295.196 L2409.12 299.224 Q2410.47 296.863 2412.62 295.728 Q2414.77 294.571 2417.85 294.571 Q2418.29 294.571 2418.82 294.64 Q2419.35 294.687 2420 294.802 L2420.03 299.177 Z\" fill=\"#000000\" fill-rule=\"evenodd\" fill-opacity=\"1\" /><path clip-path=\"url(#clip240)\" d=\"M2433.5 298.182 Q2430.07 298.182 2428.08 300.867 Q2426.09 303.529 2426.09 308.182 Q2426.09 312.835 2428.06 315.52 Q2430.05 318.182 2433.5 318.182 Q2436.9 318.182 2438.89 315.497 Q2440.88 312.812 2440.88 308.182 Q2440.88 303.576 2438.89 300.89 Q2436.9 298.182 2433.5 298.182 M2433.5 294.571 Q2439.05 294.571 2442.22 298.182 Q2445.4 301.793 2445.4 308.182 Q2445.4 314.548 2442.22 318.182 Q2439.05 321.793 2433.5 321.793 Q2427.92 321.793 2424.75 318.182 Q2421.6 314.548 2421.6 308.182 Q2421.6 301.793 2424.75 298.182 Q2427.92 294.571 2433.5 294.571 Z\" fill=\"#000000\" fill-rule=\"evenodd\" fill-opacity=\"1\" /><path clip-path=\"url(#clip240)\" d=\"M2465.58 285.103 L2465.58 288.645 L2461.51 288.645 Q2459.22 288.645 2458.31 289.571 Q2457.43 290.497 2457.43 292.904 L2457.43 295.196 L2464.45 295.196 L2464.45 298.506 L2457.43 298.506 L2457.43 321.122 L2453.15 321.122 L2453.15 298.506 L2449.08 298.506 L2449.08 295.196 L2453.15 295.196 L2453.15 293.39 Q2453.15 289.062 2455.16 287.094 Q2457.18 285.103 2461.55 285.103 L2465.58 285.103 Z\" fill=\"#000000\" fill-rule=\"evenodd\" fill-opacity=\"1\" /><path clip-path=\"url(#clip240)\" d=\"M2469.15 295.196 L2473.4 295.196 L2473.4 321.122 L2469.15 321.122 L2469.15 295.196 M2469.15 285.103 L2473.4 285.103 L2473.4 290.497 L2469.15 290.497 L2469.15 285.103 Z\" fill=\"#000000\" fill-rule=\"evenodd\" fill-opacity=\"1\" /><path clip-path=\"url(#clip240)\" d=\"M2486.53 287.835 L2486.53 295.196 L2495.3 295.196 L2495.3 298.506 L2486.53 298.506 L2486.53 312.58 Q2486.53 315.751 2487.39 316.654 Q2488.27 317.557 2490.93 317.557 L2495.3 317.557 L2495.3 321.122 L2490.93 321.122 Q2486 321.122 2484.12 319.293 Q2482.25 317.441 2482.25 312.58 L2482.25 298.506 L2479.12 298.506 L2479.12 295.196 L2482.25 295.196 L2482.25 287.835 L2486.53 287.835 Z\" fill=\"#000000\" fill-rule=\"evenodd\" fill-opacity=\"1\" /><path clip-path=\"url(#clip240)\" d=\"M2527.76 308.089 Q2522.59 308.089 2520.6 309.27 Q2518.61 310.45 2518.61 313.298 Q2518.61 315.566 2520.09 316.909 Q2521.6 318.228 2524.17 318.228 Q2527.71 318.228 2529.84 315.728 Q2531.99 313.205 2531.99 309.038 L2531.99 308.089 L2527.76 308.089 M2536.25 306.33 L2536.25 321.122 L2531.99 321.122 L2531.99 317.187 Q2530.53 319.548 2528.36 320.682 Q2526.18 321.793 2523.03 321.793 Q2519.05 321.793 2516.69 319.571 Q2514.35 317.325 2514.35 313.575 Q2514.35 309.2 2517.27 306.978 Q2520.21 304.756 2526.02 304.756 L2531.99 304.756 L2531.99 304.339 Q2531.99 301.4 2530.05 299.802 Q2528.13 298.182 2524.63 298.182 Q2522.41 298.182 2520.3 298.714 Q2518.2 299.247 2516.25 300.312 L2516.25 296.376 Q2518.59 295.474 2520.79 295.034 Q2522.99 294.571 2525.07 294.571 Q2530.7 294.571 2533.47 297.488 Q2536.25 300.404 2536.25 306.33 Z\" fill=\"#000000\" fill-rule=\"evenodd\" fill-opacity=\"1\" /><path clip-path=\"url(#clip240)\" d=\"M2549.24 287.835 L2549.24 295.196 L2558.01 295.196 L2558.01 298.506 L2549.24 298.506 L2549.24 312.58 Q2549.24 315.751 2550.09 316.654 Q2550.97 317.557 2553.64 317.557 L2558.01 317.557 L2558.01 321.122 L2553.64 321.122 Q2548.71 321.122 2546.83 319.293 Q2544.96 317.441 2544.96 312.58 L2544.96 298.506 L2541.83 298.506 L2541.83 295.196 L2544.96 295.196 L2544.96 287.835 L2549.24 287.835 Z\" fill=\"#000000\" fill-rule=\"evenodd\" fill-opacity=\"1\" /><path clip-path=\"url(#clip240)\" d=\"M2579.33 286.562 L2597.69 286.562 L2597.69 290.497 L2583.61 290.497 L2583.61 298.969 Q2584.63 298.622 2585.65 298.46 Q2586.67 298.275 2587.69 298.275 Q2593.47 298.275 2596.85 301.446 Q2600.23 304.617 2600.23 310.034 Q2600.23 315.612 2596.76 318.714 Q2593.29 321.793 2586.97 321.793 Q2584.79 321.793 2582.52 321.423 Q2580.28 321.052 2577.87 320.312 L2577.87 315.612 Q2579.96 316.747 2582.18 317.302 Q2584.4 317.858 2586.88 317.858 Q2590.88 317.858 2593.22 315.751 Q2595.56 313.645 2595.56 310.034 Q2595.56 306.423 2593.22 304.316 Q2590.88 302.21 2586.88 302.21 Q2585 302.21 2583.13 302.626 Q2581.27 303.043 2579.33 303.923 L2579.33 286.562 Z\" fill=\"#000000\" fill-rule=\"evenodd\" fill-opacity=\"1\" /><path clip-path=\"url(#clip240)\" d=\"M2638.84 305.913 Q2636.83 305.913 2635.67 307.626 Q2634.54 309.339 2634.54 312.395 Q2634.54 315.404 2635.67 317.14 Q2636.83 318.853 2638.84 318.853 Q2640.81 318.853 2641.95 317.14 Q2643.1 315.404 2643.1 312.395 Q2643.1 309.363 2641.95 307.65 Q2640.81 305.913 2638.84 305.913 M2638.84 302.974 Q2642.5 302.974 2644.65 305.52 Q2646.81 308.066 2646.81 312.395 Q2646.81 316.724 2644.63 319.27 Q2642.48 321.793 2638.84 321.793 Q2635.14 321.793 2632.99 319.27 Q2630.83 316.724 2630.83 312.395 Q2630.83 308.043 2632.99 305.52 Q2635.16 302.974 2638.84 302.974 M2614.95 288.877 Q2612.96 288.877 2611.81 290.613 Q2610.67 292.326 2610.67 295.335 Q2610.67 298.39 2611.81 300.103 Q2612.94 301.816 2614.95 301.816 Q2616.97 301.816 2618.1 300.103 Q2619.26 298.39 2619.26 295.335 Q2619.26 292.349 2618.1 290.613 Q2616.95 288.877 2614.95 288.877 M2635.86 285.937 L2639.56 285.937 L2617.94 321.793 L2614.24 321.793 L2635.86 285.937 M2614.95 285.937 Q2618.61 285.937 2620.79 288.483 Q2622.96 291.006 2622.96 295.335 Q2622.96 299.71 2620.79 302.233 Q2618.64 304.756 2614.95 304.756 Q2611.27 304.756 2609.12 302.233 Q2606.99 299.687 2606.99 295.335 Q2606.99 291.029 2609.14 288.483 Q2611.3 285.937 2614.95 285.937 Z\" fill=\"#000000\" fill-rule=\"evenodd\" fill-opacity=\"1\" /><path clip-path=\"url(#clip240)\" d=\"M2673.08 317.233 L2673.08 330.983 L2668.8 330.983 L2668.8 295.196 L2673.08 295.196 L2673.08 299.131 Q2674.42 296.816 2676.46 295.705 Q2678.52 294.571 2681.37 294.571 Q2686.09 294.571 2689.03 298.321 Q2691.99 302.071 2691.99 308.182 Q2691.99 314.293 2689.03 318.043 Q2686.09 321.793 2681.37 321.793 Q2678.52 321.793 2676.46 320.682 Q2674.42 319.548 2673.08 317.233 M2687.57 308.182 Q2687.57 303.483 2685.63 300.821 Q2683.7 298.136 2680.33 298.136 Q2676.95 298.136 2675 300.821 Q2673.08 303.483 2673.08 308.182 Q2673.08 312.881 2675 315.566 Q2676.95 318.228 2680.33 318.228 Q2683.7 318.228 2685.63 315.566 Q2687.57 312.881 2687.57 308.182 Z\" fill=\"#000000\" fill-rule=\"evenodd\" fill-opacity=\"1\" /><path clip-path=\"url(#clip240)\" d=\"M2714.07 299.177 Q2713.36 298.761 2712.5 298.576 Q2711.67 298.367 2710.65 298.367 Q2707.04 298.367 2705.09 300.728 Q2703.17 303.066 2703.17 307.464 L2703.17 321.122 L2698.89 321.122 L2698.89 295.196 L2703.17 295.196 L2703.17 299.224 Q2704.51 296.863 2706.67 295.728 Q2708.82 294.571 2711.9 294.571 Q2712.34 294.571 2712.87 294.64 Q2713.4 294.687 2714.05 294.802 L2714.07 299.177 Z\" fill=\"#000000\" fill-rule=\"evenodd\" fill-opacity=\"1\" /><path clip-path=\"url(#clip240)\" d=\"M2718.54 295.196 L2722.8 295.196 L2722.8 321.122 L2718.54 321.122 L2718.54 295.196 M2718.54 285.103 L2722.8 285.103 L2722.8 290.497 L2718.54 290.497 L2718.54 285.103 Z\" fill=\"#000000\" fill-rule=\"evenodd\" fill-opacity=\"1\" /><path clip-path=\"url(#clip240)\" d=\"M2750.37 296.191 L2750.37 300.173 Q2748.57 299.177 2746.74 298.691 Q2744.93 298.182 2743.08 298.182 Q2738.94 298.182 2736.64 300.821 Q2734.35 303.437 2734.35 308.182 Q2734.35 312.927 2736.64 315.566 Q2738.94 318.182 2743.08 318.182 Q2744.93 318.182 2746.74 317.696 Q2748.57 317.187 2750.37 316.191 L2750.37 320.126 Q2748.59 320.96 2746.67 321.376 Q2744.77 321.793 2742.62 321.793 Q2736.76 321.793 2733.31 318.112 Q2729.86 314.432 2729.86 308.182 Q2729.86 301.839 2733.33 298.205 Q2736.83 294.571 2742.89 294.571 Q2744.86 294.571 2746.74 294.988 Q2748.61 295.381 2750.37 296.191 Z\" fill=\"#000000\" fill-rule=\"evenodd\" fill-opacity=\"1\" /><path clip-path=\"url(#clip240)\" d=\"M2779.95 307.094 L2779.95 309.177 L2760.37 309.177 Q2760.65 313.575 2763.01 315.89 Q2765.39 318.182 2769.63 318.182 Q2772.08 318.182 2774.38 317.58 Q2776.69 316.978 2778.96 315.775 L2778.96 319.802 Q2776.67 320.774 2774.26 321.284 Q2771.85 321.793 2769.38 321.793 Q2763.17 321.793 2759.54 318.182 Q2755.93 314.571 2755.93 308.413 Q2755.93 302.048 2759.35 298.321 Q2762.8 294.571 2768.63 294.571 Q2773.87 294.571 2776.9 297.951 Q2779.95 301.307 2779.95 307.094 M2775.69 305.844 Q2775.65 302.349 2773.73 300.265 Q2771.83 298.182 2768.68 298.182 Q2765.12 298.182 2762.96 300.196 Q2760.83 302.21 2760.51 305.867 L2775.69 305.844 Z\" fill=\"#000000\" fill-rule=\"evenodd\" fill-opacity=\"1\" /><path clip-path=\"url(#clip240)\" d=\"M2802.01 295.196 L2806.27 295.196 L2806.27 321.122 L2802.01 321.122 L2802.01 295.196 M2802.01 285.103 L2806.27 285.103 L2806.27 290.497 L2802.01 290.497 L2802.01 285.103 Z\" fill=\"#000000\" fill-rule=\"evenodd\" fill-opacity=\"1\" /><path clip-path=\"url(#clip240)\" d=\"M2836.74 305.474 L2836.74 321.122 L2832.48 321.122 L2832.48 305.613 Q2832.48 301.932 2831.04 300.103 Q2829.61 298.275 2826.74 298.275 Q2823.29 298.275 2821.3 300.474 Q2819.31 302.673 2819.31 306.469 L2819.31 321.122 L2815.02 321.122 L2815.02 295.196 L2819.31 295.196 L2819.31 299.224 Q2820.83 296.886 2822.89 295.728 Q2824.98 294.571 2827.69 294.571 Q2832.15 294.571 2834.44 297.349 Q2836.74 300.103 2836.74 305.474 Z\" fill=\"#000000\" fill-rule=\"evenodd\" fill-opacity=\"1\" /><path clip-path=\"url(#clip240)\" d=\"M2863.89 296.191 L2863.89 300.173 Q2862.08 299.177 2860.25 298.691 Q2858.45 298.182 2856.6 298.182 Q2852.45 298.182 2850.16 300.821 Q2847.87 303.437 2847.87 308.182 Q2847.87 312.927 2850.16 315.566 Q2852.45 318.182 2856.6 318.182 Q2858.45 318.182 2860.25 317.696 Q2862.08 317.187 2863.89 316.191 L2863.89 320.126 Q2862.11 320.96 2860.19 321.376 Q2858.29 321.793 2856.13 321.793 Q2850.28 321.793 2846.83 318.112 Q2843.38 314.432 2843.38 308.182 Q2843.38 301.839 2846.85 298.205 Q2850.35 294.571 2856.41 294.571 Q2858.38 294.571 2860.25 294.988 Q2862.13 295.381 2863.89 296.191 Z\" fill=\"#000000\" fill-rule=\"evenodd\" fill-opacity=\"1\" /><path clip-path=\"url(#clip240)\" d=\"M2886.32 299.177 Q2885.6 298.761 2884.75 298.576 Q2883.91 298.367 2882.89 298.367 Q2879.28 298.367 2877.34 300.728 Q2875.42 303.066 2875.42 307.464 L2875.42 321.122 L2871.13 321.122 L2871.13 295.196 L2875.42 295.196 L2875.42 299.224 Q2876.76 296.863 2878.91 295.728 Q2881.06 294.571 2884.14 294.571 Q2884.58 294.571 2885.12 294.64 Q2885.65 294.687 2886.3 294.802 L2886.32 299.177 Z\" fill=\"#000000\" fill-rule=\"evenodd\" fill-opacity=\"1\" /><path clip-path=\"url(#clip240)\" d=\"M2911.92 307.094 L2911.92 309.177 L2892.34 309.177 Q2892.62 313.575 2894.98 315.89 Q2897.36 318.182 2901.6 318.182 Q2904.05 318.182 2906.34 317.58 Q2908.66 316.978 2910.93 315.775 L2910.93 319.802 Q2908.63 320.774 2906.23 321.284 Q2903.82 321.793 2901.34 321.793 Q2895.14 321.793 2891.5 318.182 Q2887.89 314.571 2887.89 308.413 Q2887.89 302.048 2891.32 298.321 Q2894.77 294.571 2900.6 294.571 Q2905.83 294.571 2908.87 297.951 Q2911.92 301.307 2911.92 307.094 M2907.66 305.844 Q2907.62 302.349 2905.69 300.265 Q2903.8 298.182 2900.65 298.182 Q2897.08 298.182 2894.93 300.196 Q2892.8 302.21 2892.48 305.867 L2907.66 305.844 Z\" fill=\"#000000\" fill-rule=\"evenodd\" fill-opacity=\"1\" /><path clip-path=\"url(#clip240)\" d=\"M2930.69 308.089 Q2925.53 308.089 2923.54 309.27 Q2921.55 310.45 2921.55 313.298 Q2921.55 315.566 2923.03 316.909 Q2924.54 318.228 2927.11 318.228 Q2930.65 318.228 2932.78 315.728 Q2934.93 313.205 2934.93 309.038 L2934.93 308.089 L2930.69 308.089 M2939.19 306.33 L2939.19 321.122 L2934.93 321.122 L2934.93 317.187 Q2933.47 319.548 2931.3 320.682 Q2929.12 321.793 2925.97 321.793 Q2921.99 321.793 2919.63 319.571 Q2917.29 317.325 2917.29 313.575 Q2917.29 309.2 2920.21 306.978 Q2923.15 304.756 2928.96 304.756 L2934.93 304.756 L2934.93 304.339 Q2934.93 301.4 2932.99 299.802 Q2931.06 298.182 2927.57 298.182 Q2925.35 298.182 2923.24 298.714 Q2921.13 299.247 2919.19 300.312 L2919.19 296.376 Q2921.53 295.474 2923.73 295.034 Q2925.93 294.571 2928.01 294.571 Q2933.63 294.571 2936.41 297.488 Q2939.19 300.404 2939.19 306.33 Z\" fill=\"#000000\" fill-rule=\"evenodd\" fill-opacity=\"1\" /><path clip-path=\"url(#clip240)\" d=\"M2964.49 295.96 L2964.49 299.988 Q2962.68 299.062 2960.74 298.599 Q2958.8 298.136 2956.71 298.136 Q2953.54 298.136 2951.94 299.108 Q2950.37 300.08 2950.37 302.025 Q2950.37 303.506 2951.5 304.363 Q2952.64 305.196 2956.06 305.96 L2957.52 306.284 Q2962.06 307.256 2963.96 309.038 Q2965.88 310.798 2965.88 313.969 Q2965.88 317.58 2963.01 319.687 Q2960.16 321.793 2955.16 321.793 Q2953.08 321.793 2950.81 321.376 Q2948.56 320.983 2946.06 320.173 L2946.06 315.775 Q2948.43 317.001 2950.72 317.626 Q2953.01 318.228 2955.25 318.228 Q2958.26 318.228 2959.88 317.21 Q2961.5 316.168 2961.5 314.293 Q2961.5 312.557 2960.32 311.631 Q2959.17 310.705 2955.21 309.849 L2953.73 309.501 Q2949.77 308.668 2948.01 306.955 Q2946.25 305.219 2946.25 302.21 Q2946.25 298.552 2948.84 296.562 Q2951.43 294.571 2956.2 294.571 Q2958.56 294.571 2960.65 294.918 Q2962.73 295.265 2964.49 295.96 Z\" fill=\"#000000\" fill-rule=\"evenodd\" fill-opacity=\"1\" /><path clip-path=\"url(#clip240)\" d=\"M2994.84 307.094 L2994.84 309.177 L2975.25 309.177 Q2975.53 313.575 2977.89 315.89 Q2980.28 318.182 2984.51 318.182 Q2986.97 318.182 2989.26 317.58 Q2991.57 316.978 2993.84 315.775 L2993.84 319.802 Q2991.55 320.774 2989.14 321.284 Q2986.74 321.793 2984.26 321.793 Q2978.05 321.793 2974.42 318.182 Q2970.81 314.571 2970.81 308.413 Q2970.81 302.048 2974.24 298.321 Q2977.68 294.571 2983.52 294.571 Q2988.75 294.571 2991.78 297.951 Q2994.84 301.307 2994.84 307.094 M2990.58 305.844 Q2990.53 302.349 2988.61 300.265 Q2986.71 298.182 2983.56 298.182 Q2980 298.182 2977.85 300.196 Q2975.72 302.21 2975.39 305.867 L2990.58 305.844 Z\" fill=\"#000000\" fill-rule=\"evenodd\" fill-opacity=\"1\" /><polyline clip-path=\"url(#clip240)\" style=\"stroke:#3da44d; stroke-linecap:round; stroke-linejoin:round; stroke-width:4; stroke-opacity:1; fill:none\" points=\"2153.86,355.682 2345.49,355.682 \"/>\n",
       "<path clip-path=\"url(#clip240)\" d=\"M2382.11 342.244 L2382.11 355.23 L2387.99 355.23 Q2391.25 355.23 2393.03 353.541 Q2394.82 351.851 2394.82 348.726 Q2394.82 345.624 2393.03 343.934 Q2391.25 342.244 2387.99 342.244 L2382.11 342.244 M2377.43 338.402 L2387.99 338.402 Q2393.8 338.402 2396.76 341.041 Q2399.75 343.656 2399.75 348.726 Q2399.75 353.841 2396.76 356.457 Q2393.8 359.073 2387.99 359.073 L2382.11 359.073 L2382.11 372.962 L2377.43 372.962 L2377.43 338.402 Z\" fill=\"#000000\" fill-rule=\"evenodd\" fill-opacity=\"1\" /><path clip-path=\"url(#clip240)\" d=\"M2420.03 351.017 Q2419.31 350.601 2418.45 350.416 Q2417.62 350.207 2416.6 350.207 Q2412.99 350.207 2411.04 352.568 Q2409.12 354.906 2409.12 359.304 L2409.12 372.962 L2404.84 372.962 L2404.84 347.036 L2409.12 347.036 L2409.12 351.064 Q2410.47 348.703 2412.62 347.568 Q2414.77 346.411 2417.85 346.411 Q2418.29 346.411 2418.82 346.48 Q2419.35 346.527 2420 346.642 L2420.03 351.017 Z\" fill=\"#000000\" fill-rule=\"evenodd\" fill-opacity=\"1\" /><path clip-path=\"url(#clip240)\" d=\"M2433.5 350.022 Q2430.07 350.022 2428.08 352.707 Q2426.09 355.369 2426.09 360.022 Q2426.09 364.675 2428.06 367.36 Q2430.05 370.022 2433.5 370.022 Q2436.9 370.022 2438.89 367.337 Q2440.88 364.652 2440.88 360.022 Q2440.88 355.416 2438.89 352.73 Q2436.9 350.022 2433.5 350.022 M2433.5 346.411 Q2439.05 346.411 2442.22 350.022 Q2445.4 353.633 2445.4 360.022 Q2445.4 366.388 2442.22 370.022 Q2439.05 373.633 2433.5 373.633 Q2427.92 373.633 2424.75 370.022 Q2421.6 366.388 2421.6 360.022 Q2421.6 353.633 2424.75 350.022 Q2427.92 346.411 2433.5 346.411 Z\" fill=\"#000000\" fill-rule=\"evenodd\" fill-opacity=\"1\" /><path clip-path=\"url(#clip240)\" d=\"M2465.58 336.943 L2465.58 340.485 L2461.51 340.485 Q2459.22 340.485 2458.31 341.411 Q2457.43 342.337 2457.43 344.744 L2457.43 347.036 L2464.45 347.036 L2464.45 350.346 L2457.43 350.346 L2457.43 372.962 L2453.15 372.962 L2453.15 350.346 L2449.08 350.346 L2449.08 347.036 L2453.15 347.036 L2453.15 345.23 Q2453.15 340.902 2455.16 338.934 Q2457.18 336.943 2461.55 336.943 L2465.58 336.943 Z\" fill=\"#000000\" fill-rule=\"evenodd\" fill-opacity=\"1\" /><path clip-path=\"url(#clip240)\" d=\"M2469.15 347.036 L2473.4 347.036 L2473.4 372.962 L2469.15 372.962 L2469.15 347.036 M2469.15 336.943 L2473.4 336.943 L2473.4 342.337 L2469.15 342.337 L2469.15 336.943 Z\" fill=\"#000000\" fill-rule=\"evenodd\" fill-opacity=\"1\" /><path clip-path=\"url(#clip240)\" d=\"M2486.53 339.675 L2486.53 347.036 L2495.3 347.036 L2495.3 350.346 L2486.53 350.346 L2486.53 364.42 Q2486.53 367.591 2487.39 368.494 Q2488.27 369.397 2490.93 369.397 L2495.3 369.397 L2495.3 372.962 L2490.93 372.962 Q2486 372.962 2484.12 371.133 Q2482.25 369.281 2482.25 364.42 L2482.25 350.346 L2479.12 350.346 L2479.12 347.036 L2482.25 347.036 L2482.25 339.675 L2486.53 339.675 Z\" fill=\"#000000\" fill-rule=\"evenodd\" fill-opacity=\"1\" /><path clip-path=\"url(#clip240)\" d=\"M2527.76 359.929 Q2522.59 359.929 2520.6 361.11 Q2518.61 362.29 2518.61 365.138 Q2518.61 367.406 2520.09 368.749 Q2521.6 370.068 2524.17 370.068 Q2527.71 370.068 2529.84 367.568 Q2531.99 365.045 2531.99 360.878 L2531.99 359.929 L2527.76 359.929 M2536.25 358.17 L2536.25 372.962 L2531.99 372.962 L2531.99 369.027 Q2530.53 371.388 2528.36 372.522 Q2526.18 373.633 2523.03 373.633 Q2519.05 373.633 2516.69 371.411 Q2514.35 369.165 2514.35 365.415 Q2514.35 361.04 2517.27 358.818 Q2520.21 356.596 2526.02 356.596 L2531.99 356.596 L2531.99 356.179 Q2531.99 353.24 2530.05 351.642 Q2528.13 350.022 2524.63 350.022 Q2522.41 350.022 2520.3 350.554 Q2518.2 351.087 2516.25 352.152 L2516.25 348.216 Q2518.59 347.314 2520.79 346.874 Q2522.99 346.411 2525.07 346.411 Q2530.7 346.411 2533.47 349.328 Q2536.25 352.244 2536.25 358.17 Z\" fill=\"#000000\" fill-rule=\"evenodd\" fill-opacity=\"1\" /><path clip-path=\"url(#clip240)\" d=\"M2549.24 339.675 L2549.24 347.036 L2558.01 347.036 L2558.01 350.346 L2549.24 350.346 L2549.24 364.42 Q2549.24 367.591 2550.09 368.494 Q2550.97 369.397 2553.64 369.397 L2558.01 369.397 L2558.01 372.962 L2553.64 372.962 Q2548.71 372.962 2546.83 371.133 Q2544.96 369.281 2544.96 364.42 L2544.96 350.346 L2541.83 350.346 L2541.83 347.036 L2544.96 347.036 L2544.96 339.675 L2549.24 339.675 Z\" fill=\"#000000\" fill-rule=\"evenodd\" fill-opacity=\"1\" /><path clip-path=\"url(#clip240)\" d=\"M2580.09 369.027 L2587.73 369.027 L2587.73 342.661 L2579.42 344.328 L2579.42 340.068 L2587.69 338.402 L2592.36 338.402 L2592.36 369.027 L2600 369.027 L2600 372.962 L2580.09 372.962 L2580.09 369.027 Z\" fill=\"#000000\" fill-rule=\"evenodd\" fill-opacity=\"1\" /><path clip-path=\"url(#clip240)\" d=\"M2619.45 341.48 Q2615.83 341.48 2614.01 345.045 Q2612.2 348.587 2612.2 355.716 Q2612.2 362.823 2614.01 366.388 Q2615.83 369.929 2619.45 369.929 Q2623.08 369.929 2624.89 366.388 Q2626.71 362.823 2626.71 355.716 Q2626.71 348.587 2624.89 345.045 Q2623.08 341.48 2619.45 341.48 M2619.45 337.777 Q2625.26 337.777 2628.31 342.383 Q2631.39 346.966 2631.39 355.716 Q2631.39 364.443 2628.31 369.05 Q2625.26 373.633 2619.45 373.633 Q2613.64 373.633 2610.56 369.05 Q2607.5 364.443 2607.5 355.716 Q2607.5 346.966 2610.56 342.383 Q2613.64 337.777 2619.45 337.777 Z\" fill=\"#000000\" fill-rule=\"evenodd\" fill-opacity=\"1\" /><path clip-path=\"url(#clip240)\" d=\"M2669.01 357.753 Q2666.99 357.753 2665.83 359.466 Q2664.7 361.179 2664.7 364.235 Q2664.7 367.244 2665.83 368.98 Q2666.99 370.693 2669.01 370.693 Q2670.97 370.693 2672.11 368.98 Q2673.26 367.244 2673.26 364.235 Q2673.26 361.203 2672.11 359.49 Q2670.97 357.753 2669.01 357.753 M2669.01 354.814 Q2672.66 354.814 2674.82 357.36 Q2676.97 359.906 2676.97 364.235 Q2676.97 368.564 2674.79 371.11 Q2672.64 373.633 2669.01 373.633 Q2665.3 373.633 2663.15 371.11 Q2661 368.564 2661 364.235 Q2661 359.883 2663.15 357.36 Q2665.33 354.814 2669.01 354.814 M2645.12 340.717 Q2643.13 340.717 2641.97 342.453 Q2640.83 344.166 2640.83 347.175 Q2640.83 350.23 2641.97 351.943 Q2643.1 353.656 2645.12 353.656 Q2647.13 353.656 2648.26 351.943 Q2649.42 350.23 2649.42 347.175 Q2649.42 344.189 2648.26 342.453 Q2647.11 340.717 2645.12 340.717 M2666.02 337.777 L2669.72 337.777 L2648.1 373.633 L2644.4 373.633 L2666.02 337.777 M2645.12 337.777 Q2648.77 337.777 2650.95 340.323 Q2653.13 342.846 2653.13 347.175 Q2653.13 351.55 2650.95 354.073 Q2648.8 356.596 2645.12 356.596 Q2641.44 356.596 2639.28 354.073 Q2637.15 351.527 2637.15 347.175 Q2637.15 342.869 2639.31 340.323 Q2641.46 337.777 2645.12 337.777 Z\" fill=\"#000000\" fill-rule=\"evenodd\" fill-opacity=\"1\" /><path clip-path=\"url(#clip240)\" d=\"M2703.24 369.073 L2703.24 382.823 L2698.96 382.823 L2698.96 347.036 L2703.24 347.036 L2703.24 350.971 Q2704.58 348.656 2706.62 347.545 Q2708.68 346.411 2711.53 346.411 Q2716.25 346.411 2719.19 350.161 Q2722.15 353.911 2722.15 360.022 Q2722.15 366.133 2719.19 369.883 Q2716.25 373.633 2711.53 373.633 Q2708.68 373.633 2706.62 372.522 Q2704.58 371.388 2703.24 369.073 M2717.73 360.022 Q2717.73 355.323 2715.79 352.661 Q2713.87 349.976 2710.49 349.976 Q2707.11 349.976 2705.16 352.661 Q2703.24 355.323 2703.24 360.022 Q2703.24 364.721 2705.16 367.406 Q2707.11 370.068 2710.49 370.068 Q2713.87 370.068 2715.79 367.406 Q2717.73 364.721 2717.73 360.022 Z\" fill=\"#000000\" fill-rule=\"evenodd\" fill-opacity=\"1\" /><path clip-path=\"url(#clip240)\" d=\"M2744.24 351.017 Q2743.52 350.601 2742.66 350.416 Q2741.83 350.207 2740.81 350.207 Q2737.2 350.207 2735.26 352.568 Q2733.33 354.906 2733.33 359.304 L2733.33 372.962 L2729.05 372.962 L2729.05 347.036 L2733.33 347.036 L2733.33 351.064 Q2734.68 348.703 2736.83 347.568 Q2738.98 346.411 2742.06 346.411 Q2742.5 346.411 2743.03 346.48 Q2743.57 346.527 2744.21 346.642 L2744.24 351.017 Z\" fill=\"#000000\" fill-rule=\"evenodd\" fill-opacity=\"1\" /><path clip-path=\"url(#clip240)\" d=\"M2748.7 347.036 L2752.96 347.036 L2752.96 372.962 L2748.7 372.962 L2748.7 347.036 M2748.7 336.943 L2752.96 336.943 L2752.96 342.337 L2748.7 342.337 L2748.7 336.943 Z\" fill=\"#000000\" fill-rule=\"evenodd\" fill-opacity=\"1\" /><path clip-path=\"url(#clip240)\" d=\"M2780.53 348.031 L2780.53 352.013 Q2778.73 351.017 2776.9 350.531 Q2775.09 350.022 2773.24 350.022 Q2769.1 350.022 2766.81 352.661 Q2764.51 355.277 2764.51 360.022 Q2764.51 364.767 2766.81 367.406 Q2769.1 370.022 2773.24 370.022 Q2775.09 370.022 2776.9 369.536 Q2778.73 369.027 2780.53 368.031 L2780.53 371.966 Q2778.75 372.8 2776.83 373.216 Q2774.93 373.633 2772.78 373.633 Q2766.92 373.633 2763.47 369.952 Q2760.02 366.272 2760.02 360.022 Q2760.02 353.679 2763.5 350.045 Q2766.99 346.411 2773.06 346.411 Q2775.02 346.411 2776.9 346.828 Q2778.77 347.221 2780.53 348.031 Z\" fill=\"#000000\" fill-rule=\"evenodd\" fill-opacity=\"1\" /><path clip-path=\"url(#clip240)\" d=\"M2810.12 358.934 L2810.12 361.017 L2790.53 361.017 Q2790.81 365.415 2793.17 367.73 Q2795.56 370.022 2799.79 370.022 Q2802.25 370.022 2804.54 369.42 Q2806.85 368.818 2809.12 367.615 L2809.12 371.642 Q2806.83 372.614 2804.42 373.124 Q2802.01 373.633 2799.54 373.633 Q2793.33 373.633 2789.7 370.022 Q2786.09 366.411 2786.09 360.253 Q2786.09 353.888 2789.51 350.161 Q2792.96 346.411 2798.8 346.411 Q2804.03 346.411 2807.06 349.791 Q2810.12 353.147 2810.12 358.934 M2805.86 357.684 Q2805.81 354.189 2803.89 352.105 Q2801.99 350.022 2798.84 350.022 Q2795.28 350.022 2793.13 352.036 Q2791 354.05 2790.67 357.707 L2805.86 357.684 Z\" fill=\"#000000\" fill-rule=\"evenodd\" fill-opacity=\"1\" /><path clip-path=\"url(#clip240)\" d=\"M2832.18 347.036 L2836.44 347.036 L2836.44 372.962 L2832.18 372.962 L2832.18 347.036 M2832.18 336.943 L2836.44 336.943 L2836.44 342.337 L2832.18 342.337 L2832.18 336.943 Z\" fill=\"#000000\" fill-rule=\"evenodd\" fill-opacity=\"1\" /><path clip-path=\"url(#clip240)\" d=\"M2866.9 357.314 L2866.9 372.962 L2862.64 372.962 L2862.64 357.453 Q2862.64 353.772 2861.2 351.943 Q2859.77 350.115 2856.9 350.115 Q2853.45 350.115 2851.46 352.314 Q2849.47 354.513 2849.47 358.309 L2849.47 372.962 L2845.19 372.962 L2845.19 347.036 L2849.47 347.036 L2849.47 351.064 Q2851 348.726 2853.06 347.568 Q2855.14 346.411 2857.85 346.411 Q2862.31 346.411 2864.61 349.189 Q2866.9 351.943 2866.9 357.314 Z\" fill=\"#000000\" fill-rule=\"evenodd\" fill-opacity=\"1\" /><path clip-path=\"url(#clip240)\" d=\"M2894.05 348.031 L2894.05 352.013 Q2892.25 351.017 2890.42 350.531 Q2888.61 350.022 2886.76 350.022 Q2882.62 350.022 2880.32 352.661 Q2878.03 355.277 2878.03 360.022 Q2878.03 364.767 2880.32 367.406 Q2882.62 370.022 2886.76 370.022 Q2888.61 370.022 2890.42 369.536 Q2892.25 369.027 2894.05 368.031 L2894.05 371.966 Q2892.27 372.8 2890.35 373.216 Q2888.45 373.633 2886.3 373.633 Q2880.44 373.633 2876.99 369.952 Q2873.54 366.272 2873.54 360.022 Q2873.54 353.679 2877.01 350.045 Q2880.51 346.411 2886.57 346.411 Q2888.54 346.411 2890.42 346.828 Q2892.29 347.221 2894.05 348.031 Z\" fill=\"#000000\" fill-rule=\"evenodd\" fill-opacity=\"1\" /><path clip-path=\"url(#clip240)\" d=\"M2916.48 351.017 Q2915.76 350.601 2914.91 350.416 Q2914.07 350.207 2913.06 350.207 Q2909.44 350.207 2907.5 352.568 Q2905.58 354.906 2905.58 359.304 L2905.58 372.962 L2901.3 372.962 L2901.3 347.036 L2905.58 347.036 L2905.58 351.064 Q2906.92 348.703 2909.07 347.568 Q2911.23 346.411 2914.31 346.411 Q2914.75 346.411 2915.28 346.48 Q2915.81 346.527 2916.46 346.642 L2916.48 351.017 Z\" fill=\"#000000\" fill-rule=\"evenodd\" fill-opacity=\"1\" /><path clip-path=\"url(#clip240)\" d=\"M2942.08 358.934 L2942.08 361.017 L2922.5 361.017 Q2922.78 365.415 2925.14 367.73 Q2927.52 370.022 2931.76 370.022 Q2934.21 370.022 2936.5 369.42 Q2938.82 368.818 2941.09 367.615 L2941.09 371.642 Q2938.8 372.614 2936.39 373.124 Q2933.98 373.633 2931.5 373.633 Q2925.3 373.633 2921.67 370.022 Q2918.06 366.411 2918.06 360.253 Q2918.06 353.888 2921.48 350.161 Q2924.93 346.411 2930.76 346.411 Q2935.99 346.411 2939.03 349.791 Q2942.08 353.147 2942.08 358.934 M2937.82 357.684 Q2937.78 354.189 2935.86 352.105 Q2933.96 350.022 2930.81 350.022 Q2927.24 350.022 2925.09 352.036 Q2922.96 354.05 2922.64 357.707 L2937.82 357.684 Z\" fill=\"#000000\" fill-rule=\"evenodd\" fill-opacity=\"1\" /><path clip-path=\"url(#clip240)\" d=\"M2960.86 359.929 Q2955.69 359.929 2953.7 361.11 Q2951.71 362.29 2951.71 365.138 Q2951.71 367.406 2953.19 368.749 Q2954.7 370.068 2957.27 370.068 Q2960.81 370.068 2962.94 367.568 Q2965.09 365.045 2965.09 360.878 L2965.09 359.929 L2960.86 359.929 M2969.35 358.17 L2969.35 372.962 L2965.09 372.962 L2965.09 369.027 Q2963.63 371.388 2961.46 372.522 Q2959.28 373.633 2956.13 373.633 Q2952.15 373.633 2949.79 371.411 Q2947.45 369.165 2947.45 365.415 Q2947.45 361.04 2950.37 358.818 Q2953.31 356.596 2959.12 356.596 L2965.09 356.596 L2965.09 356.179 Q2965.09 353.24 2963.15 351.642 Q2961.23 350.022 2957.73 350.022 Q2955.51 350.022 2953.4 350.554 Q2951.3 351.087 2949.35 352.152 L2949.35 348.216 Q2951.69 347.314 2953.89 346.874 Q2956.09 346.411 2958.17 346.411 Q2963.8 346.411 2966.57 349.328 Q2969.35 352.244 2969.35 358.17 Z\" fill=\"#000000\" fill-rule=\"evenodd\" fill-opacity=\"1\" /><path clip-path=\"url(#clip240)\" d=\"M2994.65 347.8 L2994.65 351.828 Q2992.85 350.902 2990.9 350.439 Q2988.96 349.976 2986.87 349.976 Q2983.7 349.976 2982.11 350.948 Q2980.53 351.92 2980.53 353.865 Q2980.53 355.346 2981.67 356.203 Q2982.8 357.036 2986.23 357.8 L2987.68 358.124 Q2992.22 359.096 2994.12 360.878 Q2996.04 362.638 2996.04 365.809 Q2996.04 369.42 2993.17 371.527 Q2990.32 373.633 2985.32 373.633 Q2983.24 373.633 2980.97 373.216 Q2978.73 372.823 2976.23 372.013 L2976.23 367.615 Q2978.59 368.841 2980.88 369.466 Q2983.17 370.068 2985.42 370.068 Q2988.43 370.068 2990.05 369.05 Q2991.67 368.008 2991.67 366.133 Q2991.67 364.397 2990.49 363.471 Q2989.33 362.545 2985.37 361.689 L2983.89 361.341 Q2979.93 360.508 2978.17 358.795 Q2976.41 357.059 2976.41 354.05 Q2976.41 350.392 2979 348.402 Q2981.6 346.411 2986.37 346.411 Q2988.73 346.411 2990.81 346.758 Q2992.89 347.105 2994.65 347.8 Z\" fill=\"#000000\" fill-rule=\"evenodd\" fill-opacity=\"1\" /><path clip-path=\"url(#clip240)\" d=\"M3025 358.934 L3025 361.017 L3005.42 361.017 Q3005.69 365.415 3008.05 367.73 Q3010.44 370.022 3014.68 370.022 Q3017.13 370.022 3019.42 369.42 Q3021.74 368.818 3024 367.615 L3024 371.642 Q3021.71 372.614 3019.3 373.124 Q3016.9 373.633 3014.42 373.633 Q3008.22 373.633 3004.58 370.022 Q3000.97 366.411 3000.97 360.253 Q3000.97 353.888 3004.4 350.161 Q3007.85 346.411 3013.68 346.411 Q3018.91 346.411 3021.94 349.791 Q3025 353.147 3025 358.934 M3020.74 357.684 Q3020.69 354.189 3018.77 352.105 Q3016.87 350.022 3013.73 350.022 Q3010.16 350.022 3008.01 352.036 Q3005.88 354.05 3005.55 357.707 L3020.74 357.684 Z\" fill=\"#000000\" fill-rule=\"evenodd\" fill-opacity=\"1\" /><polyline clip-path=\"url(#clip240)\" style=\"stroke:#c271d2; stroke-linecap:round; stroke-linejoin:round; stroke-width:4; stroke-opacity:1; fill:none\" points=\"2153.86,407.522 2345.49,407.522 \"/>\n",
       "<path clip-path=\"url(#clip240)\" d=\"M2382.11 394.084 L2382.11 407.07 L2387.99 407.07 Q2391.25 407.07 2393.03 405.381 Q2394.82 403.691 2394.82 400.566 Q2394.82 397.464 2393.03 395.774 Q2391.25 394.084 2387.99 394.084 L2382.11 394.084 M2377.43 390.242 L2387.99 390.242 Q2393.8 390.242 2396.76 392.881 Q2399.75 395.496 2399.75 400.566 Q2399.75 405.681 2396.76 408.297 Q2393.8 410.913 2387.99 410.913 L2382.11 410.913 L2382.11 424.802 L2377.43 424.802 L2377.43 390.242 Z\" fill=\"#000000\" fill-rule=\"evenodd\" fill-opacity=\"1\" /><path clip-path=\"url(#clip240)\" d=\"M2420.03 402.857 Q2419.31 402.441 2418.45 402.256 Q2417.62 402.047 2416.6 402.047 Q2412.99 402.047 2411.04 404.408 Q2409.12 406.746 2409.12 411.144 L2409.12 424.802 L2404.84 424.802 L2404.84 398.876 L2409.12 398.876 L2409.12 402.904 Q2410.47 400.543 2412.62 399.408 Q2414.77 398.251 2417.85 398.251 Q2418.29 398.251 2418.82 398.32 Q2419.35 398.367 2420 398.482 L2420.03 402.857 Z\" fill=\"#000000\" fill-rule=\"evenodd\" fill-opacity=\"1\" /><path clip-path=\"url(#clip240)\" d=\"M2433.5 401.862 Q2430.07 401.862 2428.08 404.547 Q2426.09 407.209 2426.09 411.862 Q2426.09 416.515 2428.06 419.2 Q2430.05 421.862 2433.5 421.862 Q2436.9 421.862 2438.89 419.177 Q2440.88 416.492 2440.88 411.862 Q2440.88 407.256 2438.89 404.57 Q2436.9 401.862 2433.5 401.862 M2433.5 398.251 Q2439.05 398.251 2442.22 401.862 Q2445.4 405.473 2445.4 411.862 Q2445.4 418.228 2442.22 421.862 Q2439.05 425.473 2433.5 425.473 Q2427.92 425.473 2424.75 421.862 Q2421.6 418.228 2421.6 411.862 Q2421.6 405.473 2424.75 401.862 Q2427.92 398.251 2433.5 398.251 Z\" fill=\"#000000\" fill-rule=\"evenodd\" fill-opacity=\"1\" /><path clip-path=\"url(#clip240)\" d=\"M2465.58 388.783 L2465.58 392.325 L2461.51 392.325 Q2459.22 392.325 2458.31 393.251 Q2457.43 394.177 2457.43 396.584 L2457.43 398.876 L2464.45 398.876 L2464.45 402.186 L2457.43 402.186 L2457.43 424.802 L2453.15 424.802 L2453.15 402.186 L2449.08 402.186 L2449.08 398.876 L2453.15 398.876 L2453.15 397.07 Q2453.15 392.742 2455.16 390.774 Q2457.18 388.783 2461.55 388.783 L2465.58 388.783 Z\" fill=\"#000000\" fill-rule=\"evenodd\" fill-opacity=\"1\" /><path clip-path=\"url(#clip240)\" d=\"M2469.15 398.876 L2473.4 398.876 L2473.4 424.802 L2469.15 424.802 L2469.15 398.876 M2469.15 388.783 L2473.4 388.783 L2473.4 394.177 L2469.15 394.177 L2469.15 388.783 Z\" fill=\"#000000\" fill-rule=\"evenodd\" fill-opacity=\"1\" /><path clip-path=\"url(#clip240)\" d=\"M2486.53 391.515 L2486.53 398.876 L2495.3 398.876 L2495.3 402.186 L2486.53 402.186 L2486.53 416.26 Q2486.53 419.431 2487.39 420.334 Q2488.27 421.237 2490.93 421.237 L2495.3 421.237 L2495.3 424.802 L2490.93 424.802 Q2486 424.802 2484.12 422.973 Q2482.25 421.121 2482.25 416.26 L2482.25 402.186 L2479.12 402.186 L2479.12 398.876 L2482.25 398.876 L2482.25 391.515 L2486.53 391.515 Z\" fill=\"#000000\" fill-rule=\"evenodd\" fill-opacity=\"1\" /><path clip-path=\"url(#clip240)\" d=\"M2527.76 411.769 Q2522.59 411.769 2520.6 412.95 Q2518.61 414.13 2518.61 416.978 Q2518.61 419.246 2520.09 420.589 Q2521.6 421.908 2524.17 421.908 Q2527.71 421.908 2529.84 419.408 Q2531.99 416.885 2531.99 412.718 L2531.99 411.769 L2527.76 411.769 M2536.25 410.01 L2536.25 424.802 L2531.99 424.802 L2531.99 420.867 Q2530.53 423.228 2528.36 424.362 Q2526.18 425.473 2523.03 425.473 Q2519.05 425.473 2516.69 423.251 Q2514.35 421.005 2514.35 417.255 Q2514.35 412.88 2517.27 410.658 Q2520.21 408.436 2526.02 408.436 L2531.99 408.436 L2531.99 408.019 Q2531.99 405.08 2530.05 403.482 Q2528.13 401.862 2524.63 401.862 Q2522.41 401.862 2520.3 402.394 Q2518.2 402.927 2516.25 403.992 L2516.25 400.056 Q2518.59 399.154 2520.79 398.714 Q2522.99 398.251 2525.07 398.251 Q2530.7 398.251 2533.47 401.168 Q2536.25 404.084 2536.25 410.01 Z\" fill=\"#000000\" fill-rule=\"evenodd\" fill-opacity=\"1\" /><path clip-path=\"url(#clip240)\" d=\"M2549.24 391.515 L2549.24 398.876 L2558.01 398.876 L2558.01 402.186 L2549.24 402.186 L2549.24 416.26 Q2549.24 419.431 2550.09 420.334 Q2550.97 421.237 2553.64 421.237 L2558.01 421.237 L2558.01 424.802 L2553.64 424.802 Q2548.71 424.802 2546.83 422.973 Q2544.96 421.121 2544.96 416.26 L2544.96 402.186 L2541.83 402.186 L2541.83 398.876 L2544.96 398.876 L2544.96 391.515 L2549.24 391.515 Z\" fill=\"#000000\" fill-rule=\"evenodd\" fill-opacity=\"1\" /><path clip-path=\"url(#clip240)\" d=\"M2583.31 420.867 L2599.63 420.867 L2599.63 424.802 L2577.69 424.802 L2577.69 420.867 Q2580.35 418.112 2584.93 413.482 Q2589.54 408.83 2590.72 407.487 Q2592.96 404.964 2593.84 403.228 Q2594.75 401.469 2594.75 399.779 Q2594.75 397.024 2592.8 395.288 Q2590.88 393.552 2587.78 393.552 Q2585.58 393.552 2583.13 394.316 Q2580.7 395.08 2577.92 396.631 L2577.92 391.908 Q2580.74 390.774 2583.2 390.195 Q2585.65 389.617 2587.69 389.617 Q2593.06 389.617 2596.25 392.302 Q2599.45 394.987 2599.45 399.478 Q2599.45 401.607 2598.64 403.529 Q2597.85 405.427 2595.74 408.019 Q2595.16 408.691 2592.06 411.908 Q2588.96 415.103 2583.31 420.867 Z\" fill=\"#000000\" fill-rule=\"evenodd\" fill-opacity=\"1\" /><path clip-path=\"url(#clip240)\" d=\"M2619.45 393.32 Q2615.83 393.32 2614.01 396.885 Q2612.2 400.427 2612.2 407.556 Q2612.2 414.663 2614.01 418.228 Q2615.83 421.769 2619.45 421.769 Q2623.08 421.769 2624.89 418.228 Q2626.71 414.663 2626.71 407.556 Q2626.71 400.427 2624.89 396.885 Q2623.08 393.32 2619.45 393.32 M2619.45 389.617 Q2625.26 389.617 2628.31 394.223 Q2631.39 398.806 2631.39 407.556 Q2631.39 416.283 2628.31 420.89 Q2625.26 425.473 2619.45 425.473 Q2613.64 425.473 2610.56 420.89 Q2607.5 416.283 2607.5 407.556 Q2607.5 398.806 2610.56 394.223 Q2613.64 389.617 2619.45 389.617 Z\" fill=\"#000000\" fill-rule=\"evenodd\" fill-opacity=\"1\" /><path clip-path=\"url(#clip240)\" d=\"M2669.01 409.593 Q2666.99 409.593 2665.83 411.306 Q2664.7 413.019 2664.7 416.075 Q2664.7 419.084 2665.83 420.82 Q2666.99 422.533 2669.01 422.533 Q2670.97 422.533 2672.11 420.82 Q2673.26 419.084 2673.26 416.075 Q2673.26 413.043 2672.11 411.33 Q2670.97 409.593 2669.01 409.593 M2669.01 406.654 Q2672.66 406.654 2674.82 409.2 Q2676.97 411.746 2676.97 416.075 Q2676.97 420.404 2674.79 422.95 Q2672.64 425.473 2669.01 425.473 Q2665.3 425.473 2663.15 422.95 Q2661 420.404 2661 416.075 Q2661 411.723 2663.15 409.2 Q2665.33 406.654 2669.01 406.654 M2645.12 392.557 Q2643.13 392.557 2641.97 394.293 Q2640.83 396.006 2640.83 399.015 Q2640.83 402.07 2641.97 403.783 Q2643.1 405.496 2645.12 405.496 Q2647.13 405.496 2648.26 403.783 Q2649.42 402.07 2649.42 399.015 Q2649.42 396.029 2648.26 394.293 Q2647.11 392.557 2645.12 392.557 M2666.02 389.617 L2669.72 389.617 L2648.1 425.473 L2644.4 425.473 L2666.02 389.617 M2645.12 389.617 Q2648.77 389.617 2650.95 392.163 Q2653.13 394.686 2653.13 399.015 Q2653.13 403.39 2650.95 405.913 Q2648.8 408.436 2645.12 408.436 Q2641.44 408.436 2639.28 405.913 Q2637.15 403.367 2637.15 399.015 Q2637.15 394.709 2639.31 392.163 Q2641.46 389.617 2645.12 389.617 Z\" fill=\"#000000\" fill-rule=\"evenodd\" fill-opacity=\"1\" /><path clip-path=\"url(#clip240)\" d=\"M2703.24 420.913 L2703.24 434.663 L2698.96 434.663 L2698.96 398.876 L2703.24 398.876 L2703.24 402.811 Q2704.58 400.496 2706.62 399.385 Q2708.68 398.251 2711.53 398.251 Q2716.25 398.251 2719.19 402.001 Q2722.15 405.751 2722.15 411.862 Q2722.15 417.973 2719.19 421.723 Q2716.25 425.473 2711.53 425.473 Q2708.68 425.473 2706.62 424.362 Q2704.58 423.228 2703.24 420.913 M2717.73 411.862 Q2717.73 407.163 2715.79 404.501 Q2713.87 401.816 2710.49 401.816 Q2707.11 401.816 2705.16 404.501 Q2703.24 407.163 2703.24 411.862 Q2703.24 416.561 2705.16 419.246 Q2707.11 421.908 2710.49 421.908 Q2713.87 421.908 2715.79 419.246 Q2717.73 416.561 2717.73 411.862 Z\" fill=\"#000000\" fill-rule=\"evenodd\" fill-opacity=\"1\" /><path clip-path=\"url(#clip240)\" d=\"M2744.24 402.857 Q2743.52 402.441 2742.66 402.256 Q2741.83 402.047 2740.81 402.047 Q2737.2 402.047 2735.26 404.408 Q2733.33 406.746 2733.33 411.144 L2733.33 424.802 L2729.05 424.802 L2729.05 398.876 L2733.33 398.876 L2733.33 402.904 Q2734.68 400.543 2736.83 399.408 Q2738.98 398.251 2742.06 398.251 Q2742.5 398.251 2743.03 398.32 Q2743.57 398.367 2744.21 398.482 L2744.24 402.857 Z\" fill=\"#000000\" fill-rule=\"evenodd\" fill-opacity=\"1\" /><path clip-path=\"url(#clip240)\" d=\"M2748.7 398.876 L2752.96 398.876 L2752.96 424.802 L2748.7 424.802 L2748.7 398.876 M2748.7 388.783 L2752.96 388.783 L2752.96 394.177 L2748.7 394.177 L2748.7 388.783 Z\" fill=\"#000000\" fill-rule=\"evenodd\" fill-opacity=\"1\" /><path clip-path=\"url(#clip240)\" d=\"M2780.53 399.871 L2780.53 403.853 Q2778.73 402.857 2776.9 402.371 Q2775.09 401.862 2773.24 401.862 Q2769.1 401.862 2766.81 404.501 Q2764.51 407.117 2764.51 411.862 Q2764.51 416.607 2766.81 419.246 Q2769.1 421.862 2773.24 421.862 Q2775.09 421.862 2776.9 421.376 Q2778.73 420.867 2780.53 419.871 L2780.53 423.806 Q2778.75 424.64 2776.83 425.056 Q2774.93 425.473 2772.78 425.473 Q2766.92 425.473 2763.47 421.792 Q2760.02 418.112 2760.02 411.862 Q2760.02 405.519 2763.5 401.885 Q2766.99 398.251 2773.06 398.251 Q2775.02 398.251 2776.9 398.668 Q2778.77 399.061 2780.53 399.871 Z\" fill=\"#000000\" fill-rule=\"evenodd\" fill-opacity=\"1\" /><path clip-path=\"url(#clip240)\" d=\"M2810.12 410.774 L2810.12 412.857 L2790.53 412.857 Q2790.81 417.255 2793.17 419.57 Q2795.56 421.862 2799.79 421.862 Q2802.25 421.862 2804.54 421.26 Q2806.85 420.658 2809.12 419.455 L2809.12 423.482 Q2806.83 424.454 2804.42 424.964 Q2802.01 425.473 2799.54 425.473 Q2793.33 425.473 2789.7 421.862 Q2786.09 418.251 2786.09 412.093 Q2786.09 405.728 2789.51 402.001 Q2792.96 398.251 2798.8 398.251 Q2804.03 398.251 2807.06 401.631 Q2810.12 404.987 2810.12 410.774 M2805.86 409.524 Q2805.81 406.029 2803.89 403.945 Q2801.99 401.862 2798.84 401.862 Q2795.28 401.862 2793.13 403.876 Q2791 405.89 2790.67 409.547 L2805.86 409.524 Z\" fill=\"#000000\" fill-rule=\"evenodd\" fill-opacity=\"1\" /><path clip-path=\"url(#clip240)\" d=\"M2832.18 398.876 L2836.44 398.876 L2836.44 424.802 L2832.18 424.802 L2832.18 398.876 M2832.18 388.783 L2836.44 388.783 L2836.44 394.177 L2832.18 394.177 L2832.18 388.783 Z\" fill=\"#000000\" fill-rule=\"evenodd\" fill-opacity=\"1\" /><path clip-path=\"url(#clip240)\" d=\"M2866.9 409.154 L2866.9 424.802 L2862.64 424.802 L2862.64 409.293 Q2862.64 405.612 2861.2 403.783 Q2859.77 401.955 2856.9 401.955 Q2853.45 401.955 2851.46 404.154 Q2849.47 406.353 2849.47 410.149 L2849.47 424.802 L2845.19 424.802 L2845.19 398.876 L2849.47 398.876 L2849.47 402.904 Q2851 400.566 2853.06 399.408 Q2855.14 398.251 2857.85 398.251 Q2862.31 398.251 2864.61 401.029 Q2866.9 403.783 2866.9 409.154 Z\" fill=\"#000000\" fill-rule=\"evenodd\" fill-opacity=\"1\" /><path clip-path=\"url(#clip240)\" d=\"M2894.05 399.871 L2894.05 403.853 Q2892.25 402.857 2890.42 402.371 Q2888.61 401.862 2886.76 401.862 Q2882.62 401.862 2880.32 404.501 Q2878.03 407.117 2878.03 411.862 Q2878.03 416.607 2880.32 419.246 Q2882.62 421.862 2886.76 421.862 Q2888.61 421.862 2890.42 421.376 Q2892.25 420.867 2894.05 419.871 L2894.05 423.806 Q2892.27 424.64 2890.35 425.056 Q2888.45 425.473 2886.3 425.473 Q2880.44 425.473 2876.99 421.792 Q2873.54 418.112 2873.54 411.862 Q2873.54 405.519 2877.01 401.885 Q2880.51 398.251 2886.57 398.251 Q2888.54 398.251 2890.42 398.668 Q2892.29 399.061 2894.05 399.871 Z\" fill=\"#000000\" fill-rule=\"evenodd\" fill-opacity=\"1\" /><path clip-path=\"url(#clip240)\" d=\"M2916.48 402.857 Q2915.76 402.441 2914.91 402.256 Q2914.07 402.047 2913.06 402.047 Q2909.44 402.047 2907.5 404.408 Q2905.58 406.746 2905.58 411.144 L2905.58 424.802 L2901.3 424.802 L2901.3 398.876 L2905.58 398.876 L2905.58 402.904 Q2906.92 400.543 2909.07 399.408 Q2911.23 398.251 2914.31 398.251 Q2914.75 398.251 2915.28 398.32 Q2915.81 398.367 2916.46 398.482 L2916.48 402.857 Z\" fill=\"#000000\" fill-rule=\"evenodd\" fill-opacity=\"1\" /><path clip-path=\"url(#clip240)\" d=\"M2942.08 410.774 L2942.08 412.857 L2922.5 412.857 Q2922.78 417.255 2925.14 419.57 Q2927.52 421.862 2931.76 421.862 Q2934.21 421.862 2936.5 421.26 Q2938.82 420.658 2941.09 419.455 L2941.09 423.482 Q2938.8 424.454 2936.39 424.964 Q2933.98 425.473 2931.5 425.473 Q2925.3 425.473 2921.67 421.862 Q2918.06 418.251 2918.06 412.093 Q2918.06 405.728 2921.48 402.001 Q2924.93 398.251 2930.76 398.251 Q2935.99 398.251 2939.03 401.631 Q2942.08 404.987 2942.08 410.774 M2937.82 409.524 Q2937.78 406.029 2935.86 403.945 Q2933.96 401.862 2930.81 401.862 Q2927.24 401.862 2925.09 403.876 Q2922.96 405.89 2922.64 409.547 L2937.82 409.524 Z\" fill=\"#000000\" fill-rule=\"evenodd\" fill-opacity=\"1\" /><path clip-path=\"url(#clip240)\" d=\"M2960.86 411.769 Q2955.69 411.769 2953.7 412.95 Q2951.71 414.13 2951.71 416.978 Q2951.71 419.246 2953.19 420.589 Q2954.7 421.908 2957.27 421.908 Q2960.81 421.908 2962.94 419.408 Q2965.09 416.885 2965.09 412.718 L2965.09 411.769 L2960.86 411.769 M2969.35 410.01 L2969.35 424.802 L2965.09 424.802 L2965.09 420.867 Q2963.63 423.228 2961.46 424.362 Q2959.28 425.473 2956.13 425.473 Q2952.15 425.473 2949.79 423.251 Q2947.45 421.005 2947.45 417.255 Q2947.45 412.88 2950.37 410.658 Q2953.31 408.436 2959.12 408.436 L2965.09 408.436 L2965.09 408.019 Q2965.09 405.08 2963.15 403.482 Q2961.23 401.862 2957.73 401.862 Q2955.51 401.862 2953.4 402.394 Q2951.3 402.927 2949.35 403.992 L2949.35 400.056 Q2951.69 399.154 2953.89 398.714 Q2956.09 398.251 2958.17 398.251 Q2963.8 398.251 2966.57 401.168 Q2969.35 404.084 2969.35 410.01 Z\" fill=\"#000000\" fill-rule=\"evenodd\" fill-opacity=\"1\" /><path clip-path=\"url(#clip240)\" d=\"M2994.65 399.64 L2994.65 403.668 Q2992.85 402.742 2990.9 402.279 Q2988.96 401.816 2986.87 401.816 Q2983.7 401.816 2982.11 402.788 Q2980.53 403.76 2980.53 405.705 Q2980.53 407.186 2981.67 408.043 Q2982.8 408.876 2986.23 409.64 L2987.68 409.964 Q2992.22 410.936 2994.12 412.718 Q2996.04 414.478 2996.04 417.649 Q2996.04 421.26 2993.17 423.367 Q2990.32 425.473 2985.32 425.473 Q2983.24 425.473 2980.97 425.056 Q2978.73 424.663 2976.23 423.853 L2976.23 419.455 Q2978.59 420.681 2980.88 421.306 Q2983.17 421.908 2985.42 421.908 Q2988.43 421.908 2990.05 420.89 Q2991.67 419.848 2991.67 417.973 Q2991.67 416.237 2990.49 415.311 Q2989.33 414.385 2985.37 413.529 L2983.89 413.181 Q2979.93 412.348 2978.17 410.635 Q2976.41 408.899 2976.41 405.89 Q2976.41 402.232 2979 400.242 Q2981.6 398.251 2986.37 398.251 Q2988.73 398.251 2990.81 398.598 Q2992.89 398.945 2994.65 399.64 Z\" fill=\"#000000\" fill-rule=\"evenodd\" fill-opacity=\"1\" /><path clip-path=\"url(#clip240)\" d=\"M3025 410.774 L3025 412.857 L3005.42 412.857 Q3005.69 417.255 3008.05 419.57 Q3010.44 421.862 3014.68 421.862 Q3017.13 421.862 3019.42 421.26 Q3021.74 420.658 3024 419.455 L3024 423.482 Q3021.71 424.454 3019.3 424.964 Q3016.9 425.473 3014.42 425.473 Q3008.22 425.473 3004.58 421.862 Q3000.97 418.251 3000.97 412.093 Q3000.97 405.728 3004.4 402.001 Q3007.85 398.251 3013.68 398.251 Q3018.91 398.251 3021.94 401.631 Q3025 404.987 3025 410.774 M3020.74 409.524 Q3020.69 406.029 3018.77 403.945 Q3016.87 401.862 3013.73 401.862 Q3010.16 401.862 3008.01 403.876 Q3005.88 405.89 3005.55 409.547 L3020.74 409.524 Z\" fill=\"#000000\" fill-rule=\"evenodd\" fill-opacity=\"1\" /><polyline clip-path=\"url(#clip240)\" style=\"stroke:#ac8d18; stroke-linecap:round; stroke-linejoin:round; stroke-width:4; stroke-opacity:1; fill:none\" points=\"2153.86,459.362 2345.49,459.362 \"/>\n",
       "<path clip-path=\"url(#clip240)\" d=\"M2382.11 445.924 L2382.11 458.91 L2387.99 458.91 Q2391.25 458.91 2393.03 457.221 Q2394.82 455.531 2394.82 452.406 Q2394.82 449.304 2393.03 447.614 Q2391.25 445.924 2387.99 445.924 L2382.11 445.924 M2377.43 442.082 L2387.99 442.082 Q2393.8 442.082 2396.76 444.721 Q2399.75 447.336 2399.75 452.406 Q2399.75 457.521 2396.76 460.137 Q2393.8 462.753 2387.99 462.753 L2382.11 462.753 L2382.11 476.642 L2377.43 476.642 L2377.43 442.082 Z\" fill=\"#000000\" fill-rule=\"evenodd\" fill-opacity=\"1\" /><path clip-path=\"url(#clip240)\" d=\"M2420.03 454.697 Q2419.31 454.281 2418.45 454.096 Q2417.62 453.887 2416.6 453.887 Q2412.99 453.887 2411.04 456.248 Q2409.12 458.586 2409.12 462.984 L2409.12 476.642 L2404.84 476.642 L2404.84 450.716 L2409.12 450.716 L2409.12 454.744 Q2410.47 452.383 2412.62 451.248 Q2414.77 450.091 2417.85 450.091 Q2418.29 450.091 2418.82 450.16 Q2419.35 450.207 2420 450.322 L2420.03 454.697 Z\" fill=\"#000000\" fill-rule=\"evenodd\" fill-opacity=\"1\" /><path clip-path=\"url(#clip240)\" d=\"M2433.5 453.702 Q2430.07 453.702 2428.08 456.387 Q2426.09 459.049 2426.09 463.702 Q2426.09 468.355 2428.06 471.04 Q2430.05 473.702 2433.5 473.702 Q2436.9 473.702 2438.89 471.017 Q2440.88 468.332 2440.88 463.702 Q2440.88 459.096 2438.89 456.41 Q2436.9 453.702 2433.5 453.702 M2433.5 450.091 Q2439.05 450.091 2442.22 453.702 Q2445.4 457.313 2445.4 463.702 Q2445.4 470.068 2442.22 473.702 Q2439.05 477.313 2433.5 477.313 Q2427.92 477.313 2424.75 473.702 Q2421.6 470.068 2421.6 463.702 Q2421.6 457.313 2424.75 453.702 Q2427.92 450.091 2433.5 450.091 Z\" fill=\"#000000\" fill-rule=\"evenodd\" fill-opacity=\"1\" /><path clip-path=\"url(#clip240)\" d=\"M2465.58 440.623 L2465.58 444.165 L2461.51 444.165 Q2459.22 444.165 2458.31 445.091 Q2457.43 446.017 2457.43 448.424 L2457.43 450.716 L2464.45 450.716 L2464.45 454.026 L2457.43 454.026 L2457.43 476.642 L2453.15 476.642 L2453.15 454.026 L2449.08 454.026 L2449.08 450.716 L2453.15 450.716 L2453.15 448.91 Q2453.15 444.582 2455.16 442.614 Q2457.18 440.623 2461.55 440.623 L2465.58 440.623 Z\" fill=\"#000000\" fill-rule=\"evenodd\" fill-opacity=\"1\" /><path clip-path=\"url(#clip240)\" d=\"M2469.15 450.716 L2473.4 450.716 L2473.4 476.642 L2469.15 476.642 L2469.15 450.716 M2469.15 440.623 L2473.4 440.623 L2473.4 446.017 L2469.15 446.017 L2469.15 440.623 Z\" fill=\"#000000\" fill-rule=\"evenodd\" fill-opacity=\"1\" /><path clip-path=\"url(#clip240)\" d=\"M2486.53 443.355 L2486.53 450.716 L2495.3 450.716 L2495.3 454.026 L2486.53 454.026 L2486.53 468.1 Q2486.53 471.271 2487.39 472.174 Q2488.27 473.077 2490.93 473.077 L2495.3 473.077 L2495.3 476.642 L2490.93 476.642 Q2486 476.642 2484.12 474.813 Q2482.25 472.961 2482.25 468.1 L2482.25 454.026 L2479.12 454.026 L2479.12 450.716 L2482.25 450.716 L2482.25 443.355 L2486.53 443.355 Z\" fill=\"#000000\" fill-rule=\"evenodd\" fill-opacity=\"1\" /><path clip-path=\"url(#clip240)\" d=\"M2527.76 463.609 Q2522.59 463.609 2520.6 464.79 Q2518.61 465.97 2518.61 468.818 Q2518.61 471.086 2520.09 472.429 Q2521.6 473.748 2524.17 473.748 Q2527.71 473.748 2529.84 471.248 Q2531.99 468.725 2531.99 464.558 L2531.99 463.609 L2527.76 463.609 M2536.25 461.85 L2536.25 476.642 L2531.99 476.642 L2531.99 472.707 Q2530.53 475.068 2528.36 476.202 Q2526.18 477.313 2523.03 477.313 Q2519.05 477.313 2516.69 475.091 Q2514.35 472.845 2514.35 469.095 Q2514.35 464.72 2517.27 462.498 Q2520.21 460.276 2526.02 460.276 L2531.99 460.276 L2531.99 459.859 Q2531.99 456.92 2530.05 455.322 Q2528.13 453.702 2524.63 453.702 Q2522.41 453.702 2520.3 454.234 Q2518.2 454.767 2516.25 455.832 L2516.25 451.896 Q2518.59 450.994 2520.79 450.554 Q2522.99 450.091 2525.07 450.091 Q2530.7 450.091 2533.47 453.008 Q2536.25 455.924 2536.25 461.85 Z\" fill=\"#000000\" fill-rule=\"evenodd\" fill-opacity=\"1\" /><path clip-path=\"url(#clip240)\" d=\"M2549.24 443.355 L2549.24 450.716 L2558.01 450.716 L2558.01 454.026 L2549.24 454.026 L2549.24 468.1 Q2549.24 471.271 2550.09 472.174 Q2550.97 473.077 2553.64 473.077 L2558.01 473.077 L2558.01 476.642 L2553.64 476.642 Q2548.71 476.642 2546.83 474.813 Q2544.96 472.961 2544.96 468.1 L2544.96 454.026 L2541.83 454.026 L2541.83 450.716 L2544.96 450.716 L2544.96 443.355 L2549.24 443.355 Z\" fill=\"#000000\" fill-rule=\"evenodd\" fill-opacity=\"1\" /><path clip-path=\"url(#clip240)\" d=\"M2579.33 442.082 L2597.69 442.082 L2597.69 446.017 L2583.61 446.017 L2583.61 454.489 Q2584.63 454.142 2585.65 453.98 Q2586.67 453.795 2587.69 453.795 Q2593.47 453.795 2596.85 456.966 Q2600.23 460.137 2600.23 465.554 Q2600.23 471.132 2596.76 474.234 Q2593.29 477.313 2586.97 477.313 Q2584.79 477.313 2582.52 476.943 Q2580.28 476.572 2577.87 475.832 L2577.87 471.132 Q2579.96 472.267 2582.18 472.822 Q2584.4 473.378 2586.88 473.378 Q2590.88 473.378 2593.22 471.271 Q2595.56 469.165 2595.56 465.554 Q2595.56 461.943 2593.22 459.836 Q2590.88 457.73 2586.88 457.73 Q2585 457.73 2583.13 458.146 Q2581.27 458.563 2579.33 459.443 L2579.33 442.082 Z\" fill=\"#000000\" fill-rule=\"evenodd\" fill-opacity=\"1\" /><path clip-path=\"url(#clip240)\" d=\"M2619.45 445.16 Q2615.83 445.16 2614.01 448.725 Q2612.2 452.267 2612.2 459.396 Q2612.2 466.503 2614.01 470.068 Q2615.83 473.609 2619.45 473.609 Q2623.08 473.609 2624.89 470.068 Q2626.71 466.503 2626.71 459.396 Q2626.71 452.267 2624.89 448.725 Q2623.08 445.16 2619.45 445.16 M2619.45 441.457 Q2625.26 441.457 2628.31 446.063 Q2631.39 450.646 2631.39 459.396 Q2631.39 468.123 2628.31 472.73 Q2625.26 477.313 2619.45 477.313 Q2613.64 477.313 2610.56 472.73 Q2607.5 468.123 2607.5 459.396 Q2607.5 450.646 2610.56 446.063 Q2613.64 441.457 2619.45 441.457 Z\" fill=\"#000000\" fill-rule=\"evenodd\" fill-opacity=\"1\" /><path clip-path=\"url(#clip240)\" d=\"M2669.01 461.433 Q2666.99 461.433 2665.83 463.146 Q2664.7 464.859 2664.7 467.915 Q2664.7 470.924 2665.83 472.66 Q2666.99 474.373 2669.01 474.373 Q2670.97 474.373 2672.11 472.66 Q2673.26 470.924 2673.26 467.915 Q2673.26 464.883 2672.11 463.17 Q2670.97 461.433 2669.01 461.433 M2669.01 458.494 Q2672.66 458.494 2674.82 461.04 Q2676.97 463.586 2676.97 467.915 Q2676.97 472.244 2674.79 474.79 Q2672.64 477.313 2669.01 477.313 Q2665.3 477.313 2663.15 474.79 Q2661 472.244 2661 467.915 Q2661 463.563 2663.15 461.04 Q2665.33 458.494 2669.01 458.494 M2645.12 444.397 Q2643.13 444.397 2641.97 446.133 Q2640.83 447.846 2640.83 450.855 Q2640.83 453.91 2641.97 455.623 Q2643.1 457.336 2645.12 457.336 Q2647.13 457.336 2648.26 455.623 Q2649.42 453.91 2649.42 450.855 Q2649.42 447.869 2648.26 446.133 Q2647.11 444.397 2645.12 444.397 M2666.02 441.457 L2669.72 441.457 L2648.1 477.313 L2644.4 477.313 L2666.02 441.457 M2645.12 441.457 Q2648.77 441.457 2650.95 444.003 Q2653.13 446.526 2653.13 450.855 Q2653.13 455.23 2650.95 457.753 Q2648.8 460.276 2645.12 460.276 Q2641.44 460.276 2639.28 457.753 Q2637.15 455.207 2637.15 450.855 Q2637.15 446.549 2639.31 444.003 Q2641.46 441.457 2645.12 441.457 Z\" fill=\"#000000\" fill-rule=\"evenodd\" fill-opacity=\"1\" /><path clip-path=\"url(#clip240)\" d=\"M2703.24 472.753 L2703.24 486.503 L2698.96 486.503 L2698.96 450.716 L2703.24 450.716 L2703.24 454.651 Q2704.58 452.336 2706.62 451.225 Q2708.68 450.091 2711.53 450.091 Q2716.25 450.091 2719.19 453.841 Q2722.15 457.591 2722.15 463.702 Q2722.15 469.813 2719.19 473.563 Q2716.25 477.313 2711.53 477.313 Q2708.68 477.313 2706.62 476.202 Q2704.58 475.068 2703.24 472.753 M2717.73 463.702 Q2717.73 459.003 2715.79 456.341 Q2713.87 453.656 2710.49 453.656 Q2707.11 453.656 2705.16 456.341 Q2703.24 459.003 2703.24 463.702 Q2703.24 468.401 2705.16 471.086 Q2707.11 473.748 2710.49 473.748 Q2713.87 473.748 2715.79 471.086 Q2717.73 468.401 2717.73 463.702 Z\" fill=\"#000000\" fill-rule=\"evenodd\" fill-opacity=\"1\" /><path clip-path=\"url(#clip240)\" d=\"M2744.24 454.697 Q2743.52 454.281 2742.66 454.096 Q2741.83 453.887 2740.81 453.887 Q2737.2 453.887 2735.26 456.248 Q2733.33 458.586 2733.33 462.984 L2733.33 476.642 L2729.05 476.642 L2729.05 450.716 L2733.33 450.716 L2733.33 454.744 Q2734.68 452.383 2736.83 451.248 Q2738.98 450.091 2742.06 450.091 Q2742.5 450.091 2743.03 450.16 Q2743.57 450.207 2744.21 450.322 L2744.24 454.697 Z\" fill=\"#000000\" fill-rule=\"evenodd\" fill-opacity=\"1\" /><path clip-path=\"url(#clip240)\" d=\"M2748.7 450.716 L2752.96 450.716 L2752.96 476.642 L2748.7 476.642 L2748.7 450.716 M2748.7 440.623 L2752.96 440.623 L2752.96 446.017 L2748.7 446.017 L2748.7 440.623 Z\" fill=\"#000000\" fill-rule=\"evenodd\" fill-opacity=\"1\" /><path clip-path=\"url(#clip240)\" d=\"M2780.53 451.711 L2780.53 455.693 Q2778.73 454.697 2776.9 454.211 Q2775.09 453.702 2773.24 453.702 Q2769.1 453.702 2766.81 456.341 Q2764.51 458.957 2764.51 463.702 Q2764.51 468.447 2766.81 471.086 Q2769.1 473.702 2773.24 473.702 Q2775.09 473.702 2776.9 473.216 Q2778.73 472.707 2780.53 471.711 L2780.53 475.646 Q2778.75 476.48 2776.83 476.896 Q2774.93 477.313 2772.78 477.313 Q2766.92 477.313 2763.47 473.632 Q2760.02 469.952 2760.02 463.702 Q2760.02 457.359 2763.5 453.725 Q2766.99 450.091 2773.06 450.091 Q2775.02 450.091 2776.9 450.508 Q2778.77 450.901 2780.53 451.711 Z\" fill=\"#000000\" fill-rule=\"evenodd\" fill-opacity=\"1\" /><path clip-path=\"url(#clip240)\" d=\"M2810.12 462.614 L2810.12 464.697 L2790.53 464.697 Q2790.81 469.095 2793.17 471.41 Q2795.56 473.702 2799.79 473.702 Q2802.25 473.702 2804.54 473.1 Q2806.85 472.498 2809.12 471.295 L2809.12 475.322 Q2806.83 476.294 2804.42 476.804 Q2802.01 477.313 2799.54 477.313 Q2793.33 477.313 2789.7 473.702 Q2786.09 470.091 2786.09 463.933 Q2786.09 457.568 2789.51 453.841 Q2792.96 450.091 2798.8 450.091 Q2804.03 450.091 2807.06 453.471 Q2810.12 456.827 2810.12 462.614 M2805.86 461.364 Q2805.81 457.869 2803.89 455.785 Q2801.99 453.702 2798.84 453.702 Q2795.28 453.702 2793.13 455.716 Q2791 457.73 2790.67 461.387 L2805.86 461.364 Z\" fill=\"#000000\" fill-rule=\"evenodd\" fill-opacity=\"1\" /><path clip-path=\"url(#clip240)\" d=\"M2832.18 450.716 L2836.44 450.716 L2836.44 476.642 L2832.18 476.642 L2832.18 450.716 M2832.18 440.623 L2836.44 440.623 L2836.44 446.017 L2832.18 446.017 L2832.18 440.623 Z\" fill=\"#000000\" fill-rule=\"evenodd\" fill-opacity=\"1\" /><path clip-path=\"url(#clip240)\" d=\"M2866.9 460.994 L2866.9 476.642 L2862.64 476.642 L2862.64 461.133 Q2862.64 457.452 2861.2 455.623 Q2859.77 453.795 2856.9 453.795 Q2853.45 453.795 2851.46 455.994 Q2849.47 458.193 2849.47 461.989 L2849.47 476.642 L2845.19 476.642 L2845.19 450.716 L2849.47 450.716 L2849.47 454.744 Q2851 452.406 2853.06 451.248 Q2855.14 450.091 2857.85 450.091 Q2862.31 450.091 2864.61 452.869 Q2866.9 455.623 2866.9 460.994 Z\" fill=\"#000000\" fill-rule=\"evenodd\" fill-opacity=\"1\" /><path clip-path=\"url(#clip240)\" d=\"M2894.05 451.711 L2894.05 455.693 Q2892.25 454.697 2890.42 454.211 Q2888.61 453.702 2886.76 453.702 Q2882.62 453.702 2880.32 456.341 Q2878.03 458.957 2878.03 463.702 Q2878.03 468.447 2880.32 471.086 Q2882.62 473.702 2886.76 473.702 Q2888.61 473.702 2890.42 473.216 Q2892.25 472.707 2894.05 471.711 L2894.05 475.646 Q2892.27 476.48 2890.35 476.896 Q2888.45 477.313 2886.3 477.313 Q2880.44 477.313 2876.99 473.632 Q2873.54 469.952 2873.54 463.702 Q2873.54 457.359 2877.01 453.725 Q2880.51 450.091 2886.57 450.091 Q2888.54 450.091 2890.42 450.508 Q2892.29 450.901 2894.05 451.711 Z\" fill=\"#000000\" fill-rule=\"evenodd\" fill-opacity=\"1\" /><path clip-path=\"url(#clip240)\" d=\"M2916.48 454.697 Q2915.76 454.281 2914.91 454.096 Q2914.07 453.887 2913.06 453.887 Q2909.44 453.887 2907.5 456.248 Q2905.58 458.586 2905.58 462.984 L2905.58 476.642 L2901.3 476.642 L2901.3 450.716 L2905.58 450.716 L2905.58 454.744 Q2906.92 452.383 2909.07 451.248 Q2911.23 450.091 2914.31 450.091 Q2914.75 450.091 2915.28 450.16 Q2915.81 450.207 2916.46 450.322 L2916.48 454.697 Z\" fill=\"#000000\" fill-rule=\"evenodd\" fill-opacity=\"1\" /><path clip-path=\"url(#clip240)\" d=\"M2942.08 462.614 L2942.08 464.697 L2922.5 464.697 Q2922.78 469.095 2925.14 471.41 Q2927.52 473.702 2931.76 473.702 Q2934.21 473.702 2936.5 473.1 Q2938.82 472.498 2941.09 471.295 L2941.09 475.322 Q2938.8 476.294 2936.39 476.804 Q2933.98 477.313 2931.5 477.313 Q2925.3 477.313 2921.67 473.702 Q2918.06 470.091 2918.06 463.933 Q2918.06 457.568 2921.48 453.841 Q2924.93 450.091 2930.76 450.091 Q2935.99 450.091 2939.03 453.471 Q2942.08 456.827 2942.08 462.614 M2937.82 461.364 Q2937.78 457.869 2935.86 455.785 Q2933.96 453.702 2930.81 453.702 Q2927.24 453.702 2925.09 455.716 Q2922.96 457.73 2922.64 461.387 L2937.82 461.364 Z\" fill=\"#000000\" fill-rule=\"evenodd\" fill-opacity=\"1\" /><path clip-path=\"url(#clip240)\" d=\"M2960.86 463.609 Q2955.69 463.609 2953.7 464.79 Q2951.71 465.97 2951.71 468.818 Q2951.71 471.086 2953.19 472.429 Q2954.7 473.748 2957.27 473.748 Q2960.81 473.748 2962.94 471.248 Q2965.09 468.725 2965.09 464.558 L2965.09 463.609 L2960.86 463.609 M2969.35 461.85 L2969.35 476.642 L2965.09 476.642 L2965.09 472.707 Q2963.63 475.068 2961.46 476.202 Q2959.28 477.313 2956.13 477.313 Q2952.15 477.313 2949.79 475.091 Q2947.45 472.845 2947.45 469.095 Q2947.45 464.72 2950.37 462.498 Q2953.31 460.276 2959.12 460.276 L2965.09 460.276 L2965.09 459.859 Q2965.09 456.92 2963.15 455.322 Q2961.23 453.702 2957.73 453.702 Q2955.51 453.702 2953.4 454.234 Q2951.3 454.767 2949.35 455.832 L2949.35 451.896 Q2951.69 450.994 2953.89 450.554 Q2956.09 450.091 2958.17 450.091 Q2963.8 450.091 2966.57 453.008 Q2969.35 455.924 2969.35 461.85 Z\" fill=\"#000000\" fill-rule=\"evenodd\" fill-opacity=\"1\" /><path clip-path=\"url(#clip240)\" d=\"M2994.65 451.48 L2994.65 455.508 Q2992.85 454.582 2990.9 454.119 Q2988.96 453.656 2986.87 453.656 Q2983.7 453.656 2982.11 454.628 Q2980.53 455.6 2980.53 457.545 Q2980.53 459.026 2981.67 459.883 Q2982.8 460.716 2986.23 461.48 L2987.68 461.804 Q2992.22 462.776 2994.12 464.558 Q2996.04 466.318 2996.04 469.489 Q2996.04 473.1 2993.17 475.207 Q2990.32 477.313 2985.32 477.313 Q2983.24 477.313 2980.97 476.896 Q2978.73 476.503 2976.23 475.693 L2976.23 471.295 Q2978.59 472.521 2980.88 473.146 Q2983.17 473.748 2985.42 473.748 Q2988.43 473.748 2990.05 472.73 Q2991.67 471.688 2991.67 469.813 Q2991.67 468.077 2990.49 467.151 Q2989.33 466.225 2985.37 465.369 L2983.89 465.021 Q2979.93 464.188 2978.17 462.475 Q2976.41 460.739 2976.41 457.73 Q2976.41 454.072 2979 452.082 Q2981.6 450.091 2986.37 450.091 Q2988.73 450.091 2990.81 450.438 Q2992.89 450.785 2994.65 451.48 Z\" fill=\"#000000\" fill-rule=\"evenodd\" fill-opacity=\"1\" /><path clip-path=\"url(#clip240)\" d=\"M3025 462.614 L3025 464.697 L3005.42 464.697 Q3005.69 469.095 3008.05 471.41 Q3010.44 473.702 3014.68 473.702 Q3017.13 473.702 3019.42 473.1 Q3021.74 472.498 3024 471.295 L3024 475.322 Q3021.71 476.294 3019.3 476.804 Q3016.9 477.313 3014.42 477.313 Q3008.22 477.313 3004.58 473.702 Q3000.97 470.091 3000.97 463.933 Q3000.97 457.568 3004.4 453.841 Q3007.85 450.091 3013.68 450.091 Q3018.91 450.091 3021.94 453.471 Q3025 456.827 3025 462.614 M3020.74 461.364 Q3020.69 457.869 3018.77 455.785 Q3016.87 453.702 3013.73 453.702 Q3010.16 453.702 3008.01 455.716 Q3005.88 457.73 3005.55 461.387 L3020.74 461.364 Z\" fill=\"#000000\" fill-rule=\"evenodd\" fill-opacity=\"1\" /><polyline clip-path=\"url(#clip240)\" style=\"stroke:#ff0000; stroke-linecap:round; stroke-linejoin:round; stroke-width:4; stroke-opacity:1; fill:none\" points=\"2153.86,511.202 2345.49,511.202 \"/>\n",
       "<path clip-path=\"url(#clip240)\" d=\"M2382.11 497.764 L2382.11 510.75 L2387.99 510.75 Q2391.25 510.75 2393.03 509.061 Q2394.82 507.371 2394.82 504.246 Q2394.82 501.144 2393.03 499.454 Q2391.25 497.764 2387.99 497.764 L2382.11 497.764 M2377.43 493.922 L2387.99 493.922 Q2393.8 493.922 2396.76 496.561 Q2399.75 499.176 2399.75 504.246 Q2399.75 509.361 2396.76 511.977 Q2393.8 514.593 2387.99 514.593 L2382.11 514.593 L2382.11 528.482 L2377.43 528.482 L2377.43 493.922 Z\" fill=\"#000000\" fill-rule=\"evenodd\" fill-opacity=\"1\" /><path clip-path=\"url(#clip240)\" d=\"M2420.03 506.537 Q2419.31 506.121 2418.45 505.936 Q2417.62 505.727 2416.6 505.727 Q2412.99 505.727 2411.04 508.088 Q2409.12 510.426 2409.12 514.824 L2409.12 528.482 L2404.84 528.482 L2404.84 502.556 L2409.12 502.556 L2409.12 506.584 Q2410.47 504.223 2412.62 503.088 Q2414.77 501.931 2417.85 501.931 Q2418.29 501.931 2418.82 502 Q2419.35 502.047 2420 502.162 L2420.03 506.537 Z\" fill=\"#000000\" fill-rule=\"evenodd\" fill-opacity=\"1\" /><path clip-path=\"url(#clip240)\" d=\"M2433.5 505.542 Q2430.07 505.542 2428.08 508.227 Q2426.09 510.889 2426.09 515.542 Q2426.09 520.195 2428.06 522.88 Q2430.05 525.542 2433.5 525.542 Q2436.9 525.542 2438.89 522.857 Q2440.88 520.172 2440.88 515.542 Q2440.88 510.936 2438.89 508.25 Q2436.9 505.542 2433.5 505.542 M2433.5 501.931 Q2439.05 501.931 2442.22 505.542 Q2445.4 509.153 2445.4 515.542 Q2445.4 521.908 2442.22 525.542 Q2439.05 529.153 2433.5 529.153 Q2427.92 529.153 2424.75 525.542 Q2421.6 521.908 2421.6 515.542 Q2421.6 509.153 2424.75 505.542 Q2427.92 501.931 2433.5 501.931 Z\" fill=\"#000000\" fill-rule=\"evenodd\" fill-opacity=\"1\" /><path clip-path=\"url(#clip240)\" d=\"M2465.58 492.463 L2465.58 496.005 L2461.51 496.005 Q2459.22 496.005 2458.31 496.931 Q2457.43 497.857 2457.43 500.264 L2457.43 502.556 L2464.45 502.556 L2464.45 505.866 L2457.43 505.866 L2457.43 528.482 L2453.15 528.482 L2453.15 505.866 L2449.08 505.866 L2449.08 502.556 L2453.15 502.556 L2453.15 500.75 Q2453.15 496.422 2455.16 494.454 Q2457.18 492.463 2461.55 492.463 L2465.58 492.463 Z\" fill=\"#000000\" fill-rule=\"evenodd\" fill-opacity=\"1\" /><path clip-path=\"url(#clip240)\" d=\"M2469.15 502.556 L2473.4 502.556 L2473.4 528.482 L2469.15 528.482 L2469.15 502.556 M2469.15 492.463 L2473.4 492.463 L2473.4 497.857 L2469.15 497.857 L2469.15 492.463 Z\" fill=\"#000000\" fill-rule=\"evenodd\" fill-opacity=\"1\" /><path clip-path=\"url(#clip240)\" d=\"M2486.53 495.195 L2486.53 502.556 L2495.3 502.556 L2495.3 505.866 L2486.53 505.866 L2486.53 519.94 Q2486.53 523.111 2487.39 524.014 Q2488.27 524.917 2490.93 524.917 L2495.3 524.917 L2495.3 528.482 L2490.93 528.482 Q2486 528.482 2484.12 526.653 Q2482.25 524.801 2482.25 519.94 L2482.25 505.866 L2479.12 505.866 L2479.12 502.556 L2482.25 502.556 L2482.25 495.195 L2486.53 495.195 Z\" fill=\"#000000\" fill-rule=\"evenodd\" fill-opacity=\"1\" /><path clip-path=\"url(#clip240)\" d=\"M2515.97 492.463 L2520.23 492.463 L2520.23 528.482 L2515.97 528.482 L2515.97 492.463 Z\" fill=\"#000000\" fill-rule=\"evenodd\" fill-opacity=\"1\" /><path clip-path=\"url(#clip240)\" d=\"M2551.32 514.454 L2551.32 516.537 L2531.74 516.537 Q2532.02 520.935 2534.38 523.25 Q2536.76 525.542 2541 525.542 Q2543.45 525.542 2545.74 524.94 Q2548.06 524.338 2550.33 523.135 L2550.33 527.162 Q2548.03 528.134 2545.63 528.644 Q2543.22 529.153 2540.74 529.153 Q2534.54 529.153 2530.9 525.542 Q2527.29 521.931 2527.29 515.773 Q2527.29 509.408 2530.72 505.681 Q2534.17 501.931 2540 501.931 Q2545.23 501.931 2548.27 505.311 Q2551.32 508.667 2551.32 514.454 M2547.06 513.204 Q2547.02 509.709 2545.09 507.625 Q2543.2 505.542 2540.05 505.542 Q2536.48 505.542 2534.33 507.556 Q2532.2 509.57 2531.88 513.227 L2547.06 513.204 Z\" fill=\"#000000\" fill-rule=\"evenodd\" fill-opacity=\"1\" /><path clip-path=\"url(#clip240)\" d=\"M2555.26 502.556 L2559.77 502.556 L2567.87 524.315 L2575.97 502.556 L2580.49 502.556 L2570.77 528.482 L2564.98 528.482 L2555.26 502.556 Z\" fill=\"#000000\" fill-rule=\"evenodd\" fill-opacity=\"1\" /><path clip-path=\"url(#clip240)\" d=\"M2608.54 514.454 L2608.54 516.537 L2588.96 516.537 Q2589.24 520.935 2591.6 523.25 Q2593.98 525.542 2598.22 525.542 Q2600.67 525.542 2602.96 524.94 Q2605.28 524.338 2607.55 523.135 L2607.55 527.162 Q2605.26 528.134 2602.85 528.644 Q2600.44 529.153 2597.96 529.153 Q2591.76 529.153 2588.13 525.542 Q2584.52 521.931 2584.52 515.773 Q2584.52 509.408 2587.94 505.681 Q2591.39 501.931 2597.22 501.931 Q2602.46 501.931 2605.49 505.311 Q2608.54 508.667 2608.54 514.454 M2604.28 513.204 Q2604.24 509.709 2602.32 507.625 Q2600.42 505.542 2597.27 505.542 Q2593.71 505.542 2591.55 507.556 Q2589.42 509.57 2589.1 513.227 L2604.28 513.204 Z\" fill=\"#000000\" fill-rule=\"evenodd\" fill-opacity=\"1\" /><path clip-path=\"url(#clip240)\" d=\"M2615.53 492.463 L2619.79 492.463 L2619.79 528.482 L2615.53 528.482 L2615.53 492.463 Z\" fill=\"#000000\" fill-rule=\"evenodd\" fill-opacity=\"1\" /><path clip-path=\"url(#clip240)\" d=\"M2655.56 515.449 Q2650.39 515.449 2648.4 516.63 Q2646.41 517.81 2646.41 520.658 Q2646.41 522.926 2647.89 524.269 Q2649.4 525.588 2651.97 525.588 Q2655.51 525.588 2657.64 523.088 Q2659.79 520.565 2659.79 516.398 L2659.79 515.449 L2655.56 515.449 M2664.05 513.69 L2664.05 528.482 L2659.79 528.482 L2659.79 524.547 Q2658.33 526.908 2656.16 528.042 Q2653.98 529.153 2650.83 529.153 Q2646.85 529.153 2644.49 526.931 Q2642.15 524.685 2642.15 520.935 Q2642.15 516.56 2645.07 514.338 Q2648.01 512.116 2653.82 512.116 L2659.79 512.116 L2659.79 511.699 Q2659.79 508.76 2657.85 507.162 Q2655.93 505.542 2652.43 505.542 Q2650.21 505.542 2648.1 506.074 Q2646 506.607 2644.05 507.672 L2644.05 503.736 Q2646.39 502.834 2648.59 502.394 Q2650.79 501.931 2652.87 501.931 Q2658.5 501.931 2661.27 504.848 Q2664.05 507.764 2664.05 513.69 Z\" fill=\"#000000\" fill-rule=\"evenodd\" fill-opacity=\"1\" /><path clip-path=\"url(#clip240)\" d=\"M2677.04 495.195 L2677.04 502.556 L2685.81 502.556 L2685.81 505.866 L2677.04 505.866 L2677.04 519.94 Q2677.04 523.111 2677.89 524.014 Q2678.77 524.917 2681.44 524.917 L2685.81 524.917 L2685.81 528.482 L2681.44 528.482 Q2676.51 528.482 2674.63 526.653 Q2672.76 524.801 2672.76 519.94 L2672.76 505.866 L2669.63 505.866 L2669.63 502.556 L2672.76 502.556 L2672.76 495.195 L2677.04 495.195 Z\" fill=\"#000000\" fill-rule=\"evenodd\" fill-opacity=\"1\" /><path clip-path=\"url(#clip240)\" d=\"M2707.89 524.547 L2715.53 524.547 L2715.53 498.181 L2707.22 499.848 L2707.22 495.588 L2715.49 493.922 L2720.16 493.922 L2720.16 524.547 L2727.8 524.547 L2727.8 528.482 L2707.89 528.482 L2707.89 524.547 Z\" fill=\"#000000\" fill-rule=\"evenodd\" fill-opacity=\"1\" /><path clip-path=\"url(#clip240)\" d=\"M2737.29 493.922 L2755.65 493.922 L2755.65 497.857 L2741.57 497.857 L2741.57 506.329 Q2742.59 505.982 2743.61 505.82 Q2744.63 505.635 2745.65 505.635 Q2751.44 505.635 2754.82 508.806 Q2758.19 511.977 2758.19 517.394 Q2758.19 522.972 2754.72 526.074 Q2751.25 529.153 2744.93 529.153 Q2742.76 529.153 2740.49 528.783 Q2738.24 528.412 2735.83 527.672 L2735.83 522.972 Q2737.92 524.107 2740.14 524.662 Q2742.36 525.218 2744.84 525.218 Q2748.84 525.218 2751.18 523.111 Q2753.52 521.005 2753.52 517.394 Q2753.52 513.783 2751.18 511.676 Q2748.84 509.57 2744.84 509.57 Q2742.96 509.57 2741.09 509.986 Q2739.24 510.403 2737.29 511.283 L2737.29 493.922 Z\" fill=\"#000000\" fill-rule=\"evenodd\" fill-opacity=\"1\" /><path clip-path=\"url(#clip240)\" d=\"M2777.41 497 Q2773.8 497 2771.97 500.565 Q2770.16 504.107 2770.16 511.236 Q2770.16 518.343 2771.97 521.908 Q2773.8 525.449 2777.41 525.449 Q2781.04 525.449 2782.85 521.908 Q2784.68 518.343 2784.68 511.236 Q2784.68 504.107 2782.85 500.565 Q2781.04 497 2777.41 497 M2777.41 493.297 Q2783.22 493.297 2786.27 497.903 Q2789.35 502.486 2789.35 511.236 Q2789.35 519.963 2786.27 524.57 Q2783.22 529.153 2777.41 529.153 Q2771.6 529.153 2768.52 524.57 Q2765.46 519.963 2765.46 511.236 Q2765.46 502.486 2768.52 497.903 Q2771.6 493.297 2777.41 493.297 Z\" fill=\"#000000\" fill-rule=\"evenodd\" fill-opacity=\"1\" /><path clip-path=\"url(#clip240)\" d=\"M2807.57 497 Q2803.96 497 2802.13 500.565 Q2800.32 504.107 2800.32 511.236 Q2800.32 518.343 2802.13 521.908 Q2803.96 525.449 2807.57 525.449 Q2811.2 525.449 2813.01 521.908 Q2814.84 518.343 2814.84 511.236 Q2814.84 504.107 2813.01 500.565 Q2811.2 497 2807.57 497 M2807.57 493.297 Q2813.38 493.297 2816.44 497.903 Q2819.51 502.486 2819.51 511.236 Q2819.51 519.963 2816.44 524.57 Q2813.38 529.153 2807.57 529.153 Q2801.76 529.153 2798.68 524.57 Q2795.63 519.963 2795.63 511.236 Q2795.63 502.486 2798.68 497.903 Q2801.76 493.297 2807.57 493.297 Z\" fill=\"#000000\" fill-rule=\"evenodd\" fill-opacity=\"1\" /><polyline clip-path=\"url(#clip240)\" style=\"stroke:#800080; stroke-linecap:round; stroke-linejoin:round; stroke-width:4; stroke-opacity:1; fill:none\" points=\"2153.86,563.042 2345.49,563.042 \"/>\n",
       "<path clip-path=\"url(#clip240)\" d=\"M2382.11 549.604 L2382.11 562.59 L2387.99 562.59 Q2391.25 562.59 2393.03 560.901 Q2394.82 559.211 2394.82 556.086 Q2394.82 552.984 2393.03 551.294 Q2391.25 549.604 2387.99 549.604 L2382.11 549.604 M2377.43 545.762 L2387.99 545.762 Q2393.8 545.762 2396.76 548.401 Q2399.75 551.016 2399.75 556.086 Q2399.75 561.201 2396.76 563.817 Q2393.8 566.433 2387.99 566.433 L2382.11 566.433 L2382.11 580.322 L2377.43 580.322 L2377.43 545.762 Z\" fill=\"#000000\" fill-rule=\"evenodd\" fill-opacity=\"1\" /><path clip-path=\"url(#clip240)\" d=\"M2420.03 558.377 Q2419.31 557.961 2418.45 557.776 Q2417.62 557.567 2416.6 557.567 Q2412.99 557.567 2411.04 559.928 Q2409.12 562.266 2409.12 566.664 L2409.12 580.322 L2404.84 580.322 L2404.84 554.396 L2409.12 554.396 L2409.12 558.424 Q2410.47 556.063 2412.62 554.928 Q2414.77 553.771 2417.85 553.771 Q2418.29 553.771 2418.82 553.84 Q2419.35 553.887 2420 554.002 L2420.03 558.377 Z\" fill=\"#000000\" fill-rule=\"evenodd\" fill-opacity=\"1\" /><path clip-path=\"url(#clip240)\" d=\"M2433.5 557.382 Q2430.07 557.382 2428.08 560.067 Q2426.09 562.729 2426.09 567.382 Q2426.09 572.035 2428.06 574.72 Q2430.05 577.382 2433.5 577.382 Q2436.9 577.382 2438.89 574.697 Q2440.88 572.012 2440.88 567.382 Q2440.88 562.776 2438.89 560.09 Q2436.9 557.382 2433.5 557.382 M2433.5 553.771 Q2439.05 553.771 2442.22 557.382 Q2445.4 560.993 2445.4 567.382 Q2445.4 573.748 2442.22 577.382 Q2439.05 580.993 2433.5 580.993 Q2427.92 580.993 2424.75 577.382 Q2421.6 573.748 2421.6 567.382 Q2421.6 560.993 2424.75 557.382 Q2427.92 553.771 2433.5 553.771 Z\" fill=\"#000000\" fill-rule=\"evenodd\" fill-opacity=\"1\" /><path clip-path=\"url(#clip240)\" d=\"M2465.58 544.303 L2465.58 547.845 L2461.51 547.845 Q2459.22 547.845 2458.31 548.771 Q2457.43 549.697 2457.43 552.104 L2457.43 554.396 L2464.45 554.396 L2464.45 557.706 L2457.43 557.706 L2457.43 580.322 L2453.15 580.322 L2453.15 557.706 L2449.08 557.706 L2449.08 554.396 L2453.15 554.396 L2453.15 552.59 Q2453.15 548.262 2455.16 546.294 Q2457.18 544.303 2461.55 544.303 L2465.58 544.303 Z\" fill=\"#000000\" fill-rule=\"evenodd\" fill-opacity=\"1\" /><path clip-path=\"url(#clip240)\" d=\"M2469.15 554.396 L2473.4 554.396 L2473.4 580.322 L2469.15 580.322 L2469.15 554.396 M2469.15 544.303 L2473.4 544.303 L2473.4 549.697 L2469.15 549.697 L2469.15 544.303 Z\" fill=\"#000000\" fill-rule=\"evenodd\" fill-opacity=\"1\" /><path clip-path=\"url(#clip240)\" d=\"M2486.53 547.035 L2486.53 554.396 L2495.3 554.396 L2495.3 557.706 L2486.53 557.706 L2486.53 571.78 Q2486.53 574.951 2487.39 575.854 Q2488.27 576.757 2490.93 576.757 L2495.3 576.757 L2495.3 580.322 L2490.93 580.322 Q2486 580.322 2484.12 578.493 Q2482.25 576.641 2482.25 571.78 L2482.25 557.706 L2479.12 557.706 L2479.12 554.396 L2482.25 554.396 L2482.25 547.035 L2486.53 547.035 Z\" fill=\"#000000\" fill-rule=\"evenodd\" fill-opacity=\"1\" /><path clip-path=\"url(#clip240)\" d=\"M2515.97 544.303 L2520.23 544.303 L2520.23 580.322 L2515.97 580.322 L2515.97 544.303 Z\" fill=\"#000000\" fill-rule=\"evenodd\" fill-opacity=\"1\" /><path clip-path=\"url(#clip240)\" d=\"M2551.32 566.294 L2551.32 568.377 L2531.74 568.377 Q2532.02 572.775 2534.38 575.09 Q2536.76 577.382 2541 577.382 Q2543.45 577.382 2545.74 576.78 Q2548.06 576.178 2550.33 574.975 L2550.33 579.002 Q2548.03 579.974 2545.63 580.484 Q2543.22 580.993 2540.74 580.993 Q2534.54 580.993 2530.9 577.382 Q2527.29 573.771 2527.29 567.613 Q2527.29 561.248 2530.72 557.521 Q2534.17 553.771 2540 553.771 Q2545.23 553.771 2548.27 557.151 Q2551.32 560.507 2551.32 566.294 M2547.06 565.044 Q2547.02 561.549 2545.09 559.465 Q2543.2 557.382 2540.05 557.382 Q2536.48 557.382 2534.33 559.396 Q2532.2 561.41 2531.88 565.067 L2547.06 565.044 Z\" fill=\"#000000\" fill-rule=\"evenodd\" fill-opacity=\"1\" /><path clip-path=\"url(#clip240)\" d=\"M2555.26 554.396 L2559.77 554.396 L2567.87 576.155 L2575.97 554.396 L2580.49 554.396 L2570.77 580.322 L2564.98 580.322 L2555.26 554.396 Z\" fill=\"#000000\" fill-rule=\"evenodd\" fill-opacity=\"1\" /><path clip-path=\"url(#clip240)\" d=\"M2608.54 566.294 L2608.54 568.377 L2588.96 568.377 Q2589.24 572.775 2591.6 575.09 Q2593.98 577.382 2598.22 577.382 Q2600.67 577.382 2602.96 576.78 Q2605.28 576.178 2607.55 574.975 L2607.55 579.002 Q2605.26 579.974 2602.85 580.484 Q2600.44 580.993 2597.96 580.993 Q2591.76 580.993 2588.13 577.382 Q2584.52 573.771 2584.52 567.613 Q2584.52 561.248 2587.94 557.521 Q2591.39 553.771 2597.22 553.771 Q2602.46 553.771 2605.49 557.151 Q2608.54 560.507 2608.54 566.294 M2604.28 565.044 Q2604.24 561.549 2602.32 559.465 Q2600.42 557.382 2597.27 557.382 Q2593.71 557.382 2591.55 559.396 Q2589.42 561.41 2589.1 565.067 L2604.28 565.044 Z\" fill=\"#000000\" fill-rule=\"evenodd\" fill-opacity=\"1\" /><path clip-path=\"url(#clip240)\" d=\"M2615.53 544.303 L2619.79 544.303 L2619.79 580.322 L2615.53 580.322 L2615.53 544.303 Z\" fill=\"#000000\" fill-rule=\"evenodd\" fill-opacity=\"1\" /><path clip-path=\"url(#clip240)\" d=\"M2655.56 567.289 Q2650.39 567.289 2648.4 568.47 Q2646.41 569.65 2646.41 572.498 Q2646.41 574.766 2647.89 576.109 Q2649.4 577.428 2651.97 577.428 Q2655.51 577.428 2657.64 574.928 Q2659.79 572.405 2659.79 568.238 L2659.79 567.289 L2655.56 567.289 M2664.05 565.53 L2664.05 580.322 L2659.79 580.322 L2659.79 576.387 Q2658.33 578.748 2656.16 579.882 Q2653.98 580.993 2650.83 580.993 Q2646.85 580.993 2644.49 578.771 Q2642.15 576.525 2642.15 572.775 Q2642.15 568.4 2645.07 566.178 Q2648.01 563.956 2653.82 563.956 L2659.79 563.956 L2659.79 563.539 Q2659.79 560.6 2657.85 559.002 Q2655.93 557.382 2652.43 557.382 Q2650.21 557.382 2648.1 557.914 Q2646 558.447 2644.05 559.512 L2644.05 555.576 Q2646.39 554.674 2648.59 554.234 Q2650.79 553.771 2652.87 553.771 Q2658.5 553.771 2661.27 556.688 Q2664.05 559.604 2664.05 565.53 Z\" fill=\"#000000\" fill-rule=\"evenodd\" fill-opacity=\"1\" /><path clip-path=\"url(#clip240)\" d=\"M2677.04 547.035 L2677.04 554.396 L2685.81 554.396 L2685.81 557.706 L2677.04 557.706 L2677.04 571.78 Q2677.04 574.951 2677.89 575.854 Q2678.77 576.757 2681.44 576.757 L2685.81 576.757 L2685.81 580.322 L2681.44 580.322 Q2676.51 580.322 2674.63 578.493 Q2672.76 576.641 2672.76 571.78 L2672.76 557.706 L2669.63 557.706 L2669.63 554.396 L2672.76 554.396 L2672.76 547.035 L2677.04 547.035 Z\" fill=\"#000000\" fill-rule=\"evenodd\" fill-opacity=\"1\" /><path clip-path=\"url(#clip240)\" d=\"M2707.89 576.387 L2715.53 576.387 L2715.53 550.021 L2707.22 551.688 L2707.22 547.428 L2715.49 545.762 L2720.16 545.762 L2720.16 576.387 L2727.8 576.387 L2727.8 580.322 L2707.89 580.322 L2707.89 576.387 Z\" fill=\"#000000\" fill-rule=\"evenodd\" fill-opacity=\"1\" /><path clip-path=\"url(#clip240)\" d=\"M2741.27 576.387 L2757.59 576.387 L2757.59 580.322 L2735.65 580.322 L2735.65 576.387 Q2738.31 573.632 2742.89 569.002 Q2747.5 564.35 2748.68 563.007 Q2750.93 560.484 2751.81 558.748 Q2752.71 556.989 2752.71 555.299 Q2752.71 552.544 2750.76 550.808 Q2748.84 549.072 2745.74 549.072 Q2743.54 549.072 2741.09 549.836 Q2738.66 550.6 2735.88 552.151 L2735.88 547.428 Q2738.7 546.294 2741.16 545.715 Q2743.61 545.137 2745.65 545.137 Q2751.02 545.137 2754.21 547.822 Q2757.41 550.507 2757.41 554.998 Q2757.41 557.127 2756.6 559.049 Q2755.81 560.947 2753.7 563.539 Q2753.13 564.211 2750.02 567.428 Q2746.92 570.623 2741.27 576.387 Z\" fill=\"#000000\" fill-rule=\"evenodd\" fill-opacity=\"1\" /><path clip-path=\"url(#clip240)\" d=\"M2777.41 548.84 Q2773.8 548.84 2771.97 552.405 Q2770.16 555.947 2770.16 563.076 Q2770.16 570.183 2771.97 573.748 Q2773.8 577.289 2777.41 577.289 Q2781.04 577.289 2782.85 573.748 Q2784.68 570.183 2784.68 563.076 Q2784.68 555.947 2782.85 552.405 Q2781.04 548.84 2777.41 548.84 M2777.41 545.137 Q2783.22 545.137 2786.27 549.743 Q2789.35 554.326 2789.35 563.076 Q2789.35 571.803 2786.27 576.41 Q2783.22 580.993 2777.41 580.993 Q2771.6 580.993 2768.52 576.41 Q2765.46 571.803 2765.46 563.076 Q2765.46 554.326 2768.52 549.743 Q2771.6 545.137 2777.41 545.137 Z\" fill=\"#000000\" fill-rule=\"evenodd\" fill-opacity=\"1\" /><path clip-path=\"url(#clip240)\" d=\"M2807.57 548.84 Q2803.96 548.84 2802.13 552.405 Q2800.32 555.947 2800.32 563.076 Q2800.32 570.183 2802.13 573.748 Q2803.96 577.289 2807.57 577.289 Q2811.2 577.289 2813.01 573.748 Q2814.84 570.183 2814.84 563.076 Q2814.84 555.947 2813.01 552.405 Q2811.2 548.84 2807.57 548.84 M2807.57 545.137 Q2813.38 545.137 2816.44 549.743 Q2819.51 554.326 2819.51 563.076 Q2819.51 571.803 2816.44 576.41 Q2813.38 580.993 2807.57 580.993 Q2801.76 580.993 2798.68 576.41 Q2795.63 571.803 2795.63 563.076 Q2795.63 554.326 2798.68 549.743 Q2801.76 545.137 2807.57 545.137 Z\" fill=\"#000000\" fill-rule=\"evenodd\" fill-opacity=\"1\" /></svg>\n"
      ]
     },
     "execution_count": 24,
     "metadata": {},
     "output_type": "execute_result"
    }
   ],
   "source": [
    "plot([1, 1.05, 1.1, 1.25, 1.5, 1.75], profits_payroll_change_1_00, label=\"Profit at original price\")\n",
    "plot!([1, 1.05, 1.1, 1.25, 1.5, 1.75], profits_payroll_change_1_05, label=\"Profit at 5% price increase\")\n",
    "plot!([1, 1.05, 1.1, 1.25, 1.5, 1.75], profits_payroll_change_1_10, label=\"Profit at 10% price increase\")\n",
    "plot!([1, 1.05, 1.1, 1.25, 1.5, 1.75], profits_payroll_change_1_20, label=\"Profit at 20% price increase\")\n",
    "plot!([1, 1.05, 1.1, 1.25, 1.5, 1.75], profits_payroll_change_1_50, label=\"Profit at 50% price increase\")\n",
    "plot!([1, 1.75], [1500, 1500], linecolor=:red, linewidth=1, label=\"Profit level at 1500\")\n",
    "plot!([1, 1.75], [1200, 1200], linecolor=:purple, linewidth=1, label=\"Profit level at 1200\")\n",
    "xlabel!(\"Change in salary [%]\")\n",
    "ylabel!(\"Profit\")\n",
    "title!(\"Chart of the change in profit in relation to the change in salary\")"
   ]
  },
  {
   "cell_type": "markdown",
   "metadata": {},
   "source": [
    "## Ceteris-paribus analysis for 3 parameters"
   ]
  },
  {
   "cell_type": "code",
   "execution_count": 25,
   "metadata": {},
   "outputs": [
    {
     "ename": "LoadError",
     "evalue": "syntax: extra token \"storage_cost\" after end of expression",
     "output_type": "error",
     "traceback": [
      "syntax: extra token \"storage_cost\" after end of expression",
      "",
      "Stacktrace:",
      " [1] top-level scope",
      "   @ In[25]:1"
     ]
    }
   ],
   "source": [
    "h = 0.1 storage_cost\n",
    "p = 0.75 prob_of_delivery"
   ]
  },
  {
   "cell_type": "code",
   "execution_count": 26,
   "metadata": {},
   "outputs": [
    {
     "data": {
      "image/svg+xml": [
       "<?xml version=\"1.0\" encoding=\"utf-8\"?>\n",
       "<svg xmlns=\"http://www.w3.org/2000/svg\" xmlns:xlink=\"http://www.w3.org/1999/xlink\" width=\"800\" height=\"600\" viewBox=\"0 0 3200 2400\">\n",
       "<defs>\n",
       "  <clipPath id=\"clip280\">\n",
       "    <rect x=\"0\" y=\"0\" width=\"3200\" height=\"2400\"/>\n",
       "  </clipPath>\n",
       "</defs>\n",
       "<path clip-path=\"url(#clip280)\" d=\"M0 2400 L3200 2400 L3200 0 L0 0  Z\" fill=\"#ffffff\" fill-rule=\"evenodd\" fill-opacity=\"1\"/>\n",
       "<defs>\n",
       "  <clipPath id=\"clip281\">\n",
       "    <rect x=\"640\" y=\"0\" width=\"2241\" height=\"2241\"/>\n",
       "  </clipPath>\n",
       "</defs>\n",
       "<path clip-path=\"url(#clip280)\" d=\"M276.491 2204.92 L3152.76 2204.92 L3152.76 131.032 L276.491 131.032  Z\" fill=\"#ffffff\" fill-rule=\"evenodd\" fill-opacity=\"1\"/>\n",
       "<defs>\n",
       "  <clipPath id=\"clip282\">\n",
       "    <rect x=\"276\" y=\"131\" width=\"2877\" height=\"2075\"/>\n",
       "  </clipPath>\n",
       "</defs>\n",
       "<polyline clip-path=\"url(#clip282)\" style=\"stroke:#000000; stroke-linecap:round; stroke-linejoin:round; stroke-width:2; stroke-opacity:0.1; fill:none\" points=\"357.895,2204.92 357.895,131.032 \"/>\n",
       "<polyline clip-path=\"url(#clip282)\" style=\"stroke:#000000; stroke-linecap:round; stroke-linejoin:round; stroke-width:2; stroke-opacity:0.1; fill:none\" points=\"1081.48,2204.92 1081.48,131.032 \"/>\n",
       "<polyline clip-path=\"url(#clip282)\" style=\"stroke:#000000; stroke-linecap:round; stroke-linejoin:round; stroke-width:2; stroke-opacity:0.1; fill:none\" points=\"1805.07,2204.92 1805.07,131.032 \"/>\n",
       "<polyline clip-path=\"url(#clip282)\" style=\"stroke:#000000; stroke-linecap:round; stroke-linejoin:round; stroke-width:2; stroke-opacity:0.1; fill:none\" points=\"2528.66,2204.92 2528.66,131.032 \"/>\n",
       "<polyline clip-path=\"url(#clip280)\" style=\"stroke:#000000; stroke-linecap:round; stroke-linejoin:round; stroke-width:4; stroke-opacity:1; fill:none\" points=\"276.491,2204.92 3152.76,2204.92 \"/>\n",
       "<polyline clip-path=\"url(#clip280)\" style=\"stroke:#000000; stroke-linecap:round; stroke-linejoin:round; stroke-width:4; stroke-opacity:1; fill:none\" points=\"357.895,2204.92 357.895,2186.02 \"/>\n",
       "<polyline clip-path=\"url(#clip280)\" style=\"stroke:#000000; stroke-linecap:round; stroke-linejoin:round; stroke-width:4; stroke-opacity:1; fill:none\" points=\"1081.48,2204.92 1081.48,2186.02 \"/>\n",
       "<polyline clip-path=\"url(#clip280)\" style=\"stroke:#000000; stroke-linecap:round; stroke-linejoin:round; stroke-width:4; stroke-opacity:1; fill:none\" points=\"1805.07,2204.92 1805.07,2186.02 \"/>\n",
       "<polyline clip-path=\"url(#clip280)\" style=\"stroke:#000000; stroke-linecap:round; stroke-linejoin:round; stroke-width:4; stroke-opacity:1; fill:none\" points=\"2528.66,2204.92 2528.66,2186.02 \"/>\n",
       "<path clip-path=\"url(#clip280)\" d=\"M335.279 2242.24 Q331.668 2242.24 329.84 2245.8 Q328.034 2249.34 328.034 2256.47 Q328.034 2263.58 329.84 2267.15 Q331.668 2270.69 335.279 2270.69 Q338.914 2270.69 340.719 2267.15 Q342.548 2263.58 342.548 2256.47 Q342.548 2249.34 340.719 2245.8 Q338.914 2242.24 335.279 2242.24 M335.279 2238.53 Q341.089 2238.53 344.145 2243.14 Q347.224 2247.72 347.224 2256.47 Q347.224 2265.2 344.145 2269.81 Q341.089 2274.39 335.279 2274.39 Q329.469 2274.39 326.39 2269.81 Q323.335 2265.2 323.335 2256.47 Q323.335 2247.72 326.39 2243.14 Q329.469 2238.53 335.279 2238.53 Z\" fill=\"#000000\" fill-rule=\"evenodd\" fill-opacity=\"1\" /><path clip-path=\"url(#clip280)\" d=\"M355.441 2267.84 L360.325 2267.84 L360.325 2273.72 L355.441 2273.72 L355.441 2267.84 Z\" fill=\"#000000\" fill-rule=\"evenodd\" fill-opacity=\"1\" /><path clip-path=\"url(#clip280)\" d=\"M380.511 2242.24 Q376.899 2242.24 375.071 2245.8 Q373.265 2249.34 373.265 2256.47 Q373.265 2263.58 375.071 2267.15 Q376.899 2270.69 380.511 2270.69 Q384.145 2270.69 385.95 2267.15 Q387.779 2263.58 387.779 2256.47 Q387.779 2249.34 385.95 2245.8 Q384.145 2242.24 380.511 2242.24 M380.511 2238.53 Q386.321 2238.53 389.376 2243.14 Q392.455 2247.72 392.455 2256.47 Q392.455 2265.2 389.376 2269.81 Q386.321 2274.39 380.511 2274.39 Q374.7 2274.39 371.622 2269.81 Q368.566 2265.2 368.566 2256.47 Q368.566 2247.72 371.622 2243.14 Q374.7 2238.53 380.511 2238.53 Z\" fill=\"#000000\" fill-rule=\"evenodd\" fill-opacity=\"1\" /><path clip-path=\"url(#clip280)\" d=\"M1059.67 2242.24 Q1056.06 2242.24 1054.23 2245.8 Q1052.42 2249.34 1052.42 2256.47 Q1052.42 2263.58 1054.23 2267.15 Q1056.06 2270.69 1059.67 2270.69 Q1063.3 2270.69 1065.11 2267.15 Q1066.94 2263.58 1066.94 2256.47 Q1066.94 2249.34 1065.11 2245.8 Q1063.3 2242.24 1059.67 2242.24 M1059.67 2238.53 Q1065.48 2238.53 1068.53 2243.14 Q1071.61 2247.72 1071.61 2256.47 Q1071.61 2265.2 1068.53 2269.81 Q1065.48 2274.39 1059.67 2274.39 Q1053.86 2274.39 1050.78 2269.81 Q1047.72 2265.2 1047.72 2256.47 Q1047.72 2247.72 1050.78 2243.14 Q1053.86 2238.53 1059.67 2238.53 Z\" fill=\"#000000\" fill-rule=\"evenodd\" fill-opacity=\"1\" /><path clip-path=\"url(#clip280)\" d=\"M1079.83 2267.84 L1084.71 2267.84 L1084.71 2273.72 L1079.83 2273.72 L1079.83 2267.84 Z\" fill=\"#000000\" fill-rule=\"evenodd\" fill-opacity=\"1\" /><path clip-path=\"url(#clip280)\" d=\"M1098.93 2269.78 L1115.24 2269.78 L1115.24 2273.72 L1093.3 2273.72 L1093.3 2269.78 Q1095.96 2267.03 1100.55 2262.4 Q1105.15 2257.75 1106.33 2256.41 Q1108.58 2253.88 1109.46 2252.15 Q1110.36 2250.39 1110.36 2248.7 Q1110.36 2245.94 1108.42 2244.21 Q1106.49 2242.47 1103.39 2242.47 Q1101.19 2242.47 1098.74 2243.23 Q1096.31 2244 1093.53 2245.55 L1093.53 2240.83 Q1096.36 2239.69 1098.81 2239.11 Q1101.26 2238.53 1103.3 2238.53 Q1108.67 2238.53 1111.87 2241.22 Q1115.06 2243.91 1115.06 2248.4 Q1115.06 2250.53 1114.25 2252.45 Q1113.46 2254.34 1111.36 2256.94 Q1110.78 2257.61 1107.68 2260.83 Q1104.57 2264.02 1098.93 2269.78 Z\" fill=\"#000000\" fill-rule=\"evenodd\" fill-opacity=\"1\" /><path clip-path=\"url(#clip280)\" d=\"M1782.21 2242.24 Q1778.6 2242.24 1776.77 2245.8 Q1774.97 2249.34 1774.97 2256.47 Q1774.97 2263.58 1776.77 2267.15 Q1778.6 2270.69 1782.21 2270.69 Q1785.85 2270.69 1787.65 2267.15 Q1789.48 2263.58 1789.48 2256.47 Q1789.48 2249.34 1787.65 2245.8 Q1785.85 2242.24 1782.21 2242.24 M1782.21 2238.53 Q1788.02 2238.53 1791.08 2243.14 Q1794.16 2247.72 1794.16 2256.47 Q1794.16 2265.2 1791.08 2269.81 Q1788.02 2274.39 1782.21 2274.39 Q1776.4 2274.39 1773.32 2269.81 Q1770.27 2265.2 1770.27 2256.47 Q1770.27 2247.72 1773.32 2243.14 Q1776.4 2238.53 1782.21 2238.53 Z\" fill=\"#000000\" fill-rule=\"evenodd\" fill-opacity=\"1\" /><path clip-path=\"url(#clip280)\" d=\"M1802.38 2267.84 L1807.26 2267.84 L1807.26 2273.72 L1802.38 2273.72 L1802.38 2267.84 Z\" fill=\"#000000\" fill-rule=\"evenodd\" fill-opacity=\"1\" /><path clip-path=\"url(#clip280)\" d=\"M1830.29 2243.23 L1818.49 2261.68 L1830.29 2261.68 L1830.29 2243.23 M1829.07 2239.16 L1834.94 2239.16 L1834.94 2261.68 L1839.88 2261.68 L1839.88 2265.57 L1834.94 2265.57 L1834.94 2273.72 L1830.29 2273.72 L1830.29 2265.57 L1814.69 2265.57 L1814.69 2261.06 L1829.07 2239.16 Z\" fill=\"#000000\" fill-rule=\"evenodd\" fill-opacity=\"1\" /><path clip-path=\"url(#clip280)\" d=\"M2505.96 2242.24 Q2502.35 2242.24 2500.52 2245.8 Q2498.72 2249.34 2498.72 2256.47 Q2498.72 2263.58 2500.52 2267.15 Q2502.35 2270.69 2505.96 2270.69 Q2509.6 2270.69 2511.4 2267.15 Q2513.23 2263.58 2513.23 2256.47 Q2513.23 2249.34 2511.4 2245.8 Q2509.6 2242.24 2505.96 2242.24 M2505.96 2238.53 Q2511.77 2238.53 2514.83 2243.14 Q2517.91 2247.72 2517.91 2256.47 Q2517.91 2265.2 2514.83 2269.81 Q2511.77 2274.39 2505.96 2274.39 Q2500.15 2274.39 2497.08 2269.81 Q2494.02 2265.2 2494.02 2256.47 Q2494.02 2247.72 2497.08 2243.14 Q2500.15 2238.53 2505.96 2238.53 Z\" fill=\"#000000\" fill-rule=\"evenodd\" fill-opacity=\"1\" /><path clip-path=\"url(#clip280)\" d=\"M2526.13 2267.84 L2531.01 2267.84 L2531.01 2273.72 L2526.13 2273.72 L2526.13 2267.84 Z\" fill=\"#000000\" fill-rule=\"evenodd\" fill-opacity=\"1\" /><path clip-path=\"url(#clip280)\" d=\"M2551.77 2254.58 Q2548.63 2254.58 2546.77 2256.73 Q2544.95 2258.88 2544.95 2262.63 Q2544.95 2266.36 2546.77 2268.53 Q2548.63 2270.69 2551.77 2270.69 Q2554.92 2270.69 2556.75 2268.53 Q2558.6 2266.36 2558.6 2262.63 Q2558.6 2258.88 2556.75 2256.73 Q2554.92 2254.58 2551.77 2254.58 M2561.06 2239.92 L2561.06 2244.18 Q2559.3 2243.35 2557.49 2242.91 Q2555.71 2242.47 2553.95 2242.47 Q2549.32 2242.47 2546.87 2245.59 Q2544.44 2248.72 2544.09 2255.04 Q2545.45 2253.03 2547.51 2251.96 Q2549.57 2250.87 2552.05 2250.87 Q2557.26 2250.87 2560.27 2254.04 Q2563.3 2257.19 2563.3 2262.63 Q2563.3 2267.96 2560.15 2271.17 Q2557.01 2274.39 2551.77 2274.39 Q2545.78 2274.39 2542.61 2269.81 Q2539.44 2265.2 2539.44 2256.47 Q2539.44 2248.28 2543.33 2243.42 Q2547.21 2238.53 2553.76 2238.53 Q2555.52 2238.53 2557.31 2238.88 Q2559.11 2239.23 2561.06 2239.92 Z\" fill=\"#000000\" fill-rule=\"evenodd\" fill-opacity=\"1\" /><path clip-path=\"url(#clip280)\" d=\"M1566.03 2317.92 L1566.03 2324.7 Q1562.79 2321.68 1559.09 2320.18 Q1555.43 2318.69 1551.3 2318.69 Q1543.15 2318.69 1538.82 2323.69 Q1534.49 2328.65 1534.49 2338.07 Q1534.49 2347.46 1538.82 2352.46 Q1543.15 2357.42 1551.3 2357.42 Q1555.43 2357.42 1559.09 2355.93 Q1562.79 2354.43 1566.03 2351.41 L1566.03 2358.12 Q1562.66 2360.42 1558.87 2361.56 Q1555.11 2362.71 1550.91 2362.71 Q1540.12 2362.71 1533.92 2356.12 Q1527.71 2349.5 1527.71 2338.07 Q1527.71 2326.61 1533.92 2320.02 Q1540.12 2313.4 1550.91 2313.4 Q1555.18 2313.4 1558.93 2314.55 Q1562.72 2315.66 1566.03 2317.92 Z\" fill=\"#000000\" fill-rule=\"evenodd\" fill-opacity=\"1\" /><path clip-path=\"url(#clip280)\" d=\"M1605.34 2340.27 L1605.34 2361.78 L1599.48 2361.78 L1599.48 2340.46 Q1599.48 2335.4 1597.51 2332.88 Q1595.54 2330.37 1591.59 2330.37 Q1586.85 2330.37 1584.11 2333.39 Q1581.37 2336.42 1581.37 2341.64 L1581.37 2361.78 L1575.49 2361.78 L1575.49 2312.26 L1581.37 2312.26 L1581.37 2331.67 Q1583.47 2328.46 1586.31 2326.87 Q1589.17 2325.28 1592.9 2325.28 Q1599.04 2325.28 1602.19 2329.1 Q1605.34 2332.88 1605.34 2340.27 Z\" fill=\"#000000\" fill-rule=\"evenodd\" fill-opacity=\"1\" /><path clip-path=\"url(#clip280)\" d=\"M1633.22 2343.86 Q1626.12 2343.86 1623.39 2345.49 Q1620.65 2347.11 1620.65 2351.03 Q1620.65 2354.14 1622.69 2355.99 Q1624.76 2357.81 1628.29 2357.81 Q1633.16 2357.81 1636.09 2354.37 Q1639.05 2350.9 1639.05 2345.17 L1639.05 2343.86 L1633.22 2343.86 M1644.9 2341.45 L1644.9 2361.78 L1639.05 2361.78 L1639.05 2356.37 Q1637.04 2359.62 1634.05 2361.18 Q1631.06 2362.71 1626.73 2362.71 Q1621.25 2362.71 1618.01 2359.65 Q1614.79 2356.56 1614.79 2351.41 Q1614.79 2345.39 1618.8 2342.34 Q1622.85 2339.28 1630.83 2339.28 L1639.05 2339.28 L1639.05 2338.71 Q1639.05 2334.67 1636.37 2332.47 Q1633.73 2330.24 1628.93 2330.24 Q1625.87 2330.24 1622.97 2330.97 Q1620.08 2331.71 1617.4 2333.17 L1617.4 2327.76 Q1620.62 2326.52 1623.64 2325.91 Q1626.67 2325.28 1629.53 2325.28 Q1637.26 2325.28 1641.08 2329.29 Q1644.9 2333.3 1644.9 2341.45 Z\" fill=\"#000000\" fill-rule=\"evenodd\" fill-opacity=\"1\" /><path clip-path=\"url(#clip280)\" d=\"M1686.6 2340.27 L1686.6 2361.78 L1680.74 2361.78 L1680.74 2340.46 Q1680.74 2335.4 1678.77 2332.88 Q1676.8 2330.37 1672.85 2330.37 Q1668.11 2330.37 1665.37 2333.39 Q1662.63 2336.42 1662.63 2341.64 L1662.63 2361.78 L1656.74 2361.78 L1656.74 2326.14 L1662.63 2326.14 L1662.63 2331.67 Q1664.73 2328.46 1667.57 2326.87 Q1670.43 2325.28 1674.15 2325.28 Q1680.3 2325.28 1683.45 2329.1 Q1686.6 2332.88 1686.6 2340.27 Z\" fill=\"#000000\" fill-rule=\"evenodd\" fill-opacity=\"1\" /><path clip-path=\"url(#clip280)\" d=\"M1721.74 2343.55 Q1721.74 2337.18 1719.1 2333.68 Q1716.49 2330.18 1711.74 2330.18 Q1707.03 2330.18 1704.39 2333.68 Q1701.78 2337.18 1701.78 2343.55 Q1701.78 2349.88 1704.39 2353.38 Q1707.03 2356.88 1711.74 2356.88 Q1716.49 2356.88 1719.1 2353.38 Q1721.74 2349.88 1721.74 2343.55 M1727.59 2357.36 Q1727.59 2366.46 1723.55 2370.89 Q1719.51 2375.34 1711.17 2375.34 Q1708.08 2375.34 1705.35 2374.87 Q1702.61 2374.42 1700.03 2373.46 L1700.03 2367.77 Q1702.61 2369.17 1705.12 2369.84 Q1707.64 2370.5 1710.25 2370.5 Q1716.01 2370.5 1718.87 2367.48 Q1721.74 2364.49 1721.74 2358.41 L1721.74 2355.51 Q1719.92 2358.66 1717.09 2360.22 Q1714.26 2361.78 1710.31 2361.78 Q1703.75 2361.78 1699.74 2356.79 Q1695.73 2351.79 1695.73 2343.55 Q1695.73 2335.27 1699.74 2330.27 Q1703.75 2325.28 1710.31 2325.28 Q1714.26 2325.28 1717.09 2326.84 Q1719.92 2328.4 1721.74 2331.55 L1721.74 2326.14 L1727.59 2326.14 L1727.59 2357.36 Z\" fill=\"#000000\" fill-rule=\"evenodd\" fill-opacity=\"1\" /><path clip-path=\"url(#clip280)\" d=\"M1770.15 2342.5 L1770.15 2345.36 L1743.22 2345.36 Q1743.6 2351.41 1746.85 2354.59 Q1750.13 2357.74 1755.95 2357.74 Q1759.33 2357.74 1762.48 2356.91 Q1765.66 2356.09 1768.78 2354.43 L1768.78 2359.97 Q1765.63 2361.31 1762.32 2362.01 Q1759.01 2362.71 1755.6 2362.71 Q1747.07 2362.71 1742.08 2357.74 Q1737.11 2352.78 1737.11 2344.31 Q1737.11 2335.56 1741.82 2330.43 Q1746.56 2325.28 1754.58 2325.28 Q1761.78 2325.28 1765.95 2329.92 Q1770.15 2334.54 1770.15 2342.5 M1764.29 2340.78 Q1764.23 2335.97 1761.59 2333.11 Q1758.98 2330.24 1754.65 2330.24 Q1749.75 2330.24 1746.79 2333.01 Q1743.86 2335.78 1743.41 2340.81 L1764.29 2340.78 Z\" fill=\"#000000\" fill-rule=\"evenodd\" fill-opacity=\"1\" /><path clip-path=\"url(#clip280)\" d=\"M1799.94 2312.26 L1813.44 2312.26 L1813.44 2316.81 L1805.8 2316.81 L1805.8 2365.83 L1813.44 2365.83 L1813.44 2370.38 L1799.94 2370.38 L1799.94 2312.26 Z\" fill=\"#000000\" fill-rule=\"evenodd\" fill-opacity=\"1\" /><path clip-path=\"url(#clip280)\" d=\"M1867.16 2340.87 Q1864.39 2340.87 1862.8 2343.23 Q1861.24 2345.58 1861.24 2349.78 Q1861.24 2353.92 1862.8 2356.31 Q1864.39 2358.66 1867.16 2358.66 Q1869.87 2358.66 1871.43 2356.31 Q1873.02 2353.92 1873.02 2349.78 Q1873.02 2345.61 1871.43 2343.26 Q1869.87 2340.87 1867.16 2340.87 M1867.16 2336.83 Q1872.19 2336.83 1875.15 2340.33 Q1878.11 2343.83 1878.11 2349.78 Q1878.11 2355.74 1875.12 2359.24 Q1872.16 2362.71 1867.16 2362.71 Q1862.07 2362.71 1859.11 2359.24 Q1856.15 2355.74 1856.15 2349.78 Q1856.15 2343.8 1859.11 2340.33 Q1862.1 2336.83 1867.16 2336.83 M1834.31 2317.45 Q1831.58 2317.45 1829.99 2319.83 Q1828.43 2322.19 1828.43 2326.33 Q1828.43 2330.53 1829.99 2332.88 Q1831.55 2335.24 1834.31 2335.24 Q1837.08 2335.24 1838.64 2332.88 Q1840.23 2330.53 1840.23 2326.33 Q1840.23 2322.22 1838.64 2319.83 Q1837.05 2317.45 1834.31 2317.45 M1863.06 2313.4 L1868.15 2313.4 L1838.42 2362.71 L1833.33 2362.71 L1863.06 2313.4 M1834.31 2313.4 Q1839.34 2313.4 1842.34 2316.91 Q1845.33 2320.37 1845.33 2326.33 Q1845.33 2332.34 1842.34 2335.81 Q1839.38 2339.28 1834.31 2339.28 Q1829.25 2339.28 1826.29 2335.81 Q1823.37 2332.31 1823.37 2326.33 Q1823.37 2320.41 1826.33 2316.91 Q1829.29 2313.4 1834.31 2313.4 Z\" fill=\"#000000\" fill-rule=\"evenodd\" fill-opacity=\"1\" /><path clip-path=\"url(#clip280)\" d=\"M1901.54 2312.26 L1901.54 2370.38 L1888.04 2370.38 L1888.04 2365.83 L1895.65 2365.83 L1895.65 2316.81 L1888.04 2316.81 L1888.04 2312.26 L1901.54 2312.26 Z\" fill=\"#000000\" fill-rule=\"evenodd\" fill-opacity=\"1\" /><polyline clip-path=\"url(#clip282)\" style=\"stroke:#000000; stroke-linecap:round; stroke-linejoin:round; stroke-width:2; stroke-opacity:0.1; fill:none\" points=\"276.491,2123.84 3152.76,2123.84 \"/>\n",
       "<polyline clip-path=\"url(#clip282)\" style=\"stroke:#000000; stroke-linecap:round; stroke-linejoin:round; stroke-width:2; stroke-opacity:0.1; fill:none\" points=\"276.491,1699.59 3152.76,1699.59 \"/>\n",
       "<polyline clip-path=\"url(#clip282)\" style=\"stroke:#000000; stroke-linecap:round; stroke-linejoin:round; stroke-width:2; stroke-opacity:0.1; fill:none\" points=\"276.491,1275.33 3152.76,1275.33 \"/>\n",
       "<polyline clip-path=\"url(#clip282)\" style=\"stroke:#000000; stroke-linecap:round; stroke-linejoin:round; stroke-width:2; stroke-opacity:0.1; fill:none\" points=\"276.491,851.083 3152.76,851.083 \"/>\n",
       "<polyline clip-path=\"url(#clip282)\" style=\"stroke:#000000; stroke-linecap:round; stroke-linejoin:round; stroke-width:2; stroke-opacity:0.1; fill:none\" points=\"276.491,426.831 3152.76,426.831 \"/>\n",
       "<polyline clip-path=\"url(#clip280)\" style=\"stroke:#000000; stroke-linecap:round; stroke-linejoin:round; stroke-width:4; stroke-opacity:1; fill:none\" points=\"276.491,2204.92 276.491,131.032 \"/>\n",
       "<polyline clip-path=\"url(#clip280)\" style=\"stroke:#000000; stroke-linecap:round; stroke-linejoin:round; stroke-width:4; stroke-opacity:1; fill:none\" points=\"276.491,2123.84 295.389,2123.84 \"/>\n",
       "<polyline clip-path=\"url(#clip280)\" style=\"stroke:#000000; stroke-linecap:round; stroke-linejoin:round; stroke-width:4; stroke-opacity:1; fill:none\" points=\"276.491,1699.59 295.389,1699.59 \"/>\n",
       "<polyline clip-path=\"url(#clip280)\" style=\"stroke:#000000; stroke-linecap:round; stroke-linejoin:round; stroke-width:4; stroke-opacity:1; fill:none\" points=\"276.491,1275.33 295.389,1275.33 \"/>\n",
       "<polyline clip-path=\"url(#clip280)\" style=\"stroke:#000000; stroke-linecap:round; stroke-linejoin:round; stroke-width:4; stroke-opacity:1; fill:none\" points=\"276.491,851.083 295.389,851.083 \"/>\n",
       "<polyline clip-path=\"url(#clip280)\" style=\"stroke:#000000; stroke-linecap:round; stroke-linejoin:round; stroke-width:4; stroke-opacity:1; fill:none\" points=\"276.491,426.831 295.389,426.831 \"/>\n",
       "<path clip-path=\"url(#clip280)\" d=\"M159.07 2110.63 L147.265 2129.08 L159.07 2129.08 L159.07 2110.63 M157.843 2106.56 L163.723 2106.56 L163.723 2129.08 L168.654 2129.08 L168.654 2132.97 L163.723 2132.97 L163.723 2141.12 L159.07 2141.12 L159.07 2132.97 L143.469 2132.97 L143.469 2128.45 L157.843 2106.56 Z\" fill=\"#000000\" fill-rule=\"evenodd\" fill-opacity=\"1\" /><path clip-path=\"url(#clip280)\" d=\"M186.385 2109.64 Q182.774 2109.64 180.945 2113.2 Q179.14 2116.74 179.14 2123.87 Q179.14 2130.98 180.945 2134.54 Q182.774 2138.08 186.385 2138.08 Q190.019 2138.08 191.825 2134.54 Q193.653 2130.98 193.653 2123.87 Q193.653 2116.74 191.825 2113.2 Q190.019 2109.64 186.385 2109.64 M186.385 2105.93 Q192.195 2105.93 195.251 2110.54 Q198.329 2115.12 198.329 2123.87 Q198.329 2132.6 195.251 2137.2 Q192.195 2141.79 186.385 2141.79 Q180.575 2141.79 177.496 2137.2 Q174.441 2132.6 174.441 2123.87 Q174.441 2115.12 177.496 2110.54 Q180.575 2105.93 186.385 2105.93 Z\" fill=\"#000000\" fill-rule=\"evenodd\" fill-opacity=\"1\" /><path clip-path=\"url(#clip280)\" d=\"M216.547 2109.64 Q212.936 2109.64 211.107 2113.2 Q209.302 2116.74 209.302 2123.87 Q209.302 2130.98 211.107 2134.54 Q212.936 2138.08 216.547 2138.08 Q220.181 2138.08 221.987 2134.54 Q223.815 2130.98 223.815 2123.87 Q223.815 2116.74 221.987 2113.2 Q220.181 2109.64 216.547 2109.64 M216.547 2105.93 Q222.357 2105.93 225.413 2110.54 Q228.491 2115.12 228.491 2123.87 Q228.491 2132.6 225.413 2137.2 Q222.357 2141.79 216.547 2141.79 Q210.737 2141.79 207.658 2137.2 Q204.602 2132.6 204.602 2123.87 Q204.602 2115.12 207.658 2110.54 Q210.737 2105.93 216.547 2105.93 Z\" fill=\"#000000\" fill-rule=\"evenodd\" fill-opacity=\"1\" /><path clip-path=\"url(#clip280)\" d=\"M156.802 1697.72 Q153.654 1697.72 151.802 1699.87 Q149.973 1702.03 149.973 1705.78 Q149.973 1709.5 151.802 1711.68 Q153.654 1713.83 156.802 1713.83 Q159.95 1713.83 161.779 1711.68 Q163.63 1709.5 163.63 1705.78 Q163.63 1702.03 161.779 1699.87 Q159.95 1697.72 156.802 1697.72 M166.084 1683.07 L166.084 1687.33 Q164.325 1686.5 162.519 1686.06 Q160.737 1685.62 158.978 1685.62 Q154.348 1685.62 151.894 1688.74 Q149.464 1691.87 149.117 1698.19 Q150.482 1696.17 152.543 1695.11 Q154.603 1694.02 157.08 1694.02 Q162.288 1694.02 165.297 1697.19 Q168.33 1700.34 168.33 1705.78 Q168.33 1711.1 165.181 1714.32 Q162.033 1717.54 156.802 1717.54 Q150.806 1717.54 147.635 1712.95 Q144.464 1708.35 144.464 1699.62 Q144.464 1691.43 148.353 1686.56 Q152.242 1681.68 158.793 1681.68 Q160.552 1681.68 162.334 1682.03 Q164.14 1682.37 166.084 1683.07 Z\" fill=\"#000000\" fill-rule=\"evenodd\" fill-opacity=\"1\" /><path clip-path=\"url(#clip280)\" d=\"M186.385 1685.38 Q182.774 1685.38 180.945 1688.95 Q179.14 1692.49 179.14 1699.62 Q179.14 1706.73 180.945 1710.29 Q182.774 1713.83 186.385 1713.83 Q190.019 1713.83 191.825 1710.29 Q193.653 1706.73 193.653 1699.62 Q193.653 1692.49 191.825 1688.95 Q190.019 1685.38 186.385 1685.38 M186.385 1681.68 Q192.195 1681.68 195.251 1686.29 Q198.329 1690.87 198.329 1699.62 Q198.329 1708.35 195.251 1712.95 Q192.195 1717.54 186.385 1717.54 Q180.575 1717.54 177.496 1712.95 Q174.441 1708.35 174.441 1699.62 Q174.441 1690.87 177.496 1686.29 Q180.575 1681.68 186.385 1681.68 Z\" fill=\"#000000\" fill-rule=\"evenodd\" fill-opacity=\"1\" /><path clip-path=\"url(#clip280)\" d=\"M216.547 1685.38 Q212.936 1685.38 211.107 1688.95 Q209.302 1692.49 209.302 1699.62 Q209.302 1706.73 211.107 1710.29 Q212.936 1713.83 216.547 1713.83 Q220.181 1713.83 221.987 1710.29 Q223.815 1706.73 223.815 1699.62 Q223.815 1692.49 221.987 1688.95 Q220.181 1685.38 216.547 1685.38 M216.547 1681.68 Q222.357 1681.68 225.413 1686.29 Q228.491 1690.87 228.491 1699.62 Q228.491 1708.35 225.413 1712.95 Q222.357 1717.54 216.547 1717.54 Q210.737 1717.54 207.658 1712.95 Q204.602 1708.35 204.602 1699.62 Q204.602 1690.87 207.658 1686.29 Q210.737 1681.68 216.547 1681.68 Z\" fill=\"#000000\" fill-rule=\"evenodd\" fill-opacity=\"1\" /><path clip-path=\"url(#clip280)\" d=\"M156.223 1276.2 Q152.89 1276.2 150.968 1277.98 Q149.07 1279.77 149.07 1282.89 Q149.07 1286.02 150.968 1287.8 Q152.89 1289.58 156.223 1289.58 Q159.556 1289.58 161.478 1287.8 Q163.399 1285.99 163.399 1282.89 Q163.399 1279.77 161.478 1277.98 Q159.58 1276.2 156.223 1276.2 M151.547 1274.21 Q148.538 1273.47 146.848 1271.41 Q145.181 1269.35 145.181 1266.39 Q145.181 1262.24 148.121 1259.84 Q151.084 1257.43 156.223 1257.43 Q161.385 1257.43 164.325 1259.84 Q167.265 1262.24 167.265 1266.39 Q167.265 1269.35 165.575 1271.41 Q163.908 1273.47 160.922 1274.21 Q164.302 1275 166.177 1277.29 Q168.075 1279.58 168.075 1282.89 Q168.075 1287.92 164.996 1290.6 Q161.941 1293.29 156.223 1293.29 Q150.506 1293.29 147.427 1290.6 Q144.371 1287.92 144.371 1282.89 Q144.371 1279.58 146.269 1277.29 Q148.168 1275 151.547 1274.21 M149.834 1266.83 Q149.834 1269.51 151.501 1271.02 Q153.191 1272.52 156.223 1272.52 Q159.232 1272.52 160.922 1271.02 Q162.635 1269.51 162.635 1266.83 Q162.635 1264.14 160.922 1262.64 Q159.232 1261.13 156.223 1261.13 Q153.191 1261.13 151.501 1262.64 Q149.834 1264.14 149.834 1266.83 Z\" fill=\"#000000\" fill-rule=\"evenodd\" fill-opacity=\"1\" /><path clip-path=\"url(#clip280)\" d=\"M186.385 1261.13 Q182.774 1261.13 180.945 1264.7 Q179.14 1268.24 179.14 1275.37 Q179.14 1282.48 180.945 1286.04 Q182.774 1289.58 186.385 1289.58 Q190.019 1289.58 191.825 1286.04 Q193.653 1282.48 193.653 1275.37 Q193.653 1268.24 191.825 1264.7 Q190.019 1261.13 186.385 1261.13 M186.385 1257.43 Q192.195 1257.43 195.251 1262.04 Q198.329 1266.62 198.329 1275.37 Q198.329 1284.1 195.251 1288.7 Q192.195 1293.29 186.385 1293.29 Q180.575 1293.29 177.496 1288.7 Q174.441 1284.1 174.441 1275.37 Q174.441 1266.62 177.496 1262.04 Q180.575 1257.43 186.385 1257.43 Z\" fill=\"#000000\" fill-rule=\"evenodd\" fill-opacity=\"1\" /><path clip-path=\"url(#clip280)\" d=\"M216.547 1261.13 Q212.936 1261.13 211.107 1264.7 Q209.302 1268.24 209.302 1275.37 Q209.302 1282.48 211.107 1286.04 Q212.936 1289.58 216.547 1289.58 Q220.181 1289.58 221.987 1286.04 Q223.815 1282.48 223.815 1275.37 Q223.815 1268.24 221.987 1264.7 Q220.181 1261.13 216.547 1261.13 M216.547 1257.43 Q222.357 1257.43 225.413 1262.04 Q228.491 1266.62 228.491 1275.37 Q228.491 1284.1 225.413 1288.7 Q222.357 1293.29 216.547 1293.29 Q210.737 1293.29 207.658 1288.7 Q204.602 1284.1 204.602 1275.37 Q204.602 1266.62 207.658 1262.04 Q210.737 1257.43 216.547 1257.43 Z\" fill=\"#000000\" fill-rule=\"evenodd\" fill-opacity=\"1\" /><path clip-path=\"url(#clip280)\" d=\"M116.871 864.427 L124.51 864.427 L124.51 838.062 L116.2 839.729 L116.2 835.469 L124.464 833.803 L129.14 833.803 L129.14 864.427 L136.779 864.427 L136.779 868.363 L116.871 868.363 L116.871 864.427 Z\" fill=\"#000000\" fill-rule=\"evenodd\" fill-opacity=\"1\" /><path clip-path=\"url(#clip280)\" d=\"M156.223 836.881 Q152.612 836.881 150.783 840.446 Q148.978 843.988 148.978 851.117 Q148.978 858.224 150.783 861.789 Q152.612 865.33 156.223 865.33 Q159.857 865.33 161.663 861.789 Q163.492 858.224 163.492 851.117 Q163.492 843.988 161.663 840.446 Q159.857 836.881 156.223 836.881 M156.223 833.178 Q162.033 833.178 165.089 837.784 Q168.167 842.367 168.167 851.117 Q168.167 859.844 165.089 864.451 Q162.033 869.034 156.223 869.034 Q150.413 869.034 147.334 864.451 Q144.279 859.844 144.279 851.117 Q144.279 842.367 147.334 837.784 Q150.413 833.178 156.223 833.178 Z\" fill=\"#000000\" fill-rule=\"evenodd\" fill-opacity=\"1\" /><path clip-path=\"url(#clip280)\" d=\"M186.385 836.881 Q182.774 836.881 180.945 840.446 Q179.14 843.988 179.14 851.117 Q179.14 858.224 180.945 861.789 Q182.774 865.33 186.385 865.33 Q190.019 865.33 191.825 861.789 Q193.653 858.224 193.653 851.117 Q193.653 843.988 191.825 840.446 Q190.019 836.881 186.385 836.881 M186.385 833.178 Q192.195 833.178 195.251 837.784 Q198.329 842.367 198.329 851.117 Q198.329 859.844 195.251 864.451 Q192.195 869.034 186.385 869.034 Q180.575 869.034 177.496 864.451 Q174.441 859.844 174.441 851.117 Q174.441 842.367 177.496 837.784 Q180.575 833.178 186.385 833.178 Z\" fill=\"#000000\" fill-rule=\"evenodd\" fill-opacity=\"1\" /><path clip-path=\"url(#clip280)\" d=\"M216.547 836.881 Q212.936 836.881 211.107 840.446 Q209.302 843.988 209.302 851.117 Q209.302 858.224 211.107 861.789 Q212.936 865.33 216.547 865.33 Q220.181 865.33 221.987 861.789 Q223.815 858.224 223.815 851.117 Q223.815 843.988 221.987 840.446 Q220.181 836.881 216.547 836.881 M216.547 833.178 Q222.357 833.178 225.413 837.784 Q228.491 842.367 228.491 851.117 Q228.491 859.844 225.413 864.451 Q222.357 869.034 216.547 869.034 Q210.737 869.034 207.658 864.451 Q204.602 859.844 204.602 851.117 Q204.602 842.367 207.658 837.784 Q210.737 833.178 216.547 833.178 Z\" fill=\"#000000\" fill-rule=\"evenodd\" fill-opacity=\"1\" /><path clip-path=\"url(#clip280)\" d=\"M116.871 440.176 L124.51 440.176 L124.51 413.81 L116.2 415.477 L116.2 411.218 L124.464 409.551 L129.14 409.551 L129.14 440.176 L136.779 440.176 L136.779 444.111 L116.871 444.111 L116.871 440.176 Z\" fill=\"#000000\" fill-rule=\"evenodd\" fill-opacity=\"1\" /><path clip-path=\"url(#clip280)\" d=\"M150.251 440.176 L166.57 440.176 L166.57 444.111 L144.626 444.111 L144.626 440.176 Q147.288 437.421 151.871 432.792 Q156.478 428.139 157.658 426.796 Q159.904 424.273 160.783 422.537 Q161.686 420.778 161.686 419.088 Q161.686 416.334 159.742 414.597 Q157.82 412.861 154.718 412.861 Q152.519 412.861 150.066 413.625 Q147.635 414.389 144.857 415.94 L144.857 411.218 Q147.681 410.084 150.135 409.505 Q152.589 408.926 154.626 408.926 Q159.996 408.926 163.191 411.611 Q166.385 414.297 166.385 418.787 Q166.385 420.917 165.575 422.838 Q164.788 424.736 162.681 427.329 Q162.103 428 159.001 431.218 Q155.899 434.412 150.251 440.176 Z\" fill=\"#000000\" fill-rule=\"evenodd\" fill-opacity=\"1\" /><path clip-path=\"url(#clip280)\" d=\"M186.385 412.63 Q182.774 412.63 180.945 416.195 Q179.14 419.736 179.14 426.866 Q179.14 433.972 180.945 437.537 Q182.774 441.079 186.385 441.079 Q190.019 441.079 191.825 437.537 Q193.653 433.972 193.653 426.866 Q193.653 419.736 191.825 416.195 Q190.019 412.63 186.385 412.63 M186.385 408.926 Q192.195 408.926 195.251 413.533 Q198.329 418.116 198.329 426.866 Q198.329 435.593 195.251 440.199 Q192.195 444.783 186.385 444.783 Q180.575 444.783 177.496 440.199 Q174.441 435.593 174.441 426.866 Q174.441 418.116 177.496 413.533 Q180.575 408.926 186.385 408.926 Z\" fill=\"#000000\" fill-rule=\"evenodd\" fill-opacity=\"1\" /><path clip-path=\"url(#clip280)\" d=\"M216.547 412.63 Q212.936 412.63 211.107 416.195 Q209.302 419.736 209.302 426.866 Q209.302 433.972 211.107 437.537 Q212.936 441.079 216.547 441.079 Q220.181 441.079 221.987 437.537 Q223.815 433.972 223.815 426.866 Q223.815 419.736 221.987 416.195 Q220.181 412.63 216.547 412.63 M216.547 408.926 Q222.357 408.926 225.413 413.533 Q228.491 418.116 228.491 426.866 Q228.491 435.593 225.413 440.199 Q222.357 444.783 216.547 444.783 Q210.737 444.783 207.658 440.199 Q204.602 435.593 204.602 426.866 Q204.602 418.116 207.658 413.533 Q210.737 408.926 216.547 408.926 Z\" fill=\"#000000\" fill-rule=\"evenodd\" fill-opacity=\"1\" /><path clip-path=\"url(#clip280)\" d=\"M11.7077 1242.58 L29.5635 1242.58 L29.5635 1234.5 Q29.5635 1230.01 27.24 1227.56 Q24.9165 1225.11 20.6197 1225.11 Q16.3547 1225.11 14.0312 1227.56 Q11.7077 1230.01 11.7077 1234.5 L11.7077 1242.58 M6.42416 1249.01 L6.42416 1234.5 Q6.42416 1226.51 10.0526 1222.43 Q13.6492 1218.33 20.6197 1218.33 Q27.6538 1218.33 31.2504 1222.43 Q34.847 1226.51 34.847 1234.5 L34.847 1242.58 L53.9442 1242.58 L53.9442 1249.01 L6.42416 1249.01 Z\" fill=\"#000000\" fill-rule=\"evenodd\" fill-opacity=\"1\" /><path clip-path=\"url(#clip280)\" d=\"M23.7707 1190.45 Q23.1978 1191.43 22.9432 1192.61 Q22.6567 1193.76 22.6567 1195.16 Q22.6567 1200.12 25.9032 1202.8 Q29.1179 1205.44 35.1653 1205.44 L53.9442 1205.44 L53.9442 1211.33 L18.2962 1211.33 L18.2962 1205.44 L23.8344 1205.44 Q20.5879 1203.59 19.0283 1200.63 Q17.4368 1197.67 17.4368 1193.44 Q17.4368 1192.83 17.5323 1192.1 Q17.596 1191.37 17.7551 1190.48 L23.7707 1190.45 Z\" fill=\"#000000\" fill-rule=\"evenodd\" fill-opacity=\"1\" /><path clip-path=\"url(#clip280)\" d=\"M22.4021 1171.92 Q22.4021 1176.63 26.0942 1179.37 Q29.7545 1182.11 36.152 1182.11 Q42.5495 1182.11 46.2417 1179.4 Q49.9019 1176.67 49.9019 1171.92 Q49.9019 1167.24 46.2098 1164.51 Q42.5177 1161.77 36.152 1161.77 Q29.8181 1161.77 26.126 1164.51 Q22.4021 1167.24 22.4021 1171.92 M17.4368 1171.92 Q17.4368 1164.28 22.4021 1159.92 Q27.3673 1155.56 36.152 1155.56 Q44.9049 1155.56 49.9019 1159.92 Q54.8672 1164.28 54.8672 1171.92 Q54.8672 1179.59 49.9019 1183.95 Q44.9049 1188.28 36.152 1188.28 Q27.3673 1188.28 22.4021 1183.95 Q17.4368 1179.59 17.4368 1171.92 Z\" fill=\"#000000\" fill-rule=\"evenodd\" fill-opacity=\"1\" /><path clip-path=\"url(#clip280)\" d=\"M4.41896 1127.81 L9.28873 1127.81 L9.28873 1133.41 Q9.28873 1136.56 10.5619 1137.8 Q11.835 1139.01 15.1452 1139.01 L18.2962 1139.01 L18.2962 1129.37 L22.8477 1129.37 L22.8477 1139.01 L53.9442 1139.01 L53.9442 1144.9 L22.8477 1144.9 L22.8477 1150.5 L18.2962 1150.5 L18.2962 1144.9 L15.8136 1144.9 Q9.86164 1144.9 7.15621 1142.13 Q4.41896 1139.36 4.41896 1133.35 L4.41896 1127.81 Z\" fill=\"#000000\" fill-rule=\"evenodd\" fill-opacity=\"1\" /><path clip-path=\"url(#clip280)\" d=\"M18.2962 1122.91 L18.2962 1117.05 L53.9442 1117.05 L53.9442 1122.91 L18.2962 1122.91 M4.41896 1122.91 L4.41896 1117.05 L11.835 1117.05 L11.835 1122.91 L4.41896 1122.91 Z\" fill=\"#000000\" fill-rule=\"evenodd\" fill-opacity=\"1\" /><path clip-path=\"url(#clip280)\" d=\"M8.17473 1099 L18.2962 1099 L18.2962 1086.94 L22.8477 1086.94 L22.8477 1099 L42.1994 1099 Q46.5599 1099 47.8013 1097.83 Q49.0426 1096.62 49.0426 1092.96 L49.0426 1086.94 L53.9442 1086.94 L53.9442 1092.96 Q53.9442 1099.74 51.4297 1102.31 Q48.8834 1104.89 42.1994 1104.89 L22.8477 1104.89 L22.8477 1109.19 L18.2962 1109.19 L18.2962 1104.89 L8.17473 1104.89 L8.17473 1099 Z\" fill=\"#000000\" fill-rule=\"evenodd\" fill-opacity=\"1\" /><path clip-path=\"url(#clip280)\" d=\"M667.181 16.7545 L667.181 25.383 Q663.049 21.5346 658.35 19.6307 Q653.692 17.7268 648.426 17.7268 Q638.055 17.7268 632.546 24.0867 Q627.037 30.4061 627.037 42.3968 Q627.037 54.3469 632.546 60.7069 Q638.055 67.0263 648.426 67.0263 Q653.692 67.0263 658.35 65.1223 Q663.049 63.2184 667.181 59.3701 L667.181 67.9175 Q662.887 70.8341 658.067 72.2924 Q653.287 73.7508 647.939 73.7508 Q634.207 73.7508 626.308 65.3654 Q618.408 56.9395 618.408 42.3968 Q618.408 27.8135 626.308 19.4281 Q634.207 11.0023 647.939 11.0023 Q653.368 11.0023 658.148 12.4606 Q662.968 13.8784 667.181 16.7545 Z\" fill=\"#000000\" fill-rule=\"evenodd\" fill-opacity=\"1\" /><path clip-path=\"url(#clip280)\" d=\"M717.21 45.1919 L717.21 72.576 L709.756 72.576 L709.756 45.4349 Q709.756 38.994 707.245 35.7938 Q704.733 32.5936 699.71 32.5936 Q693.674 32.5936 690.19 36.4419 Q686.707 40.2903 686.707 46.9338 L686.707 72.576 L679.212 72.576 L679.212 9.54393 L686.707 9.54393 L686.707 34.2544 Q689.38 30.163 692.986 28.1376 Q696.631 26.1121 701.371 26.1121 Q709.189 26.1121 713.2 30.9732 Q717.21 35.7938 717.21 45.1919 Z\" fill=\"#000000\" fill-rule=\"evenodd\" fill-opacity=\"1\" /><path clip-path=\"url(#clip280)\" d=\"M752.696 49.7694 Q743.662 49.7694 740.179 51.8354 Q736.695 53.9013 736.695 58.8839 Q736.695 62.8538 739.287 65.2034 Q741.92 67.5124 746.417 67.5124 Q752.615 67.5124 756.342 63.1374 Q760.109 58.7219 760.109 51.4303 L760.109 49.7694 L752.696 49.7694 M767.563 46.6907 L767.563 72.576 L760.109 72.576 L760.109 65.6895 Q757.557 69.8214 753.749 71.8063 Q749.941 73.7508 744.432 73.7508 Q737.464 73.7508 733.333 69.8619 Q729.241 65.9325 729.241 59.3701 Q729.241 51.7138 734.345 47.825 Q739.49 43.9361 749.658 43.9361 L760.109 43.9361 L760.109 43.2069 Q760.109 38.0623 756.706 35.2672 Q753.344 32.4315 747.227 32.4315 Q743.338 32.4315 739.652 33.3632 Q735.966 34.295 732.563 36.1584 L732.563 29.2718 Q736.654 27.692 740.503 26.9223 Q744.351 26.1121 747.997 26.1121 Q757.84 26.1121 762.702 31.2163 Q767.563 36.3204 767.563 46.6907 Z\" fill=\"#000000\" fill-rule=\"evenodd\" fill-opacity=\"1\" /><path clip-path=\"url(#clip280)\" d=\"M809.206 34.1734 Q807.95 33.4443 806.451 33.1202 Q804.993 32.7556 803.211 32.7556 Q796.891 32.7556 793.488 36.8875 Q790.126 40.9789 790.126 48.6757 L790.126 72.576 L782.632 72.576 L782.632 27.2059 L790.126 27.2059 L790.126 34.2544 Q792.476 30.1225 796.243 28.1376 Q800.01 26.1121 805.398 26.1121 Q806.168 26.1121 807.099 26.2337 Q808.031 26.3147 809.165 26.5172 L809.206 34.1734 Z\" fill=\"#000000\" fill-rule=\"evenodd\" fill-opacity=\"1\" /><path clip-path=\"url(#clip280)\" d=\"M824.397 14.324 L824.397 27.2059 L839.75 27.2059 L839.75 32.9987 L824.397 32.9987 L824.397 57.6282 Q824.397 63.1779 825.896 64.7578 Q827.435 66.3376 832.094 66.3376 L839.75 66.3376 L839.75 72.576 L832.094 72.576 Q823.465 72.576 820.184 69.3758 Q816.903 66.1351 816.903 57.6282 L816.903 32.9987 L811.434 32.9987 L811.434 27.2059 L816.903 27.2059 L816.903 14.324 L824.397 14.324 Z\" fill=\"#000000\" fill-rule=\"evenodd\" fill-opacity=\"1\" /><path clip-path=\"url(#clip280)\" d=\"M893.505 32.4315 Q887.51 32.4315 884.026 37.1306 Q880.542 41.7891 880.542 49.9314 Q880.542 58.0738 883.986 62.7728 Q887.469 67.4314 893.505 67.4314 Q899.46 67.4314 902.944 62.7323 Q906.428 58.0333 906.428 49.9314 Q906.428 41.8701 902.944 37.1711 Q899.46 32.4315 893.505 32.4315 M893.505 26.1121 Q903.227 26.1121 908.777 32.4315 Q914.327 38.7509 914.327 49.9314 Q914.327 61.0714 908.777 67.4314 Q903.227 73.7508 893.505 73.7508 Q883.743 73.7508 878.193 67.4314 Q872.684 61.0714 872.684 49.9314 Q872.684 38.7509 878.193 32.4315 Q883.743 26.1121 893.505 26.1121 Z\" fill=\"#000000\" fill-rule=\"evenodd\" fill-opacity=\"1\" /><path clip-path=\"url(#clip280)\" d=\"M949.651 9.54393 L949.651 15.7418 L942.521 15.7418 Q938.511 15.7418 936.931 17.3622 Q935.392 18.9825 935.392 23.1955 L935.392 27.2059 L947.666 27.2059 L947.666 32.9987 L935.392 32.9987 L935.392 72.576 L927.897 72.576 L927.897 32.9987 L920.768 32.9987 L920.768 27.2059 L927.897 27.2059 L927.897 24.0462 Q927.897 16.471 931.422 13.0277 Q934.946 9.54393 942.602 9.54393 L949.651 9.54393 Z\" fill=\"#000000\" fill-rule=\"evenodd\" fill-opacity=\"1\" /><path clip-path=\"url(#clip280)\" d=\"M989.471 65.7705 L989.471 89.8329 L981.977 89.8329 L981.977 27.2059 L989.471 27.2059 L989.471 34.0924 Q991.821 30.0415 995.386 28.0971 Q998.991 26.1121 1003.97 26.1121 Q1012.24 26.1121 1017.38 32.6746 Q1022.57 39.2371 1022.57 49.9314 Q1022.57 60.6258 1017.38 67.1883 Q1012.24 73.7508 1003.97 73.7508 Q998.991 73.7508 995.386 71.8063 Q991.821 69.8214 989.471 65.7705 M1014.83 49.9314 Q1014.83 41.7081 1011.43 37.0496 Q1008.06 32.3505 1002.15 32.3505 Q996.236 32.3505 992.833 37.0496 Q989.471 41.7081 989.471 49.9314 Q989.471 58.1548 992.833 62.8538 Q996.236 67.5124 1002.15 67.5124 Q1008.06 67.5124 1011.43 62.8538 Q1014.83 58.1548 1014.83 49.9314 Z\" fill=\"#000000\" fill-rule=\"evenodd\" fill-opacity=\"1\" /><path clip-path=\"url(#clip280)\" d=\"M1061.21 34.1734 Q1059.96 33.4443 1058.46 33.1202 Q1057 32.7556 1055.22 32.7556 Q1048.9 32.7556 1045.5 36.8875 Q1042.13 40.9789 1042.13 48.6757 L1042.13 72.576 L1034.64 72.576 L1034.64 27.2059 L1042.13 27.2059 L1042.13 34.2544 Q1044.48 30.1225 1048.25 28.1376 Q1052.02 26.1121 1057.4 26.1121 Q1058.17 26.1121 1059.11 26.2337 Q1060.04 26.3147 1061.17 26.5172 L1061.21 34.1734 Z\" fill=\"#000000\" fill-rule=\"evenodd\" fill-opacity=\"1\" /><path clip-path=\"url(#clip280)\" d=\"M1084.79 32.4315 Q1078.79 32.4315 1075.31 37.1306 Q1071.83 41.7891 1071.83 49.9314 Q1071.83 58.0738 1075.27 62.7728 Q1078.75 67.4314 1084.79 67.4314 Q1090.74 67.4314 1094.23 62.7323 Q1097.71 58.0333 1097.71 49.9314 Q1097.71 41.8701 1094.23 37.1711 Q1090.74 32.4315 1084.79 32.4315 M1084.79 26.1121 Q1094.51 26.1121 1100.06 32.4315 Q1105.61 38.7509 1105.61 49.9314 Q1105.61 61.0714 1100.06 67.4314 Q1094.51 73.7508 1084.79 73.7508 Q1075.03 73.7508 1069.48 67.4314 Q1063.97 61.0714 1063.97 49.9314 Q1063.97 38.7509 1069.48 32.4315 Q1075.03 26.1121 1084.79 26.1121 Z\" fill=\"#000000\" fill-rule=\"evenodd\" fill-opacity=\"1\" /><path clip-path=\"url(#clip280)\" d=\"M1140.93 9.54393 L1140.93 15.7418 L1133.8 15.7418 Q1129.79 15.7418 1128.21 17.3622 Q1126.68 18.9825 1126.68 23.1955 L1126.68 27.2059 L1138.95 27.2059 L1138.95 32.9987 L1126.68 32.9987 L1126.68 72.576 L1119.18 72.576 L1119.18 32.9987 L1112.05 32.9987 L1112.05 27.2059 L1119.18 27.2059 L1119.18 24.0462 Q1119.18 16.471 1122.71 13.0277 Q1126.23 9.54393 1133.89 9.54393 L1140.93 9.54393 Z\" fill=\"#000000\" fill-rule=\"evenodd\" fill-opacity=\"1\" /><path clip-path=\"url(#clip280)\" d=\"M1147.17 27.2059 L1154.63 27.2059 L1154.63 72.576 L1147.17 72.576 L1147.17 27.2059 M1147.17 9.54393 L1154.63 9.54393 L1154.63 18.9825 L1147.17 18.9825 L1147.17 9.54393 Z\" fill=\"#000000\" fill-rule=\"evenodd\" fill-opacity=\"1\" /><path clip-path=\"url(#clip280)\" d=\"M1177.6 14.324 L1177.6 27.2059 L1192.95 27.2059 L1192.95 32.9987 L1177.6 32.9987 L1177.6 57.6282 Q1177.6 63.1779 1179.09 64.7578 Q1180.63 66.3376 1185.29 66.3376 L1192.95 66.3376 L1192.95 72.576 L1185.29 72.576 Q1176.66 72.576 1173.38 69.3758 Q1170.1 66.1351 1170.1 57.6282 L1170.1 32.9987 L1164.63 32.9987 L1164.63 27.2059 L1170.1 27.2059 L1170.1 14.324 L1177.6 14.324 Z\" fill=\"#000000\" fill-rule=\"evenodd\" fill-opacity=\"1\" /><path clip-path=\"url(#clip280)\" d=\"M1223.78 27.2059 L1231.67 27.2059 L1245.85 65.2844 L1260.03 27.2059 L1267.93 27.2059 L1250.92 72.576 L1240.79 72.576 L1223.78 27.2059 Z\" fill=\"#000000\" fill-rule=\"evenodd\" fill-opacity=\"1\" /><path clip-path=\"url(#clip280)\" d=\"M1298.84 49.7694 Q1289.81 49.7694 1286.32 51.8354 Q1282.84 53.9013 1282.84 58.8839 Q1282.84 62.8538 1285.43 65.2034 Q1288.06 67.5124 1292.56 67.5124 Q1298.76 67.5124 1302.48 63.1374 Q1306.25 58.7219 1306.25 51.4303 L1306.25 49.7694 L1298.84 49.7694 M1313.71 46.6907 L1313.71 72.576 L1306.25 72.576 L1306.25 65.6895 Q1303.7 69.8214 1299.89 71.8063 Q1296.08 73.7508 1290.57 73.7508 Q1283.61 73.7508 1279.48 69.8619 Q1275.38 65.9325 1275.38 59.3701 Q1275.38 51.7138 1280.49 47.825 Q1285.63 43.9361 1295.8 43.9361 L1306.25 43.9361 L1306.25 43.2069 Q1306.25 38.0623 1302.85 35.2672 Q1299.49 32.4315 1293.37 32.4315 Q1289.48 32.4315 1285.79 33.3632 Q1282.11 34.295 1278.71 36.1584 L1278.71 29.2718 Q1282.8 27.692 1286.65 26.9223 Q1290.49 26.1121 1294.14 26.1121 Q1303.98 26.1121 1308.84 31.2163 Q1313.71 36.3204 1313.71 46.6907 Z\" fill=\"#000000\" fill-rule=\"evenodd\" fill-opacity=\"1\" /><path clip-path=\"url(#clip280)\" d=\"M1355.35 34.1734 Q1354.09 33.4443 1352.59 33.1202 Q1351.14 32.7556 1349.35 32.7556 Q1343.03 32.7556 1339.63 36.8875 Q1336.27 40.9789 1336.27 48.6757 L1336.27 72.576 L1328.77 72.576 L1328.77 27.2059 L1336.27 27.2059 L1336.27 34.2544 Q1338.62 30.1225 1342.39 28.1376 Q1346.15 26.1121 1351.54 26.1121 Q1352.31 26.1121 1353.24 26.2337 Q1354.17 26.3147 1355.31 26.5172 L1355.35 34.1734 Z\" fill=\"#000000\" fill-rule=\"evenodd\" fill-opacity=\"1\" /><path clip-path=\"url(#clip280)\" d=\"M1363.17 27.2059 L1370.62 27.2059 L1370.62 72.576 L1363.17 72.576 L1363.17 27.2059 M1363.17 9.54393 L1370.62 9.54393 L1370.62 18.9825 L1363.17 18.9825 L1363.17 9.54393 Z\" fill=\"#000000\" fill-rule=\"evenodd\" fill-opacity=\"1\" /><path clip-path=\"url(#clip280)\" d=\"M1406.84 49.7694 Q1397.8 49.7694 1394.32 51.8354 Q1390.83 53.9013 1390.83 58.8839 Q1390.83 62.8538 1393.43 65.2034 Q1396.06 67.5124 1400.56 67.5124 Q1406.75 67.5124 1410.48 63.1374 Q1414.25 58.7219 1414.25 51.4303 L1414.25 49.7694 L1406.84 49.7694 M1421.7 46.6907 L1421.7 72.576 L1414.25 72.576 L1414.25 65.6895 Q1411.7 69.8214 1407.89 71.8063 Q1404.08 73.7508 1398.57 73.7508 Q1391.6 73.7508 1387.47 69.8619 Q1383.38 65.9325 1383.38 59.3701 Q1383.38 51.7138 1388.49 47.825 Q1393.63 43.9361 1403.8 43.9361 L1414.25 43.9361 L1414.25 43.2069 Q1414.25 38.0623 1410.85 35.2672 Q1407.48 32.4315 1401.37 32.4315 Q1397.48 32.4315 1393.79 33.3632 Q1390.11 34.295 1386.7 36.1584 L1386.7 29.2718 Q1390.79 27.692 1394.64 26.9223 Q1398.49 26.1121 1402.14 26.1121 Q1411.98 26.1121 1416.84 31.2163 Q1421.7 36.3204 1421.7 46.6907 Z\" fill=\"#000000\" fill-rule=\"evenodd\" fill-opacity=\"1\" /><path clip-path=\"url(#clip280)\" d=\"M1444.43 14.324 L1444.43 27.2059 L1459.78 27.2059 L1459.78 32.9987 L1444.43 32.9987 L1444.43 57.6282 Q1444.43 63.1779 1445.93 64.7578 Q1447.47 66.3376 1452.12 66.3376 L1459.78 66.3376 L1459.78 72.576 L1452.12 72.576 Q1443.5 72.576 1440.22 69.3758 Q1436.93 66.1351 1436.93 57.6282 L1436.93 32.9987 L1431.47 32.9987 L1431.47 27.2059 L1436.93 27.2059 L1436.93 14.324 L1444.43 14.324 Z\" fill=\"#000000\" fill-rule=\"evenodd\" fill-opacity=\"1\" /><path clip-path=\"url(#clip280)\" d=\"M1469.58 27.2059 L1477.04 27.2059 L1477.04 72.576 L1469.58 72.576 L1469.58 27.2059 M1469.58 9.54393 L1477.04 9.54393 L1477.04 18.9825 L1469.58 18.9825 L1469.58 9.54393 Z\" fill=\"#000000\" fill-rule=\"evenodd\" fill-opacity=\"1\" /><path clip-path=\"url(#clip280)\" d=\"M1510.21 32.4315 Q1504.22 32.4315 1500.74 37.1306 Q1497.25 41.7891 1497.25 49.9314 Q1497.25 58.0738 1500.7 62.7728 Q1504.18 67.4314 1510.21 67.4314 Q1516.17 67.4314 1519.65 62.7323 Q1523.14 58.0333 1523.14 49.9314 Q1523.14 41.8701 1519.65 37.1711 Q1516.17 32.4315 1510.21 32.4315 M1510.21 26.1121 Q1519.94 26.1121 1525.49 32.4315 Q1531.04 38.7509 1531.04 49.9314 Q1531.04 61.0714 1525.49 67.4314 Q1519.94 73.7508 1510.21 73.7508 Q1500.45 73.7508 1494.9 67.4314 Q1489.39 61.0714 1489.39 49.9314 Q1489.39 38.7509 1494.9 32.4315 Q1500.45 26.1121 1510.21 26.1121 Z\" fill=\"#000000\" fill-rule=\"evenodd\" fill-opacity=\"1\" /><path clip-path=\"url(#clip280)\" d=\"M1581.11 45.1919 L1581.11 72.576 L1573.65 72.576 L1573.65 45.4349 Q1573.65 38.994 1571.14 35.7938 Q1568.63 32.5936 1563.61 32.5936 Q1557.57 32.5936 1554.09 36.4419 Q1550.6 40.2903 1550.6 46.9338 L1550.6 72.576 L1543.11 72.576 L1543.11 27.2059 L1550.6 27.2059 L1550.6 34.2544 Q1553.28 30.163 1556.88 28.1376 Q1560.53 26.1121 1565.27 26.1121 Q1573.08 26.1121 1577.1 30.9732 Q1581.11 35.7938 1581.11 45.1919 Z\" fill=\"#000000\" fill-rule=\"evenodd\" fill-opacity=\"1\" /><path clip-path=\"url(#clip280)\" d=\"M1642.96 49.7694 Q1633.93 49.7694 1630.45 51.8354 Q1626.96 53.9013 1626.96 58.8839 Q1626.96 62.8538 1629.55 65.2034 Q1632.19 67.5124 1636.68 67.5124 Q1642.88 67.5124 1646.61 63.1374 Q1650.38 58.7219 1650.38 51.4303 L1650.38 49.7694 L1642.96 49.7694 M1657.83 46.6907 L1657.83 72.576 L1650.38 72.576 L1650.38 65.6895 Q1647.82 69.8214 1644.02 71.8063 Q1640.21 73.7508 1634.7 73.7508 Q1627.73 73.7508 1623.6 69.8619 Q1619.51 65.9325 1619.51 59.3701 Q1619.51 51.7138 1624.61 47.825 Q1629.76 43.9361 1639.92 43.9361 L1650.38 43.9361 L1650.38 43.2069 Q1650.38 38.0623 1646.97 35.2672 Q1643.61 32.4315 1637.49 32.4315 Q1633.61 32.4315 1629.92 33.3632 Q1626.23 34.295 1622.83 36.1584 L1622.83 29.2718 Q1626.92 27.692 1630.77 26.9223 Q1634.62 26.1121 1638.26 26.1121 Q1648.11 26.1121 1652.97 31.2163 Q1657.83 36.3204 1657.83 46.6907 Z\" fill=\"#000000\" fill-rule=\"evenodd\" fill-opacity=\"1\" /><path clip-path=\"url(#clip280)\" d=\"M1705.83 28.9478 L1705.83 35.9153 Q1702.67 34.1734 1699.47 33.3227 Q1696.31 32.4315 1693.07 32.4315 Q1685.82 32.4315 1681.81 37.0496 Q1677.8 41.6271 1677.8 49.9314 Q1677.8 58.2358 1681.81 62.8538 Q1685.82 67.4314 1693.07 67.4314 Q1696.31 67.4314 1699.47 66.5807 Q1702.67 65.6895 1705.83 63.9476 L1705.83 70.8341 Q1702.71 72.2924 1699.35 73.0216 Q1696.03 73.7508 1692.26 73.7508 Q1682.01 73.7508 1675.98 67.3098 Q1669.94 60.8689 1669.94 49.9314 Q1669.94 38.832 1676.02 32.472 Q1682.14 26.1121 1692.75 26.1121 Q1696.19 26.1121 1699.47 26.8413 Q1702.75 27.5299 1705.83 28.9478 Z\" fill=\"#000000\" fill-rule=\"evenodd\" fill-opacity=\"1\" /><path clip-path=\"url(#clip280)\" d=\"M1751.45 28.9478 L1751.45 35.9153 Q1748.29 34.1734 1745.09 33.3227 Q1741.93 32.4315 1738.69 32.4315 Q1731.43 32.4315 1727.42 37.0496 Q1723.41 41.6271 1723.41 49.9314 Q1723.41 58.2358 1727.42 62.8538 Q1731.43 67.4314 1738.69 67.4314 Q1741.93 67.4314 1745.09 66.5807 Q1748.29 65.6895 1751.45 63.9476 L1751.45 70.8341 Q1748.33 72.2924 1744.96 73.0216 Q1741.64 73.7508 1737.88 73.7508 Q1727.63 73.7508 1721.59 67.3098 Q1715.56 60.8689 1715.56 49.9314 Q1715.56 38.832 1721.63 32.472 Q1727.75 26.1121 1738.36 26.1121 Q1741.81 26.1121 1745.09 26.8413 Q1748.37 27.5299 1751.45 28.9478 Z\" fill=\"#000000\" fill-rule=\"evenodd\" fill-opacity=\"1\" /><path clip-path=\"url(#clip280)\" d=\"M1781.99 32.4315 Q1775.99 32.4315 1772.51 37.1306 Q1769.03 41.7891 1769.03 49.9314 Q1769.03 58.0738 1772.47 62.7728 Q1775.95 67.4314 1781.99 67.4314 Q1787.94 67.4314 1791.43 62.7323 Q1794.91 58.0333 1794.91 49.9314 Q1794.91 41.8701 1791.43 37.1711 Q1787.94 32.4315 1781.99 32.4315 M1781.99 26.1121 Q1791.71 26.1121 1797.26 32.4315 Q1802.81 38.7509 1802.81 49.9314 Q1802.81 61.0714 1797.26 67.4314 Q1791.71 73.7508 1781.99 73.7508 Q1772.23 73.7508 1766.68 67.4314 Q1761.17 61.0714 1761.17 49.9314 Q1761.17 38.7509 1766.68 32.4315 Q1772.23 26.1121 1781.99 26.1121 Z\" fill=\"#000000\" fill-rule=\"evenodd\" fill-opacity=\"1\" /><path clip-path=\"url(#clip280)\" d=\"M1841.46 34.1734 Q1840.2 33.4443 1838.7 33.1202 Q1837.24 32.7556 1835.46 32.7556 Q1829.14 32.7556 1825.74 36.8875 Q1822.38 40.9789 1822.38 48.6757 L1822.38 72.576 L1814.88 72.576 L1814.88 27.2059 L1822.38 27.2059 L1822.38 34.2544 Q1824.73 30.1225 1828.49 28.1376 Q1832.26 26.1121 1837.65 26.1121 Q1838.42 26.1121 1839.35 26.2337 Q1840.28 26.3147 1841.42 26.5172 L1841.46 34.1734 Z\" fill=\"#000000\" fill-rule=\"evenodd\" fill-opacity=\"1\" /><path clip-path=\"url(#clip280)\" d=\"M1877.67 34.0924 L1877.67 9.54393 L1885.13 9.54393 L1885.13 72.576 L1877.67 72.576 L1877.67 65.7705 Q1875.32 69.8214 1871.72 71.8063 Q1868.15 73.7508 1863.13 73.7508 Q1854.91 73.7508 1849.72 67.1883 Q1844.58 60.6258 1844.58 49.9314 Q1844.58 39.2371 1849.72 32.6746 Q1854.91 26.1121 1863.13 26.1121 Q1868.15 26.1121 1871.72 28.0971 Q1875.32 30.0415 1877.67 34.0924 M1852.27 49.9314 Q1852.27 58.1548 1855.64 62.8538 Q1859.04 67.5124 1864.95 67.5124 Q1870.87 67.5124 1874.27 62.8538 Q1877.67 58.1548 1877.67 49.9314 Q1877.67 41.7081 1874.27 37.0496 Q1870.87 32.3505 1864.95 32.3505 Q1859.04 32.3505 1855.64 37.0496 Q1852.27 41.7081 1852.27 49.9314 Z\" fill=\"#000000\" fill-rule=\"evenodd\" fill-opacity=\"1\" /><path clip-path=\"url(#clip280)\" d=\"M1900.48 27.2059 L1907.93 27.2059 L1907.93 72.576 L1900.48 72.576 L1900.48 27.2059 M1900.48 9.54393 L1907.93 9.54393 L1907.93 18.9825 L1900.48 18.9825 L1900.48 9.54393 Z\" fill=\"#000000\" fill-rule=\"evenodd\" fill-opacity=\"1\" /><path clip-path=\"url(#clip280)\" d=\"M1961.24 45.1919 L1961.24 72.576 L1953.79 72.576 L1953.79 45.4349 Q1953.79 38.994 1951.28 35.7938 Q1948.77 32.5936 1943.74 32.5936 Q1937.71 32.5936 1934.22 36.4419 Q1930.74 40.2903 1930.74 46.9338 L1930.74 72.576 L1923.25 72.576 L1923.25 27.2059 L1930.74 27.2059 L1930.74 34.2544 Q1933.41 30.163 1937.02 28.1376 Q1940.66 26.1121 1945.4 26.1121 Q1953.22 26.1121 1957.23 30.9732 Q1961.24 35.7938 1961.24 45.1919 Z\" fill=\"#000000\" fill-rule=\"evenodd\" fill-opacity=\"1\" /><path clip-path=\"url(#clip280)\" d=\"M2005.96 49.3643 Q2005.96 41.2625 2002.6 36.8065 Q1999.28 32.3505 1993.24 32.3505 Q1987.25 32.3505 1983.89 36.8065 Q1980.57 41.2625 1980.57 49.3643 Q1980.57 57.4256 1983.89 61.8816 Q1987.25 66.3376 1993.24 66.3376 Q1999.28 66.3376 2002.6 61.8816 Q2005.96 57.4256 2005.96 49.3643 M2013.42 66.9452 Q2013.42 78.5308 2008.27 84.1616 Q2003.13 89.8329 1992.52 89.8329 Q1988.59 89.8329 1985.1 89.2252 Q1981.62 88.6581 1978.34 87.4428 L1978.34 80.1917 Q1981.62 81.9741 1984.82 82.8248 Q1988.02 83.6755 1991.34 83.6755 Q1998.67 83.6755 2002.32 79.8271 Q2005.96 76.0193 2005.96 68.282 L2005.96 64.5957 Q2003.66 68.6061 2000.05 70.5911 Q1996.44 72.576 1991.42 72.576 Q1983.08 72.576 1977.97 66.2161 Q1972.87 59.8562 1972.87 49.3643 Q1972.87 38.832 1977.97 32.472 Q1983.08 26.1121 1991.42 26.1121 Q1996.44 26.1121 2000.05 28.0971 Q2003.66 30.082 2005.96 34.0924 L2005.96 27.2059 L2013.42 27.2059 L2013.42 66.9452 Z\" fill=\"#000000\" fill-rule=\"evenodd\" fill-opacity=\"1\" /><path clip-path=\"url(#clip280)\" d=\"M2062.52 14.324 L2062.52 27.2059 L2077.87 27.2059 L2077.87 32.9987 L2062.52 32.9987 L2062.52 57.6282 Q2062.52 63.1779 2064.01 64.7578 Q2065.55 66.3376 2070.21 66.3376 L2077.87 66.3376 L2077.87 72.576 L2070.21 72.576 Q2061.58 72.576 2058.3 69.3758 Q2055.02 66.1351 2055.02 57.6282 L2055.02 32.9987 L2049.55 32.9987 L2049.55 27.2059 L2055.02 27.2059 L2055.02 14.324 L2062.52 14.324 Z\" fill=\"#000000\" fill-rule=\"evenodd\" fill-opacity=\"1\" /><path clip-path=\"url(#clip280)\" d=\"M2105.25 32.4315 Q2099.26 32.4315 2095.77 37.1306 Q2092.29 41.7891 2092.29 49.9314 Q2092.29 58.0738 2095.73 62.7728 Q2099.22 67.4314 2105.25 67.4314 Q2111.21 67.4314 2114.69 62.7323 Q2118.17 58.0333 2118.17 49.9314 Q2118.17 41.8701 2114.69 37.1711 Q2111.21 32.4315 2105.25 32.4315 M2105.25 26.1121 Q2114.97 26.1121 2120.52 32.4315 Q2126.07 38.7509 2126.07 49.9314 Q2126.07 61.0714 2120.52 67.4314 Q2114.97 73.7508 2105.25 73.7508 Q2095.49 73.7508 2089.94 67.4314 Q2084.43 61.0714 2084.43 49.9314 Q2084.43 38.7509 2089.94 32.4315 Q2095.49 26.1121 2105.25 26.1121 Z\" fill=\"#000000\" fill-rule=\"evenodd\" fill-opacity=\"1\" /><path clip-path=\"url(#clip280)\" d=\"M2172.01 65.7705 L2172.01 89.8329 L2164.52 89.8329 L2164.52 27.2059 L2172.01 27.2059 L2172.01 34.0924 Q2174.36 30.0415 2177.93 28.0971 Q2181.53 26.1121 2186.51 26.1121 Q2194.78 26.1121 2199.92 32.6746 Q2205.11 39.2371 2205.11 49.9314 Q2205.11 60.6258 2199.92 67.1883 Q2194.78 73.7508 2186.51 73.7508 Q2181.53 73.7508 2177.93 71.8063 Q2174.36 69.8214 2172.01 65.7705 M2197.37 49.9314 Q2197.37 41.7081 2193.97 37.0496 Q2190.6 32.3505 2184.69 32.3505 Q2178.78 32.3505 2175.37 37.0496 Q2172.01 41.7081 2172.01 49.9314 Q2172.01 58.1548 2175.37 62.8538 Q2178.78 67.5124 2184.69 67.5124 Q2190.6 67.5124 2193.97 62.8538 Q2197.37 58.1548 2197.37 49.9314 Z\" fill=\"#000000\" fill-rule=\"evenodd\" fill-opacity=\"1\" /><path clip-path=\"url(#clip280)\" d=\"M2238.08 49.7694 Q2229.05 49.7694 2225.56 51.8354 Q2222.08 53.9013 2222.08 58.8839 Q2222.08 62.8538 2224.67 65.2034 Q2227.31 67.5124 2231.8 67.5124 Q2238 67.5124 2241.73 63.1374 Q2245.49 58.7219 2245.49 51.4303 L2245.49 49.7694 L2238.08 49.7694 M2252.95 46.6907 L2252.95 72.576 L2245.49 72.576 L2245.49 65.6895 Q2242.94 69.8214 2239.13 71.8063 Q2235.33 73.7508 2229.82 73.7508 Q2222.85 73.7508 2218.72 69.8619 Q2214.63 65.9325 2214.63 59.3701 Q2214.63 51.7138 2219.73 47.825 Q2224.88 43.9361 2235.04 43.9361 L2245.49 43.9361 L2245.49 43.2069 Q2245.49 38.0623 2242.09 35.2672 Q2238.73 32.4315 2232.61 32.4315 Q2228.72 32.4315 2225.04 33.3632 Q2221.35 34.295 2217.95 36.1584 L2217.95 29.2718 Q2222.04 27.692 2225.89 26.9223 Q2229.74 26.1121 2233.38 26.1121 Q2243.23 26.1121 2248.09 31.2163 Q2252.95 36.3204 2252.95 46.6907 Z\" fill=\"#000000\" fill-rule=\"evenodd\" fill-opacity=\"1\" /><path clip-path=\"url(#clip280)\" d=\"M2294.59 34.1734 Q2293.34 33.4443 2291.84 33.1202 Q2290.38 32.7556 2288.6 32.7556 Q2282.28 32.7556 2278.87 36.8875 Q2275.51 40.9789 2275.51 48.6757 L2275.51 72.576 L2268.02 72.576 L2268.02 27.2059 L2275.51 27.2059 L2275.51 34.2544 Q2277.86 30.1225 2281.63 28.1376 Q2285.4 26.1121 2290.78 26.1121 Q2291.55 26.1121 2292.49 26.2337 Q2293.42 26.3147 2294.55 26.5172 L2294.59 34.1734 Z\" fill=\"#000000\" fill-rule=\"evenodd\" fill-opacity=\"1\" /><path clip-path=\"url(#clip280)\" d=\"M2323.03 49.7694 Q2314 49.7694 2310.51 51.8354 Q2307.03 53.9013 2307.03 58.8839 Q2307.03 62.8538 2309.62 65.2034 Q2312.25 67.5124 2316.75 67.5124 Q2322.95 67.5124 2326.67 63.1374 Q2330.44 58.7219 2330.44 51.4303 L2330.44 49.7694 L2323.03 49.7694 M2337.9 46.6907 L2337.9 72.576 L2330.44 72.576 L2330.44 65.6895 Q2327.89 69.8214 2324.08 71.8063 Q2320.27 73.7508 2314.77 73.7508 Q2307.8 73.7508 2303.67 69.8619 Q2299.57 65.9325 2299.57 59.3701 Q2299.57 51.7138 2304.68 47.825 Q2309.82 43.9361 2319.99 43.9361 L2330.44 43.9361 L2330.44 43.2069 Q2330.44 38.0623 2327.04 35.2672 Q2323.68 32.4315 2317.56 32.4315 Q2313.67 32.4315 2309.98 33.3632 Q2306.3 34.295 2302.9 36.1584 L2302.9 29.2718 Q2306.99 27.692 2310.84 26.9223 Q2314.68 26.1121 2318.33 26.1121 Q2328.17 26.1121 2333.03 31.2163 Q2337.9 36.3204 2337.9 46.6907 Z\" fill=\"#000000\" fill-rule=\"evenodd\" fill-opacity=\"1\" /><path clip-path=\"url(#clip280)\" d=\"M2388.57 35.9153 Q2391.37 30.8922 2395.26 28.5022 Q2399.15 26.1121 2404.41 26.1121 Q2411.5 26.1121 2415.35 31.0947 Q2419.2 36.0368 2419.2 45.1919 L2419.2 72.576 L2411.7 72.576 L2411.7 45.4349 Q2411.7 38.913 2409.39 35.7533 Q2407.09 32.5936 2402.35 32.5936 Q2396.55 32.5936 2393.19 36.4419 Q2389.83 40.2903 2389.83 46.9338 L2389.83 72.576 L2382.33 72.576 L2382.33 45.4349 Q2382.33 38.8725 2380.03 35.7533 Q2377.72 32.5936 2372.9 32.5936 Q2367.18 32.5936 2363.82 36.4824 Q2360.46 40.3308 2360.46 46.9338 L2360.46 72.576 L2352.97 72.576 L2352.97 27.2059 L2360.46 27.2059 L2360.46 34.2544 Q2363.01 30.082 2366.58 28.0971 Q2370.14 26.1121 2375.04 26.1121 Q2379.98 26.1121 2383.43 28.6237 Q2386.91 31.1352 2388.57 35.9153 Z\" fill=\"#000000\" fill-rule=\"evenodd\" fill-opacity=\"1\" /><path clip-path=\"url(#clip280)\" d=\"M2472.87 48.0275 L2472.87 51.6733 L2438.6 51.6733 Q2439.09 59.3701 2443.22 63.421 Q2447.39 67.4314 2454.8 67.4314 Q2459.1 67.4314 2463.11 66.3781 Q2467.16 65.3249 2471.13 63.2184 L2471.13 70.267 Q2467.12 71.9684 2462.91 72.8596 Q2458.69 73.7508 2454.36 73.7508 Q2443.5 73.7508 2437.14 67.4314 Q2430.82 61.1119 2430.82 50.3365 Q2430.82 39.1965 2436.82 32.6746 Q2442.85 26.1121 2453.06 26.1121 Q2462.22 26.1121 2467.52 32.0264 Q2472.87 37.9003 2472.87 48.0275 M2465.42 45.84 Q2465.34 39.7232 2461.97 36.0774 Q2458.65 32.4315 2453.14 32.4315 Q2446.91 32.4315 2443.14 35.9558 Q2439.41 39.4801 2438.84 45.8805 L2465.42 45.84 Z\" fill=\"#000000\" fill-rule=\"evenodd\" fill-opacity=\"1\" /><path clip-path=\"url(#clip280)\" d=\"M2492.48 14.324 L2492.48 27.2059 L2507.83 27.2059 L2507.83 32.9987 L2492.48 32.9987 L2492.48 57.6282 Q2492.48 63.1779 2493.98 64.7578 Q2495.52 66.3376 2500.17 66.3376 L2507.83 66.3376 L2507.83 72.576 L2500.17 72.576 Q2491.55 72.576 2488.27 69.3758 Q2484.98 66.1351 2484.98 57.6282 L2484.98 32.9987 L2479.52 32.9987 L2479.52 27.2059 L2484.98 27.2059 L2484.98 14.324 L2492.48 14.324 Z\" fill=\"#000000\" fill-rule=\"evenodd\" fill-opacity=\"1\" /><path clip-path=\"url(#clip280)\" d=\"M2556.44 48.0275 L2556.44 51.6733 L2522.17 51.6733 Q2522.66 59.3701 2526.79 63.421 Q2530.96 67.4314 2538.37 67.4314 Q2542.67 67.4314 2546.68 66.3781 Q2550.73 65.3249 2554.7 63.2184 L2554.7 70.267 Q2550.69 71.9684 2546.48 72.8596 Q2542.26 73.7508 2537.93 73.7508 Q2527.07 73.7508 2520.71 67.4314 Q2514.39 61.1119 2514.39 50.3365 Q2514.39 39.1965 2520.39 32.6746 Q2526.42 26.1121 2536.63 26.1121 Q2545.79 26.1121 2551.09 32.0264 Q2556.44 37.9003 2556.44 48.0275 M2548.99 45.84 Q2548.91 39.7232 2545.55 36.0774 Q2542.22 32.4315 2536.71 32.4315 Q2530.48 32.4315 2526.71 35.9558 Q2522.98 39.4801 2522.41 45.8805 L2548.99 45.84 Z\" fill=\"#000000\" fill-rule=\"evenodd\" fill-opacity=\"1\" /><path clip-path=\"url(#clip280)\" d=\"M2594.97 34.1734 Q2593.71 33.4443 2592.21 33.1202 Q2590.75 32.7556 2588.97 32.7556 Q2582.65 32.7556 2579.25 36.8875 Q2575.89 40.9789 2575.89 48.6757 L2575.89 72.576 L2568.39 72.576 L2568.39 27.2059 L2575.89 27.2059 L2575.89 34.2544 Q2578.24 30.1225 2582 28.1376 Q2585.77 26.1121 2591.16 26.1121 Q2591.93 26.1121 2592.86 26.2337 Q2593.79 26.3147 2594.93 26.5172 L2594.97 34.1734 Z\" fill=\"#000000\" fill-rule=\"evenodd\" fill-opacity=\"1\" /><path clip-path=\"url(#clip280)\" d=\"M2629.16 9.54393 L2636.61 9.54393 L2636.61 72.576 L2629.16 72.576 L2629.16 9.54393 Z\" fill=\"#000000\" fill-rule=\"evenodd\" fill-opacity=\"1\" /><path clip-path=\"url(#clip280)\" d=\"M2691.01 48.0275 L2691.01 51.6733 L2656.74 51.6733 Q2657.23 59.3701 2661.36 63.421 Q2665.53 67.4314 2672.95 67.4314 Q2677.24 67.4314 2681.25 66.3781 Q2685.3 65.3249 2689.27 63.2184 L2689.27 70.267 Q2685.26 71.9684 2681.05 72.8596 Q2676.83 73.7508 2672.5 73.7508 Q2661.64 73.7508 2655.28 67.4314 Q2648.96 61.1119 2648.96 50.3365 Q2648.96 39.1965 2654.96 32.6746 Q2661 26.1121 2671.2 26.1121 Q2680.36 26.1121 2685.67 32.0264 Q2691.01 37.9003 2691.01 48.0275 M2683.56 45.84 Q2683.48 39.7232 2680.12 36.0774 Q2676.79 32.4315 2671.29 32.4315 Q2665.05 32.4315 2661.28 35.9558 Q2657.55 39.4801 2656.99 45.8805 L2683.56 45.84 Z\" fill=\"#000000\" fill-rule=\"evenodd\" fill-opacity=\"1\" /><path clip-path=\"url(#clip280)\" d=\"M2697.9 27.2059 L2705.8 27.2059 L2719.98 65.2844 L2734.16 27.2059 L2742.05 27.2059 L2725.04 72.576 L2714.91 72.576 L2697.9 27.2059 Z\" fill=\"#000000\" fill-rule=\"evenodd\" fill-opacity=\"1\" /><path clip-path=\"url(#clip280)\" d=\"M2791.15 48.0275 L2791.15 51.6733 L2756.88 51.6733 Q2757.37 59.3701 2761.5 63.421 Q2765.67 67.4314 2773.08 67.4314 Q2777.38 67.4314 2781.39 66.3781 Q2785.44 65.3249 2789.41 63.2184 L2789.41 70.267 Q2785.4 71.9684 2781.19 72.8596 Q2776.97 73.7508 2772.64 73.7508 Q2761.78 73.7508 2755.42 67.4314 Q2749.1 61.1119 2749.1 50.3365 Q2749.1 39.1965 2755.1 32.6746 Q2761.13 26.1121 2771.34 26.1121 Q2780.5 26.1121 2785.8 32.0264 Q2791.15 37.9003 2791.15 48.0275 M2783.7 45.84 Q2783.62 39.7232 2780.25 36.0774 Q2776.93 32.4315 2771.42 32.4315 Q2765.19 32.4315 2761.42 35.9558 Q2757.69 39.4801 2757.12 45.8805 L2783.7 45.84 Z\" fill=\"#000000\" fill-rule=\"evenodd\" fill-opacity=\"1\" /><path clip-path=\"url(#clip280)\" d=\"M2803.39 9.54393 L2810.84 9.54393 L2810.84 72.576 L2803.39 72.576 L2803.39 9.54393 Z\" fill=\"#000000\" fill-rule=\"evenodd\" fill-opacity=\"1\" /><polyline clip-path=\"url(#clip282)\" style=\"stroke:#009af9; stroke-linecap:round; stroke-linejoin:round; stroke-width:4; stroke-opacity:1; fill:none\" points=\"357.895,189.727 538.792,207.472 719.689,255.53 1262.38,306.124 2166.87,390.25 3071.35,483.014 \"/>\n",
       "<polyline clip-path=\"url(#clip282)\" style=\"stroke:#e26f46; stroke-linecap:round; stroke-linejoin:round; stroke-width:4; stroke-opacity:1; fill:none\" points=\"357.895,2146.22 538.792,1567.63 719.689,1259.4 1262.38,709.123 2166.87,388.448 3071.35,201.653 \"/>\n",
       "<polyline clip-path=\"url(#clip282)\" style=\"stroke:#3da44d; stroke-linecap:round; stroke-linejoin:round; stroke-width:4; stroke-opacity:1; fill:none\" points=\"357.895,207.664 538.792,237.82 719.689,255.378 1262.38,370.396 2166.87,531.088 3071.35,692.192 \"/>\n",
       "<path clip-path=\"url(#clip280)\" d=\"M1688.63 2135.79 L3056.88 2135.79 L3056.88 1928.43 L1688.63 1928.43  Z\" fill=\"#ffffff\" fill-rule=\"evenodd\" fill-opacity=\"1\"/>\n",
       "<polyline clip-path=\"url(#clip280)\" style=\"stroke:#000000; stroke-linecap:round; stroke-linejoin:round; stroke-width:4; stroke-opacity:1; fill:none\" points=\"1688.63,2135.79 3056.88,2135.79 3056.88,1928.43 1688.63,1928.43 1688.63,2135.79 \"/>\n",
       "<polyline clip-path=\"url(#clip280)\" style=\"stroke:#009af9; stroke-linecap:round; stroke-linejoin:round; stroke-width:4; stroke-opacity:1; fill:none\" points=\"1720.59,1980.27 1912.34,1980.27 \"/>\n",
       "<path clip-path=\"url(#clip280)\" d=\"M1972.17 1965.65 L1972.17 1970.58 Q1969.81 1968.38 1967.13 1967.3 Q1964.46 1966.21 1961.46 1966.21 Q1955.53 1966.21 1952.38 1969.84 Q1949.23 1973.45 1949.23 1980.3 Q1949.23 1987.13 1952.38 1990.77 Q1955.53 1994.38 1961.46 1994.38 Q1964.46 1994.38 1967.13 1993.29 Q1969.81 1992.2 1972.17 1990 L1972.17 1994.89 Q1969.72 1996.55 1966.96 1997.39 Q1964.23 1998.22 1961.18 1998.22 Q1953.33 1998.22 1948.82 1993.43 Q1944.3 1988.62 1944.3 1980.3 Q1944.3 1971.97 1948.82 1967.18 Q1953.33 1962.37 1961.18 1962.37 Q1964.28 1962.37 1967.01 1963.2 Q1969.77 1964.01 1972.17 1965.65 Z\" fill=\"#000000\" fill-rule=\"evenodd\" fill-opacity=\"1\" /><path clip-path=\"url(#clip280)\" d=\"M2000.76 1981.9 L2000.76 1997.55 L1996.5 1997.55 L1996.5 1982.04 Q1996.5 1978.36 1995.07 1976.53 Q1993.63 1974.7 1990.76 1974.7 Q1987.31 1974.7 1985.32 1976.9 Q1983.33 1979.1 1983.33 1982.9 L1983.33 1997.55 L1979.05 1997.55 L1979.05 1961.53 L1983.33 1961.53 L1983.33 1975.65 Q1984.86 1973.31 1986.92 1972.16 Q1989 1971 1991.71 1971 Q1996.18 1971 1998.47 1973.78 Q2000.76 1976.53 2000.76 1981.9 Z\" fill=\"#000000\" fill-rule=\"evenodd\" fill-opacity=\"1\" /><path clip-path=\"url(#clip280)\" d=\"M2021.04 1984.52 Q2015.88 1984.52 2013.89 1985.7 Q2011.89 1986.88 2011.89 1989.73 Q2011.89 1991.99 2013.38 1993.34 Q2014.88 1994.66 2017.45 1994.66 Q2020.99 1994.66 2023.12 1992.16 Q2025.27 1989.63 2025.27 1985.47 L2025.27 1984.52 L2021.04 1984.52 M2029.53 1982.76 L2029.53 1997.55 L2025.27 1997.55 L2025.27 1993.62 Q2023.82 1995.98 2021.64 1997.11 Q2019.46 1998.22 2016.32 1998.22 Q2012.33 1998.22 2009.97 1996 Q2007.64 1993.75 2007.64 1990 Q2007.64 1985.63 2010.55 1983.41 Q2013.49 1981.18 2019.3 1981.18 L2025.27 1981.18 L2025.27 1980.77 Q2025.27 1977.83 2023.33 1976.23 Q2021.41 1974.61 2017.91 1974.61 Q2015.69 1974.61 2013.58 1975.14 Q2011.48 1975.68 2009.53 1976.74 L2009.53 1972.81 Q2011.87 1971.9 2014.07 1971.46 Q2016.27 1971 2018.35 1971 Q2023.98 1971 2026.76 1973.92 Q2029.53 1976.83 2029.53 1982.76 Z\" fill=\"#000000\" fill-rule=\"evenodd\" fill-opacity=\"1\" /><path clip-path=\"url(#clip280)\" d=\"M2059.86 1981.9 L2059.86 1997.55 L2055.6 1997.55 L2055.6 1982.04 Q2055.6 1978.36 2054.16 1976.53 Q2052.73 1974.7 2049.86 1974.7 Q2046.41 1974.7 2044.42 1976.9 Q2042.43 1979.1 2042.43 1982.9 L2042.43 1997.55 L2038.14 1997.55 L2038.14 1971.62 L2042.43 1971.62 L2042.43 1975.65 Q2043.95 1973.31 2046.02 1972.16 Q2048.1 1971 2050.81 1971 Q2055.27 1971 2057.57 1973.78 Q2059.86 1976.53 2059.86 1981.9 Z\" fill=\"#000000\" fill-rule=\"evenodd\" fill-opacity=\"1\" /><path clip-path=\"url(#clip280)\" d=\"M2085.41 1984.29 Q2085.41 1979.66 2083.49 1977.11 Q2081.59 1974.56 2078.14 1974.56 Q2074.72 1974.56 2072.8 1977.11 Q2070.9 1979.66 2070.9 1984.29 Q2070.9 1988.89 2072.8 1991.44 Q2074.72 1993.99 2078.14 1993.99 Q2081.59 1993.99 2083.49 1991.44 Q2085.41 1988.89 2085.41 1984.29 M2089.67 1994.33 Q2089.67 2000.95 2086.73 2004.17 Q2083.79 2007.41 2077.73 2007.41 Q2075.48 2007.41 2073.49 2007.06 Q2071.5 2006.74 2069.63 2006.05 L2069.63 2001.9 Q2071.5 2002.92 2073.33 2003.41 Q2075.16 2003.89 2077.06 2003.89 Q2081.25 2003.89 2083.33 2001.69 Q2085.41 1999.52 2085.41 1995.1 L2085.41 1992.99 Q2084.09 1995.28 2082.03 1996.42 Q2079.97 1997.55 2077.1 1997.55 Q2072.33 1997.55 2069.42 1993.92 Q2066.5 1990.28 2066.5 1984.29 Q2066.5 1978.27 2069.42 1974.63 Q2072.33 1971 2077.1 1971 Q2079.97 1971 2082.03 1972.13 Q2084.09 1973.27 2085.41 1975.56 L2085.41 1971.62 L2089.67 1971.62 L2089.67 1994.33 Z\" fill=\"#000000\" fill-rule=\"evenodd\" fill-opacity=\"1\" /><path clip-path=\"url(#clip280)\" d=\"M2120.62 1983.52 L2120.62 1985.61 L2101.04 1985.61 Q2101.32 1990 2103.68 1992.32 Q2106.06 1994.61 2110.3 1994.61 Q2112.75 1994.61 2115.04 1994.01 Q2117.36 1993.41 2119.63 1992.2 L2119.63 1996.23 Q2117.33 1997.2 2114.93 1997.71 Q2112.52 1998.22 2110.04 1998.22 Q2103.84 1998.22 2100.2 1994.61 Q2096.59 1991 2096.59 1984.84 Q2096.59 1978.48 2100.02 1974.75 Q2103.47 1971 2109.3 1971 Q2114.53 1971 2117.57 1974.38 Q2120.62 1977.74 2120.62 1983.52 M2116.36 1982.27 Q2116.32 1978.78 2114.39 1976.69 Q2112.5 1974.61 2109.35 1974.61 Q2105.78 1974.61 2103.63 1976.62 Q2101.5 1978.64 2101.18 1982.3 L2116.36 1982.27 Z\" fill=\"#000000\" fill-rule=\"evenodd\" fill-opacity=\"1\" /><path clip-path=\"url(#clip280)\" d=\"M2142.68 1971.62 L2146.94 1971.62 L2146.94 1997.55 L2142.68 1997.55 L2142.68 1971.62 M2142.68 1961.53 L2146.94 1961.53 L2146.94 1966.93 L2142.68 1966.93 L2142.68 1961.53 Z\" fill=\"#000000\" fill-rule=\"evenodd\" fill-opacity=\"1\" /><path clip-path=\"url(#clip280)\" d=\"M2177.4 1981.9 L2177.4 1997.55 L2173.14 1997.55 L2173.14 1982.04 Q2173.14 1978.36 2171.71 1976.53 Q2170.27 1974.7 2167.4 1974.7 Q2163.95 1974.7 2161.96 1976.9 Q2159.97 1979.1 2159.97 1982.9 L2159.97 1997.55 L2155.69 1997.55 L2155.69 1971.62 L2159.97 1971.62 L2159.97 1975.65 Q2161.5 1973.31 2163.56 1972.16 Q2165.64 1971 2168.35 1971 Q2172.82 1971 2175.11 1973.78 Q2177.4 1976.53 2177.4 1981.9 Z\" fill=\"#000000\" fill-rule=\"evenodd\" fill-opacity=\"1\" /><path clip-path=\"url(#clip280)\" d=\"M2217.5 1972.39 L2217.5 1976.42 Q2215.69 1975.49 2213.75 1975.03 Q2211.8 1974.56 2209.72 1974.56 Q2206.55 1974.56 2204.95 1975.54 Q2203.38 1976.51 2203.38 1978.45 Q2203.38 1979.93 2204.51 1980.79 Q2205.64 1981.62 2209.07 1982.39 L2210.53 1982.71 Q2215.07 1983.68 2216.96 1985.47 Q2218.88 1987.23 2218.88 1990.4 Q2218.88 1994.01 2216.01 1996.12 Q2213.17 1998.22 2208.17 1998.22 Q2206.08 1998.22 2203.82 1997.8 Q2201.57 1997.41 2199.07 1996.6 L2199.07 1992.2 Q2201.43 1993.43 2203.72 1994.05 Q2206.01 1994.66 2208.26 1994.66 Q2211.27 1994.66 2212.89 1993.64 Q2214.51 1992.6 2214.51 1990.72 Q2214.51 1988.99 2213.33 1988.06 Q2212.17 1987.13 2208.21 1986.28 L2206.73 1985.93 Q2202.77 1985.1 2201.01 1983.38 Q2199.26 1981.65 2199.26 1978.64 Q2199.26 1974.98 2201.85 1972.99 Q2204.44 1971 2209.21 1971 Q2211.57 1971 2213.65 1971.35 Q2215.74 1971.69 2217.5 1972.39 Z\" fill=\"#000000\" fill-rule=\"evenodd\" fill-opacity=\"1\" /><path clip-path=\"url(#clip280)\" d=\"M2229.88 1964.26 L2229.88 1971.62 L2238.65 1971.62 L2238.65 1974.93 L2229.88 1974.93 L2229.88 1989.01 Q2229.88 1992.18 2230.74 1993.08 Q2231.62 1993.99 2234.28 1993.99 L2238.65 1993.99 L2238.65 1997.55 L2234.28 1997.55 Q2229.35 1997.55 2227.47 1995.72 Q2225.6 1993.87 2225.6 1989.01 L2225.6 1974.93 L2222.47 1974.93 L2222.47 1971.62 L2225.6 1971.62 L2225.6 1964.26 L2229.88 1964.26 Z\" fill=\"#000000\" fill-rule=\"evenodd\" fill-opacity=\"1\" /><path clip-path=\"url(#clip280)\" d=\"M2254.3 1974.61 Q2250.88 1974.61 2248.88 1977.3 Q2246.89 1979.96 2246.89 1984.61 Q2246.89 1989.26 2248.86 1991.95 Q2250.85 1994.61 2254.3 1994.61 Q2257.7 1994.61 2259.69 1991.93 Q2261.69 1989.24 2261.69 1984.61 Q2261.69 1980 2259.69 1977.32 Q2257.7 1974.61 2254.3 1974.61 M2254.3 1971 Q2259.86 1971 2263.03 1974.61 Q2266.2 1978.22 2266.2 1984.61 Q2266.2 1990.98 2263.03 1994.61 Q2259.86 1998.22 2254.3 1998.22 Q2248.72 1998.22 2245.55 1994.61 Q2242.4 1990.98 2242.4 1984.61 Q2242.4 1978.22 2245.55 1974.61 Q2248.72 1971 2254.3 1971 Z\" fill=\"#000000\" fill-rule=\"evenodd\" fill-opacity=\"1\" /><path clip-path=\"url(#clip280)\" d=\"M2288.28 1975.61 Q2287.56 1975.19 2286.71 1975 Q2285.87 1974.8 2284.86 1974.8 Q2281.25 1974.8 2279.3 1977.16 Q2277.38 1979.49 2277.38 1983.89 L2277.38 1997.55 L2273.1 1997.55 L2273.1 1971.62 L2277.38 1971.62 L2277.38 1975.65 Q2278.72 1973.29 2280.87 1972.16 Q2283.03 1971 2286.11 1971 Q2286.55 1971 2287.08 1971.07 Q2287.61 1971.12 2288.26 1971.23 L2288.28 1975.61 Z\" fill=\"#000000\" fill-rule=\"evenodd\" fill-opacity=\"1\" /><path clip-path=\"url(#clip280)\" d=\"M2304.53 1984.52 Q2299.37 1984.52 2297.38 1985.7 Q2295.39 1986.88 2295.39 1989.73 Q2295.39 1991.99 2296.87 1993.34 Q2298.37 1994.66 2300.94 1994.66 Q2304.49 1994.66 2306.62 1992.16 Q2308.77 1989.63 2308.77 1985.47 L2308.77 1984.52 L2304.53 1984.52 M2313.03 1982.76 L2313.03 1997.55 L2308.77 1997.55 L2308.77 1993.62 Q2307.31 1995.98 2305.13 1997.11 Q2302.96 1998.22 2299.81 1998.22 Q2295.83 1998.22 2293.47 1996 Q2291.13 1993.75 2291.13 1990 Q2291.13 1985.63 2294.05 1983.41 Q2296.99 1981.18 2302.8 1981.18 L2308.77 1981.18 L2308.77 1980.77 Q2308.77 1977.83 2306.82 1976.23 Q2304.9 1974.61 2301.41 1974.61 Q2299.19 1974.61 2297.08 1975.14 Q2294.97 1975.68 2293.03 1976.74 L2293.03 1972.81 Q2295.37 1971.9 2297.56 1971.46 Q2299.76 1971 2301.85 1971 Q2307.47 1971 2310.25 1973.92 Q2313.03 1976.83 2313.03 1982.76 Z\" fill=\"#000000\" fill-rule=\"evenodd\" fill-opacity=\"1\" /><path clip-path=\"url(#clip280)\" d=\"M2338.86 1984.29 Q2338.86 1979.66 2336.94 1977.11 Q2335.04 1974.56 2331.59 1974.56 Q2328.17 1974.56 2326.25 1977.11 Q2324.35 1979.66 2324.35 1984.29 Q2324.35 1988.89 2326.25 1991.44 Q2328.17 1993.99 2331.59 1993.99 Q2335.04 1993.99 2336.94 1991.44 Q2338.86 1988.89 2338.86 1984.29 M2343.12 1994.33 Q2343.12 2000.95 2340.18 2004.17 Q2337.24 2007.41 2331.18 2007.41 Q2328.93 2007.41 2326.94 2007.06 Q2324.95 2006.74 2323.07 2006.05 L2323.07 2001.9 Q2324.95 2002.92 2326.78 2003.41 Q2328.61 2003.89 2330.5 2003.89 Q2334.69 2003.89 2336.78 2001.69 Q2338.86 1999.52 2338.86 1995.1 L2338.86 1992.99 Q2337.54 1995.28 2335.48 1996.42 Q2333.42 1997.55 2330.55 1997.55 Q2325.78 1997.55 2322.87 1993.92 Q2319.95 1990.28 2319.95 1984.29 Q2319.95 1978.27 2322.87 1974.63 Q2325.78 1971 2330.55 1971 Q2333.42 1971 2335.48 1972.13 Q2337.54 1973.27 2338.86 1975.56 L2338.86 1971.62 L2343.12 1971.62 L2343.12 1994.33 Z\" fill=\"#000000\" fill-rule=\"evenodd\" fill-opacity=\"1\" /><path clip-path=\"url(#clip280)\" d=\"M2374.07 1983.52 L2374.07 1985.61 L2354.49 1985.61 Q2354.76 1990 2357.12 1992.32 Q2359.51 1994.61 2363.74 1994.61 Q2366.2 1994.61 2368.49 1994.01 Q2370.81 1993.41 2373.07 1992.2 L2373.07 1996.23 Q2370.78 1997.2 2368.37 1997.71 Q2365.97 1998.22 2363.49 1998.22 Q2357.29 1998.22 2353.65 1994.61 Q2350.04 1991 2350.04 1984.84 Q2350.04 1978.48 2353.47 1974.75 Q2356.92 1971 2362.75 1971 Q2367.98 1971 2371.01 1974.38 Q2374.07 1977.74 2374.07 1983.52 M2369.81 1982.27 Q2369.76 1978.78 2367.84 1976.69 Q2365.94 1974.61 2362.8 1974.61 Q2359.23 1974.61 2357.08 1976.62 Q2354.95 1978.64 2354.62 1982.3 L2369.81 1982.27 Z\" fill=\"#000000\" fill-rule=\"evenodd\" fill-opacity=\"1\" /><path clip-path=\"url(#clip280)\" d=\"M2414.79 1972.62 L2414.79 1976.6 Q2412.98 1975.61 2411.15 1975.12 Q2409.35 1974.61 2407.49 1974.61 Q2403.35 1974.61 2401.06 1977.25 Q2398.77 1979.87 2398.77 1984.61 Q2398.77 1989.36 2401.06 1991.99 Q2403.35 1994.61 2407.49 1994.61 Q2409.35 1994.61 2411.15 1994.12 Q2412.98 1993.62 2414.79 1992.62 L2414.79 1996.55 Q2413 1997.39 2411.08 1997.8 Q2409.18 1998.22 2407.03 1998.22 Q2401.18 1998.22 2397.73 1994.54 Q2394.28 1990.86 2394.28 1984.61 Q2394.28 1978.27 2397.75 1974.63 Q2401.24 1971 2407.31 1971 Q2409.28 1971 2411.15 1971.42 Q2413.03 1971.81 2414.79 1972.62 Z\" fill=\"#000000\" fill-rule=\"evenodd\" fill-opacity=\"1\" /><path clip-path=\"url(#clip280)\" d=\"M2432.24 1974.61 Q2428.81 1974.61 2426.82 1977.3 Q2424.83 1979.96 2424.83 1984.61 Q2424.83 1989.26 2426.8 1991.95 Q2428.79 1994.61 2432.24 1994.61 Q2435.64 1994.61 2437.63 1991.93 Q2439.62 1989.24 2439.62 1984.61 Q2439.62 1980 2437.63 1977.32 Q2435.64 1974.61 2432.24 1974.61 M2432.24 1971 Q2437.8 1971 2440.97 1974.61 Q2444.14 1978.22 2444.14 1984.61 Q2444.14 1990.98 2440.97 1994.61 Q2437.8 1998.22 2432.24 1998.22 Q2426.66 1998.22 2423.49 1994.61 Q2420.34 1990.98 2420.34 1984.61 Q2420.34 1978.22 2423.49 1974.61 Q2426.66 1971 2432.24 1971 Z\" fill=\"#000000\" fill-rule=\"evenodd\" fill-opacity=\"1\" /><path clip-path=\"url(#clip280)\" d=\"M2467.73 1972.39 L2467.73 1976.42 Q2465.92 1975.49 2463.98 1975.03 Q2462.03 1974.56 2459.95 1974.56 Q2456.78 1974.56 2455.18 1975.54 Q2453.61 1976.51 2453.61 1978.45 Q2453.61 1979.93 2454.74 1980.79 Q2455.87 1981.62 2459.3 1982.39 L2460.76 1982.71 Q2465.3 1983.68 2467.19 1985.47 Q2469.11 1987.23 2469.11 1990.4 Q2469.11 1994.01 2466.24 1996.12 Q2463.4 1998.22 2458.4 1998.22 Q2456.31 1998.22 2454.05 1997.8 Q2451.8 1997.41 2449.3 1996.6 L2449.3 1992.2 Q2451.66 1993.43 2453.95 1994.05 Q2456.24 1994.66 2458.49 1994.66 Q2461.5 1994.66 2463.12 1993.64 Q2464.74 1992.6 2464.74 1990.72 Q2464.74 1988.99 2463.56 1988.06 Q2462.4 1987.13 2458.44 1986.28 L2456.96 1985.93 Q2453 1985.1 2451.24 1983.38 Q2449.49 1981.65 2449.49 1978.64 Q2449.49 1974.98 2452.08 1972.99 Q2454.67 1971 2459.44 1971 Q2461.8 1971 2463.88 1971.35 Q2465.97 1971.69 2467.73 1972.39 Z\" fill=\"#000000\" fill-rule=\"evenodd\" fill-opacity=\"1\" /><path clip-path=\"url(#clip280)\" d=\"M2480.11 1964.26 L2480.11 1971.62 L2488.88 1971.62 L2488.88 1974.93 L2480.11 1974.93 L2480.11 1989.01 Q2480.11 1992.18 2480.97 1993.08 Q2481.85 1993.99 2484.51 1993.99 L2488.88 1993.99 L2488.88 1997.55 L2484.51 1997.55 Q2479.58 1997.55 2477.7 1995.72 Q2475.83 1993.87 2475.83 1989.01 L2475.83 1974.93 L2472.7 1974.93 L2472.7 1971.62 L2475.83 1971.62 L2475.83 1964.26 L2480.11 1964.26 Z\" fill=\"#000000\" fill-rule=\"evenodd\" fill-opacity=\"1\" /><path clip-path=\"url(#clip280)\" d=\"M2511.01 1972.39 L2511.01 1976.42 Q2509.21 1975.49 2507.26 1975.03 Q2505.32 1974.56 2503.23 1974.56 Q2500.06 1974.56 2498.47 1975.54 Q2496.89 1976.51 2496.89 1978.45 Q2496.89 1979.93 2498.03 1980.79 Q2499.16 1981.62 2502.59 1982.39 L2504.05 1982.71 Q2508.58 1983.68 2510.48 1985.47 Q2512.4 1987.23 2512.4 1990.4 Q2512.4 1994.01 2509.53 1996.12 Q2506.68 1998.22 2501.68 1998.22 Q2499.6 1998.22 2497.33 1997.8 Q2495.09 1997.41 2492.59 1996.6 L2492.59 1992.2 Q2494.95 1993.43 2497.24 1994.05 Q2499.53 1994.66 2501.78 1994.66 Q2504.79 1994.66 2506.41 1993.64 Q2508.03 1992.6 2508.03 1990.72 Q2508.03 1988.99 2506.85 1988.06 Q2505.69 1987.13 2501.73 1986.28 L2500.25 1985.93 Q2496.29 1985.1 2494.53 1983.38 Q2492.77 1981.65 2492.77 1978.64 Q2492.77 1974.98 2495.36 1972.99 Q2497.96 1971 2502.73 1971 Q2505.09 1971 2507.17 1971.35 Q2509.25 1971.69 2511.01 1972.39 Z\" fill=\"#000000\" fill-rule=\"evenodd\" fill-opacity=\"1\" /><polyline clip-path=\"url(#clip280)\" style=\"stroke:#e26f46; stroke-linecap:round; stroke-linejoin:round; stroke-width:4; stroke-opacity:1; fill:none\" points=\"1720.59,2032.11 1912.34,2032.11 \"/>\n",
       "<path clip-path=\"url(#clip280)\" d=\"M1972.17 2017.49 L1972.17 2022.42 Q1969.81 2020.22 1967.13 2019.14 Q1964.46 2018.05 1961.46 2018.05 Q1955.53 2018.05 1952.38 2021.68 Q1949.23 2025.29 1949.23 2032.14 Q1949.23 2038.97 1952.38 2042.61 Q1955.53 2046.22 1961.46 2046.22 Q1964.46 2046.22 1967.13 2045.13 Q1969.81 2044.04 1972.17 2041.84 L1972.17 2046.73 Q1969.72 2048.39 1966.96 2049.23 Q1964.23 2050.06 1961.18 2050.06 Q1953.33 2050.06 1948.82 2045.27 Q1944.3 2040.46 1944.3 2032.14 Q1944.3 2023.81 1948.82 2019.02 Q1953.33 2014.21 1961.18 2014.21 Q1964.28 2014.21 1967.01 2015.04 Q1969.77 2015.85 1972.17 2017.49 Z\" fill=\"#000000\" fill-rule=\"evenodd\" fill-opacity=\"1\" /><path clip-path=\"url(#clip280)\" d=\"M2000.76 2033.74 L2000.76 2049.39 L1996.5 2049.39 L1996.5 2033.88 Q1996.5 2030.2 1995.07 2028.37 Q1993.63 2026.54 1990.76 2026.54 Q1987.31 2026.54 1985.32 2028.74 Q1983.33 2030.94 1983.33 2034.74 L1983.33 2049.39 L1979.05 2049.39 L1979.05 2013.37 L1983.33 2013.37 L1983.33 2027.49 Q1984.86 2025.15 1986.92 2024 Q1989 2022.84 1991.71 2022.84 Q1996.18 2022.84 1998.47 2025.62 Q2000.76 2028.37 2000.76 2033.74 Z\" fill=\"#000000\" fill-rule=\"evenodd\" fill-opacity=\"1\" /><path clip-path=\"url(#clip280)\" d=\"M2021.04 2036.36 Q2015.88 2036.36 2013.89 2037.54 Q2011.89 2038.72 2011.89 2041.57 Q2011.89 2043.83 2013.38 2045.18 Q2014.88 2046.5 2017.45 2046.5 Q2020.99 2046.5 2023.12 2044 Q2025.27 2041.47 2025.27 2037.31 L2025.27 2036.36 L2021.04 2036.36 M2029.53 2034.6 L2029.53 2049.39 L2025.27 2049.39 L2025.27 2045.46 Q2023.82 2047.82 2021.64 2048.95 Q2019.46 2050.06 2016.32 2050.06 Q2012.33 2050.06 2009.97 2047.84 Q2007.64 2045.59 2007.64 2041.84 Q2007.64 2037.47 2010.55 2035.25 Q2013.49 2033.02 2019.3 2033.02 L2025.27 2033.02 L2025.27 2032.61 Q2025.27 2029.67 2023.33 2028.07 Q2021.41 2026.45 2017.91 2026.45 Q2015.69 2026.45 2013.58 2026.98 Q2011.48 2027.52 2009.53 2028.58 L2009.53 2024.65 Q2011.87 2023.74 2014.07 2023.3 Q2016.27 2022.84 2018.35 2022.84 Q2023.98 2022.84 2026.76 2025.76 Q2029.53 2028.67 2029.53 2034.6 Z\" fill=\"#000000\" fill-rule=\"evenodd\" fill-opacity=\"1\" /><path clip-path=\"url(#clip280)\" d=\"M2059.86 2033.74 L2059.86 2049.39 L2055.6 2049.39 L2055.6 2033.88 Q2055.6 2030.2 2054.16 2028.37 Q2052.73 2026.54 2049.86 2026.54 Q2046.41 2026.54 2044.42 2028.74 Q2042.43 2030.94 2042.43 2034.74 L2042.43 2049.39 L2038.14 2049.39 L2038.14 2023.46 L2042.43 2023.46 L2042.43 2027.49 Q2043.95 2025.15 2046.02 2024 Q2048.1 2022.84 2050.81 2022.84 Q2055.27 2022.84 2057.57 2025.62 Q2059.86 2028.37 2059.86 2033.74 Z\" fill=\"#000000\" fill-rule=\"evenodd\" fill-opacity=\"1\" /><path clip-path=\"url(#clip280)\" d=\"M2085.41 2036.13 Q2085.41 2031.5 2083.49 2028.95 Q2081.59 2026.4 2078.14 2026.4 Q2074.72 2026.4 2072.8 2028.95 Q2070.9 2031.5 2070.9 2036.13 Q2070.9 2040.73 2072.8 2043.28 Q2074.72 2045.83 2078.14 2045.83 Q2081.59 2045.83 2083.49 2043.28 Q2085.41 2040.73 2085.41 2036.13 M2089.67 2046.17 Q2089.67 2052.79 2086.73 2056.01 Q2083.79 2059.25 2077.73 2059.25 Q2075.48 2059.25 2073.49 2058.9 Q2071.5 2058.58 2069.63 2057.89 L2069.63 2053.74 Q2071.5 2054.76 2073.33 2055.25 Q2075.16 2055.73 2077.06 2055.73 Q2081.25 2055.73 2083.33 2053.53 Q2085.41 2051.36 2085.41 2046.94 L2085.41 2044.83 Q2084.09 2047.12 2082.03 2048.26 Q2079.97 2049.39 2077.1 2049.39 Q2072.33 2049.39 2069.42 2045.76 Q2066.5 2042.12 2066.5 2036.13 Q2066.5 2030.11 2069.42 2026.47 Q2072.33 2022.84 2077.1 2022.84 Q2079.97 2022.84 2082.03 2023.97 Q2084.09 2025.11 2085.41 2027.4 L2085.41 2023.46 L2089.67 2023.46 L2089.67 2046.17 Z\" fill=\"#000000\" fill-rule=\"evenodd\" fill-opacity=\"1\" /><path clip-path=\"url(#clip280)\" d=\"M2120.62 2035.36 L2120.62 2037.45 L2101.04 2037.45 Q2101.32 2041.84 2103.68 2044.16 Q2106.06 2046.45 2110.3 2046.45 Q2112.75 2046.45 2115.04 2045.85 Q2117.36 2045.25 2119.63 2044.04 L2119.63 2048.07 Q2117.33 2049.04 2114.93 2049.55 Q2112.52 2050.06 2110.04 2050.06 Q2103.84 2050.06 2100.2 2046.45 Q2096.59 2042.84 2096.59 2036.68 Q2096.59 2030.32 2100.02 2026.59 Q2103.47 2022.84 2109.3 2022.84 Q2114.53 2022.84 2117.57 2026.22 Q2120.62 2029.58 2120.62 2035.36 M2116.36 2034.11 Q2116.32 2030.62 2114.39 2028.53 Q2112.5 2026.45 2109.35 2026.45 Q2105.78 2026.45 2103.63 2028.46 Q2101.5 2030.48 2101.18 2034.14 L2116.36 2034.11 Z\" fill=\"#000000\" fill-rule=\"evenodd\" fill-opacity=\"1\" /><path clip-path=\"url(#clip280)\" d=\"M2142.68 2023.46 L2146.94 2023.46 L2146.94 2049.39 L2142.68 2049.39 L2142.68 2023.46 M2142.68 2013.37 L2146.94 2013.37 L2146.94 2018.77 L2142.68 2018.77 L2142.68 2013.37 Z\" fill=\"#000000\" fill-rule=\"evenodd\" fill-opacity=\"1\" /><path clip-path=\"url(#clip280)\" d=\"M2177.4 2033.74 L2177.4 2049.39 L2173.14 2049.39 L2173.14 2033.88 Q2173.14 2030.2 2171.71 2028.37 Q2170.27 2026.54 2167.4 2026.54 Q2163.95 2026.54 2161.96 2028.74 Q2159.97 2030.94 2159.97 2034.74 L2159.97 2049.39 L2155.69 2049.39 L2155.69 2023.46 L2159.97 2023.46 L2159.97 2027.49 Q2161.5 2025.15 2163.56 2024 Q2165.64 2022.84 2168.35 2022.84 Q2172.82 2022.84 2175.11 2025.62 Q2177.4 2028.37 2177.4 2033.74 Z\" fill=\"#000000\" fill-rule=\"evenodd\" fill-opacity=\"1\" /><path clip-path=\"url(#clip280)\" d=\"M2205.18 2016.1 L2205.18 2023.46 L2213.95 2023.46 L2213.95 2026.77 L2205.18 2026.77 L2205.18 2040.85 Q2205.18 2044.02 2206.04 2044.92 Q2206.92 2045.83 2209.58 2045.83 L2213.95 2045.83 L2213.95 2049.39 L2209.58 2049.39 Q2204.65 2049.39 2202.77 2047.56 Q2200.9 2045.71 2200.9 2040.85 L2200.9 2026.77 L2197.77 2026.77 L2197.77 2023.46 L2200.9 2023.46 L2200.9 2016.1 L2205.18 2016.1 Z\" fill=\"#000000\" fill-rule=\"evenodd\" fill-opacity=\"1\" /><path clip-path=\"url(#clip280)\" d=\"M2241.11 2033.74 L2241.11 2049.39 L2236.85 2049.39 L2236.85 2033.88 Q2236.85 2030.2 2235.41 2028.37 Q2233.98 2026.54 2231.11 2026.54 Q2227.66 2026.54 2225.67 2028.74 Q2223.68 2030.94 2223.68 2034.74 L2223.68 2049.39 L2219.39 2049.39 L2219.39 2013.37 L2223.68 2013.37 L2223.68 2027.49 Q2225.2 2025.15 2227.26 2024 Q2229.35 2022.84 2232.06 2022.84 Q2236.52 2022.84 2238.82 2025.62 Q2241.11 2028.37 2241.11 2033.74 Z\" fill=\"#000000\" fill-rule=\"evenodd\" fill-opacity=\"1\" /><path clip-path=\"url(#clip280)\" d=\"M2271.78 2035.36 L2271.78 2037.45 L2252.19 2037.45 Q2252.47 2041.84 2254.83 2044.16 Q2257.22 2046.45 2261.45 2046.45 Q2263.91 2046.45 2266.2 2045.85 Q2268.51 2045.25 2270.78 2044.04 L2270.78 2048.07 Q2268.49 2049.04 2266.08 2049.55 Q2263.68 2050.06 2261.2 2050.06 Q2255 2050.06 2251.36 2046.45 Q2247.75 2042.84 2247.75 2036.68 Q2247.75 2030.32 2251.18 2026.59 Q2254.63 2022.84 2260.46 2022.84 Q2265.69 2022.84 2268.72 2026.22 Q2271.78 2029.58 2271.78 2035.36 M2267.52 2034.11 Q2267.47 2030.62 2265.55 2028.53 Q2263.65 2026.45 2260.5 2026.45 Q2256.94 2026.45 2254.79 2028.46 Q2252.66 2030.48 2252.33 2034.14 L2267.52 2034.11 Z\" fill=\"#000000\" fill-rule=\"evenodd\" fill-opacity=\"1\" /><path clip-path=\"url(#clip280)\" d=\"M2297.96 2045.5 L2297.96 2059.25 L2293.68 2059.25 L2293.68 2023.46 L2297.96 2023.46 L2297.96 2027.4 Q2299.3 2025.08 2301.34 2023.97 Q2303.4 2022.84 2306.25 2022.84 Q2310.97 2022.84 2313.91 2026.59 Q2316.87 2030.34 2316.87 2036.45 Q2316.87 2042.56 2313.91 2046.31 Q2310.97 2050.06 2306.25 2050.06 Q2303.4 2050.06 2301.34 2048.95 Q2299.3 2047.82 2297.96 2045.5 M2312.45 2036.45 Q2312.45 2031.75 2310.5 2029.09 Q2308.58 2026.4 2305.2 2026.4 Q2301.82 2026.4 2299.88 2029.09 Q2297.96 2031.75 2297.96 2036.45 Q2297.96 2041.15 2299.88 2043.83 Q2301.82 2046.5 2305.2 2046.5 Q2308.58 2046.5 2310.5 2043.83 Q2312.45 2041.15 2312.45 2036.45 Z\" fill=\"#000000\" fill-rule=\"evenodd\" fill-opacity=\"1\" /><path clip-path=\"url(#clip280)\" d=\"M2338.95 2027.45 Q2338.24 2027.03 2337.38 2026.84 Q2336.55 2026.64 2335.53 2026.64 Q2331.92 2026.64 2329.97 2029 Q2328.05 2031.33 2328.05 2035.73 L2328.05 2049.39 L2323.77 2049.39 L2323.77 2023.46 L2328.05 2023.46 L2328.05 2027.49 Q2329.39 2025.13 2331.55 2024 Q2333.7 2022.84 2336.78 2022.84 Q2337.22 2022.84 2337.75 2022.91 Q2338.28 2022.96 2338.93 2023.07 L2338.95 2027.45 Z\" fill=\"#000000\" fill-rule=\"evenodd\" fill-opacity=\"1\" /><path clip-path=\"url(#clip280)\" d=\"M2352.43 2026.45 Q2349 2026.45 2347.01 2029.14 Q2345.02 2031.8 2345.02 2036.45 Q2345.02 2041.1 2346.99 2043.79 Q2348.98 2046.45 2352.43 2046.45 Q2355.83 2046.45 2357.82 2043.77 Q2359.81 2041.08 2359.81 2036.45 Q2359.81 2031.84 2357.82 2029.16 Q2355.83 2026.45 2352.43 2026.45 M2352.43 2022.84 Q2357.98 2022.84 2361.15 2026.45 Q2364.32 2030.06 2364.32 2036.45 Q2364.32 2042.82 2361.15 2046.45 Q2357.98 2050.06 2352.43 2050.06 Q2346.85 2050.06 2343.68 2046.45 Q2340.53 2042.82 2340.53 2036.45 Q2340.53 2030.06 2343.68 2026.45 Q2346.85 2022.84 2352.43 2022.84 Z\" fill=\"#000000\" fill-rule=\"evenodd\" fill-opacity=\"1\" /><path clip-path=\"url(#clip280)\" d=\"M2389.99 2036.45 Q2389.99 2031.75 2388.05 2029.09 Q2386.13 2026.4 2382.75 2026.4 Q2379.37 2026.4 2377.43 2029.09 Q2375.5 2031.75 2375.5 2036.45 Q2375.5 2041.15 2377.43 2043.83 Q2379.37 2046.5 2382.75 2046.5 Q2386.13 2046.5 2388.05 2043.83 Q2389.99 2041.15 2389.99 2036.45 M2375.5 2027.4 Q2376.85 2025.08 2378.88 2023.97 Q2380.94 2022.84 2383.79 2022.84 Q2388.51 2022.84 2391.45 2026.59 Q2394.42 2030.34 2394.42 2036.45 Q2394.42 2042.56 2391.45 2046.31 Q2388.51 2050.06 2383.79 2050.06 Q2380.94 2050.06 2378.88 2048.95 Q2376.85 2047.82 2375.5 2045.5 L2375.5 2049.39 L2371.22 2049.39 L2371.22 2013.37 L2375.5 2013.37 L2375.5 2027.4 Z\" fill=\"#000000\" fill-rule=\"evenodd\" fill-opacity=\"1\" /><path clip-path=\"url(#clip280)\" d=\"M2413.26 2036.36 Q2408.1 2036.36 2406.11 2037.54 Q2404.12 2038.72 2404.12 2041.57 Q2404.12 2043.83 2405.6 2045.18 Q2407.1 2046.5 2409.67 2046.5 Q2413.21 2046.5 2415.34 2044 Q2417.49 2041.47 2417.49 2037.31 L2417.49 2036.36 L2413.26 2036.36 M2421.75 2034.6 L2421.75 2049.39 L2417.49 2049.39 L2417.49 2045.46 Q2416.04 2047.82 2413.86 2048.95 Q2411.68 2050.06 2408.54 2050.06 Q2404.55 2050.06 2402.19 2047.84 Q2399.86 2045.59 2399.86 2041.84 Q2399.86 2037.47 2402.77 2035.25 Q2405.71 2033.02 2411.52 2033.02 L2417.49 2033.02 L2417.49 2032.61 Q2417.49 2029.67 2415.55 2028.07 Q2413.63 2026.45 2410.13 2026.45 Q2407.91 2026.45 2405.8 2026.98 Q2403.7 2027.52 2401.75 2028.58 L2401.75 2024.65 Q2404.09 2023.74 2406.29 2023.3 Q2408.49 2022.84 2410.57 2022.84 Q2416.2 2022.84 2418.98 2025.76 Q2421.75 2028.67 2421.75 2034.6 Z\" fill=\"#000000\" fill-rule=\"evenodd\" fill-opacity=\"1\" /><path clip-path=\"url(#clip280)\" d=\"M2449.14 2036.45 Q2449.14 2031.75 2447.19 2029.09 Q2445.27 2026.4 2441.89 2026.4 Q2438.51 2026.4 2436.57 2029.09 Q2434.65 2031.75 2434.65 2036.45 Q2434.65 2041.15 2436.57 2043.83 Q2438.51 2046.5 2441.89 2046.5 Q2445.27 2046.5 2447.19 2043.83 Q2449.14 2041.15 2449.14 2036.45 M2434.65 2027.4 Q2435.99 2025.08 2438.03 2023.97 Q2440.09 2022.84 2442.93 2022.84 Q2447.66 2022.84 2450.6 2026.59 Q2453.56 2030.34 2453.56 2036.45 Q2453.56 2042.56 2450.6 2046.31 Q2447.66 2050.06 2442.93 2050.06 Q2440.09 2050.06 2438.03 2048.95 Q2435.99 2047.82 2434.65 2045.5 L2434.65 2049.39 L2430.36 2049.39 L2430.36 2013.37 L2434.65 2013.37 L2434.65 2027.4 Z\" fill=\"#000000\" fill-rule=\"evenodd\" fill-opacity=\"1\" /><path clip-path=\"url(#clip280)\" d=\"M2460.62 2023.46 L2464.88 2023.46 L2464.88 2049.39 L2460.62 2049.39 L2460.62 2023.46 M2460.62 2013.37 L2464.88 2013.37 L2464.88 2018.77 L2460.62 2018.77 L2460.62 2013.37 Z\" fill=\"#000000\" fill-rule=\"evenodd\" fill-opacity=\"1\" /><path clip-path=\"url(#clip280)\" d=\"M2473.79 2013.37 L2478.05 2013.37 L2478.05 2049.39 L2473.79 2049.39 L2473.79 2013.37 Z\" fill=\"#000000\" fill-rule=\"evenodd\" fill-opacity=\"1\" /><path clip-path=\"url(#clip280)\" d=\"M2486.96 2023.46 L2491.22 2023.46 L2491.22 2049.39 L2486.96 2049.39 L2486.96 2023.46 M2486.96 2013.37 L2491.22 2013.37 L2491.22 2018.77 L2486.96 2018.77 L2486.96 2013.37 Z\" fill=\"#000000\" fill-rule=\"evenodd\" fill-opacity=\"1\" /><path clip-path=\"url(#clip280)\" d=\"M2504.35 2016.1 L2504.35 2023.46 L2513.12 2023.46 L2513.12 2026.77 L2504.35 2026.77 L2504.35 2040.85 Q2504.35 2044.02 2505.2 2044.92 Q2506.08 2045.83 2508.74 2045.83 L2513.12 2045.83 L2513.12 2049.39 L2508.74 2049.39 Q2503.81 2049.39 2501.94 2047.56 Q2500.06 2045.71 2500.06 2040.85 L2500.06 2026.77 L2496.94 2026.77 L2496.94 2023.46 L2500.06 2023.46 L2500.06 2016.1 L2504.35 2016.1 Z\" fill=\"#000000\" fill-rule=\"evenodd\" fill-opacity=\"1\" /><path clip-path=\"url(#clip280)\" d=\"M2529.51 2051.8 Q2527.7 2056.43 2525.99 2057.84 Q2524.28 2059.25 2521.41 2059.25 L2518 2059.25 L2518 2055.69 L2520.5 2055.69 Q2522.26 2055.69 2523.23 2054.85 Q2524.21 2054.02 2525.39 2050.92 L2526.15 2048.97 L2515.67 2023.46 L2520.18 2023.46 L2528.28 2043.74 L2536.38 2023.46 L2540.9 2023.46 L2529.51 2051.8 Z\" fill=\"#000000\" fill-rule=\"evenodd\" fill-opacity=\"1\" /><path clip-path=\"url(#clip280)\" d=\"M2571.89 2026.45 Q2568.47 2026.45 2566.48 2029.14 Q2564.48 2031.8 2564.48 2036.45 Q2564.48 2041.1 2566.45 2043.79 Q2568.44 2046.45 2571.89 2046.45 Q2575.29 2046.45 2577.29 2043.77 Q2579.28 2041.08 2579.28 2036.45 Q2579.28 2031.84 2577.29 2029.16 Q2575.29 2026.45 2571.89 2026.45 M2571.89 2022.84 Q2577.45 2022.84 2580.62 2026.45 Q2583.79 2030.06 2583.79 2036.45 Q2583.79 2042.82 2580.62 2046.45 Q2577.45 2050.06 2571.89 2050.06 Q2566.31 2050.06 2563.14 2046.45 Q2559.99 2042.82 2559.99 2036.45 Q2559.99 2030.06 2563.14 2026.45 Q2566.31 2022.84 2571.89 2022.84 Z\" fill=\"#000000\" fill-rule=\"evenodd\" fill-opacity=\"1\" /><path clip-path=\"url(#clip280)\" d=\"M2603.98 2013.37 L2603.98 2016.91 L2599.9 2016.91 Q2597.61 2016.91 2596.71 2017.84 Q2595.83 2018.77 2595.83 2021.17 L2595.83 2023.46 L2602.84 2023.46 L2602.84 2026.77 L2595.83 2026.77 L2595.83 2049.39 L2591.54 2049.39 L2591.54 2026.77 L2587.47 2026.77 L2587.47 2023.46 L2591.54 2023.46 L2591.54 2021.66 Q2591.54 2017.33 2593.56 2015.36 Q2595.57 2013.37 2599.95 2013.37 L2603.98 2013.37 Z\" fill=\"#000000\" fill-rule=\"evenodd\" fill-opacity=\"1\" /><path clip-path=\"url(#clip280)\" d=\"M2639.67 2027.4 L2639.67 2013.37 L2643.93 2013.37 L2643.93 2049.39 L2639.67 2049.39 L2639.67 2045.5 Q2638.33 2047.82 2636.27 2048.95 Q2634.23 2050.06 2631.36 2050.06 Q2626.66 2050.06 2623.7 2046.31 Q2620.76 2042.56 2620.76 2036.45 Q2620.76 2030.34 2623.7 2026.59 Q2626.66 2022.84 2631.36 2022.84 Q2634.23 2022.84 2636.27 2023.97 Q2638.33 2025.08 2639.67 2027.4 M2625.16 2036.45 Q2625.16 2041.15 2627.08 2043.83 Q2629.02 2046.5 2632.4 2046.5 Q2635.78 2046.5 2637.72 2043.83 Q2639.67 2041.15 2639.67 2036.45 Q2639.67 2031.75 2637.72 2029.09 Q2635.78 2026.4 2632.4 2026.4 Q2629.02 2026.4 2627.08 2029.09 Q2625.16 2031.75 2625.16 2036.45 Z\" fill=\"#000000\" fill-rule=\"evenodd\" fill-opacity=\"1\" /><path clip-path=\"url(#clip280)\" d=\"M2674.88 2035.36 L2674.88 2037.45 L2655.29 2037.45 Q2655.57 2041.84 2657.93 2044.16 Q2660.32 2046.45 2664.55 2046.45 Q2667.01 2046.45 2669.3 2045.85 Q2671.61 2045.25 2673.88 2044.04 L2673.88 2048.07 Q2671.59 2049.04 2669.18 2049.55 Q2666.78 2050.06 2664.3 2050.06 Q2658.1 2050.06 2654.46 2046.45 Q2650.85 2042.84 2650.85 2036.68 Q2650.85 2030.32 2654.28 2026.59 Q2657.72 2022.84 2663.56 2022.84 Q2668.79 2022.84 2671.82 2026.22 Q2674.88 2029.58 2674.88 2035.36 M2670.62 2034.11 Q2670.57 2030.62 2668.65 2028.53 Q2666.75 2026.45 2663.6 2026.45 Q2660.04 2026.45 2657.89 2028.46 Q2655.76 2030.48 2655.43 2034.14 L2670.62 2034.11 Z\" fill=\"#000000\" fill-rule=\"evenodd\" fill-opacity=\"1\" /><path clip-path=\"url(#clip280)\" d=\"M2681.87 2013.37 L2686.13 2013.37 L2686.13 2049.39 L2681.87 2049.39 L2681.87 2013.37 Z\" fill=\"#000000\" fill-rule=\"evenodd\" fill-opacity=\"1\" /><path clip-path=\"url(#clip280)\" d=\"M2695.04 2023.46 L2699.3 2023.46 L2699.3 2049.39 L2695.04 2049.39 L2695.04 2023.46 M2695.04 2013.37 L2699.3 2013.37 L2699.3 2018.77 L2695.04 2018.77 L2695.04 2013.37 Z\" fill=\"#000000\" fill-rule=\"evenodd\" fill-opacity=\"1\" /><path clip-path=\"url(#clip280)\" d=\"M2705.16 2023.46 L2709.67 2023.46 L2717.77 2045.22 L2725.87 2023.46 L2730.39 2023.46 L2720.66 2049.39 L2714.88 2049.39 L2705.16 2023.46 Z\" fill=\"#000000\" fill-rule=\"evenodd\" fill-opacity=\"1\" /><path clip-path=\"url(#clip280)\" d=\"M2758.44 2035.36 L2758.44 2037.45 L2738.86 2037.45 Q2739.14 2041.84 2741.5 2044.16 Q2743.88 2046.45 2748.12 2046.45 Q2750.57 2046.45 2752.86 2045.85 Q2755.18 2045.25 2757.45 2044.04 L2757.45 2048.07 Q2755.15 2049.04 2752.75 2049.55 Q2750.34 2050.06 2747.86 2050.06 Q2741.66 2050.06 2738.03 2046.45 Q2734.41 2042.84 2734.41 2036.68 Q2734.41 2030.32 2737.84 2026.59 Q2741.29 2022.84 2747.12 2022.84 Q2752.35 2022.84 2755.39 2026.22 Q2758.44 2029.58 2758.44 2035.36 M2754.18 2034.11 Q2754.14 2030.62 2752.22 2028.53 Q2750.32 2026.45 2747.17 2026.45 Q2743.6 2026.45 2741.45 2028.46 Q2739.32 2030.48 2739 2034.14 L2754.18 2034.11 Z\" fill=\"#000000\" fill-rule=\"evenodd\" fill-opacity=\"1\" /><path clip-path=\"url(#clip280)\" d=\"M2780.46 2027.45 Q2779.74 2027.03 2778.88 2026.84 Q2778.05 2026.64 2777.03 2026.64 Q2773.42 2026.64 2771.47 2029 Q2769.55 2031.33 2769.55 2035.73 L2769.55 2049.39 L2765.27 2049.39 L2765.27 2023.46 L2769.55 2023.46 L2769.55 2027.49 Q2770.9 2025.13 2773.05 2024 Q2775.2 2022.84 2778.28 2022.84 Q2778.72 2022.84 2779.25 2022.91 Q2779.78 2022.96 2780.43 2023.07 L2780.46 2027.45 Z\" fill=\"#000000\" fill-rule=\"evenodd\" fill-opacity=\"1\" /><path clip-path=\"url(#clip280)\" d=\"M2795.71 2051.8 Q2793.9 2056.43 2792.19 2057.84 Q2790.48 2059.25 2787.61 2059.25 L2784.21 2059.25 L2784.21 2055.69 L2786.71 2055.69 Q2788.46 2055.69 2789.44 2054.85 Q2790.41 2054.02 2791.59 2050.92 L2792.35 2048.97 L2781.87 2023.46 L2786.38 2023.46 L2794.48 2043.74 L2802.59 2023.46 L2807.1 2023.46 L2795.71 2051.8 Z\" fill=\"#000000\" fill-rule=\"evenodd\" fill-opacity=\"1\" /><path clip-path=\"url(#clip280)\" d=\"M2838.09 2026.45 Q2834.67 2026.45 2832.68 2029.14 Q2830.69 2031.8 2830.69 2036.45 Q2830.69 2041.1 2832.65 2043.79 Q2834.65 2046.45 2838.09 2046.45 Q2841.5 2046.45 2843.49 2043.77 Q2845.48 2041.08 2845.48 2036.45 Q2845.48 2031.84 2843.49 2029.16 Q2841.5 2026.45 2838.09 2026.45 M2838.09 2022.84 Q2843.65 2022.84 2846.82 2026.45 Q2849.99 2030.06 2849.99 2036.45 Q2849.99 2042.82 2846.82 2046.45 Q2843.65 2050.06 2838.09 2050.06 Q2832.52 2050.06 2829.34 2046.45 Q2826.2 2042.82 2826.2 2036.45 Q2826.2 2030.06 2829.34 2026.45 Q2832.52 2022.84 2838.09 2022.84 Z\" fill=\"#000000\" fill-rule=\"evenodd\" fill-opacity=\"1\" /><path clip-path=\"url(#clip280)\" d=\"M2870.18 2013.37 L2870.18 2016.91 L2866.1 2016.91 Q2863.81 2016.91 2862.91 2017.84 Q2862.03 2018.77 2862.03 2021.17 L2862.03 2023.46 L2869.04 2023.46 L2869.04 2026.77 L2862.03 2026.77 L2862.03 2049.39 L2857.75 2049.39 L2857.75 2026.77 L2853.67 2026.77 L2853.67 2023.46 L2857.75 2023.46 L2857.75 2021.66 Q2857.75 2017.33 2859.76 2015.36 Q2861.77 2013.37 2866.15 2013.37 L2870.18 2013.37 Z\" fill=\"#000000\" fill-rule=\"evenodd\" fill-opacity=\"1\" /><path clip-path=\"url(#clip280)\" d=\"M2905.87 2036.13 Q2905.87 2031.5 2903.95 2028.95 Q2902.05 2026.4 2898.6 2026.4 Q2895.18 2026.4 2893.26 2028.95 Q2891.36 2031.5 2891.36 2036.13 Q2891.36 2040.73 2893.26 2043.28 Q2895.18 2045.83 2898.6 2045.83 Q2902.05 2045.83 2903.95 2043.28 Q2905.87 2040.73 2905.87 2036.13 M2910.13 2046.17 Q2910.13 2052.79 2907.19 2056.01 Q2904.25 2059.25 2898.19 2059.25 Q2895.94 2059.25 2893.95 2058.9 Q2891.96 2058.58 2890.08 2057.89 L2890.08 2053.74 Q2891.96 2054.76 2893.79 2055.25 Q2895.62 2055.73 2897.52 2055.73 Q2901.7 2055.73 2903.79 2053.53 Q2905.87 2051.36 2905.87 2046.94 L2905.87 2044.83 Q2904.55 2047.12 2902.49 2048.26 Q2900.43 2049.39 2897.56 2049.39 Q2892.79 2049.39 2889.88 2045.76 Q2886.96 2042.12 2886.96 2036.13 Q2886.96 2030.11 2889.88 2026.47 Q2892.79 2022.84 2897.56 2022.84 Q2900.43 2022.84 2902.49 2023.97 Q2904.55 2025.11 2905.87 2027.4 L2905.87 2023.46 L2910.13 2023.46 L2910.13 2046.17 Z\" fill=\"#000000\" fill-rule=\"evenodd\" fill-opacity=\"1\" /><path clip-path=\"url(#clip280)\" d=\"M2928.95 2026.45 Q2925.52 2026.45 2923.53 2029.14 Q2921.54 2031.8 2921.54 2036.45 Q2921.54 2041.1 2923.51 2043.79 Q2925.5 2046.45 2928.95 2046.45 Q2932.35 2046.45 2934.34 2043.77 Q2936.33 2041.08 2936.33 2036.45 Q2936.33 2031.84 2934.34 2029.16 Q2932.35 2026.45 2928.95 2026.45 M2928.95 2022.84 Q2934.51 2022.84 2937.68 2026.45 Q2940.85 2030.06 2940.85 2036.45 Q2940.85 2042.82 2937.68 2046.45 Q2934.51 2050.06 2928.95 2050.06 Q2923.37 2050.06 2920.2 2046.45 Q2917.05 2042.82 2917.05 2036.45 Q2917.05 2030.06 2920.2 2026.45 Q2923.37 2022.84 2928.95 2022.84 Z\" fill=\"#000000\" fill-rule=\"evenodd\" fill-opacity=\"1\" /><path clip-path=\"url(#clip280)\" d=\"M2957.95 2026.45 Q2954.53 2026.45 2952.54 2029.14 Q2950.55 2031.8 2950.55 2036.45 Q2950.55 2041.1 2952.51 2043.79 Q2954.51 2046.45 2957.95 2046.45 Q2961.36 2046.45 2963.35 2043.77 Q2965.34 2041.08 2965.34 2036.45 Q2965.34 2031.84 2963.35 2029.16 Q2961.36 2026.45 2957.95 2026.45 M2957.95 2022.84 Q2963.51 2022.84 2966.68 2026.45 Q2969.85 2030.06 2969.85 2036.45 Q2969.85 2042.82 2966.68 2046.45 Q2963.51 2050.06 2957.95 2050.06 Q2952.38 2050.06 2949.2 2046.45 Q2946.06 2042.82 2946.06 2036.45 Q2946.06 2030.06 2949.2 2026.45 Q2952.38 2022.84 2957.95 2022.84 Z\" fill=\"#000000\" fill-rule=\"evenodd\" fill-opacity=\"1\" /><path clip-path=\"url(#clip280)\" d=\"M2993.97 2027.4 L2993.97 2013.37 L2998.23 2013.37 L2998.23 2049.39 L2993.97 2049.39 L2993.97 2045.5 Q2992.63 2047.82 2990.57 2048.95 Q2988.53 2050.06 2985.66 2050.06 Q2980.96 2050.06 2978 2046.31 Q2975.06 2042.56 2975.06 2036.45 Q2975.06 2030.34 2978 2026.59 Q2980.96 2022.84 2985.66 2022.84 Q2988.53 2022.84 2990.57 2023.97 Q2992.63 2025.08 2993.97 2027.4 M2979.46 2036.45 Q2979.46 2041.15 2981.38 2043.83 Q2983.32 2046.5 2986.7 2046.5 Q2990.08 2046.5 2992.03 2043.83 Q2993.97 2041.15 2993.97 2036.45 Q2993.97 2031.75 2992.03 2029.09 Q2990.08 2026.4 2986.7 2026.4 Q2983.32 2026.4 2981.38 2029.09 Q2979.46 2031.75 2979.46 2036.45 Z\" fill=\"#000000\" fill-rule=\"evenodd\" fill-opacity=\"1\" /><path clip-path=\"url(#clip280)\" d=\"M3023.53 2024.23 L3023.53 2028.26 Q3021.73 2027.33 3019.78 2026.87 Q3017.84 2026.4 3015.76 2026.4 Q3012.58 2026.4 3010.99 2027.38 Q3009.41 2028.35 3009.41 2030.29 Q3009.41 2031.77 3010.55 2032.63 Q3011.68 2033.46 3015.11 2034.23 L3016.57 2034.55 Q3021.1 2035.52 3023 2037.31 Q3024.92 2039.07 3024.92 2042.24 Q3024.92 2045.85 3022.05 2047.96 Q3019.2 2050.06 3014.2 2050.06 Q3012.12 2050.06 3009.85 2049.64 Q3007.61 2049.25 3005.11 2048.44 L3005.11 2044.04 Q3007.47 2045.27 3009.76 2045.89 Q3012.05 2046.5 3014.3 2046.5 Q3017.31 2046.5 3018.93 2045.48 Q3020.55 2044.44 3020.55 2042.56 Q3020.55 2040.83 3019.37 2039.9 Q3018.21 2038.97 3014.25 2038.12 L3012.77 2037.77 Q3008.81 2036.94 3007.05 2035.22 Q3005.29 2033.49 3005.29 2030.48 Q3005.29 2026.82 3007.88 2024.83 Q3010.48 2022.84 3015.25 2022.84 Q3017.61 2022.84 3019.69 2023.19 Q3021.77 2023.53 3023.53 2024.23 Z\" fill=\"#000000\" fill-rule=\"evenodd\" fill-opacity=\"1\" /><polyline clip-path=\"url(#clip280)\" style=\"stroke:#3da44d; stroke-linecap:round; stroke-linejoin:round; stroke-width:4; stroke-opacity:1; fill:none\" points=\"1720.59,2083.95 1912.34,2083.95 \"/>\n",
       "<path clip-path=\"url(#clip280)\" d=\"M1972.17 2069.33 L1972.17 2074.26 Q1969.81 2072.06 1967.13 2070.98 Q1964.46 2069.89 1961.46 2069.89 Q1955.53 2069.89 1952.38 2073.52 Q1949.23 2077.13 1949.23 2083.98 Q1949.23 2090.81 1952.38 2094.45 Q1955.53 2098.06 1961.46 2098.06 Q1964.46 2098.06 1967.13 2096.97 Q1969.81 2095.88 1972.17 2093.68 L1972.17 2098.57 Q1969.72 2100.23 1966.96 2101.07 Q1964.23 2101.9 1961.18 2101.9 Q1953.33 2101.9 1948.82 2097.11 Q1944.3 2092.3 1944.3 2083.98 Q1944.3 2075.65 1948.82 2070.86 Q1953.33 2066.05 1961.18 2066.05 Q1964.28 2066.05 1967.01 2066.88 Q1969.77 2067.69 1972.17 2069.33 Z\" fill=\"#000000\" fill-rule=\"evenodd\" fill-opacity=\"1\" /><path clip-path=\"url(#clip280)\" d=\"M2000.76 2085.58 L2000.76 2101.23 L1996.5 2101.23 L1996.5 2085.72 Q1996.5 2082.04 1995.07 2080.21 Q1993.63 2078.38 1990.76 2078.38 Q1987.31 2078.38 1985.32 2080.58 Q1983.33 2082.78 1983.33 2086.58 L1983.33 2101.23 L1979.05 2101.23 L1979.05 2065.21 L1983.33 2065.21 L1983.33 2079.33 Q1984.86 2076.99 1986.92 2075.84 Q1989 2074.68 1991.71 2074.68 Q1996.18 2074.68 1998.47 2077.46 Q2000.76 2080.21 2000.76 2085.58 Z\" fill=\"#000000\" fill-rule=\"evenodd\" fill-opacity=\"1\" /><path clip-path=\"url(#clip280)\" d=\"M2021.04 2088.2 Q2015.88 2088.2 2013.89 2089.38 Q2011.89 2090.56 2011.89 2093.41 Q2011.89 2095.67 2013.38 2097.02 Q2014.88 2098.34 2017.45 2098.34 Q2020.99 2098.34 2023.12 2095.84 Q2025.27 2093.31 2025.27 2089.15 L2025.27 2088.2 L2021.04 2088.2 M2029.53 2086.44 L2029.53 2101.23 L2025.27 2101.23 L2025.27 2097.3 Q2023.82 2099.66 2021.64 2100.79 Q2019.46 2101.9 2016.32 2101.9 Q2012.33 2101.9 2009.97 2099.68 Q2007.64 2097.43 2007.64 2093.68 Q2007.64 2089.31 2010.55 2087.09 Q2013.49 2084.86 2019.3 2084.86 L2025.27 2084.86 L2025.27 2084.45 Q2025.27 2081.51 2023.33 2079.91 Q2021.41 2078.29 2017.91 2078.29 Q2015.69 2078.29 2013.58 2078.82 Q2011.48 2079.36 2009.53 2080.42 L2009.53 2076.49 Q2011.87 2075.58 2014.07 2075.14 Q2016.27 2074.68 2018.35 2074.68 Q2023.98 2074.68 2026.76 2077.6 Q2029.53 2080.51 2029.53 2086.44 Z\" fill=\"#000000\" fill-rule=\"evenodd\" fill-opacity=\"1\" /><path clip-path=\"url(#clip280)\" d=\"M2059.86 2085.58 L2059.86 2101.23 L2055.6 2101.23 L2055.6 2085.72 Q2055.6 2082.04 2054.16 2080.21 Q2052.73 2078.38 2049.86 2078.38 Q2046.41 2078.38 2044.42 2080.58 Q2042.43 2082.78 2042.43 2086.58 L2042.43 2101.23 L2038.14 2101.23 L2038.14 2075.3 L2042.43 2075.3 L2042.43 2079.33 Q2043.95 2076.99 2046.02 2075.84 Q2048.1 2074.68 2050.81 2074.68 Q2055.27 2074.68 2057.57 2077.46 Q2059.86 2080.21 2059.86 2085.58 Z\" fill=\"#000000\" fill-rule=\"evenodd\" fill-opacity=\"1\" /><path clip-path=\"url(#clip280)\" d=\"M2085.41 2087.97 Q2085.41 2083.34 2083.49 2080.79 Q2081.59 2078.24 2078.14 2078.24 Q2074.72 2078.24 2072.8 2080.79 Q2070.9 2083.34 2070.9 2087.97 Q2070.9 2092.57 2072.8 2095.12 Q2074.72 2097.67 2078.14 2097.67 Q2081.59 2097.67 2083.49 2095.12 Q2085.41 2092.57 2085.41 2087.97 M2089.67 2098.01 Q2089.67 2104.63 2086.73 2107.85 Q2083.79 2111.09 2077.73 2111.09 Q2075.48 2111.09 2073.49 2110.74 Q2071.5 2110.42 2069.63 2109.73 L2069.63 2105.58 Q2071.5 2106.6 2073.33 2107.09 Q2075.16 2107.57 2077.06 2107.57 Q2081.25 2107.57 2083.33 2105.37 Q2085.41 2103.2 2085.41 2098.78 L2085.41 2096.67 Q2084.09 2098.96 2082.03 2100.1 Q2079.97 2101.23 2077.1 2101.23 Q2072.33 2101.23 2069.42 2097.6 Q2066.5 2093.96 2066.5 2087.97 Q2066.5 2081.95 2069.42 2078.31 Q2072.33 2074.68 2077.1 2074.68 Q2079.97 2074.68 2082.03 2075.81 Q2084.09 2076.95 2085.41 2079.24 L2085.41 2075.3 L2089.67 2075.3 L2089.67 2098.01 Z\" fill=\"#000000\" fill-rule=\"evenodd\" fill-opacity=\"1\" /><path clip-path=\"url(#clip280)\" d=\"M2120.62 2087.2 L2120.62 2089.29 L2101.04 2089.29 Q2101.32 2093.68 2103.68 2096 Q2106.06 2098.29 2110.3 2098.29 Q2112.75 2098.29 2115.04 2097.69 Q2117.36 2097.09 2119.63 2095.88 L2119.63 2099.91 Q2117.33 2100.88 2114.93 2101.39 Q2112.52 2101.9 2110.04 2101.9 Q2103.84 2101.9 2100.2 2098.29 Q2096.59 2094.68 2096.59 2088.52 Q2096.59 2082.16 2100.02 2078.43 Q2103.47 2074.68 2109.3 2074.68 Q2114.53 2074.68 2117.57 2078.06 Q2120.62 2081.42 2120.62 2087.2 M2116.36 2085.95 Q2116.32 2082.46 2114.39 2080.37 Q2112.5 2078.29 2109.35 2078.29 Q2105.78 2078.29 2103.63 2080.3 Q2101.5 2082.32 2101.18 2085.98 L2116.36 2085.95 Z\" fill=\"#000000\" fill-rule=\"evenodd\" fill-opacity=\"1\" /><path clip-path=\"url(#clip280)\" d=\"M2142.68 2075.3 L2146.94 2075.3 L2146.94 2101.23 L2142.68 2101.23 L2142.68 2075.3 M2142.68 2065.21 L2146.94 2065.21 L2146.94 2070.61 L2142.68 2070.61 L2142.68 2065.21 Z\" fill=\"#000000\" fill-rule=\"evenodd\" fill-opacity=\"1\" /><path clip-path=\"url(#clip280)\" d=\"M2177.4 2085.58 L2177.4 2101.23 L2173.14 2101.23 L2173.14 2085.72 Q2173.14 2082.04 2171.71 2080.21 Q2170.27 2078.38 2167.4 2078.38 Q2163.95 2078.38 2161.96 2080.58 Q2159.97 2082.78 2159.97 2086.58 L2159.97 2101.23 L2155.69 2101.23 L2155.69 2075.3 L2159.97 2075.3 L2159.97 2079.33 Q2161.5 2076.99 2163.56 2075.84 Q2165.64 2074.68 2168.35 2074.68 Q2172.82 2074.68 2175.11 2077.46 Q2177.4 2080.21 2177.4 2085.58 Z\" fill=\"#000000\" fill-rule=\"evenodd\" fill-opacity=\"1\" /><path clip-path=\"url(#clip280)\" d=\"M2219.63 2076.3 L2219.63 2080.28 Q2217.82 2079.29 2215.99 2078.8 Q2214.19 2078.29 2212.33 2078.29 Q2208.19 2078.29 2205.9 2080.93 Q2203.61 2083.55 2203.61 2088.29 Q2203.61 2093.04 2205.9 2095.67 Q2208.19 2098.29 2212.33 2098.29 Q2214.19 2098.29 2215.99 2097.8 Q2217.82 2097.3 2219.63 2096.3 L2219.63 2100.23 Q2217.84 2101.07 2215.92 2101.48 Q2214.02 2101.9 2211.87 2101.9 Q2206.01 2101.9 2202.57 2098.22 Q2199.12 2094.54 2199.12 2088.29 Q2199.12 2081.95 2202.59 2078.31 Q2206.08 2074.68 2212.15 2074.68 Q2214.12 2074.68 2215.99 2075.1 Q2217.87 2075.49 2219.63 2076.3 Z\" fill=\"#000000\" fill-rule=\"evenodd\" fill-opacity=\"1\" /><path clip-path=\"url(#clip280)\" d=\"M2237.08 2078.29 Q2233.65 2078.29 2231.66 2080.98 Q2229.67 2083.64 2229.67 2088.29 Q2229.67 2092.94 2231.64 2095.63 Q2233.63 2098.29 2237.08 2098.29 Q2240.48 2098.29 2242.47 2095.61 Q2244.46 2092.92 2244.46 2088.29 Q2244.46 2083.68 2242.47 2081 Q2240.48 2078.29 2237.08 2078.29 M2237.08 2074.68 Q2242.63 2074.68 2245.81 2078.29 Q2248.98 2081.9 2248.98 2088.29 Q2248.98 2094.66 2245.81 2098.29 Q2242.63 2101.9 2237.08 2101.9 Q2231.5 2101.9 2228.33 2098.29 Q2225.18 2094.66 2225.18 2088.29 Q2225.18 2081.9 2228.33 2078.29 Q2231.5 2074.68 2237.08 2074.68 Z\" fill=\"#000000\" fill-rule=\"evenodd\" fill-opacity=\"1\" /><path clip-path=\"url(#clip280)\" d=\"M2272.56 2076.07 L2272.56 2080.1 Q2270.76 2079.17 2268.81 2078.71 Q2266.87 2078.24 2264.79 2078.24 Q2261.62 2078.24 2260.02 2079.22 Q2258.44 2080.19 2258.44 2082.13 Q2258.44 2083.61 2259.58 2084.47 Q2260.71 2085.3 2264.14 2086.07 L2265.6 2086.39 Q2270.13 2087.36 2272.03 2089.15 Q2273.95 2090.91 2273.95 2094.08 Q2273.95 2097.69 2271.08 2099.8 Q2268.24 2101.9 2263.24 2101.9 Q2261.15 2101.9 2258.88 2101.48 Q2256.64 2101.09 2254.14 2100.28 L2254.14 2095.88 Q2256.5 2097.11 2258.79 2097.73 Q2261.08 2098.34 2263.33 2098.34 Q2266.34 2098.34 2267.96 2097.32 Q2269.58 2096.28 2269.58 2094.4 Q2269.58 2092.67 2268.4 2091.74 Q2267.24 2090.81 2263.28 2089.96 L2261.8 2089.61 Q2257.84 2088.78 2256.08 2087.06 Q2254.32 2085.33 2254.32 2082.32 Q2254.32 2078.66 2256.92 2076.67 Q2259.51 2074.68 2264.28 2074.68 Q2266.64 2074.68 2268.72 2075.03 Q2270.81 2075.37 2272.56 2076.07 Z\" fill=\"#000000\" fill-rule=\"evenodd\" fill-opacity=\"1\" /><path clip-path=\"url(#clip280)\" d=\"M2284.95 2067.94 L2284.95 2075.3 L2293.72 2075.3 L2293.72 2078.61 L2284.95 2078.61 L2284.95 2092.69 Q2284.95 2095.86 2285.81 2096.76 Q2286.69 2097.67 2289.35 2097.67 L2293.72 2097.67 L2293.72 2101.23 L2289.35 2101.23 Q2284.42 2101.23 2282.54 2099.4 Q2280.67 2097.55 2280.67 2092.69 L2280.67 2078.61 L2277.54 2078.61 L2277.54 2075.3 L2280.67 2075.3 L2280.67 2067.94 L2284.95 2067.94 Z\" fill=\"#000000\" fill-rule=\"evenodd\" fill-opacity=\"1\" /><path clip-path=\"url(#clip280)\" d=\"M2318.51 2097.34 L2318.51 2111.09 L2314.23 2111.09 L2314.23 2075.3 L2318.51 2075.3 L2318.51 2079.24 Q2319.86 2076.92 2321.89 2075.81 Q2323.95 2074.68 2326.8 2074.68 Q2331.52 2074.68 2334.46 2078.43 Q2337.43 2082.18 2337.43 2088.29 Q2337.43 2094.4 2334.46 2098.15 Q2331.52 2101.9 2326.8 2101.9 Q2323.95 2101.9 2321.89 2100.79 Q2319.86 2099.66 2318.51 2097.34 M2333 2088.29 Q2333 2083.59 2331.06 2080.93 Q2329.14 2078.24 2325.76 2078.24 Q2322.38 2078.24 2320.43 2080.93 Q2318.51 2083.59 2318.51 2088.29 Q2318.51 2092.99 2320.43 2095.67 Q2322.38 2098.34 2325.76 2098.34 Q2329.14 2098.34 2331.06 2095.67 Q2333 2092.99 2333 2088.29 Z\" fill=\"#000000\" fill-rule=\"evenodd\" fill-opacity=\"1\" /><path clip-path=\"url(#clip280)\" d=\"M2366.66 2087.2 L2366.66 2089.29 L2347.08 2089.29 Q2347.36 2093.68 2349.72 2096 Q2352.1 2098.29 2356.34 2098.29 Q2358.79 2098.29 2361.08 2097.69 Q2363.4 2097.09 2365.67 2095.88 L2365.67 2099.91 Q2363.37 2100.88 2360.97 2101.39 Q2358.56 2101.9 2356.08 2101.9 Q2349.88 2101.9 2346.25 2098.29 Q2342.63 2094.68 2342.63 2088.52 Q2342.63 2082.16 2346.06 2078.43 Q2349.51 2074.68 2355.34 2074.68 Q2360.57 2074.68 2363.61 2078.06 Q2366.66 2081.42 2366.66 2087.2 M2362.4 2085.95 Q2362.36 2082.46 2360.43 2080.37 Q2358.54 2078.29 2355.39 2078.29 Q2351.82 2078.29 2349.67 2080.3 Q2347.54 2082.32 2347.22 2085.98 L2362.4 2085.95 Z\" fill=\"#000000\" fill-rule=\"evenodd\" fill-opacity=\"1\" /><path clip-path=\"url(#clip280)\" d=\"M2388.68 2079.29 Q2387.96 2078.87 2387.1 2078.68 Q2386.27 2078.48 2385.25 2078.48 Q2381.64 2078.48 2379.69 2080.84 Q2377.77 2083.17 2377.77 2087.57 L2377.77 2101.23 L2373.49 2101.23 L2373.49 2075.3 L2377.77 2075.3 L2377.77 2079.33 Q2379.12 2076.97 2381.27 2075.84 Q2383.42 2074.68 2386.5 2074.68 Q2386.94 2074.68 2387.47 2074.75 Q2388 2074.8 2388.65 2074.91 L2388.68 2079.29 Z\" fill=\"#000000\" fill-rule=\"evenodd\" fill-opacity=\"1\" /><path clip-path=\"url(#clip280)\" d=\"M2425.27 2079.24 L2425.27 2065.21 L2429.53 2065.21 L2429.53 2101.23 L2425.27 2101.23 L2425.27 2097.34 Q2423.93 2099.66 2421.87 2100.79 Q2419.83 2101.9 2416.96 2101.9 Q2412.26 2101.9 2409.3 2098.15 Q2406.36 2094.4 2406.36 2088.29 Q2406.36 2082.18 2409.3 2078.43 Q2412.26 2074.68 2416.96 2074.68 Q2419.83 2074.68 2421.87 2075.81 Q2423.93 2076.92 2425.27 2079.24 M2410.76 2088.29 Q2410.76 2092.99 2412.68 2095.67 Q2414.62 2098.34 2418 2098.34 Q2421.38 2098.34 2423.33 2095.67 Q2425.27 2092.99 2425.27 2088.29 Q2425.27 2083.59 2423.33 2080.93 Q2421.38 2078.24 2418 2078.24 Q2414.62 2078.24 2412.68 2080.93 Q2410.76 2083.59 2410.76 2088.29 Z\" fill=\"#000000\" fill-rule=\"evenodd\" fill-opacity=\"1\" /><path clip-path=\"url(#clip280)\" d=\"M2460.48 2087.2 L2460.48 2089.29 L2440.9 2089.29 Q2441.18 2093.68 2443.54 2096 Q2445.92 2098.29 2450.16 2098.29 Q2452.61 2098.29 2454.9 2097.69 Q2457.22 2097.09 2459.49 2095.88 L2459.49 2099.91 Q2457.19 2100.88 2454.79 2101.39 Q2452.38 2101.9 2449.9 2101.9 Q2443.7 2101.9 2440.06 2098.29 Q2436.45 2094.68 2436.45 2088.52 Q2436.45 2082.16 2439.88 2078.43 Q2443.33 2074.68 2449.16 2074.68 Q2454.39 2074.68 2457.42 2078.06 Q2460.48 2081.42 2460.48 2087.2 M2456.22 2085.95 Q2456.17 2082.46 2454.25 2080.37 Q2452.36 2078.29 2449.21 2078.29 Q2445.64 2078.29 2443.49 2080.3 Q2441.36 2082.32 2441.04 2085.98 L2456.22 2085.95 Z\" fill=\"#000000\" fill-rule=\"evenodd\" fill-opacity=\"1\" /><path clip-path=\"url(#clip280)\" d=\"M2467.47 2065.21 L2471.73 2065.21 L2471.73 2101.23 L2467.47 2101.23 L2467.47 2065.21 Z\" fill=\"#000000\" fill-rule=\"evenodd\" fill-opacity=\"1\" /><path clip-path=\"url(#clip280)\" d=\"M2480.64 2075.3 L2484.9 2075.3 L2484.9 2101.23 L2480.64 2101.23 L2480.64 2075.3 M2480.64 2065.21 L2484.9 2065.21 L2484.9 2070.61 L2480.64 2070.61 L2480.64 2065.21 Z\" fill=\"#000000\" fill-rule=\"evenodd\" fill-opacity=\"1\" /><path clip-path=\"url(#clip280)\" d=\"M2490.76 2075.3 L2495.27 2075.3 L2503.37 2097.06 L2511.48 2075.3 L2515.99 2075.3 L2506.27 2101.23 L2500.48 2101.23 L2490.76 2075.3 Z\" fill=\"#000000\" fill-rule=\"evenodd\" fill-opacity=\"1\" /><path clip-path=\"url(#clip280)\" d=\"M2544.04 2087.2 L2544.04 2089.29 L2524.46 2089.29 Q2524.74 2093.68 2527.1 2096 Q2529.48 2098.29 2533.72 2098.29 Q2536.17 2098.29 2538.47 2097.69 Q2540.78 2097.09 2543.05 2095.88 L2543.05 2099.91 Q2540.76 2100.88 2538.35 2101.39 Q2535.94 2101.9 2533.47 2101.9 Q2527.26 2101.9 2523.63 2098.29 Q2520.02 2094.68 2520.02 2088.52 Q2520.02 2082.16 2523.44 2078.43 Q2526.89 2074.68 2532.73 2074.68 Q2537.96 2074.68 2540.99 2078.06 Q2544.04 2081.42 2544.04 2087.2 M2539.79 2085.95 Q2539.74 2082.46 2537.82 2080.37 Q2535.92 2078.29 2532.77 2078.29 Q2529.21 2078.29 2527.05 2080.3 Q2524.92 2082.32 2524.6 2085.98 L2539.79 2085.95 Z\" fill=\"#000000\" fill-rule=\"evenodd\" fill-opacity=\"1\" /><path clip-path=\"url(#clip280)\" d=\"M2566.06 2079.29 Q2565.34 2078.87 2564.48 2078.68 Q2563.65 2078.48 2562.63 2078.48 Q2559.02 2078.48 2557.08 2080.84 Q2555.16 2083.17 2555.16 2087.57 L2555.16 2101.23 L2550.87 2101.23 L2550.87 2075.3 L2555.16 2075.3 L2555.16 2079.33 Q2556.5 2076.97 2558.65 2075.84 Q2560.8 2074.68 2563.88 2074.68 Q2564.32 2074.68 2564.85 2074.75 Q2565.39 2074.8 2566.04 2074.91 L2566.06 2079.29 Z\" fill=\"#000000\" fill-rule=\"evenodd\" fill-opacity=\"1\" /><path clip-path=\"url(#clip280)\" d=\"M2581.31 2103.64 Q2579.51 2108.27 2577.79 2109.68 Q2576.08 2111.09 2573.21 2111.09 L2569.81 2111.09 L2569.81 2107.53 L2572.31 2107.53 Q2574.07 2107.53 2575.04 2106.69 Q2576.01 2105.86 2577.19 2102.76 L2577.96 2100.81 L2567.47 2075.3 L2571.98 2075.3 L2580.09 2095.58 L2588.19 2075.3 L2592.7 2075.3 L2581.31 2103.64 Z\" fill=\"#000000\" fill-rule=\"evenodd\" fill-opacity=\"1\" /></svg>\n"
      ]
     },
     "execution_count": 26,
     "metadata": {},
     "output_type": "execute_result"
    }
   ],
   "source": [
    "Random.seed!(10)\n",
    "m = 30\n",
    "s = 20\n",
    "S = 180\n",
    "h = 0.1\n",
    "c = 4.0\n",
    "p = 0.75\n",
    "K = 100\n",
    "k = 1.0\n",
    "init_S = 100\n",
    "average_demand = 20\n",
    "storage_cost_change = zeros(Float64, 6)\n",
    "prob_of_delivery_change = zeros(Float64, 6)\n",
    "fixed_order_cost_change = zeros(Float64, 6)\n",
    "\n",
    "\n",
    "for (i, storage_cost) in enumerate([0, 0.05, 0.1, 0.25, 0.5, 0.75])\n",
    "    results = DataFrame(simulateOneRun(m, s, S, h=h*(storage_cost + 1), c=c, p=p, K=K, k=k, init_S=init_S, average_demand=average_demand) for n in 1:1000)\n",
    "    storage_cost_change[i] = mean(results.profit)\n",
    "end\n",
    "\n",
    "for (i, prob_of_delivery) in enumerate([0, 0.05, 0.1, 0.25, 0.5, 0.75])\n",
    "    results = DataFrame(simulateOneRun(m, s, S, h=h, c=c, p=prob_of_delivery, K=K, k=k, init_S=init_S, average_demand=average_demand) for n in 1:1000)\n",
    "    prob_of_delivery_change[i] = mean(results.profit)\n",
    "end\n",
    "\n",
    "for (i, fixed_order_cost) in enumerate([0, 0.05, 0.1, 0.25, 0.5, 0.75])\n",
    "    results = DataFrame(simulateOneRun(m, s, S, h=h, c=c, p=p, K=K*(1+fixed_order_cost), k=k, init_S=init_S, average_demand=average_demand) for n in 1:1000)\n",
    "    fixed_order_cost_change[i] = mean(results.profit)\n",
    "end\n",
    "\n",
    "\n",
    "\n",
    "plot([0, 0.05, 0.1, 0.25, 0.5, 0.75], storage_cost_change, label=\"Change in storage costs\")\n",
    "plot!([0, 0.05, 0.1, 0.25, 0.5, 0.75], prob_of_delivery_change, label=\"Change in the probability of delivery of goods\")\n",
    "plot!([0, 0.05, 0.1, 0.25, 0.5, 0.75], fixed_order_cost_change, label=\"Change in cost per delivery\")\n",
    "title!(\"Chart of profit variation according to parameter level\")\n",
    "xlabel!(\"Change [%]\")\n",
    "ylabel!(\"Profit\")"
   ]
  },
  {
   "cell_type": "code",
   "execution_count": 27,
   "metadata": {},
   "outputs": [
    {
     "data": {
      "text/html": [
       "<div><div style = \"float: left;\"><span>6×2 DataFrame</span></div><div style = \"clear: both;\"></div></div><div class = \"data-frame\" style = \"overflow-x: scroll;\"><table class = \"data-frame\" style = \"margin-bottom: 6px;\"><thead><tr class = \"header\"><th class = \"rowNumber\" style = \"font-weight: bold; text-align: right;\">Row</th><th style = \"text-align: left;\">Profit</th><th style = \"text-align: left;\">Koszt_przechowania_jednostki_towaru</th></tr><tr class = \"subheader headerLastRow\"><th class = \"rowNumber\" style = \"font-weight: bold; text-align: right;\"></th><th title = \"Float64\" style = \"text-align: left;\">Float64</th><th title = \"Float64\" style = \"text-align: left;\">Float64</th></tr></thead><tbody><tr><td class = \"rowNumber\" style = \"font-weight: bold; text-align: right;\">1</td><td style = \"text-align: right;\">1311.78</td><td style = \"text-align: right;\">0.1</td></tr><tr><td class = \"rowNumber\" style = \"font-weight: bold; text-align: right;\">2</td><td style = \"text-align: right;\">1303.41</td><td style = \"text-align: right;\">0.105</td></tr><tr><td class = \"rowNumber\" style = \"font-weight: bold; text-align: right;\">3</td><td style = \"text-align: right;\">1280.75</td><td style = \"text-align: right;\">0.11</td></tr><tr><td class = \"rowNumber\" style = \"font-weight: bold; text-align: right;\">4</td><td style = \"text-align: right;\">1256.9</td><td style = \"text-align: right;\">0.125</td></tr><tr><td class = \"rowNumber\" style = \"font-weight: bold; text-align: right;\">5</td><td style = \"text-align: right;\">1217.25</td><td style = \"text-align: right;\">0.15</td></tr><tr><td class = \"rowNumber\" style = \"font-weight: bold; text-align: right;\">6</td><td style = \"text-align: right;\">1173.51</td><td style = \"text-align: right;\">0.175</td></tr></tbody></table></div>"
      ],
      "text/latex": [
       "\\begin{tabular}{r|cc}\n",
       "\t& Profit & Koszt\\_przechowania\\_jednostki\\_towaru\\\\\n",
       "\t\\hline\n",
       "\t& Float64 & Float64\\\\\n",
       "\t\\hline\n",
       "\t1 & 1311.78 & 0.1 \\\\\n",
       "\t2 & 1303.41 & 0.105 \\\\\n",
       "\t3 & 1280.75 & 0.11 \\\\\n",
       "\t4 & 1256.9 & 0.125 \\\\\n",
       "\t5 & 1217.25 & 0.15 \\\\\n",
       "\t6 & 1173.51 & 0.175 \\\\\n",
       "\\end{tabular}\n"
      ],
      "text/plain": [
       "\u001b[1m6×2 DataFrame\u001b[0m\n",
       "\u001b[1m Row \u001b[0m│\u001b[1m Profit  \u001b[0m\u001b[1m Koszt_przechowania_jednostki_towaru \u001b[0m\n",
       "     │\u001b[90m Float64 \u001b[0m\u001b[90m Float64                             \u001b[0m\n",
       "─────┼──────────────────────────────────────────────\n",
       "   1 │ 1311.78                                0.1\n",
       "   2 │ 1303.41                                0.105\n",
       "   3 │ 1280.75                                0.11\n",
       "   4 │ 1256.9                                 0.125\n",
       "   5 │ 1217.25                                0.15\n",
       "   6 │ 1173.51                                0.175"
      ]
     },
     "execution_count": 27,
     "metadata": {},
     "output_type": "execute_result"
    }
   ],
   "source": [
    "using DataFrames\n",
    "Profit = storage_cost_change\n",
    "koszt_przechowania_jednostki_towaru = [1, 1.05, 1.1, 1.25, 1.5, 1.75] .* 0.1\n",
    "df = DataFrame(Profit = Profit, Koszt_przechowania_jednostki_towaru = koszt_przechowania_jednostki_towaru)"
   ]
  },
  {
   "cell_type": "code",
   "execution_count": 28,
   "metadata": {},
   "outputs": [
    {
     "data": {
      "text/html": [
       "<div><div style = \"float: left;\"><span>6×2 DataFrame</span></div><div style = \"clear: both;\"></div></div><div class = \"data-frame\" style = \"overflow-x: scroll;\"><table class = \"data-frame\" style = \"margin-bottom: 6px;\"><thead><tr class = \"header\"><th class = \"rowNumber\" style = \"font-weight: bold; text-align: right;\">Row</th><th style = \"text-align: left;\">Profit</th><th style = \"text-align: left;\">Pradopodobieństwa_dostawy</th></tr><tr class = \"subheader headerLastRow\"><th class = \"rowNumber\" style = \"font-weight: bold; text-align: right;\"></th><th title = \"Float64\" style = \"text-align: left;\">Float64</th><th title = \"Float64\" style = \"text-align: left;\">Float64</th></tr></thead><tbody><tr><td class = \"rowNumber\" style = \"font-weight: bold; text-align: right;\">1</td><td style = \"text-align: right;\">389.446</td><td style = \"text-align: right;\">0.0</td></tr><tr><td class = \"rowNumber\" style = \"font-weight: bold; text-align: right;\">2</td><td style = \"text-align: right;\">662.208</td><td style = \"text-align: right;\">0.05</td></tr><tr><td class = \"rowNumber\" style = \"font-weight: bold; text-align: right;\">3</td><td style = \"text-align: right;\">807.51</td><td style = \"text-align: right;\">0.1</td></tr><tr><td class = \"rowNumber\" style = \"font-weight: bold; text-align: right;\">4</td><td style = \"text-align: right;\">1066.92</td><td style = \"text-align: right;\">0.25</td></tr><tr><td class = \"rowNumber\" style = \"font-weight: bold; text-align: right;\">5</td><td style = \"text-align: right;\">1218.09</td><td style = \"text-align: right;\">0.5</td></tr><tr><td class = \"rowNumber\" style = \"font-weight: bold; text-align: right;\">6</td><td style = \"text-align: right;\">1306.15</td><td style = \"text-align: right;\">0.75</td></tr></tbody></table></div>"
      ],
      "text/latex": [
       "\\begin{tabular}{r|cc}\n",
       "\t& Profit & Pradopodobieństwa\\_dostawy\\\\\n",
       "\t\\hline\n",
       "\t& Float64 & Float64\\\\\n",
       "\t\\hline\n",
       "\t1 & 389.446 & 0.0 \\\\\n",
       "\t2 & 662.208 & 0.05 \\\\\n",
       "\t3 & 807.51 & 0.1 \\\\\n",
       "\t4 & 1066.92 & 0.25 \\\\\n",
       "\t5 & 1218.09 & 0.5 \\\\\n",
       "\t6 & 1306.15 & 0.75 \\\\\n",
       "\\end{tabular}\n"
      ],
      "text/plain": [
       "\u001b[1m6×2 DataFrame\u001b[0m\n",
       "\u001b[1m Row \u001b[0m│\u001b[1m Profit   \u001b[0m\u001b[1m Pradopodobieństwa_dostawy \u001b[0m\n",
       "     │\u001b[90m Float64  \u001b[0m\u001b[90m Float64                   \u001b[0m\n",
       "─────┼─────────────────────────────────────\n",
       "   1 │  389.446                       0.0\n",
       "   2 │  662.208                       0.05\n",
       "   3 │  807.51                        0.1\n",
       "   4 │ 1066.92                        0.25\n",
       "   5 │ 1218.09                        0.5\n",
       "   6 │ 1306.15                        0.75"
      ]
     },
     "execution_count": 28,
     "metadata": {},
     "output_type": "execute_result"
    }
   ],
   "source": [
    "using DataFrames\n",
    "Profit = prob_of_delivery_change\n",
    "Zmiana_pradopodobieństwa_dostawy = [0, 0.05, 0.1, 0.25, 0.5, 0.75]\n",
    "df = DataFrame(Profit = Profit, Pradopodobieństwa_dostawy = Zmiana_pradopodobieństwa_dostawy)"
   ]
  },
  {
   "cell_type": "code",
   "execution_count": 29,
   "metadata": {},
   "outputs": [
    {
     "data": {
      "text/html": [
       "<div><div style = \"float: left;\"><span>6×2 DataFrame</span></div><div style = \"clear: both;\"></div></div><div class = \"data-frame\" style = \"overflow-x: scroll;\"><table class = \"data-frame\" style = \"margin-bottom: 6px;\"><thead><tr class = \"header\"><th class = \"rowNumber\" style = \"font-weight: bold; text-align: right;\">Row</th><th style = \"text-align: left;\">Profit</th><th style = \"text-align: left;\">Zmiana_kosztow_dostawy</th></tr><tr class = \"subheader headerLastRow\"><th class = \"rowNumber\" style = \"font-weight: bold; text-align: right;\"></th><th title = \"Float64\" style = \"text-align: left;\">Float64</th><th title = \"Float64\" style = \"text-align: left;\">Float64</th></tr></thead><tbody><tr><td class = \"rowNumber\" style = \"font-weight: bold; text-align: right;\">1</td><td style = \"text-align: right;\">1303.32</td><td style = \"text-align: right;\">100.0</td></tr><tr><td class = \"rowNumber\" style = \"font-weight: bold; text-align: right;\">2</td><td style = \"text-align: right;\">1289.1</td><td style = \"text-align: right;\">105.0</td></tr><tr><td class = \"rowNumber\" style = \"font-weight: bold; text-align: right;\">3</td><td style = \"text-align: right;\">1280.83</td><td style = \"text-align: right;\">110.0</td></tr><tr><td class = \"rowNumber\" style = \"font-weight: bold; text-align: right;\">4</td><td style = \"text-align: right;\">1226.6</td><td style = \"text-align: right;\">125.0</td></tr><tr><td class = \"rowNumber\" style = \"font-weight: bold; text-align: right;\">5</td><td style = \"text-align: right;\">1150.85</td><td style = \"text-align: right;\">150.0</td></tr><tr><td class = \"rowNumber\" style = \"font-weight: bold; text-align: right;\">6</td><td style = \"text-align: right;\">1074.9</td><td style = \"text-align: right;\">175.0</td></tr></tbody></table></div>"
      ],
      "text/latex": [
       "\\begin{tabular}{r|cc}\n",
       "\t& Profit & Zmiana\\_kosztow\\_dostawy\\\\\n",
       "\t\\hline\n",
       "\t& Float64 & Float64\\\\\n",
       "\t\\hline\n",
       "\t1 & 1303.32 & 100.0 \\\\\n",
       "\t2 & 1289.1 & 105.0 \\\\\n",
       "\t3 & 1280.83 & 110.0 \\\\\n",
       "\t4 & 1226.6 & 125.0 \\\\\n",
       "\t5 & 1150.85 & 150.0 \\\\\n",
       "\t6 & 1074.9 & 175.0 \\\\\n",
       "\\end{tabular}\n"
      ],
      "text/plain": [
       "\u001b[1m6×2 DataFrame\u001b[0m\n",
       "\u001b[1m Row \u001b[0m│\u001b[1m Profit  \u001b[0m\u001b[1m Zmiana_kosztow_dostawy \u001b[0m\n",
       "     │\u001b[90m Float64 \u001b[0m\u001b[90m Float64                \u001b[0m\n",
       "─────┼─────────────────────────────────\n",
       "   1 │ 1303.32                   100.0\n",
       "   2 │ 1289.1                    105.0\n",
       "   3 │ 1280.83                   110.0\n",
       "   4 │ 1226.6                    125.0\n",
       "   5 │ 1150.85                   150.0\n",
       "   6 │ 1074.9                    175.0"
      ]
     },
     "execution_count": 29,
     "metadata": {},
     "output_type": "execute_result"
    }
   ],
   "source": [
    "using DataFrames\n",
    "Profit = fixed_order_cost_change\n",
    "Zmiana_kosztow_dostawy = [1, 1.05, 1.1, 1.25, 1.5, 1.75] .* 100\n",
    "df = DataFrame(Profit = Profit, Zmiana_kosztow_dostawy = Zmiana_kosztow_dostawy)"
   ]
  }
 ],
 "metadata": {
  "kernelspec": {
   "display_name": "Julia 1.8.5",
   "language": "julia",
   "name": "julia-1.8"
  },
  "language_info": {
   "file_extension": ".jl",
   "mimetype": "application/julia",
   "name": "julia",
   "version": "1.8.5"
  }
 },
 "nbformat": 4,
 "nbformat_minor": 2
}
